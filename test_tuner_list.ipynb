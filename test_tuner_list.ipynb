{
 "cells": [
  {
   "cell_type": "code",
   "id": "initial_id",
   "metadata": {
    "collapsed": true,
    "ExecuteTime": {
     "end_time": "2025-10-01T12:26:59.433287Z",
     "start_time": "2025-10-01T12:26:59.053858Z"
    }
   },
   "source": [
    "from utility.jobshop_model_transport import FJTransportProblem\n",
    "from utility.utility import tune_list\n",
    "from utility.costant import *"
   ],
   "outputs": [],
   "execution_count": 1
  },
  {
   "metadata": {
    "ExecuteTime": {
     "end_time": "2025-10-01T12:26:59.609391Z",
     "start_time": "2025-10-01T12:26:59.583642Z"
    }
   },
   "cell_type": "code",
   "source": [
    "# sm = []\n",
    "# #first problem\n",
    "# problem = FJTransportProblem(symmetry_breaking=True)\n",
    "# problem.add_human()\n",
    "# problem.set_dur_hum(HUMAN_JOBS_TIME)\n",
    "# problem.add_robot()\n",
    "# problem.set_dur_robot(ROBOT_JOBS_TIME)\n",
    "#\n",
    "# id_kit_1 = problem.add_workstation(WS_KITTING)\n",
    "# id_kit_2 = problem.add_workstation(WS_KITTING)\n",
    "# id_grip = problem.add_workstation(WS_BUILDING_1)\n",
    "# id_gs = problem.add_workstation(WS_BUILDING_2)\n",
    "# id_gs_2 = problem.add_workstation(WS_BUILDING_2)\n",
    "# id_pal = problem.add_workstation(WS_PALLETTING)\n",
    "# id_pal_2 = problem.add_workstation(WS_PALLETTING)\n",
    "#\n",
    "# problem.add_transport(id_kit_1, id_grip)\n",
    "# problem.add_transport(id_grip, id_gs)\n",
    "# problem.add_transport(id_gs, id_pal)\n",
    "# problem.add_transport(id_kit_2, id_gs_2)\n",
    "# problem.add_transport(id_gs_2, id_pal_2)\n",
    "#\n",
    "# problem.set_t_conv(3)\n",
    "# problem.add_items_to_build(FLASHLIGHT_CLIPPED,1)\n",
    "# problem.add_items_to_build(FLASHLIGHT_SCREWS,1)\n",
    "# problem.model_problem()\n",
    "# sm.append(problem.m)\n",
    "#\n",
    "# #second problem\n",
    "# problem = FJTransportProblem(symmetry_breaking=True)\n",
    "# problem.add_human()\n",
    "# problem.set_dur_hum(HUMAN_JOBS_TIME)\n",
    "# problem.add_robot()\n",
    "# problem.set_dur_robot(ROBOT_JOBS_TIME)\n",
    "#\n",
    "# id_kit_1 = problem.add_workstation(WS_KITTING)\n",
    "# id_kit_2 = problem.add_workstation(WS_KITTING)\n",
    "# id_grip = problem.add_workstation(WS_BUILDING_1)\n",
    "# id_gs = problem.add_workstation(WS_BUILDING_2)\n",
    "# id_gs_2 = problem.add_workstation(WS_BUILDING_2)\n",
    "# id_pal = problem.add_workstation(WS_PALLETTING)\n",
    "# id_pal_2 = problem.add_workstation(WS_PALLETTING)\n",
    "#\n",
    "# problem.add_transport(id_kit_1, id_grip)\n",
    "# problem.add_transport(id_grip, id_gs)\n",
    "# problem.add_transport(id_gs, id_pal)\n",
    "# problem.add_transport(id_kit_2, id_gs_2)\n",
    "# problem.add_transport(id_gs_2, id_pal_2)\n",
    "#\n",
    "# problem.set_t_conv(3)\n",
    "# problem.add_items_to_build(FLASHLIGHT_CLIPPED,1)\n",
    "# problem.add_items_to_build(FLASHLIGHT_SCREWS,1)\n",
    "# problem.model_problem()\n",
    "#\n",
    "# sm.append(problem.m)\n",
    "#\n",
    "#\n",
    "# #third problem\n",
    "# problem = FJTransportProblem(symmetry_breaking=True)\n",
    "# problem.add_human()\n",
    "# problem.set_dur_hum(HUMAN_JOBS_TIME)\n",
    "# problem.add_robot()\n",
    "# problem.set_dur_robot(ROBOT_JOBS_TIME)\n",
    "#\n",
    "# id_kit_1 = problem.add_workstation(WS_KITTING)\n",
    "# id_grip = problem.add_workstation(WS_BUILDING_1)\n",
    "# id_gs = problem.add_workstation(WS_BUILDING_2)\n",
    "# id_pal = problem.add_workstation(WS_PALLETTING)\n",
    "# id_pal_2 = problem.add_workstation(WS_PALLETTING)\n",
    "#\n",
    "# problem.add_transport(id_kit_1, id_grip)\n",
    "# problem.add_transport(id_grip, id_gs)\n",
    "# problem.add_transport(id_gs, id_pal)\n",
    "#\n",
    "# problem.set_t_conv(3)\n",
    "# problem.add_items_to_build(FLASHLIGHT_CLIPPED,1)\n",
    "# problem.add_items_to_build(FLASHLIGHT_SCREWS,1)\n",
    "# problem.model_problem()\n",
    "#\n",
    "# sm.append(problem.m)\n",
    "#\n",
    "# #fifth problem\n",
    "# problem.add_human()\n",
    "# problem.set_dur_hum(HUMAN_JOBS_TIME)\n",
    "# problem.add_robot()\n",
    "# problem.set_dur_robot(ROBOT_JOBS_TIME)\n",
    "#\n",
    "# id_kit_1 = problem.add_workstation(WS_KITTING)\n",
    "# id_kit_2 = problem.add_workstation(WS_KITTING)\n",
    "# id_kit_3 = problem.add_workstation(WS_KITTING)\n",
    "# id_grip = problem.add_workstation(WS_BUILDING_1)\n",
    "# id_gs = problem.add_workstation(WS_BUILDING_2)\n",
    "# id_gs_2 = problem.add_workstation(WS_BUILDING_2)\n",
    "# id_pal = problem.add_workstation(WS_PALLETTING)\n",
    "# id_pal_2 = problem.add_workstation(WS_PALLETTING)\n",
    "#\n",
    "# problem.add_transport(id_kit_3,id_grip)\n",
    "# problem.add_transport(id_kit_1, id_grip)\n",
    "# problem.add_transport(id_grip, id_gs)\n",
    "# problem.add_transport(id_gs, id_pal)\n",
    "# problem.add_transport(id_kit_2, id_gs_2)\n",
    "# problem.add_transport(id_gs_2, id_pal_2)\n",
    "#\n",
    "# problem.set_t_conv(3)\n",
    "# problem.add_items_to_build(FLASHLIGHT_CLIPPED,1)\n",
    "# problem.add_items_to_build(FLASHLIGHT_SCREWS,1)\n",
    "# problem.model_problem()\n",
    "#\n",
    "# sm.append(problem.m)\n",
    "\n",
    "\n"
   ],
   "id": "9851f14d3fc29e99",
   "outputs": [],
   "execution_count": 2
  },
  {
   "metadata": {
    "ExecuteTime": {
     "start_time": "2025-10-01T12:27:01.946074Z"
    }
   },
   "cell_type": "code",
   "source": [
    "from utility.utility import tune\n",
    "\n",
    "params = {  'optimize_with_core' : [False, True],\n",
    "            'search_branching': [0,1,2,3,4,5,6],\n",
    "            'boolean_encoding_level' : [0,1,2,3],\n",
    "            'linearization_level': [0, 1, 2],\n",
    "            'core_minimization_level' : [0,1,2], # new in OR-tools>= v9.8\n",
    "            'cp_model_probing_level': [0, 1, 2, 3],\n",
    "            'cp_model_presolve' : [False, True],\n",
    "            'clause_cleanup_ordering' : [0,1],\n",
    "            'binary_minimization_algorithm' : [0,1,2,3,4],\n",
    "            'minimization_algorithm' : [0,1,2,3],\n",
    "            'use_phase_saving' : [False, True],\n",
    "            'symmetry_level': [1, 2, 3, 4],\n",
    "            'use_dynamic_precedence_in_cumulative': [False, True],\n",
    "            'use_overload_checker_in_cumulative':  [False, True],\n",
    "            'use_timetable_edge_finding_in_cumulative': [False, True],\n",
    "            'use_disjunctive_constraint_in_cumulative': [False, True]\n",
    "        }\n",
    "\n",
    "defaults = {\n",
    "            'optimize_with_core': False,\n",
    "            'search_branching': 0,\n",
    "            'boolean_encoding_level': 1,\n",
    "            'linearization_level': 1,\n",
    "            'core_minimization_level': 2,# new in OR-tools>=v9.8\n",
    "            'cp_model_probing_level': 2,\n",
    "            'cp_model_presolve': True,\n",
    "            'clause_cleanup_ordering': 0,\n",
    "            'binary_minimization_algorithm': 1,\n",
    "            'minimization_algorithm': 2,\n",
    "            'use_phase_saving': True,\n",
    "            'symmetry_level': 2,\n",
    "            'use_dynamic_precedence_in_cumulative': False,\n",
    "            'use_overload_checker_in_cumulative':  False,\n",
    "            'use_timetable_edge_finding_in_cumulative': False,\n",
    "            'use_disjunctive_constraint_in_cumulative': True\n",
    "        }\n",
    "\n",
    "best_params = tune(sm)"
   ],
   "id": "2ba9d9cb153a6ae8",
   "outputs": [],
   "execution_count": null
  },
  {
   "metadata": {
    "ExecuteTime": {
     "end_time": "2025-10-01T09:20:55.719954516Z",
     "start_time": "2025-09-30T14:09:30.743839Z"
    }
   },
   "cell_type": "code",
   "source": [
    "problem = FJTransportProblem(symmetry_breaking=True)\n",
    "problem.add_human()\n",
    "problem.set_dur_hum(HUMAN_JOBS_TIME)\n",
    "problem.add_robot()\n",
    "problem.set_dur_robot(ROBOT_JOBS_TIME)\n",
    "\n",
    "id_kit_1 = problem.add_workstation(WS_KITTING)\n",
    "id_kit_2 = problem.add_workstation(WS_KITTING)\n",
    "id_grip = problem.add_workstation(WS_BUILDING_1)\n",
    "id_gs = problem.add_workstation(WS_BUILDING_2)\n",
    "id_pal = problem.add_workstation(WS_PALLETTING)\n",
    "\n",
    "problem.add_transport(id_kit_1, id_grip)\n",
    "problem.add_transport(id_grip, id_gs)\n",
    "problem.add_transport(id_gs, id_pal)\n",
    "\n",
    "problem.set_t_conv(3)\n",
    "problem.add_items_to_build(FLASHLIGHT_CLIPPED,7)\n",
    "problem.add_items_to_build(FLASHLIGHT_SCREWS,7)\n",
    "\n",
    "# problem.make_ws_topology()"
   ],
   "id": "a47934d44d8b085e",
   "outputs": [],
   "execution_count": 7
  },
  {
   "metadata": {
    "ExecuteTime": {
     "end_time": "2025-10-01T09:20:55.720424251Z",
     "start_time": "2025-09-30T14:09:30.793656Z"
    }
   },
   "cell_type": "code",
   "source": [
    "import numpy as np\n",
    "\n",
    "problem.model_problem()\n",
    "best_params =  {'optimize_with_core': np.int64(0), 'search_branching': np.int64(0), 'boolean_encoding_level': np.int64(3), 'linearization_level': np.int64(1), 'core_minimization_level': np.int64(2), 'cp_model_probing_level': np.int64(2), 'cp_model_presolve': np.int64(1), 'clause_cleanup_ordering': np.int64(0), 'binary_minimization_algorithm': np.int64(2), 'minimization_algorithm': np.int64(2), 'use_phase_saving': np.int64(1), 'symmetry_level': np.int64(2), 'use_dynamic_precedence_in_cumulative': np.int64(0), 'use_overload_checker_in_cumulative': np.int64(0), 'use_timetable_edge_finding_in_cumulative': np.int64(0), 'use_disjunctive_constraint_in_cumulative': np.int64(1)}\n",
    "\n",
    "problem.solve(params=best_params)"
   ],
   "id": "9288de9d98e0fc02",
   "outputs": [
    {
     "name": "stdout",
     "output_type": "stream",
     "text": [
      "Solution found with makespan: 161\n",
      "Computational time: 814.336 seconds\n"
     ]
    }
   ],
   "execution_count": 8
  },
  {
   "metadata": {
    "ExecuteTime": {
     "end_time": "2025-10-01T09:20:55.720783165Z",
     "start_time": "2025-09-30T13:29:18.707814Z"
    }
   },
   "cell_type": "code",
   "source": "",
   "id": "d26494db0bb11431",
   "outputs": [],
   "execution_count": null
  }
 ],
 "metadata": {
  "kernelspec": {
   "display_name": "Python 3",
   "language": "python",
   "name": "python3"
  },
  "language_info": {
   "codemirror_mode": {
    "name": "ipython",
    "version": 2
   },
   "file_extension": ".py",
   "mimetype": "text/x-python",
   "name": "python",
   "nbconvert_exporter": "python",
   "pygments_lexer": "ipython2",
   "version": "2.7.6"
  }
 },
 "nbformat": 4,
 "nbformat_minor": 5
}
