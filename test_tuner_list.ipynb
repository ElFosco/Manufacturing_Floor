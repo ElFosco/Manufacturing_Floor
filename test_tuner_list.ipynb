{
 "cells": [
  {
   "cell_type": "code",
   "id": "initial_id",
   "metadata": {
    "collapsed": true,
    "ExecuteTime": {
     "end_time": "2025-10-01T15:10:12.035604Z",
     "start_time": "2025-10-01T15:10:11.343989Z"
    }
   },
   "source": [
    "from utility.jobshop_model_transport import FJTransportProblem\n",
    "from utility.costant import *\n",
    "from utility.utility_classes import BatchTuner"
   ],
   "outputs": [],
   "execution_count": 1
  },
  {
   "metadata": {
    "ExecuteTime": {
     "end_time": "2025-10-01T15:10:12.550999Z",
     "start_time": "2025-10-01T15:10:12.547920Z"
    }
   },
   "cell_type": "code",
   "source": [
    "params = {  'optimize_with_core' : [False, True],\n",
    "            'search_branching': [0,1,2,3,4,5,6],\n",
    "            'boolean_encoding_level' : [0,1,2,3],\n",
    "            'linearization_level': [0, 1, 2],\n",
    "            'core_minimization_level' : [0,1,2],\n",
    "            'cp_model_probing_level': [0, 1, 2, 3],\n",
    "            'cp_model_presolve' : [False, True],\n",
    "            'clause_cleanup_ordering' : [0,1],\n",
    "            'binary_minimization_algorithm' : [0,1,2,3,4],\n",
    "            'minimization_algorithm' : [0,1,2,3],\n",
    "            'use_phase_saving' : [False, True],\n",
    "            'symmetry_level': [1, 2, 3, 4],\n",
    "            'use_dynamic_precedence_in_cumulative': [False, True],\n",
    "            'use_overload_checker_in_cumulative':  [False, True],\n",
    "            'use_timetable_edge_finding_in_cumulative': [False, True],\n",
    "            'use_disjunctive_constraint_in_cumulative': [False, True]\n",
    "        }\n",
    "\n",
    "defaults = {\n",
    "            'optimize_with_core': False,\n",
    "            'search_branching': 0,\n",
    "            'boolean_encoding_level': 1,\n",
    "            'linearization_level': 1,\n",
    "            'core_minimization_level': 2,\n",
    "            'cp_model_probing_level': 2,\n",
    "            'cp_model_presolve': True,\n",
    "            'clause_cleanup_ordering': 0,\n",
    "            'binary_minimization_algorithm': 1,\n",
    "            'minimization_algorithm': 2,\n",
    "            'use_phase_saving': True,\n",
    "            'symmetry_level': 2,\n",
    "            'use_dynamic_precedence_in_cumulative': False,\n",
    "            'use_overload_checker_in_cumulative':  False,\n",
    "            'use_timetable_edge_finding_in_cumulative': False,\n",
    "            'use_disjunctive_constraint_in_cumulative': True\n",
    "        }\n",
    "\n",
    "tuner = BatchTuner(params=params,default_vals=defaults)"
   ],
   "id": "db4af4de3aebd4d3",
   "outputs": [],
   "execution_count": 2
  },
  {
   "metadata": {
    "ExecuteTime": {
     "end_time": "2025-10-01T15:10:14.193873Z",
     "start_time": "2025-10-01T15:10:14.051817Z"
    }
   },
   "cell_type": "code",
   "source": [
    "#first problem\n",
    "problem = FJTransportProblem(symmetry_breaking=True)\n",
    "problem.add_human()\n",
    "problem.set_dur_hum(HUMAN_JOBS_TIME)\n",
    "problem.add_robot()\n",
    "problem.set_dur_robot(ROBOT_JOBS_TIME)\n",
    "\n",
    "id_kit_1 = problem.add_workstation(WS_KITTING)\n",
    "id_kit_2 = problem.add_workstation(WS_KITTING)\n",
    "id_grip = problem.add_workstation(WS_BUILDING_1)\n",
    "id_gs = problem.add_workstation(WS_BUILDING_2)\n",
    "id_gs_2 = problem.add_workstation(WS_BUILDING_2)\n",
    "id_pal = problem.add_workstation(WS_PALLETTING)\n",
    "id_pal_2 = problem.add_workstation(WS_PALLETTING)\n",
    "\n",
    "problem.add_transport(id_kit_1, id_grip)\n",
    "problem.add_transport(id_grip, id_gs)\n",
    "problem.add_transport(id_gs, id_pal)\n",
    "problem.add_transport(id_kit_2, id_gs_2)\n",
    "problem.add_transport(id_gs_2, id_pal_2)\n",
    "\n",
    "problem.set_t_conv(3)\n",
    "problem.add_items_to_build(FLASHLIGHT_CLIPPED,6)\n",
    "problem.add_items_to_build(FLASHLIGHT_SCREWS,6)\n",
    "problem.model_problem()\n",
    "problem.make_ws_topology()\n",
    "\n",
    "tuner.add_problem(problem.m)"
   ],
   "id": "2a19d8f99bbb708",
   "outputs": [
    {
     "data": {
      "application/vnd.plotly.v1+json": {
       "data": [],
       "layout": {
        "template": {
         "data": {
          "histogram2dcontour": [
           {
            "type": "histogram2dcontour",
            "colorbar": {
             "outlinewidth": 0,
             "ticks": ""
            },
            "colorscale": [
             [
              0.0,
              "#0d0887"
             ],
             [
              0.1111111111111111,
              "#46039f"
             ],
             [
              0.2222222222222222,
              "#7201a8"
             ],
             [
              0.3333333333333333,
              "#9c179e"
             ],
             [
              0.4444444444444444,
              "#bd3786"
             ],
             [
              0.5555555555555556,
              "#d8576b"
             ],
             [
              0.6666666666666666,
              "#ed7953"
             ],
             [
              0.7777777777777778,
              "#fb9f3a"
             ],
             [
              0.8888888888888888,
              "#fdca26"
             ],
             [
              1.0,
              "#f0f921"
             ]
            ]
           }
          ],
          "choropleth": [
           {
            "type": "choropleth",
            "colorbar": {
             "outlinewidth": 0,
             "ticks": ""
            }
           }
          ],
          "histogram2d": [
           {
            "type": "histogram2d",
            "colorbar": {
             "outlinewidth": 0,
             "ticks": ""
            },
            "colorscale": [
             [
              0.0,
              "#0d0887"
             ],
             [
              0.1111111111111111,
              "#46039f"
             ],
             [
              0.2222222222222222,
              "#7201a8"
             ],
             [
              0.3333333333333333,
              "#9c179e"
             ],
             [
              0.4444444444444444,
              "#bd3786"
             ],
             [
              0.5555555555555556,
              "#d8576b"
             ],
             [
              0.6666666666666666,
              "#ed7953"
             ],
             [
              0.7777777777777778,
              "#fb9f3a"
             ],
             [
              0.8888888888888888,
              "#fdca26"
             ],
             [
              1.0,
              "#f0f921"
             ]
            ]
           }
          ],
          "heatmap": [
           {
            "type": "heatmap",
            "colorbar": {
             "outlinewidth": 0,
             "ticks": ""
            },
            "colorscale": [
             [
              0.0,
              "#0d0887"
             ],
             [
              0.1111111111111111,
              "#46039f"
             ],
             [
              0.2222222222222222,
              "#7201a8"
             ],
             [
              0.3333333333333333,
              "#9c179e"
             ],
             [
              0.4444444444444444,
              "#bd3786"
             ],
             [
              0.5555555555555556,
              "#d8576b"
             ],
             [
              0.6666666666666666,
              "#ed7953"
             ],
             [
              0.7777777777777778,
              "#fb9f3a"
             ],
             [
              0.8888888888888888,
              "#fdca26"
             ],
             [
              1.0,
              "#f0f921"
             ]
            ]
           }
          ],
          "contourcarpet": [
           {
            "type": "contourcarpet",
            "colorbar": {
             "outlinewidth": 0,
             "ticks": ""
            }
           }
          ],
          "contour": [
           {
            "type": "contour",
            "colorbar": {
             "outlinewidth": 0,
             "ticks": ""
            },
            "colorscale": [
             [
              0.0,
              "#0d0887"
             ],
             [
              0.1111111111111111,
              "#46039f"
             ],
             [
              0.2222222222222222,
              "#7201a8"
             ],
             [
              0.3333333333333333,
              "#9c179e"
             ],
             [
              0.4444444444444444,
              "#bd3786"
             ],
             [
              0.5555555555555556,
              "#d8576b"
             ],
             [
              0.6666666666666666,
              "#ed7953"
             ],
             [
              0.7777777777777778,
              "#fb9f3a"
             ],
             [
              0.8888888888888888,
              "#fdca26"
             ],
             [
              1.0,
              "#f0f921"
             ]
            ]
           }
          ],
          "surface": [
           {
            "type": "surface",
            "colorbar": {
             "outlinewidth": 0,
             "ticks": ""
            },
            "colorscale": [
             [
              0.0,
              "#0d0887"
             ],
             [
              0.1111111111111111,
              "#46039f"
             ],
             [
              0.2222222222222222,
              "#7201a8"
             ],
             [
              0.3333333333333333,
              "#9c179e"
             ],
             [
              0.4444444444444444,
              "#bd3786"
             ],
             [
              0.5555555555555556,
              "#d8576b"
             ],
             [
              0.6666666666666666,
              "#ed7953"
             ],
             [
              0.7777777777777778,
              "#fb9f3a"
             ],
             [
              0.8888888888888888,
              "#fdca26"
             ],
             [
              1.0,
              "#f0f921"
             ]
            ]
           }
          ],
          "mesh3d": [
           {
            "type": "mesh3d",
            "colorbar": {
             "outlinewidth": 0,
             "ticks": ""
            }
           }
          ],
          "scatter": [
           {
            "fillpattern": {
             "fillmode": "overlay",
             "size": 10,
             "solidity": 0.2
            },
            "type": "scatter"
           }
          ],
          "parcoords": [
           {
            "type": "parcoords",
            "line": {
             "colorbar": {
              "outlinewidth": 0,
              "ticks": ""
             }
            }
           }
          ],
          "scatterpolargl": [
           {
            "type": "scatterpolargl",
            "marker": {
             "colorbar": {
              "outlinewidth": 0,
              "ticks": ""
             }
            }
           }
          ],
          "bar": [
           {
            "error_x": {
             "color": "#2a3f5f"
            },
            "error_y": {
             "color": "#2a3f5f"
            },
            "marker": {
             "line": {
              "color": "#E5ECF6",
              "width": 0.5
             },
             "pattern": {
              "fillmode": "overlay",
              "size": 10,
              "solidity": 0.2
             }
            },
            "type": "bar"
           }
          ],
          "scattergeo": [
           {
            "type": "scattergeo",
            "marker": {
             "colorbar": {
              "outlinewidth": 0,
              "ticks": ""
             }
            }
           }
          ],
          "scatterpolar": [
           {
            "type": "scatterpolar",
            "marker": {
             "colorbar": {
              "outlinewidth": 0,
              "ticks": ""
             }
            }
           }
          ],
          "histogram": [
           {
            "marker": {
             "pattern": {
              "fillmode": "overlay",
              "size": 10,
              "solidity": 0.2
             }
            },
            "type": "histogram"
           }
          ],
          "scattergl": [
           {
            "type": "scattergl",
            "marker": {
             "colorbar": {
              "outlinewidth": 0,
              "ticks": ""
             }
            }
           }
          ],
          "scatter3d": [
           {
            "type": "scatter3d",
            "line": {
             "colorbar": {
              "outlinewidth": 0,
              "ticks": ""
             }
            },
            "marker": {
             "colorbar": {
              "outlinewidth": 0,
              "ticks": ""
             }
            }
           }
          ],
          "scattermap": [
           {
            "type": "scattermap",
            "marker": {
             "colorbar": {
              "outlinewidth": 0,
              "ticks": ""
             }
            }
           }
          ],
          "scattermapbox": [
           {
            "type": "scattermapbox",
            "marker": {
             "colorbar": {
              "outlinewidth": 0,
              "ticks": ""
             }
            }
           }
          ],
          "scatterternary": [
           {
            "type": "scatterternary",
            "marker": {
             "colorbar": {
              "outlinewidth": 0,
              "ticks": ""
             }
            }
           }
          ],
          "scattercarpet": [
           {
            "type": "scattercarpet",
            "marker": {
             "colorbar": {
              "outlinewidth": 0,
              "ticks": ""
             }
            }
           }
          ],
          "carpet": [
           {
            "aaxis": {
             "endlinecolor": "#2a3f5f",
             "gridcolor": "white",
             "linecolor": "white",
             "minorgridcolor": "white",
             "startlinecolor": "#2a3f5f"
            },
            "baxis": {
             "endlinecolor": "#2a3f5f",
             "gridcolor": "white",
             "linecolor": "white",
             "minorgridcolor": "white",
             "startlinecolor": "#2a3f5f"
            },
            "type": "carpet"
           }
          ],
          "table": [
           {
            "cells": {
             "fill": {
              "color": "#EBF0F8"
             },
             "line": {
              "color": "white"
             }
            },
            "header": {
             "fill": {
              "color": "#C8D4E3"
             },
             "line": {
              "color": "white"
             }
            },
            "type": "table"
           }
          ],
          "barpolar": [
           {
            "marker": {
             "line": {
              "color": "#E5ECF6",
              "width": 0.5
             },
             "pattern": {
              "fillmode": "overlay",
              "size": 10,
              "solidity": 0.2
             }
            },
            "type": "barpolar"
           }
          ],
          "pie": [
           {
            "automargin": true,
            "type": "pie"
           }
          ]
         },
         "layout": {
          "autotypenumbers": "strict",
          "colorway": [
           "#636efa",
           "#EF553B",
           "#00cc96",
           "#ab63fa",
           "#FFA15A",
           "#19d3f3",
           "#FF6692",
           "#B6E880",
           "#FF97FF",
           "#FECB52"
          ],
          "font": {
           "color": "#2a3f5f"
          },
          "hovermode": "closest",
          "hoverlabel": {
           "align": "left"
          },
          "paper_bgcolor": "white",
          "plot_bgcolor": "#E5ECF6",
          "polar": {
           "bgcolor": "#E5ECF6",
           "angularaxis": {
            "gridcolor": "white",
            "linecolor": "white",
            "ticks": ""
           },
           "radialaxis": {
            "gridcolor": "white",
            "linecolor": "white",
            "ticks": ""
           }
          },
          "ternary": {
           "bgcolor": "#E5ECF6",
           "aaxis": {
            "gridcolor": "white",
            "linecolor": "white",
            "ticks": ""
           },
           "baxis": {
            "gridcolor": "white",
            "linecolor": "white",
            "ticks": ""
           },
           "caxis": {
            "gridcolor": "white",
            "linecolor": "white",
            "ticks": ""
           }
          },
          "coloraxis": {
           "colorbar": {
            "outlinewidth": 0,
            "ticks": ""
           }
          },
          "colorscale": {
           "sequential": [
            [
             0.0,
             "#0d0887"
            ],
            [
             0.1111111111111111,
             "#46039f"
            ],
            [
             0.2222222222222222,
             "#7201a8"
            ],
            [
             0.3333333333333333,
             "#9c179e"
            ],
            [
             0.4444444444444444,
             "#bd3786"
            ],
            [
             0.5555555555555556,
             "#d8576b"
            ],
            [
             0.6666666666666666,
             "#ed7953"
            ],
            [
             0.7777777777777778,
             "#fb9f3a"
            ],
            [
             0.8888888888888888,
             "#fdca26"
            ],
            [
             1.0,
             "#f0f921"
            ]
           ],
           "sequentialminus": [
            [
             0.0,
             "#0d0887"
            ],
            [
             0.1111111111111111,
             "#46039f"
            ],
            [
             0.2222222222222222,
             "#7201a8"
            ],
            [
             0.3333333333333333,
             "#9c179e"
            ],
            [
             0.4444444444444444,
             "#bd3786"
            ],
            [
             0.5555555555555556,
             "#d8576b"
            ],
            [
             0.6666666666666666,
             "#ed7953"
            ],
            [
             0.7777777777777778,
             "#fb9f3a"
            ],
            [
             0.8888888888888888,
             "#fdca26"
            ],
            [
             1.0,
             "#f0f921"
            ]
           ],
           "diverging": [
            [
             0,
             "#8e0152"
            ],
            [
             0.1,
             "#c51b7d"
            ],
            [
             0.2,
             "#de77ae"
            ],
            [
             0.3,
             "#f1b6da"
            ],
            [
             0.4,
             "#fde0ef"
            ],
            [
             0.5,
             "#f7f7f7"
            ],
            [
             0.6,
             "#e6f5d0"
            ],
            [
             0.7,
             "#b8e186"
            ],
            [
             0.8,
             "#7fbc41"
            ],
            [
             0.9,
             "#4d9221"
            ],
            [
             1,
             "#276419"
            ]
           ]
          },
          "xaxis": {
           "gridcolor": "white",
           "linecolor": "white",
           "ticks": "",
           "title": {
            "standoff": 15
           },
           "zerolinecolor": "white",
           "automargin": true,
           "zerolinewidth": 2
          },
          "yaxis": {
           "gridcolor": "white",
           "linecolor": "white",
           "ticks": "",
           "title": {
            "standoff": 15
           },
           "zerolinecolor": "white",
           "automargin": true,
           "zerolinewidth": 2
          },
          "scene": {
           "xaxis": {
            "backgroundcolor": "#E5ECF6",
            "gridcolor": "white",
            "linecolor": "white",
            "showbackground": true,
            "ticks": "",
            "zerolinecolor": "white",
            "gridwidth": 2
           },
           "yaxis": {
            "backgroundcolor": "#E5ECF6",
            "gridcolor": "white",
            "linecolor": "white",
            "showbackground": true,
            "ticks": "",
            "zerolinecolor": "white",
            "gridwidth": 2
           },
           "zaxis": {
            "backgroundcolor": "#E5ECF6",
            "gridcolor": "white",
            "linecolor": "white",
            "showbackground": true,
            "ticks": "",
            "zerolinecolor": "white",
            "gridwidth": 2
           }
          },
          "shapedefaults": {
           "line": {
            "color": "#2a3f5f"
           }
          },
          "annotationdefaults": {
           "arrowcolor": "#2a3f5f",
           "arrowhead": 0,
           "arrowwidth": 1
          },
          "geo": {
           "bgcolor": "white",
           "landcolor": "#E5ECF6",
           "subunitcolor": "white",
           "showland": true,
           "showlakes": true,
           "lakecolor": "white"
          },
          "title": {
           "x": 0.05
          },
          "mapbox": {
           "style": "light"
          }
         }
        },
        "title": {
         "font": {
          "size": 27
         },
         "pad": {
          "t": 0,
          "b": 0,
          "l": 0,
          "r": 0
         },
         "text": "Workstation Topology",
         "x": 0.5,
         "xanchor": "center"
        },
        "xaxis": {
         "visible": false,
         "range": [
          -3.1875,
          16.4375
         ]
        },
        "yaxis": {
         "visible": false,
         "range": [
          -2.9375,
          5.5625
         ],
         "scaleanchor": "x",
         "scaleratio": 1
        },
        "margin": {
         "l": 0,
         "r": 0,
         "t": 0,
         "b": 0
        },
        "paper_bgcolor": "black",
        "plot_bgcolor": "black",
        "shapes": [
         {
          "fillcolor": "rgba(66,135,245,0.10)",
          "line": {
           "width": 0
          },
          "type": "rect",
          "x0": -3.125,
          "x1": 3.125,
          "xref": "x",
          "y0": -2.875,
          "y1": 2.875,
          "yref": "y"
         },
         {
          "fillcolor": "rgba(66,135,245,1)",
          "line": {
           "color": "white",
           "width": 2
          },
          "type": "rect",
          "x0": -1.875,
          "x1": 1.875,
          "xref": "x",
          "y0": 1.28125,
          "y1": 2.21875,
          "yref": "y"
         },
         {
          "fillcolor": "rgba(66,135,245,1)",
          "line": {
           "color": "white",
           "width": 2
          },
          "type": "rect",
          "x0": -1.875,
          "x1": 1.875,
          "xref": "x",
          "y0": -0.46875,
          "y1": 0.46875,
          "yref": "y"
         },
         {
          "fillcolor": "rgba(255,159,67,0.10)",
          "line": {
           "width": 0
          },
          "type": "rect",
          "x0": 3.5,
          "x1": 9.75,
          "xref": "x",
          "y0": -2.875,
          "y1": 2.875,
          "yref": "y"
         },
         {
          "fillcolor": "rgba(40,199,111,1)",
          "line": {
           "color": "white",
           "width": 2
          },
          "type": "rect",
          "x0": 4.75,
          "x1": 8.5,
          "xref": "x",
          "y0": 1.28125,
          "y1": 2.21875,
          "yref": "y"
         },
         {
          "fillcolor": "rgba(255,159,67,1)",
          "line": {
           "color": "white",
           "width": 2
          },
          "type": "rect",
          "x0": 4.75,
          "x1": 8.5,
          "xref": "x",
          "y0": -0.46875,
          "y1": 0.46875,
          "yref": "y"
         },
         {
          "fillcolor": "rgba(255,159,67,1)",
          "line": {
           "color": "white",
           "width": 2
          },
          "type": "rect",
          "x0": 4.75,
          "x1": 8.5,
          "xref": "x",
          "y0": -2.21875,
          "y1": -1.28125,
          "yref": "y"
         },
         {
          "fillcolor": "rgba(235,87,87,0.10)",
          "line": {
           "width": 0
          },
          "type": "rect",
          "x0": 10.125,
          "x1": 16.375,
          "xref": "x",
          "y0": -2.875,
          "y1": 2.875,
          "yref": "y"
         },
         {
          "fillcolor": "rgba(235,87,87,1)",
          "line": {
           "color": "white",
           "width": 2
          },
          "type": "rect",
          "x0": 11.375,
          "x1": 15.125,
          "xref": "x",
          "y0": 1.28125,
          "y1": 2.21875,
          "yref": "y"
         },
         {
          "fillcolor": "rgba(235,87,87,1)",
          "line": {
           "color": "white",
           "width": 2
          },
          "type": "rect",
          "x0": 11.375,
          "x1": 15.125,
          "xref": "x",
          "y0": -0.46875,
          "y1": 0.46875,
          "yref": "y"
         },
         {
          "fillcolor": "rgba(66, 245, 173, 1)",
          "line": {
           "color": "white",
           "width": 2
          },
          "type": "rect",
          "x0": 7.375,
          "x1": 9.875,
          "xref": "x",
          "y0": 4.25,
          "y1": 5.5,
          "yref": "y"
         },
         {
          "fillcolor": "rgba(245, 127, 66, 1)",
          "line": {
           "color": "white",
           "width": 2
          },
          "type": "rect",
          "x0": 3.375,
          "x1": 5.875,
          "xref": "x",
          "y0": 4.25,
          "y1": 5.5,
          "yref": "y"
         }
        ],
        "annotations": [
         {
          "font": {
           "color": "#FFFFFF",
           "size": 17
          },
          "showarrow": false,
          "text": "<b>Kitting</b>",
          "x": 0.0,
          "xanchor": "center",
          "xref": "x",
          "y": 3.0,
          "yref": "y"
         },
         {
          "font": {
           "color": "#FFFFFF",
           "size": 40
          },
          "showarrow": false,
          "text": "<b>id:3 kitting</b>",
          "x": 0.0,
          "xanchor": "center",
          "xref": "x",
          "y": 1.75,
          "yanchor": "middle",
          "yref": "y"
         },
         {
          "font": {
           "color": "#FFFFFF",
           "size": 40
          },
          "showarrow": false,
          "text": "<b>id:4 kitting</b>",
          "x": 0.0,
          "xanchor": "center",
          "xref": "x",
          "y": 0.0,
          "yanchor": "middle",
          "yref": "y"
         },
         {
          "font": {
           "color": "#FFFFFF",
           "size": 17
          },
          "showarrow": false,
          "text": "<b>Build</b>",
          "x": 6.625,
          "xanchor": "center",
          "xref": "x",
          "y": 3.0,
          "yref": "y"
         },
         {
          "font": {
           "color": "#FFFFFF",
           "size": 40
          },
          "showarrow": false,
          "text": "<b>id:5 grip</b>",
          "x": 6.625,
          "xanchor": "center",
          "xref": "x",
          "y": 1.75,
          "yanchor": "middle",
          "yref": "y"
         },
         {
          "font": {
           "color": "#FFFFFF",
           "size": 40
          },
          "showarrow": false,
          "text": "<b>id:6 grip & screws</b>",
          "x": 6.625,
          "xanchor": "center",
          "xref": "x",
          "y": 0.0,
          "yanchor": "middle",
          "yref": "y"
         },
         {
          "font": {
           "color": "#FFFFFF",
           "size": 40
          },
          "showarrow": false,
          "text": "<b>id:7 grip & screws</b>",
          "x": 6.625,
          "xanchor": "center",
          "xref": "x",
          "y": -1.75,
          "yanchor": "middle",
          "yref": "y"
         },
         {
          "font": {
           "color": "#FFFFFF",
           "size": 17
          },
          "showarrow": false,
          "text": "<b>Packing</b>",
          "x": 13.25,
          "xanchor": "center",
          "xref": "x",
          "y": 3.0,
          "yref": "y"
         },
         {
          "font": {
           "color": "#FFFFFF",
           "size": 40
          },
          "showarrow": false,
          "text": "<b>id:8 pallet</b>",
          "x": 13.25,
          "xanchor": "center",
          "xref": "x",
          "y": 1.75,
          "yanchor": "middle",
          "yref": "y"
         },
         {
          "font": {
           "color": "#FFFFFF",
           "size": 40
          },
          "showarrow": false,
          "text": "<b>id:9 pallet</b>",
          "x": 13.25,
          "xanchor": "center",
          "xref": "x",
          "y": 0.0,
          "yanchor": "middle",
          "yref": "y"
         },
         {
          "font": {
           "color": "#000000",
           "size": 40
          },
          "showarrow": false,
          "text": "<b>human</b>",
          "x": 8.625,
          "xanchor": "center",
          "xref": "x",
          "y": 4.875,
          "yanchor": "middle",
          "yref": "y"
         },
         {
          "font": {
           "color": "#000000",
           "size": 40
          },
          "showarrow": false,
          "text": "<b>robot</b>",
          "x": 4.625,
          "xanchor": "center",
          "xref": "x",
          "y": 4.875,
          "yanchor": "middle",
          "yref": "y"
         },
         {
          "arrowcolor": "#BBBBBB",
          "arrowhead": 3,
          "arrowsize": 1.3,
          "arrowwidth": 2,
          "ax": 1.875,
          "axref": "x",
          "ay": 1.75,
          "ayref": "y",
          "opacity": 0.9,
          "showarrow": true,
          "text": "",
          "x": 4.75,
          "xref": "x",
          "y": 1.75,
          "yref": "y"
         },
         {
          "arrowcolor": "#BBBBBB",
          "arrowhead": 3,
          "arrowsize": 1.3,
          "arrowwidth": 2,
          "ax": 6.625,
          "axref": "x",
          "ay": 1.28125,
          "ayref": "y",
          "opacity": 0.9,
          "showarrow": true,
          "text": "",
          "x": 6.625,
          "xref": "x",
          "y": 0.46875,
          "yref": "y"
         },
         {
          "arrowcolor": "#BBBBBB",
          "arrowhead": 3,
          "arrowsize": 1.3,
          "arrowwidth": 2,
          "ax": 8.5,
          "axref": "x",
          "ay": 0.0,
          "ayref": "y",
          "opacity": 0.9,
          "showarrow": true,
          "text": "",
          "x": 11.375,
          "xref": "x",
          "y": 1.75,
          "yref": "y"
         },
         {
          "arrowcolor": "#BBBBBB",
          "arrowhead": 3,
          "arrowsize": 1.3,
          "arrowwidth": 2,
          "ax": 1.875,
          "axref": "x",
          "ay": 0.0,
          "ayref": "y",
          "opacity": 0.9,
          "showarrow": true,
          "text": "",
          "x": 4.75,
          "xref": "x",
          "y": -1.75,
          "yref": "y"
         },
         {
          "arrowcolor": "#BBBBBB",
          "arrowhead": 3,
          "arrowsize": 1.3,
          "arrowwidth": 2,
          "ax": 8.5,
          "axref": "x",
          "ay": -1.75,
          "ayref": "y",
          "opacity": 0.9,
          "showarrow": true,
          "text": "",
          "x": 11.375,
          "xref": "x",
          "y": 0.0,
          "yref": "y"
         }
        ],
        "width": 1400,
        "height": 600,
        "autosize": false
       },
       "config": {
        "plotlyServerURL": "https://plot.ly"
       }
      }
     },
     "metadata": {},
     "output_type": "display_data"
    }
   ],
   "execution_count": 3
  },
  {
   "metadata": {
    "ExecuteTime": {
     "end_time": "2025-10-01T15:10:17.083150Z",
     "start_time": "2025-10-01T15:10:17.044379Z"
    }
   },
   "cell_type": "code",
   "source": [
    "#second problem\n",
    "problem = FJTransportProblem(symmetry_breaking=True)\n",
    "problem.add_human()\n",
    "problem.set_dur_hum(HUMAN_JOBS_TIME)\n",
    "\n",
    "id_kit_1 = problem.add_workstation(WS_KITTING)\n",
    "id_kit_2 = problem.add_workstation(WS_KITTING)\n",
    "id_kit_3 = problem.add_workstation(WS_KITTING)\n",
    "id_grip = problem.add_workstation(WS_BUILDING_1)\n",
    "id_gs = problem.add_workstation(WS_BUILDING_2)\n",
    "id_grip_2 = problem.add_workstation(WS_BUILDING_1)\n",
    "id_pal = problem.add_workstation(WS_PALLETTING)\n",
    "id_pal_2 = problem.add_workstation(WS_PALLETTING)\n",
    "\n",
    "problem.add_transport(id_kit_1, id_grip)\n",
    "problem.add_transport(id_grip, id_gs)\n",
    "problem.add_transport(id_gs, id_pal)\n",
    "problem.add_transport(id_kit_2, id_grip_2)\n",
    "problem.add_transport(id_gs_2, id_pal_2)\n",
    "problem.add_transport(id_kit_3, id_grip_2)\n",
    "\n",
    "problem.set_t_conv(3)\n",
    "problem.add_items_to_build(FLASHLIGHT_CLIPPED,6)\n",
    "problem.add_items_to_build(FLASHLIGHT_SCREWS,6)\n",
    "problem.model_problem()\n",
    "\n",
    "problem.make_ws_topology()\n",
    "tuner.add_problem(problem.m)"
   ],
   "id": "9851f14d3fc29e99",
   "outputs": [
    {
     "data": {
      "application/vnd.plotly.v1+json": {
       "data": [],
       "layout": {
        "template": {
         "data": {
          "histogram2dcontour": [
           {
            "type": "histogram2dcontour",
            "colorbar": {
             "outlinewidth": 0,
             "ticks": ""
            },
            "colorscale": [
             [
              0.0,
              "#0d0887"
             ],
             [
              0.1111111111111111,
              "#46039f"
             ],
             [
              0.2222222222222222,
              "#7201a8"
             ],
             [
              0.3333333333333333,
              "#9c179e"
             ],
             [
              0.4444444444444444,
              "#bd3786"
             ],
             [
              0.5555555555555556,
              "#d8576b"
             ],
             [
              0.6666666666666666,
              "#ed7953"
             ],
             [
              0.7777777777777778,
              "#fb9f3a"
             ],
             [
              0.8888888888888888,
              "#fdca26"
             ],
             [
              1.0,
              "#f0f921"
             ]
            ]
           }
          ],
          "choropleth": [
           {
            "type": "choropleth",
            "colorbar": {
             "outlinewidth": 0,
             "ticks": ""
            }
           }
          ],
          "histogram2d": [
           {
            "type": "histogram2d",
            "colorbar": {
             "outlinewidth": 0,
             "ticks": ""
            },
            "colorscale": [
             [
              0.0,
              "#0d0887"
             ],
             [
              0.1111111111111111,
              "#46039f"
             ],
             [
              0.2222222222222222,
              "#7201a8"
             ],
             [
              0.3333333333333333,
              "#9c179e"
             ],
             [
              0.4444444444444444,
              "#bd3786"
             ],
             [
              0.5555555555555556,
              "#d8576b"
             ],
             [
              0.6666666666666666,
              "#ed7953"
             ],
             [
              0.7777777777777778,
              "#fb9f3a"
             ],
             [
              0.8888888888888888,
              "#fdca26"
             ],
             [
              1.0,
              "#f0f921"
             ]
            ]
           }
          ],
          "heatmap": [
           {
            "type": "heatmap",
            "colorbar": {
             "outlinewidth": 0,
             "ticks": ""
            },
            "colorscale": [
             [
              0.0,
              "#0d0887"
             ],
             [
              0.1111111111111111,
              "#46039f"
             ],
             [
              0.2222222222222222,
              "#7201a8"
             ],
             [
              0.3333333333333333,
              "#9c179e"
             ],
             [
              0.4444444444444444,
              "#bd3786"
             ],
             [
              0.5555555555555556,
              "#d8576b"
             ],
             [
              0.6666666666666666,
              "#ed7953"
             ],
             [
              0.7777777777777778,
              "#fb9f3a"
             ],
             [
              0.8888888888888888,
              "#fdca26"
             ],
             [
              1.0,
              "#f0f921"
             ]
            ]
           }
          ],
          "contourcarpet": [
           {
            "type": "contourcarpet",
            "colorbar": {
             "outlinewidth": 0,
             "ticks": ""
            }
           }
          ],
          "contour": [
           {
            "type": "contour",
            "colorbar": {
             "outlinewidth": 0,
             "ticks": ""
            },
            "colorscale": [
             [
              0.0,
              "#0d0887"
             ],
             [
              0.1111111111111111,
              "#46039f"
             ],
             [
              0.2222222222222222,
              "#7201a8"
             ],
             [
              0.3333333333333333,
              "#9c179e"
             ],
             [
              0.4444444444444444,
              "#bd3786"
             ],
             [
              0.5555555555555556,
              "#d8576b"
             ],
             [
              0.6666666666666666,
              "#ed7953"
             ],
             [
              0.7777777777777778,
              "#fb9f3a"
             ],
             [
              0.8888888888888888,
              "#fdca26"
             ],
             [
              1.0,
              "#f0f921"
             ]
            ]
           }
          ],
          "surface": [
           {
            "type": "surface",
            "colorbar": {
             "outlinewidth": 0,
             "ticks": ""
            },
            "colorscale": [
             [
              0.0,
              "#0d0887"
             ],
             [
              0.1111111111111111,
              "#46039f"
             ],
             [
              0.2222222222222222,
              "#7201a8"
             ],
             [
              0.3333333333333333,
              "#9c179e"
             ],
             [
              0.4444444444444444,
              "#bd3786"
             ],
             [
              0.5555555555555556,
              "#d8576b"
             ],
             [
              0.6666666666666666,
              "#ed7953"
             ],
             [
              0.7777777777777778,
              "#fb9f3a"
             ],
             [
              0.8888888888888888,
              "#fdca26"
             ],
             [
              1.0,
              "#f0f921"
             ]
            ]
           }
          ],
          "mesh3d": [
           {
            "type": "mesh3d",
            "colorbar": {
             "outlinewidth": 0,
             "ticks": ""
            }
           }
          ],
          "scatter": [
           {
            "fillpattern": {
             "fillmode": "overlay",
             "size": 10,
             "solidity": 0.2
            },
            "type": "scatter"
           }
          ],
          "parcoords": [
           {
            "type": "parcoords",
            "line": {
             "colorbar": {
              "outlinewidth": 0,
              "ticks": ""
             }
            }
           }
          ],
          "scatterpolargl": [
           {
            "type": "scatterpolargl",
            "marker": {
             "colorbar": {
              "outlinewidth": 0,
              "ticks": ""
             }
            }
           }
          ],
          "bar": [
           {
            "error_x": {
             "color": "#2a3f5f"
            },
            "error_y": {
             "color": "#2a3f5f"
            },
            "marker": {
             "line": {
              "color": "#E5ECF6",
              "width": 0.5
             },
             "pattern": {
              "fillmode": "overlay",
              "size": 10,
              "solidity": 0.2
             }
            },
            "type": "bar"
           }
          ],
          "scattergeo": [
           {
            "type": "scattergeo",
            "marker": {
             "colorbar": {
              "outlinewidth": 0,
              "ticks": ""
             }
            }
           }
          ],
          "scatterpolar": [
           {
            "type": "scatterpolar",
            "marker": {
             "colorbar": {
              "outlinewidth": 0,
              "ticks": ""
             }
            }
           }
          ],
          "histogram": [
           {
            "marker": {
             "pattern": {
              "fillmode": "overlay",
              "size": 10,
              "solidity": 0.2
             }
            },
            "type": "histogram"
           }
          ],
          "scattergl": [
           {
            "type": "scattergl",
            "marker": {
             "colorbar": {
              "outlinewidth": 0,
              "ticks": ""
             }
            }
           }
          ],
          "scatter3d": [
           {
            "type": "scatter3d",
            "line": {
             "colorbar": {
              "outlinewidth": 0,
              "ticks": ""
             }
            },
            "marker": {
             "colorbar": {
              "outlinewidth": 0,
              "ticks": ""
             }
            }
           }
          ],
          "scattermap": [
           {
            "type": "scattermap",
            "marker": {
             "colorbar": {
              "outlinewidth": 0,
              "ticks": ""
             }
            }
           }
          ],
          "scattermapbox": [
           {
            "type": "scattermapbox",
            "marker": {
             "colorbar": {
              "outlinewidth": 0,
              "ticks": ""
             }
            }
           }
          ],
          "scatterternary": [
           {
            "type": "scatterternary",
            "marker": {
             "colorbar": {
              "outlinewidth": 0,
              "ticks": ""
             }
            }
           }
          ],
          "scattercarpet": [
           {
            "type": "scattercarpet",
            "marker": {
             "colorbar": {
              "outlinewidth": 0,
              "ticks": ""
             }
            }
           }
          ],
          "carpet": [
           {
            "aaxis": {
             "endlinecolor": "#2a3f5f",
             "gridcolor": "white",
             "linecolor": "white",
             "minorgridcolor": "white",
             "startlinecolor": "#2a3f5f"
            },
            "baxis": {
             "endlinecolor": "#2a3f5f",
             "gridcolor": "white",
             "linecolor": "white",
             "minorgridcolor": "white",
             "startlinecolor": "#2a3f5f"
            },
            "type": "carpet"
           }
          ],
          "table": [
           {
            "cells": {
             "fill": {
              "color": "#EBF0F8"
             },
             "line": {
              "color": "white"
             }
            },
            "header": {
             "fill": {
              "color": "#C8D4E3"
             },
             "line": {
              "color": "white"
             }
            },
            "type": "table"
           }
          ],
          "barpolar": [
           {
            "marker": {
             "line": {
              "color": "#E5ECF6",
              "width": 0.5
             },
             "pattern": {
              "fillmode": "overlay",
              "size": 10,
              "solidity": 0.2
             }
            },
            "type": "barpolar"
           }
          ],
          "pie": [
           {
            "automargin": true,
            "type": "pie"
           }
          ]
         },
         "layout": {
          "autotypenumbers": "strict",
          "colorway": [
           "#636efa",
           "#EF553B",
           "#00cc96",
           "#ab63fa",
           "#FFA15A",
           "#19d3f3",
           "#FF6692",
           "#B6E880",
           "#FF97FF",
           "#FECB52"
          ],
          "font": {
           "color": "#2a3f5f"
          },
          "hovermode": "closest",
          "hoverlabel": {
           "align": "left"
          },
          "paper_bgcolor": "white",
          "plot_bgcolor": "#E5ECF6",
          "polar": {
           "bgcolor": "#E5ECF6",
           "angularaxis": {
            "gridcolor": "white",
            "linecolor": "white",
            "ticks": ""
           },
           "radialaxis": {
            "gridcolor": "white",
            "linecolor": "white",
            "ticks": ""
           }
          },
          "ternary": {
           "bgcolor": "#E5ECF6",
           "aaxis": {
            "gridcolor": "white",
            "linecolor": "white",
            "ticks": ""
           },
           "baxis": {
            "gridcolor": "white",
            "linecolor": "white",
            "ticks": ""
           },
           "caxis": {
            "gridcolor": "white",
            "linecolor": "white",
            "ticks": ""
           }
          },
          "coloraxis": {
           "colorbar": {
            "outlinewidth": 0,
            "ticks": ""
           }
          },
          "colorscale": {
           "sequential": [
            [
             0.0,
             "#0d0887"
            ],
            [
             0.1111111111111111,
             "#46039f"
            ],
            [
             0.2222222222222222,
             "#7201a8"
            ],
            [
             0.3333333333333333,
             "#9c179e"
            ],
            [
             0.4444444444444444,
             "#bd3786"
            ],
            [
             0.5555555555555556,
             "#d8576b"
            ],
            [
             0.6666666666666666,
             "#ed7953"
            ],
            [
             0.7777777777777778,
             "#fb9f3a"
            ],
            [
             0.8888888888888888,
             "#fdca26"
            ],
            [
             1.0,
             "#f0f921"
            ]
           ],
           "sequentialminus": [
            [
             0.0,
             "#0d0887"
            ],
            [
             0.1111111111111111,
             "#46039f"
            ],
            [
             0.2222222222222222,
             "#7201a8"
            ],
            [
             0.3333333333333333,
             "#9c179e"
            ],
            [
             0.4444444444444444,
             "#bd3786"
            ],
            [
             0.5555555555555556,
             "#d8576b"
            ],
            [
             0.6666666666666666,
             "#ed7953"
            ],
            [
             0.7777777777777778,
             "#fb9f3a"
            ],
            [
             0.8888888888888888,
             "#fdca26"
            ],
            [
             1.0,
             "#f0f921"
            ]
           ],
           "diverging": [
            [
             0,
             "#8e0152"
            ],
            [
             0.1,
             "#c51b7d"
            ],
            [
             0.2,
             "#de77ae"
            ],
            [
             0.3,
             "#f1b6da"
            ],
            [
             0.4,
             "#fde0ef"
            ],
            [
             0.5,
             "#f7f7f7"
            ],
            [
             0.6,
             "#e6f5d0"
            ],
            [
             0.7,
             "#b8e186"
            ],
            [
             0.8,
             "#7fbc41"
            ],
            [
             0.9,
             "#4d9221"
            ],
            [
             1,
             "#276419"
            ]
           ]
          },
          "xaxis": {
           "gridcolor": "white",
           "linecolor": "white",
           "ticks": "",
           "title": {
            "standoff": 15
           },
           "zerolinecolor": "white",
           "automargin": true,
           "zerolinewidth": 2
          },
          "yaxis": {
           "gridcolor": "white",
           "linecolor": "white",
           "ticks": "",
           "title": {
            "standoff": 15
           },
           "zerolinecolor": "white",
           "automargin": true,
           "zerolinewidth": 2
          },
          "scene": {
           "xaxis": {
            "backgroundcolor": "#E5ECF6",
            "gridcolor": "white",
            "linecolor": "white",
            "showbackground": true,
            "ticks": "",
            "zerolinecolor": "white",
            "gridwidth": 2
           },
           "yaxis": {
            "backgroundcolor": "#E5ECF6",
            "gridcolor": "white",
            "linecolor": "white",
            "showbackground": true,
            "ticks": "",
            "zerolinecolor": "white",
            "gridwidth": 2
           },
           "zaxis": {
            "backgroundcolor": "#E5ECF6",
            "gridcolor": "white",
            "linecolor": "white",
            "showbackground": true,
            "ticks": "",
            "zerolinecolor": "white",
            "gridwidth": 2
           }
          },
          "shapedefaults": {
           "line": {
            "color": "#2a3f5f"
           }
          },
          "annotationdefaults": {
           "arrowcolor": "#2a3f5f",
           "arrowhead": 0,
           "arrowwidth": 1
          },
          "geo": {
           "bgcolor": "white",
           "landcolor": "#E5ECF6",
           "subunitcolor": "white",
           "showland": true,
           "showlakes": true,
           "lakecolor": "white"
          },
          "title": {
           "x": 0.05
          },
          "mapbox": {
           "style": "light"
          }
         }
        },
        "title": {
         "font": {
          "size": 27
         },
         "pad": {
          "t": 0,
          "b": 0,
          "l": 0,
          "r": 0
         },
         "text": "Workstation Topology",
         "x": 0.5,
         "xanchor": "center"
        },
        "xaxis": {
         "visible": false,
         "range": [
          -3.1875,
          16.4375
         ]
        },
        "yaxis": {
         "visible": false,
         "range": [
          -2.9375,
          5.5625
         ],
         "scaleanchor": "x",
         "scaleratio": 1
        },
        "margin": {
         "l": 0,
         "r": 0,
         "t": 0,
         "b": 0
        },
        "paper_bgcolor": "black",
        "plot_bgcolor": "black",
        "shapes": [
         {
          "fillcolor": "rgba(66,135,245,0.10)",
          "line": {
           "width": 0
          },
          "type": "rect",
          "x0": -3.125,
          "x1": 3.125,
          "xref": "x",
          "y0": -2.875,
          "y1": 2.875,
          "yref": "y"
         },
         {
          "fillcolor": "rgba(66,135,245,1)",
          "line": {
           "color": "white",
           "width": 2
          },
          "type": "rect",
          "x0": -1.875,
          "x1": 1.875,
          "xref": "x",
          "y0": 1.28125,
          "y1": 2.21875,
          "yref": "y"
         },
         {
          "fillcolor": "rgba(66,135,245,1)",
          "line": {
           "color": "white",
           "width": 2
          },
          "type": "rect",
          "x0": -1.875,
          "x1": 1.875,
          "xref": "x",
          "y0": -0.46875,
          "y1": 0.46875,
          "yref": "y"
         },
         {
          "fillcolor": "rgba(66,135,245,1)",
          "line": {
           "color": "white",
           "width": 2
          },
          "type": "rect",
          "x0": -1.875,
          "x1": 1.875,
          "xref": "x",
          "y0": -2.21875,
          "y1": -1.28125,
          "yref": "y"
         },
         {
          "fillcolor": "rgba(255,159,67,0.10)",
          "line": {
           "width": 0
          },
          "type": "rect",
          "x0": 3.5,
          "x1": 9.75,
          "xref": "x",
          "y0": -2.875,
          "y1": 2.875,
          "yref": "y"
         },
         {
          "fillcolor": "rgba(40,199,111,1)",
          "line": {
           "color": "white",
           "width": 2
          },
          "type": "rect",
          "x0": 4.75,
          "x1": 8.5,
          "xref": "x",
          "y0": 1.28125,
          "y1": 2.21875,
          "yref": "y"
         },
         {
          "fillcolor": "rgba(255,159,67,1)",
          "line": {
           "color": "white",
           "width": 2
          },
          "type": "rect",
          "x0": 4.75,
          "x1": 8.5,
          "xref": "x",
          "y0": -0.46875,
          "y1": 0.46875,
          "yref": "y"
         },
         {
          "fillcolor": "rgba(40,199,111,1)",
          "line": {
           "color": "white",
           "width": 2
          },
          "type": "rect",
          "x0": 4.75,
          "x1": 8.5,
          "xref": "x",
          "y0": -2.21875,
          "y1": -1.28125,
          "yref": "y"
         },
         {
          "fillcolor": "rgba(235,87,87,0.10)",
          "line": {
           "width": 0
          },
          "type": "rect",
          "x0": 10.125,
          "x1": 16.375,
          "xref": "x",
          "y0": -2.875,
          "y1": 2.875,
          "yref": "y"
         },
         {
          "fillcolor": "rgba(235,87,87,1)",
          "line": {
           "color": "white",
           "width": 2
          },
          "type": "rect",
          "x0": 11.375,
          "x1": 15.125,
          "xref": "x",
          "y0": 1.28125,
          "y1": 2.21875,
          "yref": "y"
         },
         {
          "fillcolor": "rgba(235,87,87,1)",
          "line": {
           "color": "white",
           "width": 2
          },
          "type": "rect",
          "x0": 11.375,
          "x1": 15.125,
          "xref": "x",
          "y0": -0.46875,
          "y1": 0.46875,
          "yref": "y"
         },
         {
          "fillcolor": "rgba(66, 245, 173, 1)",
          "line": {
           "color": "white",
           "width": 2
          },
          "type": "rect",
          "x0": 5.375,
          "x1": 7.875,
          "xref": "x",
          "y0": 4.25,
          "y1": 5.5,
          "yref": "y"
         }
        ],
        "annotations": [
         {
          "font": {
           "color": "#FFFFFF",
           "size": 17
          },
          "showarrow": false,
          "text": "<b>Kitting</b>",
          "x": 0.0,
          "xanchor": "center",
          "xref": "x",
          "y": 3.0,
          "yref": "y"
         },
         {
          "font": {
           "color": "#FFFFFF",
           "size": 40
          },
          "showarrow": false,
          "text": "<b>id:2 kitting</b>",
          "x": 0.0,
          "xanchor": "center",
          "xref": "x",
          "y": 1.75,
          "yanchor": "middle",
          "yref": "y"
         },
         {
          "font": {
           "color": "#FFFFFF",
           "size": 40
          },
          "showarrow": false,
          "text": "<b>id:3 kitting</b>",
          "x": 0.0,
          "xanchor": "center",
          "xref": "x",
          "y": 0.0,
          "yanchor": "middle",
          "yref": "y"
         },
         {
          "font": {
           "color": "#FFFFFF",
           "size": 40
          },
          "showarrow": false,
          "text": "<b>id:4 kitting</b>",
          "x": 0.0,
          "xanchor": "center",
          "xref": "x",
          "y": -1.75,
          "yanchor": "middle",
          "yref": "y"
         },
         {
          "font": {
           "color": "#FFFFFF",
           "size": 17
          },
          "showarrow": false,
          "text": "<b>Build</b>",
          "x": 6.625,
          "xanchor": "center",
          "xref": "x",
          "y": 3.0,
          "yref": "y"
         },
         {
          "font": {
           "color": "#FFFFFF",
           "size": 40
          },
          "showarrow": false,
          "text": "<b>id:5 grip</b>",
          "x": 6.625,
          "xanchor": "center",
          "xref": "x",
          "y": 1.75,
          "yanchor": "middle",
          "yref": "y"
         },
         {
          "font": {
           "color": "#FFFFFF",
           "size": 40
          },
          "showarrow": false,
          "text": "<b>id:6 grip & screws</b>",
          "x": 6.625,
          "xanchor": "center",
          "xref": "x",
          "y": 0.0,
          "yanchor": "middle",
          "yref": "y"
         },
         {
          "font": {
           "color": "#FFFFFF",
           "size": 40
          },
          "showarrow": false,
          "text": "<b>id:7 grip</b>",
          "x": 6.625,
          "xanchor": "center",
          "xref": "x",
          "y": -1.75,
          "yanchor": "middle",
          "yref": "y"
         },
         {
          "font": {
           "color": "#FFFFFF",
           "size": 17
          },
          "showarrow": false,
          "text": "<b>Packing</b>",
          "x": 13.25,
          "xanchor": "center",
          "xref": "x",
          "y": 3.0,
          "yref": "y"
         },
         {
          "font": {
           "color": "#FFFFFF",
           "size": 40
          },
          "showarrow": false,
          "text": "<b>id:8 pallet</b>",
          "x": 13.25,
          "xanchor": "center",
          "xref": "x",
          "y": 1.75,
          "yanchor": "middle",
          "yref": "y"
         },
         {
          "font": {
           "color": "#FFFFFF",
           "size": 40
          },
          "showarrow": false,
          "text": "<b>id:9 pallet</b>",
          "x": 13.25,
          "xanchor": "center",
          "xref": "x",
          "y": 0.0,
          "yanchor": "middle",
          "yref": "y"
         },
         {
          "font": {
           "color": "#000000",
           "size": 40
          },
          "showarrow": false,
          "text": "<b>human</b>",
          "x": 6.625,
          "xanchor": "center",
          "xref": "x",
          "y": 4.875,
          "yanchor": "middle",
          "yref": "y"
         },
         {
          "arrowcolor": "#BBBBBB",
          "arrowhead": 3,
          "arrowsize": 1.3,
          "arrowwidth": 2,
          "ax": 1.875,
          "axref": "x",
          "ay": 1.75,
          "ayref": "y",
          "opacity": 0.9,
          "showarrow": true,
          "text": "",
          "x": 4.75,
          "xref": "x",
          "y": 1.75,
          "yref": "y"
         },
         {
          "arrowcolor": "#BBBBBB",
          "arrowhead": 3,
          "arrowsize": 1.3,
          "arrowwidth": 2,
          "ax": 6.625,
          "axref": "x",
          "ay": 1.28125,
          "ayref": "y",
          "opacity": 0.9,
          "showarrow": true,
          "text": "",
          "x": 6.625,
          "xref": "x",
          "y": 0.46875,
          "yref": "y"
         },
         {
          "arrowcolor": "#BBBBBB",
          "arrowhead": 3,
          "arrowsize": 1.3,
          "arrowwidth": 2,
          "ax": 8.5,
          "axref": "x",
          "ay": 0.0,
          "ayref": "y",
          "opacity": 0.9,
          "showarrow": true,
          "text": "",
          "x": 11.375,
          "xref": "x",
          "y": 1.75,
          "yref": "y"
         },
         {
          "arrowcolor": "#BBBBBB",
          "arrowhead": 3,
          "arrowsize": 1.3,
          "arrowwidth": 2,
          "ax": 1.875,
          "axref": "x",
          "ay": 0.0,
          "ayref": "y",
          "opacity": 0.9,
          "showarrow": true,
          "text": "",
          "x": 4.75,
          "xref": "x",
          "y": -1.75,
          "yref": "y"
         },
         {
          "arrowcolor": "#BBBBBB",
          "arrowhead": 3,
          "arrowsize": 1.3,
          "arrowwidth": 2,
          "ax": 8.5,
          "axref": "x",
          "ay": -1.75,
          "ayref": "y",
          "opacity": 0.9,
          "showarrow": true,
          "text": "",
          "x": 11.375,
          "xref": "x",
          "y": 0.0,
          "yref": "y"
         },
         {
          "arrowcolor": "#BBBBBB",
          "arrowhead": 3,
          "arrowsize": 1.3,
          "arrowwidth": 2,
          "ax": 1.875,
          "axref": "x",
          "ay": -1.75,
          "ayref": "y",
          "opacity": 0.9,
          "showarrow": true,
          "text": "",
          "x": 4.75,
          "xref": "x",
          "y": -1.75,
          "yref": "y"
         }
        ],
        "width": 1400,
        "height": 600,
        "autosize": false
       },
       "config": {
        "plotlyServerURL": "https://plot.ly"
       }
      }
     },
     "metadata": {},
     "output_type": "display_data"
    }
   ],
   "execution_count": 4
  },
  {
   "metadata": {
    "ExecuteTime": {
     "end_time": "2025-10-01T15:10:19.659443Z",
     "start_time": "2025-10-01T15:10:19.630439Z"
    }
   },
   "cell_type": "code",
   "source": [
    "#third problem\n",
    "problem = FJTransportProblem(symmetry_breaking=True)\n",
    "problem.add_human()\n",
    "problem.set_dur_hum(HUMAN_JOBS_TIME)\n",
    "problem.add_robot()\n",
    "problem.set_dur_robot(ROBOT_JOBS_TIME)\n",
    "\n",
    "id_kit_1 = problem.add_workstation(WS_KITTING)\n",
    "id_grip = problem.add_workstation(WS_BUILDING_1)\n",
    "id_gs = problem.add_workstation(WS_BUILDING_2)\n",
    "id_gs_2 = problem.add_workstation(WS_BUILDING_2)\n",
    "id_pal = problem.add_workstation(WS_PALLETTING)\n",
    "id_pal_2 = problem.add_workstation(WS_PALLETTING)\n",
    "\n",
    "problem.add_transport(id_kit_1, id_grip)\n",
    "problem.add_transport(id_grip, id_gs)\n",
    "problem.add_transport(id_gs, id_pal)\n",
    "problem.add_transport(id_gs_2, id_pal_2)\n",
    "\n",
    "problem.set_t_conv(3)\n",
    "problem.add_items_to_build(FLASHLIGHT_CLIPPED,5)\n",
    "problem.add_items_to_build(FLASHLIGHT_SCREWS,5)\n",
    "problem.model_problem()\n",
    "problem.make_ws_topology()\n",
    "\n",
    "tuner.add_problem(problem.m)"
   ],
   "id": "15c4b115ceb5240a",
   "outputs": [
    {
     "data": {
      "application/vnd.plotly.v1+json": {
       "data": [],
       "layout": {
        "template": {
         "data": {
          "histogram2dcontour": [
           {
            "type": "histogram2dcontour",
            "colorbar": {
             "outlinewidth": 0,
             "ticks": ""
            },
            "colorscale": [
             [
              0.0,
              "#0d0887"
             ],
             [
              0.1111111111111111,
              "#46039f"
             ],
             [
              0.2222222222222222,
              "#7201a8"
             ],
             [
              0.3333333333333333,
              "#9c179e"
             ],
             [
              0.4444444444444444,
              "#bd3786"
             ],
             [
              0.5555555555555556,
              "#d8576b"
             ],
             [
              0.6666666666666666,
              "#ed7953"
             ],
             [
              0.7777777777777778,
              "#fb9f3a"
             ],
             [
              0.8888888888888888,
              "#fdca26"
             ],
             [
              1.0,
              "#f0f921"
             ]
            ]
           }
          ],
          "choropleth": [
           {
            "type": "choropleth",
            "colorbar": {
             "outlinewidth": 0,
             "ticks": ""
            }
           }
          ],
          "histogram2d": [
           {
            "type": "histogram2d",
            "colorbar": {
             "outlinewidth": 0,
             "ticks": ""
            },
            "colorscale": [
             [
              0.0,
              "#0d0887"
             ],
             [
              0.1111111111111111,
              "#46039f"
             ],
             [
              0.2222222222222222,
              "#7201a8"
             ],
             [
              0.3333333333333333,
              "#9c179e"
             ],
             [
              0.4444444444444444,
              "#bd3786"
             ],
             [
              0.5555555555555556,
              "#d8576b"
             ],
             [
              0.6666666666666666,
              "#ed7953"
             ],
             [
              0.7777777777777778,
              "#fb9f3a"
             ],
             [
              0.8888888888888888,
              "#fdca26"
             ],
             [
              1.0,
              "#f0f921"
             ]
            ]
           }
          ],
          "heatmap": [
           {
            "type": "heatmap",
            "colorbar": {
             "outlinewidth": 0,
             "ticks": ""
            },
            "colorscale": [
             [
              0.0,
              "#0d0887"
             ],
             [
              0.1111111111111111,
              "#46039f"
             ],
             [
              0.2222222222222222,
              "#7201a8"
             ],
             [
              0.3333333333333333,
              "#9c179e"
             ],
             [
              0.4444444444444444,
              "#bd3786"
             ],
             [
              0.5555555555555556,
              "#d8576b"
             ],
             [
              0.6666666666666666,
              "#ed7953"
             ],
             [
              0.7777777777777778,
              "#fb9f3a"
             ],
             [
              0.8888888888888888,
              "#fdca26"
             ],
             [
              1.0,
              "#f0f921"
             ]
            ]
           }
          ],
          "contourcarpet": [
           {
            "type": "contourcarpet",
            "colorbar": {
             "outlinewidth": 0,
             "ticks": ""
            }
           }
          ],
          "contour": [
           {
            "type": "contour",
            "colorbar": {
             "outlinewidth": 0,
             "ticks": ""
            },
            "colorscale": [
             [
              0.0,
              "#0d0887"
             ],
             [
              0.1111111111111111,
              "#46039f"
             ],
             [
              0.2222222222222222,
              "#7201a8"
             ],
             [
              0.3333333333333333,
              "#9c179e"
             ],
             [
              0.4444444444444444,
              "#bd3786"
             ],
             [
              0.5555555555555556,
              "#d8576b"
             ],
             [
              0.6666666666666666,
              "#ed7953"
             ],
             [
              0.7777777777777778,
              "#fb9f3a"
             ],
             [
              0.8888888888888888,
              "#fdca26"
             ],
             [
              1.0,
              "#f0f921"
             ]
            ]
           }
          ],
          "surface": [
           {
            "type": "surface",
            "colorbar": {
             "outlinewidth": 0,
             "ticks": ""
            },
            "colorscale": [
             [
              0.0,
              "#0d0887"
             ],
             [
              0.1111111111111111,
              "#46039f"
             ],
             [
              0.2222222222222222,
              "#7201a8"
             ],
             [
              0.3333333333333333,
              "#9c179e"
             ],
             [
              0.4444444444444444,
              "#bd3786"
             ],
             [
              0.5555555555555556,
              "#d8576b"
             ],
             [
              0.6666666666666666,
              "#ed7953"
             ],
             [
              0.7777777777777778,
              "#fb9f3a"
             ],
             [
              0.8888888888888888,
              "#fdca26"
             ],
             [
              1.0,
              "#f0f921"
             ]
            ]
           }
          ],
          "mesh3d": [
           {
            "type": "mesh3d",
            "colorbar": {
             "outlinewidth": 0,
             "ticks": ""
            }
           }
          ],
          "scatter": [
           {
            "fillpattern": {
             "fillmode": "overlay",
             "size": 10,
             "solidity": 0.2
            },
            "type": "scatter"
           }
          ],
          "parcoords": [
           {
            "type": "parcoords",
            "line": {
             "colorbar": {
              "outlinewidth": 0,
              "ticks": ""
             }
            }
           }
          ],
          "scatterpolargl": [
           {
            "type": "scatterpolargl",
            "marker": {
             "colorbar": {
              "outlinewidth": 0,
              "ticks": ""
             }
            }
           }
          ],
          "bar": [
           {
            "error_x": {
             "color": "#2a3f5f"
            },
            "error_y": {
             "color": "#2a3f5f"
            },
            "marker": {
             "line": {
              "color": "#E5ECF6",
              "width": 0.5
             },
             "pattern": {
              "fillmode": "overlay",
              "size": 10,
              "solidity": 0.2
             }
            },
            "type": "bar"
           }
          ],
          "scattergeo": [
           {
            "type": "scattergeo",
            "marker": {
             "colorbar": {
              "outlinewidth": 0,
              "ticks": ""
             }
            }
           }
          ],
          "scatterpolar": [
           {
            "type": "scatterpolar",
            "marker": {
             "colorbar": {
              "outlinewidth": 0,
              "ticks": ""
             }
            }
           }
          ],
          "histogram": [
           {
            "marker": {
             "pattern": {
              "fillmode": "overlay",
              "size": 10,
              "solidity": 0.2
             }
            },
            "type": "histogram"
           }
          ],
          "scattergl": [
           {
            "type": "scattergl",
            "marker": {
             "colorbar": {
              "outlinewidth": 0,
              "ticks": ""
             }
            }
           }
          ],
          "scatter3d": [
           {
            "type": "scatter3d",
            "line": {
             "colorbar": {
              "outlinewidth": 0,
              "ticks": ""
             }
            },
            "marker": {
             "colorbar": {
              "outlinewidth": 0,
              "ticks": ""
             }
            }
           }
          ],
          "scattermap": [
           {
            "type": "scattermap",
            "marker": {
             "colorbar": {
              "outlinewidth": 0,
              "ticks": ""
             }
            }
           }
          ],
          "scattermapbox": [
           {
            "type": "scattermapbox",
            "marker": {
             "colorbar": {
              "outlinewidth": 0,
              "ticks": ""
             }
            }
           }
          ],
          "scatterternary": [
           {
            "type": "scatterternary",
            "marker": {
             "colorbar": {
              "outlinewidth": 0,
              "ticks": ""
             }
            }
           }
          ],
          "scattercarpet": [
           {
            "type": "scattercarpet",
            "marker": {
             "colorbar": {
              "outlinewidth": 0,
              "ticks": ""
             }
            }
           }
          ],
          "carpet": [
           {
            "aaxis": {
             "endlinecolor": "#2a3f5f",
             "gridcolor": "white",
             "linecolor": "white",
             "minorgridcolor": "white",
             "startlinecolor": "#2a3f5f"
            },
            "baxis": {
             "endlinecolor": "#2a3f5f",
             "gridcolor": "white",
             "linecolor": "white",
             "minorgridcolor": "white",
             "startlinecolor": "#2a3f5f"
            },
            "type": "carpet"
           }
          ],
          "table": [
           {
            "cells": {
             "fill": {
              "color": "#EBF0F8"
             },
             "line": {
              "color": "white"
             }
            },
            "header": {
             "fill": {
              "color": "#C8D4E3"
             },
             "line": {
              "color": "white"
             }
            },
            "type": "table"
           }
          ],
          "barpolar": [
           {
            "marker": {
             "line": {
              "color": "#E5ECF6",
              "width": 0.5
             },
             "pattern": {
              "fillmode": "overlay",
              "size": 10,
              "solidity": 0.2
             }
            },
            "type": "barpolar"
           }
          ],
          "pie": [
           {
            "automargin": true,
            "type": "pie"
           }
          ]
         },
         "layout": {
          "autotypenumbers": "strict",
          "colorway": [
           "#636efa",
           "#EF553B",
           "#00cc96",
           "#ab63fa",
           "#FFA15A",
           "#19d3f3",
           "#FF6692",
           "#B6E880",
           "#FF97FF",
           "#FECB52"
          ],
          "font": {
           "color": "#2a3f5f"
          },
          "hovermode": "closest",
          "hoverlabel": {
           "align": "left"
          },
          "paper_bgcolor": "white",
          "plot_bgcolor": "#E5ECF6",
          "polar": {
           "bgcolor": "#E5ECF6",
           "angularaxis": {
            "gridcolor": "white",
            "linecolor": "white",
            "ticks": ""
           },
           "radialaxis": {
            "gridcolor": "white",
            "linecolor": "white",
            "ticks": ""
           }
          },
          "ternary": {
           "bgcolor": "#E5ECF6",
           "aaxis": {
            "gridcolor": "white",
            "linecolor": "white",
            "ticks": ""
           },
           "baxis": {
            "gridcolor": "white",
            "linecolor": "white",
            "ticks": ""
           },
           "caxis": {
            "gridcolor": "white",
            "linecolor": "white",
            "ticks": ""
           }
          },
          "coloraxis": {
           "colorbar": {
            "outlinewidth": 0,
            "ticks": ""
           }
          },
          "colorscale": {
           "sequential": [
            [
             0.0,
             "#0d0887"
            ],
            [
             0.1111111111111111,
             "#46039f"
            ],
            [
             0.2222222222222222,
             "#7201a8"
            ],
            [
             0.3333333333333333,
             "#9c179e"
            ],
            [
             0.4444444444444444,
             "#bd3786"
            ],
            [
             0.5555555555555556,
             "#d8576b"
            ],
            [
             0.6666666666666666,
             "#ed7953"
            ],
            [
             0.7777777777777778,
             "#fb9f3a"
            ],
            [
             0.8888888888888888,
             "#fdca26"
            ],
            [
             1.0,
             "#f0f921"
            ]
           ],
           "sequentialminus": [
            [
             0.0,
             "#0d0887"
            ],
            [
             0.1111111111111111,
             "#46039f"
            ],
            [
             0.2222222222222222,
             "#7201a8"
            ],
            [
             0.3333333333333333,
             "#9c179e"
            ],
            [
             0.4444444444444444,
             "#bd3786"
            ],
            [
             0.5555555555555556,
             "#d8576b"
            ],
            [
             0.6666666666666666,
             "#ed7953"
            ],
            [
             0.7777777777777778,
             "#fb9f3a"
            ],
            [
             0.8888888888888888,
             "#fdca26"
            ],
            [
             1.0,
             "#f0f921"
            ]
           ],
           "diverging": [
            [
             0,
             "#8e0152"
            ],
            [
             0.1,
             "#c51b7d"
            ],
            [
             0.2,
             "#de77ae"
            ],
            [
             0.3,
             "#f1b6da"
            ],
            [
             0.4,
             "#fde0ef"
            ],
            [
             0.5,
             "#f7f7f7"
            ],
            [
             0.6,
             "#e6f5d0"
            ],
            [
             0.7,
             "#b8e186"
            ],
            [
             0.8,
             "#7fbc41"
            ],
            [
             0.9,
             "#4d9221"
            ],
            [
             1,
             "#276419"
            ]
           ]
          },
          "xaxis": {
           "gridcolor": "white",
           "linecolor": "white",
           "ticks": "",
           "title": {
            "standoff": 15
           },
           "zerolinecolor": "white",
           "automargin": true,
           "zerolinewidth": 2
          },
          "yaxis": {
           "gridcolor": "white",
           "linecolor": "white",
           "ticks": "",
           "title": {
            "standoff": 15
           },
           "zerolinecolor": "white",
           "automargin": true,
           "zerolinewidth": 2
          },
          "scene": {
           "xaxis": {
            "backgroundcolor": "#E5ECF6",
            "gridcolor": "white",
            "linecolor": "white",
            "showbackground": true,
            "ticks": "",
            "zerolinecolor": "white",
            "gridwidth": 2
           },
           "yaxis": {
            "backgroundcolor": "#E5ECF6",
            "gridcolor": "white",
            "linecolor": "white",
            "showbackground": true,
            "ticks": "",
            "zerolinecolor": "white",
            "gridwidth": 2
           },
           "zaxis": {
            "backgroundcolor": "#E5ECF6",
            "gridcolor": "white",
            "linecolor": "white",
            "showbackground": true,
            "ticks": "",
            "zerolinecolor": "white",
            "gridwidth": 2
           }
          },
          "shapedefaults": {
           "line": {
            "color": "#2a3f5f"
           }
          },
          "annotationdefaults": {
           "arrowcolor": "#2a3f5f",
           "arrowhead": 0,
           "arrowwidth": 1
          },
          "geo": {
           "bgcolor": "white",
           "landcolor": "#E5ECF6",
           "subunitcolor": "white",
           "showland": true,
           "showlakes": true,
           "lakecolor": "white"
          },
          "title": {
           "x": 0.05
          },
          "mapbox": {
           "style": "light"
          }
         }
        },
        "title": {
         "font": {
          "size": 27
         },
         "pad": {
          "t": 0,
          "b": 0,
          "l": 0,
          "r": 0
         },
         "text": "Workstation Topology",
         "x": 0.5,
         "xanchor": "center"
        },
        "xaxis": {
         "visible": false,
         "range": [
          -3.1875,
          16.4375
         ]
        },
        "yaxis": {
         "visible": false,
         "range": [
          -2.9375,
          5.5625
         ],
         "scaleanchor": "x",
         "scaleratio": 1
        },
        "margin": {
         "l": 0,
         "r": 0,
         "t": 0,
         "b": 0
        },
        "paper_bgcolor": "black",
        "plot_bgcolor": "black",
        "shapes": [
         {
          "fillcolor": "rgba(66,135,245,0.10)",
          "line": {
           "width": 0
          },
          "type": "rect",
          "x0": -3.125,
          "x1": 3.125,
          "xref": "x",
          "y0": -2.875,
          "y1": 2.875,
          "yref": "y"
         },
         {
          "fillcolor": "rgba(66,135,245,1)",
          "line": {
           "color": "white",
           "width": 2
          },
          "type": "rect",
          "x0": -1.875,
          "x1": 1.875,
          "xref": "x",
          "y0": 1.28125,
          "y1": 2.21875,
          "yref": "y"
         },
         {
          "fillcolor": "rgba(255,159,67,0.10)",
          "line": {
           "width": 0
          },
          "type": "rect",
          "x0": 3.5,
          "x1": 9.75,
          "xref": "x",
          "y0": -2.875,
          "y1": 2.875,
          "yref": "y"
         },
         {
          "fillcolor": "rgba(40,199,111,1)",
          "line": {
           "color": "white",
           "width": 2
          },
          "type": "rect",
          "x0": 4.75,
          "x1": 8.5,
          "xref": "x",
          "y0": 1.28125,
          "y1": 2.21875,
          "yref": "y"
         },
         {
          "fillcolor": "rgba(255,159,67,1)",
          "line": {
           "color": "white",
           "width": 2
          },
          "type": "rect",
          "x0": 4.75,
          "x1": 8.5,
          "xref": "x",
          "y0": -0.46875,
          "y1": 0.46875,
          "yref": "y"
         },
         {
          "fillcolor": "rgba(255,159,67,1)",
          "line": {
           "color": "white",
           "width": 2
          },
          "type": "rect",
          "x0": 4.75,
          "x1": 8.5,
          "xref": "x",
          "y0": -2.21875,
          "y1": -1.28125,
          "yref": "y"
         },
         {
          "fillcolor": "rgba(235,87,87,0.10)",
          "line": {
           "width": 0
          },
          "type": "rect",
          "x0": 10.125,
          "x1": 16.375,
          "xref": "x",
          "y0": -2.875,
          "y1": 2.875,
          "yref": "y"
         },
         {
          "fillcolor": "rgba(235,87,87,1)",
          "line": {
           "color": "white",
           "width": 2
          },
          "type": "rect",
          "x0": 11.375,
          "x1": 15.125,
          "xref": "x",
          "y0": 1.28125,
          "y1": 2.21875,
          "yref": "y"
         },
         {
          "fillcolor": "rgba(235,87,87,1)",
          "line": {
           "color": "white",
           "width": 2
          },
          "type": "rect",
          "x0": 11.375,
          "x1": 15.125,
          "xref": "x",
          "y0": -0.46875,
          "y1": 0.46875,
          "yref": "y"
         },
         {
          "fillcolor": "rgba(66, 245, 173, 1)",
          "line": {
           "color": "white",
           "width": 2
          },
          "type": "rect",
          "x0": 7.375,
          "x1": 9.875,
          "xref": "x",
          "y0": 4.25,
          "y1": 5.5,
          "yref": "y"
         },
         {
          "fillcolor": "rgba(245, 127, 66, 1)",
          "line": {
           "color": "white",
           "width": 2
          },
          "type": "rect",
          "x0": 3.375,
          "x1": 5.875,
          "xref": "x",
          "y0": 4.25,
          "y1": 5.5,
          "yref": "y"
         }
        ],
        "annotations": [
         {
          "font": {
           "color": "#FFFFFF",
           "size": 17
          },
          "showarrow": false,
          "text": "<b>Kitting</b>",
          "x": 0.0,
          "xanchor": "center",
          "xref": "x",
          "y": 3.0,
          "yref": "y"
         },
         {
          "font": {
           "color": "#FFFFFF",
           "size": 40
          },
          "showarrow": false,
          "text": "<b>id:3 kitting</b>",
          "x": 0.0,
          "xanchor": "center",
          "xref": "x",
          "y": 1.75,
          "yanchor": "middle",
          "yref": "y"
         },
         {
          "font": {
           "color": "#FFFFFF",
           "size": 17
          },
          "showarrow": false,
          "text": "<b>Build</b>",
          "x": 6.625,
          "xanchor": "center",
          "xref": "x",
          "y": 3.0,
          "yref": "y"
         },
         {
          "font": {
           "color": "#FFFFFF",
           "size": 40
          },
          "showarrow": false,
          "text": "<b>id:4 grip</b>",
          "x": 6.625,
          "xanchor": "center",
          "xref": "x",
          "y": 1.75,
          "yanchor": "middle",
          "yref": "y"
         },
         {
          "font": {
           "color": "#FFFFFF",
           "size": 40
          },
          "showarrow": false,
          "text": "<b>id:5 grip & screws</b>",
          "x": 6.625,
          "xanchor": "center",
          "xref": "x",
          "y": 0.0,
          "yanchor": "middle",
          "yref": "y"
         },
         {
          "font": {
           "color": "#FFFFFF",
           "size": 40
          },
          "showarrow": false,
          "text": "<b>id:6 grip & screws</b>",
          "x": 6.625,
          "xanchor": "center",
          "xref": "x",
          "y": -1.75,
          "yanchor": "middle",
          "yref": "y"
         },
         {
          "font": {
           "color": "#FFFFFF",
           "size": 17
          },
          "showarrow": false,
          "text": "<b>Packing</b>",
          "x": 13.25,
          "xanchor": "center",
          "xref": "x",
          "y": 3.0,
          "yref": "y"
         },
         {
          "font": {
           "color": "#FFFFFF",
           "size": 40
          },
          "showarrow": false,
          "text": "<b>id:7 pallet</b>",
          "x": 13.25,
          "xanchor": "center",
          "xref": "x",
          "y": 1.75,
          "yanchor": "middle",
          "yref": "y"
         },
         {
          "font": {
           "color": "#FFFFFF",
           "size": 40
          },
          "showarrow": false,
          "text": "<b>id:8 pallet</b>",
          "x": 13.25,
          "xanchor": "center",
          "xref": "x",
          "y": 0.0,
          "yanchor": "middle",
          "yref": "y"
         },
         {
          "font": {
           "color": "#000000",
           "size": 40
          },
          "showarrow": false,
          "text": "<b>human</b>",
          "x": 8.625,
          "xanchor": "center",
          "xref": "x",
          "y": 4.875,
          "yanchor": "middle",
          "yref": "y"
         },
         {
          "font": {
           "color": "#000000",
           "size": 40
          },
          "showarrow": false,
          "text": "<b>robot</b>",
          "x": 4.625,
          "xanchor": "center",
          "xref": "x",
          "y": 4.875,
          "yanchor": "middle",
          "yref": "y"
         },
         {
          "arrowcolor": "#BBBBBB",
          "arrowhead": 3,
          "arrowsize": 1.3,
          "arrowwidth": 2,
          "ax": 1.875,
          "axref": "x",
          "ay": 1.75,
          "ayref": "y",
          "opacity": 0.9,
          "showarrow": true,
          "text": "",
          "x": 4.75,
          "xref": "x",
          "y": 1.75,
          "yref": "y"
         },
         {
          "arrowcolor": "#BBBBBB",
          "arrowhead": 3,
          "arrowsize": 1.3,
          "arrowwidth": 2,
          "ax": 6.625,
          "axref": "x",
          "ay": 1.28125,
          "ayref": "y",
          "opacity": 0.9,
          "showarrow": true,
          "text": "",
          "x": 6.625,
          "xref": "x",
          "y": 0.46875,
          "yref": "y"
         },
         {
          "arrowcolor": "#BBBBBB",
          "arrowhead": 3,
          "arrowsize": 1.3,
          "arrowwidth": 2,
          "ax": 8.5,
          "axref": "x",
          "ay": 0.0,
          "ayref": "y",
          "opacity": 0.9,
          "showarrow": true,
          "text": "",
          "x": 11.375,
          "xref": "x",
          "y": 1.75,
          "yref": "y"
         },
         {
          "arrowcolor": "#BBBBBB",
          "arrowhead": 3,
          "arrowsize": 1.3,
          "arrowwidth": 2,
          "ax": 8.5,
          "axref": "x",
          "ay": -1.75,
          "ayref": "y",
          "opacity": 0.9,
          "showarrow": true,
          "text": "",
          "x": 11.375,
          "xref": "x",
          "y": 0.0,
          "yref": "y"
         }
        ],
        "width": 1400,
        "height": 600,
        "autosize": false
       },
       "config": {
        "plotlyServerURL": "https://plot.ly"
       }
      }
     },
     "metadata": {},
     "output_type": "display_data"
    }
   ],
   "execution_count": 5
  },
  {
   "metadata": {
    "ExecuteTime": {
     "end_time": "2025-10-01T15:10:22.118792Z",
     "start_time": "2025-10-01T15:10:22.084160Z"
    }
   },
   "cell_type": "code",
   "source": [
    "#fourth problem\n",
    "problem = FJTransportProblem(symmetry_breaking=True)\n",
    "problem.add_human()\n",
    "problem.set_dur_hum(HUMAN_JOBS_TIME)\n",
    "problem.add_robot()\n",
    "problem.set_dur_robot(ROBOT_JOBS_TIME)\n",
    "\n",
    "id_kit_1 = problem.add_workstation(WS_KITTING)\n",
    "id_kit_2 = problem.add_workstation(WS_KITTING)\n",
    "id_grip = problem.add_workstation(WS_BUILDING_1)\n",
    "id_gs = problem.add_workstation(WS_BUILDING_2)\n",
    "id_pal = problem.add_workstation(WS_PALLETTING)\n",
    "id_pal_2 = problem.add_workstation(WS_PALLETTING)\n",
    "\n",
    "problem.add_transport(id_kit_1, id_grip)\n",
    "problem.add_transport(id_grip, id_pal)\n",
    "problem.add_transport(id_kit_2, id_gs)\n",
    "problem.add_transport(id_gs, id_pal_2)\n",
    "\n",
    "problem.set_t_conv(3)\n",
    "problem.add_items_to_build(FLASHLIGHT_CLIPPED,6)\n",
    "problem.add_items_to_build(FLASHLIGHT_SCREWS,6)\n",
    "problem.model_problem()\n",
    "problem.make_ws_topology()\n",
    "\n",
    "tuner.add_problem(problem.m)"
   ],
   "id": "afcbcab530fbb279",
   "outputs": [
    {
     "data": {
      "application/vnd.plotly.v1+json": {
       "data": [],
       "layout": {
        "template": {
         "data": {
          "histogram2dcontour": [
           {
            "type": "histogram2dcontour",
            "colorbar": {
             "outlinewidth": 0,
             "ticks": ""
            },
            "colorscale": [
             [
              0.0,
              "#0d0887"
             ],
             [
              0.1111111111111111,
              "#46039f"
             ],
             [
              0.2222222222222222,
              "#7201a8"
             ],
             [
              0.3333333333333333,
              "#9c179e"
             ],
             [
              0.4444444444444444,
              "#bd3786"
             ],
             [
              0.5555555555555556,
              "#d8576b"
             ],
             [
              0.6666666666666666,
              "#ed7953"
             ],
             [
              0.7777777777777778,
              "#fb9f3a"
             ],
             [
              0.8888888888888888,
              "#fdca26"
             ],
             [
              1.0,
              "#f0f921"
             ]
            ]
           }
          ],
          "choropleth": [
           {
            "type": "choropleth",
            "colorbar": {
             "outlinewidth": 0,
             "ticks": ""
            }
           }
          ],
          "histogram2d": [
           {
            "type": "histogram2d",
            "colorbar": {
             "outlinewidth": 0,
             "ticks": ""
            },
            "colorscale": [
             [
              0.0,
              "#0d0887"
             ],
             [
              0.1111111111111111,
              "#46039f"
             ],
             [
              0.2222222222222222,
              "#7201a8"
             ],
             [
              0.3333333333333333,
              "#9c179e"
             ],
             [
              0.4444444444444444,
              "#bd3786"
             ],
             [
              0.5555555555555556,
              "#d8576b"
             ],
             [
              0.6666666666666666,
              "#ed7953"
             ],
             [
              0.7777777777777778,
              "#fb9f3a"
             ],
             [
              0.8888888888888888,
              "#fdca26"
             ],
             [
              1.0,
              "#f0f921"
             ]
            ]
           }
          ],
          "heatmap": [
           {
            "type": "heatmap",
            "colorbar": {
             "outlinewidth": 0,
             "ticks": ""
            },
            "colorscale": [
             [
              0.0,
              "#0d0887"
             ],
             [
              0.1111111111111111,
              "#46039f"
             ],
             [
              0.2222222222222222,
              "#7201a8"
             ],
             [
              0.3333333333333333,
              "#9c179e"
             ],
             [
              0.4444444444444444,
              "#bd3786"
             ],
             [
              0.5555555555555556,
              "#d8576b"
             ],
             [
              0.6666666666666666,
              "#ed7953"
             ],
             [
              0.7777777777777778,
              "#fb9f3a"
             ],
             [
              0.8888888888888888,
              "#fdca26"
             ],
             [
              1.0,
              "#f0f921"
             ]
            ]
           }
          ],
          "contourcarpet": [
           {
            "type": "contourcarpet",
            "colorbar": {
             "outlinewidth": 0,
             "ticks": ""
            }
           }
          ],
          "contour": [
           {
            "type": "contour",
            "colorbar": {
             "outlinewidth": 0,
             "ticks": ""
            },
            "colorscale": [
             [
              0.0,
              "#0d0887"
             ],
             [
              0.1111111111111111,
              "#46039f"
             ],
             [
              0.2222222222222222,
              "#7201a8"
             ],
             [
              0.3333333333333333,
              "#9c179e"
             ],
             [
              0.4444444444444444,
              "#bd3786"
             ],
             [
              0.5555555555555556,
              "#d8576b"
             ],
             [
              0.6666666666666666,
              "#ed7953"
             ],
             [
              0.7777777777777778,
              "#fb9f3a"
             ],
             [
              0.8888888888888888,
              "#fdca26"
             ],
             [
              1.0,
              "#f0f921"
             ]
            ]
           }
          ],
          "surface": [
           {
            "type": "surface",
            "colorbar": {
             "outlinewidth": 0,
             "ticks": ""
            },
            "colorscale": [
             [
              0.0,
              "#0d0887"
             ],
             [
              0.1111111111111111,
              "#46039f"
             ],
             [
              0.2222222222222222,
              "#7201a8"
             ],
             [
              0.3333333333333333,
              "#9c179e"
             ],
             [
              0.4444444444444444,
              "#bd3786"
             ],
             [
              0.5555555555555556,
              "#d8576b"
             ],
             [
              0.6666666666666666,
              "#ed7953"
             ],
             [
              0.7777777777777778,
              "#fb9f3a"
             ],
             [
              0.8888888888888888,
              "#fdca26"
             ],
             [
              1.0,
              "#f0f921"
             ]
            ]
           }
          ],
          "mesh3d": [
           {
            "type": "mesh3d",
            "colorbar": {
             "outlinewidth": 0,
             "ticks": ""
            }
           }
          ],
          "scatter": [
           {
            "fillpattern": {
             "fillmode": "overlay",
             "size": 10,
             "solidity": 0.2
            },
            "type": "scatter"
           }
          ],
          "parcoords": [
           {
            "type": "parcoords",
            "line": {
             "colorbar": {
              "outlinewidth": 0,
              "ticks": ""
             }
            }
           }
          ],
          "scatterpolargl": [
           {
            "type": "scatterpolargl",
            "marker": {
             "colorbar": {
              "outlinewidth": 0,
              "ticks": ""
             }
            }
           }
          ],
          "bar": [
           {
            "error_x": {
             "color": "#2a3f5f"
            },
            "error_y": {
             "color": "#2a3f5f"
            },
            "marker": {
             "line": {
              "color": "#E5ECF6",
              "width": 0.5
             },
             "pattern": {
              "fillmode": "overlay",
              "size": 10,
              "solidity": 0.2
             }
            },
            "type": "bar"
           }
          ],
          "scattergeo": [
           {
            "type": "scattergeo",
            "marker": {
             "colorbar": {
              "outlinewidth": 0,
              "ticks": ""
             }
            }
           }
          ],
          "scatterpolar": [
           {
            "type": "scatterpolar",
            "marker": {
             "colorbar": {
              "outlinewidth": 0,
              "ticks": ""
             }
            }
           }
          ],
          "histogram": [
           {
            "marker": {
             "pattern": {
              "fillmode": "overlay",
              "size": 10,
              "solidity": 0.2
             }
            },
            "type": "histogram"
           }
          ],
          "scattergl": [
           {
            "type": "scattergl",
            "marker": {
             "colorbar": {
              "outlinewidth": 0,
              "ticks": ""
             }
            }
           }
          ],
          "scatter3d": [
           {
            "type": "scatter3d",
            "line": {
             "colorbar": {
              "outlinewidth": 0,
              "ticks": ""
             }
            },
            "marker": {
             "colorbar": {
              "outlinewidth": 0,
              "ticks": ""
             }
            }
           }
          ],
          "scattermap": [
           {
            "type": "scattermap",
            "marker": {
             "colorbar": {
              "outlinewidth": 0,
              "ticks": ""
             }
            }
           }
          ],
          "scattermapbox": [
           {
            "type": "scattermapbox",
            "marker": {
             "colorbar": {
              "outlinewidth": 0,
              "ticks": ""
             }
            }
           }
          ],
          "scatterternary": [
           {
            "type": "scatterternary",
            "marker": {
             "colorbar": {
              "outlinewidth": 0,
              "ticks": ""
             }
            }
           }
          ],
          "scattercarpet": [
           {
            "type": "scattercarpet",
            "marker": {
             "colorbar": {
              "outlinewidth": 0,
              "ticks": ""
             }
            }
           }
          ],
          "carpet": [
           {
            "aaxis": {
             "endlinecolor": "#2a3f5f",
             "gridcolor": "white",
             "linecolor": "white",
             "minorgridcolor": "white",
             "startlinecolor": "#2a3f5f"
            },
            "baxis": {
             "endlinecolor": "#2a3f5f",
             "gridcolor": "white",
             "linecolor": "white",
             "minorgridcolor": "white",
             "startlinecolor": "#2a3f5f"
            },
            "type": "carpet"
           }
          ],
          "table": [
           {
            "cells": {
             "fill": {
              "color": "#EBF0F8"
             },
             "line": {
              "color": "white"
             }
            },
            "header": {
             "fill": {
              "color": "#C8D4E3"
             },
             "line": {
              "color": "white"
             }
            },
            "type": "table"
           }
          ],
          "barpolar": [
           {
            "marker": {
             "line": {
              "color": "#E5ECF6",
              "width": 0.5
             },
             "pattern": {
              "fillmode": "overlay",
              "size": 10,
              "solidity": 0.2
             }
            },
            "type": "barpolar"
           }
          ],
          "pie": [
           {
            "automargin": true,
            "type": "pie"
           }
          ]
         },
         "layout": {
          "autotypenumbers": "strict",
          "colorway": [
           "#636efa",
           "#EF553B",
           "#00cc96",
           "#ab63fa",
           "#FFA15A",
           "#19d3f3",
           "#FF6692",
           "#B6E880",
           "#FF97FF",
           "#FECB52"
          ],
          "font": {
           "color": "#2a3f5f"
          },
          "hovermode": "closest",
          "hoverlabel": {
           "align": "left"
          },
          "paper_bgcolor": "white",
          "plot_bgcolor": "#E5ECF6",
          "polar": {
           "bgcolor": "#E5ECF6",
           "angularaxis": {
            "gridcolor": "white",
            "linecolor": "white",
            "ticks": ""
           },
           "radialaxis": {
            "gridcolor": "white",
            "linecolor": "white",
            "ticks": ""
           }
          },
          "ternary": {
           "bgcolor": "#E5ECF6",
           "aaxis": {
            "gridcolor": "white",
            "linecolor": "white",
            "ticks": ""
           },
           "baxis": {
            "gridcolor": "white",
            "linecolor": "white",
            "ticks": ""
           },
           "caxis": {
            "gridcolor": "white",
            "linecolor": "white",
            "ticks": ""
           }
          },
          "coloraxis": {
           "colorbar": {
            "outlinewidth": 0,
            "ticks": ""
           }
          },
          "colorscale": {
           "sequential": [
            [
             0.0,
             "#0d0887"
            ],
            [
             0.1111111111111111,
             "#46039f"
            ],
            [
             0.2222222222222222,
             "#7201a8"
            ],
            [
             0.3333333333333333,
             "#9c179e"
            ],
            [
             0.4444444444444444,
             "#bd3786"
            ],
            [
             0.5555555555555556,
             "#d8576b"
            ],
            [
             0.6666666666666666,
             "#ed7953"
            ],
            [
             0.7777777777777778,
             "#fb9f3a"
            ],
            [
             0.8888888888888888,
             "#fdca26"
            ],
            [
             1.0,
             "#f0f921"
            ]
           ],
           "sequentialminus": [
            [
             0.0,
             "#0d0887"
            ],
            [
             0.1111111111111111,
             "#46039f"
            ],
            [
             0.2222222222222222,
             "#7201a8"
            ],
            [
             0.3333333333333333,
             "#9c179e"
            ],
            [
             0.4444444444444444,
             "#bd3786"
            ],
            [
             0.5555555555555556,
             "#d8576b"
            ],
            [
             0.6666666666666666,
             "#ed7953"
            ],
            [
             0.7777777777777778,
             "#fb9f3a"
            ],
            [
             0.8888888888888888,
             "#fdca26"
            ],
            [
             1.0,
             "#f0f921"
            ]
           ],
           "diverging": [
            [
             0,
             "#8e0152"
            ],
            [
             0.1,
             "#c51b7d"
            ],
            [
             0.2,
             "#de77ae"
            ],
            [
             0.3,
             "#f1b6da"
            ],
            [
             0.4,
             "#fde0ef"
            ],
            [
             0.5,
             "#f7f7f7"
            ],
            [
             0.6,
             "#e6f5d0"
            ],
            [
             0.7,
             "#b8e186"
            ],
            [
             0.8,
             "#7fbc41"
            ],
            [
             0.9,
             "#4d9221"
            ],
            [
             1,
             "#276419"
            ]
           ]
          },
          "xaxis": {
           "gridcolor": "white",
           "linecolor": "white",
           "ticks": "",
           "title": {
            "standoff": 15
           },
           "zerolinecolor": "white",
           "automargin": true,
           "zerolinewidth": 2
          },
          "yaxis": {
           "gridcolor": "white",
           "linecolor": "white",
           "ticks": "",
           "title": {
            "standoff": 15
           },
           "zerolinecolor": "white",
           "automargin": true,
           "zerolinewidth": 2
          },
          "scene": {
           "xaxis": {
            "backgroundcolor": "#E5ECF6",
            "gridcolor": "white",
            "linecolor": "white",
            "showbackground": true,
            "ticks": "",
            "zerolinecolor": "white",
            "gridwidth": 2
           },
           "yaxis": {
            "backgroundcolor": "#E5ECF6",
            "gridcolor": "white",
            "linecolor": "white",
            "showbackground": true,
            "ticks": "",
            "zerolinecolor": "white",
            "gridwidth": 2
           },
           "zaxis": {
            "backgroundcolor": "#E5ECF6",
            "gridcolor": "white",
            "linecolor": "white",
            "showbackground": true,
            "ticks": "",
            "zerolinecolor": "white",
            "gridwidth": 2
           }
          },
          "shapedefaults": {
           "line": {
            "color": "#2a3f5f"
           }
          },
          "annotationdefaults": {
           "arrowcolor": "#2a3f5f",
           "arrowhead": 0,
           "arrowwidth": 1
          },
          "geo": {
           "bgcolor": "white",
           "landcolor": "#E5ECF6",
           "subunitcolor": "white",
           "showland": true,
           "showlakes": true,
           "lakecolor": "white"
          },
          "title": {
           "x": 0.05
          },
          "mapbox": {
           "style": "light"
          }
         }
        },
        "title": {
         "font": {
          "size": 27
         },
         "pad": {
          "t": 0,
          "b": 0,
          "l": 0,
          "r": 0
         },
         "text": "Workstation Topology",
         "x": 0.5,
         "xanchor": "center"
        },
        "xaxis": {
         "visible": false,
         "range": [
          -3.1875,
          16.4375
         ]
        },
        "yaxis": {
         "visible": false,
         "range": [
          -2.0625,
          4.6875
         ],
         "scaleanchor": "x",
         "scaleratio": 1
        },
        "margin": {
         "l": 0,
         "r": 0,
         "t": 0,
         "b": 0
        },
        "paper_bgcolor": "black",
        "plot_bgcolor": "black",
        "shapes": [
         {
          "fillcolor": "rgba(66,135,245,0.10)",
          "line": {
           "width": 0
          },
          "type": "rect",
          "x0": -3.125,
          "x1": 3.125,
          "xref": "x",
          "y0": -2.0,
          "y1": 2.0,
          "yref": "y"
         },
         {
          "fillcolor": "rgba(66,135,245,1)",
          "line": {
           "color": "white",
           "width": 2
          },
          "type": "rect",
          "x0": -1.875,
          "x1": 1.875,
          "xref": "x",
          "y0": 0.40625,
          "y1": 1.34375,
          "yref": "y"
         },
         {
          "fillcolor": "rgba(66,135,245,1)",
          "line": {
           "color": "white",
           "width": 2
          },
          "type": "rect",
          "x0": -1.875,
          "x1": 1.875,
          "xref": "x",
          "y0": -1.34375,
          "y1": -0.40625,
          "yref": "y"
         },
         {
          "fillcolor": "rgba(255,159,67,0.10)",
          "line": {
           "width": 0
          },
          "type": "rect",
          "x0": 3.5,
          "x1": 9.75,
          "xref": "x",
          "y0": -2.0,
          "y1": 2.0,
          "yref": "y"
         },
         {
          "fillcolor": "rgba(40,199,111,1)",
          "line": {
           "color": "white",
           "width": 2
          },
          "type": "rect",
          "x0": 4.75,
          "x1": 8.5,
          "xref": "x",
          "y0": 0.40625,
          "y1": 1.34375,
          "yref": "y"
         },
         {
          "fillcolor": "rgba(255,159,67,1)",
          "line": {
           "color": "white",
           "width": 2
          },
          "type": "rect",
          "x0": 4.75,
          "x1": 8.5,
          "xref": "x",
          "y0": -1.34375,
          "y1": -0.40625,
          "yref": "y"
         },
         {
          "fillcolor": "rgba(235,87,87,0.10)",
          "line": {
           "width": 0
          },
          "type": "rect",
          "x0": 10.125,
          "x1": 16.375,
          "xref": "x",
          "y0": -2.0,
          "y1": 2.0,
          "yref": "y"
         },
         {
          "fillcolor": "rgba(235,87,87,1)",
          "line": {
           "color": "white",
           "width": 2
          },
          "type": "rect",
          "x0": 11.375,
          "x1": 15.125,
          "xref": "x",
          "y0": 0.40625,
          "y1": 1.34375,
          "yref": "y"
         },
         {
          "fillcolor": "rgba(235,87,87,1)",
          "line": {
           "color": "white",
           "width": 2
          },
          "type": "rect",
          "x0": 11.375,
          "x1": 15.125,
          "xref": "x",
          "y0": -1.34375,
          "y1": -0.40625,
          "yref": "y"
         },
         {
          "fillcolor": "rgba(66, 245, 173, 1)",
          "line": {
           "color": "white",
           "width": 2
          },
          "type": "rect",
          "x0": 7.375,
          "x1": 9.875,
          "xref": "x",
          "y0": 3.375,
          "y1": 4.625,
          "yref": "y"
         },
         {
          "fillcolor": "rgba(245, 127, 66, 1)",
          "line": {
           "color": "white",
           "width": 2
          },
          "type": "rect",
          "x0": 3.375,
          "x1": 5.875,
          "xref": "x",
          "y0": 3.375,
          "y1": 4.625,
          "yref": "y"
         }
        ],
        "annotations": [
         {
          "font": {
           "color": "#FFFFFF",
           "size": 17
          },
          "showarrow": false,
          "text": "<b>Kitting</b>",
          "x": 0.0,
          "xanchor": "center",
          "xref": "x",
          "y": 2.125,
          "yref": "y"
         },
         {
          "font": {
           "color": "#FFFFFF",
           "size": 40
          },
          "showarrow": false,
          "text": "<b>id:3 kitting</b>",
          "x": 0.0,
          "xanchor": "center",
          "xref": "x",
          "y": 0.875,
          "yanchor": "middle",
          "yref": "y"
         },
         {
          "font": {
           "color": "#FFFFFF",
           "size": 40
          },
          "showarrow": false,
          "text": "<b>id:4 kitting</b>",
          "x": 0.0,
          "xanchor": "center",
          "xref": "x",
          "y": -0.875,
          "yanchor": "middle",
          "yref": "y"
         },
         {
          "font": {
           "color": "#FFFFFF",
           "size": 17
          },
          "showarrow": false,
          "text": "<b>Build</b>",
          "x": 6.625,
          "xanchor": "center",
          "xref": "x",
          "y": 2.125,
          "yref": "y"
         },
         {
          "font": {
           "color": "#FFFFFF",
           "size": 40
          },
          "showarrow": false,
          "text": "<b>id:5 grip</b>",
          "x": 6.625,
          "xanchor": "center",
          "xref": "x",
          "y": 0.875,
          "yanchor": "middle",
          "yref": "y"
         },
         {
          "font": {
           "color": "#FFFFFF",
           "size": 40
          },
          "showarrow": false,
          "text": "<b>id:6 grip & screws</b>",
          "x": 6.625,
          "xanchor": "center",
          "xref": "x",
          "y": -0.875,
          "yanchor": "middle",
          "yref": "y"
         },
         {
          "font": {
           "color": "#FFFFFF",
           "size": 17
          },
          "showarrow": false,
          "text": "<b>Packing</b>",
          "x": 13.25,
          "xanchor": "center",
          "xref": "x",
          "y": 2.125,
          "yref": "y"
         },
         {
          "font": {
           "color": "#FFFFFF",
           "size": 40
          },
          "showarrow": false,
          "text": "<b>id:7 pallet</b>",
          "x": 13.25,
          "xanchor": "center",
          "xref": "x",
          "y": 0.875,
          "yanchor": "middle",
          "yref": "y"
         },
         {
          "font": {
           "color": "#FFFFFF",
           "size": 40
          },
          "showarrow": false,
          "text": "<b>id:8 pallet</b>",
          "x": 13.25,
          "xanchor": "center",
          "xref": "x",
          "y": -0.875,
          "yanchor": "middle",
          "yref": "y"
         },
         {
          "font": {
           "color": "#000000",
           "size": 40
          },
          "showarrow": false,
          "text": "<b>human</b>",
          "x": 8.625,
          "xanchor": "center",
          "xref": "x",
          "y": 4.0,
          "yanchor": "middle",
          "yref": "y"
         },
         {
          "font": {
           "color": "#000000",
           "size": 40
          },
          "showarrow": false,
          "text": "<b>robot</b>",
          "x": 4.625,
          "xanchor": "center",
          "xref": "x",
          "y": 4.0,
          "yanchor": "middle",
          "yref": "y"
         },
         {
          "arrowcolor": "#BBBBBB",
          "arrowhead": 3,
          "arrowsize": 1.3,
          "arrowwidth": 2,
          "ax": 1.875,
          "axref": "x",
          "ay": 0.875,
          "ayref": "y",
          "opacity": 0.9,
          "showarrow": true,
          "text": "",
          "x": 4.75,
          "xref": "x",
          "y": 0.875,
          "yref": "y"
         },
         {
          "arrowcolor": "#BBBBBB",
          "arrowhead": 3,
          "arrowsize": 1.3,
          "arrowwidth": 2,
          "ax": 8.5,
          "axref": "x",
          "ay": 0.875,
          "ayref": "y",
          "opacity": 0.9,
          "showarrow": true,
          "text": "",
          "x": 11.375,
          "xref": "x",
          "y": 0.875,
          "yref": "y"
         },
         {
          "arrowcolor": "#BBBBBB",
          "arrowhead": 3,
          "arrowsize": 1.3,
          "arrowwidth": 2,
          "ax": 1.875,
          "axref": "x",
          "ay": -0.875,
          "ayref": "y",
          "opacity": 0.9,
          "showarrow": true,
          "text": "",
          "x": 4.75,
          "xref": "x",
          "y": -0.875,
          "yref": "y"
         },
         {
          "arrowcolor": "#BBBBBB",
          "arrowhead": 3,
          "arrowsize": 1.3,
          "arrowwidth": 2,
          "ax": 8.5,
          "axref": "x",
          "ay": -0.875,
          "ayref": "y",
          "opacity": 0.9,
          "showarrow": true,
          "text": "",
          "x": 11.375,
          "xref": "x",
          "y": -0.875,
          "yref": "y"
         }
        ],
        "width": 1400,
        "height": 600,
        "autosize": false
       },
       "config": {
        "plotlyServerURL": "https://plot.ly"
       }
      }
     },
     "metadata": {},
     "output_type": "display_data"
    }
   ],
   "execution_count": 6
  },
  {
   "metadata": {
    "ExecuteTime": {
     "end_time": "2025-10-01T15:10:25.714641Z",
     "start_time": "2025-10-01T15:10:25.668286Z"
    }
   },
   "cell_type": "code",
   "source": [
    "#fifth problem\n",
    "problem = FJTransportProblem(symmetry_breaking=True)\n",
    "problem.add_human()\n",
    "problem.set_dur_hum(HUMAN_JOBS_TIME)\n",
    "problem.add_robot()\n",
    "problem.set_dur_robot(ROBOT_JOBS_TIME)\n",
    "\n",
    "id_kit_1 = problem.add_workstation(WS_KITTING)\n",
    "id_kit_2 = problem.add_workstation(WS_KITTING)\n",
    "id_grip = problem.add_workstation(WS_BUILDING_1)\n",
    "id_gs = problem.add_workstation(WS_BUILDING_2)\n",
    "id_gs_2 = problem.add_workstation(WS_BUILDING_2)\n",
    "id_pal = problem.add_workstation(WS_PALLETTING)\n",
    "id_pal_2 = problem.add_workstation(WS_PALLETTING)\n",
    "\n",
    "problem.add_transport(id_kit_1, id_grip)\n",
    "problem.add_transport(id_grip, id_pal)\n",
    "problem.add_transport(id_grip, id_gs_2)\n",
    "problem.add_transport(id_gs_2, id_pal_2)\n",
    "problem.add_transport(id_kit_2, id_gs)\n",
    "problem.add_transport(id_gs, id_pal_2)\n",
    "\n",
    "problem.set_t_conv(3)\n",
    "problem.add_items_to_build(FLASHLIGHT_CLIPPED,5)\n",
    "problem.add_items_to_build(FLASHLIGHT_SCREWS,5)\n",
    "problem.model_problem()\n",
    "problem.make_ws_topology()\n",
    "\n",
    "tuner.add_problem(problem.m)"
   ],
   "id": "93c9815dc40f3a2e",
   "outputs": [
    {
     "data": {
      "application/vnd.plotly.v1+json": {
       "data": [],
       "layout": {
        "template": {
         "data": {
          "histogram2dcontour": [
           {
            "type": "histogram2dcontour",
            "colorbar": {
             "outlinewidth": 0,
             "ticks": ""
            },
            "colorscale": [
             [
              0.0,
              "#0d0887"
             ],
             [
              0.1111111111111111,
              "#46039f"
             ],
             [
              0.2222222222222222,
              "#7201a8"
             ],
             [
              0.3333333333333333,
              "#9c179e"
             ],
             [
              0.4444444444444444,
              "#bd3786"
             ],
             [
              0.5555555555555556,
              "#d8576b"
             ],
             [
              0.6666666666666666,
              "#ed7953"
             ],
             [
              0.7777777777777778,
              "#fb9f3a"
             ],
             [
              0.8888888888888888,
              "#fdca26"
             ],
             [
              1.0,
              "#f0f921"
             ]
            ]
           }
          ],
          "choropleth": [
           {
            "type": "choropleth",
            "colorbar": {
             "outlinewidth": 0,
             "ticks": ""
            }
           }
          ],
          "histogram2d": [
           {
            "type": "histogram2d",
            "colorbar": {
             "outlinewidth": 0,
             "ticks": ""
            },
            "colorscale": [
             [
              0.0,
              "#0d0887"
             ],
             [
              0.1111111111111111,
              "#46039f"
             ],
             [
              0.2222222222222222,
              "#7201a8"
             ],
             [
              0.3333333333333333,
              "#9c179e"
             ],
             [
              0.4444444444444444,
              "#bd3786"
             ],
             [
              0.5555555555555556,
              "#d8576b"
             ],
             [
              0.6666666666666666,
              "#ed7953"
             ],
             [
              0.7777777777777778,
              "#fb9f3a"
             ],
             [
              0.8888888888888888,
              "#fdca26"
             ],
             [
              1.0,
              "#f0f921"
             ]
            ]
           }
          ],
          "heatmap": [
           {
            "type": "heatmap",
            "colorbar": {
             "outlinewidth": 0,
             "ticks": ""
            },
            "colorscale": [
             [
              0.0,
              "#0d0887"
             ],
             [
              0.1111111111111111,
              "#46039f"
             ],
             [
              0.2222222222222222,
              "#7201a8"
             ],
             [
              0.3333333333333333,
              "#9c179e"
             ],
             [
              0.4444444444444444,
              "#bd3786"
             ],
             [
              0.5555555555555556,
              "#d8576b"
             ],
             [
              0.6666666666666666,
              "#ed7953"
             ],
             [
              0.7777777777777778,
              "#fb9f3a"
             ],
             [
              0.8888888888888888,
              "#fdca26"
             ],
             [
              1.0,
              "#f0f921"
             ]
            ]
           }
          ],
          "contourcarpet": [
           {
            "type": "contourcarpet",
            "colorbar": {
             "outlinewidth": 0,
             "ticks": ""
            }
           }
          ],
          "contour": [
           {
            "type": "contour",
            "colorbar": {
             "outlinewidth": 0,
             "ticks": ""
            },
            "colorscale": [
             [
              0.0,
              "#0d0887"
             ],
             [
              0.1111111111111111,
              "#46039f"
             ],
             [
              0.2222222222222222,
              "#7201a8"
             ],
             [
              0.3333333333333333,
              "#9c179e"
             ],
             [
              0.4444444444444444,
              "#bd3786"
             ],
             [
              0.5555555555555556,
              "#d8576b"
             ],
             [
              0.6666666666666666,
              "#ed7953"
             ],
             [
              0.7777777777777778,
              "#fb9f3a"
             ],
             [
              0.8888888888888888,
              "#fdca26"
             ],
             [
              1.0,
              "#f0f921"
             ]
            ]
           }
          ],
          "surface": [
           {
            "type": "surface",
            "colorbar": {
             "outlinewidth": 0,
             "ticks": ""
            },
            "colorscale": [
             [
              0.0,
              "#0d0887"
             ],
             [
              0.1111111111111111,
              "#46039f"
             ],
             [
              0.2222222222222222,
              "#7201a8"
             ],
             [
              0.3333333333333333,
              "#9c179e"
             ],
             [
              0.4444444444444444,
              "#bd3786"
             ],
             [
              0.5555555555555556,
              "#d8576b"
             ],
             [
              0.6666666666666666,
              "#ed7953"
             ],
             [
              0.7777777777777778,
              "#fb9f3a"
             ],
             [
              0.8888888888888888,
              "#fdca26"
             ],
             [
              1.0,
              "#f0f921"
             ]
            ]
           }
          ],
          "mesh3d": [
           {
            "type": "mesh3d",
            "colorbar": {
             "outlinewidth": 0,
             "ticks": ""
            }
           }
          ],
          "scatter": [
           {
            "fillpattern": {
             "fillmode": "overlay",
             "size": 10,
             "solidity": 0.2
            },
            "type": "scatter"
           }
          ],
          "parcoords": [
           {
            "type": "parcoords",
            "line": {
             "colorbar": {
              "outlinewidth": 0,
              "ticks": ""
             }
            }
           }
          ],
          "scatterpolargl": [
           {
            "type": "scatterpolargl",
            "marker": {
             "colorbar": {
              "outlinewidth": 0,
              "ticks": ""
             }
            }
           }
          ],
          "bar": [
           {
            "error_x": {
             "color": "#2a3f5f"
            },
            "error_y": {
             "color": "#2a3f5f"
            },
            "marker": {
             "line": {
              "color": "#E5ECF6",
              "width": 0.5
             },
             "pattern": {
              "fillmode": "overlay",
              "size": 10,
              "solidity": 0.2
             }
            },
            "type": "bar"
           }
          ],
          "scattergeo": [
           {
            "type": "scattergeo",
            "marker": {
             "colorbar": {
              "outlinewidth": 0,
              "ticks": ""
             }
            }
           }
          ],
          "scatterpolar": [
           {
            "type": "scatterpolar",
            "marker": {
             "colorbar": {
              "outlinewidth": 0,
              "ticks": ""
             }
            }
           }
          ],
          "histogram": [
           {
            "marker": {
             "pattern": {
              "fillmode": "overlay",
              "size": 10,
              "solidity": 0.2
             }
            },
            "type": "histogram"
           }
          ],
          "scattergl": [
           {
            "type": "scattergl",
            "marker": {
             "colorbar": {
              "outlinewidth": 0,
              "ticks": ""
             }
            }
           }
          ],
          "scatter3d": [
           {
            "type": "scatter3d",
            "line": {
             "colorbar": {
              "outlinewidth": 0,
              "ticks": ""
             }
            },
            "marker": {
             "colorbar": {
              "outlinewidth": 0,
              "ticks": ""
             }
            }
           }
          ],
          "scattermap": [
           {
            "type": "scattermap",
            "marker": {
             "colorbar": {
              "outlinewidth": 0,
              "ticks": ""
             }
            }
           }
          ],
          "scattermapbox": [
           {
            "type": "scattermapbox",
            "marker": {
             "colorbar": {
              "outlinewidth": 0,
              "ticks": ""
             }
            }
           }
          ],
          "scatterternary": [
           {
            "type": "scatterternary",
            "marker": {
             "colorbar": {
              "outlinewidth": 0,
              "ticks": ""
             }
            }
           }
          ],
          "scattercarpet": [
           {
            "type": "scattercarpet",
            "marker": {
             "colorbar": {
              "outlinewidth": 0,
              "ticks": ""
             }
            }
           }
          ],
          "carpet": [
           {
            "aaxis": {
             "endlinecolor": "#2a3f5f",
             "gridcolor": "white",
             "linecolor": "white",
             "minorgridcolor": "white",
             "startlinecolor": "#2a3f5f"
            },
            "baxis": {
             "endlinecolor": "#2a3f5f",
             "gridcolor": "white",
             "linecolor": "white",
             "minorgridcolor": "white",
             "startlinecolor": "#2a3f5f"
            },
            "type": "carpet"
           }
          ],
          "table": [
           {
            "cells": {
             "fill": {
              "color": "#EBF0F8"
             },
             "line": {
              "color": "white"
             }
            },
            "header": {
             "fill": {
              "color": "#C8D4E3"
             },
             "line": {
              "color": "white"
             }
            },
            "type": "table"
           }
          ],
          "barpolar": [
           {
            "marker": {
             "line": {
              "color": "#E5ECF6",
              "width": 0.5
             },
             "pattern": {
              "fillmode": "overlay",
              "size": 10,
              "solidity": 0.2
             }
            },
            "type": "barpolar"
           }
          ],
          "pie": [
           {
            "automargin": true,
            "type": "pie"
           }
          ]
         },
         "layout": {
          "autotypenumbers": "strict",
          "colorway": [
           "#636efa",
           "#EF553B",
           "#00cc96",
           "#ab63fa",
           "#FFA15A",
           "#19d3f3",
           "#FF6692",
           "#B6E880",
           "#FF97FF",
           "#FECB52"
          ],
          "font": {
           "color": "#2a3f5f"
          },
          "hovermode": "closest",
          "hoverlabel": {
           "align": "left"
          },
          "paper_bgcolor": "white",
          "plot_bgcolor": "#E5ECF6",
          "polar": {
           "bgcolor": "#E5ECF6",
           "angularaxis": {
            "gridcolor": "white",
            "linecolor": "white",
            "ticks": ""
           },
           "radialaxis": {
            "gridcolor": "white",
            "linecolor": "white",
            "ticks": ""
           }
          },
          "ternary": {
           "bgcolor": "#E5ECF6",
           "aaxis": {
            "gridcolor": "white",
            "linecolor": "white",
            "ticks": ""
           },
           "baxis": {
            "gridcolor": "white",
            "linecolor": "white",
            "ticks": ""
           },
           "caxis": {
            "gridcolor": "white",
            "linecolor": "white",
            "ticks": ""
           }
          },
          "coloraxis": {
           "colorbar": {
            "outlinewidth": 0,
            "ticks": ""
           }
          },
          "colorscale": {
           "sequential": [
            [
             0.0,
             "#0d0887"
            ],
            [
             0.1111111111111111,
             "#46039f"
            ],
            [
             0.2222222222222222,
             "#7201a8"
            ],
            [
             0.3333333333333333,
             "#9c179e"
            ],
            [
             0.4444444444444444,
             "#bd3786"
            ],
            [
             0.5555555555555556,
             "#d8576b"
            ],
            [
             0.6666666666666666,
             "#ed7953"
            ],
            [
             0.7777777777777778,
             "#fb9f3a"
            ],
            [
             0.8888888888888888,
             "#fdca26"
            ],
            [
             1.0,
             "#f0f921"
            ]
           ],
           "sequentialminus": [
            [
             0.0,
             "#0d0887"
            ],
            [
             0.1111111111111111,
             "#46039f"
            ],
            [
             0.2222222222222222,
             "#7201a8"
            ],
            [
             0.3333333333333333,
             "#9c179e"
            ],
            [
             0.4444444444444444,
             "#bd3786"
            ],
            [
             0.5555555555555556,
             "#d8576b"
            ],
            [
             0.6666666666666666,
             "#ed7953"
            ],
            [
             0.7777777777777778,
             "#fb9f3a"
            ],
            [
             0.8888888888888888,
             "#fdca26"
            ],
            [
             1.0,
             "#f0f921"
            ]
           ],
           "diverging": [
            [
             0,
             "#8e0152"
            ],
            [
             0.1,
             "#c51b7d"
            ],
            [
             0.2,
             "#de77ae"
            ],
            [
             0.3,
             "#f1b6da"
            ],
            [
             0.4,
             "#fde0ef"
            ],
            [
             0.5,
             "#f7f7f7"
            ],
            [
             0.6,
             "#e6f5d0"
            ],
            [
             0.7,
             "#b8e186"
            ],
            [
             0.8,
             "#7fbc41"
            ],
            [
             0.9,
             "#4d9221"
            ],
            [
             1,
             "#276419"
            ]
           ]
          },
          "xaxis": {
           "gridcolor": "white",
           "linecolor": "white",
           "ticks": "",
           "title": {
            "standoff": 15
           },
           "zerolinecolor": "white",
           "automargin": true,
           "zerolinewidth": 2
          },
          "yaxis": {
           "gridcolor": "white",
           "linecolor": "white",
           "ticks": "",
           "title": {
            "standoff": 15
           },
           "zerolinecolor": "white",
           "automargin": true,
           "zerolinewidth": 2
          },
          "scene": {
           "xaxis": {
            "backgroundcolor": "#E5ECF6",
            "gridcolor": "white",
            "linecolor": "white",
            "showbackground": true,
            "ticks": "",
            "zerolinecolor": "white",
            "gridwidth": 2
           },
           "yaxis": {
            "backgroundcolor": "#E5ECF6",
            "gridcolor": "white",
            "linecolor": "white",
            "showbackground": true,
            "ticks": "",
            "zerolinecolor": "white",
            "gridwidth": 2
           },
           "zaxis": {
            "backgroundcolor": "#E5ECF6",
            "gridcolor": "white",
            "linecolor": "white",
            "showbackground": true,
            "ticks": "",
            "zerolinecolor": "white",
            "gridwidth": 2
           }
          },
          "shapedefaults": {
           "line": {
            "color": "#2a3f5f"
           }
          },
          "annotationdefaults": {
           "arrowcolor": "#2a3f5f",
           "arrowhead": 0,
           "arrowwidth": 1
          },
          "geo": {
           "bgcolor": "white",
           "landcolor": "#E5ECF6",
           "subunitcolor": "white",
           "showland": true,
           "showlakes": true,
           "lakecolor": "white"
          },
          "title": {
           "x": 0.05
          },
          "mapbox": {
           "style": "light"
          }
         }
        },
        "title": {
         "font": {
          "size": 27
         },
         "pad": {
          "t": 0,
          "b": 0,
          "l": 0,
          "r": 0
         },
         "text": "Workstation Topology",
         "x": 0.5,
         "xanchor": "center"
        },
        "xaxis": {
         "visible": false,
         "range": [
          -3.1875,
          16.4375
         ]
        },
        "yaxis": {
         "visible": false,
         "range": [
          -2.9375,
          5.5625
         ],
         "scaleanchor": "x",
         "scaleratio": 1
        },
        "margin": {
         "l": 0,
         "r": 0,
         "t": 0,
         "b": 0
        },
        "paper_bgcolor": "black",
        "plot_bgcolor": "black",
        "shapes": [
         {
          "fillcolor": "rgba(66,135,245,0.10)",
          "line": {
           "width": 0
          },
          "type": "rect",
          "x0": -3.125,
          "x1": 3.125,
          "xref": "x",
          "y0": -2.875,
          "y1": 2.875,
          "yref": "y"
         },
         {
          "fillcolor": "rgba(66,135,245,1)",
          "line": {
           "color": "white",
           "width": 2
          },
          "type": "rect",
          "x0": -1.875,
          "x1": 1.875,
          "xref": "x",
          "y0": 1.28125,
          "y1": 2.21875,
          "yref": "y"
         },
         {
          "fillcolor": "rgba(66,135,245,1)",
          "line": {
           "color": "white",
           "width": 2
          },
          "type": "rect",
          "x0": -1.875,
          "x1": 1.875,
          "xref": "x",
          "y0": -0.46875,
          "y1": 0.46875,
          "yref": "y"
         },
         {
          "fillcolor": "rgba(255,159,67,0.10)",
          "line": {
           "width": 0
          },
          "type": "rect",
          "x0": 3.5,
          "x1": 9.75,
          "xref": "x",
          "y0": -2.875,
          "y1": 2.875,
          "yref": "y"
         },
         {
          "fillcolor": "rgba(40,199,111,1)",
          "line": {
           "color": "white",
           "width": 2
          },
          "type": "rect",
          "x0": 4.75,
          "x1": 8.5,
          "xref": "x",
          "y0": 1.28125,
          "y1": 2.21875,
          "yref": "y"
         },
         {
          "fillcolor": "rgba(255,159,67,1)",
          "line": {
           "color": "white",
           "width": 2
          },
          "type": "rect",
          "x0": 4.75,
          "x1": 8.5,
          "xref": "x",
          "y0": -0.46875,
          "y1": 0.46875,
          "yref": "y"
         },
         {
          "fillcolor": "rgba(255,159,67,1)",
          "line": {
           "color": "white",
           "width": 2
          },
          "type": "rect",
          "x0": 4.75,
          "x1": 8.5,
          "xref": "x",
          "y0": -2.21875,
          "y1": -1.28125,
          "yref": "y"
         },
         {
          "fillcolor": "rgba(235,87,87,0.10)",
          "line": {
           "width": 0
          },
          "type": "rect",
          "x0": 10.125,
          "x1": 16.375,
          "xref": "x",
          "y0": -2.875,
          "y1": 2.875,
          "yref": "y"
         },
         {
          "fillcolor": "rgba(235,87,87,1)",
          "line": {
           "color": "white",
           "width": 2
          },
          "type": "rect",
          "x0": 11.375,
          "x1": 15.125,
          "xref": "x",
          "y0": 1.28125,
          "y1": 2.21875,
          "yref": "y"
         },
         {
          "fillcolor": "rgba(235,87,87,1)",
          "line": {
           "color": "white",
           "width": 2
          },
          "type": "rect",
          "x0": 11.375,
          "x1": 15.125,
          "xref": "x",
          "y0": -0.46875,
          "y1": 0.46875,
          "yref": "y"
         },
         {
          "fillcolor": "rgba(66, 245, 173, 1)",
          "line": {
           "color": "white",
           "width": 2
          },
          "type": "rect",
          "x0": 7.375,
          "x1": 9.875,
          "xref": "x",
          "y0": 4.25,
          "y1": 5.5,
          "yref": "y"
         },
         {
          "fillcolor": "rgba(245, 127, 66, 1)",
          "line": {
           "color": "white",
           "width": 2
          },
          "type": "rect",
          "x0": 3.375,
          "x1": 5.875,
          "xref": "x",
          "y0": 4.25,
          "y1": 5.5,
          "yref": "y"
         }
        ],
        "annotations": [
         {
          "font": {
           "color": "#FFFFFF",
           "size": 17
          },
          "showarrow": false,
          "text": "<b>Kitting</b>",
          "x": 0.0,
          "xanchor": "center",
          "xref": "x",
          "y": 3.0,
          "yref": "y"
         },
         {
          "font": {
           "color": "#FFFFFF",
           "size": 40
          },
          "showarrow": false,
          "text": "<b>id:3 kitting</b>",
          "x": 0.0,
          "xanchor": "center",
          "xref": "x",
          "y": 1.75,
          "yanchor": "middle",
          "yref": "y"
         },
         {
          "font": {
           "color": "#FFFFFF",
           "size": 40
          },
          "showarrow": false,
          "text": "<b>id:4 kitting</b>",
          "x": 0.0,
          "xanchor": "center",
          "xref": "x",
          "y": 0.0,
          "yanchor": "middle",
          "yref": "y"
         },
         {
          "font": {
           "color": "#FFFFFF",
           "size": 17
          },
          "showarrow": false,
          "text": "<b>Build</b>",
          "x": 6.625,
          "xanchor": "center",
          "xref": "x",
          "y": 3.0,
          "yref": "y"
         },
         {
          "font": {
           "color": "#FFFFFF",
           "size": 40
          },
          "showarrow": false,
          "text": "<b>id:5 grip</b>",
          "x": 6.625,
          "xanchor": "center",
          "xref": "x",
          "y": 1.75,
          "yanchor": "middle",
          "yref": "y"
         },
         {
          "font": {
           "color": "#FFFFFF",
           "size": 40
          },
          "showarrow": false,
          "text": "<b>id:6 grip & screws</b>",
          "x": 6.625,
          "xanchor": "center",
          "xref": "x",
          "y": 0.0,
          "yanchor": "middle",
          "yref": "y"
         },
         {
          "font": {
           "color": "#FFFFFF",
           "size": 40
          },
          "showarrow": false,
          "text": "<b>id:7 grip & screws</b>",
          "x": 6.625,
          "xanchor": "center",
          "xref": "x",
          "y": -1.75,
          "yanchor": "middle",
          "yref": "y"
         },
         {
          "font": {
           "color": "#FFFFFF",
           "size": 17
          },
          "showarrow": false,
          "text": "<b>Packing</b>",
          "x": 13.25,
          "xanchor": "center",
          "xref": "x",
          "y": 3.0,
          "yref": "y"
         },
         {
          "font": {
           "color": "#FFFFFF",
           "size": 40
          },
          "showarrow": false,
          "text": "<b>id:8 pallet</b>",
          "x": 13.25,
          "xanchor": "center",
          "xref": "x",
          "y": 1.75,
          "yanchor": "middle",
          "yref": "y"
         },
         {
          "font": {
           "color": "#FFFFFF",
           "size": 40
          },
          "showarrow": false,
          "text": "<b>id:9 pallet</b>",
          "x": 13.25,
          "xanchor": "center",
          "xref": "x",
          "y": 0.0,
          "yanchor": "middle",
          "yref": "y"
         },
         {
          "font": {
           "color": "#000000",
           "size": 40
          },
          "showarrow": false,
          "text": "<b>human</b>",
          "x": 8.625,
          "xanchor": "center",
          "xref": "x",
          "y": 4.875,
          "yanchor": "middle",
          "yref": "y"
         },
         {
          "font": {
           "color": "#000000",
           "size": 40
          },
          "showarrow": false,
          "text": "<b>robot</b>",
          "x": 4.625,
          "xanchor": "center",
          "xref": "x",
          "y": 4.875,
          "yanchor": "middle",
          "yref": "y"
         },
         {
          "arrowcolor": "#BBBBBB",
          "arrowhead": 3,
          "arrowsize": 1.3,
          "arrowwidth": 2,
          "ax": 1.875,
          "axref": "x",
          "ay": 1.75,
          "ayref": "y",
          "opacity": 0.9,
          "showarrow": true,
          "text": "",
          "x": 4.75,
          "xref": "x",
          "y": 1.75,
          "yref": "y"
         },
         {
          "arrowcolor": "#BBBBBB",
          "arrowhead": 3,
          "arrowsize": 1.3,
          "arrowwidth": 2,
          "ax": 8.5,
          "axref": "x",
          "ay": 1.75,
          "ayref": "y",
          "opacity": 0.9,
          "showarrow": true,
          "text": "",
          "x": 11.375,
          "xref": "x",
          "y": 1.75,
          "yref": "y"
         },
         {
          "arrowcolor": "#BBBBBB",
          "arrowhead": 3,
          "arrowsize": 1.3,
          "arrowwidth": 2,
          "ax": 6.625,
          "axref": "x",
          "ay": 1.28125,
          "ayref": "y",
          "opacity": 0.9,
          "showarrow": true,
          "text": "",
          "x": 6.625,
          "xref": "x",
          "y": -1.28125,
          "yref": "y"
         },
         {
          "arrowcolor": "#BBBBBB",
          "arrowhead": 3,
          "arrowsize": 1.3,
          "arrowwidth": 2,
          "ax": 8.5,
          "axref": "x",
          "ay": -1.75,
          "ayref": "y",
          "opacity": 0.9,
          "showarrow": true,
          "text": "",
          "x": 11.375,
          "xref": "x",
          "y": 0.0,
          "yref": "y"
         },
         {
          "arrowcolor": "#BBBBBB",
          "arrowhead": 3,
          "arrowsize": 1.3,
          "arrowwidth": 2,
          "ax": 1.875,
          "axref": "x",
          "ay": 0.0,
          "ayref": "y",
          "opacity": 0.9,
          "showarrow": true,
          "text": "",
          "x": 4.75,
          "xref": "x",
          "y": 0.0,
          "yref": "y"
         },
         {
          "arrowcolor": "#BBBBBB",
          "arrowhead": 3,
          "arrowsize": 1.3,
          "arrowwidth": 2,
          "ax": 8.5,
          "axref": "x",
          "ay": 0.0,
          "ayref": "y",
          "opacity": 0.9,
          "showarrow": true,
          "text": "",
          "x": 11.375,
          "xref": "x",
          "y": 0.0,
          "yref": "y"
         }
        ],
        "width": 1400,
        "height": 600,
        "autosize": false
       },
       "config": {
        "plotlyServerURL": "https://plot.ly"
       }
      }
     },
     "metadata": {},
     "output_type": "display_data"
    }
   ],
   "execution_count": 7
  },
  {
   "metadata": {
    "jupyter": {
     "is_executing": true
    },
    "ExecuteTime": {
     "start_time": "2025-10-01T15:10:35.706109Z"
    }
   },
   "cell_type": "code",
   "source": "tuner.tune(max_tries=100,time_limit=3600*2)",
   "id": "2ba9d9cb153a6ae8",
   "outputs": [],
   "execution_count": null
  },
  {
   "metadata": {
    "ExecuteTime": {
     "end_time": "2025-10-01T09:20:55.720783165Z",
     "start_time": "2025-09-30T13:29:18.707814Z"
    }
   },
   "cell_type": "code",
   "source": "",
   "id": "d26494db0bb11431",
   "outputs": [],
   "execution_count": null
  }
 ],
 "metadata": {
  "kernelspec": {
   "display_name": "Python 3",
   "language": "python",
   "name": "python3"
  },
  "language_info": {
   "codemirror_mode": {
    "name": "ipython",
    "version": 2
   },
   "file_extension": ".py",
   "mimetype": "text/x-python",
   "name": "python",
   "nbconvert_exporter": "python",
   "pygments_lexer": "ipython2",
   "version": "2.7.6"
  }
 },
 "nbformat": 4,
 "nbformat_minor": 5
}
