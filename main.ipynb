{
 "cells": [
  {
   "cell_type": "code",
   "execution_count": 37,
   "outputs": [
    {
     "name": "stdout",
     "output_type": "stream",
     "text": [
      "Requirement already satisfied: cpmpy in /home/fosco/PycharmProjects/lib/python3.10/site-packages (0.9.21)\r\n",
      "Requirement already satisfied: numpy>=1.5 in /home/fosco/PycharmProjects/lib/python3.10/site-packages (from cpmpy) (2.1.1)\r\n",
      "Requirement already satisfied: ortools>=5.0 in /home/fosco/PycharmProjects/lib/python3.10/site-packages (from cpmpy) (9.11.4210)\r\n",
      "Requirement already satisfied: protobuf<5.27,>=5.26.1 in /home/fosco/PycharmProjects/lib/python3.10/site-packages (from ortools>=5.0->cpmpy) (5.26.1)\r\n",
      "Requirement already satisfied: pandas>=2.0.0 in /home/fosco/PycharmProjects/lib/python3.10/site-packages (from ortools>=5.0->cpmpy) (2.2.2)\r\n",
      "Requirement already satisfied: absl-py>=2.0.0 in /home/fosco/PycharmProjects/lib/python3.10/site-packages (from ortools>=5.0->cpmpy) (2.1.0)\r\n",
      "Requirement already satisfied: immutabledict>=3.0.0 in /home/fosco/PycharmProjects/lib/python3.10/site-packages (from ortools>=5.0->cpmpy) (4.2.0)\r\n",
      "Requirement already satisfied: pytz>=2020.1 in /home/fosco/PycharmProjects/lib/python3.10/site-packages (from pandas>=2.0.0->ortools>=5.0->cpmpy) (2024.2)\r\n",
      "Requirement already satisfied: tzdata>=2022.7 in /home/fosco/PycharmProjects/lib/python3.10/site-packages (from pandas>=2.0.0->ortools>=5.0->cpmpy) (2024.1)\r\n",
      "Requirement already satisfied: python-dateutil>=2.8.2 in /home/fosco/PycharmProjects/lib/python3.10/site-packages (from pandas>=2.0.0->ortools>=5.0->cpmpy) (2.9.0.post0)\r\n",
      "Requirement already satisfied: six>=1.5 in /home/fosco/PycharmProjects/lib/python3.10/site-packages (from python-dateutil>=2.8.2->pandas>=2.0.0->ortools>=5.0->cpmpy) (1.16.0)\r\n",
      "\u001B[33mWARNING: You are using pip version 21.3.1; however, version 24.2 is available.\r\n",
      "You should consider upgrading via the '/home/fosco/PycharmProjects/bin/python -m pip install --upgrade pip' command.\u001B[0m\r\n",
      "Note: you may need to restart the kernel to use updated packages.\n"
     ]
    }
   ],
   "source": [
    "pip install cpmpy"
   ],
   "metadata": {
    "collapsed": false
   }
  },
  {
   "cell_type": "code",
   "execution_count": 70,
   "outputs": [],
   "source": [
    "import json\n",
    "import cpmpy as cp\n",
    "import itertools"
   ],
   "metadata": {
    "collapsed": false
   }
  },
  {
   "cell_type": "code",
   "execution_count": 82,
   "outputs": [],
   "source": [
    "ub = int(1e4)\n",
    "M = int(1e5)\n",
    "with open(\"data/model.json\") as json_file:\n",
    "    items = json.load(json_file)\n",
    "\n",
    "jobs = items['nodes']\n",
    "constraint = items['edges']\n",
    "dict_seq = {}\n",
    "info = {}\n",
    "model = cp.Model()"
   ],
   "metadata": {
    "collapsed": false
   }
  },
  {
   "cell_type": "code",
   "execution_count": 83,
   "outputs": [],
   "source": [
    "size=0\n",
    "#Mapping id to index od decision variable\n",
    "for job,job_info in jobs.items():\n",
    "    id = job_info['__id__']\n",
    "    resource = job_info['properties']['Resource']['value']\n",
    "    info[id] = [size,resource]\n",
    "    size+=1\n",
    "\n",
    "start = cp.intvar(0,ub,shape=size, name=\"start\")\n",
    "duration = cp.intvar(0,ub,shape=size, name=\"dur\")\n",
    "end = cp.intvar(0,ub, shape=size, name=\"end\")\n",
    "precedences = cp.boolvar(shape=(size,size))\n",
    "makespan =  cp.intvar(0,ub)"
   ],
   "metadata": {
    "collapsed": false
   }
  },
  {
   "cell_type": "code",
   "execution_count": 84,
   "outputs": [],
   "source": [
    "#Introducing time constraints\n",
    "# for (comb_1,comb_2) in (itertools.combinations(range(size), 2)):\n",
    "#     model += (precedences[comb_1,comb_2] + precedences[comb_2,comb_1] == 1)\n",
    "#     model += ((start[comb_2] + duration[comb_2] - M * precedences[comb_1,comb_2]) <= start[comb_1])\n",
    "\n",
    "\n",
    "\n",
    "#Fixed duration\n",
    "for job,job_info in jobs.items():\n",
    "    val = job_info['properties'][f'{job}_duration']['value']\n",
    "    if val != None:\n",
    "        model += (duration[info[job_info['__id__']][0]] == val)\n",
    "\n",
    "\n",
    "for constr,constr_info in constraint.items():\n",
    "    #ILP FORMULATION\n",
    "    # if constr_info['__type__'] == 'HasNoOverlap':\n",
    "    #     first_subject = info[constr_info['first']['__id__']][0]\n",
    "    #     second_subject = info[constr_info['second']['__id__']][0]\n",
    "    #     model += ((start[first_subject] + duration[first_subject] - M*precedences[second_subject,first_subject]) <= start[second_subject])\n",
    "    #CP FORMULATION\n",
    "    if constr_info['__type__'] == 'HasNoOverlap':\n",
    "        first_subject = info[constr_info['first']['__id__']][0]\n",
    "        second_subject = info[constr_info['second']['__id__']][0]\n",
    "        model += cp.NoOverlap([start[first_subject], start[second_subject]],\n",
    "                              [duration[first_subject], duration[second_subject]],\n",
    "                              [end[first_subject], end[second_subject]])\n",
    "    if constr_info['__type__'] == 'IsRightAfter':\n",
    "        first_subject = info[constr_info['first']['__id__']][0]\n",
    "        second_subject = info[constr_info['second']['__id__']][0]\n",
    "        model += ((start[second_subject] + duration[second_subject]) == start[first_subject])\n",
    "    if constr_info['__type__'] == 'IsSynced':\n",
    "        first_subject = info[constr_info['first']['__id__']][0]\n",
    "        second_subject = info[constr_info['second']['__id__']][0]\n",
    "        model += (start[first_subject] == start[second_subject])\n",
    "        model += (duration[first_subject] == duration[second_subject])\n",
    "    if constr_info['__type__'] == 'IsRightBefore':\n",
    "        first_subject = info[constr_info['first']['__id__']][0]\n",
    "        second_subject = info[constr_info['second']['__id__']][0]\n",
    "        model += ((start[first_subject] + duration[first_subject]) == start[second_subject])\n"
   ],
   "metadata": {
    "collapsed": false
   }
  },
  {
   "cell_type": "code",
   "execution_count": 85,
   "outputs": [],
   "source": [
    "#definition makespan as maximum start + duration\n",
    "# for i in range(size):\n",
    "#     model += (start[i] + duration[i] <= makespan)\n",
    "#minimization of objective value\n",
    "model.minimize(cp.max(start + duration))"
   ],
   "metadata": {
    "collapsed": false
   }
  },
  {
   "cell_type": "code",
   "execution_count": 90,
   "outputs": [
    {
     "name": "stdout",
     "output_type": "stream",
     "text": [
      "is there a solution? True\n"
     ]
    }
   ],
   "source": [
    "print(\"is there a solution?\", model.solve())"
   ],
   "metadata": {
    "collapsed": false
   }
  },
  {
   "cell_type": "code",
   "execution_count": 89,
   "outputs": [
    {
     "name": "stdout",
     "output_type": "stream",
     "text": [
      "2764\n"
     ]
    }
   ],
   "source": [
    "print(cp.max(start + duration).value())"
   ],
   "metadata": {
    "collapsed": false
   }
  },
  {
   "cell_type": "code",
   "execution_count": 77,
   "outputs": [
    {
     "name": "stdout",
     "output_type": "stream",
     "text": [
      "- no_overlap([start[67], start[88]],[dur[67], dur[88]],[end[67], end[88]])\n",
      "- ((start[67]) + (dur[67])) == (start[68])\n",
      "- ((start[77]) + (dur[77])) == (start[80])\n",
      "- ((start[80]) + (dur[80])) == (start[79])\n",
      "- ((start[79]) + (dur[79])) == (start[82])\n",
      "- ((start[82]) + (dur[82])) == (start[81])\n",
      "- ((start[81]) + (dur[81])) == (start[83])\n",
      "- ((start[88]) + (dur[88])) == (start[89])\n",
      "- ((start[98]) + (dur[98])) == (start[101])\n",
      "- ((start[101]) + (dur[101])) == (start[100])\n",
      "- ((start[100]) + (dur[100])) == (start[103])\n",
      "- ((start[103]) + (dur[103])) == (start[102])\n",
      "- ((start[102]) + (dur[102])) == (start[104])\n",
      "- (start[77]) == (start[68])\n",
      "- (dur[77]) == (dur[68])\n",
      "- (dur[79]) == (dur[69])\n",
      "- (dur[81]) == (dur[71])\n",
      "- (start[98]) == (start[89])\n",
      "- (dur[98]) == (dur[89])\n",
      "- (dur[100]) == (dur[90])\n",
      "- (dur[102]) == (dur[92])\n",
      "- dur[67] == 320\n",
      "- dur[68] == 192\n",
      "- dur[69] == 152\n",
      "- dur[71] == 96\n",
      "- dur[88] == 320\n",
      "- dur[89] == 192\n",
      "- dur[90] == 152\n",
      "- dur[92] == 96\n"
     ]
    }
   ],
   "source": [
    "from cpmpy.tools.mus import mus\n",
    "\n",
    "for c in mus(model.constraints):\n",
    "    print(\"-\",c)"
   ],
   "metadata": {
    "collapsed": false
   }
  }
 ],
 "metadata": {
  "kernelspec": {
   "name": "python3",
   "language": "python",
   "display_name": "Python 3 (ipykernel)"
  },
  "language_info": {
   "codemirror_mode": {
    "name": "ipython",
    "version": 2
   },
   "file_extension": ".py",
   "mimetype": "text/x-python",
   "name": "python",
   "nbconvert_exporter": "python",
   "pygments_lexer": "ipython2",
   "version": "2.7.6"
  }
 },
 "nbformat": 4,
 "nbformat_minor": 0
}
