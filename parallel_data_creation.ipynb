{
 "cells": [
  {
   "cell_type": "code",
   "source": [
    "import copy\n",
    "import json"
   ],
   "metadata": {
    "collapsed": false,
    "ExecuteTime": {
     "end_time": "2025-04-08T07:51:00.128201Z",
     "start_time": "2025-04-08T07:51:00.126230Z"
    }
   },
   "outputs": [],
   "execution_count": 1
  },
  {
   "cell_type": "code",
   "source": [
    "ub = int(1e4)\n",
    "M = int(1e10)\n",
    "solver = 'ortools'\n",
    "cp_formulation = True\n",
    "with open(\"data/model.json\") as json_file:\n",
    "    items = json.load(json_file)\n",
    "\n",
    "jobs = items['nodes']\n",
    "constraint = items['edges']\n",
    "\n",
    "resource_set = set()\n",
    "\n",
    "for job in jobs:\n",
    "    resource = jobs[job]['properties']['Resource']['value']\n",
    "    resource_set.add(resource)\n",
    "\n",
    "print(resource_set)\n",
    "\n",
    "\n",
    "for job in jobs:\n",
    "    resource = [jobs[job]['properties']['Resource']]\n",
    "    jobs[job]['properties']['Resource'] = resource\n"
   ],
   "metadata": {
    "collapsed": false,
    "ExecuteTime": {
     "end_time": "2025-04-08T08:47:00.140672Z",
     "start_time": "2025-04-08T08:47:00.133236Z"
    }
   },
   "outputs": [
    {
     "name": "stdout",
     "output_type": "stream",
     "text": [
      "{'Cell_0_Warehouse_1', 'Cell_0_Warehouse_0', 'Cell_0_Staubli', 'Source_Source', 'Cell_0_Transport', 'Cell_0_Binpick', 'Cell_0_Carrousel', 'Sink_Sink'}\n"
     ]
    }
   ],
   "execution_count": 6
  },
  {
   "cell_type": "markdown",
   "source": [
    "Let's add the fact that there is a second cell with one staubli and one binpick and that in can be used for each job"
   ],
   "metadata": {
    "collapsed": false
   }
  },
  {
   "cell_type": "code",
   "source": [
    "with open('my_data.json', 'w') as json_file:\n",
    "    json.dump(items, json_file, indent=4)"
   ],
   "metadata": {
    "collapsed": false,
    "ExecuteTime": {
     "end_time": "2025-04-08T07:51:02.091639Z",
     "start_time": "2025-04-08T07:51:02.075281Z"
    }
   },
   "outputs": [],
   "execution_count": 3
  },
  {
   "metadata": {},
   "cell_type": "raw",
   "source": "For eache existing resource create 4 of them, such that every items has its own set of resources"
  },
  {
   "cell_type": "code",
   "source": [
    "for job in jobs:\n",
    "    name_resource = jobs[job]['properties']['Resource'][0]['value']\n",
    "    if name_resource=='Source_Source':\n",
    "        layout = jobs[job]['properties']['Resource'][0].copy()\n",
    "        jobs[job]['properties']['Resource'] = []\n",
    "        for i in range(1):\n",
    "            resource = copy.deepcopy(layout)\n",
    "            name_resource = f'Source_Source'\n",
    "            resource['value'] = name_resource\n",
    "            resource['cell'] = i\n",
    "            jobs[job]['properties']['Resource'].append(resource)\n",
    "    if name_resource=='Cell_0_Staubli':\n",
    "        layout = jobs[job]['properties']['Resource'][0].copy()\n",
    "        jobs[job]['properties']['Resource'] = []\n",
    "        for i in range(5):\n",
    "            resource = copy.deepcopy(layout)\n",
    "            name_resource = f'Cell_{i}_Staubli'\n",
    "            resource['value'] = name_resource\n",
    "            resource['cell'] = i\n",
    "            jobs[job]['properties']['Resource'].append(resource)\n",
    "    elif name_resource=='Cell_0_Binpick':\n",
    "        layout = jobs[job]['properties']['Resource'][0].copy()\n",
    "        jobs[job]['properties']['Resource'] = []\n",
    "        for i in range(5):\n",
    "            resource = copy.deepcopy(layout)\n",
    "            name_resource = f'Cell_{i}_Binpick'\n",
    "            resource['value'] = name_resource\n",
    "            resource['cell'] = i\n",
    "            jobs[job]['properties']['Resource'].append(resource)\n",
    "    elif name_resource=='Sink_Sink':\n",
    "        layout = jobs[job]['properties']['Resource'][0].copy()\n",
    "        jobs[job]['properties']['Resource'] = []\n",
    "        for i in range(1):\n",
    "            resource = copy.deepcopy(layout)\n",
    "            name_resource = f'Sink_Sink'\n",
    "            resource['value'] = name_resource\n",
    "            resource['cell'] = i\n",
    "            jobs[job]['properties']['Resource'].append(resource)\n",
    "    elif name_resource=='Cell_0_Warehouse_0':\n",
    "        layout = jobs[job]['properties']['Resource'][0].copy()\n",
    "        jobs[job]['properties']['Resource'] = []\n",
    "        for i in range(5):\n",
    "            resource = copy.deepcopy(layout)\n",
    "            name_resource = f'Cell_{i}_Warehouse'\n",
    "            resource['value'] = name_resource\n",
    "            resource['cell'] = i\n",
    "            jobs[job]['properties']['Resource'].append(resource)\n",
    "    elif name_resource=='Cell_0_Warehouse_1':\n",
    "        layout = jobs[job]['properties']['Resource'][0].copy()\n",
    "        jobs[job]['properties']['Resource'] = []\n",
    "        for i in range(5):\n",
    "            resource = copy.deepcopy(layout)\n",
    "            name_resource = f'Cell_{i}_Warehouse'\n",
    "            resource['value'] = name_resource\n",
    "            resource['cell'] = i\n",
    "            jobs[job]['properties']['Resource'].append(resource)\n",
    "    elif name_resource=='Cell_0_Transport':\n",
    "        layout = jobs[job]['properties']['Resource'][0].copy()\n",
    "        jobs[job]['properties']['Resource'] = []\n",
    "        for i in range(5):\n",
    "            resource = copy.deepcopy(layout)\n",
    "            name_resource = f'Cell_{i}_Transport'\n",
    "            resource['value'] = name_resource\n",
    "            resource['cell'] = i\n",
    "            jobs[job]['properties']['Resource'].append(resource)\n",
    "    elif name_resource=='Cell_0_Carrousel':\n",
    "        layout = jobs[job]['properties']['Resource'][0].copy()\n",
    "        jobs[job]['properties']['Resource'] = []\n",
    "        for i in range(5):\n",
    "            resource = copy.deepcopy(layout)\n",
    "            name_resource = f'Cell_{i}_Carrousel'\n",
    "            resource['value'] = name_resource\n",
    "            resource['cell'] = i\n",
    "            jobs[job]['properties']['Resource'].append(resource)"
   ],
   "metadata": {
    "collapsed": false,
    "ExecuteTime": {
     "end_time": "2025-04-08T07:51:03.187956Z",
     "start_time": "2025-04-08T07:51:03.177950Z"
    }
   },
   "outputs": [],
   "execution_count": 4
  },
  {
   "metadata": {
    "ExecuteTime": {
     "end_time": "2025-04-08T07:51:04.022457Z",
     "start_time": "2025-04-08T07:51:04.004608Z"
    }
   },
   "cell_type": "code",
   "source": [
    "with open('data/data_max_parallel_new.json', 'w') as json_file:\n",
    "    json.dump(items, json_file, indent=4)"
   ],
   "outputs": [],
   "execution_count": 5
  },
  {
   "metadata": {
    "jupyter": {
     "is_executing": true
    },
    "ExecuteTime": {
     "start_time": "2025-04-08T08:47:34.594365Z"
    }
   },
   "cell_type": "code",
   "source": [
    "ub = int(1e4)\n",
    "M = int(1e10)\n",
    "solver = 'ortools'\n",
    "cp_formulation = True\n",
    "with open(\"data/data_max_parallel_new.json\") as json_file:\n",
    "    items = json.load(json_file)\n",
    "\n",
    "jobs = items['nodes']\n",
    "constraint = items['edges']\n",
    "\n",
    "resource_set = set()\n"
   ],
   "outputs": [],
   "execution_count": null
  }
 ],
 "metadata": {
  "kernelspec": {
   "display_name": "Python 3",
   "language": "python",
   "name": "python3"
  },
  "language_info": {
   "codemirror_mode": {
    "name": "ipython",
    "version": 2
   },
   "file_extension": ".py",
   "mimetype": "text/x-python",
   "name": "python",
   "nbconvert_exporter": "python",
   "pygments_lexer": "ipython2",
   "version": "2.7.6"
  }
 },
 "nbformat": 4,
 "nbformat_minor": 0
}
