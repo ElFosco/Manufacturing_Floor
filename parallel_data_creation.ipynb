{
 "cells": [
  {
   "cell_type": "code",
   "source": [
    "import copy\n",
    "import json"
   ],
   "metadata": {
    "collapsed": false,
    "ExecuteTime": {
     "end_time": "2025-04-08T09:17:08.754133Z",
     "start_time": "2025-04-08T09:17:08.752238Z"
    }
   },
   "outputs": [],
   "execution_count": 32
  },
  {
   "cell_type": "code",
   "source": [
    "ub = int(1e4)\n",
    "M = int(1e10)\n",
    "solver = 'ortools'\n",
    "cp_formulation = True\n",
    "with open(\"data/model.json\") as json_file:\n",
    "    items = json.load(json_file)\n",
    "\n",
    "jobs = items['nodes']\n",
    "constraint = items['edges']\n",
    "\n",
    "resource_set = set()\n",
    "\n",
    "for job in jobs:\n",
    "    resource = jobs[job]['properties']['Resource']['value']\n",
    "    resource_set.add(resource)\n",
    "\n",
    "print(resource_set)\n",
    "\n",
    "\n",
    "for job in jobs:\n",
    "    resource = [jobs[job]['properties']['Resource']]\n",
    "    jobs[job]['properties']['Resource'] = resource\n"
   ],
   "metadata": {
    "collapsed": false,
    "ExecuteTime": {
     "end_time": "2025-04-08T09:17:09.005852Z",
     "start_time": "2025-04-08T09:17:08.995139Z"
    }
   },
   "outputs": [
    {
     "name": "stdout",
     "output_type": "stream",
     "text": [
      "{'Cell_0_Warehouse_1', 'Cell_0_Warehouse_0', 'Cell_0_Staubli', 'Source_Source', 'Cell_0_Transport', 'Cell_0_Binpick', 'Cell_0_Carrousel', 'Sink_Sink'}\n"
     ]
    }
   ],
   "execution_count": 33
  },
  {
   "cell_type": "markdown",
   "source": "Let's add the fact that there is a second cell with one staubli and one binpick and that in can be used for each job",
   "metadata": {
    "collapsed": false
   }
  },
  {
   "cell_type": "code",
   "source": [
    "with open('my_data.json', 'w') as json_file:\n",
    "    json.dump(items, json_file, indent=4)"
   ],
   "metadata": {
    "collapsed": false,
    "ExecuteTime": {
     "end_time": "2025-04-08T09:17:10.866423Z",
     "start_time": "2025-04-08T09:17:10.850327Z"
    }
   },
   "outputs": [],
   "execution_count": 34
  },
  {
   "metadata": {},
   "cell_type": "raw",
   "source": "For eache existing resource create 4 of them, such that every items has its own set of resources"
  },
  {
   "cell_type": "code",
   "source": [
    "for job in jobs:\n",
    "    name_resource = jobs[job]['properties']['Resource'][0]['value']\n",
    "    if name_resource=='Source_Source':\n",
    "        layout = jobs[job]['properties']['Resource'][0].copy()\n",
    "        jobs[job]['properties']['Resource'] = []\n",
    "        for i in range(1):\n",
    "            resource = copy.deepcopy(layout)\n",
    "            name_resource = f'Source_Source'\n",
    "            resource['value'] = name_resource\n",
    "            resource['cell'] = i\n",
    "            jobs[job]['properties']['Resource'].append(resource)\n",
    "    if name_resource=='Cell_0_Staubli':\n",
    "        layout = jobs[job]['properties']['Resource'][0].copy()\n",
    "        jobs[job]['properties']['Resource'] = []\n",
    "        for i in range(5):\n",
    "            resource = copy.deepcopy(layout)\n",
    "            name_resource = f'Cell_{i}_Staubli'\n",
    "            resource['value'] = name_resource\n",
    "            resource['cell'] = i\n",
    "            jobs[job]['properties']['Resource'].append(resource)\n",
    "    elif name_resource=='Cell_0_Binpick':\n",
    "        layout = jobs[job]['properties']['Resource'][0].copy()\n",
    "        jobs[job]['properties']['Resource'] = []\n",
    "        for i in range(5):\n",
    "            resource = copy.deepcopy(layout)\n",
    "            name_resource = f'Cell_{i}_Binpick'\n",
    "            resource['value'] = name_resource\n",
    "            resource['cell'] = i\n",
    "            jobs[job]['properties']['Resource'].append(resource)\n",
    "    elif name_resource=='Sink_Sink':\n",
    "        layout = jobs[job]['properties']['Resource'][0].copy()\n",
    "        jobs[job]['properties']['Resource'] = []\n",
    "        for i in range(1):\n",
    "            resource = copy.deepcopy(layout)\n",
    "            name_resource = f'Sink_Sink'\n",
    "            resource['value'] = name_resource\n",
    "            resource['cell'] = i\n",
    "            jobs[job]['properties']['Resource'].append(resource)\n",
    "    elif name_resource=='Cell_0_Warehouse_0':\n",
    "        layout = jobs[job]['properties']['Resource'][0].copy()\n",
    "        jobs[job]['properties']['Resource'] = []\n",
    "        for i in range(5):\n",
    "            resource = copy.deepcopy(layout)\n",
    "            name_resource = f'Cell_{i}_Warehouse'\n",
    "            resource['value'] = name_resource\n",
    "            resource['cell'] = i\n",
    "            jobs[job]['properties']['Resource'].append(resource)\n",
    "    elif name_resource=='Cell_0_Warehouse_1':\n",
    "        layout = jobs[job]['properties']['Resource'][0].copy()\n",
    "        jobs[job]['properties']['Resource'] = []\n",
    "        for i in range(5):\n",
    "            resource = copy.deepcopy(layout)\n",
    "            name_resource = f'Cell_{i}_Warehouse'\n",
    "            resource['value'] = name_resource\n",
    "            resource['cell'] = i\n",
    "            jobs[job]['properties']['Resource'].append(resource)\n",
    "    elif name_resource=='Cell_0_Transport':\n",
    "        layout = jobs[job]['properties']['Resource'][0].copy()\n",
    "        jobs[job]['properties']['Resource'] = []\n",
    "        for i in range(5):\n",
    "            resource = copy.deepcopy(layout)\n",
    "            name_resource = f'Cell_{i}_Transport'\n",
    "            resource['value'] = name_resource\n",
    "            resource['cell'] = i\n",
    "            jobs[job]['properties']['Resource'].append(resource)\n",
    "    elif name_resource=='Cell_0_Carrousel':\n",
    "        layout = jobs[job]['properties']['Resource'][0].copy()\n",
    "        jobs[job]['properties']['Resource'] = []\n",
    "        for i in range(5):\n",
    "            resource = copy.deepcopy(layout)\n",
    "            name_resource = f'Cell_{i}_Carrousel'\n",
    "            resource['value'] = name_resource\n",
    "            resource['cell'] = i\n",
    "            jobs[job]['properties']['Resource'].append(resource)"
   ],
   "metadata": {
    "collapsed": false,
    "ExecuteTime": {
     "end_time": "2025-04-08T09:17:11.675927Z",
     "start_time": "2025-04-08T09:17:11.667124Z"
    }
   },
   "outputs": [],
   "execution_count": 35
  },
  {
   "metadata": {
    "ExecuteTime": {
     "end_time": "2025-04-08T09:17:12.897160Z",
     "start_time": "2025-04-08T09:17:12.878058Z"
    }
   },
   "cell_type": "code",
   "outputs": [],
   "execution_count": 36,
   "source": [
    "with open('data/data_max_parallel_new.json', 'w') as json_file:\n",
    "    json.dump(items, json_file, indent=4)"
   ]
  },
  {
   "metadata": {
    "ExecuteTime": {
     "end_time": "2025-04-08T09:35:21.524327Z",
     "start_time": "2025-04-08T09:26:38.421836Z"
    }
   },
   "cell_type": "code",
   "source": [
    "ub = int(1e4)\n",
    "M = int(1e10)\n",
    "solver = 'ortools'\n",
    "cp_formulation = True\n",
    "with open(\"data/data_max_parallel_new.json\") as json_file:\n",
    "    items = json.load(json_file)\n",
    "\n",
    "jobs = items['nodes']\n",
    "constraint = items['edges']\n",
    "\n",
    "for job_name in jobs.copy():\n",
    "    if jobs[job_name]['properties']['Product_instance']['value']=='1_16_0':\n",
    "        new_job = copy.deepcopy(jobs[job_name])\n",
    "        new_job['properties']['Product_instance'] = '1_16_5'\n",
    "        old_name = job_name\n",
    "        updated_name = job_name.replace(\"1_16_0\", \"1_16_5\")\n",
    "        jobs[updated_name] = new_job\n",
    "        jobs[updated_name]['properties'][f'{updated_name}_start'] = jobs[updated_name]['properties'].pop(f'{old_name}_start')\n",
    "        jobs[updated_name]['properties'][f'{updated_name}_stop'] = jobs[updated_name]['properties'].pop(f'{old_name}_stop')\n",
    "        jobs[updated_name]['properties'][f'{updated_name}_duration'] = jobs[updated_name]['properties'].pop(f'{old_name}_duration')\n",
    "    if jobs[job_name]['properties']['Product_instance']['value']=='1_16_1':\n",
    "        new_job = copy.deepcopy(jobs[job_name])\n",
    "        new_job['properties']['Product_instance'] = '1_16_6'\n",
    "        updated_name = job_name.replace(\"1_16_1\", \"1_16_6\")\n",
    "        jobs[updated_name] = new_job\n",
    "    if jobs[job_name]['properties']['Product_instance']['value']=='1_16_2':\n",
    "        new_job = copy.deepcopy(jobs[job_name])\n",
    "        new_job['properties']['Product_instance'] = '1_16_7'\n",
    "        updated_name = job_name.replace(\"1_16_2\", \"1_16_7\")\n",
    "        jobs[updated_name] = new_job\n",
    "\n",
    "\n"
   ],
   "outputs": [
    {
     "ename": "KeyboardInterrupt",
     "evalue": "",
     "output_type": "error",
     "traceback": [
      "\u001B[0;31m---------------------------------------------------------------------------\u001B[0m",
      "\u001B[0;31mKeyboardInterrupt\u001B[0m                         Traceback (most recent call last)",
      "Cell \u001B[0;32mIn[43], line 11\u001B[0m\n\u001B[1;32m      8\u001B[0m jobs \u001B[38;5;241m=\u001B[39m items[\u001B[38;5;124m'\u001B[39m\u001B[38;5;124mnodes\u001B[39m\u001B[38;5;124m'\u001B[39m]\n\u001B[1;32m      9\u001B[0m constraint \u001B[38;5;241m=\u001B[39m items[\u001B[38;5;124m'\u001B[39m\u001B[38;5;124medges\u001B[39m\u001B[38;5;124m'\u001B[39m]\n\u001B[0;32m---> 11\u001B[0m \u001B[38;5;28;01mfor\u001B[39;00m job_name \u001B[38;5;129;01min\u001B[39;00m \u001B[43mjobs\u001B[49m\u001B[38;5;241m.\u001B[39mcopy():\n\u001B[1;32m     12\u001B[0m     \u001B[38;5;28;01mif\u001B[39;00m jobs[job_name][\u001B[38;5;124m'\u001B[39m\u001B[38;5;124mproperties\u001B[39m\u001B[38;5;124m'\u001B[39m][\u001B[38;5;124m'\u001B[39m\u001B[38;5;124mProduct_instance\u001B[39m\u001B[38;5;124m'\u001B[39m][\u001B[38;5;124m'\u001B[39m\u001B[38;5;124mvalue\u001B[39m\u001B[38;5;124m'\u001B[39m]\u001B[38;5;241m==\u001B[39m\u001B[38;5;124m'\u001B[39m\u001B[38;5;124m1_16_0\u001B[39m\u001B[38;5;124m'\u001B[39m:\n\u001B[1;32m     13\u001B[0m         new_job \u001B[38;5;241m=\u001B[39m copy\u001B[38;5;241m.\u001B[39mdeepcopy(jobs[job_name])\n",
      "File \u001B[0;32m~/.local/share/JetBrains/Toolbox/apps/pycharm-professional/plugins/python-ce/helpers/pydev/_pydevd_bundle/pydevd_frame.py:755\u001B[0m, in \u001B[0;36mPyDBFrame.trace_dispatch\u001B[0;34m(self, frame, event, arg)\u001B[0m\n\u001B[1;32m    753\u001B[0m \u001B[38;5;66;03m# if thread has a suspend flag, we suspend with a busy wait\u001B[39;00m\n\u001B[1;32m    754\u001B[0m \u001B[38;5;28;01mif\u001B[39;00m info\u001B[38;5;241m.\u001B[39mpydev_state \u001B[38;5;241m==\u001B[39m STATE_SUSPEND:\n\u001B[0;32m--> 755\u001B[0m     \u001B[38;5;28;43mself\u001B[39;49m\u001B[38;5;241;43m.\u001B[39;49m\u001B[43mdo_wait_suspend\u001B[49m\u001B[43m(\u001B[49m\u001B[43mthread\u001B[49m\u001B[43m,\u001B[49m\u001B[43m \u001B[49m\u001B[43mframe\u001B[49m\u001B[43m,\u001B[49m\u001B[43m \u001B[49m\u001B[43mevent\u001B[49m\u001B[43m,\u001B[49m\u001B[43m \u001B[49m\u001B[43marg\u001B[49m\u001B[43m)\u001B[49m\n\u001B[1;32m    756\u001B[0m     \u001B[38;5;66;03m# No need to reset frame.f_trace to keep the same trace function.\u001B[39;00m\n\u001B[1;32m    757\u001B[0m     \u001B[38;5;28;01mreturn\u001B[39;00m \u001B[38;5;28mself\u001B[39m\u001B[38;5;241m.\u001B[39mtrace_dispatch\n",
      "File \u001B[0;32m~/.local/share/JetBrains/Toolbox/apps/pycharm-professional/plugins/python-ce/helpers/pydev/_pydevd_bundle/pydevd_frame.py:412\u001B[0m, in \u001B[0;36mPyDBFrame.do_wait_suspend\u001B[0;34m(self, *args, **kwargs)\u001B[0m\n\u001B[1;32m    411\u001B[0m \u001B[38;5;28;01mdef\u001B[39;00m \u001B[38;5;21mdo_wait_suspend\u001B[39m(\u001B[38;5;28mself\u001B[39m, \u001B[38;5;241m*\u001B[39margs, \u001B[38;5;241m*\u001B[39m\u001B[38;5;241m*\u001B[39mkwargs):\n\u001B[0;32m--> 412\u001B[0m     \u001B[38;5;28;43mself\u001B[39;49m\u001B[38;5;241;43m.\u001B[39;49m\u001B[43m_args\u001B[49m\u001B[43m[\u001B[49m\u001B[38;5;241;43m0\u001B[39;49m\u001B[43m]\u001B[49m\u001B[38;5;241;43m.\u001B[39;49m\u001B[43mdo_wait_suspend\u001B[49m\u001B[43m(\u001B[49m\u001B[38;5;241;43m*\u001B[39;49m\u001B[43margs\u001B[49m\u001B[43m,\u001B[49m\u001B[43m \u001B[49m\u001B[38;5;241;43m*\u001B[39;49m\u001B[38;5;241;43m*\u001B[39;49m\u001B[43mkwargs\u001B[49m\u001B[43m)\u001B[49m\n",
      "File \u001B[0;32m~/.local/share/JetBrains/Toolbox/apps/pycharm-professional/plugins/python-ce/helpers/pydev/pydevd.py:1220\u001B[0m, in \u001B[0;36mPyDB.do_wait_suspend\u001B[0;34m(self, thread, frame, event, arg, send_suspend_message, is_unhandled_exception)\u001B[0m\n\u001B[1;32m   1217\u001B[0m         from_this_thread\u001B[38;5;241m.\u001B[39mappend(frame_id)\n\u001B[1;32m   1219\u001B[0m \u001B[38;5;28;01mwith\u001B[39;00m \u001B[38;5;28mself\u001B[39m\u001B[38;5;241m.\u001B[39m_threads_suspended_single_notification\u001B[38;5;241m.\u001B[39mnotify_thread_suspended(thread_id, stop_reason):\n\u001B[0;32m-> 1220\u001B[0m     \u001B[38;5;28;43mself\u001B[39;49m\u001B[38;5;241;43m.\u001B[39;49m\u001B[43m_do_wait_suspend\u001B[49m\u001B[43m(\u001B[49m\u001B[43mthread\u001B[49m\u001B[43m,\u001B[49m\u001B[43m \u001B[49m\u001B[43mframe\u001B[49m\u001B[43m,\u001B[49m\u001B[43m \u001B[49m\u001B[43mevent\u001B[49m\u001B[43m,\u001B[49m\u001B[43m \u001B[49m\u001B[43marg\u001B[49m\u001B[43m,\u001B[49m\u001B[43m \u001B[49m\u001B[43msuspend_type\u001B[49m\u001B[43m,\u001B[49m\u001B[43m \u001B[49m\u001B[43mfrom_this_thread\u001B[49m\u001B[43m)\u001B[49m\n",
      "File \u001B[0;32m~/.local/share/JetBrains/Toolbox/apps/pycharm-professional/plugins/python-ce/helpers/pydev/pydevd.py:1235\u001B[0m, in \u001B[0;36mPyDB._do_wait_suspend\u001B[0;34m(self, thread, frame, event, arg, suspend_type, from_this_thread)\u001B[0m\n\u001B[1;32m   1232\u001B[0m             \u001B[38;5;28mself\u001B[39m\u001B[38;5;241m.\u001B[39m_call_mpl_hook()\n\u001B[1;32m   1234\u001B[0m         \u001B[38;5;28mself\u001B[39m\u001B[38;5;241m.\u001B[39mprocess_internal_commands()\n\u001B[0;32m-> 1235\u001B[0m         \u001B[43mtime\u001B[49m\u001B[38;5;241;43m.\u001B[39;49m\u001B[43msleep\u001B[49m\u001B[43m(\u001B[49m\u001B[38;5;241;43m0.01\u001B[39;49m\u001B[43m)\u001B[49m\n\u001B[1;32m   1237\u001B[0m \u001B[38;5;28mself\u001B[39m\u001B[38;5;241m.\u001B[39mcancel_async_evaluation(get_current_thread_id(thread), \u001B[38;5;28mstr\u001B[39m(\u001B[38;5;28mid\u001B[39m(frame)))\n\u001B[1;32m   1239\u001B[0m \u001B[38;5;66;03m# process any stepping instructions\u001B[39;00m\n",
      "\u001B[0;31mKeyboardInterrupt\u001B[0m: "
     ]
    }
   ],
   "execution_count": 43
  },
  {
   "metadata": {
    "ExecuteTime": {
     "end_time": "2025-04-08T09:20:21.442706Z",
     "start_time": "2025-04-08T09:20:21.421622Z"
    }
   },
   "cell_type": "code",
   "outputs": [],
   "execution_count": 40,
   "source": [
    "with open('data/data_max_parallel_new_more_items.json', 'w') as json_file:\n",
    "    json.dump(items, json_file, indent=4)"
   ]
  },
  {
   "metadata": {},
   "cell_type": "code",
   "outputs": [],
   "execution_count": null,
   "source": ""
  }
 ],
 "metadata": {
  "kernelspec": {
   "display_name": "Python 3",
   "language": "python",
   "name": "python3"
  },
  "language_info": {
   "codemirror_mode": {
    "name": "ipython",
    "version": 2
   },
   "file_extension": ".py",
   "mimetype": "text/x-python",
   "name": "python",
   "nbconvert_exporter": "python",
   "pygments_lexer": "ipython2",
   "version": "2.7.6"
  }
 },
 "nbformat": 4,
 "nbformat_minor": 0
}
