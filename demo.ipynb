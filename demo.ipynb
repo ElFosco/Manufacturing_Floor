{
 "cells": [
  {
   "metadata": {
    "ExecuteTime": {
     "end_time": "2025-09-30T13:40:38.103559Z",
     "start_time": "2025-09-30T13:40:36.787956Z"
    }
   },
   "cell_type": "code",
   "source": [
    "from utility.jobshop_model_transport import FJTransportProblem\n",
    "from utility.costant import *\n",
    "from utility.utility import solve_all_and_gantt\n",
    "from utility.utility import tune"
   ],
   "id": "568a732ab16e7137",
   "outputs": [],
   "execution_count": 2
  },
  {
   "metadata": {
    "ExecuteTime": {
     "end_time": "2025-09-30T13:40:38.155629Z",
     "start_time": "2025-09-30T13:40:38.147449Z"
    }
   },
   "cell_type": "code",
   "source": "problem = FJTransportProblem(symmetry_breaking=True)",
   "id": "993201ef39528ba7",
   "outputs": [],
   "execution_count": 3
  },
  {
   "metadata": {
    "ExecuteTime": {
     "end_time": "2025-09-30T13:40:39.670965Z",
     "start_time": "2025-09-30T13:40:39.145032Z"
    }
   },
   "cell_type": "code",
   "source": [
    "\n",
    "# problem.add_human()\n",
    "# problem.set_dur_hum(HUMAN_JOBS_TIME)\n",
    "#\n",
    "# id_kit = problem.add_workstation(WS_KITTING)\n",
    "# id_grip = problem.add_workstation(WS_BUILDING_1)\n",
    "# id_gs = problem.add_workstation(WS_BUILDING_2)\n",
    "# id_pal = problem.add_workstation(WS_PALLETTING)\n",
    "#\n",
    "# problem.add_transport(id_kit, id_grip)\n",
    "# problem.add_transport(id_grip, id_gs)\n",
    "# problem.add_transport(id_grip, id_pal)\n",
    "# problem.add_transport(id_gs, id_pal)\n",
    "#\n",
    "# problem.set_t_conv(3)\n",
    "# problem.add_items_to_build(FLASHLIGHT_CLIPPED,3)\n",
    "# problem.add_items_to_build(FLASHLIGHT_SCREWS,3)\n",
    "\n",
    "problem.add_human()\n",
    "problem.set_dur_hum(HUMAN_JOBS_TIME)\n",
    "problem.add_robot()\n",
    "problem.set_dur_robot(ROBOT_JOBS_TIME)\n",
    "\n",
    "id_kit_1 = problem.add_workstation(WS_KITTING)\n",
    "id_kit_2 = problem.add_workstation(WS_KITTING)\n",
    "id_grip = problem.add_workstation(WS_BUILDING_1)\n",
    "id_gs = problem.add_workstation(WS_BUILDING_2)\n",
    "id_pal = problem.add_workstation(WS_PALLETTING)\n",
    "id_pal_2 = problem.add_workstation(WS_PALLETTING)\n",
    "\n",
    "problem.add_transport(id_kit_1, id_grip)\n",
    "problem.add_transport(id_grip, id_gs)\n",
    "problem.add_transport(id_gs, id_pal)\n",
    "\n",
    "problem.set_t_conv(3)\n",
    "problem.add_items_to_build(FLASHLIGHT_CLIPPED,2)\n",
    "problem.add_items_to_build(FLASHLIGHT_SCREWS,2)\n",
    "\n",
    "problem.make_ws_topology()\n"
   ],
   "id": "a9a9c0106150d8c0",
   "outputs": [
    {
     "data": {
      "application/vnd.plotly.v1+json": {
       "data": [],
       "layout": {
        "template": {
         "data": {
          "histogram2dcontour": [
           {
            "type": "histogram2dcontour",
            "colorbar": {
             "outlinewidth": 0,
             "ticks": ""
            },
            "colorscale": [
             [
              0.0,
              "#0d0887"
             ],
             [
              0.1111111111111111,
              "#46039f"
             ],
             [
              0.2222222222222222,
              "#7201a8"
             ],
             [
              0.3333333333333333,
              "#9c179e"
             ],
             [
              0.4444444444444444,
              "#bd3786"
             ],
             [
              0.5555555555555556,
              "#d8576b"
             ],
             [
              0.6666666666666666,
              "#ed7953"
             ],
             [
              0.7777777777777778,
              "#fb9f3a"
             ],
             [
              0.8888888888888888,
              "#fdca26"
             ],
             [
              1.0,
              "#f0f921"
             ]
            ]
           }
          ],
          "choropleth": [
           {
            "type": "choropleth",
            "colorbar": {
             "outlinewidth": 0,
             "ticks": ""
            }
           }
          ],
          "histogram2d": [
           {
            "type": "histogram2d",
            "colorbar": {
             "outlinewidth": 0,
             "ticks": ""
            },
            "colorscale": [
             [
              0.0,
              "#0d0887"
             ],
             [
              0.1111111111111111,
              "#46039f"
             ],
             [
              0.2222222222222222,
              "#7201a8"
             ],
             [
              0.3333333333333333,
              "#9c179e"
             ],
             [
              0.4444444444444444,
              "#bd3786"
             ],
             [
              0.5555555555555556,
              "#d8576b"
             ],
             [
              0.6666666666666666,
              "#ed7953"
             ],
             [
              0.7777777777777778,
              "#fb9f3a"
             ],
             [
              0.8888888888888888,
              "#fdca26"
             ],
             [
              1.0,
              "#f0f921"
             ]
            ]
           }
          ],
          "heatmap": [
           {
            "type": "heatmap",
            "colorbar": {
             "outlinewidth": 0,
             "ticks": ""
            },
            "colorscale": [
             [
              0.0,
              "#0d0887"
             ],
             [
              0.1111111111111111,
              "#46039f"
             ],
             [
              0.2222222222222222,
              "#7201a8"
             ],
             [
              0.3333333333333333,
              "#9c179e"
             ],
             [
              0.4444444444444444,
              "#bd3786"
             ],
             [
              0.5555555555555556,
              "#d8576b"
             ],
             [
              0.6666666666666666,
              "#ed7953"
             ],
             [
              0.7777777777777778,
              "#fb9f3a"
             ],
             [
              0.8888888888888888,
              "#fdca26"
             ],
             [
              1.0,
              "#f0f921"
             ]
            ]
           }
          ],
          "contourcarpet": [
           {
            "type": "contourcarpet",
            "colorbar": {
             "outlinewidth": 0,
             "ticks": ""
            }
           }
          ],
          "contour": [
           {
            "type": "contour",
            "colorbar": {
             "outlinewidth": 0,
             "ticks": ""
            },
            "colorscale": [
             [
              0.0,
              "#0d0887"
             ],
             [
              0.1111111111111111,
              "#46039f"
             ],
             [
              0.2222222222222222,
              "#7201a8"
             ],
             [
              0.3333333333333333,
              "#9c179e"
             ],
             [
              0.4444444444444444,
              "#bd3786"
             ],
             [
              0.5555555555555556,
              "#d8576b"
             ],
             [
              0.6666666666666666,
              "#ed7953"
             ],
             [
              0.7777777777777778,
              "#fb9f3a"
             ],
             [
              0.8888888888888888,
              "#fdca26"
             ],
             [
              1.0,
              "#f0f921"
             ]
            ]
           }
          ],
          "surface": [
           {
            "type": "surface",
            "colorbar": {
             "outlinewidth": 0,
             "ticks": ""
            },
            "colorscale": [
             [
              0.0,
              "#0d0887"
             ],
             [
              0.1111111111111111,
              "#46039f"
             ],
             [
              0.2222222222222222,
              "#7201a8"
             ],
             [
              0.3333333333333333,
              "#9c179e"
             ],
             [
              0.4444444444444444,
              "#bd3786"
             ],
             [
              0.5555555555555556,
              "#d8576b"
             ],
             [
              0.6666666666666666,
              "#ed7953"
             ],
             [
              0.7777777777777778,
              "#fb9f3a"
             ],
             [
              0.8888888888888888,
              "#fdca26"
             ],
             [
              1.0,
              "#f0f921"
             ]
            ]
           }
          ],
          "mesh3d": [
           {
            "type": "mesh3d",
            "colorbar": {
             "outlinewidth": 0,
             "ticks": ""
            }
           }
          ],
          "scatter": [
           {
            "fillpattern": {
             "fillmode": "overlay",
             "size": 10,
             "solidity": 0.2
            },
            "type": "scatter"
           }
          ],
          "parcoords": [
           {
            "type": "parcoords",
            "line": {
             "colorbar": {
              "outlinewidth": 0,
              "ticks": ""
             }
            }
           }
          ],
          "scatterpolargl": [
           {
            "type": "scatterpolargl",
            "marker": {
             "colorbar": {
              "outlinewidth": 0,
              "ticks": ""
             }
            }
           }
          ],
          "bar": [
           {
            "error_x": {
             "color": "#2a3f5f"
            },
            "error_y": {
             "color": "#2a3f5f"
            },
            "marker": {
             "line": {
              "color": "#E5ECF6",
              "width": 0.5
             },
             "pattern": {
              "fillmode": "overlay",
              "size": 10,
              "solidity": 0.2
             }
            },
            "type": "bar"
           }
          ],
          "scattergeo": [
           {
            "type": "scattergeo",
            "marker": {
             "colorbar": {
              "outlinewidth": 0,
              "ticks": ""
             }
            }
           }
          ],
          "scatterpolar": [
           {
            "type": "scatterpolar",
            "marker": {
             "colorbar": {
              "outlinewidth": 0,
              "ticks": ""
             }
            }
           }
          ],
          "histogram": [
           {
            "marker": {
             "pattern": {
              "fillmode": "overlay",
              "size": 10,
              "solidity": 0.2
             }
            },
            "type": "histogram"
           }
          ],
          "scattergl": [
           {
            "type": "scattergl",
            "marker": {
             "colorbar": {
              "outlinewidth": 0,
              "ticks": ""
             }
            }
           }
          ],
          "scatter3d": [
           {
            "type": "scatter3d",
            "line": {
             "colorbar": {
              "outlinewidth": 0,
              "ticks": ""
             }
            },
            "marker": {
             "colorbar": {
              "outlinewidth": 0,
              "ticks": ""
             }
            }
           }
          ],
          "scattermap": [
           {
            "type": "scattermap",
            "marker": {
             "colorbar": {
              "outlinewidth": 0,
              "ticks": ""
             }
            }
           }
          ],
          "scattermapbox": [
           {
            "type": "scattermapbox",
            "marker": {
             "colorbar": {
              "outlinewidth": 0,
              "ticks": ""
             }
            }
           }
          ],
          "scatterternary": [
           {
            "type": "scatterternary",
            "marker": {
             "colorbar": {
              "outlinewidth": 0,
              "ticks": ""
             }
            }
           }
          ],
          "scattercarpet": [
           {
            "type": "scattercarpet",
            "marker": {
             "colorbar": {
              "outlinewidth": 0,
              "ticks": ""
             }
            }
           }
          ],
          "carpet": [
           {
            "aaxis": {
             "endlinecolor": "#2a3f5f",
             "gridcolor": "white",
             "linecolor": "white",
             "minorgridcolor": "white",
             "startlinecolor": "#2a3f5f"
            },
            "baxis": {
             "endlinecolor": "#2a3f5f",
             "gridcolor": "white",
             "linecolor": "white",
             "minorgridcolor": "white",
             "startlinecolor": "#2a3f5f"
            },
            "type": "carpet"
           }
          ],
          "table": [
           {
            "cells": {
             "fill": {
              "color": "#EBF0F8"
             },
             "line": {
              "color": "white"
             }
            },
            "header": {
             "fill": {
              "color": "#C8D4E3"
             },
             "line": {
              "color": "white"
             }
            },
            "type": "table"
           }
          ],
          "barpolar": [
           {
            "marker": {
             "line": {
              "color": "#E5ECF6",
              "width": 0.5
             },
             "pattern": {
              "fillmode": "overlay",
              "size": 10,
              "solidity": 0.2
             }
            },
            "type": "barpolar"
           }
          ],
          "pie": [
           {
            "automargin": true,
            "type": "pie"
           }
          ]
         },
         "layout": {
          "autotypenumbers": "strict",
          "colorway": [
           "#636efa",
           "#EF553B",
           "#00cc96",
           "#ab63fa",
           "#FFA15A",
           "#19d3f3",
           "#FF6692",
           "#B6E880",
           "#FF97FF",
           "#FECB52"
          ],
          "font": {
           "color": "#2a3f5f"
          },
          "hovermode": "closest",
          "hoverlabel": {
           "align": "left"
          },
          "paper_bgcolor": "white",
          "plot_bgcolor": "#E5ECF6",
          "polar": {
           "bgcolor": "#E5ECF6",
           "angularaxis": {
            "gridcolor": "white",
            "linecolor": "white",
            "ticks": ""
           },
           "radialaxis": {
            "gridcolor": "white",
            "linecolor": "white",
            "ticks": ""
           }
          },
          "ternary": {
           "bgcolor": "#E5ECF6",
           "aaxis": {
            "gridcolor": "white",
            "linecolor": "white",
            "ticks": ""
           },
           "baxis": {
            "gridcolor": "white",
            "linecolor": "white",
            "ticks": ""
           },
           "caxis": {
            "gridcolor": "white",
            "linecolor": "white",
            "ticks": ""
           }
          },
          "coloraxis": {
           "colorbar": {
            "outlinewidth": 0,
            "ticks": ""
           }
          },
          "colorscale": {
           "sequential": [
            [
             0.0,
             "#0d0887"
            ],
            [
             0.1111111111111111,
             "#46039f"
            ],
            [
             0.2222222222222222,
             "#7201a8"
            ],
            [
             0.3333333333333333,
             "#9c179e"
            ],
            [
             0.4444444444444444,
             "#bd3786"
            ],
            [
             0.5555555555555556,
             "#d8576b"
            ],
            [
             0.6666666666666666,
             "#ed7953"
            ],
            [
             0.7777777777777778,
             "#fb9f3a"
            ],
            [
             0.8888888888888888,
             "#fdca26"
            ],
            [
             1.0,
             "#f0f921"
            ]
           ],
           "sequentialminus": [
            [
             0.0,
             "#0d0887"
            ],
            [
             0.1111111111111111,
             "#46039f"
            ],
            [
             0.2222222222222222,
             "#7201a8"
            ],
            [
             0.3333333333333333,
             "#9c179e"
            ],
            [
             0.4444444444444444,
             "#bd3786"
            ],
            [
             0.5555555555555556,
             "#d8576b"
            ],
            [
             0.6666666666666666,
             "#ed7953"
            ],
            [
             0.7777777777777778,
             "#fb9f3a"
            ],
            [
             0.8888888888888888,
             "#fdca26"
            ],
            [
             1.0,
             "#f0f921"
            ]
           ],
           "diverging": [
            [
             0,
             "#8e0152"
            ],
            [
             0.1,
             "#c51b7d"
            ],
            [
             0.2,
             "#de77ae"
            ],
            [
             0.3,
             "#f1b6da"
            ],
            [
             0.4,
             "#fde0ef"
            ],
            [
             0.5,
             "#f7f7f7"
            ],
            [
             0.6,
             "#e6f5d0"
            ],
            [
             0.7,
             "#b8e186"
            ],
            [
             0.8,
             "#7fbc41"
            ],
            [
             0.9,
             "#4d9221"
            ],
            [
             1,
             "#276419"
            ]
           ]
          },
          "xaxis": {
           "gridcolor": "white",
           "linecolor": "white",
           "ticks": "",
           "title": {
            "standoff": 15
           },
           "zerolinecolor": "white",
           "automargin": true,
           "zerolinewidth": 2
          },
          "yaxis": {
           "gridcolor": "white",
           "linecolor": "white",
           "ticks": "",
           "title": {
            "standoff": 15
           },
           "zerolinecolor": "white",
           "automargin": true,
           "zerolinewidth": 2
          },
          "scene": {
           "xaxis": {
            "backgroundcolor": "#E5ECF6",
            "gridcolor": "white",
            "linecolor": "white",
            "showbackground": true,
            "ticks": "",
            "zerolinecolor": "white",
            "gridwidth": 2
           },
           "yaxis": {
            "backgroundcolor": "#E5ECF6",
            "gridcolor": "white",
            "linecolor": "white",
            "showbackground": true,
            "ticks": "",
            "zerolinecolor": "white",
            "gridwidth": 2
           },
           "zaxis": {
            "backgroundcolor": "#E5ECF6",
            "gridcolor": "white",
            "linecolor": "white",
            "showbackground": true,
            "ticks": "",
            "zerolinecolor": "white",
            "gridwidth": 2
           }
          },
          "shapedefaults": {
           "line": {
            "color": "#2a3f5f"
           }
          },
          "annotationdefaults": {
           "arrowcolor": "#2a3f5f",
           "arrowhead": 0,
           "arrowwidth": 1
          },
          "geo": {
           "bgcolor": "white",
           "landcolor": "#E5ECF6",
           "subunitcolor": "white",
           "showland": true,
           "showlakes": true,
           "lakecolor": "white"
          },
          "title": {
           "x": 0.05
          },
          "mapbox": {
           "style": "light"
          }
         }
        },
        "title": {
         "font": {
          "size": 27
         },
         "pad": {
          "t": 0,
          "b": 0,
          "l": 0,
          "r": 0
         },
         "text": "Workstation Topology",
         "x": 0.5,
         "xanchor": "center"
        },
        "xaxis": {
         "visible": false,
         "range": [
          -3.1875,
          16.4375
         ]
        },
        "yaxis": {
         "visible": false,
         "range": [
          -2.0625,
          4.6875
         ],
         "scaleanchor": "x",
         "scaleratio": 1
        },
        "margin": {
         "l": 0,
         "r": 0,
         "t": 0,
         "b": 0
        },
        "paper_bgcolor": "black",
        "plot_bgcolor": "black",
        "shapes": [
         {
          "fillcolor": "rgba(66,135,245,0.10)",
          "line": {
           "width": 0
          },
          "type": "rect",
          "x0": -3.125,
          "x1": 3.125,
          "xref": "x",
          "y0": -2.0,
          "y1": 2.0,
          "yref": "y"
         },
         {
          "fillcolor": "rgba(66,135,245,1)",
          "line": {
           "color": "white",
           "width": 2
          },
          "type": "rect",
          "x0": -1.875,
          "x1": 1.875,
          "xref": "x",
          "y0": 0.40625,
          "y1": 1.34375,
          "yref": "y"
         },
         {
          "fillcolor": "rgba(66,135,245,1)",
          "line": {
           "color": "white",
           "width": 2
          },
          "type": "rect",
          "x0": -1.875,
          "x1": 1.875,
          "xref": "x",
          "y0": -1.34375,
          "y1": -0.40625,
          "yref": "y"
         },
         {
          "fillcolor": "rgba(255,159,67,0.10)",
          "line": {
           "width": 0
          },
          "type": "rect",
          "x0": 3.5,
          "x1": 9.75,
          "xref": "x",
          "y0": -2.0,
          "y1": 2.0,
          "yref": "y"
         },
         {
          "fillcolor": "rgba(40,199,111,1)",
          "line": {
           "color": "white",
           "width": 2
          },
          "type": "rect",
          "x0": 4.75,
          "x1": 8.5,
          "xref": "x",
          "y0": 0.40625,
          "y1": 1.34375,
          "yref": "y"
         },
         {
          "fillcolor": "rgba(255,159,67,1)",
          "line": {
           "color": "white",
           "width": 2
          },
          "type": "rect",
          "x0": 4.75,
          "x1": 8.5,
          "xref": "x",
          "y0": -1.34375,
          "y1": -0.40625,
          "yref": "y"
         },
         {
          "fillcolor": "rgba(235,87,87,0.10)",
          "line": {
           "width": 0
          },
          "type": "rect",
          "x0": 10.125,
          "x1": 16.375,
          "xref": "x",
          "y0": -2.0,
          "y1": 2.0,
          "yref": "y"
         },
         {
          "fillcolor": "rgba(235,87,87,1)",
          "line": {
           "color": "white",
           "width": 2
          },
          "type": "rect",
          "x0": 11.375,
          "x1": 15.125,
          "xref": "x",
          "y0": 0.40625,
          "y1": 1.34375,
          "yref": "y"
         },
         {
          "fillcolor": "rgba(235,87,87,1)",
          "line": {
           "color": "white",
           "width": 2
          },
          "type": "rect",
          "x0": 11.375,
          "x1": 15.125,
          "xref": "x",
          "y0": -1.34375,
          "y1": -0.40625,
          "yref": "y"
         },
         {
          "fillcolor": "rgba(66, 245, 173, 1)",
          "line": {
           "color": "white",
           "width": 2
          },
          "type": "rect",
          "x0": 7.375,
          "x1": 9.875,
          "xref": "x",
          "y0": 3.375,
          "y1": 4.625,
          "yref": "y"
         },
         {
          "fillcolor": "rgba(245, 127, 66, 1)",
          "line": {
           "color": "white",
           "width": 2
          },
          "type": "rect",
          "x0": 3.375,
          "x1": 5.875,
          "xref": "x",
          "y0": 3.375,
          "y1": 4.625,
          "yref": "y"
         }
        ],
        "annotations": [
         {
          "font": {
           "color": "#FFFFFF",
           "size": 17
          },
          "showarrow": false,
          "text": "<b>Kitting</b>",
          "x": 0.0,
          "xanchor": "center",
          "xref": "x",
          "y": 2.125,
          "yref": "y"
         },
         {
          "font": {
           "color": "#FFFFFF",
           "size": 40
          },
          "showarrow": false,
          "text": "<b>id:3 kitting</b>",
          "x": 0.0,
          "xanchor": "center",
          "xref": "x",
          "y": 0.875,
          "yanchor": "middle",
          "yref": "y"
         },
         {
          "font": {
           "color": "#FFFFFF",
           "size": 40
          },
          "showarrow": false,
          "text": "<b>id:4 kitting</b>",
          "x": 0.0,
          "xanchor": "center",
          "xref": "x",
          "y": -0.875,
          "yanchor": "middle",
          "yref": "y"
         },
         {
          "font": {
           "color": "#FFFFFF",
           "size": 17
          },
          "showarrow": false,
          "text": "<b>Build</b>",
          "x": 6.625,
          "xanchor": "center",
          "xref": "x",
          "y": 2.125,
          "yref": "y"
         },
         {
          "font": {
           "color": "#FFFFFF",
           "size": 40
          },
          "showarrow": false,
          "text": "<b>id:5 grip</b>",
          "x": 6.625,
          "xanchor": "center",
          "xref": "x",
          "y": 0.875,
          "yanchor": "middle",
          "yref": "y"
         },
         {
          "font": {
           "color": "#FFFFFF",
           "size": 40
          },
          "showarrow": false,
          "text": "<b>id:6 grip & screws</b>",
          "x": 6.625,
          "xanchor": "center",
          "xref": "x",
          "y": -0.875,
          "yanchor": "middle",
          "yref": "y"
         },
         {
          "font": {
           "color": "#FFFFFF",
           "size": 17
          },
          "showarrow": false,
          "text": "<b>Packing</b>",
          "x": 13.25,
          "xanchor": "center",
          "xref": "x",
          "y": 2.125,
          "yref": "y"
         },
         {
          "font": {
           "color": "#FFFFFF",
           "size": 40
          },
          "showarrow": false,
          "text": "<b>id:7 pallet</b>",
          "x": 13.25,
          "xanchor": "center",
          "xref": "x",
          "y": 0.875,
          "yanchor": "middle",
          "yref": "y"
         },
         {
          "font": {
           "color": "#FFFFFF",
           "size": 40
          },
          "showarrow": false,
          "text": "<b>id:8 pallet</b>",
          "x": 13.25,
          "xanchor": "center",
          "xref": "x",
          "y": -0.875,
          "yanchor": "middle",
          "yref": "y"
         },
         {
          "font": {
           "color": "#000000",
           "size": 40
          },
          "showarrow": false,
          "text": "<b>human</b>",
          "x": 8.625,
          "xanchor": "center",
          "xref": "x",
          "y": 4.0,
          "yanchor": "middle",
          "yref": "y"
         },
         {
          "font": {
           "color": "#000000",
           "size": 40
          },
          "showarrow": false,
          "text": "<b>robot</b>",
          "x": 4.625,
          "xanchor": "center",
          "xref": "x",
          "y": 4.0,
          "yanchor": "middle",
          "yref": "y"
         },
         {
          "arrowcolor": "#BBBBBB",
          "arrowhead": 3,
          "arrowsize": 1.3,
          "arrowwidth": 2,
          "ax": 1.875,
          "axref": "x",
          "ay": 0.875,
          "ayref": "y",
          "opacity": 0.9,
          "showarrow": true,
          "text": "",
          "x": 4.75,
          "xref": "x",
          "y": 0.875,
          "yref": "y"
         },
         {
          "arrowcolor": "#BBBBBB",
          "arrowhead": 3,
          "arrowsize": 1.3,
          "arrowwidth": 2,
          "ax": 6.625,
          "axref": "x",
          "ay": 0.40625,
          "ayref": "y",
          "opacity": 0.9,
          "showarrow": true,
          "text": "",
          "x": 6.625,
          "xref": "x",
          "y": -0.40625,
          "yref": "y"
         },
         {
          "arrowcolor": "#BBBBBB",
          "arrowhead": 3,
          "arrowsize": 1.3,
          "arrowwidth": 2,
          "ax": 8.5,
          "axref": "x",
          "ay": -0.875,
          "ayref": "y",
          "opacity": 0.9,
          "showarrow": true,
          "text": "",
          "x": 11.375,
          "xref": "x",
          "y": 0.875,
          "yref": "y"
         }
        ],
        "width": 2000,
        "height": 1125,
        "autosize": false
       },
       "config": {
        "plotlyServerURL": "https://plot.ly"
       }
      }
     },
     "metadata": {},
     "output_type": "display_data"
    }
   ],
   "execution_count": 4
  },
  {
   "metadata": {
    "ExecuteTime": {
     "end_time": "2025-09-29T10:52:33.138931Z",
     "start_time": "2025-09-29T10:52:33.130157Z"
    }
   },
   "cell_type": "code",
   "source": "problem.model_problem()",
   "id": "92b43e1518d94455",
   "outputs": [],
   "execution_count": 16
  },
  {
   "metadata": {
    "ExecuteTime": {
     "end_time": "2025-09-29T10:54:13.551175Z",
     "start_time": "2025-09-29T10:54:04.322842Z"
    }
   },
   "cell_type": "code",
   "source": [
    "params = tune(problem,time_limit=10)\n",
    "print(params)\n",
    "problem.solve(solver='ortools',params=params)"
   ],
   "id": "2002e5b000ee2df1",
   "outputs": [
    {
     "name": "stdout",
     "output_type": "stream",
     "text": [
      "Tuning done\n",
      "{'optimize_with_core': np.int64(1), 'search_branching': np.int64(5), 'boolean_encoding_level': np.int64(2), 'linearization_level': np.int64(1), 'core_minimization_level': np.int64(1), 'cp_model_probing_level': np.int64(0), 'cp_model_presolve': np.int64(1), 'clause_cleanup_ordering': np.int64(0), 'binary_minimization_algorithm': np.int64(4), 'minimization_algorithm': np.int64(2), 'use_phase_saving': np.int64(1)}\n",
      "Solution found with makespan: 69\n",
      "Computational time: 0.070 seconds\n"
     ]
    }
   ],
   "execution_count": 18
  },
  {
   "metadata": {
    "ExecuteTime": {
     "end_time": "2025-09-25T12:03:40.585736187Z",
     "start_time": "2025-09-25T11:32:48.934331Z"
    }
   },
   "cell_type": "code",
   "source": "# problem.make_gantt()",
   "id": "4890bfb2bd2f7264",
   "outputs": [
    {
     "ename": "NameError",
     "evalue": "name 'problem' is not defined",
     "output_type": "error",
     "traceback": [
      "\u001B[31m---------------------------------------------------------------------------\u001B[39m",
      "\u001B[31mNameError\u001B[39m                                 Traceback (most recent call last)",
      "\u001B[36mCell\u001B[39m\u001B[36m \u001B[39m\u001B[32mIn[1]\u001B[39m\u001B[32m, line 1\u001B[39m\n\u001B[32m----> \u001B[39m\u001B[32m1\u001B[39m \u001B[43mproblem\u001B[49m.make_gantt()\n",
      "\u001B[31mNameError\u001B[39m: name 'problem' is not defined"
     ]
    }
   ],
   "execution_count": 1
  }
 ],
 "metadata": {
  "kernelspec": {
   "display_name": "Python 3 (ipykernel)",
   "language": "python",
   "name": "python3"
  },
  "language_info": {
   "codemirror_mode": {
    "name": "ipython",
    "version": 2
   },
   "file_extension": ".py",
   "mimetype": "text/x-python",
   "name": "python",
   "nbconvert_exporter": "python",
   "pygments_lexer": "ipython2",
   "version": "2.7.6"
  }
 },
 "nbformat": 4,
 "nbformat_minor": 5
}
