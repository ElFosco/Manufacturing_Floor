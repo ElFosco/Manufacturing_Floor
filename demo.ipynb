{
 "cells": [
  {
   "metadata": {
    "ExecuteTime": {
     "end_time": "2025-10-10T10:30:05.105262Z",
     "start_time": "2025-10-10T10:30:05.103297Z"
    }
   },
   "cell_type": "code",
   "source": [
    "from utils.jobshop_model_transport import FJTransportProblem\n",
    "from utils.costant import *\n",
    "from utils.utility import solve_all_and_gantt\n",
    "from utils.utility import tune"
   ],
   "id": "568a732ab16e7137",
   "outputs": [],
   "execution_count": 14
  },
  {
   "metadata": {
    "ExecuteTime": {
     "end_time": "2025-10-10T10:30:05.346196Z",
     "start_time": "2025-10-10T10:30:05.344110Z"
    }
   },
   "cell_type": "code",
   "source": "problem = FJTransportProblem(symmetry_breaking=True)",
   "id": "993201ef39528ba7",
   "outputs": [],
   "execution_count": 15
  },
  {
   "metadata": {
    "ExecuteTime": {
     "end_time": "2025-10-10T10:30:05.741295Z",
     "start_time": "2025-10-10T10:30:05.726979Z"
    }
   },
   "cell_type": "code",
   "source": [
    "problem.add_human()\n",
    "problem.add_human()\n",
    "problem.add_human()\n",
    "problem.set_dur_hum(HUMAN_JOBS_TIME)\n",
    "problem.add_robot()\n",
    "problem.add_robot()\n",
    "problem.set_dur_robot(ROBOT_JOBS_TIME)\n",
    "\n",
    "id_kit_1 = problem.add_workstation(WS_KITTING)\n",
    "id_kit_2 = problem.add_workstation(WS_KITTING)\n",
    "id_grip = problem.add_workstation(WS_BUILDING_1)\n",
    "id_gs = problem.add_workstation(WS_BUILDING_2)\n",
    "id_pal = problem.add_workstation(WS_PALLETTING)\n",
    "id_pal_2 = problem.add_workstation(WS_PALLETTING)\n",
    "\n",
    "problem.add_transport(id_kit_1, id_grip)\n",
    "problem.add_transport(id_kit_2,id_gs)\n",
    "problem.add_transport(id_grip, id_gs)\n",
    "problem.add_transport(id_gs, id_pal)\n",
    "\n",
    "problem.set_t_conv(3)\n",
    "problem.add_items_to_build(FLASHLIGHT_CLIPPED, 4)\n",
    "problem.add_items_to_build(FLASHLIGHT_SCREWS, 4)\n",
    "\n",
    "problem.make_ws_topology()\n"
   ],
   "id": "a9a9c0106150d8c0",
   "outputs": [
    {
     "data": {
      "application/vnd.plotly.v1+json": {
       "data": [],
       "layout": {
        "template": {
         "data": {
          "histogram2dcontour": [
           {
            "type": "histogram2dcontour",
            "colorbar": {
             "outlinewidth": 0,
             "ticks": ""
            },
            "colorscale": [
             [
              0.0,
              "#0d0887"
             ],
             [
              0.1111111111111111,
              "#46039f"
             ],
             [
              0.2222222222222222,
              "#7201a8"
             ],
             [
              0.3333333333333333,
              "#9c179e"
             ],
             [
              0.4444444444444444,
              "#bd3786"
             ],
             [
              0.5555555555555556,
              "#d8576b"
             ],
             [
              0.6666666666666666,
              "#ed7953"
             ],
             [
              0.7777777777777778,
              "#fb9f3a"
             ],
             [
              0.8888888888888888,
              "#fdca26"
             ],
             [
              1.0,
              "#f0f921"
             ]
            ]
           }
          ],
          "choropleth": [
           {
            "type": "choropleth",
            "colorbar": {
             "outlinewidth": 0,
             "ticks": ""
            }
           }
          ],
          "histogram2d": [
           {
            "type": "histogram2d",
            "colorbar": {
             "outlinewidth": 0,
             "ticks": ""
            },
            "colorscale": [
             [
              0.0,
              "#0d0887"
             ],
             [
              0.1111111111111111,
              "#46039f"
             ],
             [
              0.2222222222222222,
              "#7201a8"
             ],
             [
              0.3333333333333333,
              "#9c179e"
             ],
             [
              0.4444444444444444,
              "#bd3786"
             ],
             [
              0.5555555555555556,
              "#d8576b"
             ],
             [
              0.6666666666666666,
              "#ed7953"
             ],
             [
              0.7777777777777778,
              "#fb9f3a"
             ],
             [
              0.8888888888888888,
              "#fdca26"
             ],
             [
              1.0,
              "#f0f921"
             ]
            ]
           }
          ],
          "heatmap": [
           {
            "type": "heatmap",
            "colorbar": {
             "outlinewidth": 0,
             "ticks": ""
            },
            "colorscale": [
             [
              0.0,
              "#0d0887"
             ],
             [
              0.1111111111111111,
              "#46039f"
             ],
             [
              0.2222222222222222,
              "#7201a8"
             ],
             [
              0.3333333333333333,
              "#9c179e"
             ],
             [
              0.4444444444444444,
              "#bd3786"
             ],
             [
              0.5555555555555556,
              "#d8576b"
             ],
             [
              0.6666666666666666,
              "#ed7953"
             ],
             [
              0.7777777777777778,
              "#fb9f3a"
             ],
             [
              0.8888888888888888,
              "#fdca26"
             ],
             [
              1.0,
              "#f0f921"
             ]
            ]
           }
          ],
          "contourcarpet": [
           {
            "type": "contourcarpet",
            "colorbar": {
             "outlinewidth": 0,
             "ticks": ""
            }
           }
          ],
          "contour": [
           {
            "type": "contour",
            "colorbar": {
             "outlinewidth": 0,
             "ticks": ""
            },
            "colorscale": [
             [
              0.0,
              "#0d0887"
             ],
             [
              0.1111111111111111,
              "#46039f"
             ],
             [
              0.2222222222222222,
              "#7201a8"
             ],
             [
              0.3333333333333333,
              "#9c179e"
             ],
             [
              0.4444444444444444,
              "#bd3786"
             ],
             [
              0.5555555555555556,
              "#d8576b"
             ],
             [
              0.6666666666666666,
              "#ed7953"
             ],
             [
              0.7777777777777778,
              "#fb9f3a"
             ],
             [
              0.8888888888888888,
              "#fdca26"
             ],
             [
              1.0,
              "#f0f921"
             ]
            ]
           }
          ],
          "surface": [
           {
            "type": "surface",
            "colorbar": {
             "outlinewidth": 0,
             "ticks": ""
            },
            "colorscale": [
             [
              0.0,
              "#0d0887"
             ],
             [
              0.1111111111111111,
              "#46039f"
             ],
             [
              0.2222222222222222,
              "#7201a8"
             ],
             [
              0.3333333333333333,
              "#9c179e"
             ],
             [
              0.4444444444444444,
              "#bd3786"
             ],
             [
              0.5555555555555556,
              "#d8576b"
             ],
             [
              0.6666666666666666,
              "#ed7953"
             ],
             [
              0.7777777777777778,
              "#fb9f3a"
             ],
             [
              0.8888888888888888,
              "#fdca26"
             ],
             [
              1.0,
              "#f0f921"
             ]
            ]
           }
          ],
          "mesh3d": [
           {
            "type": "mesh3d",
            "colorbar": {
             "outlinewidth": 0,
             "ticks": ""
            }
           }
          ],
          "scatter": [
           {
            "fillpattern": {
             "fillmode": "overlay",
             "size": 10,
             "solidity": 0.2
            },
            "type": "scatter"
           }
          ],
          "parcoords": [
           {
            "type": "parcoords",
            "line": {
             "colorbar": {
              "outlinewidth": 0,
              "ticks": ""
             }
            }
           }
          ],
          "scatterpolargl": [
           {
            "type": "scatterpolargl",
            "marker": {
             "colorbar": {
              "outlinewidth": 0,
              "ticks": ""
             }
            }
           }
          ],
          "bar": [
           {
            "error_x": {
             "color": "#2a3f5f"
            },
            "error_y": {
             "color": "#2a3f5f"
            },
            "marker": {
             "line": {
              "color": "#E5ECF6",
              "width": 0.5
             },
             "pattern": {
              "fillmode": "overlay",
              "size": 10,
              "solidity": 0.2
             }
            },
            "type": "bar"
           }
          ],
          "scattergeo": [
           {
            "type": "scattergeo",
            "marker": {
             "colorbar": {
              "outlinewidth": 0,
              "ticks": ""
             }
            }
           }
          ],
          "scatterpolar": [
           {
            "type": "scatterpolar",
            "marker": {
             "colorbar": {
              "outlinewidth": 0,
              "ticks": ""
             }
            }
           }
          ],
          "histogram": [
           {
            "marker": {
             "pattern": {
              "fillmode": "overlay",
              "size": 10,
              "solidity": 0.2
             }
            },
            "type": "histogram"
           }
          ],
          "scattergl": [
           {
            "type": "scattergl",
            "marker": {
             "colorbar": {
              "outlinewidth": 0,
              "ticks": ""
             }
            }
           }
          ],
          "scatter3d": [
           {
            "type": "scatter3d",
            "line": {
             "colorbar": {
              "outlinewidth": 0,
              "ticks": ""
             }
            },
            "marker": {
             "colorbar": {
              "outlinewidth": 0,
              "ticks": ""
             }
            }
           }
          ],
          "scattermap": [
           {
            "type": "scattermap",
            "marker": {
             "colorbar": {
              "outlinewidth": 0,
              "ticks": ""
             }
            }
           }
          ],
          "scattermapbox": [
           {
            "type": "scattermapbox",
            "marker": {
             "colorbar": {
              "outlinewidth": 0,
              "ticks": ""
             }
            }
           }
          ],
          "scatterternary": [
           {
            "type": "scatterternary",
            "marker": {
             "colorbar": {
              "outlinewidth": 0,
              "ticks": ""
             }
            }
           }
          ],
          "scattercarpet": [
           {
            "type": "scattercarpet",
            "marker": {
             "colorbar": {
              "outlinewidth": 0,
              "ticks": ""
             }
            }
           }
          ],
          "carpet": [
           {
            "aaxis": {
             "endlinecolor": "#2a3f5f",
             "gridcolor": "white",
             "linecolor": "white",
             "minorgridcolor": "white",
             "startlinecolor": "#2a3f5f"
            },
            "baxis": {
             "endlinecolor": "#2a3f5f",
             "gridcolor": "white",
             "linecolor": "white",
             "minorgridcolor": "white",
             "startlinecolor": "#2a3f5f"
            },
            "type": "carpet"
           }
          ],
          "table": [
           {
            "cells": {
             "fill": {
              "color": "#EBF0F8"
             },
             "line": {
              "color": "white"
             }
            },
            "header": {
             "fill": {
              "color": "#C8D4E3"
             },
             "line": {
              "color": "white"
             }
            },
            "type": "table"
           }
          ],
          "barpolar": [
           {
            "marker": {
             "line": {
              "color": "#E5ECF6",
              "width": 0.5
             },
             "pattern": {
              "fillmode": "overlay",
              "size": 10,
              "solidity": 0.2
             }
            },
            "type": "barpolar"
           }
          ],
          "pie": [
           {
            "automargin": true,
            "type": "pie"
           }
          ]
         },
         "layout": {
          "autotypenumbers": "strict",
          "colorway": [
           "#636efa",
           "#EF553B",
           "#00cc96",
           "#ab63fa",
           "#FFA15A",
           "#19d3f3",
           "#FF6692",
           "#B6E880",
           "#FF97FF",
           "#FECB52"
          ],
          "font": {
           "color": "#2a3f5f"
          },
          "hovermode": "closest",
          "hoverlabel": {
           "align": "left"
          },
          "paper_bgcolor": "white",
          "plot_bgcolor": "#E5ECF6",
          "polar": {
           "bgcolor": "#E5ECF6",
           "angularaxis": {
            "gridcolor": "white",
            "linecolor": "white",
            "ticks": ""
           },
           "radialaxis": {
            "gridcolor": "white",
            "linecolor": "white",
            "ticks": ""
           }
          },
          "ternary": {
           "bgcolor": "#E5ECF6",
           "aaxis": {
            "gridcolor": "white",
            "linecolor": "white",
            "ticks": ""
           },
           "baxis": {
            "gridcolor": "white",
            "linecolor": "white",
            "ticks": ""
           },
           "caxis": {
            "gridcolor": "white",
            "linecolor": "white",
            "ticks": ""
           }
          },
          "coloraxis": {
           "colorbar": {
            "outlinewidth": 0,
            "ticks": ""
           }
          },
          "colorscale": {
           "sequential": [
            [
             0.0,
             "#0d0887"
            ],
            [
             0.1111111111111111,
             "#46039f"
            ],
            [
             0.2222222222222222,
             "#7201a8"
            ],
            [
             0.3333333333333333,
             "#9c179e"
            ],
            [
             0.4444444444444444,
             "#bd3786"
            ],
            [
             0.5555555555555556,
             "#d8576b"
            ],
            [
             0.6666666666666666,
             "#ed7953"
            ],
            [
             0.7777777777777778,
             "#fb9f3a"
            ],
            [
             0.8888888888888888,
             "#fdca26"
            ],
            [
             1.0,
             "#f0f921"
            ]
           ],
           "sequentialminus": [
            [
             0.0,
             "#0d0887"
            ],
            [
             0.1111111111111111,
             "#46039f"
            ],
            [
             0.2222222222222222,
             "#7201a8"
            ],
            [
             0.3333333333333333,
             "#9c179e"
            ],
            [
             0.4444444444444444,
             "#bd3786"
            ],
            [
             0.5555555555555556,
             "#d8576b"
            ],
            [
             0.6666666666666666,
             "#ed7953"
            ],
            [
             0.7777777777777778,
             "#fb9f3a"
            ],
            [
             0.8888888888888888,
             "#fdca26"
            ],
            [
             1.0,
             "#f0f921"
            ]
           ],
           "diverging": [
            [
             0,
             "#8e0152"
            ],
            [
             0.1,
             "#c51b7d"
            ],
            [
             0.2,
             "#de77ae"
            ],
            [
             0.3,
             "#f1b6da"
            ],
            [
             0.4,
             "#fde0ef"
            ],
            [
             0.5,
             "#f7f7f7"
            ],
            [
             0.6,
             "#e6f5d0"
            ],
            [
             0.7,
             "#b8e186"
            ],
            [
             0.8,
             "#7fbc41"
            ],
            [
             0.9,
             "#4d9221"
            ],
            [
             1,
             "#276419"
            ]
           ]
          },
          "xaxis": {
           "gridcolor": "white",
           "linecolor": "white",
           "ticks": "",
           "title": {
            "standoff": 15
           },
           "zerolinecolor": "white",
           "automargin": true,
           "zerolinewidth": 2
          },
          "yaxis": {
           "gridcolor": "white",
           "linecolor": "white",
           "ticks": "",
           "title": {
            "standoff": 15
           },
           "zerolinecolor": "white",
           "automargin": true,
           "zerolinewidth": 2
          },
          "scene": {
           "xaxis": {
            "backgroundcolor": "#E5ECF6",
            "gridcolor": "white",
            "linecolor": "white",
            "showbackground": true,
            "ticks": "",
            "zerolinecolor": "white",
            "gridwidth": 2
           },
           "yaxis": {
            "backgroundcolor": "#E5ECF6",
            "gridcolor": "white",
            "linecolor": "white",
            "showbackground": true,
            "ticks": "",
            "zerolinecolor": "white",
            "gridwidth": 2
           },
           "zaxis": {
            "backgroundcolor": "#E5ECF6",
            "gridcolor": "white",
            "linecolor": "white",
            "showbackground": true,
            "ticks": "",
            "zerolinecolor": "white",
            "gridwidth": 2
           }
          },
          "shapedefaults": {
           "line": {
            "color": "#2a3f5f"
           }
          },
          "annotationdefaults": {
           "arrowcolor": "#2a3f5f",
           "arrowhead": 0,
           "arrowwidth": 1
          },
          "geo": {
           "bgcolor": "white",
           "landcolor": "#E5ECF6",
           "subunitcolor": "white",
           "showland": true,
           "showlakes": true,
           "lakecolor": "white"
          },
          "title": {
           "x": 0.05
          },
          "mapbox": {
           "style": "light"
          }
         }
        },
        "title": {
         "font": {
          "size": 27
         },
         "pad": {
          "t": 0,
          "b": 0,
          "l": 0,
          "r": 0
         },
         "text": "Workstation Topology",
         "x": 0.5,
         "xanchor": "center"
        },
        "xaxis": {
         "visible": false,
         "range": [
          -3.1875,
          16.4375
         ]
        },
        "yaxis": {
         "visible": false,
         "range": [
          -2.0625,
          4.6875
         ],
         "scaleanchor": "x",
         "scaleratio": 1
        },
        "margin": {
         "l": 0,
         "r": 0,
         "t": 0,
         "b": 0
        },
        "paper_bgcolor": "black",
        "plot_bgcolor": "black",
        "shapes": [
         {
          "fillcolor": "rgba(66,135,245,0.10)",
          "line": {
           "width": 0
          },
          "type": "rect",
          "x0": -3.125,
          "x1": 3.125,
          "xref": "x",
          "y0": -2.0,
          "y1": 2.0,
          "yref": "y"
         },
         {
          "fillcolor": "rgba(66,135,245,1)",
          "line": {
           "color": "white",
           "width": 2
          },
          "type": "rect",
          "x0": -1.875,
          "x1": 1.875,
          "xref": "x",
          "y0": 0.40625,
          "y1": 1.34375,
          "yref": "y"
         },
         {
          "fillcolor": "rgba(66,135,245,1)",
          "line": {
           "color": "white",
           "width": 2
          },
          "type": "rect",
          "x0": -1.875,
          "x1": 1.875,
          "xref": "x",
          "y0": -1.34375,
          "y1": -0.40625,
          "yref": "y"
         },
         {
          "fillcolor": "rgba(255,159,67,0.10)",
          "line": {
           "width": 0
          },
          "type": "rect",
          "x0": 3.5,
          "x1": 9.75,
          "xref": "x",
          "y0": -2.0,
          "y1": 2.0,
          "yref": "y"
         },
         {
          "fillcolor": "rgba(40,199,111,1)",
          "line": {
           "color": "white",
           "width": 2
          },
          "type": "rect",
          "x0": 4.75,
          "x1": 8.5,
          "xref": "x",
          "y0": 0.40625,
          "y1": 1.34375,
          "yref": "y"
         },
         {
          "fillcolor": "rgba(235,87,87,0.10)",
          "line": {
           "width": 0
          },
          "type": "rect",
          "x0": 10.125,
          "x1": 16.375,
          "xref": "x",
          "y0": -2.0,
          "y1": 2.0,
          "yref": "y"
         },
         {
          "fillcolor": "rgba(235,87,87,1)",
          "line": {
           "color": "white",
           "width": 2
          },
          "type": "rect",
          "x0": 11.375,
          "x1": 15.125,
          "xref": "x",
          "y0": 0.40625,
          "y1": 1.34375,
          "yref": "y"
         },
         {
          "fillcolor": "rgba(235,87,87,1)",
          "line": {
           "color": "white",
           "width": 2
          },
          "type": "rect",
          "x0": 11.375,
          "x1": 15.125,
          "xref": "x",
          "y0": -1.34375,
          "y1": -0.40625,
          "yref": "y"
         },
         {
          "fillcolor": "rgba(66, 245, 173, 1)",
          "line": {
           "color": "white",
           "width": 2
          },
          "type": "rect",
          "x0": 7.375,
          "x1": 9.875,
          "xref": "x",
          "y0": 3.375,
          "y1": 4.625,
          "yref": "y"
         },
         {
          "fillcolor": "rgba(245, 127, 66, 1)",
          "line": {
           "color": "white",
           "width": 2
          },
          "type": "rect",
          "x0": 3.375,
          "x1": 5.875,
          "xref": "x",
          "y0": 3.375,
          "y1": 4.625,
          "yref": "y"
         }
        ],
        "annotations": [
         {
          "font": {
           "color": "#FFFFFF",
           "size": 17
          },
          "showarrow": false,
          "text": "<b>Kitting</b>",
          "x": 0.0,
          "xanchor": "center",
          "xref": "x",
          "y": 2.125,
          "yref": "y"
         },
         {
          "font": {
           "color": "#FFFFFF",
           "size": 40
          },
          "showarrow": false,
          "text": "<b>id:6 kitting</b>",
          "x": 0.0,
          "xanchor": "center",
          "xref": "x",
          "y": 0.875,
          "yanchor": "middle",
          "yref": "y"
         },
         {
          "font": {
           "color": "#FFFFFF",
           "size": 40
          },
          "showarrow": false,
          "text": "<b>id:7 kitting</b>",
          "x": 0.0,
          "xanchor": "center",
          "xref": "x",
          "y": -0.875,
          "yanchor": "middle",
          "yref": "y"
         },
         {
          "font": {
           "color": "#FFFFFF",
           "size": 17
          },
          "showarrow": false,
          "text": "<b>Build</b>",
          "x": 6.625,
          "xanchor": "center",
          "xref": "x",
          "y": 2.125,
          "yref": "y"
         },
         {
          "font": {
           "color": "#FFFFFF",
           "size": 40
          },
          "showarrow": false,
          "text": "<b>id:8 grip</b>",
          "x": 6.625,
          "xanchor": "center",
          "xref": "x",
          "y": 0.875,
          "yanchor": "middle",
          "yref": "y"
         },
         {
          "font": {
           "color": "#FFFFFF",
           "size": 17
          },
          "showarrow": false,
          "text": "<b>Packing</b>",
          "x": 13.25,
          "xanchor": "center",
          "xref": "x",
          "y": 2.125,
          "yref": "y"
         },
         {
          "font": {
           "color": "#FFFFFF",
           "size": 40
          },
          "showarrow": false,
          "text": "<b>id:9 pallet</b>",
          "x": 13.25,
          "xanchor": "center",
          "xref": "x",
          "y": 0.875,
          "yanchor": "middle",
          "yref": "y"
         },
         {
          "font": {
           "color": "#FFFFFF",
           "size": 40
          },
          "showarrow": false,
          "text": "<b>id:10 pallet</b>",
          "x": 13.25,
          "xanchor": "center",
          "xref": "x",
          "y": -0.875,
          "yanchor": "middle",
          "yref": "y"
         },
         {
          "font": {
           "color": "#000000",
           "size": 40
          },
          "showarrow": false,
          "text": "<b>3 humans</b>",
          "x": 8.625,
          "xanchor": "center",
          "xref": "x",
          "y": 4.0,
          "yanchor": "middle",
          "yref": "y"
         },
         {
          "font": {
           "color": "#000000",
           "size": 40
          },
          "showarrow": false,
          "text": "<b>2 robots</b>",
          "x": 4.625,
          "xanchor": "center",
          "xref": "x",
          "y": 4.0,
          "yanchor": "middle",
          "yref": "y"
         }
        ],
        "width": 1400,
        "height": 600,
        "autosize": false
       },
       "config": {
        "plotlyServerURL": "https://plot.ly"
       }
      }
     },
     "metadata": {},
     "output_type": "display_data"
    }
   ],
   "execution_count": 16
  },
  {
   "metadata": {
    "ExecuteTime": {
     "end_time": "2025-10-10T10:30:06.300673Z",
     "start_time": "2025-10-10T10:30:06.292858Z"
    }
   },
   "cell_type": "code",
   "source": "problem.model_problem(objective_type=0)",
   "id": "92b43e1518d94455",
   "outputs": [],
   "execution_count": 17
  },
  {
   "metadata": {
    "ExecuteTime": {
     "end_time": "2025-10-10T10:30:06.851058Z",
     "start_time": "2025-10-10T10:30:06.719255Z"
    }
   },
   "cell_type": "code",
   "source": "problem.solve(solver='ortools')",
   "id": "2002e5b000ee2df1",
   "outputs": [
    {
     "name": "stdout",
     "output_type": "stream",
     "text": [
      "Solution found with makespan: 65\n",
      "Computational time: 0.129 seconds\n"
     ]
    },
    {
     "data": {
      "text/plain": [
       "(True, 0.12888646125793457, <ExitStatus.OPTIMAL: 2>)"
      ]
     },
     "execution_count": 18,
     "metadata": {},
     "output_type": "execute_result"
    }
   ],
   "execution_count": 18
  },
  {
   "metadata": {
    "ExecuteTime": {
     "end_time": "2025-10-10T10:30:08.245506Z",
     "start_time": "2025-10-10T10:30:08.160153Z"
    }
   },
   "cell_type": "code",
   "source": "problem.make_gantt()",
   "id": "4890bfb2bd2f7264",
   "outputs": [
    {
     "data": {
      "application/vnd.plotly.v1+json": {
       "data": [
        {
         "alignmentgroup": "PACK #9",
         "base": [
          52
         ],
         "hoverinfo": "text",
         "hovertext": [
          "Item 1 – P (Packaging) (machine occupied)<br>Start: 52 End: 57"
         ],
         "legendgroup": "1",
         "marker": {
          "color": "#636EFA",
          "line": {
           "color": "white",
           "width": 3
          },
          "pattern": {
           "shape": [
            "/"
           ],
           "size": 10,
           "solidity": 0.5
          }
         },
         "name": "1",
         "offsetgroup": "PACK #9",
         "orientation": "h",
         "showlegend": true,
         "width": 0.5,
         "x": {
          "dtype": "i1",
          "bdata": "BQ=="
         },
         "y": [
          "PACK #9"
         ],
         "type": "bar"
        },
        {
         "alignmentgroup": "PACK #9",
         "base": [
          52
         ],
         "hoverinfo": "text",
         "hovertext": [
          "Item 1 – P (Packaging) (machine occupied)<br>Start: 52 End: 57"
         ],
         "legendgroup": "1",
         "marker": {
          "color": "#636EFA",
          "line": {
           "color": "white",
           "width": 3
          },
          "pattern": {
           "fgcolor": "white",
           "shape": [
            "/"
           ],
           "size": 10,
           "solidity": 0.7
          }
         },
         "name": "1",
         "offsetgroup": "PACK #9",
         "orientation": "h",
         "showlegend": false,
         "width": 0.5,
         "x": {
          "dtype": "i1",
          "bdata": "BQ=="
         },
         "y": [
          "PACK #9"
         ],
         "type": "bar"
        },
        {
         "alignmentgroup": "GRIP #8",
         "base": [
          15
         ],
         "hoverinfo": "text",
         "hovertext": [
          "Item 1 – B1 (Assembly core)<br>Start: 15 End: 25"
         ],
         "legendgroup": "1",
         "marker": {
          "color": "#636EFA",
          "line": {
           "color": "white",
           "width": 3
          },
          "pattern": {
           "shape": [
            ""
           ],
           "size": 10,
           "solidity": 0.5
          }
         },
         "name": "1",
         "offsetgroup": "GRIP #8",
         "orientation": "h",
         "showlegend": false,
         "width": 0.5,
         "x": {
          "dtype": "i1",
          "bdata": "Cg=="
         },
         "y": [
          "GRIP #8"
         ],
         "type": "bar"
        },
        {
         "alignmentgroup": "KIT #6",
         "base": [
          0
         ],
         "hoverinfo": "text",
         "hovertext": [
          "Item 1 – K1 (Kitting)<br>Start: 0 End: 10"
         ],
         "legendgroup": "1",
         "marker": {
          "color": "#636EFA",
          "line": {
           "color": "white",
           "width": 3
          },
          "pattern": {
           "shape": [
            ""
           ],
           "size": 10,
           "solidity": 0.5
          }
         },
         "name": "1",
         "offsetgroup": "KIT #6",
         "orientation": "h",
         "showlegend": false,
         "width": 0.5,
         "x": {
          "dtype": "i1",
          "bdata": "Cg=="
         },
         "y": [
          "KIT #6"
         ],
         "type": "bar"
        },
        {
         "alignmentgroup": "Human #1",
         "base": [
          52
         ],
         "hoverinfo": "text",
         "hovertext": [
          "Item 1 – P (Packaging)<br>Start: 52 End: 57"
         ],
         "legendgroup": "1",
         "marker": {
          "color": "#636EFA",
          "line": {
           "color": "white",
           "width": 3
          },
          "pattern": {
           "shape": [
            "/"
           ],
           "size": 10,
           "solidity": 0.5
          }
         },
         "name": "1",
         "offsetgroup": "Human #1",
         "orientation": "h",
         "showlegend": false,
         "width": 0.5,
         "x": {
          "dtype": "i1",
          "bdata": "BQ=="
         },
         "y": [
          "Human #1"
         ],
         "type": "bar"
        },
        {
         "alignmentgroup": "Human #1",
         "base": [
          52
         ],
         "hoverinfo": "text",
         "hovertext": [
          "Item 1 – P (Packaging)<br>Start: 52 End: 57"
         ],
         "legendgroup": "1",
         "marker": {
          "color": "#636EFA",
          "line": {
           "color": "white",
           "width": 3
          },
          "pattern": {
           "fgcolor": "white",
           "shape": [
            "/"
           ],
           "size": 10,
           "solidity": 0.7
          }
         },
         "name": "1",
         "offsetgroup": "Human #1",
         "orientation": "h",
         "showlegend": false,
         "width": 0.5,
         "x": {
          "dtype": "i1",
          "bdata": "BQ=="
         },
         "y": [
          "Human #1"
         ],
         "type": "bar"
        },
        {
         "hoverinfo": "skip",
         "legendgroup": "1",
         "line": {
          "color": "#636EFA",
          "dash": "dot",
          "width": 8
         },
         "mode": "lines",
         "name": "1 transport",
         "showlegend": false,
         "x": [
          47,
          52
         ],
         "y": [
          "Human #2",
          "Human #2"
         ],
         "type": "scatter"
        },
        {
         "hoverinfo": "skip",
         "legendgroup": "1",
         "line": {
          "color": "#636EFA",
          "dash": "dot",
          "width": 8
         },
         "mode": "lines",
         "name": "1 transport",
         "showlegend": false,
         "x": [
          10,
          15
         ],
         "y": [
          "Human #1",
          "Human #1"
         ],
         "type": "scatter"
        },
        {
         "alignmentgroup": "PACK #10",
         "base": [
          54
         ],
         "hoverinfo": "text",
         "hovertext": [
          "Item 2 – P (Packaging) (machine occupied)<br>Start: 54 End: 59"
         ],
         "legendgroup": "2",
         "marker": {
          "color": "#EF553B",
          "line": {
           "color": "white",
           "width": 3
          },
          "pattern": {
           "shape": [
            "/"
           ],
           "size": 10,
           "solidity": 0.5
          }
         },
         "name": "2",
         "offsetgroup": "PACK #10",
         "orientation": "h",
         "showlegend": true,
         "width": 0.5,
         "x": {
          "dtype": "i1",
          "bdata": "BQ=="
         },
         "y": [
          "PACK #10"
         ],
         "type": "bar"
        },
        {
         "alignmentgroup": "PACK #10",
         "base": [
          54
         ],
         "hoverinfo": "text",
         "hovertext": [
          "Item 2 – P (Packaging) (machine occupied)<br>Start: 54 End: 59"
         ],
         "legendgroup": "2",
         "marker": {
          "color": "#EF553B",
          "line": {
           "color": "white",
           "width": 3
          },
          "pattern": {
           "fgcolor": "white",
           "shape": [
            "/"
           ],
           "size": 10,
           "solidity": 0.7
          }
         },
         "name": "2",
         "offsetgroup": "PACK #10",
         "orientation": "h",
         "showlegend": false,
         "width": 0.5,
         "x": {
          "dtype": "i1",
          "bdata": "BQ=="
         },
         "y": [
          "PACK #10"
         ],
         "type": "bar"
        },
        {
         "alignmentgroup": "GRIP #8",
         "base": [
          25
         ],
         "hoverinfo": "text",
         "hovertext": [
          "Item 2 – B1 (Assembly core)<br>Start: 25 End: 35"
         ],
         "legendgroup": "2",
         "marker": {
          "color": "#EF553B",
          "line": {
           "color": "white",
           "width": 3
          },
          "pattern": {
           "shape": [
            ""
           ],
           "size": 10,
           "solidity": 0.5
          }
         },
         "name": "2",
         "offsetgroup": "GRIP #8",
         "orientation": "h",
         "showlegend": false,
         "width": 0.5,
         "x": {
          "dtype": "i1",
          "bdata": "Cg=="
         },
         "y": [
          "GRIP #8"
         ],
         "type": "bar"
        },
        {
         "alignmentgroup": "KIT #7",
         "base": [
          0
         ],
         "hoverinfo": "text",
         "hovertext": [
          "Item 2 – K1 (Kitting)<br>Start: 0 End: 10"
         ],
         "legendgroup": "2",
         "marker": {
          "color": "#EF553B",
          "line": {
           "color": "white",
           "width": 3
          },
          "pattern": {
           "shape": [
            ""
           ],
           "size": 10,
           "solidity": 0.5
          }
         },
         "name": "2",
         "offsetgroup": "KIT #7",
         "orientation": "h",
         "showlegend": false,
         "width": 0.5,
         "x": {
          "dtype": "i1",
          "bdata": "Cg=="
         },
         "y": [
          "KIT #7"
         ],
         "type": "bar"
        },
        {
         "alignmentgroup": "Human #2",
         "base": [
          54
         ],
         "hoverinfo": "text",
         "hovertext": [
          "Item 2 – P (Packaging)<br>Start: 54 End: 59"
         ],
         "legendgroup": "2",
         "marker": {
          "color": "#EF553B",
          "line": {
           "color": "white",
           "width": 3
          },
          "pattern": {
           "shape": [
            "/"
           ],
           "size": 10,
           "solidity": 0.5
          }
         },
         "name": "2",
         "offsetgroup": "Human #2",
         "orientation": "h",
         "showlegend": false,
         "width": 0.5,
         "x": {
          "dtype": "i1",
          "bdata": "BQ=="
         },
         "y": [
          "Human #2"
         ],
         "type": "bar"
        },
        {
         "alignmentgroup": "Human #2",
         "base": [
          54
         ],
         "hoverinfo": "text",
         "hovertext": [
          "Item 2 – P (Packaging)<br>Start: 54 End: 59"
         ],
         "legendgroup": "2",
         "marker": {
          "color": "#EF553B",
          "line": {
           "color": "white",
           "width": 3
          },
          "pattern": {
           "fgcolor": "white",
           "shape": [
            "/"
           ],
           "size": 10,
           "solidity": 0.7
          }
         },
         "name": "2",
         "offsetgroup": "Human #2",
         "orientation": "h",
         "showlegend": false,
         "width": 0.5,
         "x": {
          "dtype": "i1",
          "bdata": "BQ=="
         },
         "y": [
          "Human #2"
         ],
         "type": "bar"
        },
        {
         "hoverinfo": "skip",
         "legendgroup": "2",
         "line": {
          "color": "#EF553B",
          "dash": "dot",
          "width": 8
         },
         "mode": "lines",
         "name": "2 transport",
         "showlegend": false,
         "x": [
          10,
          15
         ],
         "y": [
          "Human #2",
          "Human #2"
         ],
         "type": "scatter"
        },
        {
         "hoverinfo": "skip",
         "legendgroup": "2",
         "line": {
          "color": "#EF553B",
          "dash": "dot",
          "width": 8
         },
         "mode": "lines",
         "name": "2 transport",
         "showlegend": false,
         "x": [
          46,
          54
         ],
         "y": [
          "Robot #1",
          "Robot #1"
         ],
         "type": "scatter"
        },
        {
         "alignmentgroup": "PACK #10",
         "base": [
          59
         ],
         "hoverinfo": "text",
         "hovertext": [
          "Item 3 – P (Packaging) (machine occupied)<br>Start: 59 End: 64"
         ],
         "legendgroup": "3",
         "marker": {
          "color": "#00CC96",
          "line": {
           "color": "white",
           "width": 3
          },
          "pattern": {
           "shape": [
            "/"
           ],
           "size": 10,
           "solidity": 0.5
          }
         },
         "name": "3",
         "offsetgroup": "PACK #10",
         "orientation": "h",
         "showlegend": true,
         "width": 0.5,
         "x": {
          "dtype": "i1",
          "bdata": "BQ=="
         },
         "y": [
          "PACK #10"
         ],
         "type": "bar"
        },
        {
         "alignmentgroup": "PACK #10",
         "base": [
          59
         ],
         "hoverinfo": "text",
         "hovertext": [
          "Item 3 – P (Packaging) (machine occupied)<br>Start: 59 End: 64"
         ],
         "legendgroup": "3",
         "marker": {
          "color": "#00CC96",
          "line": {
           "color": "white",
           "width": 3
          },
          "pattern": {
           "fgcolor": "white",
           "shape": [
            "/"
           ],
           "size": 10,
           "solidity": 0.7
          }
         },
         "name": "3",
         "offsetgroup": "PACK #10",
         "orientation": "h",
         "showlegend": false,
         "width": 0.5,
         "x": {
          "dtype": "i1",
          "bdata": "BQ=="
         },
         "y": [
          "PACK #10"
         ],
         "type": "bar"
        },
        {
         "alignmentgroup": "GRIP #8",
         "base": [
          35
         ],
         "hoverinfo": "text",
         "hovertext": [
          "Item 3 – B1 (Assembly core)<br>Start: 35 End: 45"
         ],
         "legendgroup": "3",
         "marker": {
          "color": "#00CC96",
          "line": {
           "color": "white",
           "width": 3
          },
          "pattern": {
           "shape": [
            ""
           ],
           "size": 10,
           "solidity": 0.5
          }
         },
         "name": "3",
         "offsetgroup": "GRIP #8",
         "orientation": "h",
         "showlegend": false,
         "width": 0.5,
         "x": {
          "dtype": "i1",
          "bdata": "Cg=="
         },
         "y": [
          "GRIP #8"
         ],
         "type": "bar"
        },
        {
         "alignmentgroup": "KIT #6",
         "base": [
          10
         ],
         "hoverinfo": "text",
         "hovertext": [
          "Item 3 – K1 (Kitting)<br>Start: 10 End: 20"
         ],
         "legendgroup": "3",
         "marker": {
          "color": "#00CC96",
          "line": {
           "color": "white",
           "width": 3
          },
          "pattern": {
           "shape": [
            ""
           ],
           "size": 10,
           "solidity": 0.5
          }
         },
         "name": "3",
         "offsetgroup": "KIT #6",
         "orientation": "h",
         "showlegend": false,
         "width": 0.5,
         "x": {
          "dtype": "i1",
          "bdata": "Cg=="
         },
         "y": [
          "KIT #6"
         ],
         "type": "bar"
        },
        {
         "alignmentgroup": "Human #1",
         "base": [
          59
         ],
         "hoverinfo": "text",
         "hovertext": [
          "Item 3 – P (Packaging)<br>Start: 59 End: 64"
         ],
         "legendgroup": "3",
         "marker": {
          "color": "#00CC96",
          "line": {
           "color": "white",
           "width": 3
          },
          "pattern": {
           "shape": [
            "/"
           ],
           "size": 10,
           "solidity": 0.5
          }
         },
         "name": "3",
         "offsetgroup": "Human #1",
         "orientation": "h",
         "showlegend": false,
         "width": 0.5,
         "x": {
          "dtype": "i1",
          "bdata": "BQ=="
         },
         "y": [
          "Human #1"
         ],
         "type": "bar"
        },
        {
         "alignmentgroup": "Human #1",
         "base": [
          59
         ],
         "hoverinfo": "text",
         "hovertext": [
          "Item 3 – P (Packaging)<br>Start: 59 End: 64"
         ],
         "legendgroup": "3",
         "marker": {
          "color": "#00CC96",
          "line": {
           "color": "white",
           "width": 3
          },
          "pattern": {
           "fgcolor": "white",
           "shape": [
            "/"
           ],
           "size": 10,
           "solidity": 0.7
          }
         },
         "name": "3",
         "offsetgroup": "Human #1",
         "orientation": "h",
         "showlegend": false,
         "width": 0.5,
         "x": {
          "dtype": "i1",
          "bdata": "BQ=="
         },
         "y": [
          "Human #1"
         ],
         "type": "bar"
        },
        {
         "hoverinfo": "skip",
         "legendgroup": "3",
         "line": {
          "color": "#00CC96",
          "dash": "dot",
          "width": 8
         },
         "mode": "lines",
         "name": "3 transport",
         "showlegend": false,
         "x": [
          45,
          50
         ],
         "y": [
          "Human #1",
          "Human #1"
         ],
         "type": "scatter"
        },
        {
         "hoverinfo": "skip",
         "legendgroup": "3",
         "line": {
          "color": "#00CC96",
          "dash": "dot",
          "width": 8
         },
         "mode": "lines",
         "name": "3 transport",
         "showlegend": false,
         "x": [
          20,
          28
         ],
         "y": [
          "Robot #1",
          "Robot #1"
         ],
         "type": "scatter"
        },
        {
         "alignmentgroup": "PACK #9",
         "base": [
          60
         ],
         "hoverinfo": "text",
         "hovertext": [
          "Item 4 – P (Packaging) (machine occupied)<br>Start: 60 End: 65"
         ],
         "legendgroup": "4",
         "marker": {
          "color": "#AB63FA",
          "line": {
           "color": "white",
           "width": 3
          },
          "pattern": {
           "shape": [
            "/"
           ],
           "size": 10,
           "solidity": 0.5
          }
         },
         "name": "4",
         "offsetgroup": "PACK #9",
         "orientation": "h",
         "showlegend": true,
         "width": 0.5,
         "x": {
          "dtype": "i1",
          "bdata": "BQ=="
         },
         "y": [
          "PACK #9"
         ],
         "type": "bar"
        },
        {
         "alignmentgroup": "PACK #9",
         "base": [
          60
         ],
         "hoverinfo": "text",
         "hovertext": [
          "Item 4 – P (Packaging) (machine occupied)<br>Start: 60 End: 65"
         ],
         "legendgroup": "4",
         "marker": {
          "color": "#AB63FA",
          "line": {
           "color": "white",
           "width": 3
          },
          "pattern": {
           "fgcolor": "white",
           "shape": [
            "/"
           ],
           "size": 10,
           "solidity": 0.7
          }
         },
         "name": "4",
         "offsetgroup": "PACK #9",
         "orientation": "h",
         "showlegend": false,
         "width": 0.5,
         "x": {
          "dtype": "i1",
          "bdata": "BQ=="
         },
         "y": [
          "PACK #9"
         ],
         "type": "bar"
        },
        {
         "alignmentgroup": "GRIP #8",
         "base": [
          45
         ],
         "hoverinfo": "text",
         "hovertext": [
          "Item 4 – B1 (Assembly core)<br>Start: 45 End: 55"
         ],
         "legendgroup": "4",
         "marker": {
          "color": "#AB63FA",
          "line": {
           "color": "white",
           "width": 3
          },
          "pattern": {
           "shape": [
            ""
           ],
           "size": 10,
           "solidity": 0.5
          }
         },
         "name": "4",
         "offsetgroup": "GRIP #8",
         "orientation": "h",
         "showlegend": false,
         "width": 0.5,
         "x": {
          "dtype": "i1",
          "bdata": "Cg=="
         },
         "y": [
          "GRIP #8"
         ],
         "type": "bar"
        },
        {
         "alignmentgroup": "KIT #7",
         "base": [
          10
         ],
         "hoverinfo": "text",
         "hovertext": [
          "Item 4 – K1 (Kitting)<br>Start: 10 End: 20"
         ],
         "legendgroup": "4",
         "marker": {
          "color": "#AB63FA",
          "line": {
           "color": "white",
           "width": 3
          },
          "pattern": {
           "shape": [
            ""
           ],
           "size": 10,
           "solidity": 0.5
          }
         },
         "name": "4",
         "offsetgroup": "KIT #7",
         "orientation": "h",
         "showlegend": false,
         "width": 0.5,
         "x": {
          "dtype": "i1",
          "bdata": "Cg=="
         },
         "y": [
          "KIT #7"
         ],
         "type": "bar"
        },
        {
         "alignmentgroup": "Human #2",
         "base": [
          60
         ],
         "hoverinfo": "text",
         "hovertext": [
          "Item 4 – P (Packaging)<br>Start: 60 End: 65"
         ],
         "legendgroup": "4",
         "marker": {
          "color": "#AB63FA",
          "line": {
           "color": "white",
           "width": 3
          },
          "pattern": {
           "shape": [
            "/"
           ],
           "size": 10,
           "solidity": 0.5
          }
         },
         "name": "4",
         "offsetgroup": "Human #2",
         "orientation": "h",
         "showlegend": false,
         "width": 0.5,
         "x": {
          "dtype": "i1",
          "bdata": "BQ=="
         },
         "y": [
          "Human #2"
         ],
         "type": "bar"
        },
        {
         "alignmentgroup": "Human #2",
         "base": [
          60
         ],
         "hoverinfo": "text",
         "hovertext": [
          "Item 4 – P (Packaging)<br>Start: 60 End: 65"
         ],
         "legendgroup": "4",
         "marker": {
          "color": "#AB63FA",
          "line": {
           "color": "white",
           "width": 3
          },
          "pattern": {
           "fgcolor": "white",
           "shape": [
            "/"
           ],
           "size": 10,
           "solidity": 0.7
          }
         },
         "name": "4",
         "offsetgroup": "Human #2",
         "orientation": "h",
         "showlegend": false,
         "width": 0.5,
         "x": {
          "dtype": "i1",
          "bdata": "BQ=="
         },
         "y": [
          "Human #2"
         ],
         "type": "bar"
        },
        {
         "hoverinfo": "skip",
         "legendgroup": "4",
         "line": {
          "color": "#AB63FA",
          "dash": "dot",
          "width": 8
         },
         "mode": "lines",
         "name": "4 transport",
         "showlegend": false,
         "x": [
          55,
          60
         ],
         "y": [
          "Human #3",
          "Human #3"
         ],
         "type": "scatter"
        },
        {
         "hoverinfo": "skip",
         "legendgroup": "4",
         "line": {
          "color": "#AB63FA",
          "dash": "dot",
          "width": 8
         },
         "mode": "lines",
         "name": "4 transport",
         "showlegend": false,
         "x": [
          20,
          25
         ],
         "y": [
          "Human #1",
          "Human #1"
         ],
         "type": "scatter"
        },
        {
         "hoverinfo": "skip",
         "legendgroup": "1",
         "line": {
          "color": "#636EFA",
          "width": 2
         },
         "mode": "lines",
         "name": "1 flow",
         "showlegend": false,
         "x": [
          9.85,
          10.15,
          null
         ],
         "y": [
          "KIT #6",
          "Human #1",
          null
         ],
         "type": "scatter"
        },
        {
         "hoverinfo": "skip",
         "legendgroup": "1",
         "line": {
          "color": "#636EFA",
          "width": 2
         },
         "mode": "lines",
         "name": "1 flow",
         "showlegend": false,
         "x": [
          14.85,
          15.15,
          null
         ],
         "y": [
          "Human #1",
          "GRIP #8",
          null
         ],
         "type": "scatter"
        },
        {
         "hoverinfo": "skip",
         "legendgroup": "1",
         "line": {
          "color": "#636EFA",
          "width": 2
         },
         "mode": "lines",
         "name": "1 flow",
         "showlegend": false,
         "x": [
          24.85,
          47.15,
          null
         ],
         "y": [
          "GRIP #8",
          "Human #2",
          null
         ],
         "type": "scatter"
        },
        {
         "hoverinfo": "skip",
         "legendgroup": "1",
         "line": {
          "color": "#636EFA",
          "width": 2
         },
         "mode": "lines",
         "name": "1 flow",
         "showlegend": false,
         "x": [
          51.85,
          52.15,
          null
         ],
         "y": [
          "Human #2",
          "PACK #9",
          null
         ],
         "type": "scatter"
        },
        {
         "hoverinfo": "skip",
         "legendgroup": "2",
         "line": {
          "color": "#EF553B",
          "width": 2
         },
         "mode": "lines",
         "name": "2 flow",
         "showlegend": false,
         "x": [
          9.85,
          10.15,
          null
         ],
         "y": [
          "KIT #7",
          "Human #2",
          null
         ],
         "type": "scatter"
        },
        {
         "hoverinfo": "skip",
         "legendgroup": "2",
         "line": {
          "color": "#EF553B",
          "width": 2
         },
         "mode": "lines",
         "name": "2 flow",
         "showlegend": false,
         "x": [
          14.85,
          25.15,
          null
         ],
         "y": [
          "Human #2",
          "GRIP #8",
          null
         ],
         "type": "scatter"
        },
        {
         "hoverinfo": "skip",
         "legendgroup": "2",
         "line": {
          "color": "#EF553B",
          "width": 2
         },
         "mode": "lines",
         "name": "2 flow",
         "showlegend": false,
         "x": [
          34.85,
          46.15,
          null
         ],
         "y": [
          "GRIP #8",
          "Robot #1",
          null
         ],
         "type": "scatter"
        },
        {
         "hoverinfo": "skip",
         "legendgroup": "2",
         "line": {
          "color": "#EF553B",
          "width": 2
         },
         "mode": "lines",
         "name": "2 flow",
         "showlegend": false,
         "x": [
          53.85,
          54.15,
          null
         ],
         "y": [
          "Robot #1",
          "PACK #10",
          null
         ],
         "type": "scatter"
        },
        {
         "hoverinfo": "skip",
         "legendgroup": "3",
         "line": {
          "color": "#00CC96",
          "width": 2
         },
         "mode": "lines",
         "name": "3 flow",
         "showlegend": false,
         "x": [
          19.85,
          20.15,
          null
         ],
         "y": [
          "KIT #6",
          "Robot #1",
          null
         ],
         "type": "scatter"
        },
        {
         "hoverinfo": "skip",
         "legendgroup": "3",
         "line": {
          "color": "#00CC96",
          "width": 2
         },
         "mode": "lines",
         "name": "3 flow",
         "showlegend": false,
         "x": [
          27.85,
          35.15,
          null
         ],
         "y": [
          "Robot #1",
          "GRIP #8",
          null
         ],
         "type": "scatter"
        },
        {
         "hoverinfo": "skip",
         "legendgroup": "3",
         "line": {
          "color": "#00CC96",
          "width": 2
         },
         "mode": "lines",
         "name": "3 flow",
         "showlegend": false,
         "x": [
          44.85,
          45.15,
          null
         ],
         "y": [
          "GRIP #8",
          "Human #1",
          null
         ],
         "type": "scatter"
        },
        {
         "hoverinfo": "skip",
         "legendgroup": "3",
         "line": {
          "color": "#00CC96",
          "width": 2
         },
         "mode": "lines",
         "name": "3 flow",
         "showlegend": false,
         "x": [
          49.85,
          59.15,
          null
         ],
         "y": [
          "Human #1",
          "PACK #10",
          null
         ],
         "type": "scatter"
        },
        {
         "hoverinfo": "skip",
         "legendgroup": "4",
         "line": {
          "color": "#AB63FA",
          "width": 2
         },
         "mode": "lines",
         "name": "4 flow",
         "showlegend": false,
         "x": [
          19.85,
          20.15,
          null
         ],
         "y": [
          "KIT #7",
          "Human #1",
          null
         ],
         "type": "scatter"
        },
        {
         "hoverinfo": "skip",
         "legendgroup": "4",
         "line": {
          "color": "#AB63FA",
          "width": 2
         },
         "mode": "lines",
         "name": "4 flow",
         "showlegend": false,
         "x": [
          24.85,
          45.15,
          null
         ],
         "y": [
          "Human #1",
          "GRIP #8",
          null
         ],
         "type": "scatter"
        },
        {
         "hoverinfo": "skip",
         "legendgroup": "4",
         "line": {
          "color": "#AB63FA",
          "width": 2
         },
         "mode": "lines",
         "name": "4 flow",
         "showlegend": false,
         "x": [
          54.85,
          55.15,
          null
         ],
         "y": [
          "GRIP #8",
          "Human #3",
          null
         ],
         "type": "scatter"
        },
        {
         "hoverinfo": "skip",
         "legendgroup": "4",
         "line": {
          "color": "#AB63FA",
          "width": 2
         },
         "mode": "lines",
         "name": "4 flow",
         "showlegend": false,
         "x": [
          59.85,
          60.15,
          null
         ],
         "y": [
          "Human #3",
          "PACK #9",
          null
         ],
         "type": "scatter"
        }
       ],
       "layout": {
        "template": {
         "data": {
          "histogram2dcontour": [
           {
            "type": "histogram2dcontour",
            "colorbar": {
             "outlinewidth": 0,
             "ticks": ""
            },
            "colorscale": [
             [
              0.0,
              "#0d0887"
             ],
             [
              0.1111111111111111,
              "#46039f"
             ],
             [
              0.2222222222222222,
              "#7201a8"
             ],
             [
              0.3333333333333333,
              "#9c179e"
             ],
             [
              0.4444444444444444,
              "#bd3786"
             ],
             [
              0.5555555555555556,
              "#d8576b"
             ],
             [
              0.6666666666666666,
              "#ed7953"
             ],
             [
              0.7777777777777778,
              "#fb9f3a"
             ],
             [
              0.8888888888888888,
              "#fdca26"
             ],
             [
              1.0,
              "#f0f921"
             ]
            ]
           }
          ],
          "choropleth": [
           {
            "type": "choropleth",
            "colorbar": {
             "outlinewidth": 0,
             "ticks": ""
            }
           }
          ],
          "histogram2d": [
           {
            "type": "histogram2d",
            "colorbar": {
             "outlinewidth": 0,
             "ticks": ""
            },
            "colorscale": [
             [
              0.0,
              "#0d0887"
             ],
             [
              0.1111111111111111,
              "#46039f"
             ],
             [
              0.2222222222222222,
              "#7201a8"
             ],
             [
              0.3333333333333333,
              "#9c179e"
             ],
             [
              0.4444444444444444,
              "#bd3786"
             ],
             [
              0.5555555555555556,
              "#d8576b"
             ],
             [
              0.6666666666666666,
              "#ed7953"
             ],
             [
              0.7777777777777778,
              "#fb9f3a"
             ],
             [
              0.8888888888888888,
              "#fdca26"
             ],
             [
              1.0,
              "#f0f921"
             ]
            ]
           }
          ],
          "heatmap": [
           {
            "type": "heatmap",
            "colorbar": {
             "outlinewidth": 0,
             "ticks": ""
            },
            "colorscale": [
             [
              0.0,
              "#0d0887"
             ],
             [
              0.1111111111111111,
              "#46039f"
             ],
             [
              0.2222222222222222,
              "#7201a8"
             ],
             [
              0.3333333333333333,
              "#9c179e"
             ],
             [
              0.4444444444444444,
              "#bd3786"
             ],
             [
              0.5555555555555556,
              "#d8576b"
             ],
             [
              0.6666666666666666,
              "#ed7953"
             ],
             [
              0.7777777777777778,
              "#fb9f3a"
             ],
             [
              0.8888888888888888,
              "#fdca26"
             ],
             [
              1.0,
              "#f0f921"
             ]
            ]
           }
          ],
          "contourcarpet": [
           {
            "type": "contourcarpet",
            "colorbar": {
             "outlinewidth": 0,
             "ticks": ""
            }
           }
          ],
          "contour": [
           {
            "type": "contour",
            "colorbar": {
             "outlinewidth": 0,
             "ticks": ""
            },
            "colorscale": [
             [
              0.0,
              "#0d0887"
             ],
             [
              0.1111111111111111,
              "#46039f"
             ],
             [
              0.2222222222222222,
              "#7201a8"
             ],
             [
              0.3333333333333333,
              "#9c179e"
             ],
             [
              0.4444444444444444,
              "#bd3786"
             ],
             [
              0.5555555555555556,
              "#d8576b"
             ],
             [
              0.6666666666666666,
              "#ed7953"
             ],
             [
              0.7777777777777778,
              "#fb9f3a"
             ],
             [
              0.8888888888888888,
              "#fdca26"
             ],
             [
              1.0,
              "#f0f921"
             ]
            ]
           }
          ],
          "surface": [
           {
            "type": "surface",
            "colorbar": {
             "outlinewidth": 0,
             "ticks": ""
            },
            "colorscale": [
             [
              0.0,
              "#0d0887"
             ],
             [
              0.1111111111111111,
              "#46039f"
             ],
             [
              0.2222222222222222,
              "#7201a8"
             ],
             [
              0.3333333333333333,
              "#9c179e"
             ],
             [
              0.4444444444444444,
              "#bd3786"
             ],
             [
              0.5555555555555556,
              "#d8576b"
             ],
             [
              0.6666666666666666,
              "#ed7953"
             ],
             [
              0.7777777777777778,
              "#fb9f3a"
             ],
             [
              0.8888888888888888,
              "#fdca26"
             ],
             [
              1.0,
              "#f0f921"
             ]
            ]
           }
          ],
          "mesh3d": [
           {
            "type": "mesh3d",
            "colorbar": {
             "outlinewidth": 0,
             "ticks": ""
            }
           }
          ],
          "scatter": [
           {
            "fillpattern": {
             "fillmode": "overlay",
             "size": 10,
             "solidity": 0.2
            },
            "type": "scatter"
           }
          ],
          "parcoords": [
           {
            "type": "parcoords",
            "line": {
             "colorbar": {
              "outlinewidth": 0,
              "ticks": ""
             }
            }
           }
          ],
          "scatterpolargl": [
           {
            "type": "scatterpolargl",
            "marker": {
             "colorbar": {
              "outlinewidth": 0,
              "ticks": ""
             }
            }
           }
          ],
          "bar": [
           {
            "error_x": {
             "color": "#2a3f5f"
            },
            "error_y": {
             "color": "#2a3f5f"
            },
            "marker": {
             "line": {
              "color": "#E5ECF6",
              "width": 0.5
             },
             "pattern": {
              "fillmode": "overlay",
              "size": 10,
              "solidity": 0.2
             }
            },
            "type": "bar"
           }
          ],
          "scattergeo": [
           {
            "type": "scattergeo",
            "marker": {
             "colorbar": {
              "outlinewidth": 0,
              "ticks": ""
             }
            }
           }
          ],
          "scatterpolar": [
           {
            "type": "scatterpolar",
            "marker": {
             "colorbar": {
              "outlinewidth": 0,
              "ticks": ""
             }
            }
           }
          ],
          "histogram": [
           {
            "marker": {
             "pattern": {
              "fillmode": "overlay",
              "size": 10,
              "solidity": 0.2
             }
            },
            "type": "histogram"
           }
          ],
          "scattergl": [
           {
            "type": "scattergl",
            "marker": {
             "colorbar": {
              "outlinewidth": 0,
              "ticks": ""
             }
            }
           }
          ],
          "scatter3d": [
           {
            "type": "scatter3d",
            "line": {
             "colorbar": {
              "outlinewidth": 0,
              "ticks": ""
             }
            },
            "marker": {
             "colorbar": {
              "outlinewidth": 0,
              "ticks": ""
             }
            }
           }
          ],
          "scattermap": [
           {
            "type": "scattermap",
            "marker": {
             "colorbar": {
              "outlinewidth": 0,
              "ticks": ""
             }
            }
           }
          ],
          "scattermapbox": [
           {
            "type": "scattermapbox",
            "marker": {
             "colorbar": {
              "outlinewidth": 0,
              "ticks": ""
             }
            }
           }
          ],
          "scatterternary": [
           {
            "type": "scatterternary",
            "marker": {
             "colorbar": {
              "outlinewidth": 0,
              "ticks": ""
             }
            }
           }
          ],
          "scattercarpet": [
           {
            "type": "scattercarpet",
            "marker": {
             "colorbar": {
              "outlinewidth": 0,
              "ticks": ""
             }
            }
           }
          ],
          "carpet": [
           {
            "aaxis": {
             "endlinecolor": "#2a3f5f",
             "gridcolor": "white",
             "linecolor": "white",
             "minorgridcolor": "white",
             "startlinecolor": "#2a3f5f"
            },
            "baxis": {
             "endlinecolor": "#2a3f5f",
             "gridcolor": "white",
             "linecolor": "white",
             "minorgridcolor": "white",
             "startlinecolor": "#2a3f5f"
            },
            "type": "carpet"
           }
          ],
          "table": [
           {
            "cells": {
             "fill": {
              "color": "#EBF0F8"
             },
             "line": {
              "color": "white"
             }
            },
            "header": {
             "fill": {
              "color": "#C8D4E3"
             },
             "line": {
              "color": "white"
             }
            },
            "type": "table"
           }
          ],
          "barpolar": [
           {
            "marker": {
             "line": {
              "color": "#E5ECF6",
              "width": 0.5
             },
             "pattern": {
              "fillmode": "overlay",
              "size": 10,
              "solidity": 0.2
             }
            },
            "type": "barpolar"
           }
          ],
          "pie": [
           {
            "automargin": true,
            "type": "pie"
           }
          ]
         },
         "layout": {
          "autotypenumbers": "strict",
          "colorway": [
           "#636efa",
           "#EF553B",
           "#00cc96",
           "#ab63fa",
           "#FFA15A",
           "#19d3f3",
           "#FF6692",
           "#B6E880",
           "#FF97FF",
           "#FECB52"
          ],
          "font": {
           "color": "#2a3f5f"
          },
          "hovermode": "closest",
          "hoverlabel": {
           "align": "left"
          },
          "paper_bgcolor": "white",
          "plot_bgcolor": "#E5ECF6",
          "polar": {
           "bgcolor": "#E5ECF6",
           "angularaxis": {
            "gridcolor": "white",
            "linecolor": "white",
            "ticks": ""
           },
           "radialaxis": {
            "gridcolor": "white",
            "linecolor": "white",
            "ticks": ""
           }
          },
          "ternary": {
           "bgcolor": "#E5ECF6",
           "aaxis": {
            "gridcolor": "white",
            "linecolor": "white",
            "ticks": ""
           },
           "baxis": {
            "gridcolor": "white",
            "linecolor": "white",
            "ticks": ""
           },
           "caxis": {
            "gridcolor": "white",
            "linecolor": "white",
            "ticks": ""
           }
          },
          "coloraxis": {
           "colorbar": {
            "outlinewidth": 0,
            "ticks": ""
           }
          },
          "colorscale": {
           "sequential": [
            [
             0.0,
             "#0d0887"
            ],
            [
             0.1111111111111111,
             "#46039f"
            ],
            [
             0.2222222222222222,
             "#7201a8"
            ],
            [
             0.3333333333333333,
             "#9c179e"
            ],
            [
             0.4444444444444444,
             "#bd3786"
            ],
            [
             0.5555555555555556,
             "#d8576b"
            ],
            [
             0.6666666666666666,
             "#ed7953"
            ],
            [
             0.7777777777777778,
             "#fb9f3a"
            ],
            [
             0.8888888888888888,
             "#fdca26"
            ],
            [
             1.0,
             "#f0f921"
            ]
           ],
           "sequentialminus": [
            [
             0.0,
             "#0d0887"
            ],
            [
             0.1111111111111111,
             "#46039f"
            ],
            [
             0.2222222222222222,
             "#7201a8"
            ],
            [
             0.3333333333333333,
             "#9c179e"
            ],
            [
             0.4444444444444444,
             "#bd3786"
            ],
            [
             0.5555555555555556,
             "#d8576b"
            ],
            [
             0.6666666666666666,
             "#ed7953"
            ],
            [
             0.7777777777777778,
             "#fb9f3a"
            ],
            [
             0.8888888888888888,
             "#fdca26"
            ],
            [
             1.0,
             "#f0f921"
            ]
           ],
           "diverging": [
            [
             0,
             "#8e0152"
            ],
            [
             0.1,
             "#c51b7d"
            ],
            [
             0.2,
             "#de77ae"
            ],
            [
             0.3,
             "#f1b6da"
            ],
            [
             0.4,
             "#fde0ef"
            ],
            [
             0.5,
             "#f7f7f7"
            ],
            [
             0.6,
             "#e6f5d0"
            ],
            [
             0.7,
             "#b8e186"
            ],
            [
             0.8,
             "#7fbc41"
            ],
            [
             0.9,
             "#4d9221"
            ],
            [
             1,
             "#276419"
            ]
           ]
          },
          "xaxis": {
           "gridcolor": "white",
           "linecolor": "white",
           "ticks": "",
           "title": {
            "standoff": 15
           },
           "zerolinecolor": "white",
           "automargin": true,
           "zerolinewidth": 2
          },
          "yaxis": {
           "gridcolor": "white",
           "linecolor": "white",
           "ticks": "",
           "title": {
            "standoff": 15
           },
           "zerolinecolor": "white",
           "automargin": true,
           "zerolinewidth": 2
          },
          "scene": {
           "xaxis": {
            "backgroundcolor": "#E5ECF6",
            "gridcolor": "white",
            "linecolor": "white",
            "showbackground": true,
            "ticks": "",
            "zerolinecolor": "white",
            "gridwidth": 2
           },
           "yaxis": {
            "backgroundcolor": "#E5ECF6",
            "gridcolor": "white",
            "linecolor": "white",
            "showbackground": true,
            "ticks": "",
            "zerolinecolor": "white",
            "gridwidth": 2
           },
           "zaxis": {
            "backgroundcolor": "#E5ECF6",
            "gridcolor": "white",
            "linecolor": "white",
            "showbackground": true,
            "ticks": "",
            "zerolinecolor": "white",
            "gridwidth": 2
           }
          },
          "shapedefaults": {
           "line": {
            "color": "#2a3f5f"
           }
          },
          "annotationdefaults": {
           "arrowcolor": "#2a3f5f",
           "arrowhead": 0,
           "arrowwidth": 1
          },
          "geo": {
           "bgcolor": "white",
           "landcolor": "#E5ECF6",
           "subunitcolor": "white",
           "showland": true,
           "showlakes": true,
           "lakecolor": "white"
          },
          "title": {
           "x": 0.05
          },
          "mapbox": {
           "style": "light"
          }
         }
        },
        "font": {
         "color": "white",
         "family": "DejaVu Sans, Arial, Liberation Sans, sans-serif",
         "size": 14
        },
        "title": {
         "text": "Job Shop Schedule - Makespan 65",
         "font": {
          "color": "white"
         }
        },
        "legend": {
         "title": {
          "font": {
           "color": "white"
          },
          "text": "Item"
         },
         "groupclick": "togglegroup"
        },
        "margin": {
         "l": 80,
         "r": 40,
         "t": 60,
         "b": 50
        },
        "xaxis": {
         "showgrid": true,
         "gridcolor": "lightgray",
         "title": {
          "text": "Time"
         },
         "color": "white",
         "range": [
          0,
          65
         ]
        },
        "yaxis": {
         "tickfont": {
          "size": 10
         },
         "showgrid": true,
         "gridcolor": "lightgray",
         "title": {
          "text": "Resource"
         },
         "color": "white",
         "categoryorder": "array",
         "categoryarray": [
          "PACK #10",
          "PACK #9",
          "GRIP #8",
          "KIT #6",
          "KIT #7",
          "Robot #1",
          "Human #1",
          "Human #2",
          "Human #3"
         ]
        },
        "width": 1305,
        "height": 450,
        "autosize": false,
        "plot_bgcolor": "black",
        "paper_bgcolor": "black",
        "barmode": "overlay",
        "bargap": 0.05,
        "bargroupgap": 0.0
       },
       "config": {
        "toImageButtonOptions": {
         "format": "png",
         "filename": "schedule",
         "width": 1305,
         "height": 450,
         "scale": 2
        },
        "plotlyServerURL": "https://plot.ly"
       }
      }
     },
     "metadata": {},
     "output_type": "display_data"
    }
   ],
   "execution_count": 19
  },
  {
   "metadata": {},
   "cell_type": "code",
   "outputs": [],
   "execution_count": null,
   "source": "",
   "id": "f9e558868a13b919"
  }
 ],
 "metadata": {
  "kernelspec": {
   "display_name": "Python 3 (ipykernel)",
   "language": "python",
   "name": "python3"
  },
  "language_info": {
   "codemirror_mode": {
    "name": "ipython",
    "version": 2
   },
   "file_extension": ".py",
   "mimetype": "text/x-python",
   "name": "python",
   "nbconvert_exporter": "python",
   "pygments_lexer": "ipython2",
   "version": "2.7.6"
  }
 },
 "nbformat": 4,
 "nbformat_minor": 5
}
