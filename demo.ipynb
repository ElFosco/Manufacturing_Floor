{
 "cells": [
  {
   "metadata": {
    "ExecuteTime": {
     "end_time": "2025-09-22T15:26:05.864589Z",
     "start_time": "2025-09-22T15:26:05.363280Z"
    }
   },
   "cell_type": "code",
   "source": [
    "from utility.jobshop_model_transport import FJTransportProblem\n",
    "from utility.costant import *"
   ],
   "id": "568a732ab16e7137",
   "outputs": [],
   "execution_count": 1
  },
  {
   "metadata": {
    "ExecuteTime": {
     "end_time": "2025-09-22T15:26:05.871536Z",
     "start_time": "2025-09-22T15:26:05.868719Z"
    }
   },
   "cell_type": "code",
   "source": "problem = FJTransportProblem(symmetry_breaking=False)",
   "id": "993201ef39528ba7",
   "outputs": [],
   "execution_count": 2
  },
  {
   "metadata": {
    "ExecuteTime": {
     "end_time": "2025-09-22T15:26:06.611451Z",
     "start_time": "2025-09-22T15:26:06.432241Z"
    }
   },
   "cell_type": "code",
   "source": [
    "\n",
    "problem.add_human()\n",
    "problem.set_dur_hum(HUMAN_JOBS_TIME)\n",
    "problem.add_robot()\n",
    "problem.set_dur_robot(ROBOT_JOBS_TIME)\n",
    "\n",
    "id_kit_1 = problem.add_workstation(WS_KITTING)\n",
    "id_kit_2 = problem.add_workstation(WS_KITTING)\n",
    "id_grip = problem.add_workstation(WS_BUILDING_1)\n",
    "id_gs = problem.add_workstation(WS_BUILDING_2)\n",
    "id_pal = problem.add_workstation(WS_PALLETTING)\n",
    "\n",
    "problem.add_transport(id_kit_1, id_grip)\n",
    "problem.add_transport(id_grip, id_gs)\n",
    "problem.add_transport(id_gs, id_pal)\n",
    "\n",
    "problem.set_t_conv(3)\n",
    "problem.add_items_to_build(FLASHLIGHT_CLIPPED,5)\n",
    "\n",
    "\n",
    "problem.make_ws_topology()"
   ],
   "id": "a9a9c0106150d8c0",
   "outputs": [
    {
     "data": {
      "application/vnd.plotly.v1+json": {
       "data": [],
       "layout": {
        "template": {
         "data": {
          "histogram2dcontour": [
           {
            "type": "histogram2dcontour",
            "colorbar": {
             "outlinewidth": 0,
             "ticks": ""
            },
            "colorscale": [
             [
              0.0,
              "#0d0887"
             ],
             [
              0.1111111111111111,
              "#46039f"
             ],
             [
              0.2222222222222222,
              "#7201a8"
             ],
             [
              0.3333333333333333,
              "#9c179e"
             ],
             [
              0.4444444444444444,
              "#bd3786"
             ],
             [
              0.5555555555555556,
              "#d8576b"
             ],
             [
              0.6666666666666666,
              "#ed7953"
             ],
             [
              0.7777777777777778,
              "#fb9f3a"
             ],
             [
              0.8888888888888888,
              "#fdca26"
             ],
             [
              1.0,
              "#f0f921"
             ]
            ]
           }
          ],
          "choropleth": [
           {
            "type": "choropleth",
            "colorbar": {
             "outlinewidth": 0,
             "ticks": ""
            }
           }
          ],
          "histogram2d": [
           {
            "type": "histogram2d",
            "colorbar": {
             "outlinewidth": 0,
             "ticks": ""
            },
            "colorscale": [
             [
              0.0,
              "#0d0887"
             ],
             [
              0.1111111111111111,
              "#46039f"
             ],
             [
              0.2222222222222222,
              "#7201a8"
             ],
             [
              0.3333333333333333,
              "#9c179e"
             ],
             [
              0.4444444444444444,
              "#bd3786"
             ],
             [
              0.5555555555555556,
              "#d8576b"
             ],
             [
              0.6666666666666666,
              "#ed7953"
             ],
             [
              0.7777777777777778,
              "#fb9f3a"
             ],
             [
              0.8888888888888888,
              "#fdca26"
             ],
             [
              1.0,
              "#f0f921"
             ]
            ]
           }
          ],
          "heatmap": [
           {
            "type": "heatmap",
            "colorbar": {
             "outlinewidth": 0,
             "ticks": ""
            },
            "colorscale": [
             [
              0.0,
              "#0d0887"
             ],
             [
              0.1111111111111111,
              "#46039f"
             ],
             [
              0.2222222222222222,
              "#7201a8"
             ],
             [
              0.3333333333333333,
              "#9c179e"
             ],
             [
              0.4444444444444444,
              "#bd3786"
             ],
             [
              0.5555555555555556,
              "#d8576b"
             ],
             [
              0.6666666666666666,
              "#ed7953"
             ],
             [
              0.7777777777777778,
              "#fb9f3a"
             ],
             [
              0.8888888888888888,
              "#fdca26"
             ],
             [
              1.0,
              "#f0f921"
             ]
            ]
           }
          ],
          "contourcarpet": [
           {
            "type": "contourcarpet",
            "colorbar": {
             "outlinewidth": 0,
             "ticks": ""
            }
           }
          ],
          "contour": [
           {
            "type": "contour",
            "colorbar": {
             "outlinewidth": 0,
             "ticks": ""
            },
            "colorscale": [
             [
              0.0,
              "#0d0887"
             ],
             [
              0.1111111111111111,
              "#46039f"
             ],
             [
              0.2222222222222222,
              "#7201a8"
             ],
             [
              0.3333333333333333,
              "#9c179e"
             ],
             [
              0.4444444444444444,
              "#bd3786"
             ],
             [
              0.5555555555555556,
              "#d8576b"
             ],
             [
              0.6666666666666666,
              "#ed7953"
             ],
             [
              0.7777777777777778,
              "#fb9f3a"
             ],
             [
              0.8888888888888888,
              "#fdca26"
             ],
             [
              1.0,
              "#f0f921"
             ]
            ]
           }
          ],
          "surface": [
           {
            "type": "surface",
            "colorbar": {
             "outlinewidth": 0,
             "ticks": ""
            },
            "colorscale": [
             [
              0.0,
              "#0d0887"
             ],
             [
              0.1111111111111111,
              "#46039f"
             ],
             [
              0.2222222222222222,
              "#7201a8"
             ],
             [
              0.3333333333333333,
              "#9c179e"
             ],
             [
              0.4444444444444444,
              "#bd3786"
             ],
             [
              0.5555555555555556,
              "#d8576b"
             ],
             [
              0.6666666666666666,
              "#ed7953"
             ],
             [
              0.7777777777777778,
              "#fb9f3a"
             ],
             [
              0.8888888888888888,
              "#fdca26"
             ],
             [
              1.0,
              "#f0f921"
             ]
            ]
           }
          ],
          "mesh3d": [
           {
            "type": "mesh3d",
            "colorbar": {
             "outlinewidth": 0,
             "ticks": ""
            }
           }
          ],
          "scatter": [
           {
            "fillpattern": {
             "fillmode": "overlay",
             "size": 10,
             "solidity": 0.2
            },
            "type": "scatter"
           }
          ],
          "parcoords": [
           {
            "type": "parcoords",
            "line": {
             "colorbar": {
              "outlinewidth": 0,
              "ticks": ""
             }
            }
           }
          ],
          "scatterpolargl": [
           {
            "type": "scatterpolargl",
            "marker": {
             "colorbar": {
              "outlinewidth": 0,
              "ticks": ""
             }
            }
           }
          ],
          "bar": [
           {
            "error_x": {
             "color": "#2a3f5f"
            },
            "error_y": {
             "color": "#2a3f5f"
            },
            "marker": {
             "line": {
              "color": "#E5ECF6",
              "width": 0.5
             },
             "pattern": {
              "fillmode": "overlay",
              "size": 10,
              "solidity": 0.2
             }
            },
            "type": "bar"
           }
          ],
          "scattergeo": [
           {
            "type": "scattergeo",
            "marker": {
             "colorbar": {
              "outlinewidth": 0,
              "ticks": ""
             }
            }
           }
          ],
          "scatterpolar": [
           {
            "type": "scatterpolar",
            "marker": {
             "colorbar": {
              "outlinewidth": 0,
              "ticks": ""
             }
            }
           }
          ],
          "histogram": [
           {
            "marker": {
             "pattern": {
              "fillmode": "overlay",
              "size": 10,
              "solidity": 0.2
             }
            },
            "type": "histogram"
           }
          ],
          "scattergl": [
           {
            "type": "scattergl",
            "marker": {
             "colorbar": {
              "outlinewidth": 0,
              "ticks": ""
             }
            }
           }
          ],
          "scatter3d": [
           {
            "type": "scatter3d",
            "line": {
             "colorbar": {
              "outlinewidth": 0,
              "ticks": ""
             }
            },
            "marker": {
             "colorbar": {
              "outlinewidth": 0,
              "ticks": ""
             }
            }
           }
          ],
          "scattermap": [
           {
            "type": "scattermap",
            "marker": {
             "colorbar": {
              "outlinewidth": 0,
              "ticks": ""
             }
            }
           }
          ],
          "scattermapbox": [
           {
            "type": "scattermapbox",
            "marker": {
             "colorbar": {
              "outlinewidth": 0,
              "ticks": ""
             }
            }
           }
          ],
          "scatterternary": [
           {
            "type": "scatterternary",
            "marker": {
             "colorbar": {
              "outlinewidth": 0,
              "ticks": ""
             }
            }
           }
          ],
          "scattercarpet": [
           {
            "type": "scattercarpet",
            "marker": {
             "colorbar": {
              "outlinewidth": 0,
              "ticks": ""
             }
            }
           }
          ],
          "carpet": [
           {
            "aaxis": {
             "endlinecolor": "#2a3f5f",
             "gridcolor": "white",
             "linecolor": "white",
             "minorgridcolor": "white",
             "startlinecolor": "#2a3f5f"
            },
            "baxis": {
             "endlinecolor": "#2a3f5f",
             "gridcolor": "white",
             "linecolor": "white",
             "minorgridcolor": "white",
             "startlinecolor": "#2a3f5f"
            },
            "type": "carpet"
           }
          ],
          "table": [
           {
            "cells": {
             "fill": {
              "color": "#EBF0F8"
             },
             "line": {
              "color": "white"
             }
            },
            "header": {
             "fill": {
              "color": "#C8D4E3"
             },
             "line": {
              "color": "white"
             }
            },
            "type": "table"
           }
          ],
          "barpolar": [
           {
            "marker": {
             "line": {
              "color": "#E5ECF6",
              "width": 0.5
             },
             "pattern": {
              "fillmode": "overlay",
              "size": 10,
              "solidity": 0.2
             }
            },
            "type": "barpolar"
           }
          ],
          "pie": [
           {
            "automargin": true,
            "type": "pie"
           }
          ]
         },
         "layout": {
          "autotypenumbers": "strict",
          "colorway": [
           "#636efa",
           "#EF553B",
           "#00cc96",
           "#ab63fa",
           "#FFA15A",
           "#19d3f3",
           "#FF6692",
           "#B6E880",
           "#FF97FF",
           "#FECB52"
          ],
          "font": {
           "color": "#2a3f5f"
          },
          "hovermode": "closest",
          "hoverlabel": {
           "align": "left"
          },
          "paper_bgcolor": "white",
          "plot_bgcolor": "#E5ECF6",
          "polar": {
           "bgcolor": "#E5ECF6",
           "angularaxis": {
            "gridcolor": "white",
            "linecolor": "white",
            "ticks": ""
           },
           "radialaxis": {
            "gridcolor": "white",
            "linecolor": "white",
            "ticks": ""
           }
          },
          "ternary": {
           "bgcolor": "#E5ECF6",
           "aaxis": {
            "gridcolor": "white",
            "linecolor": "white",
            "ticks": ""
           },
           "baxis": {
            "gridcolor": "white",
            "linecolor": "white",
            "ticks": ""
           },
           "caxis": {
            "gridcolor": "white",
            "linecolor": "white",
            "ticks": ""
           }
          },
          "coloraxis": {
           "colorbar": {
            "outlinewidth": 0,
            "ticks": ""
           }
          },
          "colorscale": {
           "sequential": [
            [
             0.0,
             "#0d0887"
            ],
            [
             0.1111111111111111,
             "#46039f"
            ],
            [
             0.2222222222222222,
             "#7201a8"
            ],
            [
             0.3333333333333333,
             "#9c179e"
            ],
            [
             0.4444444444444444,
             "#bd3786"
            ],
            [
             0.5555555555555556,
             "#d8576b"
            ],
            [
             0.6666666666666666,
             "#ed7953"
            ],
            [
             0.7777777777777778,
             "#fb9f3a"
            ],
            [
             0.8888888888888888,
             "#fdca26"
            ],
            [
             1.0,
             "#f0f921"
            ]
           ],
           "sequentialminus": [
            [
             0.0,
             "#0d0887"
            ],
            [
             0.1111111111111111,
             "#46039f"
            ],
            [
             0.2222222222222222,
             "#7201a8"
            ],
            [
             0.3333333333333333,
             "#9c179e"
            ],
            [
             0.4444444444444444,
             "#bd3786"
            ],
            [
             0.5555555555555556,
             "#d8576b"
            ],
            [
             0.6666666666666666,
             "#ed7953"
            ],
            [
             0.7777777777777778,
             "#fb9f3a"
            ],
            [
             0.8888888888888888,
             "#fdca26"
            ],
            [
             1.0,
             "#f0f921"
            ]
           ],
           "diverging": [
            [
             0,
             "#8e0152"
            ],
            [
             0.1,
             "#c51b7d"
            ],
            [
             0.2,
             "#de77ae"
            ],
            [
             0.3,
             "#f1b6da"
            ],
            [
             0.4,
             "#fde0ef"
            ],
            [
             0.5,
             "#f7f7f7"
            ],
            [
             0.6,
             "#e6f5d0"
            ],
            [
             0.7,
             "#b8e186"
            ],
            [
             0.8,
             "#7fbc41"
            ],
            [
             0.9,
             "#4d9221"
            ],
            [
             1,
             "#276419"
            ]
           ]
          },
          "xaxis": {
           "gridcolor": "white",
           "linecolor": "white",
           "ticks": "",
           "title": {
            "standoff": 15
           },
           "zerolinecolor": "white",
           "automargin": true,
           "zerolinewidth": 2
          },
          "yaxis": {
           "gridcolor": "white",
           "linecolor": "white",
           "ticks": "",
           "title": {
            "standoff": 15
           },
           "zerolinecolor": "white",
           "automargin": true,
           "zerolinewidth": 2
          },
          "scene": {
           "xaxis": {
            "backgroundcolor": "#E5ECF6",
            "gridcolor": "white",
            "linecolor": "white",
            "showbackground": true,
            "ticks": "",
            "zerolinecolor": "white",
            "gridwidth": 2
           },
           "yaxis": {
            "backgroundcolor": "#E5ECF6",
            "gridcolor": "white",
            "linecolor": "white",
            "showbackground": true,
            "ticks": "",
            "zerolinecolor": "white",
            "gridwidth": 2
           },
           "zaxis": {
            "backgroundcolor": "#E5ECF6",
            "gridcolor": "white",
            "linecolor": "white",
            "showbackground": true,
            "ticks": "",
            "zerolinecolor": "white",
            "gridwidth": 2
           }
          },
          "shapedefaults": {
           "line": {
            "color": "#2a3f5f"
           }
          },
          "annotationdefaults": {
           "arrowcolor": "#2a3f5f",
           "arrowhead": 0,
           "arrowwidth": 1
          },
          "geo": {
           "bgcolor": "white",
           "landcolor": "#E5ECF6",
           "subunitcolor": "white",
           "showland": true,
           "showlakes": true,
           "lakecolor": "white"
          },
          "title": {
           "x": 0.05
          },
          "mapbox": {
           "style": "light"
          }
         }
        },
        "xaxis": {
         "visible": false,
         "range": [
          -2.3,
          14.399999999999999
         ]
        },
        "yaxis": {
         "visible": false,
         "range": [
          -2.0999999999999996,
          3.2
         ],
         "scaleanchor": "x",
         "scaleratio": 1
        },
        "margin": {
         "l": 20,
         "r": 20,
         "t": 60,
         "b": 20
        },
        "title": {
         "text": "Workstation Topology"
        },
        "paper_bgcolor": "black",
        "plot_bgcolor": "black",
        "shapes": [
         {
          "fillcolor": "rgba(66,135,245,0.10)",
          "line": {
           "width": 0
          },
          "type": "rect",
          "x0": -1.875,
          "x1": 1.875,
          "xref": "x",
          "y0": -1.6,
          "y1": 1.6,
          "yref": "y"
         },
         {
          "fillcolor": "rgba(66,135,245,1)",
          "line": {
           "color": "white",
           "width": 2
          },
          "type": "rect",
          "x0": -1.5,
          "x1": 1.5,
          "xref": "x",
          "y0": 0.32499999999999996,
          "y1": 1.075,
          "yref": "y"
         },
         {
          "fillcolor": "rgba(66,135,245,1)",
          "line": {
           "color": "white",
           "width": 2
          },
          "type": "rect",
          "x0": -1.5,
          "x1": 1.5,
          "xref": "x",
          "y0": -1.075,
          "y1": -0.32499999999999996,
          "yref": "y"
         },
         {
          "fillcolor": "rgba(255,159,67,0.10)",
          "line": {
           "width": 0
          },
          "type": "rect",
          "x0": 2.925,
          "x1": 6.675,
          "xref": "x",
          "y0": -1.6,
          "y1": 1.6,
          "yref": "y"
         },
         {
          "fillcolor": "rgba(40,199,111,1)",
          "line": {
           "color": "white",
           "width": 2
          },
          "type": "rect",
          "x0": 3.3,
          "x1": 6.3,
          "xref": "x",
          "y0": 0.32499999999999996,
          "y1": 1.075,
          "yref": "y"
         },
         {
          "fillcolor": "rgba(255,159,67,1)",
          "line": {
           "color": "white",
           "width": 2
          },
          "type": "rect",
          "x0": 3.3,
          "x1": 6.3,
          "xref": "x",
          "y0": -1.075,
          "y1": -0.32499999999999996,
          "yref": "y"
         },
         {
          "fillcolor": "rgba(235,87,87,0.10)",
          "line": {
           "width": 0
          },
          "type": "rect",
          "x0": 7.725,
          "x1": 11.475,
          "xref": "x",
          "y0": -1.6,
          "y1": 1.6,
          "yref": "y"
         },
         {
          "fillcolor": "rgba(235,87,87,1)",
          "line": {
           "color": "white",
           "width": 2
          },
          "type": "rect",
          "x0": 8.1,
          "x1": 11.1,
          "xref": "x",
          "y0": 0.32499999999999996,
          "y1": 1.075,
          "yref": "y"
         },
         {
          "fillcolor": "rgba(200,200,200,1)",
          "line": {
           "color": "white",
           "width": 2
          },
          "type": "rect",
          "x0": 5.0,
          "x1": 6.199999999999999,
          "xref": "x",
          "y0": 2.25,
          "y1": 2.75,
          "yref": "y"
         },
         {
          "fillcolor": "rgba(200,200,200,1)",
          "line": {
           "color": "white",
           "width": 2
          },
          "type": "rect",
          "x0": 3.4,
          "x1": 4.6,
          "xref": "x",
          "y0": 2.25,
          "y1": 2.75,
          "yref": "y"
         }
        ],
        "annotations": [
         {
          "font": {
           "color": "#FFFFFF",
           "size": 14
          },
          "showarrow": false,
          "text": "<b>Kitting</b>",
          "x": 0,
          "xanchor": "center",
          "xref": "x",
          "y": 1.7,
          "yref": "y"
         },
         {
          "font": {
           "color": "#FFFFFF",
           "size": 12
          },
          "showarrow": false,
          "text": "<b>id:3 kitting</b>",
          "x": 0,
          "xanchor": "center",
          "xref": "x",
          "y": 0.7,
          "yanchor": "middle",
          "yref": "y"
         },
         {
          "font": {
           "color": "#FFFFFF",
           "size": 12
          },
          "showarrow": false,
          "text": "<b>id:4 kitting</b>",
          "x": 0,
          "xanchor": "center",
          "xref": "x",
          "y": -0.7,
          "yanchor": "middle",
          "yref": "y"
         },
         {
          "font": {
           "color": "#FFFFFF",
           "size": 14
          },
          "showarrow": false,
          "text": "<b>Build</b>",
          "x": 4.8,
          "xanchor": "center",
          "xref": "x",
          "y": 1.7,
          "yref": "y"
         },
         {
          "font": {
           "color": "#FFFFFF",
           "size": 12
          },
          "showarrow": false,
          "text": "<b>id:5 grip</b>",
          "x": 4.8,
          "xanchor": "center",
          "xref": "x",
          "y": 0.7,
          "yanchor": "middle",
          "yref": "y"
         },
         {
          "font": {
           "color": "#FFFFFF",
           "size": 12
          },
          "showarrow": false,
          "text": "<b>id:6 grip & screws</b>",
          "x": 4.8,
          "xanchor": "center",
          "xref": "x",
          "y": -0.7,
          "yanchor": "middle",
          "yref": "y"
         },
         {
          "font": {
           "color": "#FFFFFF",
           "size": 14
          },
          "showarrow": false,
          "text": "<b>Packing</b>",
          "x": 9.6,
          "xanchor": "center",
          "xref": "x",
          "y": 1.7,
          "yref": "y"
         },
         {
          "font": {
           "color": "#FFFFFF",
           "size": 12
          },
          "showarrow": false,
          "text": "<b>id:7 pallet</b>",
          "x": 9.6,
          "xanchor": "center",
          "xref": "x",
          "y": 0.7,
          "yanchor": "middle",
          "yref": "y"
         },
         {
          "font": {
           "color": "#000000",
           "size": 12
          },
          "showarrow": false,
          "text": "<b>human</b>",
          "x": 5.6,
          "xanchor": "center",
          "xref": "x",
          "y": 2.5,
          "yanchor": "middle",
          "yref": "y"
         },
         {
          "font": {
           "color": "#000000",
           "size": 12
          },
          "showarrow": false,
          "text": "<b>robot</b>",
          "x": 4.0,
          "xanchor": "center",
          "xref": "x",
          "y": 2.5,
          "yanchor": "middle",
          "yref": "y"
         },
         {
          "arrowcolor": "#BBBBBB",
          "arrowhead": 3,
          "arrowsize": 1.3,
          "arrowwidth": 2,
          "ax": 1.5,
          "axref": "x",
          "ay": 0.7,
          "ayref": "y",
          "opacity": 0.9,
          "showarrow": true,
          "text": "",
          "x": 3.3,
          "xref": "x",
          "y": 0.7,
          "yref": "y"
         },
         {
          "arrowcolor": "#BBBBBB",
          "arrowhead": 3,
          "arrowsize": 1.3,
          "arrowwidth": 2,
          "ax": 4.8,
          "axref": "x",
          "ay": 0.32499999999999996,
          "ayref": "y",
          "opacity": 0.9,
          "showarrow": true,
          "text": "",
          "x": 4.8,
          "xref": "x",
          "y": -0.32499999999999996,
          "yref": "y"
         },
         {
          "arrowcolor": "#BBBBBB",
          "arrowhead": 3,
          "arrowsize": 1.3,
          "arrowwidth": 2,
          "ax": 6.3,
          "axref": "x",
          "ay": -0.7,
          "ayref": "y",
          "opacity": 0.9,
          "showarrow": true,
          "text": "",
          "x": 8.1,
          "xref": "x",
          "y": 0.7,
          "yref": "y"
         }
        ]
       },
       "config": {
        "plotlyServerURL": "https://plot.ly"
       }
      }
     },
     "metadata": {},
     "output_type": "display_data"
    }
   ],
   "execution_count": 3
  },
  {
   "metadata": {
    "ExecuteTime": {
     "end_time": "2025-09-22T15:26:06.918353Z",
     "start_time": "2025-09-22T15:26:06.906855Z"
    }
   },
   "cell_type": "code",
   "source": "problem.model_problem()",
   "id": "383add4167d2bb87",
   "outputs": [],
   "execution_count": 4
  },
  {
   "metadata": {
    "ExecuteTime": {
     "end_time": "2025-09-22T15:26:07.598792Z",
     "start_time": "2025-09-22T15:26:07.292133Z"
    }
   },
   "cell_type": "code",
   "source": "problem.solve(solver='ortools')",
   "id": "d5c888404f20e06b",
   "outputs": [
    {
     "name": "stdout",
     "output_type": "stream",
     "text": [
      "Solution found with makespan: 63\n",
      "Computational time: 0.304 seconds\n"
     ]
    }
   ],
   "execution_count": 5
  },
  {
   "metadata": {
    "ExecuteTime": {
     "end_time": "2025-09-22T15:26:07.838727Z",
     "start_time": "2025-09-22T15:26:07.708803Z"
    }
   },
   "cell_type": "code",
   "source": "problem.make_gantt()",
   "id": "4890bfb2bd2f7264",
   "outputs": [
    {
     "data": {
      "application/vnd.plotly.v1+json": {
       "data": [
        {
         "alignmentgroup": "PACK #7",
         "base": [
          28
         ],
         "hoverinfo": "text",
         "hovertext": [
          "Item 1 – P (Packaging) (machine occupied)<br>Start: 28 End: 33"
         ],
         "legendgroup": "1",
         "marker": {
          "color": "#636EFA",
          "line": {
           "color": "white",
           "width": 3
          },
          "pattern": {
           "fgcolor": "white",
           "shape": [
            "/"
           ],
           "size": 10,
           "solidity": 0.7
          }
         },
         "name": "1",
         "offsetgroup": "PACK #7",
         "orientation": "h",
         "showlegend": false,
         "width": 0.5,
         "x": {
          "dtype": "i1",
          "bdata": "BQ=="
         },
         "y": [
          "PACK #7"
         ],
         "type": "bar"
        },
        {
         "alignmentgroup": "GRIP #5",
         "base": [
          13
         ],
         "hoverinfo": "text",
         "hovertext": [
          "Item 1 – B1 (Assembly core)<br>Start: 13 End: 23"
         ],
         "legendgroup": "1",
         "marker": {
          "color": "#636EFA",
          "line": {
           "color": "white",
           "width": 3
          },
          "opacity": [
           1.0
          ],
          "pattern": {
           "shape": [
            ""
           ],
           "size": 10,
           "solidity": 0.5
          }
         },
         "name": "1",
         "offsetgroup": "GRIP #5",
         "orientation": "h",
         "showlegend": true,
         "width": 0.5,
         "x": {
          "dtype": "i1",
          "bdata": "Cg=="
         },
         "y": [
          "GRIP #5"
         ],
         "type": "bar"
        },
        {
         "alignmentgroup": "KIT #3 -> GRIP #5",
         "base": [
          10
         ],
         "hoverinfo": "text",
         "hovertext": [
          "Item 1 – Transport KB<br>Start: 10 End: 13"
         ],
         "legendgroup": "1",
         "marker": {
          "color": "#636EFA",
          "line": {
           "color": "white",
           "width": 3
          },
          "opacity": [
           1.0
          ],
          "pattern": {
           "shape": [
            "."
           ],
           "size": 10,
           "solidity": 0.5
          }
         },
         "name": "1",
         "offsetgroup": "KIT #3 -> GRIP #5",
         "orientation": "h",
         "showlegend": false,
         "width": 0.5,
         "x": {
          "dtype": "i1",
          "bdata": "Aw=="
         },
         "y": [
          "KIT #3 -> GRIP #5"
         ],
         "type": "bar"
        },
        {
         "alignmentgroup": "KIT #3",
         "base": [
          0
         ],
         "hoverinfo": "text",
         "hovertext": [
          "Item 1 – K1 (Kitting)<br>Start: 0 End: 10"
         ],
         "legendgroup": "1",
         "marker": {
          "color": "#636EFA",
          "line": {
           "color": "white",
           "width": 3
          },
          "opacity": [
           1.0
          ],
          "pattern": {
           "shape": [
            ""
           ],
           "size": 10,
           "solidity": 0.5
          }
         },
         "name": "1",
         "offsetgroup": "KIT #3",
         "orientation": "h",
         "showlegend": false,
         "width": 0.5,
         "x": {
          "dtype": "i1",
          "bdata": "Cg=="
         },
         "y": [
          "KIT #3"
         ],
         "type": "bar"
        },
        {
         "alignmentgroup": "Human",
         "base": [
          28,
          23
         ],
         "hoverinfo": "text",
         "hovertext": [
          "Item 1 – P (Packaging)<br>Start: 28 End: 33",
          "Item 1 – Transport BP<br>Start: 23 End: 28"
         ],
         "legendgroup": "1",
         "marker": {
          "color": "#636EFA",
          "line": {
           "color": "white",
           "width": 3
          },
          "opacity": [
           0.4,
           1.0
          ],
          "pattern": {
           "shape": [
            "",
            "."
           ],
           "size": 10,
           "solidity": 0.5
          }
         },
         "name": "1",
         "offsetgroup": "Human",
         "orientation": "h",
         "showlegend": false,
         "width": 0.5,
         "x": {
          "dtype": "i1",
          "bdata": "BQU="
         },
         "y": [
          "Human",
          "Human"
         ],
         "type": "bar"
        },
        {
         "alignmentgroup": "PACK #7",
         "base": [
          58
         ],
         "hoverinfo": "text",
         "hovertext": [
          "Item 2 – P (Packaging) (machine occupied)<br>Start: 58 End: 63"
         ],
         "legendgroup": "2",
         "marker": {
          "color": "#EF553B",
          "line": {
           "color": "white",
           "width": 3
          },
          "pattern": {
           "fgcolor": "white",
           "shape": [
            "/"
           ],
           "size": 10,
           "solidity": 0.7
          }
         },
         "name": "2",
         "offsetgroup": "PACK #7",
         "orientation": "h",
         "showlegend": false,
         "width": 0.5,
         "x": {
          "dtype": "i1",
          "bdata": "BQ=="
         },
         "y": [
          "PACK #7"
         ],
         "type": "bar"
        },
        {
         "alignmentgroup": "GRIP & SCREW #6 -> PACK #7",
         "base": [
          55
         ],
         "hoverinfo": "text",
         "hovertext": [
          "Item 2 – Transport BP<br>Start: 55 End: 58"
         ],
         "legendgroup": "2",
         "marker": {
          "color": "#EF553B",
          "line": {
           "color": "white",
           "width": 3
          },
          "opacity": [
           1.0
          ],
          "pattern": {
           "shape": [
            "."
           ],
           "size": 10,
           "solidity": 0.5
          }
         },
         "name": "2",
         "offsetgroup": "GRIP & SCREW #6 -> PACK #7",
         "orientation": "h",
         "showlegend": true,
         "width": 0.5,
         "x": {
          "dtype": "i1",
          "bdata": "Aw=="
         },
         "y": [
          "GRIP & SCREW #6 -> PACK #7"
         ],
         "type": "bar"
        },
        {
         "alignmentgroup": "GRIP & SCREW #6",
         "base": [
          35
         ],
         "hoverinfo": "text",
         "hovertext": [
          "Item 2 – B1 (Assembly core)<br>Start: 35 End: 55"
         ],
         "legendgroup": "2",
         "marker": {
          "color": "#EF553B",
          "line": {
           "color": "white",
           "width": 3
          },
          "opacity": [
           1.0
          ],
          "pattern": {
           "shape": [
            ""
           ],
           "size": 10,
           "solidity": 0.5
          }
         },
         "name": "2",
         "offsetgroup": "GRIP & SCREW #6",
         "orientation": "h",
         "showlegend": false,
         "width": 0.5,
         "x": {
          "dtype": "i1",
          "bdata": "FA=="
         },
         "y": [
          "GRIP & SCREW #6"
         ],
         "type": "bar"
        },
        {
         "alignmentgroup": "KIT #4",
         "base": [
          10
         ],
         "hoverinfo": "text",
         "hovertext": [
          "Item 2 – K1 (Kitting)<br>Start: 10 End: 20"
         ],
         "legendgroup": "2",
         "marker": {
          "color": "#EF553B",
          "line": {
           "color": "white",
           "width": 3
          },
          "opacity": [
           1.0
          ],
          "pattern": {
           "shape": [
            ""
           ],
           "size": 10,
           "solidity": 0.5
          }
         },
         "name": "2",
         "offsetgroup": "KIT #4",
         "orientation": "h",
         "showlegend": false,
         "width": 0.5,
         "x": {
          "dtype": "i1",
          "bdata": "Cg=="
         },
         "y": [
          "KIT #4"
         ],
         "type": "bar"
        },
        {
         "alignmentgroup": "Robot",
         "base": [
          20
         ],
         "hoverinfo": "text",
         "hovertext": [
          "Item 2 – Transport KB<br>Start: 20 End: 28"
         ],
         "legendgroup": "2",
         "marker": {
          "color": "#EF553B",
          "line": {
           "color": "white",
           "width": 3
          },
          "opacity": [
           1.0
          ],
          "pattern": {
           "shape": [
            "."
           ],
           "size": 10,
           "solidity": 0.5
          }
         },
         "name": "2",
         "offsetgroup": "Robot",
         "orientation": "h",
         "showlegend": false,
         "width": 0.5,
         "x": {
          "dtype": "i1",
          "bdata": "CA=="
         },
         "y": [
          "Robot"
         ],
         "type": "bar"
        },
        {
         "alignmentgroup": "Human",
         "base": [
          58
         ],
         "hoverinfo": "text",
         "hovertext": [
          "Item 2 – P (Packaging)<br>Start: 58 End: 63"
         ],
         "legendgroup": "2",
         "marker": {
          "color": "#EF553B",
          "line": {
           "color": "white",
           "width": 3
          },
          "opacity": [
           0.4
          ],
          "pattern": {
           "shape": [
            ""
           ],
           "size": 10,
           "solidity": 0.5
          }
         },
         "name": "2",
         "offsetgroup": "Human",
         "orientation": "h",
         "showlegend": false,
         "width": 0.5,
         "x": {
          "dtype": "i1",
          "bdata": "BQ=="
         },
         "y": [
          "Human"
         ],
         "type": "bar"
        },
        {
         "alignmentgroup": "PACK #7",
         "base": [
          43
         ],
         "hoverinfo": "text",
         "hovertext": [
          "Item 3 – P (Packaging) (machine occupied)<br>Start: 43 End: 48"
         ],
         "legendgroup": "3",
         "marker": {
          "color": "#00CC96",
          "line": {
           "color": "white",
           "width": 3
          },
          "pattern": {
           "fgcolor": "white",
           "shape": [
            "/"
           ],
           "size": 10,
           "solidity": 0.7
          }
         },
         "name": "3",
         "offsetgroup": "PACK #7",
         "orientation": "h",
         "showlegend": false,
         "width": 0.5,
         "x": {
          "dtype": "i1",
          "bdata": "BQ=="
         },
         "y": [
          "PACK #7"
         ],
         "type": "bar"
        },
        {
         "alignmentgroup": "GRIP & SCREW #6",
         "base": [
          15
         ],
         "hoverinfo": "text",
         "hovertext": [
          "Item 3 – B1 (Assembly core)<br>Start: 15 End: 35"
         ],
         "legendgroup": "3",
         "marker": {
          "color": "#00CC96",
          "line": {
           "color": "white",
           "width": 3
          },
          "opacity": [
           1.0
          ],
          "pattern": {
           "shape": [
            ""
           ],
           "size": 10,
           "solidity": 0.5
          }
         },
         "name": "3",
         "offsetgroup": "GRIP & SCREW #6",
         "orientation": "h",
         "showlegend": true,
         "width": 0.5,
         "x": {
          "dtype": "i1",
          "bdata": "FA=="
         },
         "y": [
          "GRIP & SCREW #6"
         ],
         "type": "bar"
        },
        {
         "alignmentgroup": "KIT #4",
         "base": [
          0
         ],
         "hoverinfo": "text",
         "hovertext": [
          "Item 3 – K1 (Kitting)<br>Start: 0 End: 10"
         ],
         "legendgroup": "3",
         "marker": {
          "color": "#00CC96",
          "line": {
           "color": "white",
           "width": 3
          },
          "opacity": [
           1.0
          ],
          "pattern": {
           "shape": [
            ""
           ],
           "size": 10,
           "solidity": 0.5
          }
         },
         "name": "3",
         "offsetgroup": "KIT #4",
         "orientation": "h",
         "showlegend": false,
         "width": 0.5,
         "x": {
          "dtype": "i1",
          "bdata": "Cg=="
         },
         "y": [
          "KIT #4"
         ],
         "type": "bar"
        },
        {
         "alignmentgroup": "Robot",
         "base": [
          35
         ],
         "hoverinfo": "text",
         "hovertext": [
          "Item 3 – Transport BP<br>Start: 35 End: 43"
         ],
         "legendgroup": "3",
         "marker": {
          "color": "#00CC96",
          "line": {
           "color": "white",
           "width": 3
          },
          "opacity": [
           1.0
          ],
          "pattern": {
           "shape": [
            "."
           ],
           "size": 10,
           "solidity": 0.5
          }
         },
         "name": "3",
         "offsetgroup": "Robot",
         "orientation": "h",
         "showlegend": false,
         "width": 0.5,
         "x": {
          "dtype": "i1",
          "bdata": "CA=="
         },
         "y": [
          "Robot"
         ],
         "type": "bar"
        },
        {
         "alignmentgroup": "Human",
         "base": [
          43,
          10
         ],
         "hoverinfo": "text",
         "hovertext": [
          "Item 3 – P (Packaging)<br>Start: 43 End: 48",
          "Item 3 – Transport KB<br>Start: 10 End: 15"
         ],
         "legendgroup": "3",
         "marker": {
          "color": "#00CC96",
          "line": {
           "color": "white",
           "width": 3
          },
          "opacity": [
           0.4,
           1.0
          ],
          "pattern": {
           "shape": [
            "",
            "."
           ],
           "size": 10,
           "solidity": 0.5
          }
         },
         "name": "3",
         "offsetgroup": "Human",
         "orientation": "h",
         "showlegend": false,
         "width": 0.5,
         "x": {
          "dtype": "i1",
          "bdata": "BQU="
         },
         "y": [
          "Human",
          "Human"
         ],
         "type": "bar"
        },
        {
         "alignmentgroup": "PACK #7",
         "base": [
          53
         ],
         "hoverinfo": "text",
         "hovertext": [
          "Item 4 – P (Packaging) (machine occupied)<br>Start: 53 End: 58"
         ],
         "legendgroup": "4",
         "marker": {
          "color": "#AB63FA",
          "line": {
           "color": "white",
           "width": 3
          },
          "pattern": {
           "fgcolor": "white",
           "shape": [
            "/"
           ],
           "size": 10,
           "solidity": 0.7
          }
         },
         "name": "4",
         "offsetgroup": "PACK #7",
         "orientation": "h",
         "showlegend": false,
         "width": 0.5,
         "x": {
          "dtype": "i1",
          "bdata": "BQ=="
         },
         "y": [
          "PACK #7"
         ],
         "type": "bar"
        },
        {
         "alignmentgroup": "GRIP #5",
         "base": [
          33
         ],
         "hoverinfo": "text",
         "hovertext": [
          "Item 4 – B1 (Assembly core)<br>Start: 33 End: 43"
         ],
         "legendgroup": "4",
         "marker": {
          "color": "#AB63FA",
          "line": {
           "color": "white",
           "width": 3
          },
          "opacity": [
           1.0
          ],
          "pattern": {
           "shape": [
            ""
           ],
           "size": 10,
           "solidity": 0.5
          }
         },
         "name": "4",
         "offsetgroup": "GRIP #5",
         "orientation": "h",
         "showlegend": true,
         "width": 0.5,
         "x": {
          "dtype": "i1",
          "bdata": "Cg=="
         },
         "y": [
          "GRIP #5"
         ],
         "type": "bar"
        },
        {
         "alignmentgroup": "KIT #3 -> GRIP #5",
         "base": [
          30
         ],
         "hoverinfo": "text",
         "hovertext": [
          "Item 4 – Transport KB<br>Start: 30 End: 33"
         ],
         "legendgroup": "4",
         "marker": {
          "color": "#AB63FA",
          "line": {
           "color": "white",
           "width": 3
          },
          "opacity": [
           1.0
          ],
          "pattern": {
           "shape": [
            "."
           ],
           "size": 10,
           "solidity": 0.5
          }
         },
         "name": "4",
         "offsetgroup": "KIT #3 -> GRIP #5",
         "orientation": "h",
         "showlegend": false,
         "width": 0.5,
         "x": {
          "dtype": "i1",
          "bdata": "Aw=="
         },
         "y": [
          "KIT #3 -> GRIP #5"
         ],
         "type": "bar"
        },
        {
         "alignmentgroup": "KIT #3",
         "base": [
          20
         ],
         "hoverinfo": "text",
         "hovertext": [
          "Item 4 – K1 (Kitting)<br>Start: 20 End: 30"
         ],
         "legendgroup": "4",
         "marker": {
          "color": "#AB63FA",
          "line": {
           "color": "white",
           "width": 3
          },
          "opacity": [
           1.0
          ],
          "pattern": {
           "shape": [
            ""
           ],
           "size": 10,
           "solidity": 0.5
          }
         },
         "name": "4",
         "offsetgroup": "KIT #3",
         "orientation": "h",
         "showlegend": false,
         "width": 0.5,
         "x": {
          "dtype": "i1",
          "bdata": "Cg=="
         },
         "y": [
          "KIT #3"
         ],
         "type": "bar"
        },
        {
         "alignmentgroup": "Human",
         "base": [
          53,
          48
         ],
         "hoverinfo": "text",
         "hovertext": [
          "Item 4 – P (Packaging)<br>Start: 53 End: 58",
          "Item 4 – Transport BP<br>Start: 48 End: 53"
         ],
         "legendgroup": "4",
         "marker": {
          "color": "#AB63FA",
          "line": {
           "color": "white",
           "width": 3
          },
          "opacity": [
           0.4,
           1.0
          ],
          "pattern": {
           "shape": [
            "",
            "."
           ],
           "size": 10,
           "solidity": 0.5
          }
         },
         "name": "4",
         "offsetgroup": "Human",
         "orientation": "h",
         "showlegend": false,
         "width": 0.5,
         "x": {
          "dtype": "i1",
          "bdata": "BQU="
         },
         "y": [
          "Human",
          "Human"
         ],
         "type": "bar"
        },
        {
         "alignmentgroup": "PACK #7",
         "base": [
          38
         ],
         "hoverinfo": "text",
         "hovertext": [
          "Item 5 – P (Packaging) (machine occupied)<br>Start: 38 End: 43"
         ],
         "legendgroup": "5",
         "marker": {
          "color": "#FFA15A",
          "line": {
           "color": "white",
           "width": 3
          },
          "pattern": {
           "fgcolor": "white",
           "shape": [
            "/"
           ],
           "size": 10,
           "solidity": 0.7
          }
         },
         "name": "5",
         "offsetgroup": "PACK #7",
         "orientation": "h",
         "showlegend": false,
         "width": 0.5,
         "x": {
          "dtype": "i1",
          "bdata": "BQ=="
         },
         "y": [
          "PACK #7"
         ],
         "type": "bar"
        },
        {
         "alignmentgroup": "GRIP #5",
         "base": [
          23
         ],
         "hoverinfo": "text",
         "hovertext": [
          "Item 5 – B1 (Assembly core)<br>Start: 23 End: 33"
         ],
         "legendgroup": "5",
         "marker": {
          "color": "#FFA15A",
          "line": {
           "color": "white",
           "width": 3
          },
          "opacity": [
           1.0
          ],
          "pattern": {
           "shape": [
            ""
           ],
           "size": 10,
           "solidity": 0.5
          }
         },
         "name": "5",
         "offsetgroup": "GRIP #5",
         "orientation": "h",
         "showlegend": true,
         "width": 0.5,
         "x": {
          "dtype": "i1",
          "bdata": "Cg=="
         },
         "y": [
          "GRIP #5"
         ],
         "type": "bar"
        },
        {
         "alignmentgroup": "KIT #3 -> GRIP #5",
         "base": [
          20
         ],
         "hoverinfo": "text",
         "hovertext": [
          "Item 5 – Transport KB<br>Start: 20 End: 23"
         ],
         "legendgroup": "5",
         "marker": {
          "color": "#FFA15A",
          "line": {
           "color": "white",
           "width": 3
          },
          "opacity": [
           1.0
          ],
          "pattern": {
           "shape": [
            "."
           ],
           "size": 10,
           "solidity": 0.5
          }
         },
         "name": "5",
         "offsetgroup": "KIT #3 -> GRIP #5",
         "orientation": "h",
         "showlegend": false,
         "width": 0.5,
         "x": {
          "dtype": "i1",
          "bdata": "Aw=="
         },
         "y": [
          "KIT #3 -> GRIP #5"
         ],
         "type": "bar"
        },
        {
         "alignmentgroup": "KIT #3",
         "base": [
          10
         ],
         "hoverinfo": "text",
         "hovertext": [
          "Item 5 – K1 (Kitting)<br>Start: 10 End: 20"
         ],
         "legendgroup": "5",
         "marker": {
          "color": "#FFA15A",
          "line": {
           "color": "white",
           "width": 3
          },
          "opacity": [
           1.0
          ],
          "pattern": {
           "shape": [
            ""
           ],
           "size": 10,
           "solidity": 0.5
          }
         },
         "name": "5",
         "offsetgroup": "KIT #3",
         "orientation": "h",
         "showlegend": false,
         "width": 0.5,
         "x": {
          "dtype": "i1",
          "bdata": "Cg=="
         },
         "y": [
          "KIT #3"
         ],
         "type": "bar"
        },
        {
         "alignmentgroup": "Human",
         "base": [
          38,
          33
         ],
         "hoverinfo": "text",
         "hovertext": [
          "Item 5 – P (Packaging)<br>Start: 38 End: 43",
          "Item 5 – Transport BP<br>Start: 33 End: 38"
         ],
         "legendgroup": "5",
         "marker": {
          "color": "#FFA15A",
          "line": {
           "color": "white",
           "width": 3
          },
          "opacity": [
           0.4,
           1.0
          ],
          "pattern": {
           "shape": [
            "",
            "."
           ],
           "size": 10,
           "solidity": 0.5
          }
         },
         "name": "5",
         "offsetgroup": "Human",
         "orientation": "h",
         "showlegend": false,
         "width": 0.5,
         "x": {
          "dtype": "i1",
          "bdata": "BQU="
         },
         "y": [
          "Human",
          "Human"
         ],
         "type": "bar"
        },
        {
         "hoverinfo": "skip",
         "legendgroup": "1",
         "line": {
          "color": "#636EFA",
          "width": 2
         },
         "mode": "lines",
         "name": "1 flow",
         "showlegend": false,
         "x": [
          9.85,
          10.15,
          null,
          12.85,
          13.15,
          null,
          22.85,
          23.15,
          null,
          27.85,
          28.15,
          null
         ],
         "y": [
          "KIT #3",
          "KIT #3 -> GRIP #5",
          null,
          "KIT #3 -> GRIP #5",
          "GRIP #5",
          null,
          "GRIP #5",
          "Human",
          null,
          "Human",
          "PACK #7",
          null
         ],
         "type": "scatter"
        },
        {
         "hoverinfo": "skip",
         "legendgroup": "2",
         "line": {
          "color": "#EF553B",
          "width": 2
         },
         "mode": "lines",
         "name": "2 flow",
         "showlegend": false,
         "x": [
          19.85,
          20.15,
          null,
          27.85,
          35.15,
          null,
          54.85,
          55.15,
          null,
          57.85,
          58.15,
          null
         ],
         "y": [
          "KIT #4",
          "Robot",
          null,
          "Robot",
          "GRIP & SCREW #6",
          null,
          "GRIP & SCREW #6",
          "GRIP & SCREW #6 -> PACK #7",
          null,
          "GRIP & SCREW #6 -> PACK #7",
          "PACK #7",
          null
         ],
         "type": "scatter"
        },
        {
         "hoverinfo": "skip",
         "legendgroup": "3",
         "line": {
          "color": "#00CC96",
          "width": 2
         },
         "mode": "lines",
         "name": "3 flow",
         "showlegend": false,
         "x": [
          9.85,
          10.15,
          null,
          14.85,
          15.15,
          null,
          34.85,
          35.15,
          null,
          42.85,
          43.15,
          null
         ],
         "y": [
          "KIT #4",
          "Human",
          null,
          "Human",
          "GRIP & SCREW #6",
          null,
          "GRIP & SCREW #6",
          "Robot",
          null,
          "Robot",
          "PACK #7",
          null
         ],
         "type": "scatter"
        },
        {
         "hoverinfo": "skip",
         "legendgroup": "4",
         "line": {
          "color": "#AB63FA",
          "width": 2
         },
         "mode": "lines",
         "name": "4 flow",
         "showlegend": false,
         "x": [
          29.85,
          30.15,
          null,
          32.85,
          33.15,
          null,
          42.85,
          48.15,
          null,
          52.85,
          53.15,
          null
         ],
         "y": [
          "KIT #3",
          "KIT #3 -> GRIP #5",
          null,
          "KIT #3 -> GRIP #5",
          "GRIP #5",
          null,
          "GRIP #5",
          "Human",
          null,
          "Human",
          "PACK #7",
          null
         ],
         "type": "scatter"
        },
        {
         "hoverinfo": "skip",
         "legendgroup": "5",
         "line": {
          "color": "#FFA15A",
          "width": 2
         },
         "mode": "lines",
         "name": "5 flow",
         "showlegend": false,
         "x": [
          19.85,
          20.15,
          null,
          22.85,
          23.15,
          null,
          32.85,
          33.15,
          null,
          37.85,
          38.15,
          null
         ],
         "y": [
          "KIT #3",
          "KIT #3 -> GRIP #5",
          null,
          "KIT #3 -> GRIP #5",
          "GRIP #5",
          null,
          "GRIP #5",
          "Human",
          null,
          "Human",
          "PACK #7",
          null
         ],
         "type": "scatter"
        }
       ],
       "layout": {
        "template": {
         "data": {
          "histogram2dcontour": [
           {
            "type": "histogram2dcontour",
            "colorbar": {
             "outlinewidth": 0,
             "ticks": ""
            },
            "colorscale": [
             [
              0.0,
              "#0d0887"
             ],
             [
              0.1111111111111111,
              "#46039f"
             ],
             [
              0.2222222222222222,
              "#7201a8"
             ],
             [
              0.3333333333333333,
              "#9c179e"
             ],
             [
              0.4444444444444444,
              "#bd3786"
             ],
             [
              0.5555555555555556,
              "#d8576b"
             ],
             [
              0.6666666666666666,
              "#ed7953"
             ],
             [
              0.7777777777777778,
              "#fb9f3a"
             ],
             [
              0.8888888888888888,
              "#fdca26"
             ],
             [
              1.0,
              "#f0f921"
             ]
            ]
           }
          ],
          "choropleth": [
           {
            "type": "choropleth",
            "colorbar": {
             "outlinewidth": 0,
             "ticks": ""
            }
           }
          ],
          "histogram2d": [
           {
            "type": "histogram2d",
            "colorbar": {
             "outlinewidth": 0,
             "ticks": ""
            },
            "colorscale": [
             [
              0.0,
              "#0d0887"
             ],
             [
              0.1111111111111111,
              "#46039f"
             ],
             [
              0.2222222222222222,
              "#7201a8"
             ],
             [
              0.3333333333333333,
              "#9c179e"
             ],
             [
              0.4444444444444444,
              "#bd3786"
             ],
             [
              0.5555555555555556,
              "#d8576b"
             ],
             [
              0.6666666666666666,
              "#ed7953"
             ],
             [
              0.7777777777777778,
              "#fb9f3a"
             ],
             [
              0.8888888888888888,
              "#fdca26"
             ],
             [
              1.0,
              "#f0f921"
             ]
            ]
           }
          ],
          "heatmap": [
           {
            "type": "heatmap",
            "colorbar": {
             "outlinewidth": 0,
             "ticks": ""
            },
            "colorscale": [
             [
              0.0,
              "#0d0887"
             ],
             [
              0.1111111111111111,
              "#46039f"
             ],
             [
              0.2222222222222222,
              "#7201a8"
             ],
             [
              0.3333333333333333,
              "#9c179e"
             ],
             [
              0.4444444444444444,
              "#bd3786"
             ],
             [
              0.5555555555555556,
              "#d8576b"
             ],
             [
              0.6666666666666666,
              "#ed7953"
             ],
             [
              0.7777777777777778,
              "#fb9f3a"
             ],
             [
              0.8888888888888888,
              "#fdca26"
             ],
             [
              1.0,
              "#f0f921"
             ]
            ]
           }
          ],
          "contourcarpet": [
           {
            "type": "contourcarpet",
            "colorbar": {
             "outlinewidth": 0,
             "ticks": ""
            }
           }
          ],
          "contour": [
           {
            "type": "contour",
            "colorbar": {
             "outlinewidth": 0,
             "ticks": ""
            },
            "colorscale": [
             [
              0.0,
              "#0d0887"
             ],
             [
              0.1111111111111111,
              "#46039f"
             ],
             [
              0.2222222222222222,
              "#7201a8"
             ],
             [
              0.3333333333333333,
              "#9c179e"
             ],
             [
              0.4444444444444444,
              "#bd3786"
             ],
             [
              0.5555555555555556,
              "#d8576b"
             ],
             [
              0.6666666666666666,
              "#ed7953"
             ],
             [
              0.7777777777777778,
              "#fb9f3a"
             ],
             [
              0.8888888888888888,
              "#fdca26"
             ],
             [
              1.0,
              "#f0f921"
             ]
            ]
           }
          ],
          "surface": [
           {
            "type": "surface",
            "colorbar": {
             "outlinewidth": 0,
             "ticks": ""
            },
            "colorscale": [
             [
              0.0,
              "#0d0887"
             ],
             [
              0.1111111111111111,
              "#46039f"
             ],
             [
              0.2222222222222222,
              "#7201a8"
             ],
             [
              0.3333333333333333,
              "#9c179e"
             ],
             [
              0.4444444444444444,
              "#bd3786"
             ],
             [
              0.5555555555555556,
              "#d8576b"
             ],
             [
              0.6666666666666666,
              "#ed7953"
             ],
             [
              0.7777777777777778,
              "#fb9f3a"
             ],
             [
              0.8888888888888888,
              "#fdca26"
             ],
             [
              1.0,
              "#f0f921"
             ]
            ]
           }
          ],
          "mesh3d": [
           {
            "type": "mesh3d",
            "colorbar": {
             "outlinewidth": 0,
             "ticks": ""
            }
           }
          ],
          "scatter": [
           {
            "fillpattern": {
             "fillmode": "overlay",
             "size": 10,
             "solidity": 0.2
            },
            "type": "scatter"
           }
          ],
          "parcoords": [
           {
            "type": "parcoords",
            "line": {
             "colorbar": {
              "outlinewidth": 0,
              "ticks": ""
             }
            }
           }
          ],
          "scatterpolargl": [
           {
            "type": "scatterpolargl",
            "marker": {
             "colorbar": {
              "outlinewidth": 0,
              "ticks": ""
             }
            }
           }
          ],
          "bar": [
           {
            "error_x": {
             "color": "#2a3f5f"
            },
            "error_y": {
             "color": "#2a3f5f"
            },
            "marker": {
             "line": {
              "color": "#E5ECF6",
              "width": 0.5
             },
             "pattern": {
              "fillmode": "overlay",
              "size": 10,
              "solidity": 0.2
             }
            },
            "type": "bar"
           }
          ],
          "scattergeo": [
           {
            "type": "scattergeo",
            "marker": {
             "colorbar": {
              "outlinewidth": 0,
              "ticks": ""
             }
            }
           }
          ],
          "scatterpolar": [
           {
            "type": "scatterpolar",
            "marker": {
             "colorbar": {
              "outlinewidth": 0,
              "ticks": ""
             }
            }
           }
          ],
          "histogram": [
           {
            "marker": {
             "pattern": {
              "fillmode": "overlay",
              "size": 10,
              "solidity": 0.2
             }
            },
            "type": "histogram"
           }
          ],
          "scattergl": [
           {
            "type": "scattergl",
            "marker": {
             "colorbar": {
              "outlinewidth": 0,
              "ticks": ""
             }
            }
           }
          ],
          "scatter3d": [
           {
            "type": "scatter3d",
            "line": {
             "colorbar": {
              "outlinewidth": 0,
              "ticks": ""
             }
            },
            "marker": {
             "colorbar": {
              "outlinewidth": 0,
              "ticks": ""
             }
            }
           }
          ],
          "scattermap": [
           {
            "type": "scattermap",
            "marker": {
             "colorbar": {
              "outlinewidth": 0,
              "ticks": ""
             }
            }
           }
          ],
          "scattermapbox": [
           {
            "type": "scattermapbox",
            "marker": {
             "colorbar": {
              "outlinewidth": 0,
              "ticks": ""
             }
            }
           }
          ],
          "scatterternary": [
           {
            "type": "scatterternary",
            "marker": {
             "colorbar": {
              "outlinewidth": 0,
              "ticks": ""
             }
            }
           }
          ],
          "scattercarpet": [
           {
            "type": "scattercarpet",
            "marker": {
             "colorbar": {
              "outlinewidth": 0,
              "ticks": ""
             }
            }
           }
          ],
          "carpet": [
           {
            "aaxis": {
             "endlinecolor": "#2a3f5f",
             "gridcolor": "white",
             "linecolor": "white",
             "minorgridcolor": "white",
             "startlinecolor": "#2a3f5f"
            },
            "baxis": {
             "endlinecolor": "#2a3f5f",
             "gridcolor": "white",
             "linecolor": "white",
             "minorgridcolor": "white",
             "startlinecolor": "#2a3f5f"
            },
            "type": "carpet"
           }
          ],
          "table": [
           {
            "cells": {
             "fill": {
              "color": "#EBF0F8"
             },
             "line": {
              "color": "white"
             }
            },
            "header": {
             "fill": {
              "color": "#C8D4E3"
             },
             "line": {
              "color": "white"
             }
            },
            "type": "table"
           }
          ],
          "barpolar": [
           {
            "marker": {
             "line": {
              "color": "#E5ECF6",
              "width": 0.5
             },
             "pattern": {
              "fillmode": "overlay",
              "size": 10,
              "solidity": 0.2
             }
            },
            "type": "barpolar"
           }
          ],
          "pie": [
           {
            "automargin": true,
            "type": "pie"
           }
          ]
         },
         "layout": {
          "autotypenumbers": "strict",
          "colorway": [
           "#636efa",
           "#EF553B",
           "#00cc96",
           "#ab63fa",
           "#FFA15A",
           "#19d3f3",
           "#FF6692",
           "#B6E880",
           "#FF97FF",
           "#FECB52"
          ],
          "font": {
           "color": "#2a3f5f"
          },
          "hovermode": "closest",
          "hoverlabel": {
           "align": "left"
          },
          "paper_bgcolor": "white",
          "plot_bgcolor": "#E5ECF6",
          "polar": {
           "bgcolor": "#E5ECF6",
           "angularaxis": {
            "gridcolor": "white",
            "linecolor": "white",
            "ticks": ""
           },
           "radialaxis": {
            "gridcolor": "white",
            "linecolor": "white",
            "ticks": ""
           }
          },
          "ternary": {
           "bgcolor": "#E5ECF6",
           "aaxis": {
            "gridcolor": "white",
            "linecolor": "white",
            "ticks": ""
           },
           "baxis": {
            "gridcolor": "white",
            "linecolor": "white",
            "ticks": ""
           },
           "caxis": {
            "gridcolor": "white",
            "linecolor": "white",
            "ticks": ""
           }
          },
          "coloraxis": {
           "colorbar": {
            "outlinewidth": 0,
            "ticks": ""
           }
          },
          "colorscale": {
           "sequential": [
            [
             0.0,
             "#0d0887"
            ],
            [
             0.1111111111111111,
             "#46039f"
            ],
            [
             0.2222222222222222,
             "#7201a8"
            ],
            [
             0.3333333333333333,
             "#9c179e"
            ],
            [
             0.4444444444444444,
             "#bd3786"
            ],
            [
             0.5555555555555556,
             "#d8576b"
            ],
            [
             0.6666666666666666,
             "#ed7953"
            ],
            [
             0.7777777777777778,
             "#fb9f3a"
            ],
            [
             0.8888888888888888,
             "#fdca26"
            ],
            [
             1.0,
             "#f0f921"
            ]
           ],
           "sequentialminus": [
            [
             0.0,
             "#0d0887"
            ],
            [
             0.1111111111111111,
             "#46039f"
            ],
            [
             0.2222222222222222,
             "#7201a8"
            ],
            [
             0.3333333333333333,
             "#9c179e"
            ],
            [
             0.4444444444444444,
             "#bd3786"
            ],
            [
             0.5555555555555556,
             "#d8576b"
            ],
            [
             0.6666666666666666,
             "#ed7953"
            ],
            [
             0.7777777777777778,
             "#fb9f3a"
            ],
            [
             0.8888888888888888,
             "#fdca26"
            ],
            [
             1.0,
             "#f0f921"
            ]
           ],
           "diverging": [
            [
             0,
             "#8e0152"
            ],
            [
             0.1,
             "#c51b7d"
            ],
            [
             0.2,
             "#de77ae"
            ],
            [
             0.3,
             "#f1b6da"
            ],
            [
             0.4,
             "#fde0ef"
            ],
            [
             0.5,
             "#f7f7f7"
            ],
            [
             0.6,
             "#e6f5d0"
            ],
            [
             0.7,
             "#b8e186"
            ],
            [
             0.8,
             "#7fbc41"
            ],
            [
             0.9,
             "#4d9221"
            ],
            [
             1,
             "#276419"
            ]
           ]
          },
          "xaxis": {
           "gridcolor": "white",
           "linecolor": "white",
           "ticks": "",
           "title": {
            "standoff": 15
           },
           "zerolinecolor": "white",
           "automargin": true,
           "zerolinewidth": 2
          },
          "yaxis": {
           "gridcolor": "white",
           "linecolor": "white",
           "ticks": "",
           "title": {
            "standoff": 15
           },
           "zerolinecolor": "white",
           "automargin": true,
           "zerolinewidth": 2
          },
          "scene": {
           "xaxis": {
            "backgroundcolor": "#E5ECF6",
            "gridcolor": "white",
            "linecolor": "white",
            "showbackground": true,
            "ticks": "",
            "zerolinecolor": "white",
            "gridwidth": 2
           },
           "yaxis": {
            "backgroundcolor": "#E5ECF6",
            "gridcolor": "white",
            "linecolor": "white",
            "showbackground": true,
            "ticks": "",
            "zerolinecolor": "white",
            "gridwidth": 2
           },
           "zaxis": {
            "backgroundcolor": "#E5ECF6",
            "gridcolor": "white",
            "linecolor": "white",
            "showbackground": true,
            "ticks": "",
            "zerolinecolor": "white",
            "gridwidth": 2
           }
          },
          "shapedefaults": {
           "line": {
            "color": "#2a3f5f"
           }
          },
          "annotationdefaults": {
           "arrowcolor": "#2a3f5f",
           "arrowhead": 0,
           "arrowwidth": 1
          },
          "geo": {
           "bgcolor": "white",
           "landcolor": "#E5ECF6",
           "subunitcolor": "white",
           "showland": true,
           "showlakes": true,
           "lakecolor": "white"
          },
          "title": {
           "x": 0.05
          },
          "mapbox": {
           "style": "light"
          }
         }
        },
        "font": {
         "color": "white",
         "family": "DejaVu Sans, Arial, Liberation Sans, sans-serif",
         "size": 14
        },
        "title": {
         "text": "Job Shop Schedule - Makespan 63",
         "font": {
          "color": "white"
         }
        },
        "legend": {
         "title": {
          "font": {
           "color": "white"
          },
          "text": "Item"
         },
         "groupclick": "togglegroup"
        },
        "margin": {
         "l": 80,
         "r": 40,
         "t": 60,
         "b": 50
        },
        "xaxis": {
         "showgrid": true,
         "gridcolor": "lightgray",
         "title": {
          "text": "Time"
         },
         "color": "white",
         "range": [
          0,
          63
         ]
        },
        "yaxis": {
         "tickfont": {
          "size": 10
         },
         "showgrid": true,
         "gridcolor": "lightgray",
         "title": {
          "text": "Resource"
         },
         "color": "white",
         "categoryorder": "array",
         "categoryarray": [
          "PACK #7",
          "GRIP & SCREW #6 -> PACK #7",
          "GRIP & SCREW #6",
          "GRIP #5",
          "KIT #3 -> GRIP #5",
          "KIT #3",
          "KIT #4",
          "Robot",
          "Human"
         ]
        },
        "width": 1305,
        "height": 450,
        "autosize": false,
        "plot_bgcolor": "black",
        "paper_bgcolor": "black",
        "barmode": "overlay",
        "bargap": 0.05,
        "bargroupgap": 0.0
       },
       "config": {
        "toImageButtonOptions": {
         "format": "png",
         "filename": "schedule",
         "width": 1305,
         "height": 450,
         "scale": 2
        },
        "plotlyServerURL": "https://plot.ly"
       }
      }
     },
     "metadata": {},
     "output_type": "display_data"
    }
   ],
   "execution_count": 6
  },
  {
   "metadata": {
    "ExecuteTime": {
     "end_time": "2025-09-22T15:18:31.238611Z",
     "start_time": "2025-09-22T15:18:31.230787Z"
    }
   },
   "cell_type": "code",
   "source": "",
   "id": "d88260fc7fbb18a1",
   "outputs": [],
   "execution_count": null
  }
 ],
 "metadata": {
  "kernelspec": {
   "display_name": "Python 3",
   "language": "python",
   "name": "python3"
  },
  "language_info": {
   "codemirror_mode": {
    "name": "ipython",
    "version": 2
   },
   "file_extension": ".py",
   "mimetype": "text/x-python",
   "name": "python",
   "nbconvert_exporter": "python",
   "pygments_lexer": "ipython2",
   "version": "2.7.6"
  }
 },
 "nbformat": 4,
 "nbformat_minor": 5
}
