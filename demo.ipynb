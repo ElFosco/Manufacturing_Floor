{
 "cells": [
  {
   "metadata": {
    "ExecuteTime": {
     "end_time": "2025-10-24T09:29:01.592951Z",
     "start_time": "2025-10-24T09:29:00.660606Z"
    }
   },
   "cell_type": "code",
   "source": [
    "from utils.jobshop_model_transport import FJTransportProblem\n",
    "from utils.costant import *\n",
    "from utils.utility import solve_all_and_gantt\n",
    "from utils.utility import tune"
   ],
   "id": "568a732ab16e7137",
   "outputs": [],
   "execution_count": 1
  },
  {
   "metadata": {
    "ExecuteTime": {
     "end_time": "2025-10-24T09:29:01.602428Z",
     "start_time": "2025-10-24T09:29:01.599424Z"
    }
   },
   "cell_type": "code",
   "source": "problem = FJTransportProblem(symmetry_breaking=True)",
   "id": "993201ef39528ba7",
   "outputs": [],
   "execution_count": 2
  },
  {
   "metadata": {
    "ExecuteTime": {
     "end_time": "2025-10-24T09:29:01.805249Z",
     "start_time": "2025-10-24T09:29:01.650959Z"
    }
   },
   "cell_type": "code",
   "source": [
    "problem.add_human()\n",
    "problem.add_human()\n",
    "problem.add_human()\n",
    "problem.set_dur_hum(HUMAN_JOBS_TIME)\n",
    "problem.add_robot()\n",
    "problem.add_robot()\n",
    "problem.set_dur_robot(ROBOT_JOBS_TIME)\n",
    "\n",
    "id_kit_1 = problem.add_workstation(WS_KITTING)\n",
    "id_kit_2 = problem.add_workstation(WS_KITTING)\n",
    "id_grip = problem.add_workstation(WS_BUILDING_1)\n",
    "id_gs = problem.add_workstation(WS_BUILDING_2)\n",
    "id_pal = problem.add_workstation(WS_PALLETTING)\n",
    "id_pal_2 = problem.add_workstation(WS_PALLETTING)\n",
    "\n",
    "problem.add_transport(id_kit_1, id_grip)\n",
    "problem.add_transport(id_kit_2,id_gs)\n",
    "problem.add_transport(id_grip, id_gs)\n",
    "problem.add_transport(id_gs, id_pal)\n",
    "\n",
    "problem.set_t_conv(3)\n",
    "problem.add_items_to_build(FLASHLIGHT_CLIPPED, 4)\n",
    "problem.add_items_to_build(FLASHLIGHT_SCREWS, 4)\n",
    "\n",
    "problem.make_ws_topology()\n"
   ],
   "id": "a9a9c0106150d8c0",
   "outputs": [
    {
     "data": {
      "application/vnd.plotly.v1+json": {
       "data": [],
       "layout": {
        "template": {
         "data": {
          "histogram2dcontour": [
           {
            "type": "histogram2dcontour",
            "colorbar": {
             "outlinewidth": 0,
             "ticks": ""
            },
            "colorscale": [
             [
              0.0,
              "#0d0887"
             ],
             [
              0.1111111111111111,
              "#46039f"
             ],
             [
              0.2222222222222222,
              "#7201a8"
             ],
             [
              0.3333333333333333,
              "#9c179e"
             ],
             [
              0.4444444444444444,
              "#bd3786"
             ],
             [
              0.5555555555555556,
              "#d8576b"
             ],
             [
              0.6666666666666666,
              "#ed7953"
             ],
             [
              0.7777777777777778,
              "#fb9f3a"
             ],
             [
              0.8888888888888888,
              "#fdca26"
             ],
             [
              1.0,
              "#f0f921"
             ]
            ]
           }
          ],
          "choropleth": [
           {
            "type": "choropleth",
            "colorbar": {
             "outlinewidth": 0,
             "ticks": ""
            }
           }
          ],
          "histogram2d": [
           {
            "type": "histogram2d",
            "colorbar": {
             "outlinewidth": 0,
             "ticks": ""
            },
            "colorscale": [
             [
              0.0,
              "#0d0887"
             ],
             [
              0.1111111111111111,
              "#46039f"
             ],
             [
              0.2222222222222222,
              "#7201a8"
             ],
             [
              0.3333333333333333,
              "#9c179e"
             ],
             [
              0.4444444444444444,
              "#bd3786"
             ],
             [
              0.5555555555555556,
              "#d8576b"
             ],
             [
              0.6666666666666666,
              "#ed7953"
             ],
             [
              0.7777777777777778,
              "#fb9f3a"
             ],
             [
              0.8888888888888888,
              "#fdca26"
             ],
             [
              1.0,
              "#f0f921"
             ]
            ]
           }
          ],
          "heatmap": [
           {
            "type": "heatmap",
            "colorbar": {
             "outlinewidth": 0,
             "ticks": ""
            },
            "colorscale": [
             [
              0.0,
              "#0d0887"
             ],
             [
              0.1111111111111111,
              "#46039f"
             ],
             [
              0.2222222222222222,
              "#7201a8"
             ],
             [
              0.3333333333333333,
              "#9c179e"
             ],
             [
              0.4444444444444444,
              "#bd3786"
             ],
             [
              0.5555555555555556,
              "#d8576b"
             ],
             [
              0.6666666666666666,
              "#ed7953"
             ],
             [
              0.7777777777777778,
              "#fb9f3a"
             ],
             [
              0.8888888888888888,
              "#fdca26"
             ],
             [
              1.0,
              "#f0f921"
             ]
            ]
           }
          ],
          "contourcarpet": [
           {
            "type": "contourcarpet",
            "colorbar": {
             "outlinewidth": 0,
             "ticks": ""
            }
           }
          ],
          "contour": [
           {
            "type": "contour",
            "colorbar": {
             "outlinewidth": 0,
             "ticks": ""
            },
            "colorscale": [
             [
              0.0,
              "#0d0887"
             ],
             [
              0.1111111111111111,
              "#46039f"
             ],
             [
              0.2222222222222222,
              "#7201a8"
             ],
             [
              0.3333333333333333,
              "#9c179e"
             ],
             [
              0.4444444444444444,
              "#bd3786"
             ],
             [
              0.5555555555555556,
              "#d8576b"
             ],
             [
              0.6666666666666666,
              "#ed7953"
             ],
             [
              0.7777777777777778,
              "#fb9f3a"
             ],
             [
              0.8888888888888888,
              "#fdca26"
             ],
             [
              1.0,
              "#f0f921"
             ]
            ]
           }
          ],
          "surface": [
           {
            "type": "surface",
            "colorbar": {
             "outlinewidth": 0,
             "ticks": ""
            },
            "colorscale": [
             [
              0.0,
              "#0d0887"
             ],
             [
              0.1111111111111111,
              "#46039f"
             ],
             [
              0.2222222222222222,
              "#7201a8"
             ],
             [
              0.3333333333333333,
              "#9c179e"
             ],
             [
              0.4444444444444444,
              "#bd3786"
             ],
             [
              0.5555555555555556,
              "#d8576b"
             ],
             [
              0.6666666666666666,
              "#ed7953"
             ],
             [
              0.7777777777777778,
              "#fb9f3a"
             ],
             [
              0.8888888888888888,
              "#fdca26"
             ],
             [
              1.0,
              "#f0f921"
             ]
            ]
           }
          ],
          "mesh3d": [
           {
            "type": "mesh3d",
            "colorbar": {
             "outlinewidth": 0,
             "ticks": ""
            }
           }
          ],
          "scatter": [
           {
            "fillpattern": {
             "fillmode": "overlay",
             "size": 10,
             "solidity": 0.2
            },
            "type": "scatter"
           }
          ],
          "parcoords": [
           {
            "type": "parcoords",
            "line": {
             "colorbar": {
              "outlinewidth": 0,
              "ticks": ""
             }
            }
           }
          ],
          "scatterpolargl": [
           {
            "type": "scatterpolargl",
            "marker": {
             "colorbar": {
              "outlinewidth": 0,
              "ticks": ""
             }
            }
           }
          ],
          "bar": [
           {
            "error_x": {
             "color": "#2a3f5f"
            },
            "error_y": {
             "color": "#2a3f5f"
            },
            "marker": {
             "line": {
              "color": "#E5ECF6",
              "width": 0.5
             },
             "pattern": {
              "fillmode": "overlay",
              "size": 10,
              "solidity": 0.2
             }
            },
            "type": "bar"
           }
          ],
          "scattergeo": [
           {
            "type": "scattergeo",
            "marker": {
             "colorbar": {
              "outlinewidth": 0,
              "ticks": ""
             }
            }
           }
          ],
          "scatterpolar": [
           {
            "type": "scatterpolar",
            "marker": {
             "colorbar": {
              "outlinewidth": 0,
              "ticks": ""
             }
            }
           }
          ],
          "histogram": [
           {
            "marker": {
             "pattern": {
              "fillmode": "overlay",
              "size": 10,
              "solidity": 0.2
             }
            },
            "type": "histogram"
           }
          ],
          "scattergl": [
           {
            "type": "scattergl",
            "marker": {
             "colorbar": {
              "outlinewidth": 0,
              "ticks": ""
             }
            }
           }
          ],
          "scatter3d": [
           {
            "type": "scatter3d",
            "line": {
             "colorbar": {
              "outlinewidth": 0,
              "ticks": ""
             }
            },
            "marker": {
             "colorbar": {
              "outlinewidth": 0,
              "ticks": ""
             }
            }
           }
          ],
          "scattermap": [
           {
            "type": "scattermap",
            "marker": {
             "colorbar": {
              "outlinewidth": 0,
              "ticks": ""
             }
            }
           }
          ],
          "scattermapbox": [
           {
            "type": "scattermapbox",
            "marker": {
             "colorbar": {
              "outlinewidth": 0,
              "ticks": ""
             }
            }
           }
          ],
          "scatterternary": [
           {
            "type": "scatterternary",
            "marker": {
             "colorbar": {
              "outlinewidth": 0,
              "ticks": ""
             }
            }
           }
          ],
          "scattercarpet": [
           {
            "type": "scattercarpet",
            "marker": {
             "colorbar": {
              "outlinewidth": 0,
              "ticks": ""
             }
            }
           }
          ],
          "carpet": [
           {
            "aaxis": {
             "endlinecolor": "#2a3f5f",
             "gridcolor": "white",
             "linecolor": "white",
             "minorgridcolor": "white",
             "startlinecolor": "#2a3f5f"
            },
            "baxis": {
             "endlinecolor": "#2a3f5f",
             "gridcolor": "white",
             "linecolor": "white",
             "minorgridcolor": "white",
             "startlinecolor": "#2a3f5f"
            },
            "type": "carpet"
           }
          ],
          "table": [
           {
            "cells": {
             "fill": {
              "color": "#EBF0F8"
             },
             "line": {
              "color": "white"
             }
            },
            "header": {
             "fill": {
              "color": "#C8D4E3"
             },
             "line": {
              "color": "white"
             }
            },
            "type": "table"
           }
          ],
          "barpolar": [
           {
            "marker": {
             "line": {
              "color": "#E5ECF6",
              "width": 0.5
             },
             "pattern": {
              "fillmode": "overlay",
              "size": 10,
              "solidity": 0.2
             }
            },
            "type": "barpolar"
           }
          ],
          "pie": [
           {
            "automargin": true,
            "type": "pie"
           }
          ]
         },
         "layout": {
          "autotypenumbers": "strict",
          "colorway": [
           "#636efa",
           "#EF553B",
           "#00cc96",
           "#ab63fa",
           "#FFA15A",
           "#19d3f3",
           "#FF6692",
           "#B6E880",
           "#FF97FF",
           "#FECB52"
          ],
          "font": {
           "color": "#2a3f5f"
          },
          "hovermode": "closest",
          "hoverlabel": {
           "align": "left"
          },
          "paper_bgcolor": "white",
          "plot_bgcolor": "#E5ECF6",
          "polar": {
           "bgcolor": "#E5ECF6",
           "angularaxis": {
            "gridcolor": "white",
            "linecolor": "white",
            "ticks": ""
           },
           "radialaxis": {
            "gridcolor": "white",
            "linecolor": "white",
            "ticks": ""
           }
          },
          "ternary": {
           "bgcolor": "#E5ECF6",
           "aaxis": {
            "gridcolor": "white",
            "linecolor": "white",
            "ticks": ""
           },
           "baxis": {
            "gridcolor": "white",
            "linecolor": "white",
            "ticks": ""
           },
           "caxis": {
            "gridcolor": "white",
            "linecolor": "white",
            "ticks": ""
           }
          },
          "coloraxis": {
           "colorbar": {
            "outlinewidth": 0,
            "ticks": ""
           }
          },
          "colorscale": {
           "sequential": [
            [
             0.0,
             "#0d0887"
            ],
            [
             0.1111111111111111,
             "#46039f"
            ],
            [
             0.2222222222222222,
             "#7201a8"
            ],
            [
             0.3333333333333333,
             "#9c179e"
            ],
            [
             0.4444444444444444,
             "#bd3786"
            ],
            [
             0.5555555555555556,
             "#d8576b"
            ],
            [
             0.6666666666666666,
             "#ed7953"
            ],
            [
             0.7777777777777778,
             "#fb9f3a"
            ],
            [
             0.8888888888888888,
             "#fdca26"
            ],
            [
             1.0,
             "#f0f921"
            ]
           ],
           "sequentialminus": [
            [
             0.0,
             "#0d0887"
            ],
            [
             0.1111111111111111,
             "#46039f"
            ],
            [
             0.2222222222222222,
             "#7201a8"
            ],
            [
             0.3333333333333333,
             "#9c179e"
            ],
            [
             0.4444444444444444,
             "#bd3786"
            ],
            [
             0.5555555555555556,
             "#d8576b"
            ],
            [
             0.6666666666666666,
             "#ed7953"
            ],
            [
             0.7777777777777778,
             "#fb9f3a"
            ],
            [
             0.8888888888888888,
             "#fdca26"
            ],
            [
             1.0,
             "#f0f921"
            ]
           ],
           "diverging": [
            [
             0,
             "#8e0152"
            ],
            [
             0.1,
             "#c51b7d"
            ],
            [
             0.2,
             "#de77ae"
            ],
            [
             0.3,
             "#f1b6da"
            ],
            [
             0.4,
             "#fde0ef"
            ],
            [
             0.5,
             "#f7f7f7"
            ],
            [
             0.6,
             "#e6f5d0"
            ],
            [
             0.7,
             "#b8e186"
            ],
            [
             0.8,
             "#7fbc41"
            ],
            [
             0.9,
             "#4d9221"
            ],
            [
             1,
             "#276419"
            ]
           ]
          },
          "xaxis": {
           "gridcolor": "white",
           "linecolor": "white",
           "ticks": "",
           "title": {
            "standoff": 15
           },
           "zerolinecolor": "white",
           "automargin": true,
           "zerolinewidth": 2
          },
          "yaxis": {
           "gridcolor": "white",
           "linecolor": "white",
           "ticks": "",
           "title": {
            "standoff": 15
           },
           "zerolinecolor": "white",
           "automargin": true,
           "zerolinewidth": 2
          },
          "scene": {
           "xaxis": {
            "backgroundcolor": "#E5ECF6",
            "gridcolor": "white",
            "linecolor": "white",
            "showbackground": true,
            "ticks": "",
            "zerolinecolor": "white",
            "gridwidth": 2
           },
           "yaxis": {
            "backgroundcolor": "#E5ECF6",
            "gridcolor": "white",
            "linecolor": "white",
            "showbackground": true,
            "ticks": "",
            "zerolinecolor": "white",
            "gridwidth": 2
           },
           "zaxis": {
            "backgroundcolor": "#E5ECF6",
            "gridcolor": "white",
            "linecolor": "white",
            "showbackground": true,
            "ticks": "",
            "zerolinecolor": "white",
            "gridwidth": 2
           }
          },
          "shapedefaults": {
           "line": {
            "color": "#2a3f5f"
           }
          },
          "annotationdefaults": {
           "arrowcolor": "#2a3f5f",
           "arrowhead": 0,
           "arrowwidth": 1
          },
          "geo": {
           "bgcolor": "white",
           "landcolor": "#E5ECF6",
           "subunitcolor": "white",
           "showland": true,
           "showlakes": true,
           "lakecolor": "white"
          },
          "title": {
           "x": 0.05
          },
          "mapbox": {
           "style": "light"
          }
         }
        },
        "title": {
         "font": {
          "size": 27
         },
         "pad": {
          "t": 0,
          "b": 0,
          "l": 0,
          "r": 0
         },
         "text": "Workstation Topology",
         "x": 0.5,
         "xanchor": "center"
        },
        "xaxis": {
         "visible": false,
         "range": [
          -3.1875,
          16.4375
         ]
        },
        "yaxis": {
         "visible": false,
         "range": [
          -2.0625,
          4.6875
         ],
         "scaleanchor": "x",
         "scaleratio": 1
        },
        "margin": {
         "l": 0,
         "r": 0,
         "t": 0,
         "b": 0
        },
        "paper_bgcolor": "black",
        "plot_bgcolor": "black",
        "shapes": [
         {
          "fillcolor": "rgba(66,135,245,0.10)",
          "line": {
           "width": 0
          },
          "type": "rect",
          "x0": -3.125,
          "x1": 3.125,
          "xref": "x",
          "y0": -2.0,
          "y1": 2.0,
          "yref": "y"
         },
         {
          "fillcolor": "rgba(66,135,245,1)",
          "line": {
           "color": "white",
           "width": 2
          },
          "type": "rect",
          "x0": -1.875,
          "x1": 1.875,
          "xref": "x",
          "y0": 0.40625,
          "y1": 1.34375,
          "yref": "y"
         },
         {
          "fillcolor": "rgba(66,135,245,1)",
          "line": {
           "color": "white",
           "width": 2
          },
          "type": "rect",
          "x0": -1.875,
          "x1": 1.875,
          "xref": "x",
          "y0": -1.34375,
          "y1": -0.40625,
          "yref": "y"
         },
         {
          "fillcolor": "rgba(255,159,67,0.10)",
          "line": {
           "width": 0
          },
          "type": "rect",
          "x0": 3.5,
          "x1": 9.75,
          "xref": "x",
          "y0": -2.0,
          "y1": 2.0,
          "yref": "y"
         },
         {
          "fillcolor": "rgba(40,199,111,1)",
          "line": {
           "color": "white",
           "width": 2
          },
          "type": "rect",
          "x0": 4.75,
          "x1": 8.5,
          "xref": "x",
          "y0": 0.40625,
          "y1": 1.34375,
          "yref": "y"
         },
         {
          "fillcolor": "rgba(255,159,67,1)",
          "line": {
           "color": "white",
           "width": 2
          },
          "type": "rect",
          "x0": 4.75,
          "x1": 8.5,
          "xref": "x",
          "y0": -1.34375,
          "y1": -0.40625,
          "yref": "y"
         },
         {
          "fillcolor": "rgba(235,87,87,0.10)",
          "line": {
           "width": 0
          },
          "type": "rect",
          "x0": 10.125,
          "x1": 16.375,
          "xref": "x",
          "y0": -2.0,
          "y1": 2.0,
          "yref": "y"
         },
         {
          "fillcolor": "rgba(235,87,87,1)",
          "line": {
           "color": "white",
           "width": 2
          },
          "type": "rect",
          "x0": 11.375,
          "x1": 15.125,
          "xref": "x",
          "y0": 0.40625,
          "y1": 1.34375,
          "yref": "y"
         },
         {
          "fillcolor": "rgba(235,87,87,1)",
          "line": {
           "color": "white",
           "width": 2
          },
          "type": "rect",
          "x0": 11.375,
          "x1": 15.125,
          "xref": "x",
          "y0": -1.34375,
          "y1": -0.40625,
          "yref": "y"
         },
         {
          "fillcolor": "#C64191",
          "line": {
           "color": "white",
           "width": 2
          },
          "type": "rect",
          "x0": 7.375,
          "x1": 9.875,
          "xref": "x",
          "y0": 3.375,
          "y1": 4.625,
          "yref": "y"
         },
         {
          "fillcolor": "#DCABDF",
          "line": {
           "color": "white",
           "width": 2
          },
          "type": "rect",
          "x0": 3.375,
          "x1": 5.875,
          "xref": "x",
          "y0": 3.375,
          "y1": 4.625,
          "yref": "y"
         }
        ],
        "annotations": [
         {
          "font": {
           "color": "#FFFFFF",
           "size": 37
          },
          "showarrow": false,
          "text": "<b>Kitting</b>",
          "x": 0.0,
          "xanchor": "center",
          "xref": "x",
          "y": 2.125,
          "yref": "y"
         },
         {
          "font": {
           "color": "#FFFFFF",
           "size": 40
          },
          "showarrow": false,
          "text": "<b>id:6 kitting</b>",
          "x": 0.0,
          "xanchor": "center",
          "xref": "x",
          "y": 0.875,
          "yanchor": "middle",
          "yref": "y"
         },
         {
          "font": {
           "color": "#FFFFFF",
           "size": 40
          },
          "showarrow": false,
          "text": "<b>id:7 kitting</b>",
          "x": 0.0,
          "xanchor": "center",
          "xref": "x",
          "y": -0.875,
          "yanchor": "middle",
          "yref": "y"
         },
         {
          "font": {
           "color": "#FFFFFF",
           "size": 37
          },
          "showarrow": false,
          "text": "<b>Build</b>",
          "x": 6.625,
          "xanchor": "center",
          "xref": "x",
          "y": 2.125,
          "yref": "y"
         },
         {
          "font": {
           "color": "#FFFFFF",
           "size": 40
          },
          "showarrow": false,
          "text": "<b>id:8 grip</b>",
          "x": 6.625,
          "xanchor": "center",
          "xref": "x",
          "y": 0.875,
          "yanchor": "middle",
          "yref": "y"
         },
         {
          "font": {
           "color": "#FFFFFF",
           "size": 40
          },
          "showarrow": false,
          "text": "<b>id:9 grip & screws</b>",
          "x": 6.625,
          "xanchor": "center",
          "xref": "x",
          "y": -0.875,
          "yanchor": "middle",
          "yref": "y"
         },
         {
          "font": {
           "color": "#FFFFFF",
           "size": 37
          },
          "showarrow": false,
          "text": "<b>Packing</b>",
          "x": 13.25,
          "xanchor": "center",
          "xref": "x",
          "y": 2.125,
          "yref": "y"
         },
         {
          "font": {
           "color": "#FFFFFF",
           "size": 40
          },
          "showarrow": false,
          "text": "<b>id:10 pallet</b>",
          "x": 13.25,
          "xanchor": "center",
          "xref": "x",
          "y": 0.875,
          "yanchor": "middle",
          "yref": "y"
         },
         {
          "font": {
           "color": "#FFFFFF",
           "size": 40
          },
          "showarrow": false,
          "text": "<b>id:11 pallet</b>",
          "x": 13.25,
          "xanchor": "center",
          "xref": "x",
          "y": -0.875,
          "yanchor": "middle",
          "yref": "y"
         },
         {
          "font": {
           "color": "#000000",
           "size": 40
          },
          "showarrow": false,
          "text": "<b>3 operators</b>",
          "x": 8.625,
          "xanchor": "center",
          "xref": "x",
          "y": 4.0,
          "yanchor": "middle",
          "yref": "y"
         },
         {
          "font": {
           "color": "#000000",
           "size": 40
          },
          "showarrow": false,
          "text": "<b>2 robots</b>",
          "x": 4.625,
          "xanchor": "center",
          "xref": "x",
          "y": 4.0,
          "yanchor": "middle",
          "yref": "y"
         },
         {
          "arrowcolor": "#DDDDDD",
          "arrowhead": 3,
          "arrowsize": 2.2,
          "arrowwidth": 4,
          "ax": 1.875,
          "axref": "x",
          "ay": 0.875,
          "ayref": "y",
          "opacity": 1.0,
          "showarrow": true,
          "text": "",
          "x": 4.75,
          "xref": "x",
          "y": 0.875,
          "yref": "y"
         },
         {
          "arrowcolor": "#DDDDDD",
          "arrowhead": 3,
          "arrowsize": 2.2,
          "arrowwidth": 4,
          "ax": 1.875,
          "axref": "x",
          "ay": -0.875,
          "ayref": "y",
          "opacity": 1.0,
          "showarrow": true,
          "text": "",
          "x": 4.75,
          "xref": "x",
          "y": -0.875,
          "yref": "y"
         },
         {
          "arrowcolor": "#DDDDDD",
          "arrowhead": 3,
          "arrowsize": 2.2,
          "arrowwidth": 4,
          "ax": 6.625,
          "axref": "x",
          "ay": 0.40625,
          "ayref": "y",
          "opacity": 1.0,
          "showarrow": true,
          "text": "",
          "x": 6.625,
          "xref": "x",
          "y": -0.40625,
          "yref": "y"
         },
         {
          "arrowcolor": "#DDDDDD",
          "arrowhead": 3,
          "arrowsize": 2.2,
          "arrowwidth": 4,
          "ax": 8.5,
          "axref": "x",
          "ay": -0.875,
          "ayref": "y",
          "opacity": 1.0,
          "showarrow": true,
          "text": "",
          "x": 11.375,
          "xref": "x",
          "y": 0.875,
          "yref": "y"
         }
        ],
        "width": 1400,
        "height": 600,
        "autosize": false
       },
       "config": {
        "plotlyServerURL": "https://plot.ly"
       }
      }
     },
     "metadata": {},
     "output_type": "display_data"
    }
   ],
   "execution_count": 3
  },
  {
   "metadata": {
    "ExecuteTime": {
     "end_time": "2025-10-24T09:29:01.955556Z",
     "start_time": "2025-10-24T09:29:01.931110Z"
    }
   },
   "cell_type": "code",
   "source": "problem.model_problem(objective_type=0)",
   "id": "92b43e1518d94455",
   "outputs": [],
   "execution_count": 4
  },
  {
   "metadata": {
    "ExecuteTime": {
     "end_time": "2025-10-24T09:29:10.200215Z",
     "start_time": "2025-10-24T09:29:02.990128Z"
    }
   },
   "cell_type": "code",
   "source": "problem.solve(solver='ortools')",
   "id": "2002e5b000ee2df1",
   "outputs": [
    {
     "name": "stdout",
     "output_type": "stream",
     "text": [
      "Solution found with makespan: 105\n",
      "Computational time: 7.205 seconds\n"
     ]
    },
    {
     "data": {
      "text/plain": [
       "(True, 7.204955339431763, <ExitStatus.OPTIMAL: 2>)"
      ]
     },
     "execution_count": 5,
     "metadata": {},
     "output_type": "execute_result"
    }
   ],
   "execution_count": 5
  },
  {
   "metadata": {
    "ExecuteTime": {
     "end_time": "2025-10-24T08:37:06.664601Z",
     "start_time": "2025-10-24T08:37:06.425504Z"
    }
   },
   "cell_type": "code",
   "source": "problem.make_gantt()",
   "id": "4890bfb2bd2f7264",
   "outputs": [
    {
     "data": {
      "application/vnd.plotly.v1+json": {
       "data": [
        {
         "alignmentgroup": "PACK #11",
         "base": [
          47
         ],
         "hoverinfo": "text",
         "hovertext": [
          "Item 1 – P (Packaging)<br>Start: 47 End: 62"
         ],
         "legendgroup": "1",
         "marker": {
          "color": "#636EFA",
          "line": {
           "color": "white",
           "width": 3
          },
          "pattern": {
           "shape": [
            ""
           ],
           "size": 10,
           "solidity": 0.5
          }
         },
         "name": "1",
         "offsetgroup": "PACK #11",
         "orientation": "h",
         "showlegend": true,
         "width": 0.5,
         "x": {
          "dtype": "i1",
          "bdata": "Dw=="
         },
         "y": [
          "PACK #11"
         ],
         "type": "bar"
        },
        {
         "alignmentgroup": "GRIP & SCREW #9",
         "base": [
          14
         ],
         "hoverinfo": "text",
         "hovertext": [
          "Item 1 – B1 (Assembly core)<br>Start: 14 End: 34"
         ],
         "legendgroup": "1",
         "marker": {
          "color": "#636EFA",
          "line": {
           "color": "white",
           "width": 3
          },
          "pattern": {
           "shape": [
            ""
           ],
           "size": 10,
           "solidity": 0.5
          }
         },
         "name": "1",
         "offsetgroup": "GRIP & SCREW #9",
         "orientation": "h",
         "showlegend": false,
         "width": 0.5,
         "x": {
          "dtype": "i1",
          "bdata": "FA=="
         },
         "y": [
          "GRIP & SCREW #9"
         ],
         "type": "bar"
        },
        {
         "alignmentgroup": "KIT #7",
         "base": [
          0
         ],
         "hoverinfo": "text",
         "hovertext": [
          "Item 1 – K1 (Kitting)<br>Start: 0 End: 10"
         ],
         "legendgroup": "1",
         "marker": {
          "color": "#636EFA",
          "line": {
           "color": "white",
           "width": 3
          },
          "pattern": {
           "shape": [
            ""
           ],
           "size": 10,
           "solidity": 0.5
          }
         },
         "name": "1",
         "offsetgroup": "KIT #7",
         "orientation": "h",
         "showlegend": false,
         "width": 0.5,
         "x": {
          "dtype": "i1",
          "bdata": "Cg=="
         },
         "y": [
          "KIT #7"
         ],
         "type": "bar"
        },
        {
         "hoverinfo": "skip",
         "legendgroup": "1",
         "line": {
          "color": "#636EFA",
          "dash": "dot",
          "width": 8
         },
         "mode": "lines",
         "name": "1 transport",
         "showlegend": false,
         "x": [
          42,
          47
         ],
         "y": [
          "Operator #1",
          "Operator #1"
         ],
         "type": "scatter"
        },
        {
         "alignmentgroup": "PACK #10",
         "base": [
          89
         ],
         "hoverinfo": "text",
         "hovertext": [
          "Item 2 – P (Packaging) (machine occupied)<br>Start: 89 End: 94"
         ],
         "legendgroup": "2",
         "marker": {
          "color": "#EF553B",
          "line": {
           "color": "white",
           "width": 3
          },
          "pattern": {
           "shape": [
            "/"
           ],
           "size": 10,
           "solidity": 0.5
          }
         },
         "name": "2",
         "offsetgroup": "PACK #10",
         "orientation": "h",
         "showlegend": true,
         "width": 0.5,
         "x": {
          "dtype": "i1",
          "bdata": "BQ=="
         },
         "y": [
          "PACK #10"
         ],
         "type": "bar"
        },
        {
         "alignmentgroup": "PACK #10",
         "base": [
          89
         ],
         "hoverinfo": "text",
         "hovertext": [
          "Item 2 – P (Packaging) (machine occupied)<br>Start: 89 End: 94"
         ],
         "legendgroup": "2",
         "marker": {
          "color": "#EF553B",
          "line": {
           "color": "white",
           "width": 3
          },
          "pattern": {
           "fgcolor": "white",
           "shape": [
            "/"
           ],
           "size": 10,
           "solidity": 0.7
          }
         },
         "name": "2",
         "offsetgroup": "PACK #10",
         "orientation": "h",
         "showlegend": false,
         "width": 0.5,
         "x": {
          "dtype": "i1",
          "bdata": "BQ=="
         },
         "y": [
          "PACK #10"
         ],
         "type": "bar"
        },
        {
         "alignmentgroup": "GRIP #8",
         "base": [
          55
         ],
         "hoverinfo": "text",
         "hovertext": [
          "Item 2 – B1 (Assembly core)<br>Start: 55 End: 65"
         ],
         "legendgroup": "2",
         "marker": {
          "color": "#EF553B",
          "line": {
           "color": "white",
           "width": 3
          },
          "pattern": {
           "shape": [
            ""
           ],
           "size": 10,
           "solidity": 0.5
          }
         },
         "name": "2",
         "offsetgroup": "GRIP #8",
         "orientation": "h",
         "showlegend": false,
         "width": 0.5,
         "x": {
          "dtype": "i1",
          "bdata": "Cg=="
         },
         "y": [
          "GRIP #8"
         ],
         "type": "bar"
        },
        {
         "alignmentgroup": "KIT #6",
         "base": [
          40
         ],
         "hoverinfo": "text",
         "hovertext": [
          "Item 2 – K1 (Kitting)<br>Start: 40 End: 50"
         ],
         "legendgroup": "2",
         "marker": {
          "color": "#EF553B",
          "line": {
           "color": "white",
           "width": 3
          },
          "pattern": {
           "shape": [
            ""
           ],
           "size": 10,
           "solidity": 0.5
          }
         },
         "name": "2",
         "offsetgroup": "KIT #6",
         "orientation": "h",
         "showlegend": false,
         "width": 0.5,
         "x": {
          "dtype": "i1",
          "bdata": "Cg=="
         },
         "y": [
          "KIT #6"
         ],
         "type": "bar"
        },
        {
         "alignmentgroup": "Operator #2",
         "base": [
          89
         ],
         "hoverinfo": "text",
         "hovertext": [
          "Item 2 – P (Packaging)<br>Start: 89 End: 94"
         ],
         "legendgroup": "2",
         "marker": {
          "color": "#EF553B",
          "line": {
           "color": "white",
           "width": 3
          },
          "pattern": {
           "shape": [
            "/"
           ],
           "size": 10,
           "solidity": 0.5
          }
         },
         "name": "2",
         "offsetgroup": "Operator #2",
         "orientation": "h",
         "showlegend": false,
         "width": 0.5,
         "x": {
          "dtype": "i1",
          "bdata": "BQ=="
         },
         "y": [
          "Operator #2"
         ],
         "type": "bar"
        },
        {
         "alignmentgroup": "Operator #2",
         "base": [
          89
         ],
         "hoverinfo": "text",
         "hovertext": [
          "Item 2 – P (Packaging)<br>Start: 89 End: 94"
         ],
         "legendgroup": "2",
         "marker": {
          "color": "#EF553B",
          "line": {
           "color": "white",
           "width": 3
          },
          "pattern": {
           "fgcolor": "white",
           "shape": [
            "/"
           ],
           "size": 10,
           "solidity": 0.7
          }
         },
         "name": "2",
         "offsetgroup": "Operator #2",
         "orientation": "h",
         "showlegend": false,
         "width": 0.5,
         "x": {
          "dtype": "i1",
          "bdata": "BQ=="
         },
         "y": [
          "Operator #2"
         ],
         "type": "bar"
        },
        {
         "hoverinfo": "skip",
         "legendgroup": "2",
         "line": {
          "color": "#EF553B",
          "dash": "dot",
          "width": 8
         },
         "mode": "lines",
         "name": "2 transport",
         "showlegend": false,
         "x": [
          65,
          73
         ],
         "y": [
          "Robot #1",
          "Robot #1"
         ],
         "type": "scatter"
        },
        {
         "hoverinfo": "skip",
         "legendgroup": "2",
         "line": {
          "color": "#EF553B",
          "dash": "dot",
          "width": 8
         },
         "mode": "lines",
         "name": "2 transport",
         "showlegend": false,
         "x": [
          50,
          55
         ],
         "y": [
          "Operator #1",
          "Operator #1"
         ],
         "type": "scatter"
        },
        {
         "alignmentgroup": "PACK #10",
         "base": [
          94
         ],
         "hoverinfo": "text",
         "hovertext": [
          "Item 3 – P (Packaging) (machine occupied)<br>Start: 94 End: 99"
         ],
         "legendgroup": "3",
         "marker": {
          "color": "#00CC96",
          "line": {
           "color": "white",
           "width": 3
          },
          "pattern": {
           "shape": [
            "/"
           ],
           "size": 10,
           "solidity": 0.5
          }
         },
         "name": "3",
         "offsetgroup": "PACK #10",
         "orientation": "h",
         "showlegend": true,
         "width": 0.5,
         "x": {
          "dtype": "i1",
          "bdata": "BQ=="
         },
         "y": [
          "PACK #10"
         ],
         "type": "bar"
        },
        {
         "alignmentgroup": "PACK #10",
         "base": [
          94
         ],
         "hoverinfo": "text",
         "hovertext": [
          "Item 3 – P (Packaging) (machine occupied)<br>Start: 94 End: 99"
         ],
         "legendgroup": "3",
         "marker": {
          "color": "#00CC96",
          "line": {
           "color": "white",
           "width": 3
          },
          "pattern": {
           "fgcolor": "white",
           "shape": [
            "/"
           ],
           "size": 10,
           "solidity": 0.7
          }
         },
         "name": "3",
         "offsetgroup": "PACK #10",
         "orientation": "h",
         "showlegend": false,
         "width": 0.5,
         "x": {
          "dtype": "i1",
          "bdata": "BQ=="
         },
         "y": [
          "PACK #10"
         ],
         "type": "bar"
        },
        {
         "alignmentgroup": "GRIP #8",
         "base": [
          75
         ],
         "hoverinfo": "text",
         "hovertext": [
          "Item 3 – B1 (Assembly core)<br>Start: 75 End: 85"
         ],
         "legendgroup": "3",
         "marker": {
          "color": "#00CC96",
          "line": {
           "color": "white",
           "width": 3
          },
          "pattern": {
           "shape": [
            ""
           ],
           "size": 10,
           "solidity": 0.5
          }
         },
         "name": "3",
         "offsetgroup": "GRIP #8",
         "orientation": "h",
         "showlegend": false,
         "width": 0.5,
         "x": {
          "dtype": "i1",
          "bdata": "Cg=="
         },
         "y": [
          "GRIP #8"
         ],
         "type": "bar"
        },
        {
         "alignmentgroup": "KIT #7",
         "base": [
          55
         ],
         "hoverinfo": "text",
         "hovertext": [
          "Item 3 – K1 (Kitting)<br>Start: 55 End: 65"
         ],
         "legendgroup": "3",
         "marker": {
          "color": "#00CC96",
          "line": {
           "color": "white",
           "width": 3
          },
          "pattern": {
           "shape": [
            ""
           ],
           "size": 10,
           "solidity": 0.5
          }
         },
         "name": "3",
         "offsetgroup": "KIT #7",
         "orientation": "h",
         "showlegend": false,
         "width": 0.5,
         "x": {
          "dtype": "i1",
          "bdata": "Cg=="
         },
         "y": [
          "KIT #7"
         ],
         "type": "bar"
        },
        {
         "alignmentgroup": "Operator #1",
         "base": [
          94
         ],
         "hoverinfo": "text",
         "hovertext": [
          "Item 3 – P (Packaging)<br>Start: 94 End: 99"
         ],
         "legendgroup": "3",
         "marker": {
          "color": "#00CC96",
          "line": {
           "color": "white",
           "width": 3
          },
          "pattern": {
           "shape": [
            "/"
           ],
           "size": 10,
           "solidity": 0.5
          }
         },
         "name": "3",
         "offsetgroup": "Operator #1",
         "orientation": "h",
         "showlegend": false,
         "width": 0.5,
         "x": {
          "dtype": "i1",
          "bdata": "BQ=="
         },
         "y": [
          "Operator #1"
         ],
         "type": "bar"
        },
        {
         "alignmentgroup": "Operator #1",
         "base": [
          94
         ],
         "hoverinfo": "text",
         "hovertext": [
          "Item 3 – P (Packaging)<br>Start: 94 End: 99"
         ],
         "legendgroup": "3",
         "marker": {
          "color": "#00CC96",
          "line": {
           "color": "white",
           "width": 3
          },
          "pattern": {
           "fgcolor": "white",
           "shape": [
            "/"
           ],
           "size": 10,
           "solidity": 0.7
          }
         },
         "name": "3",
         "offsetgroup": "Operator #1",
         "orientation": "h",
         "showlegend": false,
         "width": 0.5,
         "x": {
          "dtype": "i1",
          "bdata": "BQ=="
         },
         "y": [
          "Operator #1"
         ],
         "type": "bar"
        },
        {
         "hoverinfo": "skip",
         "legendgroup": "3",
         "line": {
          "color": "#00CC96",
          "dash": "dot",
          "width": 8
         },
         "mode": "lines",
         "name": "3 transport",
         "showlegend": false,
         "x": [
          85,
          93
         ],
         "y": [
          "Robot #1",
          "Robot #1"
         ],
         "type": "scatter"
        },
        {
         "hoverinfo": "skip",
         "legendgroup": "3",
         "line": {
          "color": "#00CC96",
          "dash": "dot",
          "width": 8
         },
         "mode": "lines",
         "name": "3 transport",
         "showlegend": false,
         "x": [
          65,
          70
         ],
         "y": [
          "Operator #1",
          "Operator #1"
         ],
         "type": "scatter"
        },
        {
         "alignmentgroup": "PACK #11",
         "base": [
          100
         ],
         "hoverinfo": "text",
         "hovertext": [
          "Item 4 – P (Packaging) (machine occupied)<br>Start: 100 End: 105"
         ],
         "legendgroup": "4",
         "marker": {
          "color": "#AB63FA",
          "line": {
           "color": "white",
           "width": 3
          },
          "pattern": {
           "shape": [
            "/"
           ],
           "size": 10,
           "solidity": 0.5
          }
         },
         "name": "4",
         "offsetgroup": "PACK #11",
         "orientation": "h",
         "showlegend": true,
         "width": 0.5,
         "x": {
          "dtype": "i1",
          "bdata": "BQ=="
         },
         "y": [
          "PACK #11"
         ],
         "type": "bar"
        },
        {
         "alignmentgroup": "PACK #11",
         "base": [
          100
         ],
         "hoverinfo": "text",
         "hovertext": [
          "Item 4 – P (Packaging) (machine occupied)<br>Start: 100 End: 105"
         ],
         "legendgroup": "4",
         "marker": {
          "color": "#AB63FA",
          "line": {
           "color": "white",
           "width": 3
          },
          "pattern": {
           "fgcolor": "white",
           "shape": [
            "/"
           ],
           "size": 10,
           "solidity": 0.7
          }
         },
         "name": "4",
         "offsetgroup": "PACK #11",
         "orientation": "h",
         "showlegend": false,
         "width": 0.5,
         "x": {
          "dtype": "i1",
          "bdata": "BQ=="
         },
         "y": [
          "PACK #11"
         ],
         "type": "bar"
        },
        {
         "alignmentgroup": "GRIP #8",
         "base": [
          85
         ],
         "hoverinfo": "text",
         "hovertext": [
          "Item 4 – B1 (Assembly core)<br>Start: 85 End: 95"
         ],
         "legendgroup": "4",
         "marker": {
          "color": "#AB63FA",
          "line": {
           "color": "white",
           "width": 3
          },
          "pattern": {
           "shape": [
            ""
           ],
           "size": 10,
           "solidity": 0.5
          }
         },
         "name": "4",
         "offsetgroup": "GRIP #8",
         "orientation": "h",
         "showlegend": false,
         "width": 0.5,
         "x": {
          "dtype": "i1",
          "bdata": "Cg=="
         },
         "y": [
          "GRIP #8"
         ],
         "type": "bar"
        },
        {
         "alignmentgroup": "KIT #7",
         "base": [
          65
         ],
         "hoverinfo": "text",
         "hovertext": [
          "Item 4 – K1 (Kitting)<br>Start: 65 End: 75"
         ],
         "legendgroup": "4",
         "marker": {
          "color": "#AB63FA",
          "line": {
           "color": "white",
           "width": 3
          },
          "pattern": {
           "shape": [
            ""
           ],
           "size": 10,
           "solidity": 0.5
          }
         },
         "name": "4",
         "offsetgroup": "KIT #7",
         "orientation": "h",
         "showlegend": false,
         "width": 0.5,
         "x": {
          "dtype": "i1",
          "bdata": "Cg=="
         },
         "y": [
          "KIT #7"
         ],
         "type": "bar"
        },
        {
         "alignmentgroup": "Operator #3",
         "base": [
          100
         ],
         "hoverinfo": "text",
         "hovertext": [
          "Item 4 – P (Packaging)<br>Start: 100 End: 105"
         ],
         "legendgroup": "4",
         "marker": {
          "color": "#AB63FA",
          "line": {
           "color": "white",
           "width": 3
          },
          "pattern": {
           "shape": [
            "/"
           ],
           "size": 10,
           "solidity": 0.5
          }
         },
         "name": "4",
         "offsetgroup": "Operator #3",
         "orientation": "h",
         "showlegend": false,
         "width": 0.5,
         "x": {
          "dtype": "i1",
          "bdata": "BQ=="
         },
         "y": [
          "Operator #3"
         ],
         "type": "bar"
        },
        {
         "alignmentgroup": "Operator #3",
         "base": [
          100
         ],
         "hoverinfo": "text",
         "hovertext": [
          "Item 4 – P (Packaging)<br>Start: 100 End: 105"
         ],
         "legendgroup": "4",
         "marker": {
          "color": "#AB63FA",
          "line": {
           "color": "white",
           "width": 3
          },
          "pattern": {
           "fgcolor": "white",
           "shape": [
            "/"
           ],
           "size": 10,
           "solidity": 0.7
          }
         },
         "name": "4",
         "offsetgroup": "Operator #3",
         "orientation": "h",
         "showlegend": false,
         "width": 0.5,
         "x": {
          "dtype": "i1",
          "bdata": "BQ=="
         },
         "y": [
          "Operator #3"
         ],
         "type": "bar"
        },
        {
         "hoverinfo": "skip",
         "legendgroup": "4",
         "line": {
          "color": "#AB63FA",
          "dash": "dot",
          "width": 8
         },
         "mode": "lines",
         "name": "4 transport",
         "showlegend": false,
         "x": [
          95,
          100
         ],
         "y": [
          "Operator #3",
          "Operator #3"
         ],
         "type": "scatter"
        },
        {
         "hoverinfo": "skip",
         "legendgroup": "4",
         "line": {
          "color": "#AB63FA",
          "dash": "dot",
          "width": 8
         },
         "mode": "lines",
         "name": "4 transport",
         "showlegend": false,
         "x": [
          75,
          83
         ],
         "y": [
          "Robot #1",
          "Robot #1"
         ],
         "type": "scatter"
        },
        {
         "alignmentgroup": "PACK #10",
         "base": [
          60
         ],
         "hoverinfo": "text",
         "hovertext": [
          "Item 5 – P (Packaging)<br>Start: 60 End: 75"
         ],
         "legendgroup": "5",
         "marker": {
          "color": "#FFA15A",
          "line": {
           "color": "white",
           "width": 3
          },
          "pattern": {
           "shape": [
            ""
           ],
           "size": 10,
           "solidity": 0.5
          }
         },
         "name": "5",
         "offsetgroup": "PACK #10",
         "orientation": "h",
         "showlegend": true,
         "width": 0.5,
         "x": {
          "dtype": "i1",
          "bdata": "Dw=="
         },
         "y": [
          "PACK #10"
         ],
         "type": "bar"
        },
        {
         "alignmentgroup": "GRIP & SCREW #9",
         "base": [
          36
         ],
         "hoverinfo": "text",
         "hovertext": [
          "Item 5 – B2 (Screw insertion)<br>Start: 36 End: 51"
         ],
         "legendgroup": "5",
         "marker": {
          "color": "#FFA15A",
          "line": {
           "color": "white",
           "width": 3
          },
          "pattern": {
           "shape": [
            ""
           ],
           "size": 10,
           "solidity": 0.5
          }
         },
         "name": "5",
         "offsetgroup": "GRIP & SCREW #9",
         "orientation": "h",
         "showlegend": false,
         "width": 0.5,
         "x": {
          "dtype": "i1",
          "bdata": "Dw=="
         },
         "y": [
          "GRIP & SCREW #9"
         ],
         "type": "bar"
        },
        {
         "alignmentgroup": "GRIP #8",
         "base": [
          23
         ],
         "hoverinfo": "text",
         "hovertext": [
          "Item 5 – B1 (Assembly core)<br>Start: 23 End: 33"
         ],
         "legendgroup": "5",
         "marker": {
          "color": "#FFA15A",
          "line": {
           "color": "white",
           "width": 3
          },
          "pattern": {
           "shape": [
            ""
           ],
           "size": 10,
           "solidity": 0.5
          }
         },
         "name": "5",
         "offsetgroup": "GRIP #8",
         "orientation": "h",
         "showlegend": false,
         "width": 0.5,
         "x": {
          "dtype": "i1",
          "bdata": "Cg=="
         },
         "y": [
          "GRIP #8"
         ],
         "type": "bar"
        },
        {
         "alignmentgroup": "KIT #6",
         "base": [
          0,
          10
         ],
         "hoverinfo": "text",
         "hovertext": [
          "Item 5 – K1 (Kitting)<br>Start: 0 End: 10",
          "Item 5 – K2 (Screw prep) (machine occupied)<br>Start: 10 End: 20"
         ],
         "legendgroup": "5",
         "marker": {
          "color": "#FFA15A",
          "line": {
           "color": "white",
           "width": 3
          },
          "pattern": {
           "shape": [
            "",
            "/"
           ],
           "size": 10,
           "solidity": 0.5
          }
         },
         "name": "5",
         "offsetgroup": "KIT #6",
         "orientation": "h",
         "showlegend": false,
         "width": 0.5,
         "x": {
          "dtype": "i1",
          "bdata": "Cgo="
         },
         "y": [
          "KIT #6",
          "KIT #6"
         ],
         "type": "bar"
        },
        {
         "alignmentgroup": "KIT #6",
         "base": [
          10
         ],
         "hoverinfo": "text",
         "hovertext": [
          "Item 5 – K2 (Screw prep) (machine occupied)<br>Start: 10 End: 20"
         ],
         "legendgroup": "5",
         "marker": {
          "color": "#FFA15A",
          "line": {
           "color": "white",
           "width": 3
          },
          "pattern": {
           "fgcolor": "white",
           "shape": [
            "/"
           ],
           "size": 10,
           "solidity": 0.7
          }
         },
         "name": "5",
         "offsetgroup": "KIT #6",
         "orientation": "h",
         "showlegend": false,
         "width": 0.5,
         "x": {
          "dtype": "i1",
          "bdata": "Cg=="
         },
         "y": [
          "KIT #6"
         ],
         "type": "bar"
        },
        {
         "alignmentgroup": "Operator #2",
         "base": [
          10
         ],
         "hoverinfo": "text",
         "hovertext": [
          "Item 5 – K2 (Screw prep)<br>Start: 10 End: 20"
         ],
         "legendgroup": "5",
         "marker": {
          "color": "#FFA15A",
          "line": {
           "color": "white",
           "width": 3
          },
          "pattern": {
           "shape": [
            "/"
           ],
           "size": 10,
           "solidity": 0.5
          }
         },
         "name": "5",
         "offsetgroup": "Operator #2",
         "orientation": "h",
         "showlegend": false,
         "width": 0.5,
         "x": {
          "dtype": "i1",
          "bdata": "Cg=="
         },
         "y": [
          "Operator #2"
         ],
         "type": "bar"
        },
        {
         "alignmentgroup": "Operator #2",
         "base": [
          10
         ],
         "hoverinfo": "text",
         "hovertext": [
          "Item 5 – K2 (Screw prep)<br>Start: 10 End: 20"
         ],
         "legendgroup": "5",
         "marker": {
          "color": "#FFA15A",
          "line": {
           "color": "white",
           "width": 3
          },
          "pattern": {
           "fgcolor": "white",
           "shape": [
            "/"
           ],
           "size": 10,
           "solidity": 0.7
          }
         },
         "name": "5",
         "offsetgroup": "Operator #2",
         "orientation": "h",
         "showlegend": false,
         "width": 0.5,
         "x": {
          "dtype": "i1",
          "bdata": "Cg=="
         },
         "y": [
          "Operator #2"
         ],
         "type": "bar"
        },
        {
         "hoverinfo": "skip",
         "legendgroup": "5",
         "line": {
          "color": "#FFA15A",
          "dash": "dot",
          "width": 8
         },
         "mode": "lines",
         "name": "5 transport",
         "showlegend": false,
         "x": [
          55,
          60
         ],
         "y": [
          "Operator #1",
          "Operator #1"
         ],
         "type": "scatter"
        },
        {
         "alignmentgroup": "PACK #11",
         "base": [
          85
         ],
         "hoverinfo": "text",
         "hovertext": [
          "Item 6 – P (Packaging)<br>Start: 85 End: 100"
         ],
         "legendgroup": "6",
         "marker": {
          "color": "#19D3F3",
          "line": {
           "color": "white",
           "width": 3
          },
          "pattern": {
           "shape": [
            ""
           ],
           "size": 10,
           "solidity": 0.5
          }
         },
         "name": "6",
         "offsetgroup": "PACK #11",
         "orientation": "h",
         "showlegend": true,
         "width": 0.5,
         "x": {
          "dtype": "i1",
          "bdata": "Dw=="
         },
         "y": [
          "PACK #11"
         ],
         "type": "bar"
        },
        {
         "alignmentgroup": "GRIP & SCREW #9",
         "base": [
          51
         ],
         "hoverinfo": "text",
         "hovertext": [
          "Item 6 – B2 (Screw insertion)<br>Start: 51 End: 66"
         ],
         "legendgroup": "6",
         "marker": {
          "color": "#19D3F3",
          "line": {
           "color": "white",
           "width": 3
          },
          "pattern": {
           "shape": [
            ""
           ],
           "size": 10,
           "solidity": 0.5
          }
         },
         "name": "6",
         "offsetgroup": "GRIP & SCREW #9",
         "orientation": "h",
         "showlegend": false,
         "width": 0.5,
         "x": {
          "dtype": "i1",
          "bdata": "Dw=="
         },
         "y": [
          "GRIP & SCREW #9"
         ],
         "type": "bar"
        },
        {
         "alignmentgroup": "GRIP #8",
         "base": [
          35
         ],
         "hoverinfo": "text",
         "hovertext": [
          "Item 6 – B1 (Assembly core)<br>Start: 35 End: 45"
         ],
         "legendgroup": "6",
         "marker": {
          "color": "#19D3F3",
          "line": {
           "color": "white",
           "width": 3
          },
          "pattern": {
           "shape": [
            ""
           ],
           "size": 10,
           "solidity": 0.5
          }
         },
         "name": "6",
         "offsetgroup": "GRIP #8",
         "orientation": "h",
         "showlegend": false,
         "width": 0.5,
         "x": {
          "dtype": "i1",
          "bdata": "Cg=="
         },
         "y": [
          "GRIP #8"
         ],
         "type": "bar"
        },
        {
         "alignmentgroup": "KIT #7",
         "base": [
          10,
          20
         ],
         "hoverinfo": "text",
         "hovertext": [
          "Item 6 – K1 (Kitting)<br>Start: 10 End: 20",
          "Item 6 – K2 (Screw prep) (machine occupied)<br>Start: 20 End: 30"
         ],
         "legendgroup": "6",
         "marker": {
          "color": "#19D3F3",
          "line": {
           "color": "white",
           "width": 3
          },
          "pattern": {
           "shape": [
            "",
            "/"
           ],
           "size": 10,
           "solidity": 0.5
          }
         },
         "name": "6",
         "offsetgroup": "KIT #7",
         "orientation": "h",
         "showlegend": false,
         "width": 0.5,
         "x": {
          "dtype": "i1",
          "bdata": "Cgo="
         },
         "y": [
          "KIT #7",
          "KIT #7"
         ],
         "type": "bar"
        },
        {
         "alignmentgroup": "KIT #7",
         "base": [
          20
         ],
         "hoverinfo": "text",
         "hovertext": [
          "Item 6 – K2 (Screw prep) (machine occupied)<br>Start: 20 End: 30"
         ],
         "legendgroup": "6",
         "marker": {
          "color": "#19D3F3",
          "line": {
           "color": "white",
           "width": 3
          },
          "pattern": {
           "fgcolor": "white",
           "shape": [
            "/"
           ],
           "size": 10,
           "solidity": 0.7
          }
         },
         "name": "6",
         "offsetgroup": "KIT #7",
         "orientation": "h",
         "showlegend": false,
         "width": 0.5,
         "x": {
          "dtype": "i1",
          "bdata": "Cg=="
         },
         "y": [
          "KIT #7"
         ],
         "type": "bar"
        },
        {
         "alignmentgroup": "Operator #1",
         "base": [
          20
         ],
         "hoverinfo": "text",
         "hovertext": [
          "Item 6 – K2 (Screw prep)<br>Start: 20 End: 30"
         ],
         "legendgroup": "6",
         "marker": {
          "color": "#19D3F3",
          "line": {
           "color": "white",
           "width": 3
          },
          "pattern": {
           "shape": [
            "/"
           ],
           "size": 10,
           "solidity": 0.5
          }
         },
         "name": "6",
         "offsetgroup": "Operator #1",
         "orientation": "h",
         "showlegend": false,
         "width": 0.5,
         "x": {
          "dtype": "i1",
          "bdata": "Cg=="
         },
         "y": [
          "Operator #1"
         ],
         "type": "bar"
        },
        {
         "alignmentgroup": "Operator #1",
         "base": [
          20
         ],
         "hoverinfo": "text",
         "hovertext": [
          "Item 6 – K2 (Screw prep)<br>Start: 20 End: 30"
         ],
         "legendgroup": "6",
         "marker": {
          "color": "#19D3F3",
          "line": {
           "color": "white",
           "width": 3
          },
          "pattern": {
           "fgcolor": "white",
           "shape": [
            "/"
           ],
           "size": 10,
           "solidity": 0.7
          }
         },
         "name": "6",
         "offsetgroup": "Operator #1",
         "orientation": "h",
         "showlegend": false,
         "width": 0.5,
         "x": {
          "dtype": "i1",
          "bdata": "Cg=="
         },
         "y": [
          "Operator #1"
         ],
         "type": "bar"
        },
        {
         "hoverinfo": "skip",
         "legendgroup": "6",
         "line": {
          "color": "#19D3F3",
          "dash": "dot",
          "width": 8
         },
         "mode": "lines",
         "name": "6 transport",
         "showlegend": false,
         "x": [
          75,
          83
         ],
         "y": [
          "Robot #2",
          "Robot #2"
         ],
         "type": "scatter"
        },
        {
         "hoverinfo": "skip",
         "legendgroup": "6",
         "line": {
          "color": "#19D3F3",
          "dash": "dot",
          "width": 8
         },
         "mode": "lines",
         "name": "6 transport",
         "showlegend": false,
         "x": [
          30,
          35
         ],
         "y": [
          "Operator #3",
          "Operator #3"
         ],
         "type": "scatter"
        },
        {
         "alignmentgroup": "PACK #10",
         "base": [
          84
         ],
         "hoverinfo": "text",
         "hovertext": [
          "Item 7 – P (Packaging) (machine occupied)<br>Start: 84 End: 89"
         ],
         "legendgroup": "7",
         "marker": {
          "color": "#FF6692",
          "line": {
           "color": "white",
           "width": 3
          },
          "pattern": {
           "shape": [
            "/"
           ],
           "size": 10,
           "solidity": 0.5
          }
         },
         "name": "7",
         "offsetgroup": "PACK #10",
         "orientation": "h",
         "showlegend": true,
         "width": 0.5,
         "x": {
          "dtype": "i1",
          "bdata": "BQ=="
         },
         "y": [
          "PACK #10"
         ],
         "type": "bar"
        },
        {
         "alignmentgroup": "PACK #10",
         "base": [
          84
         ],
         "hoverinfo": "text",
         "hovertext": [
          "Item 7 – P (Packaging) (machine occupied)<br>Start: 84 End: 89"
         ],
         "legendgroup": "7",
         "marker": {
          "color": "#FF6692",
          "line": {
           "color": "white",
           "width": 3
          },
          "pattern": {
           "fgcolor": "white",
           "shape": [
            "/"
           ],
           "size": 10,
           "solidity": 0.7
          }
         },
         "name": "7",
         "offsetgroup": "PACK #10",
         "orientation": "h",
         "showlegend": false,
         "width": 0.5,
         "x": {
          "dtype": "i1",
          "bdata": "BQ=="
         },
         "y": [
          "PACK #10"
         ],
         "type": "bar"
        },
        {
         "alignmentgroup": "GRIP & SCREW #9",
         "base": [
          66
         ],
         "hoverinfo": "text",
         "hovertext": [
          "Item 7 – B2 (Screw insertion)<br>Start: 66 End: 81"
         ],
         "legendgroup": "7",
         "marker": {
          "color": "#FF6692",
          "line": {
           "color": "white",
           "width": 3
          },
          "pattern": {
           "shape": [
            ""
           ],
           "size": 10,
           "solidity": 0.5
          }
         },
         "name": "7",
         "offsetgroup": "GRIP & SCREW #9",
         "orientation": "h",
         "showlegend": false,
         "width": 0.5,
         "x": {
          "dtype": "i1",
          "bdata": "Dw=="
         },
         "y": [
          "GRIP & SCREW #9"
         ],
         "type": "bar"
        },
        {
         "alignmentgroup": "GRIP #8",
         "base": [
          45
         ],
         "hoverinfo": "text",
         "hovertext": [
          "Item 7 – B1 (Assembly core)<br>Start: 45 End: 55"
         ],
         "legendgroup": "7",
         "marker": {
          "color": "#FF6692",
          "line": {
           "color": "white",
           "width": 3
          },
          "pattern": {
           "shape": [
            ""
           ],
           "size": 10,
           "solidity": 0.5
          }
         },
         "name": "7",
         "offsetgroup": "GRIP #8",
         "orientation": "h",
         "showlegend": false,
         "width": 0.5,
         "x": {
          "dtype": "i1",
          "bdata": "Cg=="
         },
         "y": [
          "GRIP #8"
         ],
         "type": "bar"
        },
        {
         "alignmentgroup": "KIT #6",
         "base": [
          20,
          30
         ],
         "hoverinfo": "text",
         "hovertext": [
          "Item 7 – K1 (Kitting)<br>Start: 20 End: 30",
          "Item 7 – K2 (Screw prep) (machine occupied)<br>Start: 30 End: 40"
         ],
         "legendgroup": "7",
         "marker": {
          "color": "#FF6692",
          "line": {
           "color": "white",
           "width": 3
          },
          "pattern": {
           "shape": [
            "",
            "/"
           ],
           "size": 10,
           "solidity": 0.5
          }
         },
         "name": "7",
         "offsetgroup": "KIT #6",
         "orientation": "h",
         "showlegend": false,
         "width": 0.5,
         "x": {
          "dtype": "i1",
          "bdata": "Cgo="
         },
         "y": [
          "KIT #6",
          "KIT #6"
         ],
         "type": "bar"
        },
        {
         "alignmentgroup": "KIT #6",
         "base": [
          30
         ],
         "hoverinfo": "text",
         "hovertext": [
          "Item 7 – K2 (Screw prep) (machine occupied)<br>Start: 30 End: 40"
         ],
         "legendgroup": "7",
         "marker": {
          "color": "#FF6692",
          "line": {
           "color": "white",
           "width": 3
          },
          "pattern": {
           "fgcolor": "white",
           "shape": [
            "/"
           ],
           "size": 10,
           "solidity": 0.7
          }
         },
         "name": "7",
         "offsetgroup": "KIT #6",
         "orientation": "h",
         "showlegend": false,
         "width": 0.5,
         "x": {
          "dtype": "i1",
          "bdata": "Cg=="
         },
         "y": [
          "KIT #6"
         ],
         "type": "bar"
        },
        {
         "alignmentgroup": "Operator #1",
         "base": [
          30
         ],
         "hoverinfo": "text",
         "hovertext": [
          "Item 7 – K2 (Screw prep)<br>Start: 30 End: 40"
         ],
         "legendgroup": "7",
         "marker": {
          "color": "#FF6692",
          "line": {
           "color": "white",
           "width": 3
          },
          "pattern": {
           "shape": [
            "/"
           ],
           "size": 10,
           "solidity": 0.5
          }
         },
         "name": "7",
         "offsetgroup": "Operator #1",
         "orientation": "h",
         "showlegend": false,
         "width": 0.5,
         "x": {
          "dtype": "i1",
          "bdata": "Cg=="
         },
         "y": [
          "Operator #1"
         ],
         "type": "bar"
        },
        {
         "alignmentgroup": "Operator #1",
         "base": [
          30
         ],
         "hoverinfo": "text",
         "hovertext": [
          "Item 7 – K2 (Screw prep)<br>Start: 30 End: 40"
         ],
         "legendgroup": "7",
         "marker": {
          "color": "#FF6692",
          "line": {
           "color": "white",
           "width": 3
          },
          "pattern": {
           "fgcolor": "white",
           "shape": [
            "/"
           ],
           "size": 10,
           "solidity": 0.7
          }
         },
         "name": "7",
         "offsetgroup": "Operator #1",
         "orientation": "h",
         "showlegend": false,
         "width": 0.5,
         "x": {
          "dtype": "i1",
          "bdata": "Cg=="
         },
         "y": [
          "Operator #1"
         ],
         "type": "bar"
        },
        {
         "alignmentgroup": "Operator #3",
         "base": [
          84
         ],
         "hoverinfo": "text",
         "hovertext": [
          "Item 7 – P (Packaging)<br>Start: 84 End: 89"
         ],
         "legendgroup": "7",
         "marker": {
          "color": "#FF6692",
          "line": {
           "color": "white",
           "width": 3
          },
          "pattern": {
           "shape": [
            "/"
           ],
           "size": 10,
           "solidity": 0.5
          }
         },
         "name": "7",
         "offsetgroup": "Operator #3",
         "orientation": "h",
         "showlegend": false,
         "width": 0.5,
         "x": {
          "dtype": "i1",
          "bdata": "BQ=="
         },
         "y": [
          "Operator #3"
         ],
         "type": "bar"
        },
        {
         "alignmentgroup": "Operator #3",
         "base": [
          84
         ],
         "hoverinfo": "text",
         "hovertext": [
          "Item 7 – P (Packaging)<br>Start: 84 End: 89"
         ],
         "legendgroup": "7",
         "marker": {
          "color": "#FF6692",
          "line": {
           "color": "white",
           "width": 3
          },
          "pattern": {
           "fgcolor": "white",
           "shape": [
            "/"
           ],
           "size": 10,
           "solidity": 0.7
          }
         },
         "name": "7",
         "offsetgroup": "Operator #3",
         "orientation": "h",
         "showlegend": false,
         "width": 0.5,
         "x": {
          "dtype": "i1",
          "bdata": "BQ=="
         },
         "y": [
          "Operator #3"
         ],
         "type": "bar"
        },
        {
         "alignmentgroup": "PACK #10",
         "base": [
          99
         ],
         "hoverinfo": "text",
         "hovertext": [
          "Item 8 – P (Packaging) (machine occupied)<br>Start: 99 End: 104"
         ],
         "legendgroup": "8",
         "marker": {
          "color": "#B6E880",
          "line": {
           "color": "white",
           "width": 3
          },
          "pattern": {
           "shape": [
            "/"
           ],
           "size": 10,
           "solidity": 0.5
          }
         },
         "name": "8",
         "offsetgroup": "PACK #10",
         "orientation": "h",
         "showlegend": true,
         "width": 0.5,
         "x": {
          "dtype": "i1",
          "bdata": "BQ=="
         },
         "y": [
          "PACK #10"
         ],
         "type": "bar"
        },
        {
         "alignmentgroup": "PACK #10",
         "base": [
          99
         ],
         "hoverinfo": "text",
         "hovertext": [
          "Item 8 – P (Packaging) (machine occupied)<br>Start: 99 End: 104"
         ],
         "legendgroup": "8",
         "marker": {
          "color": "#B6E880",
          "line": {
           "color": "white",
           "width": 3
          },
          "pattern": {
           "fgcolor": "white",
           "shape": [
            "/"
           ],
           "size": 10,
           "solidity": 0.7
          }
         },
         "name": "8",
         "offsetgroup": "PACK #10",
         "orientation": "h",
         "showlegend": false,
         "width": 0.5,
         "x": {
          "dtype": "i1",
          "bdata": "BQ=="
         },
         "y": [
          "PACK #10"
         ],
         "type": "bar"
        },
        {
         "alignmentgroup": "GRIP & SCREW #9",
         "base": [
          81
         ],
         "hoverinfo": "text",
         "hovertext": [
          "Item 8 – B2 (Screw insertion)<br>Start: 81 End: 96"
         ],
         "legendgroup": "8",
         "marker": {
          "color": "#B6E880",
          "line": {
           "color": "white",
           "width": 3
          },
          "pattern": {
           "shape": [
            ""
           ],
           "size": 10,
           "solidity": 0.5
          }
         },
         "name": "8",
         "offsetgroup": "GRIP & SCREW #9",
         "orientation": "h",
         "showlegend": false,
         "width": 0.5,
         "x": {
          "dtype": "i1",
          "bdata": "Dw=="
         },
         "y": [
          "GRIP & SCREW #9"
         ],
         "type": "bar"
        },
        {
         "alignmentgroup": "GRIP #8",
         "base": [
          65
         ],
         "hoverinfo": "text",
         "hovertext": [
          "Item 8 – B1 (Assembly core)<br>Start: 65 End: 75"
         ],
         "legendgroup": "8",
         "marker": {
          "color": "#B6E880",
          "line": {
           "color": "white",
           "width": 3
          },
          "pattern": {
           "shape": [
            ""
           ],
           "size": 10,
           "solidity": 0.5
          }
         },
         "name": "8",
         "offsetgroup": "GRIP #8",
         "orientation": "h",
         "showlegend": false,
         "width": 0.5,
         "x": {
          "dtype": "i1",
          "bdata": "Cg=="
         },
         "y": [
          "GRIP #8"
         ],
         "type": "bar"
        },
        {
         "alignmentgroup": "KIT #7",
         "base": [
          30,
          41
         ],
         "hoverinfo": "text",
         "hovertext": [
          "Item 8 – K1 (Kitting)<br>Start: 30 End: 40",
          "Item 8 – K2 (Screw prep) (machine occupied)<br>Start: 41 End: 51"
         ],
         "legendgroup": "8",
         "marker": {
          "color": "#B6E880",
          "line": {
           "color": "white",
           "width": 3
          },
          "pattern": {
           "shape": [
            "",
            "/"
           ],
           "size": 10,
           "solidity": 0.5
          }
         },
         "name": "8",
         "offsetgroup": "KIT #7",
         "orientation": "h",
         "showlegend": false,
         "width": 0.5,
         "x": {
          "dtype": "i1",
          "bdata": "Cgo="
         },
         "y": [
          "KIT #7",
          "KIT #7"
         ],
         "type": "bar"
        },
        {
         "alignmentgroup": "KIT #7",
         "base": [
          41
         ],
         "hoverinfo": "text",
         "hovertext": [
          "Item 8 – K2 (Screw prep) (machine occupied)<br>Start: 41 End: 51"
         ],
         "legendgroup": "8",
         "marker": {
          "color": "#B6E880",
          "line": {
           "color": "white",
           "width": 3
          },
          "pattern": {
           "fgcolor": "white",
           "shape": [
            "/"
           ],
           "size": 10,
           "solidity": 0.7
          }
         },
         "name": "8",
         "offsetgroup": "KIT #7",
         "orientation": "h",
         "showlegend": false,
         "width": 0.5,
         "x": {
          "dtype": "i1",
          "bdata": "Cg=="
         },
         "y": [
          "KIT #7"
         ],
         "type": "bar"
        },
        {
         "alignmentgroup": "Operator #1",
         "base": [
          99
         ],
         "hoverinfo": "text",
         "hovertext": [
          "Item 8 – P (Packaging)<br>Start: 99 End: 104"
         ],
         "legendgroup": "8",
         "marker": {
          "color": "#B6E880",
          "line": {
           "color": "white",
           "width": 3
          },
          "pattern": {
           "shape": [
            "/"
           ],
           "size": 10,
           "solidity": 0.5
          }
         },
         "name": "8",
         "offsetgroup": "Operator #1",
         "orientation": "h",
         "showlegend": false,
         "width": 0.5,
         "x": {
          "dtype": "i1",
          "bdata": "BQ=="
         },
         "y": [
          "Operator #1"
         ],
         "type": "bar"
        },
        {
         "alignmentgroup": "Operator #1",
         "base": [
          99
         ],
         "hoverinfo": "text",
         "hovertext": [
          "Item 8 – P (Packaging)<br>Start: 99 End: 104"
         ],
         "legendgroup": "8",
         "marker": {
          "color": "#B6E880",
          "line": {
           "color": "white",
           "width": 3
          },
          "pattern": {
           "fgcolor": "white",
           "shape": [
            "/"
           ],
           "size": 10,
           "solidity": 0.7
          }
         },
         "name": "8",
         "offsetgroup": "Operator #1",
         "orientation": "h",
         "showlegend": false,
         "width": 0.5,
         "x": {
          "dtype": "i1",
          "bdata": "BQ=="
         },
         "y": [
          "Operator #1"
         ],
         "type": "bar"
        },
        {
         "alignmentgroup": "Operator #3",
         "base": [
          41
         ],
         "hoverinfo": "text",
         "hovertext": [
          "Item 8 – K2 (Screw prep)<br>Start: 41 End: 51"
         ],
         "legendgroup": "8",
         "marker": {
          "color": "#B6E880",
          "line": {
           "color": "white",
           "width": 3
          },
          "pattern": {
           "shape": [
            "/"
           ],
           "size": 10,
           "solidity": 0.5
          }
         },
         "name": "8",
         "offsetgroup": "Operator #3",
         "orientation": "h",
         "showlegend": false,
         "width": 0.5,
         "x": {
          "dtype": "i1",
          "bdata": "Cg=="
         },
         "y": [
          "Operator #3"
         ],
         "type": "bar"
        },
        {
         "alignmentgroup": "Operator #3",
         "base": [
          41
         ],
         "hoverinfo": "text",
         "hovertext": [
          "Item 8 – K2 (Screw prep)<br>Start: 41 End: 51"
         ],
         "legendgroup": "8",
         "marker": {
          "color": "#B6E880",
          "line": {
           "color": "white",
           "width": 3
          },
          "pattern": {
           "fgcolor": "white",
           "shape": [
            "/"
           ],
           "size": 10,
           "solidity": 0.7
          }
         },
         "name": "8",
         "offsetgroup": "Operator #3",
         "orientation": "h",
         "showlegend": false,
         "width": 0.5,
         "x": {
          "dtype": "i1",
          "bdata": "Cg=="
         },
         "y": [
          "Operator #3"
         ],
         "type": "bar"
        },
        {
         "hoverinfo": "skip",
         "legendgroup": "8",
         "line": {
          "color": "#B6E880",
          "dash": "dot",
          "width": 8
         },
         "mode": "lines",
         "name": "8 transport",
         "showlegend": false,
         "x": [
          75,
          80
         ],
         "y": [
          "Operator #2",
          "Operator #2"
         ],
         "type": "scatter"
        },
        {
         "hoverinfo": "skip",
         "legendgroup": "8",
         "line": {
          "color": "#B6E880",
          "dash": "dot",
          "width": 8
         },
         "mode": "lines",
         "name": "8 transport",
         "showlegend": false,
         "x": [
          60,
          65
         ],
         "y": [
          "Operator #1",
          "Operator #1"
         ],
         "type": "scatter"
        },
        {
         "hoverinfo": "skip",
         "legendgroup": "1",
         "line": {
          "color": "#636EFA",
          "dash": "dash",
          "width": 2
         },
         "mode": "lines",
         "name": "1 flow",
         "showlegend": false,
         "x": [
          9.85,
          14.15
         ],
         "y": [
          "KIT #7",
          "GRIP & SCREW #9"
         ],
         "type": "scatter"
        },
        {
         "hoverinfo": "skip",
         "legendgroup": "1",
         "line": {
          "color": "#636EFA",
          "width": 2
         },
         "mode": "lines",
         "name": "1 flow",
         "showlegend": false,
         "x": [
          33.85,
          42.15,
          null
         ],
         "y": [
          "GRIP & SCREW #9",
          "Operator #1",
          null
         ],
         "type": "scatter"
        },
        {
         "hoverinfo": "skip",
         "legendgroup": "1",
         "line": {
          "color": "#636EFA",
          "width": 2
         },
         "mode": "lines",
         "name": "1 flow",
         "showlegend": false,
         "x": [
          46.85,
          47.15,
          null
         ],
         "y": [
          "Operator #1",
          "PACK #11",
          null
         ],
         "type": "scatter"
        },
        {
         "hoverinfo": "skip",
         "legendgroup": "2",
         "line": {
          "color": "#EF553B",
          "width": 2
         },
         "mode": "lines",
         "name": "2 flow",
         "showlegend": false,
         "x": [
          49.85,
          50.15,
          null
         ],
         "y": [
          "KIT #6",
          "Operator #1",
          null
         ],
         "type": "scatter"
        },
        {
         "hoverinfo": "skip",
         "legendgroup": "2",
         "line": {
          "color": "#EF553B",
          "width": 2
         },
         "mode": "lines",
         "name": "2 flow",
         "showlegend": false,
         "x": [
          54.85,
          55.15,
          null
         ],
         "y": [
          "Operator #1",
          "GRIP #8",
          null
         ],
         "type": "scatter"
        },
        {
         "hoverinfo": "skip",
         "legendgroup": "2",
         "line": {
          "color": "#EF553B",
          "width": 2
         },
         "mode": "lines",
         "name": "2 flow",
         "showlegend": false,
         "x": [
          64.85,
          65.15,
          null
         ],
         "y": [
          "GRIP #8",
          "Robot #1",
          null
         ],
         "type": "scatter"
        },
        {
         "hoverinfo": "skip",
         "legendgroup": "2",
         "line": {
          "color": "#EF553B",
          "width": 2
         },
         "mode": "lines",
         "name": "2 flow",
         "showlegend": false,
         "x": [
          72.85,
          89.15,
          null
         ],
         "y": [
          "Robot #1",
          "PACK #10",
          null
         ],
         "type": "scatter"
        },
        {
         "hoverinfo": "skip",
         "legendgroup": "3",
         "line": {
          "color": "#00CC96",
          "width": 2
         },
         "mode": "lines",
         "name": "3 flow",
         "showlegend": false,
         "x": [
          64.85,
          65.15,
          null
         ],
         "y": [
          "KIT #7",
          "Operator #1",
          null
         ],
         "type": "scatter"
        },
        {
         "hoverinfo": "skip",
         "legendgroup": "3",
         "line": {
          "color": "#00CC96",
          "width": 2
         },
         "mode": "lines",
         "name": "3 flow",
         "showlegend": false,
         "x": [
          69.85,
          75.15,
          null
         ],
         "y": [
          "Operator #1",
          "GRIP #8",
          null
         ],
         "type": "scatter"
        },
        {
         "hoverinfo": "skip",
         "legendgroup": "3",
         "line": {
          "color": "#00CC96",
          "width": 2
         },
         "mode": "lines",
         "name": "3 flow",
         "showlegend": false,
         "x": [
          84.85,
          85.15,
          null
         ],
         "y": [
          "GRIP #8",
          "Robot #1",
          null
         ],
         "type": "scatter"
        },
        {
         "hoverinfo": "skip",
         "legendgroup": "3",
         "line": {
          "color": "#00CC96",
          "width": 2
         },
         "mode": "lines",
         "name": "3 flow",
         "showlegend": false,
         "x": [
          92.85,
          94.15,
          null
         ],
         "y": [
          "Robot #1",
          "PACK #10",
          null
         ],
         "type": "scatter"
        },
        {
         "hoverinfo": "skip",
         "legendgroup": "4",
         "line": {
          "color": "#AB63FA",
          "width": 2
         },
         "mode": "lines",
         "name": "4 flow",
         "showlegend": false,
         "x": [
          74.85,
          75.15,
          null
         ],
         "y": [
          "KIT #7",
          "Robot #1",
          null
         ],
         "type": "scatter"
        },
        {
         "hoverinfo": "skip",
         "legendgroup": "4",
         "line": {
          "color": "#AB63FA",
          "width": 2
         },
         "mode": "lines",
         "name": "4 flow",
         "showlegend": false,
         "x": [
          82.85,
          85.15,
          null
         ],
         "y": [
          "Robot #1",
          "GRIP #8",
          null
         ],
         "type": "scatter"
        },
        {
         "hoverinfo": "skip",
         "legendgroup": "4",
         "line": {
          "color": "#AB63FA",
          "width": 2
         },
         "mode": "lines",
         "name": "4 flow",
         "showlegend": false,
         "x": [
          94.85,
          95.15,
          null
         ],
         "y": [
          "GRIP #8",
          "Operator #3",
          null
         ],
         "type": "scatter"
        },
        {
         "hoverinfo": "skip",
         "legendgroup": "4",
         "line": {
          "color": "#AB63FA",
          "width": 2
         },
         "mode": "lines",
         "name": "4 flow",
         "showlegend": false,
         "x": [
          99.85,
          100.15,
          null
         ],
         "y": [
          "Operator #3",
          "PACK #11",
          null
         ],
         "type": "scatter"
        },
        {
         "hoverinfo": "skip",
         "legendgroup": "5",
         "line": {
          "color": "#FFA15A",
          "dash": "dash",
          "width": 2
         },
         "mode": "lines",
         "name": "5 flow",
         "showlegend": false,
         "x": [
          19.85,
          23.15
         ],
         "y": [
          "KIT #6",
          "GRIP #8"
         ],
         "type": "scatter"
        },
        {
         "hoverinfo": "skip",
         "legendgroup": "5",
         "line": {
          "color": "#FFA15A",
          "dash": "dash",
          "width": 2
         },
         "mode": "lines",
         "name": "5 flow",
         "showlegend": false,
         "x": [
          32.85,
          36.15
         ],
         "y": [
          "GRIP #8",
          "GRIP & SCREW #9"
         ],
         "type": "scatter"
        },
        {
         "hoverinfo": "skip",
         "legendgroup": "5",
         "line": {
          "color": "#FFA15A",
          "width": 2
         },
         "mode": "lines",
         "name": "5 flow",
         "showlegend": false,
         "x": [
          50.85,
          55.15,
          null
         ],
         "y": [
          "GRIP & SCREW #9",
          "Operator #1",
          null
         ],
         "type": "scatter"
        },
        {
         "hoverinfo": "skip",
         "legendgroup": "5",
         "line": {
          "color": "#FFA15A",
          "width": 2
         },
         "mode": "lines",
         "name": "5 flow",
         "showlegend": false,
         "x": [
          59.85,
          60.15,
          null
         ],
         "y": [
          "Operator #1",
          "PACK #10",
          null
         ],
         "type": "scatter"
        },
        {
         "hoverinfo": "skip",
         "legendgroup": "6",
         "line": {
          "color": "#19D3F3",
          "width": 2
         },
         "mode": "lines",
         "name": "6 flow",
         "showlegend": false,
         "x": [
          29.85,
          30.15,
          null
         ],
         "y": [
          "KIT #7",
          "Operator #3",
          null
         ],
         "type": "scatter"
        },
        {
         "hoverinfo": "skip",
         "legendgroup": "6",
         "line": {
          "color": "#19D3F3",
          "width": 2
         },
         "mode": "lines",
         "name": "6 flow",
         "showlegend": false,
         "x": [
          34.85,
          35.15,
          null
         ],
         "y": [
          "Operator #3",
          "GRIP #8",
          null
         ],
         "type": "scatter"
        },
        {
         "hoverinfo": "skip",
         "legendgroup": "6",
         "line": {
          "color": "#19D3F3",
          "dash": "dash",
          "width": 2
         },
         "mode": "lines",
         "name": "6 flow",
         "showlegend": false,
         "x": [
          44.85,
          51.15
         ],
         "y": [
          "GRIP #8",
          "GRIP & SCREW #9"
         ],
         "type": "scatter"
        },
        {
         "hoverinfo": "skip",
         "legendgroup": "6",
         "line": {
          "color": "#19D3F3",
          "width": 2
         },
         "mode": "lines",
         "name": "6 flow",
         "showlegend": false,
         "x": [
          65.85,
          75.15,
          null
         ],
         "y": [
          "GRIP & SCREW #9",
          "Robot #2",
          null
         ],
         "type": "scatter"
        },
        {
         "hoverinfo": "skip",
         "legendgroup": "6",
         "line": {
          "color": "#19D3F3",
          "width": 2
         },
         "mode": "lines",
         "name": "6 flow",
         "showlegend": false,
         "x": [
          82.85,
          85.15,
          null
         ],
         "y": [
          "Robot #2",
          "PACK #11",
          null
         ],
         "type": "scatter"
        },
        {
         "hoverinfo": "skip",
         "legendgroup": "7",
         "line": {
          "color": "#FF6692",
          "dash": "dash",
          "width": 2
         },
         "mode": "lines",
         "name": "7 flow",
         "showlegend": false,
         "x": [
          39.85,
          45.15
         ],
         "y": [
          "KIT #6",
          "GRIP #8"
         ],
         "type": "scatter"
        },
        {
         "hoverinfo": "skip",
         "legendgroup": "7",
         "line": {
          "color": "#FF6692",
          "dash": "dash",
          "width": 2
         },
         "mode": "lines",
         "name": "7 flow",
         "showlegend": false,
         "x": [
          54.85,
          66.15
         ],
         "y": [
          "GRIP #8",
          "GRIP & SCREW #9"
         ],
         "type": "scatter"
        },
        {
         "hoverinfo": "skip",
         "legendgroup": "7",
         "line": {
          "color": "#FF6692",
          "dash": "dash",
          "width": 2
         },
         "mode": "lines",
         "name": "7 flow",
         "showlegend": false,
         "x": [
          80.85,
          84.15
         ],
         "y": [
          "GRIP & SCREW #9",
          "PACK #10"
         ],
         "type": "scatter"
        },
        {
         "hoverinfo": "skip",
         "legendgroup": "8",
         "line": {
          "color": "#B6E880",
          "width": 2
         },
         "mode": "lines",
         "name": "8 flow",
         "showlegend": false,
         "x": [
          50.85,
          60.15,
          null
         ],
         "y": [
          "KIT #7",
          "Operator #1",
          null
         ],
         "type": "scatter"
        },
        {
         "hoverinfo": "skip",
         "legendgroup": "8",
         "line": {
          "color": "#B6E880",
          "width": 2
         },
         "mode": "lines",
         "name": "8 flow",
         "showlegend": false,
         "x": [
          64.85,
          65.15,
          null
         ],
         "y": [
          "Operator #1",
          "GRIP #8",
          null
         ],
         "type": "scatter"
        },
        {
         "hoverinfo": "skip",
         "legendgroup": "8",
         "line": {
          "color": "#B6E880",
          "width": 2
         },
         "mode": "lines",
         "name": "8 flow",
         "showlegend": false,
         "x": [
          74.85,
          75.15,
          null
         ],
         "y": [
          "GRIP #8",
          "Operator #2",
          null
         ],
         "type": "scatter"
        },
        {
         "hoverinfo": "skip",
         "legendgroup": "8",
         "line": {
          "color": "#B6E880",
          "width": 2
         },
         "mode": "lines",
         "name": "8 flow",
         "showlegend": false,
         "x": [
          79.85,
          81.15,
          null
         ],
         "y": [
          "Operator #2",
          "GRIP & SCREW #9",
          null
         ],
         "type": "scatter"
        },
        {
         "hoverinfo": "skip",
         "legendgroup": "8",
         "line": {
          "color": "#B6E880",
          "dash": "dash",
          "width": 2
         },
         "mode": "lines",
         "name": "8 flow",
         "showlegend": false,
         "x": [
          95.85,
          99.15
         ],
         "y": [
          "GRIP & SCREW #9",
          "PACK #10"
         ],
         "type": "scatter"
        }
       ],
       "layout": {
        "template": {
         "data": {
          "histogram2dcontour": [
           {
            "type": "histogram2dcontour",
            "colorbar": {
             "outlinewidth": 0,
             "ticks": ""
            },
            "colorscale": [
             [
              0.0,
              "#0d0887"
             ],
             [
              0.1111111111111111,
              "#46039f"
             ],
             [
              0.2222222222222222,
              "#7201a8"
             ],
             [
              0.3333333333333333,
              "#9c179e"
             ],
             [
              0.4444444444444444,
              "#bd3786"
             ],
             [
              0.5555555555555556,
              "#d8576b"
             ],
             [
              0.6666666666666666,
              "#ed7953"
             ],
             [
              0.7777777777777778,
              "#fb9f3a"
             ],
             [
              0.8888888888888888,
              "#fdca26"
             ],
             [
              1.0,
              "#f0f921"
             ]
            ]
           }
          ],
          "choropleth": [
           {
            "type": "choropleth",
            "colorbar": {
             "outlinewidth": 0,
             "ticks": ""
            }
           }
          ],
          "histogram2d": [
           {
            "type": "histogram2d",
            "colorbar": {
             "outlinewidth": 0,
             "ticks": ""
            },
            "colorscale": [
             [
              0.0,
              "#0d0887"
             ],
             [
              0.1111111111111111,
              "#46039f"
             ],
             [
              0.2222222222222222,
              "#7201a8"
             ],
             [
              0.3333333333333333,
              "#9c179e"
             ],
             [
              0.4444444444444444,
              "#bd3786"
             ],
             [
              0.5555555555555556,
              "#d8576b"
             ],
             [
              0.6666666666666666,
              "#ed7953"
             ],
             [
              0.7777777777777778,
              "#fb9f3a"
             ],
             [
              0.8888888888888888,
              "#fdca26"
             ],
             [
              1.0,
              "#f0f921"
             ]
            ]
           }
          ],
          "heatmap": [
           {
            "type": "heatmap",
            "colorbar": {
             "outlinewidth": 0,
             "ticks": ""
            },
            "colorscale": [
             [
              0.0,
              "#0d0887"
             ],
             [
              0.1111111111111111,
              "#46039f"
             ],
             [
              0.2222222222222222,
              "#7201a8"
             ],
             [
              0.3333333333333333,
              "#9c179e"
             ],
             [
              0.4444444444444444,
              "#bd3786"
             ],
             [
              0.5555555555555556,
              "#d8576b"
             ],
             [
              0.6666666666666666,
              "#ed7953"
             ],
             [
              0.7777777777777778,
              "#fb9f3a"
             ],
             [
              0.8888888888888888,
              "#fdca26"
             ],
             [
              1.0,
              "#f0f921"
             ]
            ]
           }
          ],
          "contourcarpet": [
           {
            "type": "contourcarpet",
            "colorbar": {
             "outlinewidth": 0,
             "ticks": ""
            }
           }
          ],
          "contour": [
           {
            "type": "contour",
            "colorbar": {
             "outlinewidth": 0,
             "ticks": ""
            },
            "colorscale": [
             [
              0.0,
              "#0d0887"
             ],
             [
              0.1111111111111111,
              "#46039f"
             ],
             [
              0.2222222222222222,
              "#7201a8"
             ],
             [
              0.3333333333333333,
              "#9c179e"
             ],
             [
              0.4444444444444444,
              "#bd3786"
             ],
             [
              0.5555555555555556,
              "#d8576b"
             ],
             [
              0.6666666666666666,
              "#ed7953"
             ],
             [
              0.7777777777777778,
              "#fb9f3a"
             ],
             [
              0.8888888888888888,
              "#fdca26"
             ],
             [
              1.0,
              "#f0f921"
             ]
            ]
           }
          ],
          "surface": [
           {
            "type": "surface",
            "colorbar": {
             "outlinewidth": 0,
             "ticks": ""
            },
            "colorscale": [
             [
              0.0,
              "#0d0887"
             ],
             [
              0.1111111111111111,
              "#46039f"
             ],
             [
              0.2222222222222222,
              "#7201a8"
             ],
             [
              0.3333333333333333,
              "#9c179e"
             ],
             [
              0.4444444444444444,
              "#bd3786"
             ],
             [
              0.5555555555555556,
              "#d8576b"
             ],
             [
              0.6666666666666666,
              "#ed7953"
             ],
             [
              0.7777777777777778,
              "#fb9f3a"
             ],
             [
              0.8888888888888888,
              "#fdca26"
             ],
             [
              1.0,
              "#f0f921"
             ]
            ]
           }
          ],
          "mesh3d": [
           {
            "type": "mesh3d",
            "colorbar": {
             "outlinewidth": 0,
             "ticks": ""
            }
           }
          ],
          "scatter": [
           {
            "fillpattern": {
             "fillmode": "overlay",
             "size": 10,
             "solidity": 0.2
            },
            "type": "scatter"
           }
          ],
          "parcoords": [
           {
            "type": "parcoords",
            "line": {
             "colorbar": {
              "outlinewidth": 0,
              "ticks": ""
             }
            }
           }
          ],
          "scatterpolargl": [
           {
            "type": "scatterpolargl",
            "marker": {
             "colorbar": {
              "outlinewidth": 0,
              "ticks": ""
             }
            }
           }
          ],
          "bar": [
           {
            "error_x": {
             "color": "#2a3f5f"
            },
            "error_y": {
             "color": "#2a3f5f"
            },
            "marker": {
             "line": {
              "color": "#E5ECF6",
              "width": 0.5
             },
             "pattern": {
              "fillmode": "overlay",
              "size": 10,
              "solidity": 0.2
             }
            },
            "type": "bar"
           }
          ],
          "scattergeo": [
           {
            "type": "scattergeo",
            "marker": {
             "colorbar": {
              "outlinewidth": 0,
              "ticks": ""
             }
            }
           }
          ],
          "scatterpolar": [
           {
            "type": "scatterpolar",
            "marker": {
             "colorbar": {
              "outlinewidth": 0,
              "ticks": ""
             }
            }
           }
          ],
          "histogram": [
           {
            "marker": {
             "pattern": {
              "fillmode": "overlay",
              "size": 10,
              "solidity": 0.2
             }
            },
            "type": "histogram"
           }
          ],
          "scattergl": [
           {
            "type": "scattergl",
            "marker": {
             "colorbar": {
              "outlinewidth": 0,
              "ticks": ""
             }
            }
           }
          ],
          "scatter3d": [
           {
            "type": "scatter3d",
            "line": {
             "colorbar": {
              "outlinewidth": 0,
              "ticks": ""
             }
            },
            "marker": {
             "colorbar": {
              "outlinewidth": 0,
              "ticks": ""
             }
            }
           }
          ],
          "scattermap": [
           {
            "type": "scattermap",
            "marker": {
             "colorbar": {
              "outlinewidth": 0,
              "ticks": ""
             }
            }
           }
          ],
          "scattermapbox": [
           {
            "type": "scattermapbox",
            "marker": {
             "colorbar": {
              "outlinewidth": 0,
              "ticks": ""
             }
            }
           }
          ],
          "scatterternary": [
           {
            "type": "scatterternary",
            "marker": {
             "colorbar": {
              "outlinewidth": 0,
              "ticks": ""
             }
            }
           }
          ],
          "scattercarpet": [
           {
            "type": "scattercarpet",
            "marker": {
             "colorbar": {
              "outlinewidth": 0,
              "ticks": ""
             }
            }
           }
          ],
          "carpet": [
           {
            "aaxis": {
             "endlinecolor": "#2a3f5f",
             "gridcolor": "white",
             "linecolor": "white",
             "minorgridcolor": "white",
             "startlinecolor": "#2a3f5f"
            },
            "baxis": {
             "endlinecolor": "#2a3f5f",
             "gridcolor": "white",
             "linecolor": "white",
             "minorgridcolor": "white",
             "startlinecolor": "#2a3f5f"
            },
            "type": "carpet"
           }
          ],
          "table": [
           {
            "cells": {
             "fill": {
              "color": "#EBF0F8"
             },
             "line": {
              "color": "white"
             }
            },
            "header": {
             "fill": {
              "color": "#C8D4E3"
             },
             "line": {
              "color": "white"
             }
            },
            "type": "table"
           }
          ],
          "barpolar": [
           {
            "marker": {
             "line": {
              "color": "#E5ECF6",
              "width": 0.5
             },
             "pattern": {
              "fillmode": "overlay",
              "size": 10,
              "solidity": 0.2
             }
            },
            "type": "barpolar"
           }
          ],
          "pie": [
           {
            "automargin": true,
            "type": "pie"
           }
          ]
         },
         "layout": {
          "autotypenumbers": "strict",
          "colorway": [
           "#636efa",
           "#EF553B",
           "#00cc96",
           "#ab63fa",
           "#FFA15A",
           "#19d3f3",
           "#FF6692",
           "#B6E880",
           "#FF97FF",
           "#FECB52"
          ],
          "font": {
           "color": "#2a3f5f"
          },
          "hovermode": "closest",
          "hoverlabel": {
           "align": "left"
          },
          "paper_bgcolor": "white",
          "plot_bgcolor": "#E5ECF6",
          "polar": {
           "bgcolor": "#E5ECF6",
           "angularaxis": {
            "gridcolor": "white",
            "linecolor": "white",
            "ticks": ""
           },
           "radialaxis": {
            "gridcolor": "white",
            "linecolor": "white",
            "ticks": ""
           }
          },
          "ternary": {
           "bgcolor": "#E5ECF6",
           "aaxis": {
            "gridcolor": "white",
            "linecolor": "white",
            "ticks": ""
           },
           "baxis": {
            "gridcolor": "white",
            "linecolor": "white",
            "ticks": ""
           },
           "caxis": {
            "gridcolor": "white",
            "linecolor": "white",
            "ticks": ""
           }
          },
          "coloraxis": {
           "colorbar": {
            "outlinewidth": 0,
            "ticks": ""
           }
          },
          "colorscale": {
           "sequential": [
            [
             0.0,
             "#0d0887"
            ],
            [
             0.1111111111111111,
             "#46039f"
            ],
            [
             0.2222222222222222,
             "#7201a8"
            ],
            [
             0.3333333333333333,
             "#9c179e"
            ],
            [
             0.4444444444444444,
             "#bd3786"
            ],
            [
             0.5555555555555556,
             "#d8576b"
            ],
            [
             0.6666666666666666,
             "#ed7953"
            ],
            [
             0.7777777777777778,
             "#fb9f3a"
            ],
            [
             0.8888888888888888,
             "#fdca26"
            ],
            [
             1.0,
             "#f0f921"
            ]
           ],
           "sequentialminus": [
            [
             0.0,
             "#0d0887"
            ],
            [
             0.1111111111111111,
             "#46039f"
            ],
            [
             0.2222222222222222,
             "#7201a8"
            ],
            [
             0.3333333333333333,
             "#9c179e"
            ],
            [
             0.4444444444444444,
             "#bd3786"
            ],
            [
             0.5555555555555556,
             "#d8576b"
            ],
            [
             0.6666666666666666,
             "#ed7953"
            ],
            [
             0.7777777777777778,
             "#fb9f3a"
            ],
            [
             0.8888888888888888,
             "#fdca26"
            ],
            [
             1.0,
             "#f0f921"
            ]
           ],
           "diverging": [
            [
             0,
             "#8e0152"
            ],
            [
             0.1,
             "#c51b7d"
            ],
            [
             0.2,
             "#de77ae"
            ],
            [
             0.3,
             "#f1b6da"
            ],
            [
             0.4,
             "#fde0ef"
            ],
            [
             0.5,
             "#f7f7f7"
            ],
            [
             0.6,
             "#e6f5d0"
            ],
            [
             0.7,
             "#b8e186"
            ],
            [
             0.8,
             "#7fbc41"
            ],
            [
             0.9,
             "#4d9221"
            ],
            [
             1,
             "#276419"
            ]
           ]
          },
          "xaxis": {
           "gridcolor": "white",
           "linecolor": "white",
           "ticks": "",
           "title": {
            "standoff": 15
           },
           "zerolinecolor": "white",
           "automargin": true,
           "zerolinewidth": 2
          },
          "yaxis": {
           "gridcolor": "white",
           "linecolor": "white",
           "ticks": "",
           "title": {
            "standoff": 15
           },
           "zerolinecolor": "white",
           "automargin": true,
           "zerolinewidth": 2
          },
          "scene": {
           "xaxis": {
            "backgroundcolor": "#E5ECF6",
            "gridcolor": "white",
            "linecolor": "white",
            "showbackground": true,
            "ticks": "",
            "zerolinecolor": "white",
            "gridwidth": 2
           },
           "yaxis": {
            "backgroundcolor": "#E5ECF6",
            "gridcolor": "white",
            "linecolor": "white",
            "showbackground": true,
            "ticks": "",
            "zerolinecolor": "white",
            "gridwidth": 2
           },
           "zaxis": {
            "backgroundcolor": "#E5ECF6",
            "gridcolor": "white",
            "linecolor": "white",
            "showbackground": true,
            "ticks": "",
            "zerolinecolor": "white",
            "gridwidth": 2
           }
          },
          "shapedefaults": {
           "line": {
            "color": "#2a3f5f"
           }
          },
          "annotationdefaults": {
           "arrowcolor": "#2a3f5f",
           "arrowhead": 0,
           "arrowwidth": 1
          },
          "geo": {
           "bgcolor": "white",
           "landcolor": "#E5ECF6",
           "subunitcolor": "white",
           "showland": true,
           "showlakes": true,
           "lakecolor": "white"
          },
          "title": {
           "x": 0.05
          },
          "mapbox": {
           "style": "light"
          }
         }
        },
        "font": {
         "color": "white",
         "family": "DejaVu Sans, Arial, Liberation Sans, sans-serif",
         "size": 14
        },
        "title": {
         "text": "Job Shop Schedule - Makespan 105",
         "font": {
          "color": "white"
         }
        },
        "legend": {
         "title": {
          "font": {
           "color": "white"
          },
          "text": "Item"
         },
         "groupclick": "togglegroup"
        },
        "margin": {
         "l": 80,
         "r": 40,
         "t": 60,
         "b": 50
        },
        "xaxis": {
         "tickfont": {
          "size": 20,
          "color": "white"
         },
         "showgrid": true,
         "gridcolor": "lightgray",
         "title": {
          "text": "Time"
         },
         "color": "white",
         "range": [
          0,
          105
         ]
        },
        "yaxis": {
         "tickfont": {
          "size": 20
         },
         "showgrid": true,
         "gridcolor": "lightgray",
         "title": {
          "text": "Resource"
         },
         "color": "white",
         "categoryorder": "array",
         "categoryarray": [
          "PACK #10",
          "PACK #11",
          "GRIP & SCREW #9",
          "GRIP #8",
          "KIT #6",
          "KIT #7",
          "Robot #1",
          "Robot #2",
          "Operator #1",
          "Operator #2",
          "Operator #3"
         ]
        },
        "width": 1305,
        "height": 450,
        "autosize": false,
        "plot_bgcolor": "black",
        "paper_bgcolor": "black",
        "barmode": "overlay",
        "bargap": 0.05,
        "bargroupgap": 0.0
       },
       "config": {
        "toImageButtonOptions": {
         "format": "png",
         "filename": "schedule",
         "width": 1305,
         "height": 450,
         "scale": 3
        },
        "plotlyServerURL": "https://plot.ly"
       }
      }
     },
     "metadata": {},
     "output_type": "display_data"
    }
   ],
   "execution_count": 11
  },
  {
   "metadata": {
    "ExecuteTime": {
     "end_time": "2025-10-14T13:11:07.555768Z",
     "start_time": "2025-10-14T13:11:07.535606Z"
    }
   },
   "cell_type": "code",
   "source": "problem.make_ws_updated()",
   "id": "51f4018d66f36bdf",
   "outputs": [
    {
     "data": {
      "application/vnd.plotly.v1+json": {
       "data": [],
       "layout": {
        "template": {
         "data": {
          "histogram2dcontour": [
           {
            "type": "histogram2dcontour",
            "colorbar": {
             "outlinewidth": 0,
             "ticks": ""
            },
            "colorscale": [
             [
              0.0,
              "#0d0887"
             ],
             [
              0.1111111111111111,
              "#46039f"
             ],
             [
              0.2222222222222222,
              "#7201a8"
             ],
             [
              0.3333333333333333,
              "#9c179e"
             ],
             [
              0.4444444444444444,
              "#bd3786"
             ],
             [
              0.5555555555555556,
              "#d8576b"
             ],
             [
              0.6666666666666666,
              "#ed7953"
             ],
             [
              0.7777777777777778,
              "#fb9f3a"
             ],
             [
              0.8888888888888888,
              "#fdca26"
             ],
             [
              1.0,
              "#f0f921"
             ]
            ]
           }
          ],
          "choropleth": [
           {
            "type": "choropleth",
            "colorbar": {
             "outlinewidth": 0,
             "ticks": ""
            }
           }
          ],
          "histogram2d": [
           {
            "type": "histogram2d",
            "colorbar": {
             "outlinewidth": 0,
             "ticks": ""
            },
            "colorscale": [
             [
              0.0,
              "#0d0887"
             ],
             [
              0.1111111111111111,
              "#46039f"
             ],
             [
              0.2222222222222222,
              "#7201a8"
             ],
             [
              0.3333333333333333,
              "#9c179e"
             ],
             [
              0.4444444444444444,
              "#bd3786"
             ],
             [
              0.5555555555555556,
              "#d8576b"
             ],
             [
              0.6666666666666666,
              "#ed7953"
             ],
             [
              0.7777777777777778,
              "#fb9f3a"
             ],
             [
              0.8888888888888888,
              "#fdca26"
             ],
             [
              1.0,
              "#f0f921"
             ]
            ]
           }
          ],
          "heatmap": [
           {
            "type": "heatmap",
            "colorbar": {
             "outlinewidth": 0,
             "ticks": ""
            },
            "colorscale": [
             [
              0.0,
              "#0d0887"
             ],
             [
              0.1111111111111111,
              "#46039f"
             ],
             [
              0.2222222222222222,
              "#7201a8"
             ],
             [
              0.3333333333333333,
              "#9c179e"
             ],
             [
              0.4444444444444444,
              "#bd3786"
             ],
             [
              0.5555555555555556,
              "#d8576b"
             ],
             [
              0.6666666666666666,
              "#ed7953"
             ],
             [
              0.7777777777777778,
              "#fb9f3a"
             ],
             [
              0.8888888888888888,
              "#fdca26"
             ],
             [
              1.0,
              "#f0f921"
             ]
            ]
           }
          ],
          "contourcarpet": [
           {
            "type": "contourcarpet",
            "colorbar": {
             "outlinewidth": 0,
             "ticks": ""
            }
           }
          ],
          "contour": [
           {
            "type": "contour",
            "colorbar": {
             "outlinewidth": 0,
             "ticks": ""
            },
            "colorscale": [
             [
              0.0,
              "#0d0887"
             ],
             [
              0.1111111111111111,
              "#46039f"
             ],
             [
              0.2222222222222222,
              "#7201a8"
             ],
             [
              0.3333333333333333,
              "#9c179e"
             ],
             [
              0.4444444444444444,
              "#bd3786"
             ],
             [
              0.5555555555555556,
              "#d8576b"
             ],
             [
              0.6666666666666666,
              "#ed7953"
             ],
             [
              0.7777777777777778,
              "#fb9f3a"
             ],
             [
              0.8888888888888888,
              "#fdca26"
             ],
             [
              1.0,
              "#f0f921"
             ]
            ]
           }
          ],
          "surface": [
           {
            "type": "surface",
            "colorbar": {
             "outlinewidth": 0,
             "ticks": ""
            },
            "colorscale": [
             [
              0.0,
              "#0d0887"
             ],
             [
              0.1111111111111111,
              "#46039f"
             ],
             [
              0.2222222222222222,
              "#7201a8"
             ],
             [
              0.3333333333333333,
              "#9c179e"
             ],
             [
              0.4444444444444444,
              "#bd3786"
             ],
             [
              0.5555555555555556,
              "#d8576b"
             ],
             [
              0.6666666666666666,
              "#ed7953"
             ],
             [
              0.7777777777777778,
              "#fb9f3a"
             ],
             [
              0.8888888888888888,
              "#fdca26"
             ],
             [
              1.0,
              "#f0f921"
             ]
            ]
           }
          ],
          "mesh3d": [
           {
            "type": "mesh3d",
            "colorbar": {
             "outlinewidth": 0,
             "ticks": ""
            }
           }
          ],
          "scatter": [
           {
            "fillpattern": {
             "fillmode": "overlay",
             "size": 10,
             "solidity": 0.2
            },
            "type": "scatter"
           }
          ],
          "parcoords": [
           {
            "type": "parcoords",
            "line": {
             "colorbar": {
              "outlinewidth": 0,
              "ticks": ""
             }
            }
           }
          ],
          "scatterpolargl": [
           {
            "type": "scatterpolargl",
            "marker": {
             "colorbar": {
              "outlinewidth": 0,
              "ticks": ""
             }
            }
           }
          ],
          "bar": [
           {
            "error_x": {
             "color": "#2a3f5f"
            },
            "error_y": {
             "color": "#2a3f5f"
            },
            "marker": {
             "line": {
              "color": "#E5ECF6",
              "width": 0.5
             },
             "pattern": {
              "fillmode": "overlay",
              "size": 10,
              "solidity": 0.2
             }
            },
            "type": "bar"
           }
          ],
          "scattergeo": [
           {
            "type": "scattergeo",
            "marker": {
             "colorbar": {
              "outlinewidth": 0,
              "ticks": ""
             }
            }
           }
          ],
          "scatterpolar": [
           {
            "type": "scatterpolar",
            "marker": {
             "colorbar": {
              "outlinewidth": 0,
              "ticks": ""
             }
            }
           }
          ],
          "histogram": [
           {
            "marker": {
             "pattern": {
              "fillmode": "overlay",
              "size": 10,
              "solidity": 0.2
             }
            },
            "type": "histogram"
           }
          ],
          "scattergl": [
           {
            "type": "scattergl",
            "marker": {
             "colorbar": {
              "outlinewidth": 0,
              "ticks": ""
             }
            }
           }
          ],
          "scatter3d": [
           {
            "type": "scatter3d",
            "line": {
             "colorbar": {
              "outlinewidth": 0,
              "ticks": ""
             }
            },
            "marker": {
             "colorbar": {
              "outlinewidth": 0,
              "ticks": ""
             }
            }
           }
          ],
          "scattermap": [
           {
            "type": "scattermap",
            "marker": {
             "colorbar": {
              "outlinewidth": 0,
              "ticks": ""
             }
            }
           }
          ],
          "scattermapbox": [
           {
            "type": "scattermapbox",
            "marker": {
             "colorbar": {
              "outlinewidth": 0,
              "ticks": ""
             }
            }
           }
          ],
          "scatterternary": [
           {
            "type": "scatterternary",
            "marker": {
             "colorbar": {
              "outlinewidth": 0,
              "ticks": ""
             }
            }
           }
          ],
          "scattercarpet": [
           {
            "type": "scattercarpet",
            "marker": {
             "colorbar": {
              "outlinewidth": 0,
              "ticks": ""
             }
            }
           }
          ],
          "carpet": [
           {
            "aaxis": {
             "endlinecolor": "#2a3f5f",
             "gridcolor": "white",
             "linecolor": "white",
             "minorgridcolor": "white",
             "startlinecolor": "#2a3f5f"
            },
            "baxis": {
             "endlinecolor": "#2a3f5f",
             "gridcolor": "white",
             "linecolor": "white",
             "minorgridcolor": "white",
             "startlinecolor": "#2a3f5f"
            },
            "type": "carpet"
           }
          ],
          "table": [
           {
            "cells": {
             "fill": {
              "color": "#EBF0F8"
             },
             "line": {
              "color": "white"
             }
            },
            "header": {
             "fill": {
              "color": "#C8D4E3"
             },
             "line": {
              "color": "white"
             }
            },
            "type": "table"
           }
          ],
          "barpolar": [
           {
            "marker": {
             "line": {
              "color": "#E5ECF6",
              "width": 0.5
             },
             "pattern": {
              "fillmode": "overlay",
              "size": 10,
              "solidity": 0.2
             }
            },
            "type": "barpolar"
           }
          ],
          "pie": [
           {
            "automargin": true,
            "type": "pie"
           }
          ]
         },
         "layout": {
          "autotypenumbers": "strict",
          "colorway": [
           "#636efa",
           "#EF553B",
           "#00cc96",
           "#ab63fa",
           "#FFA15A",
           "#19d3f3",
           "#FF6692",
           "#B6E880",
           "#FF97FF",
           "#FECB52"
          ],
          "font": {
           "color": "#2a3f5f"
          },
          "hovermode": "closest",
          "hoverlabel": {
           "align": "left"
          },
          "paper_bgcolor": "white",
          "plot_bgcolor": "#E5ECF6",
          "polar": {
           "bgcolor": "#E5ECF6",
           "angularaxis": {
            "gridcolor": "white",
            "linecolor": "white",
            "ticks": ""
           },
           "radialaxis": {
            "gridcolor": "white",
            "linecolor": "white",
            "ticks": ""
           }
          },
          "ternary": {
           "bgcolor": "#E5ECF6",
           "aaxis": {
            "gridcolor": "white",
            "linecolor": "white",
            "ticks": ""
           },
           "baxis": {
            "gridcolor": "white",
            "linecolor": "white",
            "ticks": ""
           },
           "caxis": {
            "gridcolor": "white",
            "linecolor": "white",
            "ticks": ""
           }
          },
          "coloraxis": {
           "colorbar": {
            "outlinewidth": 0,
            "ticks": ""
           }
          },
          "colorscale": {
           "sequential": [
            [
             0.0,
             "#0d0887"
            ],
            [
             0.1111111111111111,
             "#46039f"
            ],
            [
             0.2222222222222222,
             "#7201a8"
            ],
            [
             0.3333333333333333,
             "#9c179e"
            ],
            [
             0.4444444444444444,
             "#bd3786"
            ],
            [
             0.5555555555555556,
             "#d8576b"
            ],
            [
             0.6666666666666666,
             "#ed7953"
            ],
            [
             0.7777777777777778,
             "#fb9f3a"
            ],
            [
             0.8888888888888888,
             "#fdca26"
            ],
            [
             1.0,
             "#f0f921"
            ]
           ],
           "sequentialminus": [
            [
             0.0,
             "#0d0887"
            ],
            [
             0.1111111111111111,
             "#46039f"
            ],
            [
             0.2222222222222222,
             "#7201a8"
            ],
            [
             0.3333333333333333,
             "#9c179e"
            ],
            [
             0.4444444444444444,
             "#bd3786"
            ],
            [
             0.5555555555555556,
             "#d8576b"
            ],
            [
             0.6666666666666666,
             "#ed7953"
            ],
            [
             0.7777777777777778,
             "#fb9f3a"
            ],
            [
             0.8888888888888888,
             "#fdca26"
            ],
            [
             1.0,
             "#f0f921"
            ]
           ],
           "diverging": [
            [
             0,
             "#8e0152"
            ],
            [
             0.1,
             "#c51b7d"
            ],
            [
             0.2,
             "#de77ae"
            ],
            [
             0.3,
             "#f1b6da"
            ],
            [
             0.4,
             "#fde0ef"
            ],
            [
             0.5,
             "#f7f7f7"
            ],
            [
             0.6,
             "#e6f5d0"
            ],
            [
             0.7,
             "#b8e186"
            ],
            [
             0.8,
             "#7fbc41"
            ],
            [
             0.9,
             "#4d9221"
            ],
            [
             1,
             "#276419"
            ]
           ]
          },
          "xaxis": {
           "gridcolor": "white",
           "linecolor": "white",
           "ticks": "",
           "title": {
            "standoff": 15
           },
           "zerolinecolor": "white",
           "automargin": true,
           "zerolinewidth": 2
          },
          "yaxis": {
           "gridcolor": "white",
           "linecolor": "white",
           "ticks": "",
           "title": {
            "standoff": 15
           },
           "zerolinecolor": "white",
           "automargin": true,
           "zerolinewidth": 2
          },
          "scene": {
           "xaxis": {
            "backgroundcolor": "#E5ECF6",
            "gridcolor": "white",
            "linecolor": "white",
            "showbackground": true,
            "ticks": "",
            "zerolinecolor": "white",
            "gridwidth": 2
           },
           "yaxis": {
            "backgroundcolor": "#E5ECF6",
            "gridcolor": "white",
            "linecolor": "white",
            "showbackground": true,
            "ticks": "",
            "zerolinecolor": "white",
            "gridwidth": 2
           },
           "zaxis": {
            "backgroundcolor": "#E5ECF6",
            "gridcolor": "white",
            "linecolor": "white",
            "showbackground": true,
            "ticks": "",
            "zerolinecolor": "white",
            "gridwidth": 2
           }
          },
          "shapedefaults": {
           "line": {
            "color": "#2a3f5f"
           }
          },
          "annotationdefaults": {
           "arrowcolor": "#2a3f5f",
           "arrowhead": 0,
           "arrowwidth": 1
          },
          "geo": {
           "bgcolor": "white",
           "landcolor": "#E5ECF6",
           "subunitcolor": "white",
           "showland": true,
           "showlakes": true,
           "lakecolor": "white"
          },
          "title": {
           "x": 0.05
          },
          "mapbox": {
           "style": "light"
          }
         }
        },
        "title": {
         "font": {
          "size": 27
         },
         "pad": {
          "t": 0,
          "b": 0,
          "l": 0,
          "r": 0
         },
         "text": "Updated Workstation Topology",
         "x": 0.5,
         "xanchor": "center"
        },
        "xaxis": {
         "visible": false,
         "range": [
          -3.1875,
          16.4375
         ]
        },
        "yaxis": {
         "visible": false,
         "range": [
          -2.0625,
          4.6875
         ],
         "scaleanchor": "x",
         "scaleratio": 1
        },
        "margin": {
         "l": 0,
         "r": 0,
         "t": 0,
         "b": 0
        },
        "paper_bgcolor": "black",
        "plot_bgcolor": "black",
        "shapes": [
         {
          "fillcolor": "rgba(66,135,245,0.10)",
          "line": {
           "width": 0
          },
          "type": "rect",
          "x0": -3.125,
          "x1": 3.125,
          "xref": "x",
          "y0": -2.0,
          "y1": 2.0,
          "yref": "y"
         },
         {
          "fillcolor": "rgba(66,135,245,1)",
          "line": {
           "color": "white",
           "width": 2
          },
          "type": "rect",
          "x0": -1.875,
          "x1": 1.875,
          "xref": "x",
          "y0": 0.40625,
          "y1": 1.34375,
          "yref": "y"
         },
         {
          "fillcolor": "rgba(66,135,245,1)",
          "line": {
           "color": "white",
           "width": 2
          },
          "type": "rect",
          "x0": -1.875,
          "x1": 1.875,
          "xref": "x",
          "y0": -1.34375,
          "y1": -0.40625,
          "yref": "y"
         },
         {
          "fillcolor": "rgba(255,159,67,0.10)",
          "line": {
           "width": 0
          },
          "type": "rect",
          "x0": 3.5,
          "x1": 9.75,
          "xref": "x",
          "y0": -2.0,
          "y1": 2.0,
          "yref": "y"
         },
         {
          "fillcolor": "rgba(40,199,111,1)",
          "line": {
           "color": "white",
           "width": 2
          },
          "type": "rect",
          "x0": 4.75,
          "x1": 8.5,
          "xref": "x",
          "y0": 0.40625,
          "y1": 1.34375,
          "yref": "y"
         },
         {
          "fillcolor": "rgba(255,159,67,1)",
          "line": {
           "color": "white",
           "width": 2
          },
          "type": "rect",
          "x0": 4.75,
          "x1": 8.5,
          "xref": "x",
          "y0": -1.34375,
          "y1": -0.40625,
          "yref": "y"
         },
         {
          "fillcolor": "rgba(235,87,87,0.10)",
          "line": {
           "width": 0
          },
          "type": "rect",
          "x0": 10.125,
          "x1": 16.375,
          "xref": "x",
          "y0": -2.0,
          "y1": 2.0,
          "yref": "y"
         },
         {
          "fillcolor": "rgba(235,87,87,1)",
          "line": {
           "color": "white",
           "width": 2
          },
          "type": "rect",
          "x0": 11.375,
          "x1": 15.125,
          "xref": "x",
          "y0": 0.40625,
          "y1": 1.34375,
          "yref": "y"
         },
         {
          "fillcolor": "rgba(235,87,87,1)",
          "line": {
           "color": "white",
           "width": 2
          },
          "type": "rect",
          "x0": 11.375,
          "x1": 15.125,
          "xref": "x",
          "y0": -1.34375,
          "y1": -0.40625,
          "yref": "y"
         },
         {
          "fillcolor": "#C64191",
          "line": {
           "color": "white",
           "width": 2
          },
          "type": "rect",
          "x0": 7.375,
          "x1": 9.875,
          "xref": "x",
          "y0": 3.375,
          "y1": 4.625,
          "yref": "y"
         },
         {
          "fillcolor": "#DCABDF",
          "line": {
           "color": "white",
           "width": 2
          },
          "type": "rect",
          "x0": 3.375,
          "x1": 5.875,
          "xref": "x",
          "y0": 3.375,
          "y1": 4.625,
          "yref": "y"
         }
        ],
        "annotations": [
         {
          "font": {
           "color": "#FFFFFF",
           "size": 37
          },
          "showarrow": false,
          "text": "<b>Kitting</b>",
          "x": 0.0,
          "xanchor": "center",
          "xref": "x",
          "y": 2.125,
          "yref": "y"
         },
         {
          "font": {
           "color": "#FFFFFF",
           "size": 40
          },
          "showarrow": false,
          "text": "<b>id:6 kitting</b>",
          "x": 0.0,
          "xanchor": "center",
          "xref": "x",
          "y": 0.875,
          "yanchor": "middle",
          "yref": "y"
         },
         {
          "font": {
           "color": "#FFFFFF",
           "size": 40
          },
          "showarrow": false,
          "text": "<b>id:7 kitting</b>",
          "x": 0.0,
          "xanchor": "center",
          "xref": "x",
          "y": -0.875,
          "yanchor": "middle",
          "yref": "y"
         },
         {
          "font": {
           "color": "#FFFFFF",
           "size": 37
          },
          "showarrow": false,
          "text": "<b>Build</b>",
          "x": 6.625,
          "xanchor": "center",
          "xref": "x",
          "y": 2.125,
          "yref": "y"
         },
         {
          "font": {
           "color": "#FFFFFF",
           "size": 40
          },
          "showarrow": false,
          "text": "<b>id:8 grip</b>",
          "x": 6.625,
          "xanchor": "center",
          "xref": "x",
          "y": 0.875,
          "yanchor": "middle",
          "yref": "y"
         },
         {
          "font": {
           "color": "#FFFFFF",
           "size": 40
          },
          "showarrow": false,
          "text": "<b>id:9 grip & screws</b>",
          "x": 6.625,
          "xanchor": "center",
          "xref": "x",
          "y": -0.875,
          "yanchor": "middle",
          "yref": "y"
         },
         {
          "font": {
           "color": "#FFFFFF",
           "size": 37
          },
          "showarrow": false,
          "text": "<b>Packing</b>",
          "x": 13.25,
          "xanchor": "center",
          "xref": "x",
          "y": 2.125,
          "yref": "y"
         },
         {
          "font": {
           "color": "#FFFFFF",
           "size": 40
          },
          "showarrow": false,
          "text": "<b>id:10 pallet</b>",
          "x": 13.25,
          "xanchor": "center",
          "xref": "x",
          "y": 0.875,
          "yanchor": "middle",
          "yref": "y"
         },
         {
          "font": {
           "color": "#FFFFFF",
           "size": 40
          },
          "showarrow": false,
          "text": "<b>id:11 pallet</b>",
          "x": 13.25,
          "xanchor": "center",
          "xref": "x",
          "y": -0.875,
          "yanchor": "middle",
          "yref": "y"
         },
         {
          "font": {
           "color": "#000000",
           "size": 40
          },
          "showarrow": false,
          "text": "<b>3 operators</b>",
          "x": 8.625,
          "xanchor": "center",
          "xref": "x",
          "y": 4.0,
          "yanchor": "middle",
          "yref": "y"
         },
         {
          "font": {
           "color": "#000000",
           "size": 40
          },
          "showarrow": false,
          "text": "<b>1 robot</b>",
          "x": 4.625,
          "xanchor": "center",
          "xref": "x",
          "y": 4.0,
          "yanchor": "middle",
          "yref": "y"
         },
         {
          "arrowcolor": "#DDDDDD",
          "arrowhead": 3,
          "arrowsize": 2.2,
          "arrowwidth": 4,
          "ax": 0.0,
          "axref": "x",
          "ay": 0.875,
          "ayref": "y",
          "opacity": 1.0,
          "showarrow": true,
          "text": "",
          "x": 6.625,
          "xref": "x",
          "y": 0.875,
          "yref": "y"
         },
         {
          "arrowcolor": "#DDDDDD",
          "arrowhead": 3,
          "arrowsize": 2.2,
          "arrowwidth": 4,
          "ax": 0.0,
          "axref": "x",
          "ay": -0.875,
          "ayref": "y",
          "opacity": 1.0,
          "showarrow": true,
          "text": "",
          "x": 6.625,
          "xref": "x",
          "y": -0.875,
          "yref": "y"
         },
         {
          "arrowcolor": "#DDDDDD",
          "arrowhead": 3,
          "arrowsize": 2.2,
          "arrowwidth": 4,
          "ax": 6.625,
          "axref": "x",
          "ay": -0.875,
          "ayref": "y",
          "opacity": 1.0,
          "showarrow": true,
          "text": "",
          "x": 13.25,
          "xref": "x",
          "y": 0.875,
          "yref": "y"
         }
        ],
        "width": 2000,
        "height": 1125,
        "autosize": false
       },
       "config": {
        "plotlyServerURL": "https://plot.ly"
       }
      }
     },
     "metadata": {},
     "output_type": "display_data"
    }
   ],
   "execution_count": 7
  },
  {
   "metadata": {
    "ExecuteTime": {
     "end_time": "2025-10-14T12:38:33.399828Z",
     "start_time": "2025-10-14T12:38:33.393028Z"
    }
   },
   "cell_type": "code",
   "source": "",
   "id": "f9e558868a13b919",
   "outputs": [],
   "execution_count": null
  }
 ],
 "metadata": {
  "kernelspec": {
   "display_name": "Python 3 (ipykernel)",
   "language": "python",
   "name": "python3"
  },
  "language_info": {
   "codemirror_mode": {
    "name": "ipython",
    "version": 2
   },
   "file_extension": ".py",
   "mimetype": "text/x-python",
   "name": "python",
   "nbconvert_exporter": "python",
   "pygments_lexer": "ipython2",
   "version": "2.7.6"
  }
 },
 "nbformat": 4,
 "nbformat_minor": 5
}
