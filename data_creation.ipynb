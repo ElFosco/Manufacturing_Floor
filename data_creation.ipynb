{
 "cells": [
  {
   "cell_type": "code",
   "execution_count": 42,
   "outputs": [],
   "source": [
    "import json\n",
    "import cpmpy as cp\n",
    "import itertools\n",
    "import time\n",
    "from collections import defaultdict\n",
    "import plotly.express as px\n",
    "import pandas as pd"
   ],
   "metadata": {
    "collapsed": false
   }
  },
  {
   "cell_type": "code",
   "execution_count": 43,
   "outputs": [
    {
     "name": "stdout",
     "output_type": "stream",
     "text": [
      "{'Source_Source', 'Cell_0_Warehouse_0', 'Cell_0_Warehouse_1', 'Cell_0_Binpick', 'Cell_0_Carrousel', 'Cell_0_Transport', 'Cell_0_Staubli', 'Sink_Sink'}\n"
     ]
    }
   ],
   "source": [
    "ub = int(1e4)\n",
    "M = int(1e10)\n",
    "solver = 'ortools'\n",
    "cp_formulation = True\n",
    "with open(\"data/model.json\") as json_file:\n",
    "    items = json.load(json_file)\n",
    "\n",
    "jobs = items['nodes']\n",
    "constraint = items['edges']\n",
    "\n",
    "resource_set = set()\n",
    "\n",
    "for job in jobs:\n",
    "    resource = jobs[job]['properties']['Resource']['value']\n",
    "    resource_set.add(resource)\n",
    "\n",
    "print(resource_set)\n",
    "\n",
    "\n",
    "for job in jobs:\n",
    "    resource = [jobs[job]['properties']['Resource']]\n",
    "    jobs[job]['properties']['Resource'] = resource\n"
   ],
   "metadata": {
    "collapsed": false
   }
  },
  {
   "cell_type": "markdown",
   "source": [
    "Let's add the fact that there is a second cell with one staubli and one binpick and that in can be used for each job"
   ],
   "metadata": {
    "collapsed": false
   }
  },
  {
   "cell_type": "code",
   "execution_count": 36,
   "outputs": [],
   "source": [
    "for job in jobs:\n",
    "    name_resource = jobs[job]['properties']['Resource'][0]['value']\n",
    "    if name_resource=='Cell_0_Staubli':\n",
    "        name_resource = 'Cell_1_Staubli'\n",
    "        resource = jobs[job]['properties']['Resource'][0].copy()\n",
    "        resource['value'] = name_resource\n",
    "        jobs[job]['properties']['Resource'].append(resource)\n",
    "    elif name_resource=='Cell_0_Binpick':\n",
    "        name_resource = 'Cell_1_Binpick'\n",
    "        resource = jobs[job]['properties']['Resource'][0].copy()\n",
    "        resource['value'] = name_resource\n",
    "        jobs[job]['properties']['Resource'].append(resource)"
   ],
   "metadata": {
    "collapsed": false
   }
  },
  {
   "cell_type": "code",
   "execution_count": 44,
   "outputs": [],
   "source": [
    "items['nodes'] = jobs"
   ],
   "metadata": {
    "collapsed": false
   }
  },
  {
   "cell_type": "code",
   "execution_count": 46,
   "outputs": [],
   "source": [
    "with open('my_data.json', 'w') as json_file:\n",
    "    json.dump(items, json_file, indent=4)"
   ],
   "metadata": {
    "collapsed": false
   }
  },
  {
   "cell_type": "code",
   "execution_count": null,
   "outputs": [],
   "source": [],
   "metadata": {
    "collapsed": false
   }
  }
 ],
 "metadata": {
  "kernelspec": {
   "display_name": "Python 3",
   "language": "python",
   "name": "python3"
  },
  "language_info": {
   "codemirror_mode": {
    "name": "ipython",
    "version": 2
   },
   "file_extension": ".py",
   "mimetype": "text/x-python",
   "name": "python",
   "nbconvert_exporter": "python",
   "pygments_lexer": "ipython2",
   "version": "2.7.6"
  }
 },
 "nbformat": 4,
 "nbformat_minor": 0
}
