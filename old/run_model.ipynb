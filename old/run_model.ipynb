{
 "cells": [
  {
   "cell_type": "code",
   "id": "initial_id",
   "metadata": {
    "collapsed": true,
    "ExecuteTime": {
     "end_time": "2025-04-07T14:25:25.652170Z",
     "start_time": "2025-04-07T14:25:25.225533Z"
    }
   },
   "source": [
    "import json\n",
    "from old.model_mf import MFModelCP, MFModelILP, MFSModelCP, MFSModelILP\n",
    "import time\n",
    "import plotly.express as px\n",
    "import pandas as pd\n"
   ],
   "outputs": [],
   "execution_count": 1
  },
  {
   "metadata": {
    "ExecuteTime": {
     "end_time": "2025-04-07T14:25:26.320954Z",
     "start_time": "2025-04-07T14:25:26.308832Z"
    }
   },
   "cell_type": "code",
   "source": [
    "with open(\"../data/model.json\") as json_file:\n",
    "    data = json.load(json_file)\n",
    "\n"
   ],
   "id": "c4ba37d43a9304c6",
   "outputs": [],
   "execution_count": 2
  },
  {
   "metadata": {
    "ExecuteTime": {
     "end_time": "2025-04-07T15:02:39.588270Z",
     "start_time": "2025-04-07T15:02:36.607760Z"
    }
   },
   "cell_type": "code",
   "source": [
    "model_cp = MFModelCP(data)\n",
    "\n",
    "for solver in ['ortools']:\n",
    "    start = time.time()\n",
    "    if model_cp.solve(solver=solver,time_limit=60):\n",
    "        end = time.time()\n",
    "        print(f'Solving for {solver} with CP formulation: {end-start} seconds and {model_cp.get_makespan()} of makespan')\n",
    "    else:\n",
    "        print(f'Timeout reached for {solver} with CP formulation')"
   ],
   "id": "aa8c626e5495276f",
   "outputs": [
    {
     "ename": "KeyboardInterrupt",
     "evalue": "",
     "output_type": "error",
     "traceback": [
      "\u001B[0;31m---------------------------------------------------------------------------\u001B[0m",
      "\u001B[0;31mKeyboardInterrupt\u001B[0m                         Traceback (most recent call last)",
      "Cell \u001B[0;32mIn[4], line 1\u001B[0m\n\u001B[0;32m----> 1\u001B[0m model_cp \u001B[38;5;241m=\u001B[39m MFModelCP(data)\n\u001B[1;32m      3\u001B[0m \u001B[38;5;28;01mfor\u001B[39;00m solver \u001B[38;5;129;01min\u001B[39;00m [\u001B[38;5;124m'\u001B[39m\u001B[38;5;124mortools\u001B[39m\u001B[38;5;124m'\u001B[39m]:\n\u001B[1;32m      4\u001B[0m     start \u001B[38;5;241m=\u001B[39m time\u001B[38;5;241m.\u001B[39mtime()\n",
      "File \u001B[0;32m~/.local/share/JetBrains/Toolbox/apps/pycharm-professional/plugins/python-ce/helpers/pydev/_pydevd_bundle/pydevd_frame.py:755\u001B[0m, in \u001B[0;36mPyDBFrame.trace_dispatch\u001B[0;34m(self, frame, event, arg)\u001B[0m\n\u001B[1;32m    753\u001B[0m \u001B[38;5;66;03m# if thread has a suspend flag, we suspend with a busy wait\u001B[39;00m\n\u001B[1;32m    754\u001B[0m \u001B[38;5;28;01mif\u001B[39;00m info\u001B[38;5;241m.\u001B[39mpydev_state \u001B[38;5;241m==\u001B[39m STATE_SUSPEND:\n\u001B[0;32m--> 755\u001B[0m     \u001B[38;5;28;43mself\u001B[39;49m\u001B[38;5;241;43m.\u001B[39;49m\u001B[43mdo_wait_suspend\u001B[49m\u001B[43m(\u001B[49m\u001B[43mthread\u001B[49m\u001B[43m,\u001B[49m\u001B[43m \u001B[49m\u001B[43mframe\u001B[49m\u001B[43m,\u001B[49m\u001B[43m \u001B[49m\u001B[43mevent\u001B[49m\u001B[43m,\u001B[49m\u001B[43m \u001B[49m\u001B[43marg\u001B[49m\u001B[43m)\u001B[49m\n\u001B[1;32m    756\u001B[0m     \u001B[38;5;66;03m# No need to reset frame.f_trace to keep the same trace function.\u001B[39;00m\n\u001B[1;32m    757\u001B[0m     \u001B[38;5;28;01mreturn\u001B[39;00m \u001B[38;5;28mself\u001B[39m\u001B[38;5;241m.\u001B[39mtrace_dispatch\n",
      "File \u001B[0;32m~/.local/share/JetBrains/Toolbox/apps/pycharm-professional/plugins/python-ce/helpers/pydev/_pydevd_bundle/pydevd_frame.py:412\u001B[0m, in \u001B[0;36mPyDBFrame.do_wait_suspend\u001B[0;34m(self, *args, **kwargs)\u001B[0m\n\u001B[1;32m    411\u001B[0m \u001B[38;5;28;01mdef\u001B[39;00m \u001B[38;5;21mdo_wait_suspend\u001B[39m(\u001B[38;5;28mself\u001B[39m, \u001B[38;5;241m*\u001B[39margs, \u001B[38;5;241m*\u001B[39m\u001B[38;5;241m*\u001B[39mkwargs):\n\u001B[0;32m--> 412\u001B[0m     \u001B[38;5;28;43mself\u001B[39;49m\u001B[38;5;241;43m.\u001B[39;49m\u001B[43m_args\u001B[49m\u001B[43m[\u001B[49m\u001B[38;5;241;43m0\u001B[39;49m\u001B[43m]\u001B[49m\u001B[38;5;241;43m.\u001B[39;49m\u001B[43mdo_wait_suspend\u001B[49m\u001B[43m(\u001B[49m\u001B[38;5;241;43m*\u001B[39;49m\u001B[43margs\u001B[49m\u001B[43m,\u001B[49m\u001B[43m \u001B[49m\u001B[38;5;241;43m*\u001B[39;49m\u001B[38;5;241;43m*\u001B[39;49m\u001B[43mkwargs\u001B[49m\u001B[43m)\u001B[49m\n",
      "File \u001B[0;32m~/.local/share/JetBrains/Toolbox/apps/pycharm-professional/plugins/python-ce/helpers/pydev/pydevd.py:1220\u001B[0m, in \u001B[0;36mPyDB.do_wait_suspend\u001B[0;34m(self, thread, frame, event, arg, send_suspend_message, is_unhandled_exception)\u001B[0m\n\u001B[1;32m   1217\u001B[0m         from_this_thread\u001B[38;5;241m.\u001B[39mappend(frame_id)\n\u001B[1;32m   1219\u001B[0m \u001B[38;5;28;01mwith\u001B[39;00m \u001B[38;5;28mself\u001B[39m\u001B[38;5;241m.\u001B[39m_threads_suspended_single_notification\u001B[38;5;241m.\u001B[39mnotify_thread_suspended(thread_id, stop_reason):\n\u001B[0;32m-> 1220\u001B[0m     \u001B[38;5;28;43mself\u001B[39;49m\u001B[38;5;241;43m.\u001B[39;49m\u001B[43m_do_wait_suspend\u001B[49m\u001B[43m(\u001B[49m\u001B[43mthread\u001B[49m\u001B[43m,\u001B[49m\u001B[43m \u001B[49m\u001B[43mframe\u001B[49m\u001B[43m,\u001B[49m\u001B[43m \u001B[49m\u001B[43mevent\u001B[49m\u001B[43m,\u001B[49m\u001B[43m \u001B[49m\u001B[43marg\u001B[49m\u001B[43m,\u001B[49m\u001B[43m \u001B[49m\u001B[43msuspend_type\u001B[49m\u001B[43m,\u001B[49m\u001B[43m \u001B[49m\u001B[43mfrom_this_thread\u001B[49m\u001B[43m)\u001B[49m\n",
      "File \u001B[0;32m~/.local/share/JetBrains/Toolbox/apps/pycharm-professional/plugins/python-ce/helpers/pydev/pydevd.py:1235\u001B[0m, in \u001B[0;36mPyDB._do_wait_suspend\u001B[0;34m(self, thread, frame, event, arg, suspend_type, from_this_thread)\u001B[0m\n\u001B[1;32m   1232\u001B[0m             \u001B[38;5;28mself\u001B[39m\u001B[38;5;241m.\u001B[39m_call_mpl_hook()\n\u001B[1;32m   1234\u001B[0m         \u001B[38;5;28mself\u001B[39m\u001B[38;5;241m.\u001B[39mprocess_internal_commands()\n\u001B[0;32m-> 1235\u001B[0m         \u001B[43mtime\u001B[49m\u001B[38;5;241;43m.\u001B[39;49m\u001B[43msleep\u001B[49m\u001B[43m(\u001B[49m\u001B[38;5;241;43m0.01\u001B[39;49m\u001B[43m)\u001B[49m\n\u001B[1;32m   1237\u001B[0m \u001B[38;5;28mself\u001B[39m\u001B[38;5;241m.\u001B[39mcancel_async_evaluation(get_current_thread_id(thread), \u001B[38;5;28mstr\u001B[39m(\u001B[38;5;28mid\u001B[39m(frame)))\n\u001B[1;32m   1239\u001B[0m \u001B[38;5;66;03m# process any stepping instructions\u001B[39;00m\n",
      "\u001B[0;31mKeyboardInterrupt\u001B[0m: "
     ]
    }
   ],
   "execution_count": 4
  },
  {
   "metadata": {
    "jupyter": {
     "is_executing": true
    },
    "ExecuteTime": {
     "start_time": "2025-02-25T12:32:14.782790Z"
    }
   },
   "cell_type": "code",
   "source": [
    "model_ilp = MFModelILP(data)\n",
    "\n",
    "for solver in ['ortools','exact','gurobi','choco']:\n",
    "    start = time.time()\n",
    "    if model_ilp.solve(solver=solver,time_limit=60):\n",
    "        end = time.time()\n",
    "        print(f'Solving for {solver} with ILP formulation: {end-start} seconds and {model_ilp.get_makespan()} of makespan')\n",
    "    else:\n",
    "        print(f'Timeout reached for {solver} with ILP formulation')"
   ],
   "id": "573ced44ed3d2108",
   "outputs": [
    {
     "name": "stdout",
     "output_type": "stream",
     "text": [
      "Solving for ortools with ILP formulation: 1.6932649612426758 seconds and 2764 of makespan\n",
      "Solving for exact with ILP formulation: 13.249933004379272 seconds and 2764 of makespan\n",
      "Set parameter Username\n",
      "Academic license - for non-commercial use only - expires 2025-04-18\n",
      "Solving for gurobi with ILP formulation: 1.656076431274414 seconds and 2764 of makespan\n"
     ]
    }
   ],
   "execution_count": null
  },
  {
   "metadata": {
    "ExecuteTime": {
     "end_time": "2025-02-25T12:32:10.231486465Z",
     "start_time": "2025-02-17T09:20:12.781262Z"
    }
   },
   "cell_type": "code",
   "source": [
    "model_ilp = MFModelILP(data)\n",
    "start = time.time()\n",
    "for solver in ['ortools']:\n",
    "    if model_ilp.solve(solver=solver,time_limit=60):\n",
    "        end = time.time()\n",
    "        print(f'Solving for {solver} with ILP formulation: {end-start} seconds and {model_ilp.get_makespan()} of makespan')\n",
    "    else:\n",
    "        print(f'Timeout reached for {solver} with ILP formulation')"
   ],
   "id": "3117a1f7402e5f1e",
   "outputs": [
    {
     "name": "stdout",
     "output_type": "stream",
     "text": [
      "Solving for ortools with ILP formulation: 1.5465288162231445 seconds and 2764 of makespan\n"
     ]
    }
   ],
   "execution_count": 6
  },
  {
   "metadata": {
    "ExecuteTime": {
     "end_time": "2025-02-25T12:32:10.232276416Z",
     "start_time": "2025-02-17T09:22:17.338841Z"
    }
   },
   "cell_type": "code",
   "source": [
    "jobs = model_ilp.get_jobs()\n",
    "info = model_ilp.get_info()\n",
    "start, duration = model_ilp.get_dv()\n",
    "to_show =  []\n",
    "\n",
    "for job,job_info in jobs.items():\n",
    "    subject = info[job_info['__id__']][0]\n",
    "    start_job = start[subject].value()\n",
    "    end_job = start[subject].value() + duration[subject].value()\n",
    "    resource = info[job_info['__id__']][1]\n",
    "    product = info[job_info['__id__']][2]\n",
    "    job_name = info[job_info['__id__']][4]\n",
    "    to_show.append(dict(Task = f'Task {subject}', Start= start_job,End = end_job, Resource = resource, Product = product, Name=job_name))\n",
    "\n",
    "# Convert the tasks to a DataFrame for easier manipulation\n",
    "df = pd.DataFrame(to_show)\n",
    "\n",
    "# Calculate the duration of each task\n",
    "df['Duration'] = df['End'] - df['Start']\n",
    "\n",
    "# Use px.bar to create the Gantt chart with item-based colors\n",
    "fig = px.bar(df, x='Duration', y='Resource', color='Product', orientation='h',\n",
    "             hover_data=['Start', 'End', 'Task','Name'], base='Start', title=\"Job Shop Schedule - No State change for Cell 0 Staubli\")\n",
    "\n",
    "# Update the layout to set the background to black and adjust text/grid colors for visibility\n",
    "fig.update_layout(\n",
    "    plot_bgcolor='black',  # Set background color of the plot to black\n",
    "    paper_bgcolor='black',  # Set the overall figure background to black\n",
    "    xaxis=dict(showgrid=True, gridcolor='lightgray', title=\"Time\", color='white'),  # Set grid lines and label color to light for visibility\n",
    "    yaxis=dict(showgrid=True, gridcolor='lightgray', title=\"Machine\", color='white', categoryorder='category ascending'),  # Set grid and label color\n",
    "    font=dict(color='white'),  # Set general font color to white for readability\n",
    "    title_font=dict(color='white')  # Ensure the title font is also visible\n",
    ")\n",
    "\n",
    "fig.show()"
   ],
   "id": "4909b8e98292d88a",
   "outputs": [
    {
     "data": {
      "application/vnd.plotly.v1+json": {
       "data": [
        {
         "alignmentgroup": "True",
         "base": [
          1948,
          1958,
          1968,
          1976,
          1880,
          2200,
          2488,
          2480,
          2640,
          2736,
          2744,
          2754,
          1976,
          1976,
          2200,
          2009,
          2488,
          2392,
          2640,
          2640,
          2736
         ],
         "customdata": [
          [
           1958,
           "Task 0",
           "1_16_0_0"
          ],
          [
           1968,
           "Task 1",
           "1_16_0_1"
          ],
          [
           1976,
           "Task 2",
           "1_16_0_2"
          ],
          [
           2009,
           "Task 3",
           "1_16_0_3"
          ],
          [
           2200,
           "Task 4",
           "1_16_0_4"
          ],
          [
           2392,
           "Task 5",
           "1_16_0_5"
          ],
          [
           2640,
           "Task 6",
           "1_16_0_6"
          ],
          [
           2640,
           "Task 7",
           "1_16_0_7"
          ],
          [
           2736,
           "Task 8",
           "1_16_0_8"
          ],
          [
           2744,
           "Task 9",
           "1_16_0_9"
          ],
          [
           2754,
           "Task 10",
           "1_16_0_10"
          ],
          [
           2764,
           "Task 11",
           "1_16_0_11"
          ],
          [
           2009,
           "Task 12",
           "warehouse_for_1_16_0_3"
          ],
          [
           1976,
           "Task 13",
           "filler_between_1_16_0_2_and_warehouse_for_1_16_0_3"
          ],
          [
           2392,
           "Task 14",
           "warehouse_for_1_16_0_5"
          ],
          [
           2200,
           "Task 15",
           "filler_between_warehouse_for_1_16_0_3_and_warehouse_for_1_16_0_5"
          ],
          [
           2640,
           "Task 16",
           "warehouse_for_1_16_0_6"
          ],
          [
           2488,
           "Task 17",
           "filler_between_warehouse_for_1_16_0_5_and_warehouse_for_1_16_0_6"
          ],
          [
           2736,
           "Task 18",
           "warehouse_for_1_16_0_8"
          ],
          [
           2640,
           "Task 19",
           "filler_between_warehouse_for_1_16_0_6_and_warehouse_for_1_16_0_8"
          ],
          [
           2736,
           "Task 20",
           "filler_between_warehouse_for_1_16_0_8_and_1_16_0_9"
          ]
         ],
         "hovertemplate": "Product=1_16_0<br>Start=%{base}<br>Duration=%{x}<br>Resource=%{y}<br>End=%{customdata[0]}<br>Task=%{customdata[1]}<br>Name=%{customdata[2]}<extra></extra>",
         "legendgroup": "1_16_0",
         "marker": {
          "color": "#636efa",
          "pattern": {
           "shape": ""
          }
         },
         "name": "1_16_0",
         "offsetgroup": "1_16_0",
         "orientation": "h",
         "showlegend": true,
         "textposition": "auto",
         "x": [
          10,
          10,
          8,
          33,
          320,
          192,
          152,
          160,
          96,
          8,
          10,
          10,
          33,
          0,
          192,
          191,
          152,
          96,
          96,
          0,
          0
         ],
         "xaxis": "x",
         "y": [
          "Source_Source",
          "Cell_0_Transport",
          "Cell_0_Carrousel",
          "Cell_0_Staubli",
          "Cell_0_Binpick",
          "Cell_0_Staubli",
          "Cell_0_Staubli",
          "Cell_0_Binpick",
          "Cell_0_Staubli",
          "Cell_0_Carrousel",
          "Cell_0_Transport",
          "Sink_Sink",
          "Cell_0_Warehouse_0",
          "Cell_0_Warehouse_0",
          "Cell_0_Warehouse_0",
          "Cell_0_Warehouse_0",
          "Cell_0_Warehouse_0",
          "Cell_0_Warehouse_0",
          "Cell_0_Warehouse_0",
          "Cell_0_Warehouse_0",
          "Cell_0_Warehouse_0"
         ],
         "yaxis": "y",
         "type": "bar"
        },
        {
         "alignmentgroup": "True",
         "base": [
          10,
          20,
          30,
          61,
          344,
          664,
          953,
          1208,
          1368,
          1464,
          1472,
          1482,
          61,
          38,
          664,
          94,
          953,
          856,
          1368,
          1105,
          1464
         ],
         "customdata": [
          [
           20,
           "Task 21",
           "1_16_1_0"
          ],
          [
           30,
           "Task 22",
           "1_16_1_1"
          ],
          [
           38,
           "Task 23",
           "1_16_1_2"
          ],
          [
           94,
           "Task 24",
           "1_16_1_3"
          ],
          [
           664,
           "Task 25",
           "1_16_1_4"
          ],
          [
           856,
           "Task 26",
           "1_16_1_5"
          ],
          [
           1105,
           "Task 27",
           "1_16_1_6"
          ],
          [
           1368,
           "Task 28",
           "1_16_1_7"
          ],
          [
           1464,
           "Task 29",
           "1_16_1_8"
          ],
          [
           1472,
           "Task 30",
           "1_16_1_9"
          ],
          [
           1482,
           "Task 31",
           "1_16_1_10"
          ],
          [
           1492,
           "Task 32",
           "1_16_1_11"
          ],
          [
           94,
           "Task 33",
           "warehouse_for_1_16_1_3"
          ],
          [
           61,
           "Task 34",
           "filler_between_1_16_1_2_and_warehouse_for_1_16_1_3"
          ],
          [
           856,
           "Task 35",
           "warehouse_for_1_16_1_5"
          ],
          [
           664,
           "Task 36",
           "filler_between_warehouse_for_1_16_1_3_and_warehouse_for_1_16_1_5"
          ],
          [
           1105,
           "Task 37",
           "warehouse_for_1_16_1_6"
          ],
          [
           953,
           "Task 38",
           "filler_between_warehouse_for_1_16_1_5_and_warehouse_for_1_16_1_6"
          ],
          [
           1464,
           "Task 39",
           "warehouse_for_1_16_1_8"
          ],
          [
           1368,
           "Task 40",
           "filler_between_warehouse_for_1_16_1_6_and_warehouse_for_1_16_1_8"
          ],
          [
           1464,
           "Task 41",
           "filler_between_warehouse_for_1_16_1_8_and_1_16_1_9"
          ]
         ],
         "hovertemplate": "Product=1_16_1<br>Start=%{base}<br>Duration=%{x}<br>Resource=%{y}<br>End=%{customdata[0]}<br>Task=%{customdata[1]}<br>Name=%{customdata[2]}<extra></extra>",
         "legendgroup": "1_16_1",
         "marker": {
          "color": "#EF553B",
          "pattern": {
           "shape": ""
          }
         },
         "name": "1_16_1",
         "offsetgroup": "1_16_1",
         "orientation": "h",
         "showlegend": true,
         "textposition": "auto",
         "x": [
          10,
          10,
          8,
          33,
          320,
          192,
          152,
          160,
          96,
          8,
          10,
          10,
          33,
          23,
          192,
          570,
          152,
          97,
          96,
          263,
          0
         ],
         "xaxis": "x",
         "y": [
          "Source_Source",
          "Cell_0_Transport",
          "Cell_0_Carrousel",
          "Cell_0_Staubli",
          "Cell_0_Binpick",
          "Cell_0_Staubli",
          "Cell_0_Staubli",
          "Cell_0_Binpick",
          "Cell_0_Staubli",
          "Cell_0_Carrousel",
          "Cell_0_Transport",
          "Sink_Sink",
          "Cell_0_Warehouse_1",
          "Cell_0_Warehouse_1",
          "Cell_0_Warehouse_1",
          "Cell_0_Warehouse_1",
          "Cell_0_Warehouse_1",
          "Cell_0_Warehouse_1",
          "Cell_0_Warehouse_1",
          "Cell_0_Warehouse_1",
          "Cell_0_Warehouse_1"
         ],
         "yaxis": "y",
         "type": "bar"
        },
        {
         "alignmentgroup": "True",
         "base": [
          0,
          10,
          20,
          28,
          0,
          320,
          512,
          696,
          856,
          952,
          960,
          970,
          28,
          28,
          320,
          61,
          512,
          512,
          856,
          664,
          952
         ],
         "customdata": [
          [
           10,
           "Task 42",
           "1_16_2_0"
          ],
          [
           20,
           "Task 43",
           "1_16_2_1"
          ],
          [
           28,
           "Task 44",
           "1_16_2_2"
          ],
          [
           61,
           "Task 45",
           "1_16_2_3"
          ],
          [
           320,
           "Task 46",
           "1_16_2_4"
          ],
          [
           512,
           "Task 47",
           "1_16_2_5"
          ],
          [
           664,
           "Task 48",
           "1_16_2_6"
          ],
          [
           856,
           "Task 49",
           "1_16_2_7"
          ],
          [
           952,
           "Task 50",
           "1_16_2_8"
          ],
          [
           960,
           "Task 51",
           "1_16_2_9"
          ],
          [
           970,
           "Task 52",
           "1_16_2_10"
          ],
          [
           980,
           "Task 53",
           "1_16_2_11"
          ],
          [
           61,
           "Task 54",
           "warehouse_for_1_16_2_3"
          ],
          [
           28,
           "Task 55",
           "filler_between_1_16_2_2_and_warehouse_for_1_16_2_3"
          ],
          [
           512,
           "Task 56",
           "warehouse_for_1_16_2_5"
          ],
          [
           320,
           "Task 57",
           "filler_between_warehouse_for_1_16_2_3_and_warehouse_for_1_16_2_5"
          ],
          [
           664,
           "Task 58",
           "warehouse_for_1_16_2_6"
          ],
          [
           512,
           "Task 59",
           "filler_between_warehouse_for_1_16_2_5_and_warehouse_for_1_16_2_6"
          ],
          [
           952,
           "Task 60",
           "warehouse_for_1_16_2_8"
          ],
          [
           856,
           "Task 61",
           "filler_between_warehouse_for_1_16_2_6_and_warehouse_for_1_16_2_8"
          ],
          [
           952,
           "Task 62",
           "filler_between_warehouse_for_1_16_2_8_and_1_16_2_9"
          ]
         ],
         "hovertemplate": "Product=1_16_2<br>Start=%{base}<br>Duration=%{x}<br>Resource=%{y}<br>End=%{customdata[0]}<br>Task=%{customdata[1]}<br>Name=%{customdata[2]}<extra></extra>",
         "legendgroup": "1_16_2",
         "marker": {
          "color": "#00cc96",
          "pattern": {
           "shape": ""
          }
         },
         "name": "1_16_2",
         "offsetgroup": "1_16_2",
         "orientation": "h",
         "showlegend": true,
         "textposition": "auto",
         "x": [
          10,
          10,
          8,
          33,
          320,
          192,
          152,
          160,
          96,
          8,
          10,
          10,
          33,
          0,
          192,
          259,
          152,
          0,
          96,
          192,
          0
         ],
         "xaxis": "x",
         "y": [
          "Source_Source",
          "Cell_0_Transport",
          "Cell_0_Carrousel",
          "Cell_0_Staubli",
          "Cell_0_Binpick",
          "Cell_0_Staubli",
          "Cell_0_Staubli",
          "Cell_0_Binpick",
          "Cell_0_Staubli",
          "Cell_0_Carrousel",
          "Cell_0_Transport",
          "Sink_Sink",
          "Cell_0_Warehouse_0",
          "Cell_0_Warehouse_0",
          "Cell_0_Warehouse_0",
          "Cell_0_Warehouse_0",
          "Cell_0_Warehouse_0",
          "Cell_0_Warehouse_0",
          "Cell_0_Warehouse_0",
          "Cell_0_Warehouse_0",
          "Cell_0_Warehouse_0"
         ],
         "yaxis": "y",
         "type": "bar"
        },
        {
         "alignmentgroup": "True",
         "base": [
          960,
          970,
          980,
          1106,
          856,
          1176,
          1497,
          1720,
          1880,
          1976,
          1984,
          1994,
          1106,
          988,
          1176,
          1139,
          1497,
          1368,
          1880,
          1649,
          1976
         ],
         "customdata": [
          [
           970,
           "Task 63",
           "1_16_3_0"
          ],
          [
           980,
           "Task 64",
           "1_16_3_1"
          ],
          [
           988,
           "Task 65",
           "1_16_3_2"
          ],
          [
           1139,
           "Task 66",
           "1_16_3_3"
          ],
          [
           1176,
           "Task 67",
           "1_16_3_4"
          ],
          [
           1368,
           "Task 68",
           "1_16_3_5"
          ],
          [
           1649,
           "Task 69",
           "1_16_3_6"
          ],
          [
           1880,
           "Task 70",
           "1_16_3_7"
          ],
          [
           1976,
           "Task 71",
           "1_16_3_8"
          ],
          [
           1984,
           "Task 72",
           "1_16_3_9"
          ],
          [
           1994,
           "Task 73",
           "1_16_3_10"
          ],
          [
           2004,
           "Task 74",
           "1_16_3_11"
          ],
          [
           1139,
           "Task 75",
           "warehouse_for_1_16_3_3"
          ],
          [
           1106,
           "Task 76",
           "filler_between_1_16_3_2_and_warehouse_for_1_16_3_3"
          ],
          [
           1368,
           "Task 77",
           "warehouse_for_1_16_3_5"
          ],
          [
           1176,
           "Task 78",
           "filler_between_warehouse_for_1_16_3_3_and_warehouse_for_1_16_3_5"
          ],
          [
           1649,
           "Task 79",
           "warehouse_for_1_16_3_6"
          ],
          [
           1497,
           "Task 80",
           "filler_between_warehouse_for_1_16_3_5_and_warehouse_for_1_16_3_6"
          ],
          [
           1976,
           "Task 81",
           "warehouse_for_1_16_3_8"
          ],
          [
           1880,
           "Task 82",
           "filler_between_warehouse_for_1_16_3_6_and_warehouse_for_1_16_3_8"
          ],
          [
           1976,
           "Task 83",
           "filler_between_warehouse_for_1_16_3_8_and_1_16_3_9"
          ]
         ],
         "hovertemplate": "Product=1_16_3<br>Start=%{base}<br>Duration=%{x}<br>Resource=%{y}<br>End=%{customdata[0]}<br>Task=%{customdata[1]}<br>Name=%{customdata[2]}<extra></extra>",
         "legendgroup": "1_16_3",
         "marker": {
          "color": "#ab63fa",
          "pattern": {
           "shape": ""
          }
         },
         "name": "1_16_3",
         "offsetgroup": "1_16_3",
         "orientation": "h",
         "showlegend": true,
         "textposition": "auto",
         "x": [
          10,
          10,
          8,
          33,
          320,
          192,
          152,
          160,
          96,
          8,
          10,
          10,
          33,
          118,
          192,
          37,
          152,
          129,
          96,
          231,
          0
         ],
         "xaxis": "x",
         "y": [
          "Source_Source",
          "Cell_0_Transport",
          "Cell_0_Carrousel",
          "Cell_0_Staubli",
          "Cell_0_Binpick",
          "Cell_0_Staubli",
          "Cell_0_Staubli",
          "Cell_0_Binpick",
          "Cell_0_Staubli",
          "Cell_0_Carrousel",
          "Cell_0_Transport",
          "Sink_Sink",
          "Cell_0_Warehouse_0",
          "Cell_0_Warehouse_0",
          "Cell_0_Warehouse_0",
          "Cell_0_Warehouse_0",
          "Cell_0_Warehouse_0",
          "Cell_0_Warehouse_0",
          "Cell_0_Warehouse_0",
          "Cell_0_Warehouse_0",
          "Cell_0_Warehouse_0"
         ],
         "yaxis": "y",
         "type": "bar"
        },
        {
         "alignmentgroup": "True",
         "base": [
          1436,
          1446,
          1456,
          1464,
          1368,
          1688,
          2009,
          2232,
          2392,
          2726,
          2734,
          2744,
          1464,
          1464,
          1688,
          1497,
          2009,
          1880,
          2392,
          2161,
          2488
         ],
         "customdata": [
          [
           1446,
           "Task 84",
           "1_16_4_0"
          ],
          [
           1456,
           "Task 85",
           "1_16_4_1"
          ],
          [
           1464,
           "Task 86",
           "1_16_4_2"
          ],
          [
           1497,
           "Task 87",
           "1_16_4_3"
          ],
          [
           1688,
           "Task 88",
           "1_16_4_4"
          ],
          [
           1880,
           "Task 89",
           "1_16_4_5"
          ],
          [
           2161,
           "Task 90",
           "1_16_4_6"
          ],
          [
           2392,
           "Task 91",
           "1_16_4_7"
          ],
          [
           2488,
           "Task 92",
           "1_16_4_8"
          ],
          [
           2734,
           "Task 93",
           "1_16_4_9"
          ],
          [
           2744,
           "Task 94",
           "1_16_4_10"
          ],
          [
           2754,
           "Task 95",
           "1_16_4_11"
          ],
          [
           1497,
           "Task 96",
           "warehouse_for_1_16_4_3"
          ],
          [
           1464,
           "Task 97",
           "filler_between_1_16_4_2_and_warehouse_for_1_16_4_3"
          ],
          [
           1880,
           "Task 98",
           "warehouse_for_1_16_4_5"
          ],
          [
           1688,
           "Task 99",
           "filler_between_warehouse_for_1_16_4_3_and_warehouse_for_1_16_4_5"
          ],
          [
           2161,
           "Task 100",
           "warehouse_for_1_16_4_6"
          ],
          [
           2009,
           "Task 101",
           "filler_between_warehouse_for_1_16_4_5_and_warehouse_for_1_16_4_6"
          ],
          [
           2488,
           "Task 102",
           "warehouse_for_1_16_4_8"
          ],
          [
           2392,
           "Task 103",
           "filler_between_warehouse_for_1_16_4_6_and_warehouse_for_1_16_4_8"
          ],
          [
           2726,
           "Task 104",
           "filler_between_warehouse_for_1_16_4_8_and_1_16_4_9"
          ]
         ],
         "hovertemplate": "Product=1_16_4<br>Start=%{base}<br>Duration=%{x}<br>Resource=%{y}<br>End=%{customdata[0]}<br>Task=%{customdata[1]}<br>Name=%{customdata[2]}<extra></extra>",
         "legendgroup": "1_16_4",
         "marker": {
          "color": "#FFA15A",
          "pattern": {
           "shape": ""
          }
         },
         "name": "1_16_4",
         "offsetgroup": "1_16_4",
         "orientation": "h",
         "showlegend": true,
         "textposition": "auto",
         "x": [
          10,
          10,
          8,
          33,
          320,
          192,
          152,
          160,
          96,
          8,
          10,
          10,
          33,
          0,
          192,
          191,
          152,
          129,
          96,
          231,
          238
         ],
         "xaxis": "x",
         "y": [
          "Source_Source",
          "Cell_0_Transport",
          "Cell_0_Carrousel",
          "Cell_0_Staubli",
          "Cell_0_Binpick",
          "Cell_0_Staubli",
          "Cell_0_Staubli",
          "Cell_0_Binpick",
          "Cell_0_Staubli",
          "Cell_0_Carrousel",
          "Cell_0_Transport",
          "Sink_Sink",
          "Cell_0_Warehouse_1",
          "Cell_0_Warehouse_1",
          "Cell_0_Warehouse_1",
          "Cell_0_Warehouse_1",
          "Cell_0_Warehouse_1",
          "Cell_0_Warehouse_1",
          "Cell_0_Warehouse_1",
          "Cell_0_Warehouse_1",
          "Cell_0_Warehouse_1"
         ],
         "yaxis": "y",
         "type": "bar"
        }
       ],
       "layout": {
        "template": {
         "data": {
          "histogram2dcontour": [
           {
            "type": "histogram2dcontour",
            "colorbar": {
             "outlinewidth": 0,
             "ticks": ""
            },
            "colorscale": [
             [
              0.0,
              "#0d0887"
             ],
             [
              0.1111111111111111,
              "#46039f"
             ],
             [
              0.2222222222222222,
              "#7201a8"
             ],
             [
              0.3333333333333333,
              "#9c179e"
             ],
             [
              0.4444444444444444,
              "#bd3786"
             ],
             [
              0.5555555555555556,
              "#d8576b"
             ],
             [
              0.6666666666666666,
              "#ed7953"
             ],
             [
              0.7777777777777778,
              "#fb9f3a"
             ],
             [
              0.8888888888888888,
              "#fdca26"
             ],
             [
              1.0,
              "#f0f921"
             ]
            ]
           }
          ],
          "choropleth": [
           {
            "type": "choropleth",
            "colorbar": {
             "outlinewidth": 0,
             "ticks": ""
            }
           }
          ],
          "histogram2d": [
           {
            "type": "histogram2d",
            "colorbar": {
             "outlinewidth": 0,
             "ticks": ""
            },
            "colorscale": [
             [
              0.0,
              "#0d0887"
             ],
             [
              0.1111111111111111,
              "#46039f"
             ],
             [
              0.2222222222222222,
              "#7201a8"
             ],
             [
              0.3333333333333333,
              "#9c179e"
             ],
             [
              0.4444444444444444,
              "#bd3786"
             ],
             [
              0.5555555555555556,
              "#d8576b"
             ],
             [
              0.6666666666666666,
              "#ed7953"
             ],
             [
              0.7777777777777778,
              "#fb9f3a"
             ],
             [
              0.8888888888888888,
              "#fdca26"
             ],
             [
              1.0,
              "#f0f921"
             ]
            ]
           }
          ],
          "heatmap": [
           {
            "type": "heatmap",
            "colorbar": {
             "outlinewidth": 0,
             "ticks": ""
            },
            "colorscale": [
             [
              0.0,
              "#0d0887"
             ],
             [
              0.1111111111111111,
              "#46039f"
             ],
             [
              0.2222222222222222,
              "#7201a8"
             ],
             [
              0.3333333333333333,
              "#9c179e"
             ],
             [
              0.4444444444444444,
              "#bd3786"
             ],
             [
              0.5555555555555556,
              "#d8576b"
             ],
             [
              0.6666666666666666,
              "#ed7953"
             ],
             [
              0.7777777777777778,
              "#fb9f3a"
             ],
             [
              0.8888888888888888,
              "#fdca26"
             ],
             [
              1.0,
              "#f0f921"
             ]
            ]
           }
          ],
          "heatmapgl": [
           {
            "type": "heatmapgl",
            "colorbar": {
             "outlinewidth": 0,
             "ticks": ""
            },
            "colorscale": [
             [
              0.0,
              "#0d0887"
             ],
             [
              0.1111111111111111,
              "#46039f"
             ],
             [
              0.2222222222222222,
              "#7201a8"
             ],
             [
              0.3333333333333333,
              "#9c179e"
             ],
             [
              0.4444444444444444,
              "#bd3786"
             ],
             [
              0.5555555555555556,
              "#d8576b"
             ],
             [
              0.6666666666666666,
              "#ed7953"
             ],
             [
              0.7777777777777778,
              "#fb9f3a"
             ],
             [
              0.8888888888888888,
              "#fdca26"
             ],
             [
              1.0,
              "#f0f921"
             ]
            ]
           }
          ],
          "contourcarpet": [
           {
            "type": "contourcarpet",
            "colorbar": {
             "outlinewidth": 0,
             "ticks": ""
            }
           }
          ],
          "contour": [
           {
            "type": "contour",
            "colorbar": {
             "outlinewidth": 0,
             "ticks": ""
            },
            "colorscale": [
             [
              0.0,
              "#0d0887"
             ],
             [
              0.1111111111111111,
              "#46039f"
             ],
             [
              0.2222222222222222,
              "#7201a8"
             ],
             [
              0.3333333333333333,
              "#9c179e"
             ],
             [
              0.4444444444444444,
              "#bd3786"
             ],
             [
              0.5555555555555556,
              "#d8576b"
             ],
             [
              0.6666666666666666,
              "#ed7953"
             ],
             [
              0.7777777777777778,
              "#fb9f3a"
             ],
             [
              0.8888888888888888,
              "#fdca26"
             ],
             [
              1.0,
              "#f0f921"
             ]
            ]
           }
          ],
          "surface": [
           {
            "type": "surface",
            "colorbar": {
             "outlinewidth": 0,
             "ticks": ""
            },
            "colorscale": [
             [
              0.0,
              "#0d0887"
             ],
             [
              0.1111111111111111,
              "#46039f"
             ],
             [
              0.2222222222222222,
              "#7201a8"
             ],
             [
              0.3333333333333333,
              "#9c179e"
             ],
             [
              0.4444444444444444,
              "#bd3786"
             ],
             [
              0.5555555555555556,
              "#d8576b"
             ],
             [
              0.6666666666666666,
              "#ed7953"
             ],
             [
              0.7777777777777778,
              "#fb9f3a"
             ],
             [
              0.8888888888888888,
              "#fdca26"
             ],
             [
              1.0,
              "#f0f921"
             ]
            ]
           }
          ],
          "mesh3d": [
           {
            "type": "mesh3d",
            "colorbar": {
             "outlinewidth": 0,
             "ticks": ""
            }
           }
          ],
          "scatter": [
           {
            "marker": {
             "line": {
              "color": "#283442"
             }
            },
            "type": "scatter"
           }
          ],
          "parcoords": [
           {
            "type": "parcoords",
            "line": {
             "colorbar": {
              "outlinewidth": 0,
              "ticks": ""
             }
            }
           }
          ],
          "scatterpolargl": [
           {
            "type": "scatterpolargl",
            "marker": {
             "colorbar": {
              "outlinewidth": 0,
              "ticks": ""
             }
            }
           }
          ],
          "bar": [
           {
            "error_x": {
             "color": "#f2f5fa"
            },
            "error_y": {
             "color": "#f2f5fa"
            },
            "marker": {
             "line": {
              "color": "rgb(17,17,17)",
              "width": 0.5
             },
             "pattern": {
              "fillmode": "overlay",
              "size": 10,
              "solidity": 0.2
             }
            },
            "type": "bar"
           }
          ],
          "scattergeo": [
           {
            "type": "scattergeo",
            "marker": {
             "colorbar": {
              "outlinewidth": 0,
              "ticks": ""
             }
            }
           }
          ],
          "scatterpolar": [
           {
            "type": "scatterpolar",
            "marker": {
             "colorbar": {
              "outlinewidth": 0,
              "ticks": ""
             }
            }
           }
          ],
          "histogram": [
           {
            "marker": {
             "pattern": {
              "fillmode": "overlay",
              "size": 10,
              "solidity": 0.2
             }
            },
            "type": "histogram"
           }
          ],
          "scattergl": [
           {
            "marker": {
             "line": {
              "color": "#283442"
             }
            },
            "type": "scattergl"
           }
          ],
          "scatter3d": [
           {
            "type": "scatter3d",
            "line": {
             "colorbar": {
              "outlinewidth": 0,
              "ticks": ""
             }
            },
            "marker": {
             "colorbar": {
              "outlinewidth": 0,
              "ticks": ""
             }
            }
           }
          ],
          "scattermapbox": [
           {
            "type": "scattermapbox",
            "marker": {
             "colorbar": {
              "outlinewidth": 0,
              "ticks": ""
             }
            }
           }
          ],
          "scatterternary": [
           {
            "type": "scatterternary",
            "marker": {
             "colorbar": {
              "outlinewidth": 0,
              "ticks": ""
             }
            }
           }
          ],
          "scattercarpet": [
           {
            "type": "scattercarpet",
            "marker": {
             "colorbar": {
              "outlinewidth": 0,
              "ticks": ""
             }
            }
           }
          ],
          "carpet": [
           {
            "aaxis": {
             "endlinecolor": "#A2B1C6",
             "gridcolor": "#506784",
             "linecolor": "#506784",
             "minorgridcolor": "#506784",
             "startlinecolor": "#A2B1C6"
            },
            "baxis": {
             "endlinecolor": "#A2B1C6",
             "gridcolor": "#506784",
             "linecolor": "#506784",
             "minorgridcolor": "#506784",
             "startlinecolor": "#A2B1C6"
            },
            "type": "carpet"
           }
          ],
          "table": [
           {
            "cells": {
             "fill": {
              "color": "#506784"
             },
             "line": {
              "color": "rgb(17,17,17)"
             }
            },
            "header": {
             "fill": {
              "color": "#2a3f5f"
             },
             "line": {
              "color": "rgb(17,17,17)"
             }
            },
            "type": "table"
           }
          ],
          "barpolar": [
           {
            "marker": {
             "line": {
              "color": "rgb(17,17,17)",
              "width": 0.5
             },
             "pattern": {
              "fillmode": "overlay",
              "size": 10,
              "solidity": 0.2
             }
            },
            "type": "barpolar"
           }
          ],
          "pie": [
           {
            "automargin": true,
            "type": "pie"
           }
          ]
         },
         "layout": {
          "autotypenumbers": "strict",
          "colorway": [
           "#636efa",
           "#EF553B",
           "#00cc96",
           "#ab63fa",
           "#FFA15A",
           "#19d3f3",
           "#FF6692",
           "#B6E880",
           "#FF97FF",
           "#FECB52"
          ],
          "font": {
           "color": "#f2f5fa"
          },
          "hovermode": "closest",
          "hoverlabel": {
           "align": "left"
          },
          "paper_bgcolor": "rgb(17,17,17)",
          "plot_bgcolor": "rgb(17,17,17)",
          "polar": {
           "bgcolor": "rgb(17,17,17)",
           "angularaxis": {
            "gridcolor": "#506784",
            "linecolor": "#506784",
            "ticks": ""
           },
           "radialaxis": {
            "gridcolor": "#506784",
            "linecolor": "#506784",
            "ticks": ""
           }
          },
          "ternary": {
           "bgcolor": "rgb(17,17,17)",
           "aaxis": {
            "gridcolor": "#506784",
            "linecolor": "#506784",
            "ticks": ""
           },
           "baxis": {
            "gridcolor": "#506784",
            "linecolor": "#506784",
            "ticks": ""
           },
           "caxis": {
            "gridcolor": "#506784",
            "linecolor": "#506784",
            "ticks": ""
           }
          },
          "coloraxis": {
           "colorbar": {
            "outlinewidth": 0,
            "ticks": ""
           }
          },
          "colorscale": {
           "sequential": [
            [
             0.0,
             "#0d0887"
            ],
            [
             0.1111111111111111,
             "#46039f"
            ],
            [
             0.2222222222222222,
             "#7201a8"
            ],
            [
             0.3333333333333333,
             "#9c179e"
            ],
            [
             0.4444444444444444,
             "#bd3786"
            ],
            [
             0.5555555555555556,
             "#d8576b"
            ],
            [
             0.6666666666666666,
             "#ed7953"
            ],
            [
             0.7777777777777778,
             "#fb9f3a"
            ],
            [
             0.8888888888888888,
             "#fdca26"
            ],
            [
             1.0,
             "#f0f921"
            ]
           ],
           "sequentialminus": [
            [
             0.0,
             "#0d0887"
            ],
            [
             0.1111111111111111,
             "#46039f"
            ],
            [
             0.2222222222222222,
             "#7201a8"
            ],
            [
             0.3333333333333333,
             "#9c179e"
            ],
            [
             0.4444444444444444,
             "#bd3786"
            ],
            [
             0.5555555555555556,
             "#d8576b"
            ],
            [
             0.6666666666666666,
             "#ed7953"
            ],
            [
             0.7777777777777778,
             "#fb9f3a"
            ],
            [
             0.8888888888888888,
             "#fdca26"
            ],
            [
             1.0,
             "#f0f921"
            ]
           ],
           "diverging": [
            [
             0,
             "#8e0152"
            ],
            [
             0.1,
             "#c51b7d"
            ],
            [
             0.2,
             "#de77ae"
            ],
            [
             0.3,
             "#f1b6da"
            ],
            [
             0.4,
             "#fde0ef"
            ],
            [
             0.5,
             "#f7f7f7"
            ],
            [
             0.6,
             "#e6f5d0"
            ],
            [
             0.7,
             "#b8e186"
            ],
            [
             0.8,
             "#7fbc41"
            ],
            [
             0.9,
             "#4d9221"
            ],
            [
             1,
             "#276419"
            ]
           ]
          },
          "xaxis": {
           "gridcolor": "#283442",
           "linecolor": "#506784",
           "ticks": "",
           "title": {
            "standoff": 15
           },
           "zerolinecolor": "#283442",
           "automargin": true,
           "zerolinewidth": 2
          },
          "yaxis": {
           "gridcolor": "#283442",
           "linecolor": "#506784",
           "ticks": "",
           "title": {
            "standoff": 15
           },
           "zerolinecolor": "#283442",
           "automargin": true,
           "zerolinewidth": 2
          },
          "scene": {
           "xaxis": {
            "backgroundcolor": "rgb(17,17,17)",
            "gridcolor": "#506784",
            "linecolor": "#506784",
            "showbackground": true,
            "ticks": "",
            "zerolinecolor": "#C8D4E3",
            "gridwidth": 2
           },
           "yaxis": {
            "backgroundcolor": "rgb(17,17,17)",
            "gridcolor": "#506784",
            "linecolor": "#506784",
            "showbackground": true,
            "ticks": "",
            "zerolinecolor": "#C8D4E3",
            "gridwidth": 2
           },
           "zaxis": {
            "backgroundcolor": "rgb(17,17,17)",
            "gridcolor": "#506784",
            "linecolor": "#506784",
            "showbackground": true,
            "ticks": "",
            "zerolinecolor": "#C8D4E3",
            "gridwidth": 2
           }
          },
          "shapedefaults": {
           "line": {
            "color": "#f2f5fa"
           }
          },
          "annotationdefaults": {
           "arrowcolor": "#f2f5fa",
           "arrowhead": 0,
           "arrowwidth": 1
          },
          "geo": {
           "bgcolor": "rgb(17,17,17)",
           "landcolor": "rgb(17,17,17)",
           "subunitcolor": "#506784",
           "showland": true,
           "showlakes": true,
           "lakecolor": "rgb(17,17,17)"
          },
          "title": {
           "x": 0.05
          },
          "updatemenudefaults": {
           "bgcolor": "#506784",
           "borderwidth": 0
          },
          "sliderdefaults": {
           "bgcolor": "#C8D4E3",
           "borderwidth": 1,
           "bordercolor": "rgb(17,17,17)",
           "tickwidth": 0
          },
          "mapbox": {
           "style": "dark"
          }
         }
        },
        "xaxis": {
         "anchor": "y",
         "domain": [
          0.0,
          1.0
         ],
         "title": {
          "text": "Time"
         },
         "showgrid": true,
         "gridcolor": "lightgray",
         "color": "white"
        },
        "yaxis": {
         "anchor": "x",
         "domain": [
          0.0,
          1.0
         ],
         "title": {
          "text": "Machine"
         },
         "showgrid": true,
         "gridcolor": "lightgray",
         "color": "white",
         "categoryorder": "category ascending"
        },
        "legend": {
         "title": {
          "text": "Product"
         },
         "tracegroupgap": 0
        },
        "title": {
         "text": "Job Shop Schedule - No State change for Cell 0 Staubli",
         "font": {
          "color": "white"
         }
        },
        "barmode": "relative",
        "font": {
         "color": "white"
        },
        "plot_bgcolor": "black",
        "paper_bgcolor": "black"
       },
       "config": {
        "plotlyServerURL": "https://plot.ly"
       }
      },
      "text/html": [
       "<div>                            <div id=\"d00bf99f-caca-45ec-aeb4-5ce81d93467d\" class=\"plotly-graph-div\" style=\"height:525px; width:100%;\"></div>            <script type=\"text/javascript\">                require([\"plotly\"], function(Plotly) {                    window.PLOTLYENV=window.PLOTLYENV || {};                                    if (document.getElementById(\"d00bf99f-caca-45ec-aeb4-5ce81d93467d\")) {                    Plotly.newPlot(                        \"d00bf99f-caca-45ec-aeb4-5ce81d93467d\",                        [{\"alignmentgroup\":\"True\",\"base\":[1948,1958,1968,1976,1880,2200,2488,2480,2640,2736,2744,2754,1976,1976,2200,2009,2488,2392,2640,2640,2736],\"customdata\":[[1958,\"Task 0\",\"1_16_0_0\"],[1968,\"Task 1\",\"1_16_0_1\"],[1976,\"Task 2\",\"1_16_0_2\"],[2009,\"Task 3\",\"1_16_0_3\"],[2200,\"Task 4\",\"1_16_0_4\"],[2392,\"Task 5\",\"1_16_0_5\"],[2640,\"Task 6\",\"1_16_0_6\"],[2640,\"Task 7\",\"1_16_0_7\"],[2736,\"Task 8\",\"1_16_0_8\"],[2744,\"Task 9\",\"1_16_0_9\"],[2754,\"Task 10\",\"1_16_0_10\"],[2764,\"Task 11\",\"1_16_0_11\"],[2009,\"Task 12\",\"warehouse_for_1_16_0_3\"],[1976,\"Task 13\",\"filler_between_1_16_0_2_and_warehouse_for_1_16_0_3\"],[2392,\"Task 14\",\"warehouse_for_1_16_0_5\"],[2200,\"Task 15\",\"filler_between_warehouse_for_1_16_0_3_and_warehouse_for_1_16_0_5\"],[2640,\"Task 16\",\"warehouse_for_1_16_0_6\"],[2488,\"Task 17\",\"filler_between_warehouse_for_1_16_0_5_and_warehouse_for_1_16_0_6\"],[2736,\"Task 18\",\"warehouse_for_1_16_0_8\"],[2640,\"Task 19\",\"filler_between_warehouse_for_1_16_0_6_and_warehouse_for_1_16_0_8\"],[2736,\"Task 20\",\"filler_between_warehouse_for_1_16_0_8_and_1_16_0_9\"]],\"hovertemplate\":\"Product=1_16_0\\u003cbr\\u003eStart=%{base}\\u003cbr\\u003eDuration=%{x}\\u003cbr\\u003eResource=%{y}\\u003cbr\\u003eEnd=%{customdata[0]}\\u003cbr\\u003eTask=%{customdata[1]}\\u003cbr\\u003eName=%{customdata[2]}\\u003cextra\\u003e\\u003c\\u002fextra\\u003e\",\"legendgroup\":\"1_16_0\",\"marker\":{\"color\":\"#636efa\",\"pattern\":{\"shape\":\"\"}},\"name\":\"1_16_0\",\"offsetgroup\":\"1_16_0\",\"orientation\":\"h\",\"showlegend\":true,\"textposition\":\"auto\",\"x\":[10,10,8,33,320,192,152,160,96,8,10,10,33,0,192,191,152,96,96,0,0],\"xaxis\":\"x\",\"y\":[\"Source_Source\",\"Cell_0_Transport\",\"Cell_0_Carrousel\",\"Cell_0_Staubli\",\"Cell_0_Binpick\",\"Cell_0_Staubli\",\"Cell_0_Staubli\",\"Cell_0_Binpick\",\"Cell_0_Staubli\",\"Cell_0_Carrousel\",\"Cell_0_Transport\",\"Sink_Sink\",\"Cell_0_Warehouse_0\",\"Cell_0_Warehouse_0\",\"Cell_0_Warehouse_0\",\"Cell_0_Warehouse_0\",\"Cell_0_Warehouse_0\",\"Cell_0_Warehouse_0\",\"Cell_0_Warehouse_0\",\"Cell_0_Warehouse_0\",\"Cell_0_Warehouse_0\"],\"yaxis\":\"y\",\"type\":\"bar\"},{\"alignmentgroup\":\"True\",\"base\":[10,20,30,61,344,664,953,1208,1368,1464,1472,1482,61,38,664,94,953,856,1368,1105,1464],\"customdata\":[[20,\"Task 21\",\"1_16_1_0\"],[30,\"Task 22\",\"1_16_1_1\"],[38,\"Task 23\",\"1_16_1_2\"],[94,\"Task 24\",\"1_16_1_3\"],[664,\"Task 25\",\"1_16_1_4\"],[856,\"Task 26\",\"1_16_1_5\"],[1105,\"Task 27\",\"1_16_1_6\"],[1368,\"Task 28\",\"1_16_1_7\"],[1464,\"Task 29\",\"1_16_1_8\"],[1472,\"Task 30\",\"1_16_1_9\"],[1482,\"Task 31\",\"1_16_1_10\"],[1492,\"Task 32\",\"1_16_1_11\"],[94,\"Task 33\",\"warehouse_for_1_16_1_3\"],[61,\"Task 34\",\"filler_between_1_16_1_2_and_warehouse_for_1_16_1_3\"],[856,\"Task 35\",\"warehouse_for_1_16_1_5\"],[664,\"Task 36\",\"filler_between_warehouse_for_1_16_1_3_and_warehouse_for_1_16_1_5\"],[1105,\"Task 37\",\"warehouse_for_1_16_1_6\"],[953,\"Task 38\",\"filler_between_warehouse_for_1_16_1_5_and_warehouse_for_1_16_1_6\"],[1464,\"Task 39\",\"warehouse_for_1_16_1_8\"],[1368,\"Task 40\",\"filler_between_warehouse_for_1_16_1_6_and_warehouse_for_1_16_1_8\"],[1464,\"Task 41\",\"filler_between_warehouse_for_1_16_1_8_and_1_16_1_9\"]],\"hovertemplate\":\"Product=1_16_1\\u003cbr\\u003eStart=%{base}\\u003cbr\\u003eDuration=%{x}\\u003cbr\\u003eResource=%{y}\\u003cbr\\u003eEnd=%{customdata[0]}\\u003cbr\\u003eTask=%{customdata[1]}\\u003cbr\\u003eName=%{customdata[2]}\\u003cextra\\u003e\\u003c\\u002fextra\\u003e\",\"legendgroup\":\"1_16_1\",\"marker\":{\"color\":\"#EF553B\",\"pattern\":{\"shape\":\"\"}},\"name\":\"1_16_1\",\"offsetgroup\":\"1_16_1\",\"orientation\":\"h\",\"showlegend\":true,\"textposition\":\"auto\",\"x\":[10,10,8,33,320,192,152,160,96,8,10,10,33,23,192,570,152,97,96,263,0],\"xaxis\":\"x\",\"y\":[\"Source_Source\",\"Cell_0_Transport\",\"Cell_0_Carrousel\",\"Cell_0_Staubli\",\"Cell_0_Binpick\",\"Cell_0_Staubli\",\"Cell_0_Staubli\",\"Cell_0_Binpick\",\"Cell_0_Staubli\",\"Cell_0_Carrousel\",\"Cell_0_Transport\",\"Sink_Sink\",\"Cell_0_Warehouse_1\",\"Cell_0_Warehouse_1\",\"Cell_0_Warehouse_1\",\"Cell_0_Warehouse_1\",\"Cell_0_Warehouse_1\",\"Cell_0_Warehouse_1\",\"Cell_0_Warehouse_1\",\"Cell_0_Warehouse_1\",\"Cell_0_Warehouse_1\"],\"yaxis\":\"y\",\"type\":\"bar\"},{\"alignmentgroup\":\"True\",\"base\":[0,10,20,28,0,320,512,696,856,952,960,970,28,28,320,61,512,512,856,664,952],\"customdata\":[[10,\"Task 42\",\"1_16_2_0\"],[20,\"Task 43\",\"1_16_2_1\"],[28,\"Task 44\",\"1_16_2_2\"],[61,\"Task 45\",\"1_16_2_3\"],[320,\"Task 46\",\"1_16_2_4\"],[512,\"Task 47\",\"1_16_2_5\"],[664,\"Task 48\",\"1_16_2_6\"],[856,\"Task 49\",\"1_16_2_7\"],[952,\"Task 50\",\"1_16_2_8\"],[960,\"Task 51\",\"1_16_2_9\"],[970,\"Task 52\",\"1_16_2_10\"],[980,\"Task 53\",\"1_16_2_11\"],[61,\"Task 54\",\"warehouse_for_1_16_2_3\"],[28,\"Task 55\",\"filler_between_1_16_2_2_and_warehouse_for_1_16_2_3\"],[512,\"Task 56\",\"warehouse_for_1_16_2_5\"],[320,\"Task 57\",\"filler_between_warehouse_for_1_16_2_3_and_warehouse_for_1_16_2_5\"],[664,\"Task 58\",\"warehouse_for_1_16_2_6\"],[512,\"Task 59\",\"filler_between_warehouse_for_1_16_2_5_and_warehouse_for_1_16_2_6\"],[952,\"Task 60\",\"warehouse_for_1_16_2_8\"],[856,\"Task 61\",\"filler_between_warehouse_for_1_16_2_6_and_warehouse_for_1_16_2_8\"],[952,\"Task 62\",\"filler_between_warehouse_for_1_16_2_8_and_1_16_2_9\"]],\"hovertemplate\":\"Product=1_16_2\\u003cbr\\u003eStart=%{base}\\u003cbr\\u003eDuration=%{x}\\u003cbr\\u003eResource=%{y}\\u003cbr\\u003eEnd=%{customdata[0]}\\u003cbr\\u003eTask=%{customdata[1]}\\u003cbr\\u003eName=%{customdata[2]}\\u003cextra\\u003e\\u003c\\u002fextra\\u003e\",\"legendgroup\":\"1_16_2\",\"marker\":{\"color\":\"#00cc96\",\"pattern\":{\"shape\":\"\"}},\"name\":\"1_16_2\",\"offsetgroup\":\"1_16_2\",\"orientation\":\"h\",\"showlegend\":true,\"textposition\":\"auto\",\"x\":[10,10,8,33,320,192,152,160,96,8,10,10,33,0,192,259,152,0,96,192,0],\"xaxis\":\"x\",\"y\":[\"Source_Source\",\"Cell_0_Transport\",\"Cell_0_Carrousel\",\"Cell_0_Staubli\",\"Cell_0_Binpick\",\"Cell_0_Staubli\",\"Cell_0_Staubli\",\"Cell_0_Binpick\",\"Cell_0_Staubli\",\"Cell_0_Carrousel\",\"Cell_0_Transport\",\"Sink_Sink\",\"Cell_0_Warehouse_0\",\"Cell_0_Warehouse_0\",\"Cell_0_Warehouse_0\",\"Cell_0_Warehouse_0\",\"Cell_0_Warehouse_0\",\"Cell_0_Warehouse_0\",\"Cell_0_Warehouse_0\",\"Cell_0_Warehouse_0\",\"Cell_0_Warehouse_0\"],\"yaxis\":\"y\",\"type\":\"bar\"},{\"alignmentgroup\":\"True\",\"base\":[960,970,980,1106,856,1176,1497,1720,1880,1976,1984,1994,1106,988,1176,1139,1497,1368,1880,1649,1976],\"customdata\":[[970,\"Task 63\",\"1_16_3_0\"],[980,\"Task 64\",\"1_16_3_1\"],[988,\"Task 65\",\"1_16_3_2\"],[1139,\"Task 66\",\"1_16_3_3\"],[1176,\"Task 67\",\"1_16_3_4\"],[1368,\"Task 68\",\"1_16_3_5\"],[1649,\"Task 69\",\"1_16_3_6\"],[1880,\"Task 70\",\"1_16_3_7\"],[1976,\"Task 71\",\"1_16_3_8\"],[1984,\"Task 72\",\"1_16_3_9\"],[1994,\"Task 73\",\"1_16_3_10\"],[2004,\"Task 74\",\"1_16_3_11\"],[1139,\"Task 75\",\"warehouse_for_1_16_3_3\"],[1106,\"Task 76\",\"filler_between_1_16_3_2_and_warehouse_for_1_16_3_3\"],[1368,\"Task 77\",\"warehouse_for_1_16_3_5\"],[1176,\"Task 78\",\"filler_between_warehouse_for_1_16_3_3_and_warehouse_for_1_16_3_5\"],[1649,\"Task 79\",\"warehouse_for_1_16_3_6\"],[1497,\"Task 80\",\"filler_between_warehouse_for_1_16_3_5_and_warehouse_for_1_16_3_6\"],[1976,\"Task 81\",\"warehouse_for_1_16_3_8\"],[1880,\"Task 82\",\"filler_between_warehouse_for_1_16_3_6_and_warehouse_for_1_16_3_8\"],[1976,\"Task 83\",\"filler_between_warehouse_for_1_16_3_8_and_1_16_3_9\"]],\"hovertemplate\":\"Product=1_16_3\\u003cbr\\u003eStart=%{base}\\u003cbr\\u003eDuration=%{x}\\u003cbr\\u003eResource=%{y}\\u003cbr\\u003eEnd=%{customdata[0]}\\u003cbr\\u003eTask=%{customdata[1]}\\u003cbr\\u003eName=%{customdata[2]}\\u003cextra\\u003e\\u003c\\u002fextra\\u003e\",\"legendgroup\":\"1_16_3\",\"marker\":{\"color\":\"#ab63fa\",\"pattern\":{\"shape\":\"\"}},\"name\":\"1_16_3\",\"offsetgroup\":\"1_16_3\",\"orientation\":\"h\",\"showlegend\":true,\"textposition\":\"auto\",\"x\":[10,10,8,33,320,192,152,160,96,8,10,10,33,118,192,37,152,129,96,231,0],\"xaxis\":\"x\",\"y\":[\"Source_Source\",\"Cell_0_Transport\",\"Cell_0_Carrousel\",\"Cell_0_Staubli\",\"Cell_0_Binpick\",\"Cell_0_Staubli\",\"Cell_0_Staubli\",\"Cell_0_Binpick\",\"Cell_0_Staubli\",\"Cell_0_Carrousel\",\"Cell_0_Transport\",\"Sink_Sink\",\"Cell_0_Warehouse_0\",\"Cell_0_Warehouse_0\",\"Cell_0_Warehouse_0\",\"Cell_0_Warehouse_0\",\"Cell_0_Warehouse_0\",\"Cell_0_Warehouse_0\",\"Cell_0_Warehouse_0\",\"Cell_0_Warehouse_0\",\"Cell_0_Warehouse_0\"],\"yaxis\":\"y\",\"type\":\"bar\"},{\"alignmentgroup\":\"True\",\"base\":[1436,1446,1456,1464,1368,1688,2009,2232,2392,2726,2734,2744,1464,1464,1688,1497,2009,1880,2392,2161,2488],\"customdata\":[[1446,\"Task 84\",\"1_16_4_0\"],[1456,\"Task 85\",\"1_16_4_1\"],[1464,\"Task 86\",\"1_16_4_2\"],[1497,\"Task 87\",\"1_16_4_3\"],[1688,\"Task 88\",\"1_16_4_4\"],[1880,\"Task 89\",\"1_16_4_5\"],[2161,\"Task 90\",\"1_16_4_6\"],[2392,\"Task 91\",\"1_16_4_7\"],[2488,\"Task 92\",\"1_16_4_8\"],[2734,\"Task 93\",\"1_16_4_9\"],[2744,\"Task 94\",\"1_16_4_10\"],[2754,\"Task 95\",\"1_16_4_11\"],[1497,\"Task 96\",\"warehouse_for_1_16_4_3\"],[1464,\"Task 97\",\"filler_between_1_16_4_2_and_warehouse_for_1_16_4_3\"],[1880,\"Task 98\",\"warehouse_for_1_16_4_5\"],[1688,\"Task 99\",\"filler_between_warehouse_for_1_16_4_3_and_warehouse_for_1_16_4_5\"],[2161,\"Task 100\",\"warehouse_for_1_16_4_6\"],[2009,\"Task 101\",\"filler_between_warehouse_for_1_16_4_5_and_warehouse_for_1_16_4_6\"],[2488,\"Task 102\",\"warehouse_for_1_16_4_8\"],[2392,\"Task 103\",\"filler_between_warehouse_for_1_16_4_6_and_warehouse_for_1_16_4_8\"],[2726,\"Task 104\",\"filler_between_warehouse_for_1_16_4_8_and_1_16_4_9\"]],\"hovertemplate\":\"Product=1_16_4\\u003cbr\\u003eStart=%{base}\\u003cbr\\u003eDuration=%{x}\\u003cbr\\u003eResource=%{y}\\u003cbr\\u003eEnd=%{customdata[0]}\\u003cbr\\u003eTask=%{customdata[1]}\\u003cbr\\u003eName=%{customdata[2]}\\u003cextra\\u003e\\u003c\\u002fextra\\u003e\",\"legendgroup\":\"1_16_4\",\"marker\":{\"color\":\"#FFA15A\",\"pattern\":{\"shape\":\"\"}},\"name\":\"1_16_4\",\"offsetgroup\":\"1_16_4\",\"orientation\":\"h\",\"showlegend\":true,\"textposition\":\"auto\",\"x\":[10,10,8,33,320,192,152,160,96,8,10,10,33,0,192,191,152,129,96,231,238],\"xaxis\":\"x\",\"y\":[\"Source_Source\",\"Cell_0_Transport\",\"Cell_0_Carrousel\",\"Cell_0_Staubli\",\"Cell_0_Binpick\",\"Cell_0_Staubli\",\"Cell_0_Staubli\",\"Cell_0_Binpick\",\"Cell_0_Staubli\",\"Cell_0_Carrousel\",\"Cell_0_Transport\",\"Sink_Sink\",\"Cell_0_Warehouse_1\",\"Cell_0_Warehouse_1\",\"Cell_0_Warehouse_1\",\"Cell_0_Warehouse_1\",\"Cell_0_Warehouse_1\",\"Cell_0_Warehouse_1\",\"Cell_0_Warehouse_1\",\"Cell_0_Warehouse_1\",\"Cell_0_Warehouse_1\"],\"yaxis\":\"y\",\"type\":\"bar\"}],                        {\"template\":{\"data\":{\"histogram2dcontour\":[{\"type\":\"histogram2dcontour\",\"colorbar\":{\"outlinewidth\":0,\"ticks\":\"\"},\"colorscale\":[[0.0,\"#0d0887\"],[0.1111111111111111,\"#46039f\"],[0.2222222222222222,\"#7201a8\"],[0.3333333333333333,\"#9c179e\"],[0.4444444444444444,\"#bd3786\"],[0.5555555555555556,\"#d8576b\"],[0.6666666666666666,\"#ed7953\"],[0.7777777777777778,\"#fb9f3a\"],[0.8888888888888888,\"#fdca26\"],[1.0,\"#f0f921\"]]}],\"choropleth\":[{\"type\":\"choropleth\",\"colorbar\":{\"outlinewidth\":0,\"ticks\":\"\"}}],\"histogram2d\":[{\"type\":\"histogram2d\",\"colorbar\":{\"outlinewidth\":0,\"ticks\":\"\"},\"colorscale\":[[0.0,\"#0d0887\"],[0.1111111111111111,\"#46039f\"],[0.2222222222222222,\"#7201a8\"],[0.3333333333333333,\"#9c179e\"],[0.4444444444444444,\"#bd3786\"],[0.5555555555555556,\"#d8576b\"],[0.6666666666666666,\"#ed7953\"],[0.7777777777777778,\"#fb9f3a\"],[0.8888888888888888,\"#fdca26\"],[1.0,\"#f0f921\"]]}],\"heatmap\":[{\"type\":\"heatmap\",\"colorbar\":{\"outlinewidth\":0,\"ticks\":\"\"},\"colorscale\":[[0.0,\"#0d0887\"],[0.1111111111111111,\"#46039f\"],[0.2222222222222222,\"#7201a8\"],[0.3333333333333333,\"#9c179e\"],[0.4444444444444444,\"#bd3786\"],[0.5555555555555556,\"#d8576b\"],[0.6666666666666666,\"#ed7953\"],[0.7777777777777778,\"#fb9f3a\"],[0.8888888888888888,\"#fdca26\"],[1.0,\"#f0f921\"]]}],\"heatmapgl\":[{\"type\":\"heatmapgl\",\"colorbar\":{\"outlinewidth\":0,\"ticks\":\"\"},\"colorscale\":[[0.0,\"#0d0887\"],[0.1111111111111111,\"#46039f\"],[0.2222222222222222,\"#7201a8\"],[0.3333333333333333,\"#9c179e\"],[0.4444444444444444,\"#bd3786\"],[0.5555555555555556,\"#d8576b\"],[0.6666666666666666,\"#ed7953\"],[0.7777777777777778,\"#fb9f3a\"],[0.8888888888888888,\"#fdca26\"],[1.0,\"#f0f921\"]]}],\"contourcarpet\":[{\"type\":\"contourcarpet\",\"colorbar\":{\"outlinewidth\":0,\"ticks\":\"\"}}],\"contour\":[{\"type\":\"contour\",\"colorbar\":{\"outlinewidth\":0,\"ticks\":\"\"},\"colorscale\":[[0.0,\"#0d0887\"],[0.1111111111111111,\"#46039f\"],[0.2222222222222222,\"#7201a8\"],[0.3333333333333333,\"#9c179e\"],[0.4444444444444444,\"#bd3786\"],[0.5555555555555556,\"#d8576b\"],[0.6666666666666666,\"#ed7953\"],[0.7777777777777778,\"#fb9f3a\"],[0.8888888888888888,\"#fdca26\"],[1.0,\"#f0f921\"]]}],\"surface\":[{\"type\":\"surface\",\"colorbar\":{\"outlinewidth\":0,\"ticks\":\"\"},\"colorscale\":[[0.0,\"#0d0887\"],[0.1111111111111111,\"#46039f\"],[0.2222222222222222,\"#7201a8\"],[0.3333333333333333,\"#9c179e\"],[0.4444444444444444,\"#bd3786\"],[0.5555555555555556,\"#d8576b\"],[0.6666666666666666,\"#ed7953\"],[0.7777777777777778,\"#fb9f3a\"],[0.8888888888888888,\"#fdca26\"],[1.0,\"#f0f921\"]]}],\"mesh3d\":[{\"type\":\"mesh3d\",\"colorbar\":{\"outlinewidth\":0,\"ticks\":\"\"}}],\"scatter\":[{\"marker\":{\"line\":{\"color\":\"#283442\"}},\"type\":\"scatter\"}],\"parcoords\":[{\"type\":\"parcoords\",\"line\":{\"colorbar\":{\"outlinewidth\":0,\"ticks\":\"\"}}}],\"scatterpolargl\":[{\"type\":\"scatterpolargl\",\"marker\":{\"colorbar\":{\"outlinewidth\":0,\"ticks\":\"\"}}}],\"bar\":[{\"error_x\":{\"color\":\"#f2f5fa\"},\"error_y\":{\"color\":\"#f2f5fa\"},\"marker\":{\"line\":{\"color\":\"rgb(17,17,17)\",\"width\":0.5},\"pattern\":{\"fillmode\":\"overlay\",\"size\":10,\"solidity\":0.2}},\"type\":\"bar\"}],\"scattergeo\":[{\"type\":\"scattergeo\",\"marker\":{\"colorbar\":{\"outlinewidth\":0,\"ticks\":\"\"}}}],\"scatterpolar\":[{\"type\":\"scatterpolar\",\"marker\":{\"colorbar\":{\"outlinewidth\":0,\"ticks\":\"\"}}}],\"histogram\":[{\"marker\":{\"pattern\":{\"fillmode\":\"overlay\",\"size\":10,\"solidity\":0.2}},\"type\":\"histogram\"}],\"scattergl\":[{\"marker\":{\"line\":{\"color\":\"#283442\"}},\"type\":\"scattergl\"}],\"scatter3d\":[{\"type\":\"scatter3d\",\"line\":{\"colorbar\":{\"outlinewidth\":0,\"ticks\":\"\"}},\"marker\":{\"colorbar\":{\"outlinewidth\":0,\"ticks\":\"\"}}}],\"scattermapbox\":[{\"type\":\"scattermapbox\",\"marker\":{\"colorbar\":{\"outlinewidth\":0,\"ticks\":\"\"}}}],\"scatterternary\":[{\"type\":\"scatterternary\",\"marker\":{\"colorbar\":{\"outlinewidth\":0,\"ticks\":\"\"}}}],\"scattercarpet\":[{\"type\":\"scattercarpet\",\"marker\":{\"colorbar\":{\"outlinewidth\":0,\"ticks\":\"\"}}}],\"carpet\":[{\"aaxis\":{\"endlinecolor\":\"#A2B1C6\",\"gridcolor\":\"#506784\",\"linecolor\":\"#506784\",\"minorgridcolor\":\"#506784\",\"startlinecolor\":\"#A2B1C6\"},\"baxis\":{\"endlinecolor\":\"#A2B1C6\",\"gridcolor\":\"#506784\",\"linecolor\":\"#506784\",\"minorgridcolor\":\"#506784\",\"startlinecolor\":\"#A2B1C6\"},\"type\":\"carpet\"}],\"table\":[{\"cells\":{\"fill\":{\"color\":\"#506784\"},\"line\":{\"color\":\"rgb(17,17,17)\"}},\"header\":{\"fill\":{\"color\":\"#2a3f5f\"},\"line\":{\"color\":\"rgb(17,17,17)\"}},\"type\":\"table\"}],\"barpolar\":[{\"marker\":{\"line\":{\"color\":\"rgb(17,17,17)\",\"width\":0.5},\"pattern\":{\"fillmode\":\"overlay\",\"size\":10,\"solidity\":0.2}},\"type\":\"barpolar\"}],\"pie\":[{\"automargin\":true,\"type\":\"pie\"}]},\"layout\":{\"autotypenumbers\":\"strict\",\"colorway\":[\"#636efa\",\"#EF553B\",\"#00cc96\",\"#ab63fa\",\"#FFA15A\",\"#19d3f3\",\"#FF6692\",\"#B6E880\",\"#FF97FF\",\"#FECB52\"],\"font\":{\"color\":\"#f2f5fa\"},\"hovermode\":\"closest\",\"hoverlabel\":{\"align\":\"left\"},\"paper_bgcolor\":\"rgb(17,17,17)\",\"plot_bgcolor\":\"rgb(17,17,17)\",\"polar\":{\"bgcolor\":\"rgb(17,17,17)\",\"angularaxis\":{\"gridcolor\":\"#506784\",\"linecolor\":\"#506784\",\"ticks\":\"\"},\"radialaxis\":{\"gridcolor\":\"#506784\",\"linecolor\":\"#506784\",\"ticks\":\"\"}},\"ternary\":{\"bgcolor\":\"rgb(17,17,17)\",\"aaxis\":{\"gridcolor\":\"#506784\",\"linecolor\":\"#506784\",\"ticks\":\"\"},\"baxis\":{\"gridcolor\":\"#506784\",\"linecolor\":\"#506784\",\"ticks\":\"\"},\"caxis\":{\"gridcolor\":\"#506784\",\"linecolor\":\"#506784\",\"ticks\":\"\"}},\"coloraxis\":{\"colorbar\":{\"outlinewidth\":0,\"ticks\":\"\"}},\"colorscale\":{\"sequential\":[[0.0,\"#0d0887\"],[0.1111111111111111,\"#46039f\"],[0.2222222222222222,\"#7201a8\"],[0.3333333333333333,\"#9c179e\"],[0.4444444444444444,\"#bd3786\"],[0.5555555555555556,\"#d8576b\"],[0.6666666666666666,\"#ed7953\"],[0.7777777777777778,\"#fb9f3a\"],[0.8888888888888888,\"#fdca26\"],[1.0,\"#f0f921\"]],\"sequentialminus\":[[0.0,\"#0d0887\"],[0.1111111111111111,\"#46039f\"],[0.2222222222222222,\"#7201a8\"],[0.3333333333333333,\"#9c179e\"],[0.4444444444444444,\"#bd3786\"],[0.5555555555555556,\"#d8576b\"],[0.6666666666666666,\"#ed7953\"],[0.7777777777777778,\"#fb9f3a\"],[0.8888888888888888,\"#fdca26\"],[1.0,\"#f0f921\"]],\"diverging\":[[0,\"#8e0152\"],[0.1,\"#c51b7d\"],[0.2,\"#de77ae\"],[0.3,\"#f1b6da\"],[0.4,\"#fde0ef\"],[0.5,\"#f7f7f7\"],[0.6,\"#e6f5d0\"],[0.7,\"#b8e186\"],[0.8,\"#7fbc41\"],[0.9,\"#4d9221\"],[1,\"#276419\"]]},\"xaxis\":{\"gridcolor\":\"#283442\",\"linecolor\":\"#506784\",\"ticks\":\"\",\"title\":{\"standoff\":15},\"zerolinecolor\":\"#283442\",\"automargin\":true,\"zerolinewidth\":2},\"yaxis\":{\"gridcolor\":\"#283442\",\"linecolor\":\"#506784\",\"ticks\":\"\",\"title\":{\"standoff\":15},\"zerolinecolor\":\"#283442\",\"automargin\":true,\"zerolinewidth\":2},\"scene\":{\"xaxis\":{\"backgroundcolor\":\"rgb(17,17,17)\",\"gridcolor\":\"#506784\",\"linecolor\":\"#506784\",\"showbackground\":true,\"ticks\":\"\",\"zerolinecolor\":\"#C8D4E3\",\"gridwidth\":2},\"yaxis\":{\"backgroundcolor\":\"rgb(17,17,17)\",\"gridcolor\":\"#506784\",\"linecolor\":\"#506784\",\"showbackground\":true,\"ticks\":\"\",\"zerolinecolor\":\"#C8D4E3\",\"gridwidth\":2},\"zaxis\":{\"backgroundcolor\":\"rgb(17,17,17)\",\"gridcolor\":\"#506784\",\"linecolor\":\"#506784\",\"showbackground\":true,\"ticks\":\"\",\"zerolinecolor\":\"#C8D4E3\",\"gridwidth\":2}},\"shapedefaults\":{\"line\":{\"color\":\"#f2f5fa\"}},\"annotationdefaults\":{\"arrowcolor\":\"#f2f5fa\",\"arrowhead\":0,\"arrowwidth\":1},\"geo\":{\"bgcolor\":\"rgb(17,17,17)\",\"landcolor\":\"rgb(17,17,17)\",\"subunitcolor\":\"#506784\",\"showland\":true,\"showlakes\":true,\"lakecolor\":\"rgb(17,17,17)\"},\"title\":{\"x\":0.05},\"updatemenudefaults\":{\"bgcolor\":\"#506784\",\"borderwidth\":0},\"sliderdefaults\":{\"bgcolor\":\"#C8D4E3\",\"borderwidth\":1,\"bordercolor\":\"rgb(17,17,17)\",\"tickwidth\":0},\"mapbox\":{\"style\":\"dark\"}}},\"xaxis\":{\"anchor\":\"y\",\"domain\":[0.0,1.0],\"title\":{\"text\":\"Time\"},\"showgrid\":true,\"gridcolor\":\"lightgray\",\"color\":\"white\"},\"yaxis\":{\"anchor\":\"x\",\"domain\":[0.0,1.0],\"title\":{\"text\":\"Machine\"},\"showgrid\":true,\"gridcolor\":\"lightgray\",\"color\":\"white\",\"categoryorder\":\"category ascending\"},\"legend\":{\"title\":{\"text\":\"Product\"},\"tracegroupgap\":0},\"title\":{\"text\":\"Job Shop Schedule - No State change for Cell 0 Staubli\",\"font\":{\"color\":\"white\"}},\"barmode\":\"relative\",\"font\":{\"color\":\"white\"},\"plot_bgcolor\":\"black\",\"paper_bgcolor\":\"black\"},                        {\"responsive\": true}                    ).then(function(){\n",
       "                            \n",
       "var gd = document.getElementById('d00bf99f-caca-45ec-aeb4-5ce81d93467d');\n",
       "var x = new MutationObserver(function (mutations, observer) {{\n",
       "        var display = window.getComputedStyle(gd).display;\n",
       "        if (!display || display === 'none') {{\n",
       "            console.log([gd, 'removed!']);\n",
       "            Plotly.purge(gd);\n",
       "            observer.disconnect();\n",
       "        }}\n",
       "}});\n",
       "\n",
       "// Listen for the removal of the full notebook cells\n",
       "var notebookContainer = gd.closest('#notebook-container');\n",
       "if (notebookContainer) {{\n",
       "    x.observe(notebookContainer, {childList: true});\n",
       "}}\n",
       "\n",
       "// Listen for the clearing of the current output cell\n",
       "var outputEl = gd.closest('.output');\n",
       "if (outputEl) {{\n",
       "    x.observe(outputEl, {childList: true});\n",
       "}}\n",
       "\n",
       "                        })                };                });            </script>        </div>"
      ]
     },
     "metadata": {},
     "output_type": "display_data"
    }
   ],
   "execution_count": 10
  },
  {
   "metadata": {
    "ExecuteTime": {
     "end_time": "2025-02-10T10:22:03.233480Z",
     "start_time": "2025-02-10T10:22:02.938976Z"
    }
   },
   "cell_type": "code",
   "source": [
    "model_cp_states = MFSModelCP(data)\n",
    "for solver in ['ortools']:\n",
    "    start = time.time()\n",
    "    if model_cp_states.solve(solver=solver,time_limit=60):\n",
    "        end = time.time()\n",
    "    else:\n",
    "        print(f'Timeout reached for {solver} with CP formulation')\n"
   ],
   "id": "4ea73092b0760968",
   "outputs": [
    {
     "ename": "NameError",
     "evalue": "name 'data' is not defined",
     "output_type": "error",
     "traceback": [
      "\u001B[0;31m---------------------------------------------------------------------------\u001B[0m",
      "\u001B[0;31mNameError\u001B[0m                                 Traceback (most recent call last)",
      "Cell \u001B[0;32mIn[3], line 1\u001B[0m\n\u001B[0;32m----> 1\u001B[0m model_cp_states \u001B[38;5;241m=\u001B[39m MFSModelCP(\u001B[43mdata\u001B[49m)\n\u001B[1;32m      2\u001B[0m \u001B[38;5;28;01mfor\u001B[39;00m solver \u001B[38;5;129;01min\u001B[39;00m [\u001B[38;5;124m'\u001B[39m\u001B[38;5;124mortools\u001B[39m\u001B[38;5;124m'\u001B[39m]:\n\u001B[1;32m      3\u001B[0m     start \u001B[38;5;241m=\u001B[39m time\u001B[38;5;241m.\u001B[39mtime()\n",
      "\u001B[0;31mNameError\u001B[0m: name 'data' is not defined"
     ]
    }
   ],
   "execution_count": 3
  },
  {
   "metadata": {
    "ExecuteTime": {
     "end_time": "2025-02-10T15:52:44.273797Z",
     "start_time": "2025-02-10T15:44:52.033059Z"
    }
   },
   "cell_type": "code",
   "source": [
    "model= MFSModelCP(data)\n",
    "for solver in ['ortools']:\n",
    "    start = time.time()\n",
    "    if model.solve(solver=solver,time_limit=600):\n",
    "        end = time.time()\n",
    "        print(f'Solving for {solver} with CP formulation: {end-start} seconds with a makespan of {model.get_makespan()}')\n",
    "    else:\n",
    "        end = time.time()\n",
    "        print(f'Timeout reached for {solver} with CP formulation: {end-start} seconds with a makespan of {model.get_makespan()}')"
   ],
   "id": "2ae73d8f5510ec10",
   "outputs": [
    {
     "name": "stdout",
     "output_type": "stream",
     "text": [
      "Solving for ortools with CP formulation: 472.21069598197937 seconds with a makespan of 3327\n"
     ]
    }
   ],
   "execution_count": 27
  },
  {
   "metadata": {
    "ExecuteTime": {
     "end_time": "2025-02-10T16:28:46.637630Z",
     "start_time": "2025-02-10T16:10:59.279438Z"
    }
   },
   "cell_type": "code",
   "outputs": [
    {
     "name": "stdout",
     "output_type": "stream",
     "text": [
      "Solving for ortools with ILP formulation: 463.4031217098236 seconds with a makespan of 3327\n",
      "Timeout reached for gurobi with ILP formulation: 602.160386800766 seconds\n"
     ]
    },
    {
     "ename": "RuntimeError",
     "evalue": "Program interrupted by user.",
     "output_type": "error",
     "traceback": [
      "\u001B[0;31m---------------------------------------------------------------------------\u001B[0m",
      "\u001B[0;31mRuntimeError\u001B[0m                              Traceback (most recent call last)",
      "Cell \u001B[0;32mIn[29], line 5\u001B[0m\n\u001B[1;32m      3\u001B[0m \u001B[38;5;28;01mfor\u001B[39;00m solver \u001B[38;5;129;01min\u001B[39;00m [\u001B[38;5;124m'\u001B[39m\u001B[38;5;124mortools\u001B[39m\u001B[38;5;124m'\u001B[39m,\u001B[38;5;124m'\u001B[39m\u001B[38;5;124mgurobi\u001B[39m\u001B[38;5;124m'\u001B[39m,\u001B[38;5;124m'\u001B[39m\u001B[38;5;124mexact\u001B[39m\u001B[38;5;124m'\u001B[39m]:\n\u001B[1;32m      4\u001B[0m     start \u001B[38;5;241m=\u001B[39m time\u001B[38;5;241m.\u001B[39mtime()\n\u001B[0;32m----> 5\u001B[0m     \u001B[38;5;28;01mif\u001B[39;00m \u001B[43mmodel\u001B[49m\u001B[38;5;241;43m.\u001B[39;49m\u001B[43msolve\u001B[49m\u001B[43m(\u001B[49m\u001B[43msolver\u001B[49m\u001B[38;5;241;43m=\u001B[39;49m\u001B[43msolver\u001B[49m\u001B[43m,\u001B[49m\u001B[43mtime_limit\u001B[49m\u001B[38;5;241;43m=\u001B[39;49m\u001B[38;5;241;43m600\u001B[39;49m\u001B[43m)\u001B[49m:\n\u001B[1;32m      6\u001B[0m         end \u001B[38;5;241m=\u001B[39m time\u001B[38;5;241m.\u001B[39mtime()\n\u001B[1;32m      7\u001B[0m         \u001B[38;5;28mprint\u001B[39m(\u001B[38;5;124mf\u001B[39m\u001B[38;5;124m'\u001B[39m\u001B[38;5;124mSolving for \u001B[39m\u001B[38;5;132;01m{\u001B[39;00msolver\u001B[38;5;132;01m}\u001B[39;00m\u001B[38;5;124m with ILP formulation: \u001B[39m\u001B[38;5;132;01m{\u001B[39;00mend\u001B[38;5;241m-\u001B[39mstart\u001B[38;5;132;01m}\u001B[39;00m\u001B[38;5;124m seconds with a makespan of \u001B[39m\u001B[38;5;132;01m{\u001B[39;00mmodel\u001B[38;5;241m.\u001B[39mget_makespan()\u001B[38;5;132;01m}\u001B[39;00m\u001B[38;5;124m'\u001B[39m)\n",
      "File \u001B[0;32m~/PycharmProjects/Manufacturing_Floor/model_mf.py:97\u001B[0m, in \u001B[0;36mMFModel.solve\u001B[0;34m(self, solver, time_limit)\u001B[0m\n\u001B[1;32m     96\u001B[0m \u001B[38;5;28;01mdef\u001B[39;00m \u001B[38;5;21msolve\u001B[39m(\u001B[38;5;28mself\u001B[39m,solver,time_limit\u001B[38;5;241m=\u001B[39m\u001B[38;5;241m60\u001B[39m):\n\u001B[0;32m---> 97\u001B[0m   \u001B[38;5;28;01mreturn\u001B[39;00m \u001B[38;5;28;43mself\u001B[39;49m\u001B[38;5;241;43m.\u001B[39;49m\u001B[43mmodel\u001B[49m\u001B[38;5;241;43m.\u001B[39;49m\u001B[43msolve\u001B[49m\u001B[43m(\u001B[49m\u001B[43msolver\u001B[49m\u001B[38;5;241;43m=\u001B[39;49m\u001B[43msolver\u001B[49m\u001B[43m,\u001B[49m\u001B[43mtime_limit\u001B[49m\u001B[38;5;241;43m=\u001B[39;49m\u001B[43mtime_limit\u001B[49m\u001B[43m)\u001B[49m\n",
      "File \u001B[0;32m~/PycharmProjects/cpmpy/cpmpy/model.py:162\u001B[0m, in \u001B[0;36mModel.solve\u001B[0;34m(self, solver, time_limit, **kwargs)\u001B[0m\n\u001B[1;32m    159\u001B[0m     s \u001B[38;5;241m=\u001B[39m SolverLookup\u001B[38;5;241m.\u001B[39mget(solver, \u001B[38;5;28mself\u001B[39m)\n\u001B[1;32m    161\u001B[0m \u001B[38;5;66;03m# call solver\u001B[39;00m\n\u001B[0;32m--> 162\u001B[0m ret \u001B[38;5;241m=\u001B[39m \u001B[43ms\u001B[49m\u001B[38;5;241;43m.\u001B[39;49m\u001B[43msolve\u001B[49m\u001B[43m(\u001B[49m\u001B[43mtime_limit\u001B[49m\u001B[38;5;241;43m=\u001B[39;49m\u001B[43mtime_limit\u001B[49m\u001B[43m,\u001B[49m\u001B[43m \u001B[49m\u001B[38;5;241;43m*\u001B[39;49m\u001B[38;5;241;43m*\u001B[39;49m\u001B[43mkwargs\u001B[49m\u001B[43m)\u001B[49m\n\u001B[1;32m    163\u001B[0m \u001B[38;5;66;03m# store CPMpy status (s object has no further use)\u001B[39;00m\n\u001B[1;32m    164\u001B[0m \u001B[38;5;28mself\u001B[39m\u001B[38;5;241m.\u001B[39mcpm_status \u001B[38;5;241m=\u001B[39m s\u001B[38;5;241m.\u001B[39mstatus()\n",
      "File \u001B[0;32m~/PycharmProjects/cpmpy/cpmpy/solvers/exact.py:182\u001B[0m, in \u001B[0;36mCPM_exact.solve\u001B[0;34m(self, time_limit, assumptions, **kwargs)\u001B[0m\n\u001B[1;32m    180\u001B[0m \u001B[38;5;66;03m# call the solver, with parameters\u001B[39;00m\n\u001B[1;32m    181\u001B[0m start \u001B[38;5;241m=\u001B[39m time\u001B[38;5;241m.\u001B[39mtime()\n\u001B[0;32m--> 182\u001B[0m my_status, obj_val \u001B[38;5;241m=\u001B[39m \u001B[38;5;28;43mself\u001B[39;49m\u001B[38;5;241;43m.\u001B[39;49m\u001B[43mxct_solver\u001B[49m\u001B[38;5;241;43m.\u001B[39;49m\u001B[43mtoOptimum\u001B[49m\u001B[43m(\u001B[49m\u001B[43mtimeout\u001B[49m\u001B[38;5;241;43m=\u001B[39;49m\u001B[43mtime_limit\u001B[49m\u001B[43m \u001B[49m\u001B[38;5;28;43;01mif\u001B[39;49;00m\u001B[43m \u001B[49m\u001B[43mtime_limit\u001B[49m\u001B[43m \u001B[49m\u001B[38;5;129;43;01mis\u001B[39;49;00m\u001B[43m \u001B[49m\u001B[38;5;129;43;01mnot\u001B[39;49;00m\u001B[43m \u001B[49m\u001B[38;5;28;43;01mNone\u001B[39;49;00m\u001B[43m \u001B[49m\u001B[38;5;28;43;01melse\u001B[39;49;00m\u001B[43m \u001B[49m\u001B[38;5;241;43m0\u001B[39;49m\u001B[43m)\u001B[49m\n\u001B[1;32m    183\u001B[0m \u001B[38;5;66;03m#                                     timeout=time_limit if time_limit is not None else 0)\u001B[39;00m\n\u001B[1;32m    184\u001B[0m end \u001B[38;5;241m=\u001B[39m time\u001B[38;5;241m.\u001B[39mtime()\n",
      "\u001B[0;31mRuntimeError\u001B[0m: Program interrupted by user."
     ]
    }
   ],
   "execution_count": 29,
   "source": [
    "model= MFSModelILP(data)\n",
    "\n",
    "for solver in ['ortools','gurobi','exact']:\n",
    "    start = time.time()\n",
    "    if model.solve(solver=solver,time_limit=600):\n",
    "        end = time.time()\n",
    "        print(f'Solving for {solver} with ILP formulation: {end-start} seconds with a makespan of {model.get_makespan()}')\n",
    "    else:\n",
    "        end = time.time()\n",
    "        print(f'Timeout reached for {solver} with ILP formulation: {end-start} seconds')"
   ],
   "id": "a6d44501f6bba434"
  },
  {
   "metadata": {
    "ExecuteTime": {
     "end_time": "2025-02-17T09:34:12.743551Z",
     "start_time": "2025-02-17T09:24:12.526275Z"
    }
   },
   "cell_type": "code",
   "source": [
    "model= MFSModelCP(data)\n",
    "for solver in ['ortools']:\n",
    "    start = time.time()\n",
    "    if model.solve(solver=solver,time_limit=600):\n",
    "        end = time.time()\n",
    "        print(f'Solving for {solver} with CP formulation: {end-start} seconds with a makespan of {model.get_makespan()}')\n",
    "    else:\n",
    "        end = time.time()\n",
    "        print(f'Timeout reached for {solver} with ILP formulation: {end-start} seconds')"
   ],
   "id": "d59115f083ef8c10",
   "outputs": [
    {
     "name": "stdout",
     "output_type": "stream",
     "text": [
      "Solving for ortools with CP formulation: 600.1878714561462 seconds with a makespan of 3327\n"
     ]
    }
   ],
   "execution_count": 11
  },
  {
   "metadata": {
    "ExecuteTime": {
     "end_time": "2025-02-17T09:34:19.398380Z",
     "start_time": "2025-02-17T09:34:19.333079Z"
    }
   },
   "cell_type": "code",
   "source": [
    "jobs = model.get_jobs()\n",
    "info = model.get_info()\n",
    "start, duration = model.get_dv()\n",
    "to_show =  []\n",
    "\n",
    "for job,job_info in jobs.items():\n",
    "    subject = info[job_info['__id__']][0]\n",
    "    start_job = start[subject].value()\n",
    "    end_job = start[subject].value() + duration[subject].value()\n",
    "    resource = info[job_info['__id__']][1]\n",
    "    product = info[job_info['__id__']][2]\n",
    "    job_name = info[job_info['__id__']][4]\n",
    "    to_show.append(dict(Task = f'Task {subject}', Start= start_job,End = end_job, Resource = resource, Product = product, Name=job_name))\n",
    "\n",
    "# Convert the tasks to a DataFrame for easier manipulation\n",
    "df = pd.DataFrame(to_show)\n",
    "\n",
    "# Calculate the duration of each task\n",
    "df['Duration'] = df['End'] - df['Start']\n",
    "\n",
    "# Use px.bar to create the Gantt chart with item-based colors\n",
    "fig = px.bar(df, x='Duration', y='Resource', color='Product', orientation='h',\n",
    "             hover_data=['Start', 'End', 'Task','Name'], base='Start', title=\"Job Shop Schedule - State change for Cell 0 Staubli\")\n",
    "\n",
    "# Update the layout to set the background to black and adjust text/grid colors for visibility\n",
    "fig.update_layout(\n",
    "    plot_bgcolor='black',  # Set background color of the plot to black\n",
    "    paper_bgcolor='black',  # Set the overall figure background to black\n",
    "    xaxis=dict(showgrid=True, gridcolor='lightgray', title=\"Time\", color='white'),  # Set grid lines and label color to light for visibility\n",
    "    yaxis=dict(showgrid=True, gridcolor='lightgray', title=\"Machine\", color='white', categoryorder='category ascending'),  # Set grid and label color\n",
    "    font=dict(color='white'),  # Set general font color to white for readability\n",
    "    title_font=dict(color='white')  # Ensure the title font is also visible\n",
    ")\n",
    "\n",
    "fig.show()"
   ],
   "id": "99806b963a7e7f9c",
   "outputs": [
    {
     "data": {
      "application/vnd.plotly.v1+json": {
       "data": [
        {
         "alignmentgroup": "True",
         "base": [
          1044,
          1054,
          1064,
          1112,
          1057,
          1377,
          1818,
          2082,
          2242,
          2339,
          2347,
          2357,
          1112,
          1072,
          1377,
          1145,
          1818,
          1569,
          2242,
          1970,
          2338
         ],
         "customdata": [
          [
           1054,
           "Task 0",
           "1_16_0_0"
          ],
          [
           1064,
           "Task 1",
           "1_16_0_1"
          ],
          [
           1072,
           "Task 2",
           "1_16_0_2"
          ],
          [
           1145,
           "Task 3",
           "1_16_0_3"
          ],
          [
           1377,
           "Task 4",
           "1_16_0_4"
          ],
          [
           1569,
           "Task 5",
           "1_16_0_5"
          ],
          [
           1970,
           "Task 6",
           "1_16_0_6"
          ],
          [
           2242,
           "Task 7",
           "1_16_0_7"
          ],
          [
           2338,
           "Task 8",
           "1_16_0_8"
          ],
          [
           2347,
           "Task 9",
           "1_16_0_9"
          ],
          [
           2357,
           "Task 10",
           "1_16_0_10"
          ],
          [
           2367,
           "Task 11",
           "1_16_0_11"
          ],
          [
           1145,
           "Task 12",
           "warehouse_for_1_16_0_3"
          ],
          [
           1112,
           "Task 13",
           "filler_between_1_16_0_2_and_warehouse_for_1_16_0_3"
          ],
          [
           1569,
           "Task 14",
           "warehouse_for_1_16_0_5"
          ],
          [
           1377,
           "Task 15",
           "filler_between_warehouse_for_1_16_0_3_and_warehouse_for_1_16_0_5"
          ],
          [
           1970,
           "Task 16",
           "warehouse_for_1_16_0_6"
          ],
          [
           1818,
           "Task 17",
           "filler_between_warehouse_for_1_16_0_5_and_warehouse_for_1_16_0_6"
          ],
          [
           2338,
           "Task 18",
           "warehouse_for_1_16_0_8"
          ],
          [
           2242,
           "Task 19",
           "filler_between_warehouse_for_1_16_0_6_and_warehouse_for_1_16_0_8"
          ],
          [
           2339,
           "Task 20",
           "filler_between_warehouse_for_1_16_0_8_and_1_16_0_9"
          ]
         ],
         "hovertemplate": "Product=1_16_0<br>Start=%{base}<br>Duration=%{x}<br>Resource=%{y}<br>End=%{customdata[0]}<br>Task=%{customdata[1]}<br>Name=%{customdata[2]}<extra></extra>",
         "legendgroup": "1_16_0",
         "marker": {
          "color": "#636efa",
          "pattern": {
           "shape": ""
          }
         },
         "name": "1_16_0",
         "offsetgroup": "1_16_0",
         "orientation": "h",
         "showlegend": true,
         "textposition": "auto",
         "x": [
          10,
          10,
          8,
          33,
          320,
          192,
          152,
          160,
          96,
          8,
          10,
          10,
          33,
          40,
          192,
          232,
          152,
          249,
          96,
          272,
          1
         ],
         "xaxis": "x",
         "y": [
          "Source_Source",
          "Cell_0_Transport",
          "Cell_0_Carrousel",
          "Cell_0_Staubli",
          "Cell_0_Binpick",
          "Cell_0_Staubli",
          "Cell_0_Staubli",
          "Cell_0_Binpick",
          "Cell_0_Staubli",
          "Cell_0_Carrousel",
          "Cell_0_Transport",
          "Sink_Sink",
          "Cell_0_Warehouse_0",
          "Cell_0_Warehouse_0",
          "Cell_0_Warehouse_0",
          "Cell_0_Warehouse_0",
          "Cell_0_Warehouse_0",
          "Cell_0_Warehouse_0",
          "Cell_0_Warehouse_0",
          "Cell_0_Warehouse_0",
          "Cell_0_Warehouse_0"
         ],
         "yaxis": "y",
         "type": "bar"
        },
        {
         "alignmentgroup": "True",
         "base": [
          1678,
          1688,
          1698,
          1745,
          1690,
          2010,
          2451,
          2715,
          2875,
          2971,
          2979,
          2989,
          1745,
          1706,
          2010,
          1778,
          2451,
          2202,
          2875,
          2603,
          2971
         ],
         "customdata": [
          [
           1688,
           "Task 21",
           "1_16_1_0"
          ],
          [
           1698,
           "Task 22",
           "1_16_1_1"
          ],
          [
           1706,
           "Task 23",
           "1_16_1_2"
          ],
          [
           1778,
           "Task 24",
           "1_16_1_3"
          ],
          [
           2010,
           "Task 25",
           "1_16_1_4"
          ],
          [
           2202,
           "Task 26",
           "1_16_1_5"
          ],
          [
           2603,
           "Task 27",
           "1_16_1_6"
          ],
          [
           2875,
           "Task 28",
           "1_16_1_7"
          ],
          [
           2971,
           "Task 29",
           "1_16_1_8"
          ],
          [
           2979,
           "Task 30",
           "1_16_1_9"
          ],
          [
           2989,
           "Task 31",
           "1_16_1_10"
          ],
          [
           2999,
           "Task 32",
           "1_16_1_11"
          ],
          [
           1778,
           "Task 33",
           "warehouse_for_1_16_1_3"
          ],
          [
           1745,
           "Task 34",
           "filler_between_1_16_1_2_and_warehouse_for_1_16_1_3"
          ],
          [
           2202,
           "Task 35",
           "warehouse_for_1_16_1_5"
          ],
          [
           2010,
           "Task 36",
           "filler_between_warehouse_for_1_16_1_3_and_warehouse_for_1_16_1_5"
          ],
          [
           2603,
           "Task 37",
           "warehouse_for_1_16_1_6"
          ],
          [
           2451,
           "Task 38",
           "filler_between_warehouse_for_1_16_1_5_and_warehouse_for_1_16_1_6"
          ],
          [
           2971,
           "Task 39",
           "warehouse_for_1_16_1_8"
          ],
          [
           2875,
           "Task 40",
           "filler_between_warehouse_for_1_16_1_6_and_warehouse_for_1_16_1_8"
          ],
          [
           2971,
           "Task 41",
           "filler_between_warehouse_for_1_16_1_8_and_1_16_1_9"
          ]
         ],
         "hovertemplate": "Product=1_16_1<br>Start=%{base}<br>Duration=%{x}<br>Resource=%{y}<br>End=%{customdata[0]}<br>Task=%{customdata[1]}<br>Name=%{customdata[2]}<extra></extra>",
         "legendgroup": "1_16_1",
         "marker": {
          "color": "#EF553B",
          "pattern": {
           "shape": ""
          }
         },
         "name": "1_16_1",
         "offsetgroup": "1_16_1",
         "orientation": "h",
         "showlegend": true,
         "textposition": "auto",
         "x": [
          10,
          10,
          8,
          33,
          320,
          192,
          152,
          160,
          96,
          8,
          10,
          10,
          33,
          39,
          192,
          232,
          152,
          249,
          96,
          272,
          0
         ],
         "xaxis": "x",
         "y": [
          "Source_Source",
          "Cell_0_Transport",
          "Cell_0_Carrousel",
          "Cell_0_Staubli",
          "Cell_0_Binpick",
          "Cell_0_Staubli",
          "Cell_0_Staubli",
          "Cell_0_Binpick",
          "Cell_0_Staubli",
          "Cell_0_Carrousel",
          "Cell_0_Transport",
          "Sink_Sink",
          "Cell_0_Warehouse_1",
          "Cell_0_Warehouse_1",
          "Cell_0_Warehouse_1",
          "Cell_0_Warehouse_1",
          "Cell_0_Warehouse_1",
          "Cell_0_Warehouse_1",
          "Cell_0_Warehouse_1",
          "Cell_0_Warehouse_1",
          "Cell_0_Warehouse_1"
         ],
         "yaxis": "y",
         "type": "bar"
        },
        {
         "alignmentgroup": "True",
         "base": [
          0,
          10,
          20,
          200,
          0,
          320,
          552,
          816,
          976,
          1072,
          1080,
          1090,
          200,
          28,
          320,
          233,
          552,
          512,
          976,
          704,
          1072
         ],
         "customdata": [
          [
           10,
           "Task 42",
           "1_16_2_0"
          ],
          [
           20,
           "Task 43",
           "1_16_2_1"
          ],
          [
           28,
           "Task 44",
           "1_16_2_2"
          ],
          [
           233,
           "Task 45",
           "1_16_2_3"
          ],
          [
           320,
           "Task 46",
           "1_16_2_4"
          ],
          [
           512,
           "Task 47",
           "1_16_2_5"
          ],
          [
           704,
           "Task 48",
           "1_16_2_6"
          ],
          [
           976,
           "Task 49",
           "1_16_2_7"
          ],
          [
           1072,
           "Task 50",
           "1_16_2_8"
          ],
          [
           1080,
           "Task 51",
           "1_16_2_9"
          ],
          [
           1090,
           "Task 52",
           "1_16_2_10"
          ],
          [
           1100,
           "Task 53",
           "1_16_2_11"
          ],
          [
           233,
           "Task 54",
           "warehouse_for_1_16_2_3"
          ],
          [
           200,
           "Task 55",
           "filler_between_1_16_2_2_and_warehouse_for_1_16_2_3"
          ],
          [
           512,
           "Task 56",
           "warehouse_for_1_16_2_5"
          ],
          [
           320,
           "Task 57",
           "filler_between_warehouse_for_1_16_2_3_and_warehouse_for_1_16_2_5"
          ],
          [
           704,
           "Task 58",
           "warehouse_for_1_16_2_6"
          ],
          [
           552,
           "Task 59",
           "filler_between_warehouse_for_1_16_2_5_and_warehouse_for_1_16_2_6"
          ],
          [
           1072,
           "Task 60",
           "warehouse_for_1_16_2_8"
          ],
          [
           976,
           "Task 61",
           "filler_between_warehouse_for_1_16_2_6_and_warehouse_for_1_16_2_8"
          ],
          [
           1072,
           "Task 62",
           "filler_between_warehouse_for_1_16_2_8_and_1_16_2_9"
          ]
         ],
         "hovertemplate": "Product=1_16_2<br>Start=%{base}<br>Duration=%{x}<br>Resource=%{y}<br>End=%{customdata[0]}<br>Task=%{customdata[1]}<br>Name=%{customdata[2]}<extra></extra>",
         "legendgroup": "1_16_2",
         "marker": {
          "color": "#00cc96",
          "pattern": {
           "shape": ""
          }
         },
         "name": "1_16_2",
         "offsetgroup": "1_16_2",
         "orientation": "h",
         "showlegend": true,
         "textposition": "auto",
         "x": [
          10,
          10,
          8,
          33,
          320,
          192,
          152,
          160,
          96,
          8,
          10,
          10,
          33,
          172,
          192,
          87,
          152,
          40,
          96,
          272,
          0
         ],
         "xaxis": "x",
         "y": [
          "Source_Source",
          "Cell_0_Transport",
          "Cell_0_Carrousel",
          "Cell_0_Staubli",
          "Cell_0_Binpick",
          "Cell_0_Staubli",
          "Cell_0_Staubli",
          "Cell_0_Binpick",
          "Cell_0_Staubli",
          "Cell_0_Carrousel",
          "Cell_0_Transport",
          "Sink_Sink",
          "Cell_0_Warehouse_0",
          "Cell_0_Warehouse_0",
          "Cell_0_Warehouse_0",
          "Cell_0_Warehouse_0",
          "Cell_0_Warehouse_0",
          "Cell_0_Warehouse_0",
          "Cell_0_Warehouse_0",
          "Cell_0_Warehouse_0",
          "Cell_0_Warehouse_0"
         ],
         "yaxis": "y",
         "type": "bar"
        },
        {
         "alignmentgroup": "True",
         "base": [
          2350,
          2360,
          2370,
          2378,
          2323,
          2643,
          3011,
          3043,
          3203,
          3299,
          3307,
          3317,
          2378,
          2378,
          2643,
          2411,
          3011,
          2835,
          3203,
          3163,
          3299
         ],
         "customdata": [
          [
           2360,
           "Task 63",
           "1_16_3_0"
          ],
          [
           2370,
           "Task 64",
           "1_16_3_1"
          ],
          [
           2378,
           "Task 65",
           "1_16_3_2"
          ],
          [
           2411,
           "Task 66",
           "1_16_3_3"
          ],
          [
           2643,
           "Task 67",
           "1_16_3_4"
          ],
          [
           2835,
           "Task 68",
           "1_16_3_5"
          ],
          [
           3163,
           "Task 69",
           "1_16_3_6"
          ],
          [
           3203,
           "Task 70",
           "1_16_3_7"
          ],
          [
           3299,
           "Task 71",
           "1_16_3_8"
          ],
          [
           3307,
           "Task 72",
           "1_16_3_9"
          ],
          [
           3317,
           "Task 73",
           "1_16_3_10"
          ],
          [
           3327,
           "Task 74",
           "1_16_3_11"
          ],
          [
           2411,
           "Task 75",
           "warehouse_for_1_16_3_3"
          ],
          [
           2378,
           "Task 76",
           "filler_between_1_16_3_2_and_warehouse_for_1_16_3_3"
          ],
          [
           2835,
           "Task 77",
           "warehouse_for_1_16_3_5"
          ],
          [
           2643,
           "Task 78",
           "filler_between_warehouse_for_1_16_3_3_and_warehouse_for_1_16_3_5"
          ],
          [
           3163,
           "Task 79",
           "warehouse_for_1_16_3_6"
          ],
          [
           3011,
           "Task 80",
           "filler_between_warehouse_for_1_16_3_5_and_warehouse_for_1_16_3_6"
          ],
          [
           3299,
           "Task 81",
           "warehouse_for_1_16_3_8"
          ],
          [
           3203,
           "Task 82",
           "filler_between_warehouse_for_1_16_3_6_and_warehouse_for_1_16_3_8"
          ],
          [
           3299,
           "Task 83",
           "filler_between_warehouse_for_1_16_3_8_and_1_16_3_9"
          ]
         ],
         "hovertemplate": "Product=1_16_3<br>Start=%{base}<br>Duration=%{x}<br>Resource=%{y}<br>End=%{customdata[0]}<br>Task=%{customdata[1]}<br>Name=%{customdata[2]}<extra></extra>",
         "legendgroup": "1_16_3",
         "marker": {
          "color": "#ab63fa",
          "pattern": {
           "shape": ""
          }
         },
         "name": "1_16_3",
         "offsetgroup": "1_16_3",
         "orientation": "h",
         "showlegend": true,
         "textposition": "auto",
         "x": [
          10,
          10,
          8,
          33,
          320,
          192,
          152,
          160,
          96,
          8,
          10,
          10,
          33,
          0,
          192,
          232,
          152,
          176,
          96,
          40,
          0
         ],
         "xaxis": "x",
         "y": [
          "Source_Source",
          "Cell_0_Transport",
          "Cell_0_Carrousel",
          "Cell_0_Staubli",
          "Cell_0_Binpick",
          "Cell_0_Staubli",
          "Cell_0_Staubli",
          "Cell_0_Binpick",
          "Cell_0_Staubli",
          "Cell_0_Carrousel",
          "Cell_0_Transport",
          "Sink_Sink",
          "Cell_0_Warehouse_0",
          "Cell_0_Warehouse_0",
          "Cell_0_Warehouse_0",
          "Cell_0_Warehouse_0",
          "Cell_0_Warehouse_0",
          "Cell_0_Warehouse_0",
          "Cell_0_Warehouse_0",
          "Cell_0_Warehouse_0",
          "Cell_0_Warehouse_0"
         ],
         "yaxis": "y",
         "type": "bar"
        },
        {
         "alignmentgroup": "True",
         "base": [
          10,
          20,
          30,
          39,
          424,
          744,
          1185,
          1449,
          1609,
          1706,
          1714,
          1724,
          39,
          38,
          744,
          72,
          1185,
          936,
          1609,
          1337,
          1705
         ],
         "customdata": [
          [
           20,
           "Task 84",
           "1_16_4_0"
          ],
          [
           30,
           "Task 85",
           "1_16_4_1"
          ],
          [
           38,
           "Task 86",
           "1_16_4_2"
          ],
          [
           72,
           "Task 87",
           "1_16_4_3"
          ],
          [
           744,
           "Task 88",
           "1_16_4_4"
          ],
          [
           936,
           "Task 89",
           "1_16_4_5"
          ],
          [
           1337,
           "Task 90",
           "1_16_4_6"
          ],
          [
           1609,
           "Task 91",
           "1_16_4_7"
          ],
          [
           1705,
           "Task 92",
           "1_16_4_8"
          ],
          [
           1714,
           "Task 93",
           "1_16_4_9"
          ],
          [
           1724,
           "Task 94",
           "1_16_4_10"
          ],
          [
           1734,
           "Task 95",
           "1_16_4_11"
          ],
          [
           72,
           "Task 96",
           "warehouse_for_1_16_4_3"
          ],
          [
           39,
           "Task 97",
           "filler_between_1_16_4_2_and_warehouse_for_1_16_4_3"
          ],
          [
           936,
           "Task 98",
           "warehouse_for_1_16_4_5"
          ],
          [
           744,
           "Task 99",
           "filler_between_warehouse_for_1_16_4_3_and_warehouse_for_1_16_4_5"
          ],
          [
           1337,
           "Task 100",
           "warehouse_for_1_16_4_6"
          ],
          [
           1185,
           "Task 101",
           "filler_between_warehouse_for_1_16_4_5_and_warehouse_for_1_16_4_6"
          ],
          [
           1705,
           "Task 102",
           "warehouse_for_1_16_4_8"
          ],
          [
           1609,
           "Task 103",
           "filler_between_warehouse_for_1_16_4_6_and_warehouse_for_1_16_4_8"
          ],
          [
           1706,
           "Task 104",
           "filler_between_warehouse_for_1_16_4_8_and_1_16_4_9"
          ]
         ],
         "hovertemplate": "Product=1_16_4<br>Start=%{base}<br>Duration=%{x}<br>Resource=%{y}<br>End=%{customdata[0]}<br>Task=%{customdata[1]}<br>Name=%{customdata[2]}<extra></extra>",
         "legendgroup": "1_16_4",
         "marker": {
          "color": "#FFA15A",
          "pattern": {
           "shape": ""
          }
         },
         "name": "1_16_4",
         "offsetgroup": "1_16_4",
         "orientation": "h",
         "showlegend": true,
         "textposition": "auto",
         "x": [
          10,
          10,
          8,
          33,
          320,
          192,
          152,
          160,
          96,
          8,
          10,
          10,
          33,
          1,
          192,
          672,
          152,
          249,
          96,
          272,
          1
         ],
         "xaxis": "x",
         "y": [
          "Source_Source",
          "Cell_0_Transport",
          "Cell_0_Carrousel",
          "Cell_0_Staubli",
          "Cell_0_Binpick",
          "Cell_0_Staubli",
          "Cell_0_Staubli",
          "Cell_0_Binpick",
          "Cell_0_Staubli",
          "Cell_0_Carrousel",
          "Cell_0_Transport",
          "Sink_Sink",
          "Cell_0_Warehouse_1",
          "Cell_0_Warehouse_1",
          "Cell_0_Warehouse_1",
          "Cell_0_Warehouse_1",
          "Cell_0_Warehouse_1",
          "Cell_0_Warehouse_1",
          "Cell_0_Warehouse_1",
          "Cell_0_Warehouse_1",
          "Cell_0_Warehouse_1"
         ],
         "yaxis": "y",
         "type": "bar"
        }
       ],
       "layout": {
        "template": {
         "data": {
          "histogram2dcontour": [
           {
            "type": "histogram2dcontour",
            "colorbar": {
             "outlinewidth": 0,
             "ticks": ""
            },
            "colorscale": [
             [
              0.0,
              "#0d0887"
             ],
             [
              0.1111111111111111,
              "#46039f"
             ],
             [
              0.2222222222222222,
              "#7201a8"
             ],
             [
              0.3333333333333333,
              "#9c179e"
             ],
             [
              0.4444444444444444,
              "#bd3786"
             ],
             [
              0.5555555555555556,
              "#d8576b"
             ],
             [
              0.6666666666666666,
              "#ed7953"
             ],
             [
              0.7777777777777778,
              "#fb9f3a"
             ],
             [
              0.8888888888888888,
              "#fdca26"
             ],
             [
              1.0,
              "#f0f921"
             ]
            ]
           }
          ],
          "choropleth": [
           {
            "type": "choropleth",
            "colorbar": {
             "outlinewidth": 0,
             "ticks": ""
            }
           }
          ],
          "histogram2d": [
           {
            "type": "histogram2d",
            "colorbar": {
             "outlinewidth": 0,
             "ticks": ""
            },
            "colorscale": [
             [
              0.0,
              "#0d0887"
             ],
             [
              0.1111111111111111,
              "#46039f"
             ],
             [
              0.2222222222222222,
              "#7201a8"
             ],
             [
              0.3333333333333333,
              "#9c179e"
             ],
             [
              0.4444444444444444,
              "#bd3786"
             ],
             [
              0.5555555555555556,
              "#d8576b"
             ],
             [
              0.6666666666666666,
              "#ed7953"
             ],
             [
              0.7777777777777778,
              "#fb9f3a"
             ],
             [
              0.8888888888888888,
              "#fdca26"
             ],
             [
              1.0,
              "#f0f921"
             ]
            ]
           }
          ],
          "heatmap": [
           {
            "type": "heatmap",
            "colorbar": {
             "outlinewidth": 0,
             "ticks": ""
            },
            "colorscale": [
             [
              0.0,
              "#0d0887"
             ],
             [
              0.1111111111111111,
              "#46039f"
             ],
             [
              0.2222222222222222,
              "#7201a8"
             ],
             [
              0.3333333333333333,
              "#9c179e"
             ],
             [
              0.4444444444444444,
              "#bd3786"
             ],
             [
              0.5555555555555556,
              "#d8576b"
             ],
             [
              0.6666666666666666,
              "#ed7953"
             ],
             [
              0.7777777777777778,
              "#fb9f3a"
             ],
             [
              0.8888888888888888,
              "#fdca26"
             ],
             [
              1.0,
              "#f0f921"
             ]
            ]
           }
          ],
          "heatmapgl": [
           {
            "type": "heatmapgl",
            "colorbar": {
             "outlinewidth": 0,
             "ticks": ""
            },
            "colorscale": [
             [
              0.0,
              "#0d0887"
             ],
             [
              0.1111111111111111,
              "#46039f"
             ],
             [
              0.2222222222222222,
              "#7201a8"
             ],
             [
              0.3333333333333333,
              "#9c179e"
             ],
             [
              0.4444444444444444,
              "#bd3786"
             ],
             [
              0.5555555555555556,
              "#d8576b"
             ],
             [
              0.6666666666666666,
              "#ed7953"
             ],
             [
              0.7777777777777778,
              "#fb9f3a"
             ],
             [
              0.8888888888888888,
              "#fdca26"
             ],
             [
              1.0,
              "#f0f921"
             ]
            ]
           }
          ],
          "contourcarpet": [
           {
            "type": "contourcarpet",
            "colorbar": {
             "outlinewidth": 0,
             "ticks": ""
            }
           }
          ],
          "contour": [
           {
            "type": "contour",
            "colorbar": {
             "outlinewidth": 0,
             "ticks": ""
            },
            "colorscale": [
             [
              0.0,
              "#0d0887"
             ],
             [
              0.1111111111111111,
              "#46039f"
             ],
             [
              0.2222222222222222,
              "#7201a8"
             ],
             [
              0.3333333333333333,
              "#9c179e"
             ],
             [
              0.4444444444444444,
              "#bd3786"
             ],
             [
              0.5555555555555556,
              "#d8576b"
             ],
             [
              0.6666666666666666,
              "#ed7953"
             ],
             [
              0.7777777777777778,
              "#fb9f3a"
             ],
             [
              0.8888888888888888,
              "#fdca26"
             ],
             [
              1.0,
              "#f0f921"
             ]
            ]
           }
          ],
          "surface": [
           {
            "type": "surface",
            "colorbar": {
             "outlinewidth": 0,
             "ticks": ""
            },
            "colorscale": [
             [
              0.0,
              "#0d0887"
             ],
             [
              0.1111111111111111,
              "#46039f"
             ],
             [
              0.2222222222222222,
              "#7201a8"
             ],
             [
              0.3333333333333333,
              "#9c179e"
             ],
             [
              0.4444444444444444,
              "#bd3786"
             ],
             [
              0.5555555555555556,
              "#d8576b"
             ],
             [
              0.6666666666666666,
              "#ed7953"
             ],
             [
              0.7777777777777778,
              "#fb9f3a"
             ],
             [
              0.8888888888888888,
              "#fdca26"
             ],
             [
              1.0,
              "#f0f921"
             ]
            ]
           }
          ],
          "mesh3d": [
           {
            "type": "mesh3d",
            "colorbar": {
             "outlinewidth": 0,
             "ticks": ""
            }
           }
          ],
          "scatter": [
           {
            "marker": {
             "line": {
              "color": "#283442"
             }
            },
            "type": "scatter"
           }
          ],
          "parcoords": [
           {
            "type": "parcoords",
            "line": {
             "colorbar": {
              "outlinewidth": 0,
              "ticks": ""
             }
            }
           }
          ],
          "scatterpolargl": [
           {
            "type": "scatterpolargl",
            "marker": {
             "colorbar": {
              "outlinewidth": 0,
              "ticks": ""
             }
            }
           }
          ],
          "bar": [
           {
            "error_x": {
             "color": "#f2f5fa"
            },
            "error_y": {
             "color": "#f2f5fa"
            },
            "marker": {
             "line": {
              "color": "rgb(17,17,17)",
              "width": 0.5
             },
             "pattern": {
              "fillmode": "overlay",
              "size": 10,
              "solidity": 0.2
             }
            },
            "type": "bar"
           }
          ],
          "scattergeo": [
           {
            "type": "scattergeo",
            "marker": {
             "colorbar": {
              "outlinewidth": 0,
              "ticks": ""
             }
            }
           }
          ],
          "scatterpolar": [
           {
            "type": "scatterpolar",
            "marker": {
             "colorbar": {
              "outlinewidth": 0,
              "ticks": ""
             }
            }
           }
          ],
          "histogram": [
           {
            "marker": {
             "pattern": {
              "fillmode": "overlay",
              "size": 10,
              "solidity": 0.2
             }
            },
            "type": "histogram"
           }
          ],
          "scattergl": [
           {
            "marker": {
             "line": {
              "color": "#283442"
             }
            },
            "type": "scattergl"
           }
          ],
          "scatter3d": [
           {
            "type": "scatter3d",
            "line": {
             "colorbar": {
              "outlinewidth": 0,
              "ticks": ""
             }
            },
            "marker": {
             "colorbar": {
              "outlinewidth": 0,
              "ticks": ""
             }
            }
           }
          ],
          "scattermapbox": [
           {
            "type": "scattermapbox",
            "marker": {
             "colorbar": {
              "outlinewidth": 0,
              "ticks": ""
             }
            }
           }
          ],
          "scatterternary": [
           {
            "type": "scatterternary",
            "marker": {
             "colorbar": {
              "outlinewidth": 0,
              "ticks": ""
             }
            }
           }
          ],
          "scattercarpet": [
           {
            "type": "scattercarpet",
            "marker": {
             "colorbar": {
              "outlinewidth": 0,
              "ticks": ""
             }
            }
           }
          ],
          "carpet": [
           {
            "aaxis": {
             "endlinecolor": "#A2B1C6",
             "gridcolor": "#506784",
             "linecolor": "#506784",
             "minorgridcolor": "#506784",
             "startlinecolor": "#A2B1C6"
            },
            "baxis": {
             "endlinecolor": "#A2B1C6",
             "gridcolor": "#506784",
             "linecolor": "#506784",
             "minorgridcolor": "#506784",
             "startlinecolor": "#A2B1C6"
            },
            "type": "carpet"
           }
          ],
          "table": [
           {
            "cells": {
             "fill": {
              "color": "#506784"
             },
             "line": {
              "color": "rgb(17,17,17)"
             }
            },
            "header": {
             "fill": {
              "color": "#2a3f5f"
             },
             "line": {
              "color": "rgb(17,17,17)"
             }
            },
            "type": "table"
           }
          ],
          "barpolar": [
           {
            "marker": {
             "line": {
              "color": "rgb(17,17,17)",
              "width": 0.5
             },
             "pattern": {
              "fillmode": "overlay",
              "size": 10,
              "solidity": 0.2
             }
            },
            "type": "barpolar"
           }
          ],
          "pie": [
           {
            "automargin": true,
            "type": "pie"
           }
          ]
         },
         "layout": {
          "autotypenumbers": "strict",
          "colorway": [
           "#636efa",
           "#EF553B",
           "#00cc96",
           "#ab63fa",
           "#FFA15A",
           "#19d3f3",
           "#FF6692",
           "#B6E880",
           "#FF97FF",
           "#FECB52"
          ],
          "font": {
           "color": "#f2f5fa"
          },
          "hovermode": "closest",
          "hoverlabel": {
           "align": "left"
          },
          "paper_bgcolor": "rgb(17,17,17)",
          "plot_bgcolor": "rgb(17,17,17)",
          "polar": {
           "bgcolor": "rgb(17,17,17)",
           "angularaxis": {
            "gridcolor": "#506784",
            "linecolor": "#506784",
            "ticks": ""
           },
           "radialaxis": {
            "gridcolor": "#506784",
            "linecolor": "#506784",
            "ticks": ""
           }
          },
          "ternary": {
           "bgcolor": "rgb(17,17,17)",
           "aaxis": {
            "gridcolor": "#506784",
            "linecolor": "#506784",
            "ticks": ""
           },
           "baxis": {
            "gridcolor": "#506784",
            "linecolor": "#506784",
            "ticks": ""
           },
           "caxis": {
            "gridcolor": "#506784",
            "linecolor": "#506784",
            "ticks": ""
           }
          },
          "coloraxis": {
           "colorbar": {
            "outlinewidth": 0,
            "ticks": ""
           }
          },
          "colorscale": {
           "sequential": [
            [
             0.0,
             "#0d0887"
            ],
            [
             0.1111111111111111,
             "#46039f"
            ],
            [
             0.2222222222222222,
             "#7201a8"
            ],
            [
             0.3333333333333333,
             "#9c179e"
            ],
            [
             0.4444444444444444,
             "#bd3786"
            ],
            [
             0.5555555555555556,
             "#d8576b"
            ],
            [
             0.6666666666666666,
             "#ed7953"
            ],
            [
             0.7777777777777778,
             "#fb9f3a"
            ],
            [
             0.8888888888888888,
             "#fdca26"
            ],
            [
             1.0,
             "#f0f921"
            ]
           ],
           "sequentialminus": [
            [
             0.0,
             "#0d0887"
            ],
            [
             0.1111111111111111,
             "#46039f"
            ],
            [
             0.2222222222222222,
             "#7201a8"
            ],
            [
             0.3333333333333333,
             "#9c179e"
            ],
            [
             0.4444444444444444,
             "#bd3786"
            ],
            [
             0.5555555555555556,
             "#d8576b"
            ],
            [
             0.6666666666666666,
             "#ed7953"
            ],
            [
             0.7777777777777778,
             "#fb9f3a"
            ],
            [
             0.8888888888888888,
             "#fdca26"
            ],
            [
             1.0,
             "#f0f921"
            ]
           ],
           "diverging": [
            [
             0,
             "#8e0152"
            ],
            [
             0.1,
             "#c51b7d"
            ],
            [
             0.2,
             "#de77ae"
            ],
            [
             0.3,
             "#f1b6da"
            ],
            [
             0.4,
             "#fde0ef"
            ],
            [
             0.5,
             "#f7f7f7"
            ],
            [
             0.6,
             "#e6f5d0"
            ],
            [
             0.7,
             "#b8e186"
            ],
            [
             0.8,
             "#7fbc41"
            ],
            [
             0.9,
             "#4d9221"
            ],
            [
             1,
             "#276419"
            ]
           ]
          },
          "xaxis": {
           "gridcolor": "#283442",
           "linecolor": "#506784",
           "ticks": "",
           "title": {
            "standoff": 15
           },
           "zerolinecolor": "#283442",
           "automargin": true,
           "zerolinewidth": 2
          },
          "yaxis": {
           "gridcolor": "#283442",
           "linecolor": "#506784",
           "ticks": "",
           "title": {
            "standoff": 15
           },
           "zerolinecolor": "#283442",
           "automargin": true,
           "zerolinewidth": 2
          },
          "scene": {
           "xaxis": {
            "backgroundcolor": "rgb(17,17,17)",
            "gridcolor": "#506784",
            "linecolor": "#506784",
            "showbackground": true,
            "ticks": "",
            "zerolinecolor": "#C8D4E3",
            "gridwidth": 2
           },
           "yaxis": {
            "backgroundcolor": "rgb(17,17,17)",
            "gridcolor": "#506784",
            "linecolor": "#506784",
            "showbackground": true,
            "ticks": "",
            "zerolinecolor": "#C8D4E3",
            "gridwidth": 2
           },
           "zaxis": {
            "backgroundcolor": "rgb(17,17,17)",
            "gridcolor": "#506784",
            "linecolor": "#506784",
            "showbackground": true,
            "ticks": "",
            "zerolinecolor": "#C8D4E3",
            "gridwidth": 2
           }
          },
          "shapedefaults": {
           "line": {
            "color": "#f2f5fa"
           }
          },
          "annotationdefaults": {
           "arrowcolor": "#f2f5fa",
           "arrowhead": 0,
           "arrowwidth": 1
          },
          "geo": {
           "bgcolor": "rgb(17,17,17)",
           "landcolor": "rgb(17,17,17)",
           "subunitcolor": "#506784",
           "showland": true,
           "showlakes": true,
           "lakecolor": "rgb(17,17,17)"
          },
          "title": {
           "x": 0.05
          },
          "updatemenudefaults": {
           "bgcolor": "#506784",
           "borderwidth": 0
          },
          "sliderdefaults": {
           "bgcolor": "#C8D4E3",
           "borderwidth": 1,
           "bordercolor": "rgb(17,17,17)",
           "tickwidth": 0
          },
          "mapbox": {
           "style": "dark"
          }
         }
        },
        "xaxis": {
         "anchor": "y",
         "domain": [
          0.0,
          1.0
         ],
         "title": {
          "text": "Time"
         },
         "showgrid": true,
         "gridcolor": "lightgray",
         "color": "white"
        },
        "yaxis": {
         "anchor": "x",
         "domain": [
          0.0,
          1.0
         ],
         "title": {
          "text": "Machine"
         },
         "showgrid": true,
         "gridcolor": "lightgray",
         "color": "white",
         "categoryorder": "category ascending"
        },
        "legend": {
         "title": {
          "text": "Product"
         },
         "tracegroupgap": 0
        },
        "title": {
         "text": "Job Shop Schedule - State change for Cell 0 Staubli",
         "font": {
          "color": "white"
         }
        },
        "barmode": "relative",
        "font": {
         "color": "white"
        },
        "plot_bgcolor": "black",
        "paper_bgcolor": "black"
       },
       "config": {
        "plotlyServerURL": "https://plot.ly"
       }
      },
      "text/html": [
       "<div>                            <div id=\"59f5640d-cde4-415c-a326-02717dd9ebe1\" class=\"plotly-graph-div\" style=\"height:525px; width:100%;\"></div>            <script type=\"text/javascript\">                require([\"plotly\"], function(Plotly) {                    window.PLOTLYENV=window.PLOTLYENV || {};                                    if (document.getElementById(\"59f5640d-cde4-415c-a326-02717dd9ebe1\")) {                    Plotly.newPlot(                        \"59f5640d-cde4-415c-a326-02717dd9ebe1\",                        [{\"alignmentgroup\":\"True\",\"base\":[1044,1054,1064,1112,1057,1377,1818,2082,2242,2339,2347,2357,1112,1072,1377,1145,1818,1569,2242,1970,2338],\"customdata\":[[1054,\"Task 0\",\"1_16_0_0\"],[1064,\"Task 1\",\"1_16_0_1\"],[1072,\"Task 2\",\"1_16_0_2\"],[1145,\"Task 3\",\"1_16_0_3\"],[1377,\"Task 4\",\"1_16_0_4\"],[1569,\"Task 5\",\"1_16_0_5\"],[1970,\"Task 6\",\"1_16_0_6\"],[2242,\"Task 7\",\"1_16_0_7\"],[2338,\"Task 8\",\"1_16_0_8\"],[2347,\"Task 9\",\"1_16_0_9\"],[2357,\"Task 10\",\"1_16_0_10\"],[2367,\"Task 11\",\"1_16_0_11\"],[1145,\"Task 12\",\"warehouse_for_1_16_0_3\"],[1112,\"Task 13\",\"filler_between_1_16_0_2_and_warehouse_for_1_16_0_3\"],[1569,\"Task 14\",\"warehouse_for_1_16_0_5\"],[1377,\"Task 15\",\"filler_between_warehouse_for_1_16_0_3_and_warehouse_for_1_16_0_5\"],[1970,\"Task 16\",\"warehouse_for_1_16_0_6\"],[1818,\"Task 17\",\"filler_between_warehouse_for_1_16_0_5_and_warehouse_for_1_16_0_6\"],[2338,\"Task 18\",\"warehouse_for_1_16_0_8\"],[2242,\"Task 19\",\"filler_between_warehouse_for_1_16_0_6_and_warehouse_for_1_16_0_8\"],[2339,\"Task 20\",\"filler_between_warehouse_for_1_16_0_8_and_1_16_0_9\"]],\"hovertemplate\":\"Product=1_16_0\\u003cbr\\u003eStart=%{base}\\u003cbr\\u003eDuration=%{x}\\u003cbr\\u003eResource=%{y}\\u003cbr\\u003eEnd=%{customdata[0]}\\u003cbr\\u003eTask=%{customdata[1]}\\u003cbr\\u003eName=%{customdata[2]}\\u003cextra\\u003e\\u003c\\u002fextra\\u003e\",\"legendgroup\":\"1_16_0\",\"marker\":{\"color\":\"#636efa\",\"pattern\":{\"shape\":\"\"}},\"name\":\"1_16_0\",\"offsetgroup\":\"1_16_0\",\"orientation\":\"h\",\"showlegend\":true,\"textposition\":\"auto\",\"x\":[10,10,8,33,320,192,152,160,96,8,10,10,33,40,192,232,152,249,96,272,1],\"xaxis\":\"x\",\"y\":[\"Source_Source\",\"Cell_0_Transport\",\"Cell_0_Carrousel\",\"Cell_0_Staubli\",\"Cell_0_Binpick\",\"Cell_0_Staubli\",\"Cell_0_Staubli\",\"Cell_0_Binpick\",\"Cell_0_Staubli\",\"Cell_0_Carrousel\",\"Cell_0_Transport\",\"Sink_Sink\",\"Cell_0_Warehouse_0\",\"Cell_0_Warehouse_0\",\"Cell_0_Warehouse_0\",\"Cell_0_Warehouse_0\",\"Cell_0_Warehouse_0\",\"Cell_0_Warehouse_0\",\"Cell_0_Warehouse_0\",\"Cell_0_Warehouse_0\",\"Cell_0_Warehouse_0\"],\"yaxis\":\"y\",\"type\":\"bar\"},{\"alignmentgroup\":\"True\",\"base\":[1678,1688,1698,1745,1690,2010,2451,2715,2875,2971,2979,2989,1745,1706,2010,1778,2451,2202,2875,2603,2971],\"customdata\":[[1688,\"Task 21\",\"1_16_1_0\"],[1698,\"Task 22\",\"1_16_1_1\"],[1706,\"Task 23\",\"1_16_1_2\"],[1778,\"Task 24\",\"1_16_1_3\"],[2010,\"Task 25\",\"1_16_1_4\"],[2202,\"Task 26\",\"1_16_1_5\"],[2603,\"Task 27\",\"1_16_1_6\"],[2875,\"Task 28\",\"1_16_1_7\"],[2971,\"Task 29\",\"1_16_1_8\"],[2979,\"Task 30\",\"1_16_1_9\"],[2989,\"Task 31\",\"1_16_1_10\"],[2999,\"Task 32\",\"1_16_1_11\"],[1778,\"Task 33\",\"warehouse_for_1_16_1_3\"],[1745,\"Task 34\",\"filler_between_1_16_1_2_and_warehouse_for_1_16_1_3\"],[2202,\"Task 35\",\"warehouse_for_1_16_1_5\"],[2010,\"Task 36\",\"filler_between_warehouse_for_1_16_1_3_and_warehouse_for_1_16_1_5\"],[2603,\"Task 37\",\"warehouse_for_1_16_1_6\"],[2451,\"Task 38\",\"filler_between_warehouse_for_1_16_1_5_and_warehouse_for_1_16_1_6\"],[2971,\"Task 39\",\"warehouse_for_1_16_1_8\"],[2875,\"Task 40\",\"filler_between_warehouse_for_1_16_1_6_and_warehouse_for_1_16_1_8\"],[2971,\"Task 41\",\"filler_between_warehouse_for_1_16_1_8_and_1_16_1_9\"]],\"hovertemplate\":\"Product=1_16_1\\u003cbr\\u003eStart=%{base}\\u003cbr\\u003eDuration=%{x}\\u003cbr\\u003eResource=%{y}\\u003cbr\\u003eEnd=%{customdata[0]}\\u003cbr\\u003eTask=%{customdata[1]}\\u003cbr\\u003eName=%{customdata[2]}\\u003cextra\\u003e\\u003c\\u002fextra\\u003e\",\"legendgroup\":\"1_16_1\",\"marker\":{\"color\":\"#EF553B\",\"pattern\":{\"shape\":\"\"}},\"name\":\"1_16_1\",\"offsetgroup\":\"1_16_1\",\"orientation\":\"h\",\"showlegend\":true,\"textposition\":\"auto\",\"x\":[10,10,8,33,320,192,152,160,96,8,10,10,33,39,192,232,152,249,96,272,0],\"xaxis\":\"x\",\"y\":[\"Source_Source\",\"Cell_0_Transport\",\"Cell_0_Carrousel\",\"Cell_0_Staubli\",\"Cell_0_Binpick\",\"Cell_0_Staubli\",\"Cell_0_Staubli\",\"Cell_0_Binpick\",\"Cell_0_Staubli\",\"Cell_0_Carrousel\",\"Cell_0_Transport\",\"Sink_Sink\",\"Cell_0_Warehouse_1\",\"Cell_0_Warehouse_1\",\"Cell_0_Warehouse_1\",\"Cell_0_Warehouse_1\",\"Cell_0_Warehouse_1\",\"Cell_0_Warehouse_1\",\"Cell_0_Warehouse_1\",\"Cell_0_Warehouse_1\",\"Cell_0_Warehouse_1\"],\"yaxis\":\"y\",\"type\":\"bar\"},{\"alignmentgroup\":\"True\",\"base\":[0,10,20,200,0,320,552,816,976,1072,1080,1090,200,28,320,233,552,512,976,704,1072],\"customdata\":[[10,\"Task 42\",\"1_16_2_0\"],[20,\"Task 43\",\"1_16_2_1\"],[28,\"Task 44\",\"1_16_2_2\"],[233,\"Task 45\",\"1_16_2_3\"],[320,\"Task 46\",\"1_16_2_4\"],[512,\"Task 47\",\"1_16_2_5\"],[704,\"Task 48\",\"1_16_2_6\"],[976,\"Task 49\",\"1_16_2_7\"],[1072,\"Task 50\",\"1_16_2_8\"],[1080,\"Task 51\",\"1_16_2_9\"],[1090,\"Task 52\",\"1_16_2_10\"],[1100,\"Task 53\",\"1_16_2_11\"],[233,\"Task 54\",\"warehouse_for_1_16_2_3\"],[200,\"Task 55\",\"filler_between_1_16_2_2_and_warehouse_for_1_16_2_3\"],[512,\"Task 56\",\"warehouse_for_1_16_2_5\"],[320,\"Task 57\",\"filler_between_warehouse_for_1_16_2_3_and_warehouse_for_1_16_2_5\"],[704,\"Task 58\",\"warehouse_for_1_16_2_6\"],[552,\"Task 59\",\"filler_between_warehouse_for_1_16_2_5_and_warehouse_for_1_16_2_6\"],[1072,\"Task 60\",\"warehouse_for_1_16_2_8\"],[976,\"Task 61\",\"filler_between_warehouse_for_1_16_2_6_and_warehouse_for_1_16_2_8\"],[1072,\"Task 62\",\"filler_between_warehouse_for_1_16_2_8_and_1_16_2_9\"]],\"hovertemplate\":\"Product=1_16_2\\u003cbr\\u003eStart=%{base}\\u003cbr\\u003eDuration=%{x}\\u003cbr\\u003eResource=%{y}\\u003cbr\\u003eEnd=%{customdata[0]}\\u003cbr\\u003eTask=%{customdata[1]}\\u003cbr\\u003eName=%{customdata[2]}\\u003cextra\\u003e\\u003c\\u002fextra\\u003e\",\"legendgroup\":\"1_16_2\",\"marker\":{\"color\":\"#00cc96\",\"pattern\":{\"shape\":\"\"}},\"name\":\"1_16_2\",\"offsetgroup\":\"1_16_2\",\"orientation\":\"h\",\"showlegend\":true,\"textposition\":\"auto\",\"x\":[10,10,8,33,320,192,152,160,96,8,10,10,33,172,192,87,152,40,96,272,0],\"xaxis\":\"x\",\"y\":[\"Source_Source\",\"Cell_0_Transport\",\"Cell_0_Carrousel\",\"Cell_0_Staubli\",\"Cell_0_Binpick\",\"Cell_0_Staubli\",\"Cell_0_Staubli\",\"Cell_0_Binpick\",\"Cell_0_Staubli\",\"Cell_0_Carrousel\",\"Cell_0_Transport\",\"Sink_Sink\",\"Cell_0_Warehouse_0\",\"Cell_0_Warehouse_0\",\"Cell_0_Warehouse_0\",\"Cell_0_Warehouse_0\",\"Cell_0_Warehouse_0\",\"Cell_0_Warehouse_0\",\"Cell_0_Warehouse_0\",\"Cell_0_Warehouse_0\",\"Cell_0_Warehouse_0\"],\"yaxis\":\"y\",\"type\":\"bar\"},{\"alignmentgroup\":\"True\",\"base\":[2350,2360,2370,2378,2323,2643,3011,3043,3203,3299,3307,3317,2378,2378,2643,2411,3011,2835,3203,3163,3299],\"customdata\":[[2360,\"Task 63\",\"1_16_3_0\"],[2370,\"Task 64\",\"1_16_3_1\"],[2378,\"Task 65\",\"1_16_3_2\"],[2411,\"Task 66\",\"1_16_3_3\"],[2643,\"Task 67\",\"1_16_3_4\"],[2835,\"Task 68\",\"1_16_3_5\"],[3163,\"Task 69\",\"1_16_3_6\"],[3203,\"Task 70\",\"1_16_3_7\"],[3299,\"Task 71\",\"1_16_3_8\"],[3307,\"Task 72\",\"1_16_3_9\"],[3317,\"Task 73\",\"1_16_3_10\"],[3327,\"Task 74\",\"1_16_3_11\"],[2411,\"Task 75\",\"warehouse_for_1_16_3_3\"],[2378,\"Task 76\",\"filler_between_1_16_3_2_and_warehouse_for_1_16_3_3\"],[2835,\"Task 77\",\"warehouse_for_1_16_3_5\"],[2643,\"Task 78\",\"filler_between_warehouse_for_1_16_3_3_and_warehouse_for_1_16_3_5\"],[3163,\"Task 79\",\"warehouse_for_1_16_3_6\"],[3011,\"Task 80\",\"filler_between_warehouse_for_1_16_3_5_and_warehouse_for_1_16_3_6\"],[3299,\"Task 81\",\"warehouse_for_1_16_3_8\"],[3203,\"Task 82\",\"filler_between_warehouse_for_1_16_3_6_and_warehouse_for_1_16_3_8\"],[3299,\"Task 83\",\"filler_between_warehouse_for_1_16_3_8_and_1_16_3_9\"]],\"hovertemplate\":\"Product=1_16_3\\u003cbr\\u003eStart=%{base}\\u003cbr\\u003eDuration=%{x}\\u003cbr\\u003eResource=%{y}\\u003cbr\\u003eEnd=%{customdata[0]}\\u003cbr\\u003eTask=%{customdata[1]}\\u003cbr\\u003eName=%{customdata[2]}\\u003cextra\\u003e\\u003c\\u002fextra\\u003e\",\"legendgroup\":\"1_16_3\",\"marker\":{\"color\":\"#ab63fa\",\"pattern\":{\"shape\":\"\"}},\"name\":\"1_16_3\",\"offsetgroup\":\"1_16_3\",\"orientation\":\"h\",\"showlegend\":true,\"textposition\":\"auto\",\"x\":[10,10,8,33,320,192,152,160,96,8,10,10,33,0,192,232,152,176,96,40,0],\"xaxis\":\"x\",\"y\":[\"Source_Source\",\"Cell_0_Transport\",\"Cell_0_Carrousel\",\"Cell_0_Staubli\",\"Cell_0_Binpick\",\"Cell_0_Staubli\",\"Cell_0_Staubli\",\"Cell_0_Binpick\",\"Cell_0_Staubli\",\"Cell_0_Carrousel\",\"Cell_0_Transport\",\"Sink_Sink\",\"Cell_0_Warehouse_0\",\"Cell_0_Warehouse_0\",\"Cell_0_Warehouse_0\",\"Cell_0_Warehouse_0\",\"Cell_0_Warehouse_0\",\"Cell_0_Warehouse_0\",\"Cell_0_Warehouse_0\",\"Cell_0_Warehouse_0\",\"Cell_0_Warehouse_0\"],\"yaxis\":\"y\",\"type\":\"bar\"},{\"alignmentgroup\":\"True\",\"base\":[10,20,30,39,424,744,1185,1449,1609,1706,1714,1724,39,38,744,72,1185,936,1609,1337,1705],\"customdata\":[[20,\"Task 84\",\"1_16_4_0\"],[30,\"Task 85\",\"1_16_4_1\"],[38,\"Task 86\",\"1_16_4_2\"],[72,\"Task 87\",\"1_16_4_3\"],[744,\"Task 88\",\"1_16_4_4\"],[936,\"Task 89\",\"1_16_4_5\"],[1337,\"Task 90\",\"1_16_4_6\"],[1609,\"Task 91\",\"1_16_4_7\"],[1705,\"Task 92\",\"1_16_4_8\"],[1714,\"Task 93\",\"1_16_4_9\"],[1724,\"Task 94\",\"1_16_4_10\"],[1734,\"Task 95\",\"1_16_4_11\"],[72,\"Task 96\",\"warehouse_for_1_16_4_3\"],[39,\"Task 97\",\"filler_between_1_16_4_2_and_warehouse_for_1_16_4_3\"],[936,\"Task 98\",\"warehouse_for_1_16_4_5\"],[744,\"Task 99\",\"filler_between_warehouse_for_1_16_4_3_and_warehouse_for_1_16_4_5\"],[1337,\"Task 100\",\"warehouse_for_1_16_4_6\"],[1185,\"Task 101\",\"filler_between_warehouse_for_1_16_4_5_and_warehouse_for_1_16_4_6\"],[1705,\"Task 102\",\"warehouse_for_1_16_4_8\"],[1609,\"Task 103\",\"filler_between_warehouse_for_1_16_4_6_and_warehouse_for_1_16_4_8\"],[1706,\"Task 104\",\"filler_between_warehouse_for_1_16_4_8_and_1_16_4_9\"]],\"hovertemplate\":\"Product=1_16_4\\u003cbr\\u003eStart=%{base}\\u003cbr\\u003eDuration=%{x}\\u003cbr\\u003eResource=%{y}\\u003cbr\\u003eEnd=%{customdata[0]}\\u003cbr\\u003eTask=%{customdata[1]}\\u003cbr\\u003eName=%{customdata[2]}\\u003cextra\\u003e\\u003c\\u002fextra\\u003e\",\"legendgroup\":\"1_16_4\",\"marker\":{\"color\":\"#FFA15A\",\"pattern\":{\"shape\":\"\"}},\"name\":\"1_16_4\",\"offsetgroup\":\"1_16_4\",\"orientation\":\"h\",\"showlegend\":true,\"textposition\":\"auto\",\"x\":[10,10,8,33,320,192,152,160,96,8,10,10,33,1,192,672,152,249,96,272,1],\"xaxis\":\"x\",\"y\":[\"Source_Source\",\"Cell_0_Transport\",\"Cell_0_Carrousel\",\"Cell_0_Staubli\",\"Cell_0_Binpick\",\"Cell_0_Staubli\",\"Cell_0_Staubli\",\"Cell_0_Binpick\",\"Cell_0_Staubli\",\"Cell_0_Carrousel\",\"Cell_0_Transport\",\"Sink_Sink\",\"Cell_0_Warehouse_1\",\"Cell_0_Warehouse_1\",\"Cell_0_Warehouse_1\",\"Cell_0_Warehouse_1\",\"Cell_0_Warehouse_1\",\"Cell_0_Warehouse_1\",\"Cell_0_Warehouse_1\",\"Cell_0_Warehouse_1\",\"Cell_0_Warehouse_1\"],\"yaxis\":\"y\",\"type\":\"bar\"}],                        {\"template\":{\"data\":{\"histogram2dcontour\":[{\"type\":\"histogram2dcontour\",\"colorbar\":{\"outlinewidth\":0,\"ticks\":\"\"},\"colorscale\":[[0.0,\"#0d0887\"],[0.1111111111111111,\"#46039f\"],[0.2222222222222222,\"#7201a8\"],[0.3333333333333333,\"#9c179e\"],[0.4444444444444444,\"#bd3786\"],[0.5555555555555556,\"#d8576b\"],[0.6666666666666666,\"#ed7953\"],[0.7777777777777778,\"#fb9f3a\"],[0.8888888888888888,\"#fdca26\"],[1.0,\"#f0f921\"]]}],\"choropleth\":[{\"type\":\"choropleth\",\"colorbar\":{\"outlinewidth\":0,\"ticks\":\"\"}}],\"histogram2d\":[{\"type\":\"histogram2d\",\"colorbar\":{\"outlinewidth\":0,\"ticks\":\"\"},\"colorscale\":[[0.0,\"#0d0887\"],[0.1111111111111111,\"#46039f\"],[0.2222222222222222,\"#7201a8\"],[0.3333333333333333,\"#9c179e\"],[0.4444444444444444,\"#bd3786\"],[0.5555555555555556,\"#d8576b\"],[0.6666666666666666,\"#ed7953\"],[0.7777777777777778,\"#fb9f3a\"],[0.8888888888888888,\"#fdca26\"],[1.0,\"#f0f921\"]]}],\"heatmap\":[{\"type\":\"heatmap\",\"colorbar\":{\"outlinewidth\":0,\"ticks\":\"\"},\"colorscale\":[[0.0,\"#0d0887\"],[0.1111111111111111,\"#46039f\"],[0.2222222222222222,\"#7201a8\"],[0.3333333333333333,\"#9c179e\"],[0.4444444444444444,\"#bd3786\"],[0.5555555555555556,\"#d8576b\"],[0.6666666666666666,\"#ed7953\"],[0.7777777777777778,\"#fb9f3a\"],[0.8888888888888888,\"#fdca26\"],[1.0,\"#f0f921\"]]}],\"heatmapgl\":[{\"type\":\"heatmapgl\",\"colorbar\":{\"outlinewidth\":0,\"ticks\":\"\"},\"colorscale\":[[0.0,\"#0d0887\"],[0.1111111111111111,\"#46039f\"],[0.2222222222222222,\"#7201a8\"],[0.3333333333333333,\"#9c179e\"],[0.4444444444444444,\"#bd3786\"],[0.5555555555555556,\"#d8576b\"],[0.6666666666666666,\"#ed7953\"],[0.7777777777777778,\"#fb9f3a\"],[0.8888888888888888,\"#fdca26\"],[1.0,\"#f0f921\"]]}],\"contourcarpet\":[{\"type\":\"contourcarpet\",\"colorbar\":{\"outlinewidth\":0,\"ticks\":\"\"}}],\"contour\":[{\"type\":\"contour\",\"colorbar\":{\"outlinewidth\":0,\"ticks\":\"\"},\"colorscale\":[[0.0,\"#0d0887\"],[0.1111111111111111,\"#46039f\"],[0.2222222222222222,\"#7201a8\"],[0.3333333333333333,\"#9c179e\"],[0.4444444444444444,\"#bd3786\"],[0.5555555555555556,\"#d8576b\"],[0.6666666666666666,\"#ed7953\"],[0.7777777777777778,\"#fb9f3a\"],[0.8888888888888888,\"#fdca26\"],[1.0,\"#f0f921\"]]}],\"surface\":[{\"type\":\"surface\",\"colorbar\":{\"outlinewidth\":0,\"ticks\":\"\"},\"colorscale\":[[0.0,\"#0d0887\"],[0.1111111111111111,\"#46039f\"],[0.2222222222222222,\"#7201a8\"],[0.3333333333333333,\"#9c179e\"],[0.4444444444444444,\"#bd3786\"],[0.5555555555555556,\"#d8576b\"],[0.6666666666666666,\"#ed7953\"],[0.7777777777777778,\"#fb9f3a\"],[0.8888888888888888,\"#fdca26\"],[1.0,\"#f0f921\"]]}],\"mesh3d\":[{\"type\":\"mesh3d\",\"colorbar\":{\"outlinewidth\":0,\"ticks\":\"\"}}],\"scatter\":[{\"marker\":{\"line\":{\"color\":\"#283442\"}},\"type\":\"scatter\"}],\"parcoords\":[{\"type\":\"parcoords\",\"line\":{\"colorbar\":{\"outlinewidth\":0,\"ticks\":\"\"}}}],\"scatterpolargl\":[{\"type\":\"scatterpolargl\",\"marker\":{\"colorbar\":{\"outlinewidth\":0,\"ticks\":\"\"}}}],\"bar\":[{\"error_x\":{\"color\":\"#f2f5fa\"},\"error_y\":{\"color\":\"#f2f5fa\"},\"marker\":{\"line\":{\"color\":\"rgb(17,17,17)\",\"width\":0.5},\"pattern\":{\"fillmode\":\"overlay\",\"size\":10,\"solidity\":0.2}},\"type\":\"bar\"}],\"scattergeo\":[{\"type\":\"scattergeo\",\"marker\":{\"colorbar\":{\"outlinewidth\":0,\"ticks\":\"\"}}}],\"scatterpolar\":[{\"type\":\"scatterpolar\",\"marker\":{\"colorbar\":{\"outlinewidth\":0,\"ticks\":\"\"}}}],\"histogram\":[{\"marker\":{\"pattern\":{\"fillmode\":\"overlay\",\"size\":10,\"solidity\":0.2}},\"type\":\"histogram\"}],\"scattergl\":[{\"marker\":{\"line\":{\"color\":\"#283442\"}},\"type\":\"scattergl\"}],\"scatter3d\":[{\"type\":\"scatter3d\",\"line\":{\"colorbar\":{\"outlinewidth\":0,\"ticks\":\"\"}},\"marker\":{\"colorbar\":{\"outlinewidth\":0,\"ticks\":\"\"}}}],\"scattermapbox\":[{\"type\":\"scattermapbox\",\"marker\":{\"colorbar\":{\"outlinewidth\":0,\"ticks\":\"\"}}}],\"scatterternary\":[{\"type\":\"scatterternary\",\"marker\":{\"colorbar\":{\"outlinewidth\":0,\"ticks\":\"\"}}}],\"scattercarpet\":[{\"type\":\"scattercarpet\",\"marker\":{\"colorbar\":{\"outlinewidth\":0,\"ticks\":\"\"}}}],\"carpet\":[{\"aaxis\":{\"endlinecolor\":\"#A2B1C6\",\"gridcolor\":\"#506784\",\"linecolor\":\"#506784\",\"minorgridcolor\":\"#506784\",\"startlinecolor\":\"#A2B1C6\"},\"baxis\":{\"endlinecolor\":\"#A2B1C6\",\"gridcolor\":\"#506784\",\"linecolor\":\"#506784\",\"minorgridcolor\":\"#506784\",\"startlinecolor\":\"#A2B1C6\"},\"type\":\"carpet\"}],\"table\":[{\"cells\":{\"fill\":{\"color\":\"#506784\"},\"line\":{\"color\":\"rgb(17,17,17)\"}},\"header\":{\"fill\":{\"color\":\"#2a3f5f\"},\"line\":{\"color\":\"rgb(17,17,17)\"}},\"type\":\"table\"}],\"barpolar\":[{\"marker\":{\"line\":{\"color\":\"rgb(17,17,17)\",\"width\":0.5},\"pattern\":{\"fillmode\":\"overlay\",\"size\":10,\"solidity\":0.2}},\"type\":\"barpolar\"}],\"pie\":[{\"automargin\":true,\"type\":\"pie\"}]},\"layout\":{\"autotypenumbers\":\"strict\",\"colorway\":[\"#636efa\",\"#EF553B\",\"#00cc96\",\"#ab63fa\",\"#FFA15A\",\"#19d3f3\",\"#FF6692\",\"#B6E880\",\"#FF97FF\",\"#FECB52\"],\"font\":{\"color\":\"#f2f5fa\"},\"hovermode\":\"closest\",\"hoverlabel\":{\"align\":\"left\"},\"paper_bgcolor\":\"rgb(17,17,17)\",\"plot_bgcolor\":\"rgb(17,17,17)\",\"polar\":{\"bgcolor\":\"rgb(17,17,17)\",\"angularaxis\":{\"gridcolor\":\"#506784\",\"linecolor\":\"#506784\",\"ticks\":\"\"},\"radialaxis\":{\"gridcolor\":\"#506784\",\"linecolor\":\"#506784\",\"ticks\":\"\"}},\"ternary\":{\"bgcolor\":\"rgb(17,17,17)\",\"aaxis\":{\"gridcolor\":\"#506784\",\"linecolor\":\"#506784\",\"ticks\":\"\"},\"baxis\":{\"gridcolor\":\"#506784\",\"linecolor\":\"#506784\",\"ticks\":\"\"},\"caxis\":{\"gridcolor\":\"#506784\",\"linecolor\":\"#506784\",\"ticks\":\"\"}},\"coloraxis\":{\"colorbar\":{\"outlinewidth\":0,\"ticks\":\"\"}},\"colorscale\":{\"sequential\":[[0.0,\"#0d0887\"],[0.1111111111111111,\"#46039f\"],[0.2222222222222222,\"#7201a8\"],[0.3333333333333333,\"#9c179e\"],[0.4444444444444444,\"#bd3786\"],[0.5555555555555556,\"#d8576b\"],[0.6666666666666666,\"#ed7953\"],[0.7777777777777778,\"#fb9f3a\"],[0.8888888888888888,\"#fdca26\"],[1.0,\"#f0f921\"]],\"sequentialminus\":[[0.0,\"#0d0887\"],[0.1111111111111111,\"#46039f\"],[0.2222222222222222,\"#7201a8\"],[0.3333333333333333,\"#9c179e\"],[0.4444444444444444,\"#bd3786\"],[0.5555555555555556,\"#d8576b\"],[0.6666666666666666,\"#ed7953\"],[0.7777777777777778,\"#fb9f3a\"],[0.8888888888888888,\"#fdca26\"],[1.0,\"#f0f921\"]],\"diverging\":[[0,\"#8e0152\"],[0.1,\"#c51b7d\"],[0.2,\"#de77ae\"],[0.3,\"#f1b6da\"],[0.4,\"#fde0ef\"],[0.5,\"#f7f7f7\"],[0.6,\"#e6f5d0\"],[0.7,\"#b8e186\"],[0.8,\"#7fbc41\"],[0.9,\"#4d9221\"],[1,\"#276419\"]]},\"xaxis\":{\"gridcolor\":\"#283442\",\"linecolor\":\"#506784\",\"ticks\":\"\",\"title\":{\"standoff\":15},\"zerolinecolor\":\"#283442\",\"automargin\":true,\"zerolinewidth\":2},\"yaxis\":{\"gridcolor\":\"#283442\",\"linecolor\":\"#506784\",\"ticks\":\"\",\"title\":{\"standoff\":15},\"zerolinecolor\":\"#283442\",\"automargin\":true,\"zerolinewidth\":2},\"scene\":{\"xaxis\":{\"backgroundcolor\":\"rgb(17,17,17)\",\"gridcolor\":\"#506784\",\"linecolor\":\"#506784\",\"showbackground\":true,\"ticks\":\"\",\"zerolinecolor\":\"#C8D4E3\",\"gridwidth\":2},\"yaxis\":{\"backgroundcolor\":\"rgb(17,17,17)\",\"gridcolor\":\"#506784\",\"linecolor\":\"#506784\",\"showbackground\":true,\"ticks\":\"\",\"zerolinecolor\":\"#C8D4E3\",\"gridwidth\":2},\"zaxis\":{\"backgroundcolor\":\"rgb(17,17,17)\",\"gridcolor\":\"#506784\",\"linecolor\":\"#506784\",\"showbackground\":true,\"ticks\":\"\",\"zerolinecolor\":\"#C8D4E3\",\"gridwidth\":2}},\"shapedefaults\":{\"line\":{\"color\":\"#f2f5fa\"}},\"annotationdefaults\":{\"arrowcolor\":\"#f2f5fa\",\"arrowhead\":0,\"arrowwidth\":1},\"geo\":{\"bgcolor\":\"rgb(17,17,17)\",\"landcolor\":\"rgb(17,17,17)\",\"subunitcolor\":\"#506784\",\"showland\":true,\"showlakes\":true,\"lakecolor\":\"rgb(17,17,17)\"},\"title\":{\"x\":0.05},\"updatemenudefaults\":{\"bgcolor\":\"#506784\",\"borderwidth\":0},\"sliderdefaults\":{\"bgcolor\":\"#C8D4E3\",\"borderwidth\":1,\"bordercolor\":\"rgb(17,17,17)\",\"tickwidth\":0},\"mapbox\":{\"style\":\"dark\"}}},\"xaxis\":{\"anchor\":\"y\",\"domain\":[0.0,1.0],\"title\":{\"text\":\"Time\"},\"showgrid\":true,\"gridcolor\":\"lightgray\",\"color\":\"white\"},\"yaxis\":{\"anchor\":\"x\",\"domain\":[0.0,1.0],\"title\":{\"text\":\"Machine\"},\"showgrid\":true,\"gridcolor\":\"lightgray\",\"color\":\"white\",\"categoryorder\":\"category ascending\"},\"legend\":{\"title\":{\"text\":\"Product\"},\"tracegroupgap\":0},\"title\":{\"text\":\"Job Shop Schedule - State change for Cell 0 Staubli\",\"font\":{\"color\":\"white\"}},\"barmode\":\"relative\",\"font\":{\"color\":\"white\"},\"plot_bgcolor\":\"black\",\"paper_bgcolor\":\"black\"},                        {\"responsive\": true}                    ).then(function(){\n",
       "                            \n",
       "var gd = document.getElementById('59f5640d-cde4-415c-a326-02717dd9ebe1');\n",
       "var x = new MutationObserver(function (mutations, observer) {{\n",
       "        var display = window.getComputedStyle(gd).display;\n",
       "        if (!display || display === 'none') {{\n",
       "            console.log([gd, 'removed!']);\n",
       "            Plotly.purge(gd);\n",
       "            observer.disconnect();\n",
       "        }}\n",
       "}});\n",
       "\n",
       "// Listen for the removal of the full notebook cells\n",
       "var notebookContainer = gd.closest('#notebook-container');\n",
       "if (notebookContainer) {{\n",
       "    x.observe(notebookContainer, {childList: true});\n",
       "}}\n",
       "\n",
       "// Listen for the clearing of the current output cell\n",
       "var outputEl = gd.closest('.output');\n",
       "if (outputEl) {{\n",
       "    x.observe(outputEl, {childList: true});\n",
       "}}\n",
       "\n",
       "                        })                };                });            </script>        </div>"
      ]
     },
     "metadata": {},
     "output_type": "display_data"
    }
   ],
   "execution_count": 14
  },
  {
   "metadata": {},
   "cell_type": "code",
   "outputs": [],
   "execution_count": null,
   "source": "",
   "id": "1906e4bf1850574d"
  }
 ],
 "metadata": {
  "kernelspec": {
   "display_name": "Python 3",
   "language": "python",
   "name": "python3"
  },
  "language_info": {
   "codemirror_mode": {
    "name": "ipython",
    "version": 2
   },
   "file_extension": ".py",
   "mimetype": "text/x-python",
   "name": "python",
   "nbconvert_exporter": "python",
   "pygments_lexer": "ipython2",
   "version": "2.7.6"
  }
 },
 "nbformat": 4,
 "nbformat_minor": 5
}
