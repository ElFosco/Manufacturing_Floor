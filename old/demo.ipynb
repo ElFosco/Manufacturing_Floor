{
 "cells": [
  {
   "metadata": {},
   "cell_type": "markdown",
   "source": [
    "\n",
    "The objective is to assemble products starting from unassembled ones, by solving a scheduling problem based on a configurable assembly line. Unassembled products arrive from a **Source** and must be delivered to a **Sink** once assembly is complete. In our setup, we assume the assembly line is already configured—each hexagonal cell is pre-defined with a set of available operations.\n",
    "\n",
    "### The operations that a cell can perform are as follows:\n",
    "\n",
    "- **Transport**: Transfers products from the Source (entry point) to the cell's carousel, or from the carousel to the Sink (exit point).\n",
    "- **Carousel**: Moves the product from the cell’s transport system to its internal warehouse.\n",
    "- **Warehouse**: Acts as a storage area within the hexagon where assembly operations are carried out.\n",
    "- **Staubli**: A robotic arm responsible for assembly tasks such as attaching a motor cover or vacuum gripper.\n",
    "- **Binpick**: Picks required components from a bin, which are essential for specific Staubli operations.\n",
    "\n",
    "### Summary\n",
    "\n",
    "A product arrives from the Source and is initially handled by the cell’s transport system. The carousel transfers it to the warehouse, where the Staubli robot carries out the necessary assembly tasks. During this process, Binpick retrieves essential components needed for Staubli’s operations. Once assembly is complete, the carousel moves the item back to the transport system, which then delivers it to the Sink.\n",
    "\n",
    "### Input\n",
    "\n",
    "The data is constructed to simulate a shift of operations for building five products. We extended the original formulation by introducing a dedicated cell for each product to be delivered. Additionally, we reduced the number of warehouses to only one, as opposed to the original formulation, which had two warehouses associated with each cell. While an additional warehouse is not currently required, the original approach can be reverted if needed.\n",
    "\n",
    "Specifically, for each item, four different Staubli operations are required:\n",
    "- Add motor cover\n",
    "- Screw M5\n",
    "- Add feeder\n",
    "- Screw M3\n",
    "\n",
    "Some of these operations require picking certain items from the bin:\n",
    "- Pick M5\n",
    "- Pick M3\n",
    "\n",
    "Other constraints include:\n",
    "- The succession of specific actions, such as using the carousel immediately after the transport system.\n",
    "- Time dependecy bewteen actions, such as using the binpick action must happen before the Staubli action associated with.\n",
    "- Ensuring that the resources within each cell cannot be used simultaneously.\n",
    "\n"
   ],
   "id": "581e4e06ff4fe56a"
  },
  {
   "metadata": {
    "collapsed": true,
    "ExecuteTime": {
     "end_time": "2025-04-08T12:06:04.916950Z",
     "start_time": "2025-04-08T12:06:04.914410Z"
    }
   },
   "cell_type": "code",
   "source": [
    "import json\n",
    "from old.model_mf import MFModelILP\n",
    "import time\n",
    "import plotly.express as px\n",
    "import pandas as pd\n"
   ],
   "id": "initial_id",
   "outputs": [],
   "execution_count": 38
  },
  {
   "metadata": {},
   "cell_type": "code",
   "outputs": [],
   "execution_count": null,
   "source": [
    "with open(\"../data/model.json\") as json_file:\n",
    "    data = json.load(json_file)\n",
    "\n"
   ],
   "id": "690691a7c4975a4e"
  },
  {
   "metadata": {},
   "cell_type": "code",
   "outputs": [],
   "execution_count": null,
   "source": [
    "list_jobs = []\n",
    "list_constr = []\n",
    "for name_job in data['nodes']:\n",
    "    res = data['nodes'][name_job]['properties']['Resource']['value']\n",
    "    product_instance = data['nodes'][name_job]['properties']['Product_instance']['value']\n",
    "    duration = data['nodes'][name_job]['properties'][f'{name_job}_duration']['value']\n",
    "    list_jobs.append([name_job,res,product_instance,duration])\n",
    "\n",
    "for name_constr in data['edges']:\n",
    "    type_constr = data['edges'][name_constr]['__type__']\n",
    "    list_constr.append([name_constr,type_constr])"
   ],
   "id": "66bd7f16931b373d"
  },
  {
   "metadata": {
    "ExecuteTime": {
     "end_time": "2025-04-08T12:06:06.923116Z",
     "start_time": "2025-04-08T12:06:06.914938Z"
    }
   },
   "cell_type": "code",
   "source": [
    "df_jobs = pd.DataFrame(list_jobs, columns=['job name', 'resource', 'product','duration'])\n",
    "df_jobs"
   ],
   "id": "68b2f3827d8efc45",
   "outputs": [
    {
     "data": {
      "text/plain": [
       "                                              job name            resource  \\\n",
       "0                                             1_16_0_0       Source_Source   \n",
       "1                                             1_16_0_1    Cell_0_Transport   \n",
       "2                                             1_16_0_2    Cell_0_Carrousel   \n",
       "3                                             1_16_0_3      Cell_0_Staubli   \n",
       "4                                             1_16_0_4      Cell_0_Binpick   \n",
       "..                                                 ...                 ...   \n",
       "100                             warehouse_for_1_16_4_6  Cell_0_Warehouse_1   \n",
       "101  filler_between_warehouse_for_1_16_4_5_and_ware...  Cell_0_Warehouse_1   \n",
       "102                             warehouse_for_1_16_4_8  Cell_0_Warehouse_1   \n",
       "103  filler_between_warehouse_for_1_16_4_6_and_ware...  Cell_0_Warehouse_1   \n",
       "104  filler_between_warehouse_for_1_16_4_8_and_1_16...  Cell_0_Warehouse_1   \n",
       "\n",
       "    product  duration  \n",
       "0    1_16_0      10.0  \n",
       "1    1_16_0      10.0  \n",
       "2    1_16_0       8.0  \n",
       "3    1_16_0      33.0  \n",
       "4    1_16_0     320.0  \n",
       "..      ...       ...  \n",
       "100  1_16_4       NaN  \n",
       "101  1_16_4       NaN  \n",
       "102  1_16_4       NaN  \n",
       "103  1_16_4       NaN  \n",
       "104  1_16_4       NaN  \n",
       "\n",
       "[105 rows x 4 columns]"
      ],
      "text/html": [
       "<div>\n",
       "<style scoped>\n",
       "    .dataframe tbody tr th:only-of-type {\n",
       "        vertical-align: middle;\n",
       "    }\n",
       "\n",
       "    .dataframe tbody tr th {\n",
       "        vertical-align: top;\n",
       "    }\n",
       "\n",
       "    .dataframe thead th {\n",
       "        text-align: right;\n",
       "    }\n",
       "</style>\n",
       "<table border=\"1\" class=\"dataframe\">\n",
       "  <thead>\n",
       "    <tr style=\"text-align: right;\">\n",
       "      <th></th>\n",
       "      <th>job name</th>\n",
       "      <th>resource</th>\n",
       "      <th>product</th>\n",
       "      <th>duration</th>\n",
       "    </tr>\n",
       "  </thead>\n",
       "  <tbody>\n",
       "    <tr>\n",
       "      <th>0</th>\n",
       "      <td>1_16_0_0</td>\n",
       "      <td>Source_Source</td>\n",
       "      <td>1_16_0</td>\n",
       "      <td>10.0</td>\n",
       "    </tr>\n",
       "    <tr>\n",
       "      <th>1</th>\n",
       "      <td>1_16_0_1</td>\n",
       "      <td>Cell_0_Transport</td>\n",
       "      <td>1_16_0</td>\n",
       "      <td>10.0</td>\n",
       "    </tr>\n",
       "    <tr>\n",
       "      <th>2</th>\n",
       "      <td>1_16_0_2</td>\n",
       "      <td>Cell_0_Carrousel</td>\n",
       "      <td>1_16_0</td>\n",
       "      <td>8.0</td>\n",
       "    </tr>\n",
       "    <tr>\n",
       "      <th>3</th>\n",
       "      <td>1_16_0_3</td>\n",
       "      <td>Cell_0_Staubli</td>\n",
       "      <td>1_16_0</td>\n",
       "      <td>33.0</td>\n",
       "    </tr>\n",
       "    <tr>\n",
       "      <th>4</th>\n",
       "      <td>1_16_0_4</td>\n",
       "      <td>Cell_0_Binpick</td>\n",
       "      <td>1_16_0</td>\n",
       "      <td>320.0</td>\n",
       "    </tr>\n",
       "    <tr>\n",
       "      <th>...</th>\n",
       "      <td>...</td>\n",
       "      <td>...</td>\n",
       "      <td>...</td>\n",
       "      <td>...</td>\n",
       "    </tr>\n",
       "    <tr>\n",
       "      <th>100</th>\n",
       "      <td>warehouse_for_1_16_4_6</td>\n",
       "      <td>Cell_0_Warehouse_1</td>\n",
       "      <td>1_16_4</td>\n",
       "      <td>NaN</td>\n",
       "    </tr>\n",
       "    <tr>\n",
       "      <th>101</th>\n",
       "      <td>filler_between_warehouse_for_1_16_4_5_and_ware...</td>\n",
       "      <td>Cell_0_Warehouse_1</td>\n",
       "      <td>1_16_4</td>\n",
       "      <td>NaN</td>\n",
       "    </tr>\n",
       "    <tr>\n",
       "      <th>102</th>\n",
       "      <td>warehouse_for_1_16_4_8</td>\n",
       "      <td>Cell_0_Warehouse_1</td>\n",
       "      <td>1_16_4</td>\n",
       "      <td>NaN</td>\n",
       "    </tr>\n",
       "    <tr>\n",
       "      <th>103</th>\n",
       "      <td>filler_between_warehouse_for_1_16_4_6_and_ware...</td>\n",
       "      <td>Cell_0_Warehouse_1</td>\n",
       "      <td>1_16_4</td>\n",
       "      <td>NaN</td>\n",
       "    </tr>\n",
       "    <tr>\n",
       "      <th>104</th>\n",
       "      <td>filler_between_warehouse_for_1_16_4_8_and_1_16...</td>\n",
       "      <td>Cell_0_Warehouse_1</td>\n",
       "      <td>1_16_4</td>\n",
       "      <td>NaN</td>\n",
       "    </tr>\n",
       "  </tbody>\n",
       "</table>\n",
       "<p>105 rows × 4 columns</p>\n",
       "</div>"
      ]
     },
     "execution_count": 41,
     "metadata": {},
     "output_type": "execute_result"
    }
   ],
   "execution_count": 41
  },
  {
   "metadata": {
    "ExecuteTime": {
     "end_time": "2025-04-08T12:06:08.604621Z",
     "start_time": "2025-04-08T12:06:08.595795Z"
    }
   },
   "cell_type": "code",
   "source": [
    "df_edge = pd.DataFrame(list_constr, columns=['constraint name', 'constraint type', ])\n",
    "df_edge"
   ],
   "id": "9f5cc5c44a406664",
   "outputs": [
    {
     "data": {
      "text/plain": [
       "                                       constraint name constraint type\n",
       "0                    1_16_0_0_is_right_before_1_16_0_1   IsRightBefore\n",
       "1                    1_16_0_1_is_right_before_1_16_0_2   IsRightBefore\n",
       "2    filler_between_1_16_0_2_and_warehouse_for_1_16...    IsRightAfter\n",
       "3    filler_between_1_16_0_2_and_warehouse_for_1_16...   IsRightBefore\n",
       "4            warehouse_for_1_16_0_3_is_synced_1_16_0_3        IsSynced\n",
       "..                                                 ...             ...\n",
       "944  filler_between_warehouse_for_1_16_4_5_and_ware...    HasNoOverlap\n",
       "945  filler_between_warehouse_for_1_16_4_5_and_ware...    HasNoOverlap\n",
       "946  warehouse_for_1_16_4_8_has_no_overlap_filler_b...    HasNoOverlap\n",
       "947  warehouse_for_1_16_4_8_has_no_overlap_filler_b...    HasNoOverlap\n",
       "948  filler_between_warehouse_for_1_16_4_6_and_ware...    HasNoOverlap\n",
       "\n",
       "[949 rows x 2 columns]"
      ],
      "text/html": [
       "<div>\n",
       "<style scoped>\n",
       "    .dataframe tbody tr th:only-of-type {\n",
       "        vertical-align: middle;\n",
       "    }\n",
       "\n",
       "    .dataframe tbody tr th {\n",
       "        vertical-align: top;\n",
       "    }\n",
       "\n",
       "    .dataframe thead th {\n",
       "        text-align: right;\n",
       "    }\n",
       "</style>\n",
       "<table border=\"1\" class=\"dataframe\">\n",
       "  <thead>\n",
       "    <tr style=\"text-align: right;\">\n",
       "      <th></th>\n",
       "      <th>constraint name</th>\n",
       "      <th>constraint type</th>\n",
       "    </tr>\n",
       "  </thead>\n",
       "  <tbody>\n",
       "    <tr>\n",
       "      <th>0</th>\n",
       "      <td>1_16_0_0_is_right_before_1_16_0_1</td>\n",
       "      <td>IsRightBefore</td>\n",
       "    </tr>\n",
       "    <tr>\n",
       "      <th>1</th>\n",
       "      <td>1_16_0_1_is_right_before_1_16_0_2</td>\n",
       "      <td>IsRightBefore</td>\n",
       "    </tr>\n",
       "    <tr>\n",
       "      <th>2</th>\n",
       "      <td>filler_between_1_16_0_2_and_warehouse_for_1_16...</td>\n",
       "      <td>IsRightAfter</td>\n",
       "    </tr>\n",
       "    <tr>\n",
       "      <th>3</th>\n",
       "      <td>filler_between_1_16_0_2_and_warehouse_for_1_16...</td>\n",
       "      <td>IsRightBefore</td>\n",
       "    </tr>\n",
       "    <tr>\n",
       "      <th>4</th>\n",
       "      <td>warehouse_for_1_16_0_3_is_synced_1_16_0_3</td>\n",
       "      <td>IsSynced</td>\n",
       "    </tr>\n",
       "    <tr>\n",
       "      <th>...</th>\n",
       "      <td>...</td>\n",
       "      <td>...</td>\n",
       "    </tr>\n",
       "    <tr>\n",
       "      <th>944</th>\n",
       "      <td>filler_between_warehouse_for_1_16_4_5_and_ware...</td>\n",
       "      <td>HasNoOverlap</td>\n",
       "    </tr>\n",
       "    <tr>\n",
       "      <th>945</th>\n",
       "      <td>filler_between_warehouse_for_1_16_4_5_and_ware...</td>\n",
       "      <td>HasNoOverlap</td>\n",
       "    </tr>\n",
       "    <tr>\n",
       "      <th>946</th>\n",
       "      <td>warehouse_for_1_16_4_8_has_no_overlap_filler_b...</td>\n",
       "      <td>HasNoOverlap</td>\n",
       "    </tr>\n",
       "    <tr>\n",
       "      <th>947</th>\n",
       "      <td>warehouse_for_1_16_4_8_has_no_overlap_filler_b...</td>\n",
       "      <td>HasNoOverlap</td>\n",
       "    </tr>\n",
       "    <tr>\n",
       "      <th>948</th>\n",
       "      <td>filler_between_warehouse_for_1_16_4_6_and_ware...</td>\n",
       "      <td>HasNoOverlap</td>\n",
       "    </tr>\n",
       "  </tbody>\n",
       "</table>\n",
       "<p>949 rows × 2 columns</p>\n",
       "</div>"
      ]
     },
     "execution_count": 42,
     "metadata": {},
     "output_type": "execute_result"
    }
   ],
   "execution_count": 42
  },
  {
   "metadata": {
    "ExecuteTime": {
     "end_time": "2025-04-08T10:56:19.018113Z",
     "start_time": "2025-04-08T10:55:04.616926Z"
    }
   },
   "cell_type": "code",
   "source": [
    "model_ilp = MFModelILP(data)\n",
    "\n",
    "for solver in ['ortools','exact','gurobi','choco']:\n",
    "    start = time.time()\n",
    "    if model_ilp.solve(solver=solver,time_limit=60):\n",
    "        end = time.time()\n",
    "        print(f'Solving for {solver} with ILP formulation: {end-start} seconds and {model_ilp.get_makespan()} of makespan')\n",
    "    else:\n",
    "        print(f'Timeout reached for {solver} with ILP formulation')"
   ],
   "id": "573ced44ed3d2108",
   "outputs": [
    {
     "name": "stdout",
     "output_type": "stream",
     "text": [
      "Solving for ortools with ILP formulation: 1.347165584564209 seconds and 2764 of makespan\n",
      "Solving for exact with ILP formulation: 10.726134777069092 seconds and 2764 of makespan\n",
      "Solving for gurobi with ILP formulation: 1.3801870346069336 seconds and 2764 of makespan\n",
      "Timeout reached for choco with ILP formulation\n"
     ]
    }
   ],
   "execution_count": 62
  },
  {
   "metadata": {
    "ExecuteTime": {
     "end_time": "2025-04-08T12:06:12.601643Z",
     "start_time": "2025-04-08T12:06:10.395450Z"
    }
   },
   "cell_type": "code",
   "source": [
    "model_ilp = MFModelILP(data)\n",
    "start = time.time()\n",
    "for solver in ['ortools']:\n",
    "    if model_ilp.solve(solver=solver,time_limit=60):\n",
    "        end = time.time()\n",
    "        print(f'Solving for {solver} with ILP formulation: {end-start} seconds and {model_ilp.get_makespan()} of makespan')\n",
    "    else:\n",
    "        print(f'Timeout reached for {solver} with ILP formulation')"
   ],
   "id": "3117a1f7402e5f1e",
   "outputs": [
    {
     "name": "stdout",
     "output_type": "stream",
     "text": [
      "Solving for ortools with ILP formulation: 1.938889503479004 seconds and 2764 of makespan\n"
     ]
    }
   ],
   "execution_count": 43
  },
  {
   "metadata": {},
   "cell_type": "markdown",
   "source": [
    "### The operations that a cell can perform are as follows:\n",
    "\n",
    "- **Transport**: Transfers products from the Source (entry point) to the cell's carousel, or from the carousel to the Sink (exit point).\n",
    "- **Carousel**: Moves the product from the cell’s transport system to its internal warehouse.\n",
    "- **Warehouse**: Acts as a storage area within the hexagon where assembly operations are carried out.\n",
    "- **Staubli**: A robotic arm responsible for assembly tasks such as attaching a motor cover or vacuum gripper.\n",
    "- **Binpick**: Picks required components from a bin, which are essential for specific Staubli operations."
   ],
   "id": "61c28ccd554ed911"
  },
  {
   "metadata": {
    "ExecuteTime": {
     "end_time": "2025-04-08T12:06:12.705614Z",
     "start_time": "2025-04-08T12:06:12.633845Z"
    }
   },
   "cell_type": "code",
   "source": [
    "jobs = model_ilp.get_jobs()\n",
    "info = model_ilp.get_info()\n",
    "start, duration = model_ilp.get_dv()\n",
    "to_show =  []\n",
    "dict_job_start = {}\n",
    "\n",
    "for index in range(len(start)):\n",
    "    dict_job_start[index] = start[index].value()\n",
    "\n",
    "for job,job_info in jobs.items():\n",
    "    subject = info[job_info['__id__']][0]\n",
    "    start_job = start[subject].value()\n",
    "    end_job = start[subject].value() + duration[subject].value()\n",
    "    resource = info[job_info['__id__']][1]\n",
    "    product = info[job_info['__id__']][2]\n",
    "    job_name = info[job_info['__id__']][4]\n",
    "    to_show.append(dict(Task = f'Task {subject}', Start= start_job,End = end_job, Resource = resource, Product = product, Name=job_name))\n",
    "\n",
    "# Convert the tasks to a DataFrame for easier manipulation\n",
    "df = pd.DataFrame(to_show)\n",
    "\n",
    "# Calculate the duration of each task\n",
    "df['Duration'] = df['End'] - df['Start']\n",
    "\n",
    "# Use px.bar to create the Gantt chart with item-based colors\n",
    "fig = px.bar(df, x='Duration', y='Resource', color='Product', orientation='h',\n",
    "             hover_data=['Start', 'End', 'Task','Name'], base='Start', title=\"Job Shop Schedule\")\n",
    "\n",
    "# Update the layout to set the background to black and adjust text/grid colors for visibility\n",
    "fig.update_layout(\n",
    "    plot_bgcolor='black',  # Set background color of the plot to black\n",
    "    paper_bgcolor='black',  # Set the overall figure background to black\n",
    "    xaxis=dict(showgrid=True, gridcolor='lightgray', title=\"Time\", color='white'),  # Set grid lines and label color to light for visibility\n",
    "    yaxis=dict(showgrid=True, gridcolor='lightgray', title=\"Machine\", color='white', categoryorder='category ascending'),  # Set grid and label color\n",
    "    font=dict(color='white'),  # Set general font color to white for readability\n",
    "    title_font=dict(color='white')  # Ensure the title font is also visible\n",
    ")\n",
    "\n",
    "fig.show()"
   ],
   "id": "4909b8e98292d88a",
   "outputs": [
    {
     "data": {
      "application/vnd.plotly.v1+json": {
       "data": [
        {
         "alignmentgroup": "True",
         "base": [
          10,
          20,
          30,
          61,
          0,
          320,
          512,
          696,
          856,
          952,
          960,
          970,
          61,
          38,
          320,
          94,
          512,
          512,
          856,
          664,
          952
         ],
         "customdata": [
          [
           20,
           "Task 0",
           "1_16_0_0"
          ],
          [
           30,
           "Task 1",
           "1_16_0_1"
          ],
          [
           38,
           "Task 2",
           "1_16_0_2"
          ],
          [
           94,
           "Task 3",
           "1_16_0_3"
          ],
          [
           320,
           "Task 4",
           "1_16_0_4"
          ],
          [
           512,
           "Task 5",
           "1_16_0_5"
          ],
          [
           664,
           "Task 6",
           "1_16_0_6"
          ],
          [
           856,
           "Task 7",
           "1_16_0_7"
          ],
          [
           952,
           "Task 8",
           "1_16_0_8"
          ],
          [
           960,
           "Task 9",
           "1_16_0_9"
          ],
          [
           970,
           "Task 10",
           "1_16_0_10"
          ],
          [
           980,
           "Task 11",
           "1_16_0_11"
          ],
          [
           94,
           "Task 12",
           "warehouse_for_1_16_0_3"
          ],
          [
           61,
           "Task 13",
           "filler_between_1_16_0_2_and_warehouse_for_1_16_0_3"
          ],
          [
           512,
           "Task 14",
           "warehouse_for_1_16_0_5"
          ],
          [
           320,
           "Task 15",
           "filler_between_warehouse_for_1_16_0_3_and_warehouse_for_1_16_0_5"
          ],
          [
           664,
           "Task 16",
           "warehouse_for_1_16_0_6"
          ],
          [
           512,
           "Task 17",
           "filler_between_warehouse_for_1_16_0_5_and_warehouse_for_1_16_0_6"
          ],
          [
           952,
           "Task 18",
           "warehouse_for_1_16_0_8"
          ],
          [
           856,
           "Task 19",
           "filler_between_warehouse_for_1_16_0_6_and_warehouse_for_1_16_0_8"
          ],
          [
           952,
           "Task 20",
           "filler_between_warehouse_for_1_16_0_8_and_1_16_0_9"
          ]
         ],
         "hovertemplate": "Product=1_16_0<br>Start=%{base}<br>Duration=%{x}<br>Resource=%{y}<br>End=%{customdata[0]}<br>Task=%{customdata[1]}<br>Name=%{customdata[2]}<extra></extra>",
         "legendgroup": "1_16_0",
         "marker": {
          "color": "#636efa",
          "pattern": {
           "shape": ""
          }
         },
         "name": "1_16_0",
         "offsetgroup": "1_16_0",
         "orientation": "h",
         "showlegend": true,
         "textposition": "auto",
         "x": [
          10,
          10,
          8,
          33,
          320,
          192,
          152,
          160,
          96,
          8,
          10,
          10,
          33,
          23,
          192,
          226,
          152,
          0,
          96,
          192,
          0
         ],
         "xaxis": "x",
         "y": [
          "Source_Source",
          "Cell_0_Transport",
          "Cell_0_Carrousel",
          "Cell_0_Staubli",
          "Cell_0_Binpick",
          "Cell_0_Staubli",
          "Cell_0_Staubli",
          "Cell_0_Binpick",
          "Cell_0_Staubli",
          "Cell_0_Carrousel",
          "Cell_0_Transport",
          "Sink_Sink",
          "Cell_0_Warehouse_0",
          "Cell_0_Warehouse_0",
          "Cell_0_Warehouse_0",
          "Cell_0_Warehouse_0",
          "Cell_0_Warehouse_0",
          "Cell_0_Warehouse_0",
          "Cell_0_Warehouse_0",
          "Cell_0_Warehouse_0",
          "Cell_0_Warehouse_0"
         ],
         "yaxis": "y",
         "type": "bar"
        },
        {
         "alignmentgroup": "True",
         "base": [
          1472,
          1482,
          1492,
          1616,
          1368,
          1688,
          2009,
          2232,
          2392,
          2641,
          2649,
          2659,
          1616,
          1500,
          1688,
          1649,
          2009,
          1880,
          2392,
          2161,
          2488
         ],
         "customdata": [
          [
           1482,
           "Task 21",
           "1_16_1_0"
          ],
          [
           1492,
           "Task 22",
           "1_16_1_1"
          ],
          [
           1500,
           "Task 23",
           "1_16_1_2"
          ],
          [
           1649,
           "Task 24",
           "1_16_1_3"
          ],
          [
           1688,
           "Task 25",
           "1_16_1_4"
          ],
          [
           1880,
           "Task 26",
           "1_16_1_5"
          ],
          [
           2161,
           "Task 27",
           "1_16_1_6"
          ],
          [
           2392,
           "Task 28",
           "1_16_1_7"
          ],
          [
           2488,
           "Task 29",
           "1_16_1_8"
          ],
          [
           2649,
           "Task 30",
           "1_16_1_9"
          ],
          [
           2659,
           "Task 31",
           "1_16_1_10"
          ],
          [
           2669,
           "Task 32",
           "1_16_1_11"
          ],
          [
           1649,
           "Task 33",
           "warehouse_for_1_16_1_3"
          ],
          [
           1616,
           "Task 34",
           "filler_between_1_16_1_2_and_warehouse_for_1_16_1_3"
          ],
          [
           1880,
           "Task 35",
           "warehouse_for_1_16_1_5"
          ],
          [
           1688,
           "Task 36",
           "filler_between_warehouse_for_1_16_1_3_and_warehouse_for_1_16_1_5"
          ],
          [
           2161,
           "Task 37",
           "warehouse_for_1_16_1_6"
          ],
          [
           2009,
           "Task 38",
           "filler_between_warehouse_for_1_16_1_5_and_warehouse_for_1_16_1_6"
          ],
          [
           2488,
           "Task 39",
           "warehouse_for_1_16_1_8"
          ],
          [
           2392,
           "Task 40",
           "filler_between_warehouse_for_1_16_1_6_and_warehouse_for_1_16_1_8"
          ],
          [
           2641,
           "Task 41",
           "filler_between_warehouse_for_1_16_1_8_and_1_16_1_9"
          ]
         ],
         "hovertemplate": "Product=1_16_1<br>Start=%{base}<br>Duration=%{x}<br>Resource=%{y}<br>End=%{customdata[0]}<br>Task=%{customdata[1]}<br>Name=%{customdata[2]}<extra></extra>",
         "legendgroup": "1_16_1",
         "marker": {
          "color": "#EF553B",
          "pattern": {
           "shape": ""
          }
         },
         "name": "1_16_1",
         "offsetgroup": "1_16_1",
         "orientation": "h",
         "showlegend": true,
         "textposition": "auto",
         "x": [
          10,
          10,
          8,
          33,
          320,
          192,
          152,
          160,
          96,
          8,
          10,
          10,
          33,
          116,
          192,
          39,
          152,
          129,
          96,
          231,
          153
         ],
         "xaxis": "x",
         "y": [
          "Source_Source",
          "Cell_0_Transport",
          "Cell_0_Carrousel",
          "Cell_0_Staubli",
          "Cell_0_Binpick",
          "Cell_0_Staubli",
          "Cell_0_Staubli",
          "Cell_0_Binpick",
          "Cell_0_Staubli",
          "Cell_0_Carrousel",
          "Cell_0_Transport",
          "Sink_Sink",
          "Cell_0_Warehouse_1",
          "Cell_0_Warehouse_1",
          "Cell_0_Warehouse_1",
          "Cell_0_Warehouse_1",
          "Cell_0_Warehouse_1",
          "Cell_0_Warehouse_1",
          "Cell_0_Warehouse_1",
          "Cell_0_Warehouse_1",
          "Cell_0_Warehouse_1"
         ],
         "yaxis": "y",
         "type": "bar"
        },
        {
         "alignmentgroup": "True",
         "base": [
          924,
          934,
          944,
          952,
          856,
          1176,
          1464,
          1720,
          1880,
          1976,
          1984,
          1994,
          952,
          952,
          1176,
          985,
          1464,
          1368,
          1880,
          1616,
          1976
         ],
         "customdata": [
          [
           934,
           "Task 42",
           "1_16_2_0"
          ],
          [
           944,
           "Task 43",
           "1_16_2_1"
          ],
          [
           952,
           "Task 44",
           "1_16_2_2"
          ],
          [
           985,
           "Task 45",
           "1_16_2_3"
          ],
          [
           1176,
           "Task 46",
           "1_16_2_4"
          ],
          [
           1368,
           "Task 47",
           "1_16_2_5"
          ],
          [
           1616,
           "Task 48",
           "1_16_2_6"
          ],
          [
           1880,
           "Task 49",
           "1_16_2_7"
          ],
          [
           1976,
           "Task 50",
           "1_16_2_8"
          ],
          [
           1984,
           "Task 51",
           "1_16_2_9"
          ],
          [
           1994,
           "Task 52",
           "1_16_2_10"
          ],
          [
           2004,
           "Task 53",
           "1_16_2_11"
          ],
          [
           985,
           "Task 54",
           "warehouse_for_1_16_2_3"
          ],
          [
           952,
           "Task 55",
           "filler_between_1_16_2_2_and_warehouse_for_1_16_2_3"
          ],
          [
           1368,
           "Task 56",
           "warehouse_for_1_16_2_5"
          ],
          [
           1176,
           "Task 57",
           "filler_between_warehouse_for_1_16_2_3_and_warehouse_for_1_16_2_5"
          ],
          [
           1616,
           "Task 58",
           "warehouse_for_1_16_2_6"
          ],
          [
           1464,
           "Task 59",
           "filler_between_warehouse_for_1_16_2_5_and_warehouse_for_1_16_2_6"
          ],
          [
           1976,
           "Task 60",
           "warehouse_for_1_16_2_8"
          ],
          [
           1880,
           "Task 61",
           "filler_between_warehouse_for_1_16_2_6_and_warehouse_for_1_16_2_8"
          ],
          [
           1976,
           "Task 62",
           "filler_between_warehouse_for_1_16_2_8_and_1_16_2_9"
          ]
         ],
         "hovertemplate": "Product=1_16_2<br>Start=%{base}<br>Duration=%{x}<br>Resource=%{y}<br>End=%{customdata[0]}<br>Task=%{customdata[1]}<br>Name=%{customdata[2]}<extra></extra>",
         "legendgroup": "1_16_2",
         "marker": {
          "color": "#00cc96",
          "pattern": {
           "shape": ""
          }
         },
         "name": "1_16_2",
         "offsetgroup": "1_16_2",
         "orientation": "h",
         "showlegend": true,
         "textposition": "auto",
         "x": [
          10,
          10,
          8,
          33,
          320,
          192,
          152,
          160,
          96,
          8,
          10,
          10,
          33,
          0,
          192,
          191,
          152,
          96,
          96,
          264,
          0
         ],
         "xaxis": "x",
         "y": [
          "Source_Source",
          "Cell_0_Transport",
          "Cell_0_Carrousel",
          "Cell_0_Staubli",
          "Cell_0_Binpick",
          "Cell_0_Staubli",
          "Cell_0_Staubli",
          "Cell_0_Binpick",
          "Cell_0_Staubli",
          "Cell_0_Carrousel",
          "Cell_0_Transport",
          "Sink_Sink",
          "Cell_0_Warehouse_0",
          "Cell_0_Warehouse_0",
          "Cell_0_Warehouse_0",
          "Cell_0_Warehouse_0",
          "Cell_0_Warehouse_0",
          "Cell_0_Warehouse_0",
          "Cell_0_Warehouse_0",
          "Cell_0_Warehouse_0",
          "Cell_0_Warehouse_0"
         ],
         "yaxis": "y",
         "type": "bar"
        },
        {
         "alignmentgroup": "True",
         "base": [
          1948,
          1958,
          1968,
          1976,
          1880,
          2200,
          2488,
          2480,
          2640,
          2736,
          2744,
          2754,
          1976,
          1976,
          2200,
          2009,
          2488,
          2392,
          2640,
          2640,
          2736
         ],
         "customdata": [
          [
           1958,
           "Task 63",
           "1_16_3_0"
          ],
          [
           1968,
           "Task 64",
           "1_16_3_1"
          ],
          [
           1976,
           "Task 65",
           "1_16_3_2"
          ],
          [
           2009,
           "Task 66",
           "1_16_3_3"
          ],
          [
           2200,
           "Task 67",
           "1_16_3_4"
          ],
          [
           2392,
           "Task 68",
           "1_16_3_5"
          ],
          [
           2640,
           "Task 69",
           "1_16_3_6"
          ],
          [
           2640,
           "Task 70",
           "1_16_3_7"
          ],
          [
           2736,
           "Task 71",
           "1_16_3_8"
          ],
          [
           2744,
           "Task 72",
           "1_16_3_9"
          ],
          [
           2754,
           "Task 73",
           "1_16_3_10"
          ],
          [
           2764,
           "Task 74",
           "1_16_3_11"
          ],
          [
           2009,
           "Task 75",
           "warehouse_for_1_16_3_3"
          ],
          [
           1976,
           "Task 76",
           "filler_between_1_16_3_2_and_warehouse_for_1_16_3_3"
          ],
          [
           2392,
           "Task 77",
           "warehouse_for_1_16_3_5"
          ],
          [
           2200,
           "Task 78",
           "filler_between_warehouse_for_1_16_3_3_and_warehouse_for_1_16_3_5"
          ],
          [
           2640,
           "Task 79",
           "warehouse_for_1_16_3_6"
          ],
          [
           2488,
           "Task 80",
           "filler_between_warehouse_for_1_16_3_5_and_warehouse_for_1_16_3_6"
          ],
          [
           2736,
           "Task 81",
           "warehouse_for_1_16_3_8"
          ],
          [
           2640,
           "Task 82",
           "filler_between_warehouse_for_1_16_3_6_and_warehouse_for_1_16_3_8"
          ],
          [
           2736,
           "Task 83",
           "filler_between_warehouse_for_1_16_3_8_and_1_16_3_9"
          ]
         ],
         "hovertemplate": "Product=1_16_3<br>Start=%{base}<br>Duration=%{x}<br>Resource=%{y}<br>End=%{customdata[0]}<br>Task=%{customdata[1]}<br>Name=%{customdata[2]}<extra></extra>",
         "legendgroup": "1_16_3",
         "marker": {
          "color": "#ab63fa",
          "pattern": {
           "shape": ""
          }
         },
         "name": "1_16_3",
         "offsetgroup": "1_16_3",
         "orientation": "h",
         "showlegend": true,
         "textposition": "auto",
         "x": [
          10,
          10,
          8,
          33,
          320,
          192,
          152,
          160,
          96,
          8,
          10,
          10,
          33,
          0,
          192,
          191,
          152,
          96,
          96,
          0,
          0
         ],
         "xaxis": "x",
         "y": [
          "Source_Source",
          "Cell_0_Transport",
          "Cell_0_Carrousel",
          "Cell_0_Staubli",
          "Cell_0_Binpick",
          "Cell_0_Staubli",
          "Cell_0_Staubli",
          "Cell_0_Binpick",
          "Cell_0_Staubli",
          "Cell_0_Carrousel",
          "Cell_0_Transport",
          "Sink_Sink",
          "Cell_0_Warehouse_0",
          "Cell_0_Warehouse_0",
          "Cell_0_Warehouse_0",
          "Cell_0_Warehouse_0",
          "Cell_0_Warehouse_0",
          "Cell_0_Warehouse_0",
          "Cell_0_Warehouse_0",
          "Cell_0_Warehouse_0",
          "Cell_0_Warehouse_0"
         ],
         "yaxis": "y",
         "type": "bar"
        },
        {
         "alignmentgroup": "True",
         "base": [
          0,
          10,
          20,
          28,
          344,
          664,
          985,
          1208,
          1368,
          1464,
          1472,
          1482,
          28,
          28,
          664,
          61,
          985,
          856,
          1368,
          1137,
          1464
         ],
         "customdata": [
          [
           10,
           "Task 84",
           "1_16_4_0"
          ],
          [
           20,
           "Task 85",
           "1_16_4_1"
          ],
          [
           28,
           "Task 86",
           "1_16_4_2"
          ],
          [
           61,
           "Task 87",
           "1_16_4_3"
          ],
          [
           664,
           "Task 88",
           "1_16_4_4"
          ],
          [
           856,
           "Task 89",
           "1_16_4_5"
          ],
          [
           1137,
           "Task 90",
           "1_16_4_6"
          ],
          [
           1368,
           "Task 91",
           "1_16_4_7"
          ],
          [
           1464,
           "Task 92",
           "1_16_4_8"
          ],
          [
           1472,
           "Task 93",
           "1_16_4_9"
          ],
          [
           1482,
           "Task 94",
           "1_16_4_10"
          ],
          [
           1492,
           "Task 95",
           "1_16_4_11"
          ],
          [
           61,
           "Task 96",
           "warehouse_for_1_16_4_3"
          ],
          [
           28,
           "Task 97",
           "filler_between_1_16_4_2_and_warehouse_for_1_16_4_3"
          ],
          [
           856,
           "Task 98",
           "warehouse_for_1_16_4_5"
          ],
          [
           664,
           "Task 99",
           "filler_between_warehouse_for_1_16_4_3_and_warehouse_for_1_16_4_5"
          ],
          [
           1137,
           "Task 100",
           "warehouse_for_1_16_4_6"
          ],
          [
           985,
           "Task 101",
           "filler_between_warehouse_for_1_16_4_5_and_warehouse_for_1_16_4_6"
          ],
          [
           1464,
           "Task 102",
           "warehouse_for_1_16_4_8"
          ],
          [
           1368,
           "Task 103",
           "filler_between_warehouse_for_1_16_4_6_and_warehouse_for_1_16_4_8"
          ],
          [
           1464,
           "Task 104",
           "filler_between_warehouse_for_1_16_4_8_and_1_16_4_9"
          ]
         ],
         "hovertemplate": "Product=1_16_4<br>Start=%{base}<br>Duration=%{x}<br>Resource=%{y}<br>End=%{customdata[0]}<br>Task=%{customdata[1]}<br>Name=%{customdata[2]}<extra></extra>",
         "legendgroup": "1_16_4",
         "marker": {
          "color": "#FFA15A",
          "pattern": {
           "shape": ""
          }
         },
         "name": "1_16_4",
         "offsetgroup": "1_16_4",
         "orientation": "h",
         "showlegend": true,
         "textposition": "auto",
         "x": [
          10,
          10,
          8,
          33,
          320,
          192,
          152,
          160,
          96,
          8,
          10,
          10,
          33,
          0,
          192,
          603,
          152,
          129,
          96,
          231,
          0
         ],
         "xaxis": "x",
         "y": [
          "Source_Source",
          "Cell_0_Transport",
          "Cell_0_Carrousel",
          "Cell_0_Staubli",
          "Cell_0_Binpick",
          "Cell_0_Staubli",
          "Cell_0_Staubli",
          "Cell_0_Binpick",
          "Cell_0_Staubli",
          "Cell_0_Carrousel",
          "Cell_0_Transport",
          "Sink_Sink",
          "Cell_0_Warehouse_1",
          "Cell_0_Warehouse_1",
          "Cell_0_Warehouse_1",
          "Cell_0_Warehouse_1",
          "Cell_0_Warehouse_1",
          "Cell_0_Warehouse_1",
          "Cell_0_Warehouse_1",
          "Cell_0_Warehouse_1",
          "Cell_0_Warehouse_1"
         ],
         "yaxis": "y",
         "type": "bar"
        }
       ],
       "layout": {
        "template": {
         "data": {
          "histogram2dcontour": [
           {
            "type": "histogram2dcontour",
            "colorbar": {
             "outlinewidth": 0,
             "ticks": ""
            },
            "colorscale": [
             [
              0.0,
              "#0d0887"
             ],
             [
              0.1111111111111111,
              "#46039f"
             ],
             [
              0.2222222222222222,
              "#7201a8"
             ],
             [
              0.3333333333333333,
              "#9c179e"
             ],
             [
              0.4444444444444444,
              "#bd3786"
             ],
             [
              0.5555555555555556,
              "#d8576b"
             ],
             [
              0.6666666666666666,
              "#ed7953"
             ],
             [
              0.7777777777777778,
              "#fb9f3a"
             ],
             [
              0.8888888888888888,
              "#fdca26"
             ],
             [
              1.0,
              "#f0f921"
             ]
            ]
           }
          ],
          "choropleth": [
           {
            "type": "choropleth",
            "colorbar": {
             "outlinewidth": 0,
             "ticks": ""
            }
           }
          ],
          "histogram2d": [
           {
            "type": "histogram2d",
            "colorbar": {
             "outlinewidth": 0,
             "ticks": ""
            },
            "colorscale": [
             [
              0.0,
              "#0d0887"
             ],
             [
              0.1111111111111111,
              "#46039f"
             ],
             [
              0.2222222222222222,
              "#7201a8"
             ],
             [
              0.3333333333333333,
              "#9c179e"
             ],
             [
              0.4444444444444444,
              "#bd3786"
             ],
             [
              0.5555555555555556,
              "#d8576b"
             ],
             [
              0.6666666666666666,
              "#ed7953"
             ],
             [
              0.7777777777777778,
              "#fb9f3a"
             ],
             [
              0.8888888888888888,
              "#fdca26"
             ],
             [
              1.0,
              "#f0f921"
             ]
            ]
           }
          ],
          "heatmap": [
           {
            "type": "heatmap",
            "colorbar": {
             "outlinewidth": 0,
             "ticks": ""
            },
            "colorscale": [
             [
              0.0,
              "#0d0887"
             ],
             [
              0.1111111111111111,
              "#46039f"
             ],
             [
              0.2222222222222222,
              "#7201a8"
             ],
             [
              0.3333333333333333,
              "#9c179e"
             ],
             [
              0.4444444444444444,
              "#bd3786"
             ],
             [
              0.5555555555555556,
              "#d8576b"
             ],
             [
              0.6666666666666666,
              "#ed7953"
             ],
             [
              0.7777777777777778,
              "#fb9f3a"
             ],
             [
              0.8888888888888888,
              "#fdca26"
             ],
             [
              1.0,
              "#f0f921"
             ]
            ]
           }
          ],
          "heatmapgl": [
           {
            "type": "heatmapgl",
            "colorbar": {
             "outlinewidth": 0,
             "ticks": ""
            },
            "colorscale": [
             [
              0.0,
              "#0d0887"
             ],
             [
              0.1111111111111111,
              "#46039f"
             ],
             [
              0.2222222222222222,
              "#7201a8"
             ],
             [
              0.3333333333333333,
              "#9c179e"
             ],
             [
              0.4444444444444444,
              "#bd3786"
             ],
             [
              0.5555555555555556,
              "#d8576b"
             ],
             [
              0.6666666666666666,
              "#ed7953"
             ],
             [
              0.7777777777777778,
              "#fb9f3a"
             ],
             [
              0.8888888888888888,
              "#fdca26"
             ],
             [
              1.0,
              "#f0f921"
             ]
            ]
           }
          ],
          "contourcarpet": [
           {
            "type": "contourcarpet",
            "colorbar": {
             "outlinewidth": 0,
             "ticks": ""
            }
           }
          ],
          "contour": [
           {
            "type": "contour",
            "colorbar": {
             "outlinewidth": 0,
             "ticks": ""
            },
            "colorscale": [
             [
              0.0,
              "#0d0887"
             ],
             [
              0.1111111111111111,
              "#46039f"
             ],
             [
              0.2222222222222222,
              "#7201a8"
             ],
             [
              0.3333333333333333,
              "#9c179e"
             ],
             [
              0.4444444444444444,
              "#bd3786"
             ],
             [
              0.5555555555555556,
              "#d8576b"
             ],
             [
              0.6666666666666666,
              "#ed7953"
             ],
             [
              0.7777777777777778,
              "#fb9f3a"
             ],
             [
              0.8888888888888888,
              "#fdca26"
             ],
             [
              1.0,
              "#f0f921"
             ]
            ]
           }
          ],
          "surface": [
           {
            "type": "surface",
            "colorbar": {
             "outlinewidth": 0,
             "ticks": ""
            },
            "colorscale": [
             [
              0.0,
              "#0d0887"
             ],
             [
              0.1111111111111111,
              "#46039f"
             ],
             [
              0.2222222222222222,
              "#7201a8"
             ],
             [
              0.3333333333333333,
              "#9c179e"
             ],
             [
              0.4444444444444444,
              "#bd3786"
             ],
             [
              0.5555555555555556,
              "#d8576b"
             ],
             [
              0.6666666666666666,
              "#ed7953"
             ],
             [
              0.7777777777777778,
              "#fb9f3a"
             ],
             [
              0.8888888888888888,
              "#fdca26"
             ],
             [
              1.0,
              "#f0f921"
             ]
            ]
           }
          ],
          "mesh3d": [
           {
            "type": "mesh3d",
            "colorbar": {
             "outlinewidth": 0,
             "ticks": ""
            }
           }
          ],
          "scatter": [
           {
            "marker": {
             "line": {
              "color": "#283442"
             }
            },
            "type": "scatter"
           }
          ],
          "parcoords": [
           {
            "type": "parcoords",
            "line": {
             "colorbar": {
              "outlinewidth": 0,
              "ticks": ""
             }
            }
           }
          ],
          "scatterpolargl": [
           {
            "type": "scatterpolargl",
            "marker": {
             "colorbar": {
              "outlinewidth": 0,
              "ticks": ""
             }
            }
           }
          ],
          "bar": [
           {
            "error_x": {
             "color": "#f2f5fa"
            },
            "error_y": {
             "color": "#f2f5fa"
            },
            "marker": {
             "line": {
              "color": "rgb(17,17,17)",
              "width": 0.5
             },
             "pattern": {
              "fillmode": "overlay",
              "size": 10,
              "solidity": 0.2
             }
            },
            "type": "bar"
           }
          ],
          "scattergeo": [
           {
            "type": "scattergeo",
            "marker": {
             "colorbar": {
              "outlinewidth": 0,
              "ticks": ""
             }
            }
           }
          ],
          "scatterpolar": [
           {
            "type": "scatterpolar",
            "marker": {
             "colorbar": {
              "outlinewidth": 0,
              "ticks": ""
             }
            }
           }
          ],
          "histogram": [
           {
            "marker": {
             "pattern": {
              "fillmode": "overlay",
              "size": 10,
              "solidity": 0.2
             }
            },
            "type": "histogram"
           }
          ],
          "scattergl": [
           {
            "marker": {
             "line": {
              "color": "#283442"
             }
            },
            "type": "scattergl"
           }
          ],
          "scatter3d": [
           {
            "type": "scatter3d",
            "line": {
             "colorbar": {
              "outlinewidth": 0,
              "ticks": ""
             }
            },
            "marker": {
             "colorbar": {
              "outlinewidth": 0,
              "ticks": ""
             }
            }
           }
          ],
          "scattermapbox": [
           {
            "type": "scattermapbox",
            "marker": {
             "colorbar": {
              "outlinewidth": 0,
              "ticks": ""
             }
            }
           }
          ],
          "scatterternary": [
           {
            "type": "scatterternary",
            "marker": {
             "colorbar": {
              "outlinewidth": 0,
              "ticks": ""
             }
            }
           }
          ],
          "scattercarpet": [
           {
            "type": "scattercarpet",
            "marker": {
             "colorbar": {
              "outlinewidth": 0,
              "ticks": ""
             }
            }
           }
          ],
          "carpet": [
           {
            "aaxis": {
             "endlinecolor": "#A2B1C6",
             "gridcolor": "#506784",
             "linecolor": "#506784",
             "minorgridcolor": "#506784",
             "startlinecolor": "#A2B1C6"
            },
            "baxis": {
             "endlinecolor": "#A2B1C6",
             "gridcolor": "#506784",
             "linecolor": "#506784",
             "minorgridcolor": "#506784",
             "startlinecolor": "#A2B1C6"
            },
            "type": "carpet"
           }
          ],
          "table": [
           {
            "cells": {
             "fill": {
              "color": "#506784"
             },
             "line": {
              "color": "rgb(17,17,17)"
             }
            },
            "header": {
             "fill": {
              "color": "#2a3f5f"
             },
             "line": {
              "color": "rgb(17,17,17)"
             }
            },
            "type": "table"
           }
          ],
          "barpolar": [
           {
            "marker": {
             "line": {
              "color": "rgb(17,17,17)",
              "width": 0.5
             },
             "pattern": {
              "fillmode": "overlay",
              "size": 10,
              "solidity": 0.2
             }
            },
            "type": "barpolar"
           }
          ],
          "pie": [
           {
            "automargin": true,
            "type": "pie"
           }
          ]
         },
         "layout": {
          "autotypenumbers": "strict",
          "colorway": [
           "#636efa",
           "#EF553B",
           "#00cc96",
           "#ab63fa",
           "#FFA15A",
           "#19d3f3",
           "#FF6692",
           "#B6E880",
           "#FF97FF",
           "#FECB52"
          ],
          "font": {
           "color": "#f2f5fa"
          },
          "hovermode": "closest",
          "hoverlabel": {
           "align": "left"
          },
          "paper_bgcolor": "rgb(17,17,17)",
          "plot_bgcolor": "rgb(17,17,17)",
          "polar": {
           "bgcolor": "rgb(17,17,17)",
           "angularaxis": {
            "gridcolor": "#506784",
            "linecolor": "#506784",
            "ticks": ""
           },
           "radialaxis": {
            "gridcolor": "#506784",
            "linecolor": "#506784",
            "ticks": ""
           }
          },
          "ternary": {
           "bgcolor": "rgb(17,17,17)",
           "aaxis": {
            "gridcolor": "#506784",
            "linecolor": "#506784",
            "ticks": ""
           },
           "baxis": {
            "gridcolor": "#506784",
            "linecolor": "#506784",
            "ticks": ""
           },
           "caxis": {
            "gridcolor": "#506784",
            "linecolor": "#506784",
            "ticks": ""
           }
          },
          "coloraxis": {
           "colorbar": {
            "outlinewidth": 0,
            "ticks": ""
           }
          },
          "colorscale": {
           "sequential": [
            [
             0.0,
             "#0d0887"
            ],
            [
             0.1111111111111111,
             "#46039f"
            ],
            [
             0.2222222222222222,
             "#7201a8"
            ],
            [
             0.3333333333333333,
             "#9c179e"
            ],
            [
             0.4444444444444444,
             "#bd3786"
            ],
            [
             0.5555555555555556,
             "#d8576b"
            ],
            [
             0.6666666666666666,
             "#ed7953"
            ],
            [
             0.7777777777777778,
             "#fb9f3a"
            ],
            [
             0.8888888888888888,
             "#fdca26"
            ],
            [
             1.0,
             "#f0f921"
            ]
           ],
           "sequentialminus": [
            [
             0.0,
             "#0d0887"
            ],
            [
             0.1111111111111111,
             "#46039f"
            ],
            [
             0.2222222222222222,
             "#7201a8"
            ],
            [
             0.3333333333333333,
             "#9c179e"
            ],
            [
             0.4444444444444444,
             "#bd3786"
            ],
            [
             0.5555555555555556,
             "#d8576b"
            ],
            [
             0.6666666666666666,
             "#ed7953"
            ],
            [
             0.7777777777777778,
             "#fb9f3a"
            ],
            [
             0.8888888888888888,
             "#fdca26"
            ],
            [
             1.0,
             "#f0f921"
            ]
           ],
           "diverging": [
            [
             0,
             "#8e0152"
            ],
            [
             0.1,
             "#c51b7d"
            ],
            [
             0.2,
             "#de77ae"
            ],
            [
             0.3,
             "#f1b6da"
            ],
            [
             0.4,
             "#fde0ef"
            ],
            [
             0.5,
             "#f7f7f7"
            ],
            [
             0.6,
             "#e6f5d0"
            ],
            [
             0.7,
             "#b8e186"
            ],
            [
             0.8,
             "#7fbc41"
            ],
            [
             0.9,
             "#4d9221"
            ],
            [
             1,
             "#276419"
            ]
           ]
          },
          "xaxis": {
           "gridcolor": "#283442",
           "linecolor": "#506784",
           "ticks": "",
           "title": {
            "standoff": 15
           },
           "zerolinecolor": "#283442",
           "automargin": true,
           "zerolinewidth": 2
          },
          "yaxis": {
           "gridcolor": "#283442",
           "linecolor": "#506784",
           "ticks": "",
           "title": {
            "standoff": 15
           },
           "zerolinecolor": "#283442",
           "automargin": true,
           "zerolinewidth": 2
          },
          "scene": {
           "xaxis": {
            "backgroundcolor": "rgb(17,17,17)",
            "gridcolor": "#506784",
            "linecolor": "#506784",
            "showbackground": true,
            "ticks": "",
            "zerolinecolor": "#C8D4E3",
            "gridwidth": 2
           },
           "yaxis": {
            "backgroundcolor": "rgb(17,17,17)",
            "gridcolor": "#506784",
            "linecolor": "#506784",
            "showbackground": true,
            "ticks": "",
            "zerolinecolor": "#C8D4E3",
            "gridwidth": 2
           },
           "zaxis": {
            "backgroundcolor": "rgb(17,17,17)",
            "gridcolor": "#506784",
            "linecolor": "#506784",
            "showbackground": true,
            "ticks": "",
            "zerolinecolor": "#C8D4E3",
            "gridwidth": 2
           }
          },
          "shapedefaults": {
           "line": {
            "color": "#f2f5fa"
           }
          },
          "annotationdefaults": {
           "arrowcolor": "#f2f5fa",
           "arrowhead": 0,
           "arrowwidth": 1
          },
          "geo": {
           "bgcolor": "rgb(17,17,17)",
           "landcolor": "rgb(17,17,17)",
           "subunitcolor": "#506784",
           "showland": true,
           "showlakes": true,
           "lakecolor": "rgb(17,17,17)"
          },
          "title": {
           "x": 0.05
          },
          "updatemenudefaults": {
           "bgcolor": "#506784",
           "borderwidth": 0
          },
          "sliderdefaults": {
           "bgcolor": "#C8D4E3",
           "borderwidth": 1,
           "bordercolor": "rgb(17,17,17)",
           "tickwidth": 0
          },
          "mapbox": {
           "style": "dark"
          }
         }
        },
        "xaxis": {
         "anchor": "y",
         "domain": [
          0.0,
          1.0
         ],
         "title": {
          "text": "Time"
         },
         "showgrid": true,
         "gridcolor": "lightgray",
         "color": "white"
        },
        "yaxis": {
         "anchor": "x",
         "domain": [
          0.0,
          1.0
         ],
         "title": {
          "text": "Machine"
         },
         "showgrid": true,
         "gridcolor": "lightgray",
         "color": "white",
         "categoryorder": "category ascending"
        },
        "legend": {
         "title": {
          "text": "Product"
         },
         "tracegroupgap": 0
        },
        "title": {
         "text": "Job Shop Schedule",
         "font": {
          "color": "white"
         }
        },
        "barmode": "relative",
        "font": {
         "color": "white"
        },
        "plot_bgcolor": "black",
        "paper_bgcolor": "black"
       },
       "config": {
        "plotlyServerURL": "https://plot.ly"
       }
      },
      "text/html": [
       "<div>                            <div id=\"63673165-7066-4968-b70d-ef66731607ba\" class=\"plotly-graph-div\" style=\"height:525px; width:100%;\"></div>            <script type=\"text/javascript\">                require([\"plotly\"], function(Plotly) {                    window.PLOTLYENV=window.PLOTLYENV || {};                                    if (document.getElementById(\"63673165-7066-4968-b70d-ef66731607ba\")) {                    Plotly.newPlot(                        \"63673165-7066-4968-b70d-ef66731607ba\",                        [{\"alignmentgroup\":\"True\",\"base\":[10,20,30,61,0,320,512,696,856,952,960,970,61,38,320,94,512,512,856,664,952],\"customdata\":[[20,\"Task 0\",\"1_16_0_0\"],[30,\"Task 1\",\"1_16_0_1\"],[38,\"Task 2\",\"1_16_0_2\"],[94,\"Task 3\",\"1_16_0_3\"],[320,\"Task 4\",\"1_16_0_4\"],[512,\"Task 5\",\"1_16_0_5\"],[664,\"Task 6\",\"1_16_0_6\"],[856,\"Task 7\",\"1_16_0_7\"],[952,\"Task 8\",\"1_16_0_8\"],[960,\"Task 9\",\"1_16_0_9\"],[970,\"Task 10\",\"1_16_0_10\"],[980,\"Task 11\",\"1_16_0_11\"],[94,\"Task 12\",\"warehouse_for_1_16_0_3\"],[61,\"Task 13\",\"filler_between_1_16_0_2_and_warehouse_for_1_16_0_3\"],[512,\"Task 14\",\"warehouse_for_1_16_0_5\"],[320,\"Task 15\",\"filler_between_warehouse_for_1_16_0_3_and_warehouse_for_1_16_0_5\"],[664,\"Task 16\",\"warehouse_for_1_16_0_6\"],[512,\"Task 17\",\"filler_between_warehouse_for_1_16_0_5_and_warehouse_for_1_16_0_6\"],[952,\"Task 18\",\"warehouse_for_1_16_0_8\"],[856,\"Task 19\",\"filler_between_warehouse_for_1_16_0_6_and_warehouse_for_1_16_0_8\"],[952,\"Task 20\",\"filler_between_warehouse_for_1_16_0_8_and_1_16_0_9\"]],\"hovertemplate\":\"Product=1_16_0\\u003cbr\\u003eStart=%{base}\\u003cbr\\u003eDuration=%{x}\\u003cbr\\u003eResource=%{y}\\u003cbr\\u003eEnd=%{customdata[0]}\\u003cbr\\u003eTask=%{customdata[1]}\\u003cbr\\u003eName=%{customdata[2]}\\u003cextra\\u003e\\u003c\\u002fextra\\u003e\",\"legendgroup\":\"1_16_0\",\"marker\":{\"color\":\"#636efa\",\"pattern\":{\"shape\":\"\"}},\"name\":\"1_16_0\",\"offsetgroup\":\"1_16_0\",\"orientation\":\"h\",\"showlegend\":true,\"textposition\":\"auto\",\"x\":[10,10,8,33,320,192,152,160,96,8,10,10,33,23,192,226,152,0,96,192,0],\"xaxis\":\"x\",\"y\":[\"Source_Source\",\"Cell_0_Transport\",\"Cell_0_Carrousel\",\"Cell_0_Staubli\",\"Cell_0_Binpick\",\"Cell_0_Staubli\",\"Cell_0_Staubli\",\"Cell_0_Binpick\",\"Cell_0_Staubli\",\"Cell_0_Carrousel\",\"Cell_0_Transport\",\"Sink_Sink\",\"Cell_0_Warehouse_0\",\"Cell_0_Warehouse_0\",\"Cell_0_Warehouse_0\",\"Cell_0_Warehouse_0\",\"Cell_0_Warehouse_0\",\"Cell_0_Warehouse_0\",\"Cell_0_Warehouse_0\",\"Cell_0_Warehouse_0\",\"Cell_0_Warehouse_0\"],\"yaxis\":\"y\",\"type\":\"bar\"},{\"alignmentgroup\":\"True\",\"base\":[1472,1482,1492,1616,1368,1688,2009,2232,2392,2641,2649,2659,1616,1500,1688,1649,2009,1880,2392,2161,2488],\"customdata\":[[1482,\"Task 21\",\"1_16_1_0\"],[1492,\"Task 22\",\"1_16_1_1\"],[1500,\"Task 23\",\"1_16_1_2\"],[1649,\"Task 24\",\"1_16_1_3\"],[1688,\"Task 25\",\"1_16_1_4\"],[1880,\"Task 26\",\"1_16_1_5\"],[2161,\"Task 27\",\"1_16_1_6\"],[2392,\"Task 28\",\"1_16_1_7\"],[2488,\"Task 29\",\"1_16_1_8\"],[2649,\"Task 30\",\"1_16_1_9\"],[2659,\"Task 31\",\"1_16_1_10\"],[2669,\"Task 32\",\"1_16_1_11\"],[1649,\"Task 33\",\"warehouse_for_1_16_1_3\"],[1616,\"Task 34\",\"filler_between_1_16_1_2_and_warehouse_for_1_16_1_3\"],[1880,\"Task 35\",\"warehouse_for_1_16_1_5\"],[1688,\"Task 36\",\"filler_between_warehouse_for_1_16_1_3_and_warehouse_for_1_16_1_5\"],[2161,\"Task 37\",\"warehouse_for_1_16_1_6\"],[2009,\"Task 38\",\"filler_between_warehouse_for_1_16_1_5_and_warehouse_for_1_16_1_6\"],[2488,\"Task 39\",\"warehouse_for_1_16_1_8\"],[2392,\"Task 40\",\"filler_between_warehouse_for_1_16_1_6_and_warehouse_for_1_16_1_8\"],[2641,\"Task 41\",\"filler_between_warehouse_for_1_16_1_8_and_1_16_1_9\"]],\"hovertemplate\":\"Product=1_16_1\\u003cbr\\u003eStart=%{base}\\u003cbr\\u003eDuration=%{x}\\u003cbr\\u003eResource=%{y}\\u003cbr\\u003eEnd=%{customdata[0]}\\u003cbr\\u003eTask=%{customdata[1]}\\u003cbr\\u003eName=%{customdata[2]}\\u003cextra\\u003e\\u003c\\u002fextra\\u003e\",\"legendgroup\":\"1_16_1\",\"marker\":{\"color\":\"#EF553B\",\"pattern\":{\"shape\":\"\"}},\"name\":\"1_16_1\",\"offsetgroup\":\"1_16_1\",\"orientation\":\"h\",\"showlegend\":true,\"textposition\":\"auto\",\"x\":[10,10,8,33,320,192,152,160,96,8,10,10,33,116,192,39,152,129,96,231,153],\"xaxis\":\"x\",\"y\":[\"Source_Source\",\"Cell_0_Transport\",\"Cell_0_Carrousel\",\"Cell_0_Staubli\",\"Cell_0_Binpick\",\"Cell_0_Staubli\",\"Cell_0_Staubli\",\"Cell_0_Binpick\",\"Cell_0_Staubli\",\"Cell_0_Carrousel\",\"Cell_0_Transport\",\"Sink_Sink\",\"Cell_0_Warehouse_1\",\"Cell_0_Warehouse_1\",\"Cell_0_Warehouse_1\",\"Cell_0_Warehouse_1\",\"Cell_0_Warehouse_1\",\"Cell_0_Warehouse_1\",\"Cell_0_Warehouse_1\",\"Cell_0_Warehouse_1\",\"Cell_0_Warehouse_1\"],\"yaxis\":\"y\",\"type\":\"bar\"},{\"alignmentgroup\":\"True\",\"base\":[924,934,944,952,856,1176,1464,1720,1880,1976,1984,1994,952,952,1176,985,1464,1368,1880,1616,1976],\"customdata\":[[934,\"Task 42\",\"1_16_2_0\"],[944,\"Task 43\",\"1_16_2_1\"],[952,\"Task 44\",\"1_16_2_2\"],[985,\"Task 45\",\"1_16_2_3\"],[1176,\"Task 46\",\"1_16_2_4\"],[1368,\"Task 47\",\"1_16_2_5\"],[1616,\"Task 48\",\"1_16_2_6\"],[1880,\"Task 49\",\"1_16_2_7\"],[1976,\"Task 50\",\"1_16_2_8\"],[1984,\"Task 51\",\"1_16_2_9\"],[1994,\"Task 52\",\"1_16_2_10\"],[2004,\"Task 53\",\"1_16_2_11\"],[985,\"Task 54\",\"warehouse_for_1_16_2_3\"],[952,\"Task 55\",\"filler_between_1_16_2_2_and_warehouse_for_1_16_2_3\"],[1368,\"Task 56\",\"warehouse_for_1_16_2_5\"],[1176,\"Task 57\",\"filler_between_warehouse_for_1_16_2_3_and_warehouse_for_1_16_2_5\"],[1616,\"Task 58\",\"warehouse_for_1_16_2_6\"],[1464,\"Task 59\",\"filler_between_warehouse_for_1_16_2_5_and_warehouse_for_1_16_2_6\"],[1976,\"Task 60\",\"warehouse_for_1_16_2_8\"],[1880,\"Task 61\",\"filler_between_warehouse_for_1_16_2_6_and_warehouse_for_1_16_2_8\"],[1976,\"Task 62\",\"filler_between_warehouse_for_1_16_2_8_and_1_16_2_9\"]],\"hovertemplate\":\"Product=1_16_2\\u003cbr\\u003eStart=%{base}\\u003cbr\\u003eDuration=%{x}\\u003cbr\\u003eResource=%{y}\\u003cbr\\u003eEnd=%{customdata[0]}\\u003cbr\\u003eTask=%{customdata[1]}\\u003cbr\\u003eName=%{customdata[2]}\\u003cextra\\u003e\\u003c\\u002fextra\\u003e\",\"legendgroup\":\"1_16_2\",\"marker\":{\"color\":\"#00cc96\",\"pattern\":{\"shape\":\"\"}},\"name\":\"1_16_2\",\"offsetgroup\":\"1_16_2\",\"orientation\":\"h\",\"showlegend\":true,\"textposition\":\"auto\",\"x\":[10,10,8,33,320,192,152,160,96,8,10,10,33,0,192,191,152,96,96,264,0],\"xaxis\":\"x\",\"y\":[\"Source_Source\",\"Cell_0_Transport\",\"Cell_0_Carrousel\",\"Cell_0_Staubli\",\"Cell_0_Binpick\",\"Cell_0_Staubli\",\"Cell_0_Staubli\",\"Cell_0_Binpick\",\"Cell_0_Staubli\",\"Cell_0_Carrousel\",\"Cell_0_Transport\",\"Sink_Sink\",\"Cell_0_Warehouse_0\",\"Cell_0_Warehouse_0\",\"Cell_0_Warehouse_0\",\"Cell_0_Warehouse_0\",\"Cell_0_Warehouse_0\",\"Cell_0_Warehouse_0\",\"Cell_0_Warehouse_0\",\"Cell_0_Warehouse_0\",\"Cell_0_Warehouse_0\"],\"yaxis\":\"y\",\"type\":\"bar\"},{\"alignmentgroup\":\"True\",\"base\":[1948,1958,1968,1976,1880,2200,2488,2480,2640,2736,2744,2754,1976,1976,2200,2009,2488,2392,2640,2640,2736],\"customdata\":[[1958,\"Task 63\",\"1_16_3_0\"],[1968,\"Task 64\",\"1_16_3_1\"],[1976,\"Task 65\",\"1_16_3_2\"],[2009,\"Task 66\",\"1_16_3_3\"],[2200,\"Task 67\",\"1_16_3_4\"],[2392,\"Task 68\",\"1_16_3_5\"],[2640,\"Task 69\",\"1_16_3_6\"],[2640,\"Task 70\",\"1_16_3_7\"],[2736,\"Task 71\",\"1_16_3_8\"],[2744,\"Task 72\",\"1_16_3_9\"],[2754,\"Task 73\",\"1_16_3_10\"],[2764,\"Task 74\",\"1_16_3_11\"],[2009,\"Task 75\",\"warehouse_for_1_16_3_3\"],[1976,\"Task 76\",\"filler_between_1_16_3_2_and_warehouse_for_1_16_3_3\"],[2392,\"Task 77\",\"warehouse_for_1_16_3_5\"],[2200,\"Task 78\",\"filler_between_warehouse_for_1_16_3_3_and_warehouse_for_1_16_3_5\"],[2640,\"Task 79\",\"warehouse_for_1_16_3_6\"],[2488,\"Task 80\",\"filler_between_warehouse_for_1_16_3_5_and_warehouse_for_1_16_3_6\"],[2736,\"Task 81\",\"warehouse_for_1_16_3_8\"],[2640,\"Task 82\",\"filler_between_warehouse_for_1_16_3_6_and_warehouse_for_1_16_3_8\"],[2736,\"Task 83\",\"filler_between_warehouse_for_1_16_3_8_and_1_16_3_9\"]],\"hovertemplate\":\"Product=1_16_3\\u003cbr\\u003eStart=%{base}\\u003cbr\\u003eDuration=%{x}\\u003cbr\\u003eResource=%{y}\\u003cbr\\u003eEnd=%{customdata[0]}\\u003cbr\\u003eTask=%{customdata[1]}\\u003cbr\\u003eName=%{customdata[2]}\\u003cextra\\u003e\\u003c\\u002fextra\\u003e\",\"legendgroup\":\"1_16_3\",\"marker\":{\"color\":\"#ab63fa\",\"pattern\":{\"shape\":\"\"}},\"name\":\"1_16_3\",\"offsetgroup\":\"1_16_3\",\"orientation\":\"h\",\"showlegend\":true,\"textposition\":\"auto\",\"x\":[10,10,8,33,320,192,152,160,96,8,10,10,33,0,192,191,152,96,96,0,0],\"xaxis\":\"x\",\"y\":[\"Source_Source\",\"Cell_0_Transport\",\"Cell_0_Carrousel\",\"Cell_0_Staubli\",\"Cell_0_Binpick\",\"Cell_0_Staubli\",\"Cell_0_Staubli\",\"Cell_0_Binpick\",\"Cell_0_Staubli\",\"Cell_0_Carrousel\",\"Cell_0_Transport\",\"Sink_Sink\",\"Cell_0_Warehouse_0\",\"Cell_0_Warehouse_0\",\"Cell_0_Warehouse_0\",\"Cell_0_Warehouse_0\",\"Cell_0_Warehouse_0\",\"Cell_0_Warehouse_0\",\"Cell_0_Warehouse_0\",\"Cell_0_Warehouse_0\",\"Cell_0_Warehouse_0\"],\"yaxis\":\"y\",\"type\":\"bar\"},{\"alignmentgroup\":\"True\",\"base\":[0,10,20,28,344,664,985,1208,1368,1464,1472,1482,28,28,664,61,985,856,1368,1137,1464],\"customdata\":[[10,\"Task 84\",\"1_16_4_0\"],[20,\"Task 85\",\"1_16_4_1\"],[28,\"Task 86\",\"1_16_4_2\"],[61,\"Task 87\",\"1_16_4_3\"],[664,\"Task 88\",\"1_16_4_4\"],[856,\"Task 89\",\"1_16_4_5\"],[1137,\"Task 90\",\"1_16_4_6\"],[1368,\"Task 91\",\"1_16_4_7\"],[1464,\"Task 92\",\"1_16_4_8\"],[1472,\"Task 93\",\"1_16_4_9\"],[1482,\"Task 94\",\"1_16_4_10\"],[1492,\"Task 95\",\"1_16_4_11\"],[61,\"Task 96\",\"warehouse_for_1_16_4_3\"],[28,\"Task 97\",\"filler_between_1_16_4_2_and_warehouse_for_1_16_4_3\"],[856,\"Task 98\",\"warehouse_for_1_16_4_5\"],[664,\"Task 99\",\"filler_between_warehouse_for_1_16_4_3_and_warehouse_for_1_16_4_5\"],[1137,\"Task 100\",\"warehouse_for_1_16_4_6\"],[985,\"Task 101\",\"filler_between_warehouse_for_1_16_4_5_and_warehouse_for_1_16_4_6\"],[1464,\"Task 102\",\"warehouse_for_1_16_4_8\"],[1368,\"Task 103\",\"filler_between_warehouse_for_1_16_4_6_and_warehouse_for_1_16_4_8\"],[1464,\"Task 104\",\"filler_between_warehouse_for_1_16_4_8_and_1_16_4_9\"]],\"hovertemplate\":\"Product=1_16_4\\u003cbr\\u003eStart=%{base}\\u003cbr\\u003eDuration=%{x}\\u003cbr\\u003eResource=%{y}\\u003cbr\\u003eEnd=%{customdata[0]}\\u003cbr\\u003eTask=%{customdata[1]}\\u003cbr\\u003eName=%{customdata[2]}\\u003cextra\\u003e\\u003c\\u002fextra\\u003e\",\"legendgroup\":\"1_16_4\",\"marker\":{\"color\":\"#FFA15A\",\"pattern\":{\"shape\":\"\"}},\"name\":\"1_16_4\",\"offsetgroup\":\"1_16_4\",\"orientation\":\"h\",\"showlegend\":true,\"textposition\":\"auto\",\"x\":[10,10,8,33,320,192,152,160,96,8,10,10,33,0,192,603,152,129,96,231,0],\"xaxis\":\"x\",\"y\":[\"Source_Source\",\"Cell_0_Transport\",\"Cell_0_Carrousel\",\"Cell_0_Staubli\",\"Cell_0_Binpick\",\"Cell_0_Staubli\",\"Cell_0_Staubli\",\"Cell_0_Binpick\",\"Cell_0_Staubli\",\"Cell_0_Carrousel\",\"Cell_0_Transport\",\"Sink_Sink\",\"Cell_0_Warehouse_1\",\"Cell_0_Warehouse_1\",\"Cell_0_Warehouse_1\",\"Cell_0_Warehouse_1\",\"Cell_0_Warehouse_1\",\"Cell_0_Warehouse_1\",\"Cell_0_Warehouse_1\",\"Cell_0_Warehouse_1\",\"Cell_0_Warehouse_1\"],\"yaxis\":\"y\",\"type\":\"bar\"}],                        {\"template\":{\"data\":{\"histogram2dcontour\":[{\"type\":\"histogram2dcontour\",\"colorbar\":{\"outlinewidth\":0,\"ticks\":\"\"},\"colorscale\":[[0.0,\"#0d0887\"],[0.1111111111111111,\"#46039f\"],[0.2222222222222222,\"#7201a8\"],[0.3333333333333333,\"#9c179e\"],[0.4444444444444444,\"#bd3786\"],[0.5555555555555556,\"#d8576b\"],[0.6666666666666666,\"#ed7953\"],[0.7777777777777778,\"#fb9f3a\"],[0.8888888888888888,\"#fdca26\"],[1.0,\"#f0f921\"]]}],\"choropleth\":[{\"type\":\"choropleth\",\"colorbar\":{\"outlinewidth\":0,\"ticks\":\"\"}}],\"histogram2d\":[{\"type\":\"histogram2d\",\"colorbar\":{\"outlinewidth\":0,\"ticks\":\"\"},\"colorscale\":[[0.0,\"#0d0887\"],[0.1111111111111111,\"#46039f\"],[0.2222222222222222,\"#7201a8\"],[0.3333333333333333,\"#9c179e\"],[0.4444444444444444,\"#bd3786\"],[0.5555555555555556,\"#d8576b\"],[0.6666666666666666,\"#ed7953\"],[0.7777777777777778,\"#fb9f3a\"],[0.8888888888888888,\"#fdca26\"],[1.0,\"#f0f921\"]]}],\"heatmap\":[{\"type\":\"heatmap\",\"colorbar\":{\"outlinewidth\":0,\"ticks\":\"\"},\"colorscale\":[[0.0,\"#0d0887\"],[0.1111111111111111,\"#46039f\"],[0.2222222222222222,\"#7201a8\"],[0.3333333333333333,\"#9c179e\"],[0.4444444444444444,\"#bd3786\"],[0.5555555555555556,\"#d8576b\"],[0.6666666666666666,\"#ed7953\"],[0.7777777777777778,\"#fb9f3a\"],[0.8888888888888888,\"#fdca26\"],[1.0,\"#f0f921\"]]}],\"heatmapgl\":[{\"type\":\"heatmapgl\",\"colorbar\":{\"outlinewidth\":0,\"ticks\":\"\"},\"colorscale\":[[0.0,\"#0d0887\"],[0.1111111111111111,\"#46039f\"],[0.2222222222222222,\"#7201a8\"],[0.3333333333333333,\"#9c179e\"],[0.4444444444444444,\"#bd3786\"],[0.5555555555555556,\"#d8576b\"],[0.6666666666666666,\"#ed7953\"],[0.7777777777777778,\"#fb9f3a\"],[0.8888888888888888,\"#fdca26\"],[1.0,\"#f0f921\"]]}],\"contourcarpet\":[{\"type\":\"contourcarpet\",\"colorbar\":{\"outlinewidth\":0,\"ticks\":\"\"}}],\"contour\":[{\"type\":\"contour\",\"colorbar\":{\"outlinewidth\":0,\"ticks\":\"\"},\"colorscale\":[[0.0,\"#0d0887\"],[0.1111111111111111,\"#46039f\"],[0.2222222222222222,\"#7201a8\"],[0.3333333333333333,\"#9c179e\"],[0.4444444444444444,\"#bd3786\"],[0.5555555555555556,\"#d8576b\"],[0.6666666666666666,\"#ed7953\"],[0.7777777777777778,\"#fb9f3a\"],[0.8888888888888888,\"#fdca26\"],[1.0,\"#f0f921\"]]}],\"surface\":[{\"type\":\"surface\",\"colorbar\":{\"outlinewidth\":0,\"ticks\":\"\"},\"colorscale\":[[0.0,\"#0d0887\"],[0.1111111111111111,\"#46039f\"],[0.2222222222222222,\"#7201a8\"],[0.3333333333333333,\"#9c179e\"],[0.4444444444444444,\"#bd3786\"],[0.5555555555555556,\"#d8576b\"],[0.6666666666666666,\"#ed7953\"],[0.7777777777777778,\"#fb9f3a\"],[0.8888888888888888,\"#fdca26\"],[1.0,\"#f0f921\"]]}],\"mesh3d\":[{\"type\":\"mesh3d\",\"colorbar\":{\"outlinewidth\":0,\"ticks\":\"\"}}],\"scatter\":[{\"marker\":{\"line\":{\"color\":\"#283442\"}},\"type\":\"scatter\"}],\"parcoords\":[{\"type\":\"parcoords\",\"line\":{\"colorbar\":{\"outlinewidth\":0,\"ticks\":\"\"}}}],\"scatterpolargl\":[{\"type\":\"scatterpolargl\",\"marker\":{\"colorbar\":{\"outlinewidth\":0,\"ticks\":\"\"}}}],\"bar\":[{\"error_x\":{\"color\":\"#f2f5fa\"},\"error_y\":{\"color\":\"#f2f5fa\"},\"marker\":{\"line\":{\"color\":\"rgb(17,17,17)\",\"width\":0.5},\"pattern\":{\"fillmode\":\"overlay\",\"size\":10,\"solidity\":0.2}},\"type\":\"bar\"}],\"scattergeo\":[{\"type\":\"scattergeo\",\"marker\":{\"colorbar\":{\"outlinewidth\":0,\"ticks\":\"\"}}}],\"scatterpolar\":[{\"type\":\"scatterpolar\",\"marker\":{\"colorbar\":{\"outlinewidth\":0,\"ticks\":\"\"}}}],\"histogram\":[{\"marker\":{\"pattern\":{\"fillmode\":\"overlay\",\"size\":10,\"solidity\":0.2}},\"type\":\"histogram\"}],\"scattergl\":[{\"marker\":{\"line\":{\"color\":\"#283442\"}},\"type\":\"scattergl\"}],\"scatter3d\":[{\"type\":\"scatter3d\",\"line\":{\"colorbar\":{\"outlinewidth\":0,\"ticks\":\"\"}},\"marker\":{\"colorbar\":{\"outlinewidth\":0,\"ticks\":\"\"}}}],\"scattermapbox\":[{\"type\":\"scattermapbox\",\"marker\":{\"colorbar\":{\"outlinewidth\":0,\"ticks\":\"\"}}}],\"scatterternary\":[{\"type\":\"scatterternary\",\"marker\":{\"colorbar\":{\"outlinewidth\":0,\"ticks\":\"\"}}}],\"scattercarpet\":[{\"type\":\"scattercarpet\",\"marker\":{\"colorbar\":{\"outlinewidth\":0,\"ticks\":\"\"}}}],\"carpet\":[{\"aaxis\":{\"endlinecolor\":\"#A2B1C6\",\"gridcolor\":\"#506784\",\"linecolor\":\"#506784\",\"minorgridcolor\":\"#506784\",\"startlinecolor\":\"#A2B1C6\"},\"baxis\":{\"endlinecolor\":\"#A2B1C6\",\"gridcolor\":\"#506784\",\"linecolor\":\"#506784\",\"minorgridcolor\":\"#506784\",\"startlinecolor\":\"#A2B1C6\"},\"type\":\"carpet\"}],\"table\":[{\"cells\":{\"fill\":{\"color\":\"#506784\"},\"line\":{\"color\":\"rgb(17,17,17)\"}},\"header\":{\"fill\":{\"color\":\"#2a3f5f\"},\"line\":{\"color\":\"rgb(17,17,17)\"}},\"type\":\"table\"}],\"barpolar\":[{\"marker\":{\"line\":{\"color\":\"rgb(17,17,17)\",\"width\":0.5},\"pattern\":{\"fillmode\":\"overlay\",\"size\":10,\"solidity\":0.2}},\"type\":\"barpolar\"}],\"pie\":[{\"automargin\":true,\"type\":\"pie\"}]},\"layout\":{\"autotypenumbers\":\"strict\",\"colorway\":[\"#636efa\",\"#EF553B\",\"#00cc96\",\"#ab63fa\",\"#FFA15A\",\"#19d3f3\",\"#FF6692\",\"#B6E880\",\"#FF97FF\",\"#FECB52\"],\"font\":{\"color\":\"#f2f5fa\"},\"hovermode\":\"closest\",\"hoverlabel\":{\"align\":\"left\"},\"paper_bgcolor\":\"rgb(17,17,17)\",\"plot_bgcolor\":\"rgb(17,17,17)\",\"polar\":{\"bgcolor\":\"rgb(17,17,17)\",\"angularaxis\":{\"gridcolor\":\"#506784\",\"linecolor\":\"#506784\",\"ticks\":\"\"},\"radialaxis\":{\"gridcolor\":\"#506784\",\"linecolor\":\"#506784\",\"ticks\":\"\"}},\"ternary\":{\"bgcolor\":\"rgb(17,17,17)\",\"aaxis\":{\"gridcolor\":\"#506784\",\"linecolor\":\"#506784\",\"ticks\":\"\"},\"baxis\":{\"gridcolor\":\"#506784\",\"linecolor\":\"#506784\",\"ticks\":\"\"},\"caxis\":{\"gridcolor\":\"#506784\",\"linecolor\":\"#506784\",\"ticks\":\"\"}},\"coloraxis\":{\"colorbar\":{\"outlinewidth\":0,\"ticks\":\"\"}},\"colorscale\":{\"sequential\":[[0.0,\"#0d0887\"],[0.1111111111111111,\"#46039f\"],[0.2222222222222222,\"#7201a8\"],[0.3333333333333333,\"#9c179e\"],[0.4444444444444444,\"#bd3786\"],[0.5555555555555556,\"#d8576b\"],[0.6666666666666666,\"#ed7953\"],[0.7777777777777778,\"#fb9f3a\"],[0.8888888888888888,\"#fdca26\"],[1.0,\"#f0f921\"]],\"sequentialminus\":[[0.0,\"#0d0887\"],[0.1111111111111111,\"#46039f\"],[0.2222222222222222,\"#7201a8\"],[0.3333333333333333,\"#9c179e\"],[0.4444444444444444,\"#bd3786\"],[0.5555555555555556,\"#d8576b\"],[0.6666666666666666,\"#ed7953\"],[0.7777777777777778,\"#fb9f3a\"],[0.8888888888888888,\"#fdca26\"],[1.0,\"#f0f921\"]],\"diverging\":[[0,\"#8e0152\"],[0.1,\"#c51b7d\"],[0.2,\"#de77ae\"],[0.3,\"#f1b6da\"],[0.4,\"#fde0ef\"],[0.5,\"#f7f7f7\"],[0.6,\"#e6f5d0\"],[0.7,\"#b8e186\"],[0.8,\"#7fbc41\"],[0.9,\"#4d9221\"],[1,\"#276419\"]]},\"xaxis\":{\"gridcolor\":\"#283442\",\"linecolor\":\"#506784\",\"ticks\":\"\",\"title\":{\"standoff\":15},\"zerolinecolor\":\"#283442\",\"automargin\":true,\"zerolinewidth\":2},\"yaxis\":{\"gridcolor\":\"#283442\",\"linecolor\":\"#506784\",\"ticks\":\"\",\"title\":{\"standoff\":15},\"zerolinecolor\":\"#283442\",\"automargin\":true,\"zerolinewidth\":2},\"scene\":{\"xaxis\":{\"backgroundcolor\":\"rgb(17,17,17)\",\"gridcolor\":\"#506784\",\"linecolor\":\"#506784\",\"showbackground\":true,\"ticks\":\"\",\"zerolinecolor\":\"#C8D4E3\",\"gridwidth\":2},\"yaxis\":{\"backgroundcolor\":\"rgb(17,17,17)\",\"gridcolor\":\"#506784\",\"linecolor\":\"#506784\",\"showbackground\":true,\"ticks\":\"\",\"zerolinecolor\":\"#C8D4E3\",\"gridwidth\":2},\"zaxis\":{\"backgroundcolor\":\"rgb(17,17,17)\",\"gridcolor\":\"#506784\",\"linecolor\":\"#506784\",\"showbackground\":true,\"ticks\":\"\",\"zerolinecolor\":\"#C8D4E3\",\"gridwidth\":2}},\"shapedefaults\":{\"line\":{\"color\":\"#f2f5fa\"}},\"annotationdefaults\":{\"arrowcolor\":\"#f2f5fa\",\"arrowhead\":0,\"arrowwidth\":1},\"geo\":{\"bgcolor\":\"rgb(17,17,17)\",\"landcolor\":\"rgb(17,17,17)\",\"subunitcolor\":\"#506784\",\"showland\":true,\"showlakes\":true,\"lakecolor\":\"rgb(17,17,17)\"},\"title\":{\"x\":0.05},\"updatemenudefaults\":{\"bgcolor\":\"#506784\",\"borderwidth\":0},\"sliderdefaults\":{\"bgcolor\":\"#C8D4E3\",\"borderwidth\":1,\"bordercolor\":\"rgb(17,17,17)\",\"tickwidth\":0},\"mapbox\":{\"style\":\"dark\"}}},\"xaxis\":{\"anchor\":\"y\",\"domain\":[0.0,1.0],\"title\":{\"text\":\"Time\"},\"showgrid\":true,\"gridcolor\":\"lightgray\",\"color\":\"white\"},\"yaxis\":{\"anchor\":\"x\",\"domain\":[0.0,1.0],\"title\":{\"text\":\"Machine\"},\"showgrid\":true,\"gridcolor\":\"lightgray\",\"color\":\"white\",\"categoryorder\":\"category ascending\"},\"legend\":{\"title\":{\"text\":\"Product\"},\"tracegroupgap\":0},\"title\":{\"text\":\"Job Shop Schedule\",\"font\":{\"color\":\"white\"}},\"barmode\":\"relative\",\"font\":{\"color\":\"white\"},\"plot_bgcolor\":\"black\",\"paper_bgcolor\":\"black\"},                        {\"responsive\": true}                    ).then(function(){\n",
       "                            \n",
       "var gd = document.getElementById('63673165-7066-4968-b70d-ef66731607ba');\n",
       "var x = new MutationObserver(function (mutations, observer) {{\n",
       "        var display = window.getComputedStyle(gd).display;\n",
       "        if (!display || display === 'none') {{\n",
       "            console.log([gd, 'removed!']);\n",
       "            Plotly.purge(gd);\n",
       "            observer.disconnect();\n",
       "        }}\n",
       "}});\n",
       "\n",
       "// Listen for the removal of the full notebook cells\n",
       "var notebookContainer = gd.closest('#notebook-container');\n",
       "if (notebookContainer) {{\n",
       "    x.observe(notebookContainer, {childList: true});\n",
       "}}\n",
       "\n",
       "// Listen for the clearing of the current output cell\n",
       "var outputEl = gd.closest('.output');\n",
       "if (outputEl) {{\n",
       "    x.observe(outputEl, {childList: true});\n",
       "}}\n",
       "\n",
       "                        })                };                });            </script>        </div>"
      ]
     },
     "metadata": {},
     "output_type": "display_data"
    }
   ],
   "execution_count": 44
  },
  {
   "metadata": {},
   "cell_type": "markdown",
   "source": "### Extension with time for switching Staubli head",
   "id": "8200570100244d86"
  },
  {
   "metadata": {
    "ExecuteTime": {
     "end_time": "2025-04-08T11:07:55.053244Z",
     "start_time": "2025-04-08T11:07:54.051590Z"
    }
   },
   "cell_type": "code",
   "source": [
    "model_ilp.restore_feasiblity(dict_job_start,model_ilp.get_info())\n",
    "for solver in ['ortools']:\n",
    "    start = time.time()\n",
    "    if model_ilp.solve(solver=solver,time_limit=60):\n",
    "        end = time.time()\n",
    "        print(f'Solving for {solver} with ILP formulation: {end-start} seconds and {model_ilp.get_makespan()} of makespan')\n",
    "    else:\n",
    "        print(f'Timeout reached for {solver} with ILP formulation')"
   ],
   "id": "2708ec7b72079f29",
   "outputs": [
    {
     "name": "stdout",
     "output_type": "stream",
     "text": [
      "Solving for ortools with ILP formulation: 0.99556565284729 seconds and 3344 of makespan\n"
     ]
    }
   ],
   "execution_count": 18
  },
  {
   "metadata": {
    "ExecuteTime": {
     "end_time": "2025-04-08T11:07:56.486421Z",
     "start_time": "2025-04-08T11:07:56.442807Z"
    }
   },
   "cell_type": "code",
   "source": [
    "jobs = model_ilp.get_jobs()\n",
    "info = model_ilp.get_info()\n",
    "start, duration = model_ilp.get_dv()\n",
    "to_show =  []\n",
    "dict_job_start = {}\n",
    "\n",
    "for index in range(len(start)):\n",
    "    dict_job_start[index] = start[index].value()\n",
    "\n",
    "for job,job_info in jobs.items():\n",
    "    subject = info[job_info['__id__']][0]\n",
    "    start_job = start[subject].value()\n",
    "    end_job = start[subject].value() + duration[subject].value()\n",
    "    resource = info[job_info['__id__']][1]\n",
    "    product = info[job_info['__id__']][2]\n",
    "    job_name = info[job_info['__id__']][4]\n",
    "    op_type_name = info[job_info['__id__']][3]\n",
    "    to_show.append(dict(Task = f'Task {subject}', Start= start_job,End = end_job, Resource = resource, Product = product, Name=job_name, Op_Type = op_type_name))\n",
    "\n",
    "# Convert the tasks to a DataFrame for easier manipulation\n",
    "df = pd.DataFrame(to_show)\n",
    "\n",
    "# Calculate the duration of each task\n",
    "df['Duration'] = df['End'] - df['Start']\n",
    "\n",
    "# Use px.bar to create the Gantt chart with item-based colors\n",
    "fig = px.bar(df, x='Duration', y='Resource', color='Product', orientation='h',\n",
    "             hover_data=['Start', 'End', 'Task','Name','Op_Type'], base='Start', title=\"Job Shop Schedule\")\n",
    "\n",
    "# Update the layout to set the background to black and adjust text/grid colors for visibility\n",
    "fig.update_layout(\n",
    "    plot_bgcolor='black',  # Set background color of the plot to black\n",
    "    paper_bgcolor='black',  # Set the overall figure background to black\n",
    "    xaxis=dict(showgrid=True, gridcolor='lightgray', title=\"Time\", color='white'),  # Set grid lines and label color to light for visibility\n",
    "    yaxis=dict(showgrid=True, gridcolor='lightgray', title=\"Machine\", color='white', categoryorder='category ascending'),  # Set grid and label color\n",
    "    font=dict(color='white'),  # Set general font color to white for readability\n",
    "    title_font=dict(color='white')  # Ensure the title font is also visible\n",
    ")\n",
    "\n",
    "fig.show()"
   ],
   "id": "9d4998dc9473a32f",
   "outputs": [
    {
     "data": {
      "application/vnd.plotly.v1+json": {
       "data": [
        {
         "alignmentgroup": "True",
         "base": [
          0,
          10,
          20,
          28,
          0,
          320,
          553,
          819,
          979,
          1075,
          1083,
          1093,
          28,
          28,
          320,
          61,
          553,
          512,
          979,
          705,
          1075
         ],
         "customdata": [
          [
           10,
           "Task 0",
           "1_16_0_0",
           "Default"
          ],
          [
           20,
           "Task 1",
           "1_16_0_1",
           "Default"
          ],
          [
           28,
           "Task 2",
           "1_16_0_2",
           "Default"
          ],
          [
           61,
           "Task 3",
           "1_16_0_3",
           "parallel gripper #2"
          ],
          [
           320,
           "Task 4",
           "1_16_0_4",
           "Default"
          ],
          [
           512,
           "Task 5",
           "1_16_0_5",
           "Screwdriver #2"
          ],
          [
           705,
           "Task 6",
           "1_16_0_6",
           "Vacuum gripper"
          ],
          [
           979,
           "Task 7",
           "1_16_0_7",
           "Default"
          ],
          [
           1075,
           "Task 8",
           "1_16_0_8",
           "Screwdriver #1"
          ],
          [
           1083,
           "Task 9",
           "1_16_0_9",
           "Default"
          ],
          [
           1093,
           "Task 10",
           "1_16_0_10",
           "Default"
          ],
          [
           1103,
           "Task 11",
           "1_16_0_11",
           "Default"
          ],
          [
           61,
           "Task 12",
           "warehouse_for_1_16_0_3",
           null
          ],
          [
           28,
           "Task 13",
           "filler_between_1_16_0_2_and_warehouse_for_1_16_0_3",
           null
          ],
          [
           512,
           "Task 14",
           "warehouse_for_1_16_0_5",
           null
          ],
          [
           320,
           "Task 15",
           "filler_between_warehouse_for_1_16_0_3_and_warehouse_for_1_16_0_5",
           null
          ],
          [
           705,
           "Task 16",
           "warehouse_for_1_16_0_6",
           null
          ],
          [
           553,
           "Task 17",
           "filler_between_warehouse_for_1_16_0_5_and_warehouse_for_1_16_0_6",
           null
          ],
          [
           1075,
           "Task 18",
           "warehouse_for_1_16_0_8",
           null
          ],
          [
           979,
           "Task 19",
           "filler_between_warehouse_for_1_16_0_6_and_warehouse_for_1_16_0_8",
           null
          ],
          [
           1075,
           "Task 20",
           "filler_between_warehouse_for_1_16_0_8_and_1_16_0_9",
           null
          ]
         ],
         "hovertemplate": "Product=1_16_0<br>Start=%{base}<br>Duration=%{x}<br>Resource=%{y}<br>End=%{customdata[0]}<br>Task=%{customdata[1]}<br>Name=%{customdata[2]}<br>Op_Type=%{customdata[3]}<extra></extra>",
         "legendgroup": "1_16_0",
         "marker": {
          "color": "#636efa",
          "pattern": {
           "shape": ""
          }
         },
         "name": "1_16_0",
         "offsetgroup": "1_16_0",
         "orientation": "h",
         "showlegend": true,
         "textposition": "auto",
         "x": [
          10,
          10,
          8,
          33,
          320,
          192,
          152,
          160,
          96,
          8,
          10,
          10,
          33,
          0,
          192,
          259,
          152,
          41,
          96,
          274,
          0
         ],
         "xaxis": "x",
         "y": [
          "Source_Source",
          "Cell_0_Transport",
          "Cell_0_Carrousel",
          "Cell_0_Staubli",
          "Cell_0_Binpick",
          "Cell_0_Staubli",
          "Cell_0_Staubli",
          "Cell_0_Binpick",
          "Cell_0_Staubli",
          "Cell_0_Carrousel",
          "Cell_0_Transport",
          "Sink_Sink",
          "Cell_0_Warehouse_0",
          "Cell_0_Warehouse_0",
          "Cell_0_Warehouse_0",
          "Cell_0_Warehouse_0",
          "Cell_0_Warehouse_0",
          "Cell_0_Warehouse_0",
          "Cell_0_Warehouse_0",
          "Cell_0_Warehouse_0",
          "Cell_0_Warehouse_0"
         ],
         "yaxis": "y",
         "type": "bar"
        },
        {
         "alignmentgroup": "True",
         "base": [
          1684,
          1694,
          1704,
          1753,
          1700,
          2020,
          2390,
          2730,
          2890,
          2986,
          2994,
          3004,
          1753,
          1712,
          2020,
          1786,
          2390,
          2212,
          2890,
          2542,
          2986
         ],
         "customdata": [
          [
           1694,
           "Task 21",
           "1_16_1_0",
           "Default"
          ],
          [
           1704,
           "Task 22",
           "1_16_1_1",
           "Default"
          ],
          [
           1712,
           "Task 23",
           "1_16_1_2",
           "Default"
          ],
          [
           1786,
           "Task 24",
           "1_16_1_3",
           "parallel gripper #2"
          ],
          [
           2020,
           "Task 25",
           "1_16_1_4",
           "Default"
          ],
          [
           2212,
           "Task 26",
           "1_16_1_5",
           "Screwdriver #2"
          ],
          [
           2542,
           "Task 27",
           "1_16_1_6",
           "Vacuum gripper"
          ],
          [
           2890,
           "Task 28",
           "1_16_1_7",
           "Default"
          ],
          [
           2986,
           "Task 29",
           "1_16_1_8",
           "Screwdriver #1"
          ],
          [
           2994,
           "Task 30",
           "1_16_1_9",
           "Default"
          ],
          [
           3004,
           "Task 31",
           "1_16_1_10",
           "Default"
          ],
          [
           3014,
           "Task 32",
           "1_16_1_11",
           "Default"
          ],
          [
           1786,
           "Task 33",
           "warehouse_for_1_16_1_3",
           null
          ],
          [
           1753,
           "Task 34",
           "filler_between_1_16_1_2_and_warehouse_for_1_16_1_3",
           null
          ],
          [
           2212,
           "Task 35",
           "warehouse_for_1_16_1_5",
           null
          ],
          [
           2020,
           "Task 36",
           "filler_between_warehouse_for_1_16_1_3_and_warehouse_for_1_16_1_5",
           null
          ],
          [
           2542,
           "Task 37",
           "warehouse_for_1_16_1_6",
           null
          ],
          [
           2390,
           "Task 38",
           "filler_between_warehouse_for_1_16_1_5_and_warehouse_for_1_16_1_6",
           null
          ],
          [
           2986,
           "Task 39",
           "warehouse_for_1_16_1_8",
           null
          ],
          [
           2890,
           "Task 40",
           "filler_between_warehouse_for_1_16_1_6_and_warehouse_for_1_16_1_8",
           null
          ],
          [
           2986,
           "Task 41",
           "filler_between_warehouse_for_1_16_1_8_and_1_16_1_9",
           null
          ]
         ],
         "hovertemplate": "Product=1_16_1<br>Start=%{base}<br>Duration=%{x}<br>Resource=%{y}<br>End=%{customdata[0]}<br>Task=%{customdata[1]}<br>Name=%{customdata[2]}<br>Op_Type=%{customdata[3]}<extra></extra>",
         "legendgroup": "1_16_1",
         "marker": {
          "color": "#EF553B",
          "pattern": {
           "shape": ""
          }
         },
         "name": "1_16_1",
         "offsetgroup": "1_16_1",
         "orientation": "h",
         "showlegend": true,
         "textposition": "auto",
         "x": [
          10,
          10,
          8,
          33,
          320,
          192,
          152,
          160,
          96,
          8,
          10,
          10,
          33,
          41,
          192,
          234,
          152,
          178,
          96,
          348,
          0
         ],
         "xaxis": "x",
         "y": [
          "Source_Source",
          "Cell_0_Transport",
          "Cell_0_Carrousel",
          "Cell_0_Staubli",
          "Cell_0_Binpick",
          "Cell_0_Staubli",
          "Cell_0_Staubli",
          "Cell_0_Binpick",
          "Cell_0_Staubli",
          "Cell_0_Carrousel",
          "Cell_0_Transport",
          "Sink_Sink",
          "Cell_0_Warehouse_1",
          "Cell_0_Warehouse_1",
          "Cell_0_Warehouse_1",
          "Cell_0_Warehouse_1",
          "Cell_0_Warehouse_1",
          "Cell_0_Warehouse_1",
          "Cell_0_Warehouse_1",
          "Cell_0_Warehouse_1",
          "Cell_0_Warehouse_1"
         ],
         "yaxis": "y",
         "type": "bar"
        },
        {
         "alignmentgroup": "True",
         "base": [
          2321,
          2331,
          2341,
          2583,
          2337,
          2657,
          3027,
          3060,
          3220,
          3316,
          3324,
          3334,
          2583,
          2349,
          2657,
          2616,
          3027,
          2849,
          3220,
          3179,
          3316
         ],
         "customdata": [
          [
           2331,
           "Task 42",
           "1_16_2_0",
           "Default"
          ],
          [
           2341,
           "Task 43",
           "1_16_2_1",
           "Default"
          ],
          [
           2349,
           "Task 44",
           "1_16_2_2",
           "Default"
          ],
          [
           2616,
           "Task 45",
           "1_16_2_3",
           "parallel gripper #2"
          ],
          [
           2657,
           "Task 46",
           "1_16_2_4",
           "Default"
          ],
          [
           2849,
           "Task 47",
           "1_16_2_5",
           "Screwdriver #2"
          ],
          [
           3179,
           "Task 48",
           "1_16_2_6",
           "Vacuum gripper"
          ],
          [
           3220,
           "Task 49",
           "1_16_2_7",
           "Default"
          ],
          [
           3316,
           "Task 50",
           "1_16_2_8",
           "Screwdriver #1"
          ],
          [
           3324,
           "Task 51",
           "1_16_2_9",
           "Default"
          ],
          [
           3334,
           "Task 52",
           "1_16_2_10",
           "Default"
          ],
          [
           3344,
           "Task 53",
           "1_16_2_11",
           "Default"
          ],
          [
           2616,
           "Task 54",
           "warehouse_for_1_16_2_3",
           null
          ],
          [
           2583,
           "Task 55",
           "filler_between_1_16_2_2_and_warehouse_for_1_16_2_3",
           null
          ],
          [
           2849,
           "Task 56",
           "warehouse_for_1_16_2_5",
           null
          ],
          [
           2657,
           "Task 57",
           "filler_between_warehouse_for_1_16_2_3_and_warehouse_for_1_16_2_5",
           null
          ],
          [
           3179,
           "Task 58",
           "warehouse_for_1_16_2_6",
           null
          ],
          [
           3027,
           "Task 59",
           "filler_between_warehouse_for_1_16_2_5_and_warehouse_for_1_16_2_6",
           null
          ],
          [
           3316,
           "Task 60",
           "warehouse_for_1_16_2_8",
           null
          ],
          [
           3220,
           "Task 61",
           "filler_between_warehouse_for_1_16_2_6_and_warehouse_for_1_16_2_8",
           null
          ],
          [
           3316,
           "Task 62",
           "filler_between_warehouse_for_1_16_2_8_and_1_16_2_9",
           null
          ]
         ],
         "hovertemplate": "Product=1_16_2<br>Start=%{base}<br>Duration=%{x}<br>Resource=%{y}<br>End=%{customdata[0]}<br>Task=%{customdata[1]}<br>Name=%{customdata[2]}<br>Op_Type=%{customdata[3]}<extra></extra>",
         "legendgroup": "1_16_2",
         "marker": {
          "color": "#00cc96",
          "pattern": {
           "shape": ""
          }
         },
         "name": "1_16_2",
         "offsetgroup": "1_16_2",
         "orientation": "h",
         "showlegend": true,
         "textposition": "auto",
         "x": [
          10,
          10,
          8,
          33,
          320,
          192,
          152,
          160,
          96,
          8,
          10,
          10,
          33,
          234,
          192,
          41,
          152,
          178,
          96,
          41,
          0
         ],
         "xaxis": "x",
         "y": [
          "Source_Source",
          "Cell_0_Transport",
          "Cell_0_Carrousel",
          "Cell_0_Staubli",
          "Cell_0_Binpick",
          "Cell_0_Staubli",
          "Cell_0_Staubli",
          "Cell_0_Binpick",
          "Cell_0_Staubli",
          "Cell_0_Carrousel",
          "Cell_0_Transport",
          "Sink_Sink",
          "Cell_0_Warehouse_0",
          "Cell_0_Warehouse_0",
          "Cell_0_Warehouse_0",
          "Cell_0_Warehouse_0",
          "Cell_0_Warehouse_0",
          "Cell_0_Warehouse_0",
          "Cell_0_Warehouse_0",
          "Cell_0_Warehouse_0",
          "Cell_0_Warehouse_0"
         ],
         "yaxis": "y",
         "type": "bar"
        },
        {
         "alignmentgroup": "True",
         "base": [
          1047,
          1057,
          1067,
          1116,
          1063,
          1383,
          1827,
          2093,
          2253,
          2349,
          2357,
          2367,
          1116,
          1075,
          1383,
          1149,
          1827,
          1575,
          2253,
          1979,
          2349
         ],
         "customdata": [
          [
           1057,
           "Task 63",
           "1_16_3_0",
           "Default"
          ],
          [
           1067,
           "Task 64",
           "1_16_3_1",
           "Default"
          ],
          [
           1075,
           "Task 65",
           "1_16_3_2",
           "Default"
          ],
          [
           1149,
           "Task 66",
           "1_16_3_3",
           "parallel gripper #2"
          ],
          [
           1383,
           "Task 67",
           "1_16_3_4",
           "Default"
          ],
          [
           1575,
           "Task 68",
           "1_16_3_5",
           "Screwdriver #2"
          ],
          [
           1979,
           "Task 69",
           "1_16_3_6",
           "Vacuum gripper"
          ],
          [
           2253,
           "Task 70",
           "1_16_3_7",
           "Default"
          ],
          [
           2349,
           "Task 71",
           "1_16_3_8",
           "Screwdriver #1"
          ],
          [
           2357,
           "Task 72",
           "1_16_3_9",
           "Default"
          ],
          [
           2367,
           "Task 73",
           "1_16_3_10",
           "Default"
          ],
          [
           2377,
           "Task 74",
           "1_16_3_11",
           "Default"
          ],
          [
           1149,
           "Task 75",
           "warehouse_for_1_16_3_3",
           null
          ],
          [
           1116,
           "Task 76",
           "filler_between_1_16_3_2_and_warehouse_for_1_16_3_3",
           null
          ],
          [
           1575,
           "Task 77",
           "warehouse_for_1_16_3_5",
           null
          ],
          [
           1383,
           "Task 78",
           "filler_between_warehouse_for_1_16_3_3_and_warehouse_for_1_16_3_5",
           null
          ],
          [
           1979,
           "Task 79",
           "warehouse_for_1_16_3_6",
           null
          ],
          [
           1827,
           "Task 80",
           "filler_between_warehouse_for_1_16_3_5_and_warehouse_for_1_16_3_6",
           null
          ],
          [
           2349,
           "Task 81",
           "warehouse_for_1_16_3_8",
           null
          ],
          [
           2253,
           "Task 82",
           "filler_between_warehouse_for_1_16_3_6_and_warehouse_for_1_16_3_8",
           null
          ],
          [
           2349,
           "Task 83",
           "filler_between_warehouse_for_1_16_3_8_and_1_16_3_9",
           null
          ]
         ],
         "hovertemplate": "Product=1_16_3<br>Start=%{base}<br>Duration=%{x}<br>Resource=%{y}<br>End=%{customdata[0]}<br>Task=%{customdata[1]}<br>Name=%{customdata[2]}<br>Op_Type=%{customdata[3]}<extra></extra>",
         "legendgroup": "1_16_3",
         "marker": {
          "color": "#ab63fa",
          "pattern": {
           "shape": ""
          }
         },
         "name": "1_16_3",
         "offsetgroup": "1_16_3",
         "orientation": "h",
         "showlegend": true,
         "textposition": "auto",
         "x": [
          10,
          10,
          8,
          33,
          320,
          192,
          152,
          160,
          96,
          8,
          10,
          10,
          33,
          41,
          192,
          234,
          152,
          252,
          96,
          274,
          0
         ],
         "xaxis": "x",
         "y": [
          "Source_Source",
          "Cell_0_Transport",
          "Cell_0_Carrousel",
          "Cell_0_Staubli",
          "Cell_0_Binpick",
          "Cell_0_Staubli",
          "Cell_0_Staubli",
          "Cell_0_Binpick",
          "Cell_0_Staubli",
          "Cell_0_Carrousel",
          "Cell_0_Transport",
          "Sink_Sink",
          "Cell_0_Warehouse_0",
          "Cell_0_Warehouse_0",
          "Cell_0_Warehouse_0",
          "Cell_0_Warehouse_0",
          "Cell_0_Warehouse_0",
          "Cell_0_Warehouse_0",
          "Cell_0_Warehouse_0",
          "Cell_0_Warehouse_0",
          "Cell_0_Warehouse_0"
         ],
         "yaxis": "y",
         "type": "bar"
        },
        {
         "alignmentgroup": "True",
         "base": [
          10,
          20,
          30,
          61,
          426,
          746,
          1190,
          1456,
          1616,
          1712,
          1720,
          1730,
          61,
          38,
          746,
          94,
          1190,
          938,
          1616,
          1342,
          1712
         ],
         "customdata": [
          [
           20,
           "Task 84",
           "1_16_4_0",
           "Default"
          ],
          [
           30,
           "Task 85",
           "1_16_4_1",
           "Default"
          ],
          [
           38,
           "Task 86",
           "1_16_4_2",
           "Default"
          ],
          [
           94,
           "Task 87",
           "1_16_4_3",
           "parallel gripper #2"
          ],
          [
           746,
           "Task 88",
           "1_16_4_4",
           "Default"
          ],
          [
           938,
           "Task 89",
           "1_16_4_5",
           "Screwdriver #2"
          ],
          [
           1342,
           "Task 90",
           "1_16_4_6",
           "Vacuum gripper"
          ],
          [
           1616,
           "Task 91",
           "1_16_4_7",
           "Default"
          ],
          [
           1712,
           "Task 92",
           "1_16_4_8",
           "Screwdriver #1"
          ],
          [
           1720,
           "Task 93",
           "1_16_4_9",
           "Default"
          ],
          [
           1730,
           "Task 94",
           "1_16_4_10",
           "Default"
          ],
          [
           1740,
           "Task 95",
           "1_16_4_11",
           "Default"
          ],
          [
           94,
           "Task 96",
           "warehouse_for_1_16_4_3",
           null
          ],
          [
           61,
           "Task 97",
           "filler_between_1_16_4_2_and_warehouse_for_1_16_4_3",
           null
          ],
          [
           938,
           "Task 98",
           "warehouse_for_1_16_4_5",
           null
          ],
          [
           746,
           "Task 99",
           "filler_between_warehouse_for_1_16_4_3_and_warehouse_for_1_16_4_5",
           null
          ],
          [
           1342,
           "Task 100",
           "warehouse_for_1_16_4_6",
           null
          ],
          [
           1190,
           "Task 101",
           "filler_between_warehouse_for_1_16_4_5_and_warehouse_for_1_16_4_6",
           null
          ],
          [
           1712,
           "Task 102",
           "warehouse_for_1_16_4_8",
           null
          ],
          [
           1616,
           "Task 103",
           "filler_between_warehouse_for_1_16_4_6_and_warehouse_for_1_16_4_8",
           null
          ],
          [
           1712,
           "Task 104",
           "filler_between_warehouse_for_1_16_4_8_and_1_16_4_9",
           null
          ]
         ],
         "hovertemplate": "Product=1_16_4<br>Start=%{base}<br>Duration=%{x}<br>Resource=%{y}<br>End=%{customdata[0]}<br>Task=%{customdata[1]}<br>Name=%{customdata[2]}<br>Op_Type=%{customdata[3]}<extra></extra>",
         "legendgroup": "1_16_4",
         "marker": {
          "color": "#FFA15A",
          "pattern": {
           "shape": ""
          }
         },
         "name": "1_16_4",
         "offsetgroup": "1_16_4",
         "orientation": "h",
         "showlegend": true,
         "textposition": "auto",
         "x": [
          10,
          10,
          8,
          33,
          320,
          192,
          152,
          160,
          96,
          8,
          10,
          10,
          33,
          23,
          192,
          652,
          152,
          252,
          96,
          274,
          0
         ],
         "xaxis": "x",
         "y": [
          "Source_Source",
          "Cell_0_Transport",
          "Cell_0_Carrousel",
          "Cell_0_Staubli",
          "Cell_0_Binpick",
          "Cell_0_Staubli",
          "Cell_0_Staubli",
          "Cell_0_Binpick",
          "Cell_0_Staubli",
          "Cell_0_Carrousel",
          "Cell_0_Transport",
          "Sink_Sink",
          "Cell_0_Warehouse_1",
          "Cell_0_Warehouse_1",
          "Cell_0_Warehouse_1",
          "Cell_0_Warehouse_1",
          "Cell_0_Warehouse_1",
          "Cell_0_Warehouse_1",
          "Cell_0_Warehouse_1",
          "Cell_0_Warehouse_1",
          "Cell_0_Warehouse_1"
         ],
         "yaxis": "y",
         "type": "bar"
        }
       ],
       "layout": {
        "template": {
         "data": {
          "histogram2dcontour": [
           {
            "type": "histogram2dcontour",
            "colorbar": {
             "outlinewidth": 0,
             "ticks": ""
            },
            "colorscale": [
             [
              0.0,
              "#0d0887"
             ],
             [
              0.1111111111111111,
              "#46039f"
             ],
             [
              0.2222222222222222,
              "#7201a8"
             ],
             [
              0.3333333333333333,
              "#9c179e"
             ],
             [
              0.4444444444444444,
              "#bd3786"
             ],
             [
              0.5555555555555556,
              "#d8576b"
             ],
             [
              0.6666666666666666,
              "#ed7953"
             ],
             [
              0.7777777777777778,
              "#fb9f3a"
             ],
             [
              0.8888888888888888,
              "#fdca26"
             ],
             [
              1.0,
              "#f0f921"
             ]
            ]
           }
          ],
          "choropleth": [
           {
            "type": "choropleth",
            "colorbar": {
             "outlinewidth": 0,
             "ticks": ""
            }
           }
          ],
          "histogram2d": [
           {
            "type": "histogram2d",
            "colorbar": {
             "outlinewidth": 0,
             "ticks": ""
            },
            "colorscale": [
             [
              0.0,
              "#0d0887"
             ],
             [
              0.1111111111111111,
              "#46039f"
             ],
             [
              0.2222222222222222,
              "#7201a8"
             ],
             [
              0.3333333333333333,
              "#9c179e"
             ],
             [
              0.4444444444444444,
              "#bd3786"
             ],
             [
              0.5555555555555556,
              "#d8576b"
             ],
             [
              0.6666666666666666,
              "#ed7953"
             ],
             [
              0.7777777777777778,
              "#fb9f3a"
             ],
             [
              0.8888888888888888,
              "#fdca26"
             ],
             [
              1.0,
              "#f0f921"
             ]
            ]
           }
          ],
          "heatmap": [
           {
            "type": "heatmap",
            "colorbar": {
             "outlinewidth": 0,
             "ticks": ""
            },
            "colorscale": [
             [
              0.0,
              "#0d0887"
             ],
             [
              0.1111111111111111,
              "#46039f"
             ],
             [
              0.2222222222222222,
              "#7201a8"
             ],
             [
              0.3333333333333333,
              "#9c179e"
             ],
             [
              0.4444444444444444,
              "#bd3786"
             ],
             [
              0.5555555555555556,
              "#d8576b"
             ],
             [
              0.6666666666666666,
              "#ed7953"
             ],
             [
              0.7777777777777778,
              "#fb9f3a"
             ],
             [
              0.8888888888888888,
              "#fdca26"
             ],
             [
              1.0,
              "#f0f921"
             ]
            ]
           }
          ],
          "heatmapgl": [
           {
            "type": "heatmapgl",
            "colorbar": {
             "outlinewidth": 0,
             "ticks": ""
            },
            "colorscale": [
             [
              0.0,
              "#0d0887"
             ],
             [
              0.1111111111111111,
              "#46039f"
             ],
             [
              0.2222222222222222,
              "#7201a8"
             ],
             [
              0.3333333333333333,
              "#9c179e"
             ],
             [
              0.4444444444444444,
              "#bd3786"
             ],
             [
              0.5555555555555556,
              "#d8576b"
             ],
             [
              0.6666666666666666,
              "#ed7953"
             ],
             [
              0.7777777777777778,
              "#fb9f3a"
             ],
             [
              0.8888888888888888,
              "#fdca26"
             ],
             [
              1.0,
              "#f0f921"
             ]
            ]
           }
          ],
          "contourcarpet": [
           {
            "type": "contourcarpet",
            "colorbar": {
             "outlinewidth": 0,
             "ticks": ""
            }
           }
          ],
          "contour": [
           {
            "type": "contour",
            "colorbar": {
             "outlinewidth": 0,
             "ticks": ""
            },
            "colorscale": [
             [
              0.0,
              "#0d0887"
             ],
             [
              0.1111111111111111,
              "#46039f"
             ],
             [
              0.2222222222222222,
              "#7201a8"
             ],
             [
              0.3333333333333333,
              "#9c179e"
             ],
             [
              0.4444444444444444,
              "#bd3786"
             ],
             [
              0.5555555555555556,
              "#d8576b"
             ],
             [
              0.6666666666666666,
              "#ed7953"
             ],
             [
              0.7777777777777778,
              "#fb9f3a"
             ],
             [
              0.8888888888888888,
              "#fdca26"
             ],
             [
              1.0,
              "#f0f921"
             ]
            ]
           }
          ],
          "surface": [
           {
            "type": "surface",
            "colorbar": {
             "outlinewidth": 0,
             "ticks": ""
            },
            "colorscale": [
             [
              0.0,
              "#0d0887"
             ],
             [
              0.1111111111111111,
              "#46039f"
             ],
             [
              0.2222222222222222,
              "#7201a8"
             ],
             [
              0.3333333333333333,
              "#9c179e"
             ],
             [
              0.4444444444444444,
              "#bd3786"
             ],
             [
              0.5555555555555556,
              "#d8576b"
             ],
             [
              0.6666666666666666,
              "#ed7953"
             ],
             [
              0.7777777777777778,
              "#fb9f3a"
             ],
             [
              0.8888888888888888,
              "#fdca26"
             ],
             [
              1.0,
              "#f0f921"
             ]
            ]
           }
          ],
          "mesh3d": [
           {
            "type": "mesh3d",
            "colorbar": {
             "outlinewidth": 0,
             "ticks": ""
            }
           }
          ],
          "scatter": [
           {
            "marker": {
             "line": {
              "color": "#283442"
             }
            },
            "type": "scatter"
           }
          ],
          "parcoords": [
           {
            "type": "parcoords",
            "line": {
             "colorbar": {
              "outlinewidth": 0,
              "ticks": ""
             }
            }
           }
          ],
          "scatterpolargl": [
           {
            "type": "scatterpolargl",
            "marker": {
             "colorbar": {
              "outlinewidth": 0,
              "ticks": ""
             }
            }
           }
          ],
          "bar": [
           {
            "error_x": {
             "color": "#f2f5fa"
            },
            "error_y": {
             "color": "#f2f5fa"
            },
            "marker": {
             "line": {
              "color": "rgb(17,17,17)",
              "width": 0.5
             },
             "pattern": {
              "fillmode": "overlay",
              "size": 10,
              "solidity": 0.2
             }
            },
            "type": "bar"
           }
          ],
          "scattergeo": [
           {
            "type": "scattergeo",
            "marker": {
             "colorbar": {
              "outlinewidth": 0,
              "ticks": ""
             }
            }
           }
          ],
          "scatterpolar": [
           {
            "type": "scatterpolar",
            "marker": {
             "colorbar": {
              "outlinewidth": 0,
              "ticks": ""
             }
            }
           }
          ],
          "histogram": [
           {
            "marker": {
             "pattern": {
              "fillmode": "overlay",
              "size": 10,
              "solidity": 0.2
             }
            },
            "type": "histogram"
           }
          ],
          "scattergl": [
           {
            "marker": {
             "line": {
              "color": "#283442"
             }
            },
            "type": "scattergl"
           }
          ],
          "scatter3d": [
           {
            "type": "scatter3d",
            "line": {
             "colorbar": {
              "outlinewidth": 0,
              "ticks": ""
             }
            },
            "marker": {
             "colorbar": {
              "outlinewidth": 0,
              "ticks": ""
             }
            }
           }
          ],
          "scattermapbox": [
           {
            "type": "scattermapbox",
            "marker": {
             "colorbar": {
              "outlinewidth": 0,
              "ticks": ""
             }
            }
           }
          ],
          "scatterternary": [
           {
            "type": "scatterternary",
            "marker": {
             "colorbar": {
              "outlinewidth": 0,
              "ticks": ""
             }
            }
           }
          ],
          "scattercarpet": [
           {
            "type": "scattercarpet",
            "marker": {
             "colorbar": {
              "outlinewidth": 0,
              "ticks": ""
             }
            }
           }
          ],
          "carpet": [
           {
            "aaxis": {
             "endlinecolor": "#A2B1C6",
             "gridcolor": "#506784",
             "linecolor": "#506784",
             "minorgridcolor": "#506784",
             "startlinecolor": "#A2B1C6"
            },
            "baxis": {
             "endlinecolor": "#A2B1C6",
             "gridcolor": "#506784",
             "linecolor": "#506784",
             "minorgridcolor": "#506784",
             "startlinecolor": "#A2B1C6"
            },
            "type": "carpet"
           }
          ],
          "table": [
           {
            "cells": {
             "fill": {
              "color": "#506784"
             },
             "line": {
              "color": "rgb(17,17,17)"
             }
            },
            "header": {
             "fill": {
              "color": "#2a3f5f"
             },
             "line": {
              "color": "rgb(17,17,17)"
             }
            },
            "type": "table"
           }
          ],
          "barpolar": [
           {
            "marker": {
             "line": {
              "color": "rgb(17,17,17)",
              "width": 0.5
             },
             "pattern": {
              "fillmode": "overlay",
              "size": 10,
              "solidity": 0.2
             }
            },
            "type": "barpolar"
           }
          ],
          "pie": [
           {
            "automargin": true,
            "type": "pie"
           }
          ]
         },
         "layout": {
          "autotypenumbers": "strict",
          "colorway": [
           "#636efa",
           "#EF553B",
           "#00cc96",
           "#ab63fa",
           "#FFA15A",
           "#19d3f3",
           "#FF6692",
           "#B6E880",
           "#FF97FF",
           "#FECB52"
          ],
          "font": {
           "color": "#f2f5fa"
          },
          "hovermode": "closest",
          "hoverlabel": {
           "align": "left"
          },
          "paper_bgcolor": "rgb(17,17,17)",
          "plot_bgcolor": "rgb(17,17,17)",
          "polar": {
           "bgcolor": "rgb(17,17,17)",
           "angularaxis": {
            "gridcolor": "#506784",
            "linecolor": "#506784",
            "ticks": ""
           },
           "radialaxis": {
            "gridcolor": "#506784",
            "linecolor": "#506784",
            "ticks": ""
           }
          },
          "ternary": {
           "bgcolor": "rgb(17,17,17)",
           "aaxis": {
            "gridcolor": "#506784",
            "linecolor": "#506784",
            "ticks": ""
           },
           "baxis": {
            "gridcolor": "#506784",
            "linecolor": "#506784",
            "ticks": ""
           },
           "caxis": {
            "gridcolor": "#506784",
            "linecolor": "#506784",
            "ticks": ""
           }
          },
          "coloraxis": {
           "colorbar": {
            "outlinewidth": 0,
            "ticks": ""
           }
          },
          "colorscale": {
           "sequential": [
            [
             0.0,
             "#0d0887"
            ],
            [
             0.1111111111111111,
             "#46039f"
            ],
            [
             0.2222222222222222,
             "#7201a8"
            ],
            [
             0.3333333333333333,
             "#9c179e"
            ],
            [
             0.4444444444444444,
             "#bd3786"
            ],
            [
             0.5555555555555556,
             "#d8576b"
            ],
            [
             0.6666666666666666,
             "#ed7953"
            ],
            [
             0.7777777777777778,
             "#fb9f3a"
            ],
            [
             0.8888888888888888,
             "#fdca26"
            ],
            [
             1.0,
             "#f0f921"
            ]
           ],
           "sequentialminus": [
            [
             0.0,
             "#0d0887"
            ],
            [
             0.1111111111111111,
             "#46039f"
            ],
            [
             0.2222222222222222,
             "#7201a8"
            ],
            [
             0.3333333333333333,
             "#9c179e"
            ],
            [
             0.4444444444444444,
             "#bd3786"
            ],
            [
             0.5555555555555556,
             "#d8576b"
            ],
            [
             0.6666666666666666,
             "#ed7953"
            ],
            [
             0.7777777777777778,
             "#fb9f3a"
            ],
            [
             0.8888888888888888,
             "#fdca26"
            ],
            [
             1.0,
             "#f0f921"
            ]
           ],
           "diverging": [
            [
             0,
             "#8e0152"
            ],
            [
             0.1,
             "#c51b7d"
            ],
            [
             0.2,
             "#de77ae"
            ],
            [
             0.3,
             "#f1b6da"
            ],
            [
             0.4,
             "#fde0ef"
            ],
            [
             0.5,
             "#f7f7f7"
            ],
            [
             0.6,
             "#e6f5d0"
            ],
            [
             0.7,
             "#b8e186"
            ],
            [
             0.8,
             "#7fbc41"
            ],
            [
             0.9,
             "#4d9221"
            ],
            [
             1,
             "#276419"
            ]
           ]
          },
          "xaxis": {
           "gridcolor": "#283442",
           "linecolor": "#506784",
           "ticks": "",
           "title": {
            "standoff": 15
           },
           "zerolinecolor": "#283442",
           "automargin": true,
           "zerolinewidth": 2
          },
          "yaxis": {
           "gridcolor": "#283442",
           "linecolor": "#506784",
           "ticks": "",
           "title": {
            "standoff": 15
           },
           "zerolinecolor": "#283442",
           "automargin": true,
           "zerolinewidth": 2
          },
          "scene": {
           "xaxis": {
            "backgroundcolor": "rgb(17,17,17)",
            "gridcolor": "#506784",
            "linecolor": "#506784",
            "showbackground": true,
            "ticks": "",
            "zerolinecolor": "#C8D4E3",
            "gridwidth": 2
           },
           "yaxis": {
            "backgroundcolor": "rgb(17,17,17)",
            "gridcolor": "#506784",
            "linecolor": "#506784",
            "showbackground": true,
            "ticks": "",
            "zerolinecolor": "#C8D4E3",
            "gridwidth": 2
           },
           "zaxis": {
            "backgroundcolor": "rgb(17,17,17)",
            "gridcolor": "#506784",
            "linecolor": "#506784",
            "showbackground": true,
            "ticks": "",
            "zerolinecolor": "#C8D4E3",
            "gridwidth": 2
           }
          },
          "shapedefaults": {
           "line": {
            "color": "#f2f5fa"
           }
          },
          "annotationdefaults": {
           "arrowcolor": "#f2f5fa",
           "arrowhead": 0,
           "arrowwidth": 1
          },
          "geo": {
           "bgcolor": "rgb(17,17,17)",
           "landcolor": "rgb(17,17,17)",
           "subunitcolor": "#506784",
           "showland": true,
           "showlakes": true,
           "lakecolor": "rgb(17,17,17)"
          },
          "title": {
           "x": 0.05
          },
          "updatemenudefaults": {
           "bgcolor": "#506784",
           "borderwidth": 0
          },
          "sliderdefaults": {
           "bgcolor": "#C8D4E3",
           "borderwidth": 1,
           "bordercolor": "rgb(17,17,17)",
           "tickwidth": 0
          },
          "mapbox": {
           "style": "dark"
          }
         }
        },
        "xaxis": {
         "anchor": "y",
         "domain": [
          0.0,
          1.0
         ],
         "title": {
          "text": "Time"
         },
         "showgrid": true,
         "gridcolor": "lightgray",
         "color": "white"
        },
        "yaxis": {
         "anchor": "x",
         "domain": [
          0.0,
          1.0
         ],
         "title": {
          "text": "Machine"
         },
         "showgrid": true,
         "gridcolor": "lightgray",
         "color": "white",
         "categoryorder": "category ascending"
        },
        "legend": {
         "title": {
          "text": "Product"
         },
         "tracegroupgap": 0
        },
        "title": {
         "text": "Job Shop Schedule",
         "font": {
          "color": "white"
         }
        },
        "barmode": "relative",
        "font": {
         "color": "white"
        },
        "plot_bgcolor": "black",
        "paper_bgcolor": "black"
       },
       "config": {
        "plotlyServerURL": "https://plot.ly"
       }
      },
      "text/html": [
       "<div>                            <div id=\"95bc3ba7-bc29-4b6a-bdde-1cce4d458b2a\" class=\"plotly-graph-div\" style=\"height:525px; width:100%;\"></div>            <script type=\"text/javascript\">                require([\"plotly\"], function(Plotly) {                    window.PLOTLYENV=window.PLOTLYENV || {};                                    if (document.getElementById(\"95bc3ba7-bc29-4b6a-bdde-1cce4d458b2a\")) {                    Plotly.newPlot(                        \"95bc3ba7-bc29-4b6a-bdde-1cce4d458b2a\",                        [{\"alignmentgroup\":\"True\",\"base\":[0,10,20,28,0,320,553,819,979,1075,1083,1093,28,28,320,61,553,512,979,705,1075],\"customdata\":[[10,\"Task 0\",\"1_16_0_0\",\"Default\"],[20,\"Task 1\",\"1_16_0_1\",\"Default\"],[28,\"Task 2\",\"1_16_0_2\",\"Default\"],[61,\"Task 3\",\"1_16_0_3\",\"parallel gripper #2\"],[320,\"Task 4\",\"1_16_0_4\",\"Default\"],[512,\"Task 5\",\"1_16_0_5\",\"Screwdriver #2\"],[705,\"Task 6\",\"1_16_0_6\",\"Vacuum gripper\"],[979,\"Task 7\",\"1_16_0_7\",\"Default\"],[1075,\"Task 8\",\"1_16_0_8\",\"Screwdriver #1\"],[1083,\"Task 9\",\"1_16_0_9\",\"Default\"],[1093,\"Task 10\",\"1_16_0_10\",\"Default\"],[1103,\"Task 11\",\"1_16_0_11\",\"Default\"],[61,\"Task 12\",\"warehouse_for_1_16_0_3\",null],[28,\"Task 13\",\"filler_between_1_16_0_2_and_warehouse_for_1_16_0_3\",null],[512,\"Task 14\",\"warehouse_for_1_16_0_5\",null],[320,\"Task 15\",\"filler_between_warehouse_for_1_16_0_3_and_warehouse_for_1_16_0_5\",null],[705,\"Task 16\",\"warehouse_for_1_16_0_6\",null],[553,\"Task 17\",\"filler_between_warehouse_for_1_16_0_5_and_warehouse_for_1_16_0_6\",null],[1075,\"Task 18\",\"warehouse_for_1_16_0_8\",null],[979,\"Task 19\",\"filler_between_warehouse_for_1_16_0_6_and_warehouse_for_1_16_0_8\",null],[1075,\"Task 20\",\"filler_between_warehouse_for_1_16_0_8_and_1_16_0_9\",null]],\"hovertemplate\":\"Product=1_16_0\\u003cbr\\u003eStart=%{base}\\u003cbr\\u003eDuration=%{x}\\u003cbr\\u003eResource=%{y}\\u003cbr\\u003eEnd=%{customdata[0]}\\u003cbr\\u003eTask=%{customdata[1]}\\u003cbr\\u003eName=%{customdata[2]}\\u003cbr\\u003eOp_Type=%{customdata[3]}\\u003cextra\\u003e\\u003c\\u002fextra\\u003e\",\"legendgroup\":\"1_16_0\",\"marker\":{\"color\":\"#636efa\",\"pattern\":{\"shape\":\"\"}},\"name\":\"1_16_0\",\"offsetgroup\":\"1_16_0\",\"orientation\":\"h\",\"showlegend\":true,\"textposition\":\"auto\",\"x\":[10,10,8,33,320,192,152,160,96,8,10,10,33,0,192,259,152,41,96,274,0],\"xaxis\":\"x\",\"y\":[\"Source_Source\",\"Cell_0_Transport\",\"Cell_0_Carrousel\",\"Cell_0_Staubli\",\"Cell_0_Binpick\",\"Cell_0_Staubli\",\"Cell_0_Staubli\",\"Cell_0_Binpick\",\"Cell_0_Staubli\",\"Cell_0_Carrousel\",\"Cell_0_Transport\",\"Sink_Sink\",\"Cell_0_Warehouse_0\",\"Cell_0_Warehouse_0\",\"Cell_0_Warehouse_0\",\"Cell_0_Warehouse_0\",\"Cell_0_Warehouse_0\",\"Cell_0_Warehouse_0\",\"Cell_0_Warehouse_0\",\"Cell_0_Warehouse_0\",\"Cell_0_Warehouse_0\"],\"yaxis\":\"y\",\"type\":\"bar\"},{\"alignmentgroup\":\"True\",\"base\":[1684,1694,1704,1753,1700,2020,2390,2730,2890,2986,2994,3004,1753,1712,2020,1786,2390,2212,2890,2542,2986],\"customdata\":[[1694,\"Task 21\",\"1_16_1_0\",\"Default\"],[1704,\"Task 22\",\"1_16_1_1\",\"Default\"],[1712,\"Task 23\",\"1_16_1_2\",\"Default\"],[1786,\"Task 24\",\"1_16_1_3\",\"parallel gripper #2\"],[2020,\"Task 25\",\"1_16_1_4\",\"Default\"],[2212,\"Task 26\",\"1_16_1_5\",\"Screwdriver #2\"],[2542,\"Task 27\",\"1_16_1_6\",\"Vacuum gripper\"],[2890,\"Task 28\",\"1_16_1_7\",\"Default\"],[2986,\"Task 29\",\"1_16_1_8\",\"Screwdriver #1\"],[2994,\"Task 30\",\"1_16_1_9\",\"Default\"],[3004,\"Task 31\",\"1_16_1_10\",\"Default\"],[3014,\"Task 32\",\"1_16_1_11\",\"Default\"],[1786,\"Task 33\",\"warehouse_for_1_16_1_3\",null],[1753,\"Task 34\",\"filler_between_1_16_1_2_and_warehouse_for_1_16_1_3\",null],[2212,\"Task 35\",\"warehouse_for_1_16_1_5\",null],[2020,\"Task 36\",\"filler_between_warehouse_for_1_16_1_3_and_warehouse_for_1_16_1_5\",null],[2542,\"Task 37\",\"warehouse_for_1_16_1_6\",null],[2390,\"Task 38\",\"filler_between_warehouse_for_1_16_1_5_and_warehouse_for_1_16_1_6\",null],[2986,\"Task 39\",\"warehouse_for_1_16_1_8\",null],[2890,\"Task 40\",\"filler_between_warehouse_for_1_16_1_6_and_warehouse_for_1_16_1_8\",null],[2986,\"Task 41\",\"filler_between_warehouse_for_1_16_1_8_and_1_16_1_9\",null]],\"hovertemplate\":\"Product=1_16_1\\u003cbr\\u003eStart=%{base}\\u003cbr\\u003eDuration=%{x}\\u003cbr\\u003eResource=%{y}\\u003cbr\\u003eEnd=%{customdata[0]}\\u003cbr\\u003eTask=%{customdata[1]}\\u003cbr\\u003eName=%{customdata[2]}\\u003cbr\\u003eOp_Type=%{customdata[3]}\\u003cextra\\u003e\\u003c\\u002fextra\\u003e\",\"legendgroup\":\"1_16_1\",\"marker\":{\"color\":\"#EF553B\",\"pattern\":{\"shape\":\"\"}},\"name\":\"1_16_1\",\"offsetgroup\":\"1_16_1\",\"orientation\":\"h\",\"showlegend\":true,\"textposition\":\"auto\",\"x\":[10,10,8,33,320,192,152,160,96,8,10,10,33,41,192,234,152,178,96,348,0],\"xaxis\":\"x\",\"y\":[\"Source_Source\",\"Cell_0_Transport\",\"Cell_0_Carrousel\",\"Cell_0_Staubli\",\"Cell_0_Binpick\",\"Cell_0_Staubli\",\"Cell_0_Staubli\",\"Cell_0_Binpick\",\"Cell_0_Staubli\",\"Cell_0_Carrousel\",\"Cell_0_Transport\",\"Sink_Sink\",\"Cell_0_Warehouse_1\",\"Cell_0_Warehouse_1\",\"Cell_0_Warehouse_1\",\"Cell_0_Warehouse_1\",\"Cell_0_Warehouse_1\",\"Cell_0_Warehouse_1\",\"Cell_0_Warehouse_1\",\"Cell_0_Warehouse_1\",\"Cell_0_Warehouse_1\"],\"yaxis\":\"y\",\"type\":\"bar\"},{\"alignmentgroup\":\"True\",\"base\":[2321,2331,2341,2583,2337,2657,3027,3060,3220,3316,3324,3334,2583,2349,2657,2616,3027,2849,3220,3179,3316],\"customdata\":[[2331,\"Task 42\",\"1_16_2_0\",\"Default\"],[2341,\"Task 43\",\"1_16_2_1\",\"Default\"],[2349,\"Task 44\",\"1_16_2_2\",\"Default\"],[2616,\"Task 45\",\"1_16_2_3\",\"parallel gripper #2\"],[2657,\"Task 46\",\"1_16_2_4\",\"Default\"],[2849,\"Task 47\",\"1_16_2_5\",\"Screwdriver #2\"],[3179,\"Task 48\",\"1_16_2_6\",\"Vacuum gripper\"],[3220,\"Task 49\",\"1_16_2_7\",\"Default\"],[3316,\"Task 50\",\"1_16_2_8\",\"Screwdriver #1\"],[3324,\"Task 51\",\"1_16_2_9\",\"Default\"],[3334,\"Task 52\",\"1_16_2_10\",\"Default\"],[3344,\"Task 53\",\"1_16_2_11\",\"Default\"],[2616,\"Task 54\",\"warehouse_for_1_16_2_3\",null],[2583,\"Task 55\",\"filler_between_1_16_2_2_and_warehouse_for_1_16_2_3\",null],[2849,\"Task 56\",\"warehouse_for_1_16_2_5\",null],[2657,\"Task 57\",\"filler_between_warehouse_for_1_16_2_3_and_warehouse_for_1_16_2_5\",null],[3179,\"Task 58\",\"warehouse_for_1_16_2_6\",null],[3027,\"Task 59\",\"filler_between_warehouse_for_1_16_2_5_and_warehouse_for_1_16_2_6\",null],[3316,\"Task 60\",\"warehouse_for_1_16_2_8\",null],[3220,\"Task 61\",\"filler_between_warehouse_for_1_16_2_6_and_warehouse_for_1_16_2_8\",null],[3316,\"Task 62\",\"filler_between_warehouse_for_1_16_2_8_and_1_16_2_9\",null]],\"hovertemplate\":\"Product=1_16_2\\u003cbr\\u003eStart=%{base}\\u003cbr\\u003eDuration=%{x}\\u003cbr\\u003eResource=%{y}\\u003cbr\\u003eEnd=%{customdata[0]}\\u003cbr\\u003eTask=%{customdata[1]}\\u003cbr\\u003eName=%{customdata[2]}\\u003cbr\\u003eOp_Type=%{customdata[3]}\\u003cextra\\u003e\\u003c\\u002fextra\\u003e\",\"legendgroup\":\"1_16_2\",\"marker\":{\"color\":\"#00cc96\",\"pattern\":{\"shape\":\"\"}},\"name\":\"1_16_2\",\"offsetgroup\":\"1_16_2\",\"orientation\":\"h\",\"showlegend\":true,\"textposition\":\"auto\",\"x\":[10,10,8,33,320,192,152,160,96,8,10,10,33,234,192,41,152,178,96,41,0],\"xaxis\":\"x\",\"y\":[\"Source_Source\",\"Cell_0_Transport\",\"Cell_0_Carrousel\",\"Cell_0_Staubli\",\"Cell_0_Binpick\",\"Cell_0_Staubli\",\"Cell_0_Staubli\",\"Cell_0_Binpick\",\"Cell_0_Staubli\",\"Cell_0_Carrousel\",\"Cell_0_Transport\",\"Sink_Sink\",\"Cell_0_Warehouse_0\",\"Cell_0_Warehouse_0\",\"Cell_0_Warehouse_0\",\"Cell_0_Warehouse_0\",\"Cell_0_Warehouse_0\",\"Cell_0_Warehouse_0\",\"Cell_0_Warehouse_0\",\"Cell_0_Warehouse_0\",\"Cell_0_Warehouse_0\"],\"yaxis\":\"y\",\"type\":\"bar\"},{\"alignmentgroup\":\"True\",\"base\":[1047,1057,1067,1116,1063,1383,1827,2093,2253,2349,2357,2367,1116,1075,1383,1149,1827,1575,2253,1979,2349],\"customdata\":[[1057,\"Task 63\",\"1_16_3_0\",\"Default\"],[1067,\"Task 64\",\"1_16_3_1\",\"Default\"],[1075,\"Task 65\",\"1_16_3_2\",\"Default\"],[1149,\"Task 66\",\"1_16_3_3\",\"parallel gripper #2\"],[1383,\"Task 67\",\"1_16_3_4\",\"Default\"],[1575,\"Task 68\",\"1_16_3_5\",\"Screwdriver #2\"],[1979,\"Task 69\",\"1_16_3_6\",\"Vacuum gripper\"],[2253,\"Task 70\",\"1_16_3_7\",\"Default\"],[2349,\"Task 71\",\"1_16_3_8\",\"Screwdriver #1\"],[2357,\"Task 72\",\"1_16_3_9\",\"Default\"],[2367,\"Task 73\",\"1_16_3_10\",\"Default\"],[2377,\"Task 74\",\"1_16_3_11\",\"Default\"],[1149,\"Task 75\",\"warehouse_for_1_16_3_3\",null],[1116,\"Task 76\",\"filler_between_1_16_3_2_and_warehouse_for_1_16_3_3\",null],[1575,\"Task 77\",\"warehouse_for_1_16_3_5\",null],[1383,\"Task 78\",\"filler_between_warehouse_for_1_16_3_3_and_warehouse_for_1_16_3_5\",null],[1979,\"Task 79\",\"warehouse_for_1_16_3_6\",null],[1827,\"Task 80\",\"filler_between_warehouse_for_1_16_3_5_and_warehouse_for_1_16_3_6\",null],[2349,\"Task 81\",\"warehouse_for_1_16_3_8\",null],[2253,\"Task 82\",\"filler_between_warehouse_for_1_16_3_6_and_warehouse_for_1_16_3_8\",null],[2349,\"Task 83\",\"filler_between_warehouse_for_1_16_3_8_and_1_16_3_9\",null]],\"hovertemplate\":\"Product=1_16_3\\u003cbr\\u003eStart=%{base}\\u003cbr\\u003eDuration=%{x}\\u003cbr\\u003eResource=%{y}\\u003cbr\\u003eEnd=%{customdata[0]}\\u003cbr\\u003eTask=%{customdata[1]}\\u003cbr\\u003eName=%{customdata[2]}\\u003cbr\\u003eOp_Type=%{customdata[3]}\\u003cextra\\u003e\\u003c\\u002fextra\\u003e\",\"legendgroup\":\"1_16_3\",\"marker\":{\"color\":\"#ab63fa\",\"pattern\":{\"shape\":\"\"}},\"name\":\"1_16_3\",\"offsetgroup\":\"1_16_3\",\"orientation\":\"h\",\"showlegend\":true,\"textposition\":\"auto\",\"x\":[10,10,8,33,320,192,152,160,96,8,10,10,33,41,192,234,152,252,96,274,0],\"xaxis\":\"x\",\"y\":[\"Source_Source\",\"Cell_0_Transport\",\"Cell_0_Carrousel\",\"Cell_0_Staubli\",\"Cell_0_Binpick\",\"Cell_0_Staubli\",\"Cell_0_Staubli\",\"Cell_0_Binpick\",\"Cell_0_Staubli\",\"Cell_0_Carrousel\",\"Cell_0_Transport\",\"Sink_Sink\",\"Cell_0_Warehouse_0\",\"Cell_0_Warehouse_0\",\"Cell_0_Warehouse_0\",\"Cell_0_Warehouse_0\",\"Cell_0_Warehouse_0\",\"Cell_0_Warehouse_0\",\"Cell_0_Warehouse_0\",\"Cell_0_Warehouse_0\",\"Cell_0_Warehouse_0\"],\"yaxis\":\"y\",\"type\":\"bar\"},{\"alignmentgroup\":\"True\",\"base\":[10,20,30,61,426,746,1190,1456,1616,1712,1720,1730,61,38,746,94,1190,938,1616,1342,1712],\"customdata\":[[20,\"Task 84\",\"1_16_4_0\",\"Default\"],[30,\"Task 85\",\"1_16_4_1\",\"Default\"],[38,\"Task 86\",\"1_16_4_2\",\"Default\"],[94,\"Task 87\",\"1_16_4_3\",\"parallel gripper #2\"],[746,\"Task 88\",\"1_16_4_4\",\"Default\"],[938,\"Task 89\",\"1_16_4_5\",\"Screwdriver #2\"],[1342,\"Task 90\",\"1_16_4_6\",\"Vacuum gripper\"],[1616,\"Task 91\",\"1_16_4_7\",\"Default\"],[1712,\"Task 92\",\"1_16_4_8\",\"Screwdriver #1\"],[1720,\"Task 93\",\"1_16_4_9\",\"Default\"],[1730,\"Task 94\",\"1_16_4_10\",\"Default\"],[1740,\"Task 95\",\"1_16_4_11\",\"Default\"],[94,\"Task 96\",\"warehouse_for_1_16_4_3\",null],[61,\"Task 97\",\"filler_between_1_16_4_2_and_warehouse_for_1_16_4_3\",null],[938,\"Task 98\",\"warehouse_for_1_16_4_5\",null],[746,\"Task 99\",\"filler_between_warehouse_for_1_16_4_3_and_warehouse_for_1_16_4_5\",null],[1342,\"Task 100\",\"warehouse_for_1_16_4_6\",null],[1190,\"Task 101\",\"filler_between_warehouse_for_1_16_4_5_and_warehouse_for_1_16_4_6\",null],[1712,\"Task 102\",\"warehouse_for_1_16_4_8\",null],[1616,\"Task 103\",\"filler_between_warehouse_for_1_16_4_6_and_warehouse_for_1_16_4_8\",null],[1712,\"Task 104\",\"filler_between_warehouse_for_1_16_4_8_and_1_16_4_9\",null]],\"hovertemplate\":\"Product=1_16_4\\u003cbr\\u003eStart=%{base}\\u003cbr\\u003eDuration=%{x}\\u003cbr\\u003eResource=%{y}\\u003cbr\\u003eEnd=%{customdata[0]}\\u003cbr\\u003eTask=%{customdata[1]}\\u003cbr\\u003eName=%{customdata[2]}\\u003cbr\\u003eOp_Type=%{customdata[3]}\\u003cextra\\u003e\\u003c\\u002fextra\\u003e\",\"legendgroup\":\"1_16_4\",\"marker\":{\"color\":\"#FFA15A\",\"pattern\":{\"shape\":\"\"}},\"name\":\"1_16_4\",\"offsetgroup\":\"1_16_4\",\"orientation\":\"h\",\"showlegend\":true,\"textposition\":\"auto\",\"x\":[10,10,8,33,320,192,152,160,96,8,10,10,33,23,192,652,152,252,96,274,0],\"xaxis\":\"x\",\"y\":[\"Source_Source\",\"Cell_0_Transport\",\"Cell_0_Carrousel\",\"Cell_0_Staubli\",\"Cell_0_Binpick\",\"Cell_0_Staubli\",\"Cell_0_Staubli\",\"Cell_0_Binpick\",\"Cell_0_Staubli\",\"Cell_0_Carrousel\",\"Cell_0_Transport\",\"Sink_Sink\",\"Cell_0_Warehouse_1\",\"Cell_0_Warehouse_1\",\"Cell_0_Warehouse_1\",\"Cell_0_Warehouse_1\",\"Cell_0_Warehouse_1\",\"Cell_0_Warehouse_1\",\"Cell_0_Warehouse_1\",\"Cell_0_Warehouse_1\",\"Cell_0_Warehouse_1\"],\"yaxis\":\"y\",\"type\":\"bar\"}],                        {\"template\":{\"data\":{\"histogram2dcontour\":[{\"type\":\"histogram2dcontour\",\"colorbar\":{\"outlinewidth\":0,\"ticks\":\"\"},\"colorscale\":[[0.0,\"#0d0887\"],[0.1111111111111111,\"#46039f\"],[0.2222222222222222,\"#7201a8\"],[0.3333333333333333,\"#9c179e\"],[0.4444444444444444,\"#bd3786\"],[0.5555555555555556,\"#d8576b\"],[0.6666666666666666,\"#ed7953\"],[0.7777777777777778,\"#fb9f3a\"],[0.8888888888888888,\"#fdca26\"],[1.0,\"#f0f921\"]]}],\"choropleth\":[{\"type\":\"choropleth\",\"colorbar\":{\"outlinewidth\":0,\"ticks\":\"\"}}],\"histogram2d\":[{\"type\":\"histogram2d\",\"colorbar\":{\"outlinewidth\":0,\"ticks\":\"\"},\"colorscale\":[[0.0,\"#0d0887\"],[0.1111111111111111,\"#46039f\"],[0.2222222222222222,\"#7201a8\"],[0.3333333333333333,\"#9c179e\"],[0.4444444444444444,\"#bd3786\"],[0.5555555555555556,\"#d8576b\"],[0.6666666666666666,\"#ed7953\"],[0.7777777777777778,\"#fb9f3a\"],[0.8888888888888888,\"#fdca26\"],[1.0,\"#f0f921\"]]}],\"heatmap\":[{\"type\":\"heatmap\",\"colorbar\":{\"outlinewidth\":0,\"ticks\":\"\"},\"colorscale\":[[0.0,\"#0d0887\"],[0.1111111111111111,\"#46039f\"],[0.2222222222222222,\"#7201a8\"],[0.3333333333333333,\"#9c179e\"],[0.4444444444444444,\"#bd3786\"],[0.5555555555555556,\"#d8576b\"],[0.6666666666666666,\"#ed7953\"],[0.7777777777777778,\"#fb9f3a\"],[0.8888888888888888,\"#fdca26\"],[1.0,\"#f0f921\"]]}],\"heatmapgl\":[{\"type\":\"heatmapgl\",\"colorbar\":{\"outlinewidth\":0,\"ticks\":\"\"},\"colorscale\":[[0.0,\"#0d0887\"],[0.1111111111111111,\"#46039f\"],[0.2222222222222222,\"#7201a8\"],[0.3333333333333333,\"#9c179e\"],[0.4444444444444444,\"#bd3786\"],[0.5555555555555556,\"#d8576b\"],[0.6666666666666666,\"#ed7953\"],[0.7777777777777778,\"#fb9f3a\"],[0.8888888888888888,\"#fdca26\"],[1.0,\"#f0f921\"]]}],\"contourcarpet\":[{\"type\":\"contourcarpet\",\"colorbar\":{\"outlinewidth\":0,\"ticks\":\"\"}}],\"contour\":[{\"type\":\"contour\",\"colorbar\":{\"outlinewidth\":0,\"ticks\":\"\"},\"colorscale\":[[0.0,\"#0d0887\"],[0.1111111111111111,\"#46039f\"],[0.2222222222222222,\"#7201a8\"],[0.3333333333333333,\"#9c179e\"],[0.4444444444444444,\"#bd3786\"],[0.5555555555555556,\"#d8576b\"],[0.6666666666666666,\"#ed7953\"],[0.7777777777777778,\"#fb9f3a\"],[0.8888888888888888,\"#fdca26\"],[1.0,\"#f0f921\"]]}],\"surface\":[{\"type\":\"surface\",\"colorbar\":{\"outlinewidth\":0,\"ticks\":\"\"},\"colorscale\":[[0.0,\"#0d0887\"],[0.1111111111111111,\"#46039f\"],[0.2222222222222222,\"#7201a8\"],[0.3333333333333333,\"#9c179e\"],[0.4444444444444444,\"#bd3786\"],[0.5555555555555556,\"#d8576b\"],[0.6666666666666666,\"#ed7953\"],[0.7777777777777778,\"#fb9f3a\"],[0.8888888888888888,\"#fdca26\"],[1.0,\"#f0f921\"]]}],\"mesh3d\":[{\"type\":\"mesh3d\",\"colorbar\":{\"outlinewidth\":0,\"ticks\":\"\"}}],\"scatter\":[{\"marker\":{\"line\":{\"color\":\"#283442\"}},\"type\":\"scatter\"}],\"parcoords\":[{\"type\":\"parcoords\",\"line\":{\"colorbar\":{\"outlinewidth\":0,\"ticks\":\"\"}}}],\"scatterpolargl\":[{\"type\":\"scatterpolargl\",\"marker\":{\"colorbar\":{\"outlinewidth\":0,\"ticks\":\"\"}}}],\"bar\":[{\"error_x\":{\"color\":\"#f2f5fa\"},\"error_y\":{\"color\":\"#f2f5fa\"},\"marker\":{\"line\":{\"color\":\"rgb(17,17,17)\",\"width\":0.5},\"pattern\":{\"fillmode\":\"overlay\",\"size\":10,\"solidity\":0.2}},\"type\":\"bar\"}],\"scattergeo\":[{\"type\":\"scattergeo\",\"marker\":{\"colorbar\":{\"outlinewidth\":0,\"ticks\":\"\"}}}],\"scatterpolar\":[{\"type\":\"scatterpolar\",\"marker\":{\"colorbar\":{\"outlinewidth\":0,\"ticks\":\"\"}}}],\"histogram\":[{\"marker\":{\"pattern\":{\"fillmode\":\"overlay\",\"size\":10,\"solidity\":0.2}},\"type\":\"histogram\"}],\"scattergl\":[{\"marker\":{\"line\":{\"color\":\"#283442\"}},\"type\":\"scattergl\"}],\"scatter3d\":[{\"type\":\"scatter3d\",\"line\":{\"colorbar\":{\"outlinewidth\":0,\"ticks\":\"\"}},\"marker\":{\"colorbar\":{\"outlinewidth\":0,\"ticks\":\"\"}}}],\"scattermapbox\":[{\"type\":\"scattermapbox\",\"marker\":{\"colorbar\":{\"outlinewidth\":0,\"ticks\":\"\"}}}],\"scatterternary\":[{\"type\":\"scatterternary\",\"marker\":{\"colorbar\":{\"outlinewidth\":0,\"ticks\":\"\"}}}],\"scattercarpet\":[{\"type\":\"scattercarpet\",\"marker\":{\"colorbar\":{\"outlinewidth\":0,\"ticks\":\"\"}}}],\"carpet\":[{\"aaxis\":{\"endlinecolor\":\"#A2B1C6\",\"gridcolor\":\"#506784\",\"linecolor\":\"#506784\",\"minorgridcolor\":\"#506784\",\"startlinecolor\":\"#A2B1C6\"},\"baxis\":{\"endlinecolor\":\"#A2B1C6\",\"gridcolor\":\"#506784\",\"linecolor\":\"#506784\",\"minorgridcolor\":\"#506784\",\"startlinecolor\":\"#A2B1C6\"},\"type\":\"carpet\"}],\"table\":[{\"cells\":{\"fill\":{\"color\":\"#506784\"},\"line\":{\"color\":\"rgb(17,17,17)\"}},\"header\":{\"fill\":{\"color\":\"#2a3f5f\"},\"line\":{\"color\":\"rgb(17,17,17)\"}},\"type\":\"table\"}],\"barpolar\":[{\"marker\":{\"line\":{\"color\":\"rgb(17,17,17)\",\"width\":0.5},\"pattern\":{\"fillmode\":\"overlay\",\"size\":10,\"solidity\":0.2}},\"type\":\"barpolar\"}],\"pie\":[{\"automargin\":true,\"type\":\"pie\"}]},\"layout\":{\"autotypenumbers\":\"strict\",\"colorway\":[\"#636efa\",\"#EF553B\",\"#00cc96\",\"#ab63fa\",\"#FFA15A\",\"#19d3f3\",\"#FF6692\",\"#B6E880\",\"#FF97FF\",\"#FECB52\"],\"font\":{\"color\":\"#f2f5fa\"},\"hovermode\":\"closest\",\"hoverlabel\":{\"align\":\"left\"},\"paper_bgcolor\":\"rgb(17,17,17)\",\"plot_bgcolor\":\"rgb(17,17,17)\",\"polar\":{\"bgcolor\":\"rgb(17,17,17)\",\"angularaxis\":{\"gridcolor\":\"#506784\",\"linecolor\":\"#506784\",\"ticks\":\"\"},\"radialaxis\":{\"gridcolor\":\"#506784\",\"linecolor\":\"#506784\",\"ticks\":\"\"}},\"ternary\":{\"bgcolor\":\"rgb(17,17,17)\",\"aaxis\":{\"gridcolor\":\"#506784\",\"linecolor\":\"#506784\",\"ticks\":\"\"},\"baxis\":{\"gridcolor\":\"#506784\",\"linecolor\":\"#506784\",\"ticks\":\"\"},\"caxis\":{\"gridcolor\":\"#506784\",\"linecolor\":\"#506784\",\"ticks\":\"\"}},\"coloraxis\":{\"colorbar\":{\"outlinewidth\":0,\"ticks\":\"\"}},\"colorscale\":{\"sequential\":[[0.0,\"#0d0887\"],[0.1111111111111111,\"#46039f\"],[0.2222222222222222,\"#7201a8\"],[0.3333333333333333,\"#9c179e\"],[0.4444444444444444,\"#bd3786\"],[0.5555555555555556,\"#d8576b\"],[0.6666666666666666,\"#ed7953\"],[0.7777777777777778,\"#fb9f3a\"],[0.8888888888888888,\"#fdca26\"],[1.0,\"#f0f921\"]],\"sequentialminus\":[[0.0,\"#0d0887\"],[0.1111111111111111,\"#46039f\"],[0.2222222222222222,\"#7201a8\"],[0.3333333333333333,\"#9c179e\"],[0.4444444444444444,\"#bd3786\"],[0.5555555555555556,\"#d8576b\"],[0.6666666666666666,\"#ed7953\"],[0.7777777777777778,\"#fb9f3a\"],[0.8888888888888888,\"#fdca26\"],[1.0,\"#f0f921\"]],\"diverging\":[[0,\"#8e0152\"],[0.1,\"#c51b7d\"],[0.2,\"#de77ae\"],[0.3,\"#f1b6da\"],[0.4,\"#fde0ef\"],[0.5,\"#f7f7f7\"],[0.6,\"#e6f5d0\"],[0.7,\"#b8e186\"],[0.8,\"#7fbc41\"],[0.9,\"#4d9221\"],[1,\"#276419\"]]},\"xaxis\":{\"gridcolor\":\"#283442\",\"linecolor\":\"#506784\",\"ticks\":\"\",\"title\":{\"standoff\":15},\"zerolinecolor\":\"#283442\",\"automargin\":true,\"zerolinewidth\":2},\"yaxis\":{\"gridcolor\":\"#283442\",\"linecolor\":\"#506784\",\"ticks\":\"\",\"title\":{\"standoff\":15},\"zerolinecolor\":\"#283442\",\"automargin\":true,\"zerolinewidth\":2},\"scene\":{\"xaxis\":{\"backgroundcolor\":\"rgb(17,17,17)\",\"gridcolor\":\"#506784\",\"linecolor\":\"#506784\",\"showbackground\":true,\"ticks\":\"\",\"zerolinecolor\":\"#C8D4E3\",\"gridwidth\":2},\"yaxis\":{\"backgroundcolor\":\"rgb(17,17,17)\",\"gridcolor\":\"#506784\",\"linecolor\":\"#506784\",\"showbackground\":true,\"ticks\":\"\",\"zerolinecolor\":\"#C8D4E3\",\"gridwidth\":2},\"zaxis\":{\"backgroundcolor\":\"rgb(17,17,17)\",\"gridcolor\":\"#506784\",\"linecolor\":\"#506784\",\"showbackground\":true,\"ticks\":\"\",\"zerolinecolor\":\"#C8D4E3\",\"gridwidth\":2}},\"shapedefaults\":{\"line\":{\"color\":\"#f2f5fa\"}},\"annotationdefaults\":{\"arrowcolor\":\"#f2f5fa\",\"arrowhead\":0,\"arrowwidth\":1},\"geo\":{\"bgcolor\":\"rgb(17,17,17)\",\"landcolor\":\"rgb(17,17,17)\",\"subunitcolor\":\"#506784\",\"showland\":true,\"showlakes\":true,\"lakecolor\":\"rgb(17,17,17)\"},\"title\":{\"x\":0.05},\"updatemenudefaults\":{\"bgcolor\":\"#506784\",\"borderwidth\":0},\"sliderdefaults\":{\"bgcolor\":\"#C8D4E3\",\"borderwidth\":1,\"bordercolor\":\"rgb(17,17,17)\",\"tickwidth\":0},\"mapbox\":{\"style\":\"dark\"}}},\"xaxis\":{\"anchor\":\"y\",\"domain\":[0.0,1.0],\"title\":{\"text\":\"Time\"},\"showgrid\":true,\"gridcolor\":\"lightgray\",\"color\":\"white\"},\"yaxis\":{\"anchor\":\"x\",\"domain\":[0.0,1.0],\"title\":{\"text\":\"Machine\"},\"showgrid\":true,\"gridcolor\":\"lightgray\",\"color\":\"white\",\"categoryorder\":\"category ascending\"},\"legend\":{\"title\":{\"text\":\"Product\"},\"tracegroupgap\":0},\"title\":{\"text\":\"Job Shop Schedule\",\"font\":{\"color\":\"white\"}},\"barmode\":\"relative\",\"font\":{\"color\":\"white\"},\"plot_bgcolor\":\"black\",\"paper_bgcolor\":\"black\"},                        {\"responsive\": true}                    ).then(function(){\n",
       "                            \n",
       "var gd = document.getElementById('95bc3ba7-bc29-4b6a-bdde-1cce4d458b2a');\n",
       "var x = new MutationObserver(function (mutations, observer) {{\n",
       "        var display = window.getComputedStyle(gd).display;\n",
       "        if (!display || display === 'none') {{\n",
       "            console.log([gd, 'removed!']);\n",
       "            Plotly.purge(gd);\n",
       "            observer.disconnect();\n",
       "        }}\n",
       "}});\n",
       "\n",
       "// Listen for the removal of the full notebook cells\n",
       "var notebookContainer = gd.closest('#notebook-container');\n",
       "if (notebookContainer) {{\n",
       "    x.observe(notebookContainer, {childList: true});\n",
       "}}\n",
       "\n",
       "// Listen for the clearing of the current output cell\n",
       "var outputEl = gd.closest('.output');\n",
       "if (outputEl) {{\n",
       "    x.observe(outputEl, {childList: true});\n",
       "}}\n",
       "\n",
       "                        })                };                });            </script>        </div>"
      ]
     },
     "metadata": {},
     "output_type": "display_data"
    }
   ],
   "execution_count": 19
  },
  {
   "metadata": {},
   "cell_type": "markdown",
   "source": "### Maximum parallelization",
   "id": "547d4b1d8f49e161"
  },
  {
   "metadata": {},
   "cell_type": "code",
   "outputs": [],
   "execution_count": null,
   "source": [
    "with open(\"../data/data_max_parallel_new.json\") as json_file:\n",
    "    data = json.load(json_file)"
   ],
   "id": "e1f465c8ba1756da"
  },
  {
   "metadata": {},
   "cell_type": "code",
   "outputs": [],
   "execution_count": null,
   "source": [
    "model_ilp = MFModelILP(data, parallel=True)\n",
    "for solver in ['ortools']:\n",
    "    start = time.time()\n",
    "    if model_ilp.solve(solver=solver,time_limit=60):\n",
    "        end = time.time()\n",
    "        print(f'Solving for {solver} with ILP formulation: {end-start} seconds and {model_ilp.get_makespan()} of makespan')\n",
    "    else:\n",
    "        print(f'Timeout reached for {solver} with ILP formulation')"
   ],
   "id": "5cc0dba8d905eff"
  },
  {
   "metadata": {
    "ExecuteTime": {
     "end_time": "2025-04-08T11:15:14.306894Z",
     "start_time": "2025-04-08T11:15:14.265260Z"
    }
   },
   "cell_type": "code",
   "source": [
    "jobs = model_ilp.get_jobs()\n",
    "info = model_ilp.get_info()\n",
    "start, duration, job_resource,_ = model_ilp.get_dv()\n",
    "info_resource = model_ilp.get_info_resource()\n",
    "to_show =  []\n",
    "dict_job_start = {}\n",
    "\n",
    "for index in range(len(start)):\n",
    "    dict_job_start[index] = start[index].value()\n",
    "\n",
    "for job,job_info in jobs.items():\n",
    "    subject = info[job_info['__id__']][0]\n",
    "    start_job = start[subject].value()\n",
    "    end_job = start[subject].value() + duration[subject].value()\n",
    "    ris_id = job_resource[subject].value()\n",
    "    resource = next((k for k, v in info_resource.items() if v == ris_id), None)\n",
    "    product = info[job_info['__id__']][2]\n",
    "    job_name = info[job_info['__id__']][4]\n",
    "    to_show.append(dict(Task = f'Task {subject}', Start= start_job,End = end_job, Resource = resource, Product = product, Name=job_name))\n",
    "\n",
    "# Convert the tasks to a DataFrame for easier manipulation\n",
    "df = pd.DataFrame(to_show)\n",
    "\n",
    "# Calculate the duration of each task\n",
    "df['Duration'] = df['End'] - df['Start']\n",
    "\n",
    "# Use px.bar to create the Gantt chart with item-based colors\n",
    "fig = px.bar(df, x='Duration', y='Resource', color='Product', orientation='h',\n",
    "             hover_data=['Start', 'End', 'Task','Name'], base='Start', title=\"Job Shop Schedule\")\n",
    "\n",
    "# Update the layout to set the background to black and adjust text/grid colors for visibility\n",
    "fig.update_layout(\n",
    "    plot_bgcolor='black',  # Set background color of the plot to black\n",
    "    paper_bgcolor='black',  # Set the overall figure background to black\n",
    "    xaxis=dict(showgrid=True, gridcolor='lightgray', title=\"Time\", color='white'),  # Set grid lines and label color to light for visibility\n",
    "    yaxis=dict(showgrid=True, gridcolor='lightgray', title=\"Machine\", color='white', categoryorder='category ascending'),  # Set grid and label color\n",
    "    font=dict(color='white'),  # Set general font color to white for readability\n",
    "    title_font=dict(color='white')  # Ensure the title font is also visible\n",
    ")\n",
    "fig.update_layout(height=750)\n",
    "fig.show()"
   ],
   "id": "3519c4b4af98300c",
   "outputs": [
    {
     "data": {
      "application/vnd.plotly.v1+json": {
       "data": [
        {
         "alignmentgroup": "True",
         "base": [
          0,
          10,
          20,
          28,
          0,
          320,
          512,
          504,
          664,
          780,
          788,
          798,
          28,
          28,
          320,
          61,
          512,
          512,
          664,
          664,
          760
         ],
         "customdata": [
          [
           10,
           "Task 0",
           "1_16_0_0"
          ],
          [
           20,
           "Task 1",
           "1_16_0_1"
          ],
          [
           28,
           "Task 2",
           "1_16_0_2"
          ],
          [
           61,
           "Task 3",
           "1_16_0_3"
          ],
          [
           320,
           "Task 4",
           "1_16_0_4"
          ],
          [
           512,
           "Task 5",
           "1_16_0_5"
          ],
          [
           664,
           "Task 6",
           "1_16_0_6"
          ],
          [
           664,
           "Task 7",
           "1_16_0_7"
          ],
          [
           760,
           "Task 8",
           "1_16_0_8"
          ],
          [
           788,
           "Task 9",
           "1_16_0_9"
          ],
          [
           798,
           "Task 10",
           "1_16_0_10"
          ],
          [
           808,
           "Task 11",
           "1_16_0_11"
          ],
          [
           61,
           "Task 12",
           "warehouse_for_1_16_0_3"
          ],
          [
           28,
           "Task 13",
           "filler_between_1_16_0_2_and_warehouse_for_1_16_0_3"
          ],
          [
           512,
           "Task 14",
           "warehouse_for_1_16_0_5"
          ],
          [
           320,
           "Task 15",
           "filler_between_warehouse_for_1_16_0_3_and_warehouse_for_1_16_0_5"
          ],
          [
           664,
           "Task 16",
           "warehouse_for_1_16_0_6"
          ],
          [
           512,
           "Task 17",
           "filler_between_warehouse_for_1_16_0_5_and_warehouse_for_1_16_0_6"
          ],
          [
           760,
           "Task 18",
           "warehouse_for_1_16_0_8"
          ],
          [
           664,
           "Task 19",
           "filler_between_warehouse_for_1_16_0_6_and_warehouse_for_1_16_0_8"
          ],
          [
           780,
           "Task 20",
           "filler_between_warehouse_for_1_16_0_8_and_1_16_0_9"
          ]
         ],
         "hovertemplate": "Product=1_16_0<br>Start=%{base}<br>Duration=%{x}<br>Resource=%{y}<br>End=%{customdata[0]}<br>Task=%{customdata[1]}<br>Name=%{customdata[2]}<extra></extra>",
         "legendgroup": "1_16_0",
         "marker": {
          "color": "#636efa",
          "pattern": {
           "shape": ""
          }
         },
         "name": "1_16_0",
         "offsetgroup": "1_16_0",
         "orientation": "h",
         "showlegend": true,
         "textposition": "auto",
         "x": [
          10,
          10,
          8,
          33,
          320,
          192,
          152,
          160,
          96,
          8,
          10,
          10,
          33,
          0,
          192,
          259,
          152,
          0,
          96,
          0,
          20
         ],
         "xaxis": "x",
         "y": [
          "Source_Source",
          "Cell_4_Transport",
          "Cell_4_Carrousel",
          "Cell_4_Staubli",
          "Cell_4_Binpick",
          "Cell_4_Staubli",
          "Cell_4_Staubli",
          "Cell_4_Binpick",
          "Cell_4_Staubli",
          "Cell_4_Carrousel",
          "Cell_4_Transport",
          "Sink_Sink",
          "Cell_4_Warehouse",
          "Cell_4_Warehouse",
          "Cell_4_Warehouse",
          "Cell_4_Warehouse",
          "Cell_4_Warehouse",
          "Cell_4_Warehouse",
          "Cell_4_Warehouse",
          "Cell_4_Warehouse",
          "Cell_4_Warehouse"
         ],
         "yaxis": "y",
         "type": "bar"
        },
        {
         "alignmentgroup": "True",
         "base": [
          10,
          20,
          30,
          38,
          0,
          320,
          512,
          504,
          664,
          760,
          768,
          778,
          38,
          38,
          320,
          71,
          512,
          512,
          664,
          664,
          760
         ],
         "customdata": [
          [
           20,
           "Task 21",
           "1_16_1_0"
          ],
          [
           30,
           "Task 22",
           "1_16_1_1"
          ],
          [
           38,
           "Task 23",
           "1_16_1_2"
          ],
          [
           71,
           "Task 24",
           "1_16_1_3"
          ],
          [
           320,
           "Task 25",
           "1_16_1_4"
          ],
          [
           512,
           "Task 26",
           "1_16_1_5"
          ],
          [
           664,
           "Task 27",
           "1_16_1_6"
          ],
          [
           664,
           "Task 28",
           "1_16_1_7"
          ],
          [
           760,
           "Task 29",
           "1_16_1_8"
          ],
          [
           768,
           "Task 30",
           "1_16_1_9"
          ],
          [
           778,
           "Task 31",
           "1_16_1_10"
          ],
          [
           788,
           "Task 32",
           "1_16_1_11"
          ],
          [
           71,
           "Task 33",
           "warehouse_for_1_16_1_3"
          ],
          [
           38,
           "Task 34",
           "filler_between_1_16_1_2_and_warehouse_for_1_16_1_3"
          ],
          [
           512,
           "Task 35",
           "warehouse_for_1_16_1_5"
          ],
          [
           320,
           "Task 36",
           "filler_between_warehouse_for_1_16_1_3_and_warehouse_for_1_16_1_5"
          ],
          [
           664,
           "Task 37",
           "warehouse_for_1_16_1_6"
          ],
          [
           512,
           "Task 38",
           "filler_between_warehouse_for_1_16_1_5_and_warehouse_for_1_16_1_6"
          ],
          [
           760,
           "Task 39",
           "warehouse_for_1_16_1_8"
          ],
          [
           664,
           "Task 40",
           "filler_between_warehouse_for_1_16_1_6_and_warehouse_for_1_16_1_8"
          ],
          [
           760,
           "Task 41",
           "filler_between_warehouse_for_1_16_1_8_and_1_16_1_9"
          ]
         ],
         "hovertemplate": "Product=1_16_1<br>Start=%{base}<br>Duration=%{x}<br>Resource=%{y}<br>End=%{customdata[0]}<br>Task=%{customdata[1]}<br>Name=%{customdata[2]}<extra></extra>",
         "legendgroup": "1_16_1",
         "marker": {
          "color": "#EF553B",
          "pattern": {
           "shape": ""
          }
         },
         "name": "1_16_1",
         "offsetgroup": "1_16_1",
         "orientation": "h",
         "showlegend": true,
         "textposition": "auto",
         "x": [
          10,
          10,
          8,
          33,
          320,
          192,
          152,
          160,
          96,
          8,
          10,
          10,
          33,
          0,
          192,
          249,
          152,
          0,
          96,
          0,
          0
         ],
         "xaxis": "x",
         "y": [
          "Source_Source",
          "Cell_1_Transport",
          "Cell_1_Carrousel",
          "Cell_1_Staubli",
          "Cell_1_Binpick",
          "Cell_1_Staubli",
          "Cell_1_Staubli",
          "Cell_1_Binpick",
          "Cell_1_Staubli",
          "Cell_1_Carrousel",
          "Cell_1_Transport",
          "Sink_Sink",
          "Cell_1_Warehouse",
          "Cell_1_Warehouse",
          "Cell_1_Warehouse",
          "Cell_1_Warehouse",
          "Cell_1_Warehouse",
          "Cell_1_Warehouse",
          "Cell_1_Warehouse",
          "Cell_1_Warehouse",
          "Cell_1_Warehouse"
         ],
         "yaxis": "y",
         "type": "bar"
        },
        {
         "alignmentgroup": "True",
         "base": [
          33,
          43,
          53,
          71,
          0,
          320,
          512,
          504,
          664,
          800,
          808,
          818,
          71,
          61,
          320,
          104,
          512,
          512,
          664,
          664,
          760
         ],
         "customdata": [
          [
           43,
           "Task 42",
           "1_16_2_0"
          ],
          [
           53,
           "Task 43",
           "1_16_2_1"
          ],
          [
           61,
           "Task 44",
           "1_16_2_2"
          ],
          [
           104,
           "Task 45",
           "1_16_2_3"
          ],
          [
           320,
           "Task 46",
           "1_16_2_4"
          ],
          [
           512,
           "Task 47",
           "1_16_2_5"
          ],
          [
           664,
           "Task 48",
           "1_16_2_6"
          ],
          [
           664,
           "Task 49",
           "1_16_2_7"
          ],
          [
           760,
           "Task 50",
           "1_16_2_8"
          ],
          [
           808,
           "Task 51",
           "1_16_2_9"
          ],
          [
           818,
           "Task 52",
           "1_16_2_10"
          ],
          [
           828,
           "Task 53",
           "1_16_2_11"
          ],
          [
           104,
           "Task 54",
           "warehouse_for_1_16_2_3"
          ],
          [
           71,
           "Task 55",
           "filler_between_1_16_2_2_and_warehouse_for_1_16_2_3"
          ],
          [
           512,
           "Task 56",
           "warehouse_for_1_16_2_5"
          ],
          [
           320,
           "Task 57",
           "filler_between_warehouse_for_1_16_2_3_and_warehouse_for_1_16_2_5"
          ],
          [
           664,
           "Task 58",
           "warehouse_for_1_16_2_6"
          ],
          [
           512,
           "Task 59",
           "filler_between_warehouse_for_1_16_2_5_and_warehouse_for_1_16_2_6"
          ],
          [
           760,
           "Task 60",
           "warehouse_for_1_16_2_8"
          ],
          [
           664,
           "Task 61",
           "filler_between_warehouse_for_1_16_2_6_and_warehouse_for_1_16_2_8"
          ],
          [
           800,
           "Task 62",
           "filler_between_warehouse_for_1_16_2_8_and_1_16_2_9"
          ]
         ],
         "hovertemplate": "Product=1_16_2<br>Start=%{base}<br>Duration=%{x}<br>Resource=%{y}<br>End=%{customdata[0]}<br>Task=%{customdata[1]}<br>Name=%{customdata[2]}<extra></extra>",
         "legendgroup": "1_16_2",
         "marker": {
          "color": "#00cc96",
          "pattern": {
           "shape": ""
          }
         },
         "name": "1_16_2",
         "offsetgroup": "1_16_2",
         "orientation": "h",
         "showlegend": true,
         "textposition": "auto",
         "x": [
          10,
          10,
          8,
          33,
          320,
          192,
          152,
          160,
          96,
          8,
          10,
          10,
          33,
          10,
          192,
          216,
          152,
          0,
          96,
          0,
          40
         ],
         "xaxis": "x",
         "y": [
          "Source_Source",
          "Cell_0_Transport",
          "Cell_0_Carrousel",
          "Cell_0_Staubli",
          "Cell_0_Binpick",
          "Cell_0_Staubli",
          "Cell_0_Staubli",
          "Cell_0_Binpick",
          "Cell_0_Staubli",
          "Cell_0_Carrousel",
          "Cell_0_Transport",
          "Sink_Sink",
          "Cell_0_Warehouse",
          "Cell_0_Warehouse",
          "Cell_0_Warehouse",
          "Cell_0_Warehouse",
          "Cell_0_Warehouse",
          "Cell_0_Warehouse",
          "Cell_0_Warehouse",
          "Cell_0_Warehouse",
          "Cell_0_Warehouse"
         ],
         "yaxis": "y",
         "type": "bar"
        },
        {
         "alignmentgroup": "True",
         "base": [
          43,
          53,
          63,
          71,
          0,
          320,
          512,
          504,
          664,
          770,
          778,
          788,
          71,
          71,
          320,
          104,
          512,
          512,
          664,
          664,
          760
         ],
         "customdata": [
          [
           53,
           "Task 63",
           "1_16_3_0"
          ],
          [
           63,
           "Task 64",
           "1_16_3_1"
          ],
          [
           71,
           "Task 65",
           "1_16_3_2"
          ],
          [
           104,
           "Task 66",
           "1_16_3_3"
          ],
          [
           320,
           "Task 67",
           "1_16_3_4"
          ],
          [
           512,
           "Task 68",
           "1_16_3_5"
          ],
          [
           664,
           "Task 69",
           "1_16_3_6"
          ],
          [
           664,
           "Task 70",
           "1_16_3_7"
          ],
          [
           760,
           "Task 71",
           "1_16_3_8"
          ],
          [
           778,
           "Task 72",
           "1_16_3_9"
          ],
          [
           788,
           "Task 73",
           "1_16_3_10"
          ],
          [
           798,
           "Task 74",
           "1_16_3_11"
          ],
          [
           104,
           "Task 75",
           "warehouse_for_1_16_3_3"
          ],
          [
           71,
           "Task 76",
           "filler_between_1_16_3_2_and_warehouse_for_1_16_3_3"
          ],
          [
           512,
           "Task 77",
           "warehouse_for_1_16_3_5"
          ],
          [
           320,
           "Task 78",
           "filler_between_warehouse_for_1_16_3_3_and_warehouse_for_1_16_3_5"
          ],
          [
           664,
           "Task 79",
           "warehouse_for_1_16_3_6"
          ],
          [
           512,
           "Task 80",
           "filler_between_warehouse_for_1_16_3_5_and_warehouse_for_1_16_3_6"
          ],
          [
           760,
           "Task 81",
           "warehouse_for_1_16_3_8"
          ],
          [
           664,
           "Task 82",
           "filler_between_warehouse_for_1_16_3_6_and_warehouse_for_1_16_3_8"
          ],
          [
           770,
           "Task 83",
           "filler_between_warehouse_for_1_16_3_8_and_1_16_3_9"
          ]
         ],
         "hovertemplate": "Product=1_16_3<br>Start=%{base}<br>Duration=%{x}<br>Resource=%{y}<br>End=%{customdata[0]}<br>Task=%{customdata[1]}<br>Name=%{customdata[2]}<extra></extra>",
         "legendgroup": "1_16_3",
         "marker": {
          "color": "#ab63fa",
          "pattern": {
           "shape": ""
          }
         },
         "name": "1_16_3",
         "offsetgroup": "1_16_3",
         "orientation": "h",
         "showlegend": true,
         "textposition": "auto",
         "x": [
          10,
          10,
          8,
          33,
          320,
          192,
          152,
          160,
          96,
          8,
          10,
          10,
          33,
          0,
          192,
          216,
          152,
          0,
          96,
          0,
          10
         ],
         "xaxis": "x",
         "y": [
          "Source_Source",
          "Cell_2_Transport",
          "Cell_2_Carrousel",
          "Cell_2_Staubli",
          "Cell_2_Binpick",
          "Cell_2_Staubli",
          "Cell_2_Staubli",
          "Cell_2_Binpick",
          "Cell_2_Staubli",
          "Cell_2_Carrousel",
          "Cell_2_Transport",
          "Sink_Sink",
          "Cell_2_Warehouse",
          "Cell_2_Warehouse",
          "Cell_2_Warehouse",
          "Cell_2_Warehouse",
          "Cell_2_Warehouse",
          "Cell_2_Warehouse",
          "Cell_2_Warehouse",
          "Cell_2_Warehouse",
          "Cell_2_Warehouse"
         ],
         "yaxis": "y",
         "type": "bar"
        },
        {
         "alignmentgroup": "True",
         "base": [
          20,
          30,
          40,
          71,
          0,
          320,
          512,
          504,
          664,
          790,
          798,
          808,
          71,
          48,
          320,
          104,
          512,
          512,
          664,
          664,
          760
         ],
         "customdata": [
          [
           30,
           "Task 84",
           "1_16_4_0"
          ],
          [
           40,
           "Task 85",
           "1_16_4_1"
          ],
          [
           48,
           "Task 86",
           "1_16_4_2"
          ],
          [
           104,
           "Task 87",
           "1_16_4_3"
          ],
          [
           320,
           "Task 88",
           "1_16_4_4"
          ],
          [
           512,
           "Task 89",
           "1_16_4_5"
          ],
          [
           664,
           "Task 90",
           "1_16_4_6"
          ],
          [
           664,
           "Task 91",
           "1_16_4_7"
          ],
          [
           760,
           "Task 92",
           "1_16_4_8"
          ],
          [
           798,
           "Task 93",
           "1_16_4_9"
          ],
          [
           808,
           "Task 94",
           "1_16_4_10"
          ],
          [
           818,
           "Task 95",
           "1_16_4_11"
          ],
          [
           104,
           "Task 96",
           "warehouse_for_1_16_4_3"
          ],
          [
           71,
           "Task 97",
           "filler_between_1_16_4_2_and_warehouse_for_1_16_4_3"
          ],
          [
           512,
           "Task 98",
           "warehouse_for_1_16_4_5"
          ],
          [
           320,
           "Task 99",
           "filler_between_warehouse_for_1_16_4_3_and_warehouse_for_1_16_4_5"
          ],
          [
           664,
           "Task 100",
           "warehouse_for_1_16_4_6"
          ],
          [
           512,
           "Task 101",
           "filler_between_warehouse_for_1_16_4_5_and_warehouse_for_1_16_4_6"
          ],
          [
           760,
           "Task 102",
           "warehouse_for_1_16_4_8"
          ],
          [
           664,
           "Task 103",
           "filler_between_warehouse_for_1_16_4_6_and_warehouse_for_1_16_4_8"
          ],
          [
           790,
           "Task 104",
           "filler_between_warehouse_for_1_16_4_8_and_1_16_4_9"
          ]
         ],
         "hovertemplate": "Product=1_16_4<br>Start=%{base}<br>Duration=%{x}<br>Resource=%{y}<br>End=%{customdata[0]}<br>Task=%{customdata[1]}<br>Name=%{customdata[2]}<extra></extra>",
         "legendgroup": "1_16_4",
         "marker": {
          "color": "#FFA15A",
          "pattern": {
           "shape": ""
          }
         },
         "name": "1_16_4",
         "offsetgroup": "1_16_4",
         "orientation": "h",
         "showlegend": true,
         "textposition": "auto",
         "x": [
          10,
          10,
          8,
          33,
          320,
          192,
          152,
          160,
          96,
          8,
          10,
          10,
          33,
          23,
          192,
          216,
          152,
          0,
          96,
          0,
          30
         ],
         "xaxis": "x",
         "y": [
          "Source_Source",
          "Cell_3_Transport",
          "Cell_3_Carrousel",
          "Cell_3_Staubli",
          "Cell_3_Binpick",
          "Cell_3_Staubli",
          "Cell_3_Staubli",
          "Cell_3_Binpick",
          "Cell_3_Staubli",
          "Cell_3_Carrousel",
          "Cell_3_Transport",
          "Sink_Sink",
          "Cell_3_Warehouse",
          "Cell_3_Warehouse",
          "Cell_3_Warehouse",
          "Cell_3_Warehouse",
          "Cell_3_Warehouse",
          "Cell_3_Warehouse",
          "Cell_3_Warehouse",
          "Cell_3_Warehouse",
          "Cell_3_Warehouse"
         ],
         "yaxis": "y",
         "type": "bar"
        }
       ],
       "layout": {
        "template": {
         "data": {
          "histogram2dcontour": [
           {
            "type": "histogram2dcontour",
            "colorbar": {
             "outlinewidth": 0,
             "ticks": ""
            },
            "colorscale": [
             [
              0.0,
              "#0d0887"
             ],
             [
              0.1111111111111111,
              "#46039f"
             ],
             [
              0.2222222222222222,
              "#7201a8"
             ],
             [
              0.3333333333333333,
              "#9c179e"
             ],
             [
              0.4444444444444444,
              "#bd3786"
             ],
             [
              0.5555555555555556,
              "#d8576b"
             ],
             [
              0.6666666666666666,
              "#ed7953"
             ],
             [
              0.7777777777777778,
              "#fb9f3a"
             ],
             [
              0.8888888888888888,
              "#fdca26"
             ],
             [
              1.0,
              "#f0f921"
             ]
            ]
           }
          ],
          "choropleth": [
           {
            "type": "choropleth",
            "colorbar": {
             "outlinewidth": 0,
             "ticks": ""
            }
           }
          ],
          "histogram2d": [
           {
            "type": "histogram2d",
            "colorbar": {
             "outlinewidth": 0,
             "ticks": ""
            },
            "colorscale": [
             [
              0.0,
              "#0d0887"
             ],
             [
              0.1111111111111111,
              "#46039f"
             ],
             [
              0.2222222222222222,
              "#7201a8"
             ],
             [
              0.3333333333333333,
              "#9c179e"
             ],
             [
              0.4444444444444444,
              "#bd3786"
             ],
             [
              0.5555555555555556,
              "#d8576b"
             ],
             [
              0.6666666666666666,
              "#ed7953"
             ],
             [
              0.7777777777777778,
              "#fb9f3a"
             ],
             [
              0.8888888888888888,
              "#fdca26"
             ],
             [
              1.0,
              "#f0f921"
             ]
            ]
           }
          ],
          "heatmap": [
           {
            "type": "heatmap",
            "colorbar": {
             "outlinewidth": 0,
             "ticks": ""
            },
            "colorscale": [
             [
              0.0,
              "#0d0887"
             ],
             [
              0.1111111111111111,
              "#46039f"
             ],
             [
              0.2222222222222222,
              "#7201a8"
             ],
             [
              0.3333333333333333,
              "#9c179e"
             ],
             [
              0.4444444444444444,
              "#bd3786"
             ],
             [
              0.5555555555555556,
              "#d8576b"
             ],
             [
              0.6666666666666666,
              "#ed7953"
             ],
             [
              0.7777777777777778,
              "#fb9f3a"
             ],
             [
              0.8888888888888888,
              "#fdca26"
             ],
             [
              1.0,
              "#f0f921"
             ]
            ]
           }
          ],
          "heatmapgl": [
           {
            "type": "heatmapgl",
            "colorbar": {
             "outlinewidth": 0,
             "ticks": ""
            },
            "colorscale": [
             [
              0.0,
              "#0d0887"
             ],
             [
              0.1111111111111111,
              "#46039f"
             ],
             [
              0.2222222222222222,
              "#7201a8"
             ],
             [
              0.3333333333333333,
              "#9c179e"
             ],
             [
              0.4444444444444444,
              "#bd3786"
             ],
             [
              0.5555555555555556,
              "#d8576b"
             ],
             [
              0.6666666666666666,
              "#ed7953"
             ],
             [
              0.7777777777777778,
              "#fb9f3a"
             ],
             [
              0.8888888888888888,
              "#fdca26"
             ],
             [
              1.0,
              "#f0f921"
             ]
            ]
           }
          ],
          "contourcarpet": [
           {
            "type": "contourcarpet",
            "colorbar": {
             "outlinewidth": 0,
             "ticks": ""
            }
           }
          ],
          "contour": [
           {
            "type": "contour",
            "colorbar": {
             "outlinewidth": 0,
             "ticks": ""
            },
            "colorscale": [
             [
              0.0,
              "#0d0887"
             ],
             [
              0.1111111111111111,
              "#46039f"
             ],
             [
              0.2222222222222222,
              "#7201a8"
             ],
             [
              0.3333333333333333,
              "#9c179e"
             ],
             [
              0.4444444444444444,
              "#bd3786"
             ],
             [
              0.5555555555555556,
              "#d8576b"
             ],
             [
              0.6666666666666666,
              "#ed7953"
             ],
             [
              0.7777777777777778,
              "#fb9f3a"
             ],
             [
              0.8888888888888888,
              "#fdca26"
             ],
             [
              1.0,
              "#f0f921"
             ]
            ]
           }
          ],
          "surface": [
           {
            "type": "surface",
            "colorbar": {
             "outlinewidth": 0,
             "ticks": ""
            },
            "colorscale": [
             [
              0.0,
              "#0d0887"
             ],
             [
              0.1111111111111111,
              "#46039f"
             ],
             [
              0.2222222222222222,
              "#7201a8"
             ],
             [
              0.3333333333333333,
              "#9c179e"
             ],
             [
              0.4444444444444444,
              "#bd3786"
             ],
             [
              0.5555555555555556,
              "#d8576b"
             ],
             [
              0.6666666666666666,
              "#ed7953"
             ],
             [
              0.7777777777777778,
              "#fb9f3a"
             ],
             [
              0.8888888888888888,
              "#fdca26"
             ],
             [
              1.0,
              "#f0f921"
             ]
            ]
           }
          ],
          "mesh3d": [
           {
            "type": "mesh3d",
            "colorbar": {
             "outlinewidth": 0,
             "ticks": ""
            }
           }
          ],
          "scatter": [
           {
            "marker": {
             "line": {
              "color": "#283442"
             }
            },
            "type": "scatter"
           }
          ],
          "parcoords": [
           {
            "type": "parcoords",
            "line": {
             "colorbar": {
              "outlinewidth": 0,
              "ticks": ""
             }
            }
           }
          ],
          "scatterpolargl": [
           {
            "type": "scatterpolargl",
            "marker": {
             "colorbar": {
              "outlinewidth": 0,
              "ticks": ""
             }
            }
           }
          ],
          "bar": [
           {
            "error_x": {
             "color": "#f2f5fa"
            },
            "error_y": {
             "color": "#f2f5fa"
            },
            "marker": {
             "line": {
              "color": "rgb(17,17,17)",
              "width": 0.5
             },
             "pattern": {
              "fillmode": "overlay",
              "size": 10,
              "solidity": 0.2
             }
            },
            "type": "bar"
           }
          ],
          "scattergeo": [
           {
            "type": "scattergeo",
            "marker": {
             "colorbar": {
              "outlinewidth": 0,
              "ticks": ""
             }
            }
           }
          ],
          "scatterpolar": [
           {
            "type": "scatterpolar",
            "marker": {
             "colorbar": {
              "outlinewidth": 0,
              "ticks": ""
             }
            }
           }
          ],
          "histogram": [
           {
            "marker": {
             "pattern": {
              "fillmode": "overlay",
              "size": 10,
              "solidity": 0.2
             }
            },
            "type": "histogram"
           }
          ],
          "scattergl": [
           {
            "marker": {
             "line": {
              "color": "#283442"
             }
            },
            "type": "scattergl"
           }
          ],
          "scatter3d": [
           {
            "type": "scatter3d",
            "line": {
             "colorbar": {
              "outlinewidth": 0,
              "ticks": ""
             }
            },
            "marker": {
             "colorbar": {
              "outlinewidth": 0,
              "ticks": ""
             }
            }
           }
          ],
          "scattermapbox": [
           {
            "type": "scattermapbox",
            "marker": {
             "colorbar": {
              "outlinewidth": 0,
              "ticks": ""
             }
            }
           }
          ],
          "scatterternary": [
           {
            "type": "scatterternary",
            "marker": {
             "colorbar": {
              "outlinewidth": 0,
              "ticks": ""
             }
            }
           }
          ],
          "scattercarpet": [
           {
            "type": "scattercarpet",
            "marker": {
             "colorbar": {
              "outlinewidth": 0,
              "ticks": ""
             }
            }
           }
          ],
          "carpet": [
           {
            "aaxis": {
             "endlinecolor": "#A2B1C6",
             "gridcolor": "#506784",
             "linecolor": "#506784",
             "minorgridcolor": "#506784",
             "startlinecolor": "#A2B1C6"
            },
            "baxis": {
             "endlinecolor": "#A2B1C6",
             "gridcolor": "#506784",
             "linecolor": "#506784",
             "minorgridcolor": "#506784",
             "startlinecolor": "#A2B1C6"
            },
            "type": "carpet"
           }
          ],
          "table": [
           {
            "cells": {
             "fill": {
              "color": "#506784"
             },
             "line": {
              "color": "rgb(17,17,17)"
             }
            },
            "header": {
             "fill": {
              "color": "#2a3f5f"
             },
             "line": {
              "color": "rgb(17,17,17)"
             }
            },
            "type": "table"
           }
          ],
          "barpolar": [
           {
            "marker": {
             "line": {
              "color": "rgb(17,17,17)",
              "width": 0.5
             },
             "pattern": {
              "fillmode": "overlay",
              "size": 10,
              "solidity": 0.2
             }
            },
            "type": "barpolar"
           }
          ],
          "pie": [
           {
            "automargin": true,
            "type": "pie"
           }
          ]
         },
         "layout": {
          "autotypenumbers": "strict",
          "colorway": [
           "#636efa",
           "#EF553B",
           "#00cc96",
           "#ab63fa",
           "#FFA15A",
           "#19d3f3",
           "#FF6692",
           "#B6E880",
           "#FF97FF",
           "#FECB52"
          ],
          "font": {
           "color": "#f2f5fa"
          },
          "hovermode": "closest",
          "hoverlabel": {
           "align": "left"
          },
          "paper_bgcolor": "rgb(17,17,17)",
          "plot_bgcolor": "rgb(17,17,17)",
          "polar": {
           "bgcolor": "rgb(17,17,17)",
           "angularaxis": {
            "gridcolor": "#506784",
            "linecolor": "#506784",
            "ticks": ""
           },
           "radialaxis": {
            "gridcolor": "#506784",
            "linecolor": "#506784",
            "ticks": ""
           }
          },
          "ternary": {
           "bgcolor": "rgb(17,17,17)",
           "aaxis": {
            "gridcolor": "#506784",
            "linecolor": "#506784",
            "ticks": ""
           },
           "baxis": {
            "gridcolor": "#506784",
            "linecolor": "#506784",
            "ticks": ""
           },
           "caxis": {
            "gridcolor": "#506784",
            "linecolor": "#506784",
            "ticks": ""
           }
          },
          "coloraxis": {
           "colorbar": {
            "outlinewidth": 0,
            "ticks": ""
           }
          },
          "colorscale": {
           "sequential": [
            [
             0.0,
             "#0d0887"
            ],
            [
             0.1111111111111111,
             "#46039f"
            ],
            [
             0.2222222222222222,
             "#7201a8"
            ],
            [
             0.3333333333333333,
             "#9c179e"
            ],
            [
             0.4444444444444444,
             "#bd3786"
            ],
            [
             0.5555555555555556,
             "#d8576b"
            ],
            [
             0.6666666666666666,
             "#ed7953"
            ],
            [
             0.7777777777777778,
             "#fb9f3a"
            ],
            [
             0.8888888888888888,
             "#fdca26"
            ],
            [
             1.0,
             "#f0f921"
            ]
           ],
           "sequentialminus": [
            [
             0.0,
             "#0d0887"
            ],
            [
             0.1111111111111111,
             "#46039f"
            ],
            [
             0.2222222222222222,
             "#7201a8"
            ],
            [
             0.3333333333333333,
             "#9c179e"
            ],
            [
             0.4444444444444444,
             "#bd3786"
            ],
            [
             0.5555555555555556,
             "#d8576b"
            ],
            [
             0.6666666666666666,
             "#ed7953"
            ],
            [
             0.7777777777777778,
             "#fb9f3a"
            ],
            [
             0.8888888888888888,
             "#fdca26"
            ],
            [
             1.0,
             "#f0f921"
            ]
           ],
           "diverging": [
            [
             0,
             "#8e0152"
            ],
            [
             0.1,
             "#c51b7d"
            ],
            [
             0.2,
             "#de77ae"
            ],
            [
             0.3,
             "#f1b6da"
            ],
            [
             0.4,
             "#fde0ef"
            ],
            [
             0.5,
             "#f7f7f7"
            ],
            [
             0.6,
             "#e6f5d0"
            ],
            [
             0.7,
             "#b8e186"
            ],
            [
             0.8,
             "#7fbc41"
            ],
            [
             0.9,
             "#4d9221"
            ],
            [
             1,
             "#276419"
            ]
           ]
          },
          "xaxis": {
           "gridcolor": "#283442",
           "linecolor": "#506784",
           "ticks": "",
           "title": {
            "standoff": 15
           },
           "zerolinecolor": "#283442",
           "automargin": true,
           "zerolinewidth": 2
          },
          "yaxis": {
           "gridcolor": "#283442",
           "linecolor": "#506784",
           "ticks": "",
           "title": {
            "standoff": 15
           },
           "zerolinecolor": "#283442",
           "automargin": true,
           "zerolinewidth": 2
          },
          "scene": {
           "xaxis": {
            "backgroundcolor": "rgb(17,17,17)",
            "gridcolor": "#506784",
            "linecolor": "#506784",
            "showbackground": true,
            "ticks": "",
            "zerolinecolor": "#C8D4E3",
            "gridwidth": 2
           },
           "yaxis": {
            "backgroundcolor": "rgb(17,17,17)",
            "gridcolor": "#506784",
            "linecolor": "#506784",
            "showbackground": true,
            "ticks": "",
            "zerolinecolor": "#C8D4E3",
            "gridwidth": 2
           },
           "zaxis": {
            "backgroundcolor": "rgb(17,17,17)",
            "gridcolor": "#506784",
            "linecolor": "#506784",
            "showbackground": true,
            "ticks": "",
            "zerolinecolor": "#C8D4E3",
            "gridwidth": 2
           }
          },
          "shapedefaults": {
           "line": {
            "color": "#f2f5fa"
           }
          },
          "annotationdefaults": {
           "arrowcolor": "#f2f5fa",
           "arrowhead": 0,
           "arrowwidth": 1
          },
          "geo": {
           "bgcolor": "rgb(17,17,17)",
           "landcolor": "rgb(17,17,17)",
           "subunitcolor": "#506784",
           "showland": true,
           "showlakes": true,
           "lakecolor": "rgb(17,17,17)"
          },
          "title": {
           "x": 0.05
          },
          "updatemenudefaults": {
           "bgcolor": "#506784",
           "borderwidth": 0
          },
          "sliderdefaults": {
           "bgcolor": "#C8D4E3",
           "borderwidth": 1,
           "bordercolor": "rgb(17,17,17)",
           "tickwidth": 0
          },
          "mapbox": {
           "style": "dark"
          }
         }
        },
        "xaxis": {
         "anchor": "y",
         "domain": [
          0.0,
          1.0
         ],
         "title": {
          "text": "Time"
         },
         "showgrid": true,
         "gridcolor": "lightgray",
         "color": "white"
        },
        "yaxis": {
         "anchor": "x",
         "domain": [
          0.0,
          1.0
         ],
         "title": {
          "text": "Machine"
         },
         "showgrid": true,
         "gridcolor": "lightgray",
         "color": "white",
         "categoryorder": "category ascending"
        },
        "legend": {
         "title": {
          "text": "Product"
         },
         "tracegroupgap": 0
        },
        "title": {
         "text": "Job Shop Schedule",
         "font": {
          "color": "white"
         }
        },
        "barmode": "relative",
        "font": {
         "color": "white"
        },
        "plot_bgcolor": "black",
        "paper_bgcolor": "black",
        "height": 750
       },
       "config": {
        "plotlyServerURL": "https://plot.ly"
       }
      },
      "text/html": [
       "<div>                            <div id=\"4fb0e111-643e-4f31-ad65-fcdfa8c0fee8\" class=\"plotly-graph-div\" style=\"height:750px; width:100%;\"></div>            <script type=\"text/javascript\">                require([\"plotly\"], function(Plotly) {                    window.PLOTLYENV=window.PLOTLYENV || {};                                    if (document.getElementById(\"4fb0e111-643e-4f31-ad65-fcdfa8c0fee8\")) {                    Plotly.newPlot(                        \"4fb0e111-643e-4f31-ad65-fcdfa8c0fee8\",                        [{\"alignmentgroup\":\"True\",\"base\":[0,10,20,28,0,320,512,504,664,780,788,798,28,28,320,61,512,512,664,664,760],\"customdata\":[[10,\"Task 0\",\"1_16_0_0\"],[20,\"Task 1\",\"1_16_0_1\"],[28,\"Task 2\",\"1_16_0_2\"],[61,\"Task 3\",\"1_16_0_3\"],[320,\"Task 4\",\"1_16_0_4\"],[512,\"Task 5\",\"1_16_0_5\"],[664,\"Task 6\",\"1_16_0_6\"],[664,\"Task 7\",\"1_16_0_7\"],[760,\"Task 8\",\"1_16_0_8\"],[788,\"Task 9\",\"1_16_0_9\"],[798,\"Task 10\",\"1_16_0_10\"],[808,\"Task 11\",\"1_16_0_11\"],[61,\"Task 12\",\"warehouse_for_1_16_0_3\"],[28,\"Task 13\",\"filler_between_1_16_0_2_and_warehouse_for_1_16_0_3\"],[512,\"Task 14\",\"warehouse_for_1_16_0_5\"],[320,\"Task 15\",\"filler_between_warehouse_for_1_16_0_3_and_warehouse_for_1_16_0_5\"],[664,\"Task 16\",\"warehouse_for_1_16_0_6\"],[512,\"Task 17\",\"filler_between_warehouse_for_1_16_0_5_and_warehouse_for_1_16_0_6\"],[760,\"Task 18\",\"warehouse_for_1_16_0_8\"],[664,\"Task 19\",\"filler_between_warehouse_for_1_16_0_6_and_warehouse_for_1_16_0_8\"],[780,\"Task 20\",\"filler_between_warehouse_for_1_16_0_8_and_1_16_0_9\"]],\"hovertemplate\":\"Product=1_16_0\\u003cbr\\u003eStart=%{base}\\u003cbr\\u003eDuration=%{x}\\u003cbr\\u003eResource=%{y}\\u003cbr\\u003eEnd=%{customdata[0]}\\u003cbr\\u003eTask=%{customdata[1]}\\u003cbr\\u003eName=%{customdata[2]}\\u003cextra\\u003e\\u003c\\u002fextra\\u003e\",\"legendgroup\":\"1_16_0\",\"marker\":{\"color\":\"#636efa\",\"pattern\":{\"shape\":\"\"}},\"name\":\"1_16_0\",\"offsetgroup\":\"1_16_0\",\"orientation\":\"h\",\"showlegend\":true,\"textposition\":\"auto\",\"x\":[10,10,8,33,320,192,152,160,96,8,10,10,33,0,192,259,152,0,96,0,20],\"xaxis\":\"x\",\"y\":[\"Source_Source\",\"Cell_4_Transport\",\"Cell_4_Carrousel\",\"Cell_4_Staubli\",\"Cell_4_Binpick\",\"Cell_4_Staubli\",\"Cell_4_Staubli\",\"Cell_4_Binpick\",\"Cell_4_Staubli\",\"Cell_4_Carrousel\",\"Cell_4_Transport\",\"Sink_Sink\",\"Cell_4_Warehouse\",\"Cell_4_Warehouse\",\"Cell_4_Warehouse\",\"Cell_4_Warehouse\",\"Cell_4_Warehouse\",\"Cell_4_Warehouse\",\"Cell_4_Warehouse\",\"Cell_4_Warehouse\",\"Cell_4_Warehouse\"],\"yaxis\":\"y\",\"type\":\"bar\"},{\"alignmentgroup\":\"True\",\"base\":[10,20,30,38,0,320,512,504,664,760,768,778,38,38,320,71,512,512,664,664,760],\"customdata\":[[20,\"Task 21\",\"1_16_1_0\"],[30,\"Task 22\",\"1_16_1_1\"],[38,\"Task 23\",\"1_16_1_2\"],[71,\"Task 24\",\"1_16_1_3\"],[320,\"Task 25\",\"1_16_1_4\"],[512,\"Task 26\",\"1_16_1_5\"],[664,\"Task 27\",\"1_16_1_6\"],[664,\"Task 28\",\"1_16_1_7\"],[760,\"Task 29\",\"1_16_1_8\"],[768,\"Task 30\",\"1_16_1_9\"],[778,\"Task 31\",\"1_16_1_10\"],[788,\"Task 32\",\"1_16_1_11\"],[71,\"Task 33\",\"warehouse_for_1_16_1_3\"],[38,\"Task 34\",\"filler_between_1_16_1_2_and_warehouse_for_1_16_1_3\"],[512,\"Task 35\",\"warehouse_for_1_16_1_5\"],[320,\"Task 36\",\"filler_between_warehouse_for_1_16_1_3_and_warehouse_for_1_16_1_5\"],[664,\"Task 37\",\"warehouse_for_1_16_1_6\"],[512,\"Task 38\",\"filler_between_warehouse_for_1_16_1_5_and_warehouse_for_1_16_1_6\"],[760,\"Task 39\",\"warehouse_for_1_16_1_8\"],[664,\"Task 40\",\"filler_between_warehouse_for_1_16_1_6_and_warehouse_for_1_16_1_8\"],[760,\"Task 41\",\"filler_between_warehouse_for_1_16_1_8_and_1_16_1_9\"]],\"hovertemplate\":\"Product=1_16_1\\u003cbr\\u003eStart=%{base}\\u003cbr\\u003eDuration=%{x}\\u003cbr\\u003eResource=%{y}\\u003cbr\\u003eEnd=%{customdata[0]}\\u003cbr\\u003eTask=%{customdata[1]}\\u003cbr\\u003eName=%{customdata[2]}\\u003cextra\\u003e\\u003c\\u002fextra\\u003e\",\"legendgroup\":\"1_16_1\",\"marker\":{\"color\":\"#EF553B\",\"pattern\":{\"shape\":\"\"}},\"name\":\"1_16_1\",\"offsetgroup\":\"1_16_1\",\"orientation\":\"h\",\"showlegend\":true,\"textposition\":\"auto\",\"x\":[10,10,8,33,320,192,152,160,96,8,10,10,33,0,192,249,152,0,96,0,0],\"xaxis\":\"x\",\"y\":[\"Source_Source\",\"Cell_1_Transport\",\"Cell_1_Carrousel\",\"Cell_1_Staubli\",\"Cell_1_Binpick\",\"Cell_1_Staubli\",\"Cell_1_Staubli\",\"Cell_1_Binpick\",\"Cell_1_Staubli\",\"Cell_1_Carrousel\",\"Cell_1_Transport\",\"Sink_Sink\",\"Cell_1_Warehouse\",\"Cell_1_Warehouse\",\"Cell_1_Warehouse\",\"Cell_1_Warehouse\",\"Cell_1_Warehouse\",\"Cell_1_Warehouse\",\"Cell_1_Warehouse\",\"Cell_1_Warehouse\",\"Cell_1_Warehouse\"],\"yaxis\":\"y\",\"type\":\"bar\"},{\"alignmentgroup\":\"True\",\"base\":[33,43,53,71,0,320,512,504,664,800,808,818,71,61,320,104,512,512,664,664,760],\"customdata\":[[43,\"Task 42\",\"1_16_2_0\"],[53,\"Task 43\",\"1_16_2_1\"],[61,\"Task 44\",\"1_16_2_2\"],[104,\"Task 45\",\"1_16_2_3\"],[320,\"Task 46\",\"1_16_2_4\"],[512,\"Task 47\",\"1_16_2_5\"],[664,\"Task 48\",\"1_16_2_6\"],[664,\"Task 49\",\"1_16_2_7\"],[760,\"Task 50\",\"1_16_2_8\"],[808,\"Task 51\",\"1_16_2_9\"],[818,\"Task 52\",\"1_16_2_10\"],[828,\"Task 53\",\"1_16_2_11\"],[104,\"Task 54\",\"warehouse_for_1_16_2_3\"],[71,\"Task 55\",\"filler_between_1_16_2_2_and_warehouse_for_1_16_2_3\"],[512,\"Task 56\",\"warehouse_for_1_16_2_5\"],[320,\"Task 57\",\"filler_between_warehouse_for_1_16_2_3_and_warehouse_for_1_16_2_5\"],[664,\"Task 58\",\"warehouse_for_1_16_2_6\"],[512,\"Task 59\",\"filler_between_warehouse_for_1_16_2_5_and_warehouse_for_1_16_2_6\"],[760,\"Task 60\",\"warehouse_for_1_16_2_8\"],[664,\"Task 61\",\"filler_between_warehouse_for_1_16_2_6_and_warehouse_for_1_16_2_8\"],[800,\"Task 62\",\"filler_between_warehouse_for_1_16_2_8_and_1_16_2_9\"]],\"hovertemplate\":\"Product=1_16_2\\u003cbr\\u003eStart=%{base}\\u003cbr\\u003eDuration=%{x}\\u003cbr\\u003eResource=%{y}\\u003cbr\\u003eEnd=%{customdata[0]}\\u003cbr\\u003eTask=%{customdata[1]}\\u003cbr\\u003eName=%{customdata[2]}\\u003cextra\\u003e\\u003c\\u002fextra\\u003e\",\"legendgroup\":\"1_16_2\",\"marker\":{\"color\":\"#00cc96\",\"pattern\":{\"shape\":\"\"}},\"name\":\"1_16_2\",\"offsetgroup\":\"1_16_2\",\"orientation\":\"h\",\"showlegend\":true,\"textposition\":\"auto\",\"x\":[10,10,8,33,320,192,152,160,96,8,10,10,33,10,192,216,152,0,96,0,40],\"xaxis\":\"x\",\"y\":[\"Source_Source\",\"Cell_0_Transport\",\"Cell_0_Carrousel\",\"Cell_0_Staubli\",\"Cell_0_Binpick\",\"Cell_0_Staubli\",\"Cell_0_Staubli\",\"Cell_0_Binpick\",\"Cell_0_Staubli\",\"Cell_0_Carrousel\",\"Cell_0_Transport\",\"Sink_Sink\",\"Cell_0_Warehouse\",\"Cell_0_Warehouse\",\"Cell_0_Warehouse\",\"Cell_0_Warehouse\",\"Cell_0_Warehouse\",\"Cell_0_Warehouse\",\"Cell_0_Warehouse\",\"Cell_0_Warehouse\",\"Cell_0_Warehouse\"],\"yaxis\":\"y\",\"type\":\"bar\"},{\"alignmentgroup\":\"True\",\"base\":[43,53,63,71,0,320,512,504,664,770,778,788,71,71,320,104,512,512,664,664,760],\"customdata\":[[53,\"Task 63\",\"1_16_3_0\"],[63,\"Task 64\",\"1_16_3_1\"],[71,\"Task 65\",\"1_16_3_2\"],[104,\"Task 66\",\"1_16_3_3\"],[320,\"Task 67\",\"1_16_3_4\"],[512,\"Task 68\",\"1_16_3_5\"],[664,\"Task 69\",\"1_16_3_6\"],[664,\"Task 70\",\"1_16_3_7\"],[760,\"Task 71\",\"1_16_3_8\"],[778,\"Task 72\",\"1_16_3_9\"],[788,\"Task 73\",\"1_16_3_10\"],[798,\"Task 74\",\"1_16_3_11\"],[104,\"Task 75\",\"warehouse_for_1_16_3_3\"],[71,\"Task 76\",\"filler_between_1_16_3_2_and_warehouse_for_1_16_3_3\"],[512,\"Task 77\",\"warehouse_for_1_16_3_5\"],[320,\"Task 78\",\"filler_between_warehouse_for_1_16_3_3_and_warehouse_for_1_16_3_5\"],[664,\"Task 79\",\"warehouse_for_1_16_3_6\"],[512,\"Task 80\",\"filler_between_warehouse_for_1_16_3_5_and_warehouse_for_1_16_3_6\"],[760,\"Task 81\",\"warehouse_for_1_16_3_8\"],[664,\"Task 82\",\"filler_between_warehouse_for_1_16_3_6_and_warehouse_for_1_16_3_8\"],[770,\"Task 83\",\"filler_between_warehouse_for_1_16_3_8_and_1_16_3_9\"]],\"hovertemplate\":\"Product=1_16_3\\u003cbr\\u003eStart=%{base}\\u003cbr\\u003eDuration=%{x}\\u003cbr\\u003eResource=%{y}\\u003cbr\\u003eEnd=%{customdata[0]}\\u003cbr\\u003eTask=%{customdata[1]}\\u003cbr\\u003eName=%{customdata[2]}\\u003cextra\\u003e\\u003c\\u002fextra\\u003e\",\"legendgroup\":\"1_16_3\",\"marker\":{\"color\":\"#ab63fa\",\"pattern\":{\"shape\":\"\"}},\"name\":\"1_16_3\",\"offsetgroup\":\"1_16_3\",\"orientation\":\"h\",\"showlegend\":true,\"textposition\":\"auto\",\"x\":[10,10,8,33,320,192,152,160,96,8,10,10,33,0,192,216,152,0,96,0,10],\"xaxis\":\"x\",\"y\":[\"Source_Source\",\"Cell_2_Transport\",\"Cell_2_Carrousel\",\"Cell_2_Staubli\",\"Cell_2_Binpick\",\"Cell_2_Staubli\",\"Cell_2_Staubli\",\"Cell_2_Binpick\",\"Cell_2_Staubli\",\"Cell_2_Carrousel\",\"Cell_2_Transport\",\"Sink_Sink\",\"Cell_2_Warehouse\",\"Cell_2_Warehouse\",\"Cell_2_Warehouse\",\"Cell_2_Warehouse\",\"Cell_2_Warehouse\",\"Cell_2_Warehouse\",\"Cell_2_Warehouse\",\"Cell_2_Warehouse\",\"Cell_2_Warehouse\"],\"yaxis\":\"y\",\"type\":\"bar\"},{\"alignmentgroup\":\"True\",\"base\":[20,30,40,71,0,320,512,504,664,790,798,808,71,48,320,104,512,512,664,664,760],\"customdata\":[[30,\"Task 84\",\"1_16_4_0\"],[40,\"Task 85\",\"1_16_4_1\"],[48,\"Task 86\",\"1_16_4_2\"],[104,\"Task 87\",\"1_16_4_3\"],[320,\"Task 88\",\"1_16_4_4\"],[512,\"Task 89\",\"1_16_4_5\"],[664,\"Task 90\",\"1_16_4_6\"],[664,\"Task 91\",\"1_16_4_7\"],[760,\"Task 92\",\"1_16_4_8\"],[798,\"Task 93\",\"1_16_4_9\"],[808,\"Task 94\",\"1_16_4_10\"],[818,\"Task 95\",\"1_16_4_11\"],[104,\"Task 96\",\"warehouse_for_1_16_4_3\"],[71,\"Task 97\",\"filler_between_1_16_4_2_and_warehouse_for_1_16_4_3\"],[512,\"Task 98\",\"warehouse_for_1_16_4_5\"],[320,\"Task 99\",\"filler_between_warehouse_for_1_16_4_3_and_warehouse_for_1_16_4_5\"],[664,\"Task 100\",\"warehouse_for_1_16_4_6\"],[512,\"Task 101\",\"filler_between_warehouse_for_1_16_4_5_and_warehouse_for_1_16_4_6\"],[760,\"Task 102\",\"warehouse_for_1_16_4_8\"],[664,\"Task 103\",\"filler_between_warehouse_for_1_16_4_6_and_warehouse_for_1_16_4_8\"],[790,\"Task 104\",\"filler_between_warehouse_for_1_16_4_8_and_1_16_4_9\"]],\"hovertemplate\":\"Product=1_16_4\\u003cbr\\u003eStart=%{base}\\u003cbr\\u003eDuration=%{x}\\u003cbr\\u003eResource=%{y}\\u003cbr\\u003eEnd=%{customdata[0]}\\u003cbr\\u003eTask=%{customdata[1]}\\u003cbr\\u003eName=%{customdata[2]}\\u003cextra\\u003e\\u003c\\u002fextra\\u003e\",\"legendgroup\":\"1_16_4\",\"marker\":{\"color\":\"#FFA15A\",\"pattern\":{\"shape\":\"\"}},\"name\":\"1_16_4\",\"offsetgroup\":\"1_16_4\",\"orientation\":\"h\",\"showlegend\":true,\"textposition\":\"auto\",\"x\":[10,10,8,33,320,192,152,160,96,8,10,10,33,23,192,216,152,0,96,0,30],\"xaxis\":\"x\",\"y\":[\"Source_Source\",\"Cell_3_Transport\",\"Cell_3_Carrousel\",\"Cell_3_Staubli\",\"Cell_3_Binpick\",\"Cell_3_Staubli\",\"Cell_3_Staubli\",\"Cell_3_Binpick\",\"Cell_3_Staubli\",\"Cell_3_Carrousel\",\"Cell_3_Transport\",\"Sink_Sink\",\"Cell_3_Warehouse\",\"Cell_3_Warehouse\",\"Cell_3_Warehouse\",\"Cell_3_Warehouse\",\"Cell_3_Warehouse\",\"Cell_3_Warehouse\",\"Cell_3_Warehouse\",\"Cell_3_Warehouse\",\"Cell_3_Warehouse\"],\"yaxis\":\"y\",\"type\":\"bar\"}],                        {\"template\":{\"data\":{\"histogram2dcontour\":[{\"type\":\"histogram2dcontour\",\"colorbar\":{\"outlinewidth\":0,\"ticks\":\"\"},\"colorscale\":[[0.0,\"#0d0887\"],[0.1111111111111111,\"#46039f\"],[0.2222222222222222,\"#7201a8\"],[0.3333333333333333,\"#9c179e\"],[0.4444444444444444,\"#bd3786\"],[0.5555555555555556,\"#d8576b\"],[0.6666666666666666,\"#ed7953\"],[0.7777777777777778,\"#fb9f3a\"],[0.8888888888888888,\"#fdca26\"],[1.0,\"#f0f921\"]]}],\"choropleth\":[{\"type\":\"choropleth\",\"colorbar\":{\"outlinewidth\":0,\"ticks\":\"\"}}],\"histogram2d\":[{\"type\":\"histogram2d\",\"colorbar\":{\"outlinewidth\":0,\"ticks\":\"\"},\"colorscale\":[[0.0,\"#0d0887\"],[0.1111111111111111,\"#46039f\"],[0.2222222222222222,\"#7201a8\"],[0.3333333333333333,\"#9c179e\"],[0.4444444444444444,\"#bd3786\"],[0.5555555555555556,\"#d8576b\"],[0.6666666666666666,\"#ed7953\"],[0.7777777777777778,\"#fb9f3a\"],[0.8888888888888888,\"#fdca26\"],[1.0,\"#f0f921\"]]}],\"heatmap\":[{\"type\":\"heatmap\",\"colorbar\":{\"outlinewidth\":0,\"ticks\":\"\"},\"colorscale\":[[0.0,\"#0d0887\"],[0.1111111111111111,\"#46039f\"],[0.2222222222222222,\"#7201a8\"],[0.3333333333333333,\"#9c179e\"],[0.4444444444444444,\"#bd3786\"],[0.5555555555555556,\"#d8576b\"],[0.6666666666666666,\"#ed7953\"],[0.7777777777777778,\"#fb9f3a\"],[0.8888888888888888,\"#fdca26\"],[1.0,\"#f0f921\"]]}],\"heatmapgl\":[{\"type\":\"heatmapgl\",\"colorbar\":{\"outlinewidth\":0,\"ticks\":\"\"},\"colorscale\":[[0.0,\"#0d0887\"],[0.1111111111111111,\"#46039f\"],[0.2222222222222222,\"#7201a8\"],[0.3333333333333333,\"#9c179e\"],[0.4444444444444444,\"#bd3786\"],[0.5555555555555556,\"#d8576b\"],[0.6666666666666666,\"#ed7953\"],[0.7777777777777778,\"#fb9f3a\"],[0.8888888888888888,\"#fdca26\"],[1.0,\"#f0f921\"]]}],\"contourcarpet\":[{\"type\":\"contourcarpet\",\"colorbar\":{\"outlinewidth\":0,\"ticks\":\"\"}}],\"contour\":[{\"type\":\"contour\",\"colorbar\":{\"outlinewidth\":0,\"ticks\":\"\"},\"colorscale\":[[0.0,\"#0d0887\"],[0.1111111111111111,\"#46039f\"],[0.2222222222222222,\"#7201a8\"],[0.3333333333333333,\"#9c179e\"],[0.4444444444444444,\"#bd3786\"],[0.5555555555555556,\"#d8576b\"],[0.6666666666666666,\"#ed7953\"],[0.7777777777777778,\"#fb9f3a\"],[0.8888888888888888,\"#fdca26\"],[1.0,\"#f0f921\"]]}],\"surface\":[{\"type\":\"surface\",\"colorbar\":{\"outlinewidth\":0,\"ticks\":\"\"},\"colorscale\":[[0.0,\"#0d0887\"],[0.1111111111111111,\"#46039f\"],[0.2222222222222222,\"#7201a8\"],[0.3333333333333333,\"#9c179e\"],[0.4444444444444444,\"#bd3786\"],[0.5555555555555556,\"#d8576b\"],[0.6666666666666666,\"#ed7953\"],[0.7777777777777778,\"#fb9f3a\"],[0.8888888888888888,\"#fdca26\"],[1.0,\"#f0f921\"]]}],\"mesh3d\":[{\"type\":\"mesh3d\",\"colorbar\":{\"outlinewidth\":0,\"ticks\":\"\"}}],\"scatter\":[{\"marker\":{\"line\":{\"color\":\"#283442\"}},\"type\":\"scatter\"}],\"parcoords\":[{\"type\":\"parcoords\",\"line\":{\"colorbar\":{\"outlinewidth\":0,\"ticks\":\"\"}}}],\"scatterpolargl\":[{\"type\":\"scatterpolargl\",\"marker\":{\"colorbar\":{\"outlinewidth\":0,\"ticks\":\"\"}}}],\"bar\":[{\"error_x\":{\"color\":\"#f2f5fa\"},\"error_y\":{\"color\":\"#f2f5fa\"},\"marker\":{\"line\":{\"color\":\"rgb(17,17,17)\",\"width\":0.5},\"pattern\":{\"fillmode\":\"overlay\",\"size\":10,\"solidity\":0.2}},\"type\":\"bar\"}],\"scattergeo\":[{\"type\":\"scattergeo\",\"marker\":{\"colorbar\":{\"outlinewidth\":0,\"ticks\":\"\"}}}],\"scatterpolar\":[{\"type\":\"scatterpolar\",\"marker\":{\"colorbar\":{\"outlinewidth\":0,\"ticks\":\"\"}}}],\"histogram\":[{\"marker\":{\"pattern\":{\"fillmode\":\"overlay\",\"size\":10,\"solidity\":0.2}},\"type\":\"histogram\"}],\"scattergl\":[{\"marker\":{\"line\":{\"color\":\"#283442\"}},\"type\":\"scattergl\"}],\"scatter3d\":[{\"type\":\"scatter3d\",\"line\":{\"colorbar\":{\"outlinewidth\":0,\"ticks\":\"\"}},\"marker\":{\"colorbar\":{\"outlinewidth\":0,\"ticks\":\"\"}}}],\"scattermapbox\":[{\"type\":\"scattermapbox\",\"marker\":{\"colorbar\":{\"outlinewidth\":0,\"ticks\":\"\"}}}],\"scatterternary\":[{\"type\":\"scatterternary\",\"marker\":{\"colorbar\":{\"outlinewidth\":0,\"ticks\":\"\"}}}],\"scattercarpet\":[{\"type\":\"scattercarpet\",\"marker\":{\"colorbar\":{\"outlinewidth\":0,\"ticks\":\"\"}}}],\"carpet\":[{\"aaxis\":{\"endlinecolor\":\"#A2B1C6\",\"gridcolor\":\"#506784\",\"linecolor\":\"#506784\",\"minorgridcolor\":\"#506784\",\"startlinecolor\":\"#A2B1C6\"},\"baxis\":{\"endlinecolor\":\"#A2B1C6\",\"gridcolor\":\"#506784\",\"linecolor\":\"#506784\",\"minorgridcolor\":\"#506784\",\"startlinecolor\":\"#A2B1C6\"},\"type\":\"carpet\"}],\"table\":[{\"cells\":{\"fill\":{\"color\":\"#506784\"},\"line\":{\"color\":\"rgb(17,17,17)\"}},\"header\":{\"fill\":{\"color\":\"#2a3f5f\"},\"line\":{\"color\":\"rgb(17,17,17)\"}},\"type\":\"table\"}],\"barpolar\":[{\"marker\":{\"line\":{\"color\":\"rgb(17,17,17)\",\"width\":0.5},\"pattern\":{\"fillmode\":\"overlay\",\"size\":10,\"solidity\":0.2}},\"type\":\"barpolar\"}],\"pie\":[{\"automargin\":true,\"type\":\"pie\"}]},\"layout\":{\"autotypenumbers\":\"strict\",\"colorway\":[\"#636efa\",\"#EF553B\",\"#00cc96\",\"#ab63fa\",\"#FFA15A\",\"#19d3f3\",\"#FF6692\",\"#B6E880\",\"#FF97FF\",\"#FECB52\"],\"font\":{\"color\":\"#f2f5fa\"},\"hovermode\":\"closest\",\"hoverlabel\":{\"align\":\"left\"},\"paper_bgcolor\":\"rgb(17,17,17)\",\"plot_bgcolor\":\"rgb(17,17,17)\",\"polar\":{\"bgcolor\":\"rgb(17,17,17)\",\"angularaxis\":{\"gridcolor\":\"#506784\",\"linecolor\":\"#506784\",\"ticks\":\"\"},\"radialaxis\":{\"gridcolor\":\"#506784\",\"linecolor\":\"#506784\",\"ticks\":\"\"}},\"ternary\":{\"bgcolor\":\"rgb(17,17,17)\",\"aaxis\":{\"gridcolor\":\"#506784\",\"linecolor\":\"#506784\",\"ticks\":\"\"},\"baxis\":{\"gridcolor\":\"#506784\",\"linecolor\":\"#506784\",\"ticks\":\"\"},\"caxis\":{\"gridcolor\":\"#506784\",\"linecolor\":\"#506784\",\"ticks\":\"\"}},\"coloraxis\":{\"colorbar\":{\"outlinewidth\":0,\"ticks\":\"\"}},\"colorscale\":{\"sequential\":[[0.0,\"#0d0887\"],[0.1111111111111111,\"#46039f\"],[0.2222222222222222,\"#7201a8\"],[0.3333333333333333,\"#9c179e\"],[0.4444444444444444,\"#bd3786\"],[0.5555555555555556,\"#d8576b\"],[0.6666666666666666,\"#ed7953\"],[0.7777777777777778,\"#fb9f3a\"],[0.8888888888888888,\"#fdca26\"],[1.0,\"#f0f921\"]],\"sequentialminus\":[[0.0,\"#0d0887\"],[0.1111111111111111,\"#46039f\"],[0.2222222222222222,\"#7201a8\"],[0.3333333333333333,\"#9c179e\"],[0.4444444444444444,\"#bd3786\"],[0.5555555555555556,\"#d8576b\"],[0.6666666666666666,\"#ed7953\"],[0.7777777777777778,\"#fb9f3a\"],[0.8888888888888888,\"#fdca26\"],[1.0,\"#f0f921\"]],\"diverging\":[[0,\"#8e0152\"],[0.1,\"#c51b7d\"],[0.2,\"#de77ae\"],[0.3,\"#f1b6da\"],[0.4,\"#fde0ef\"],[0.5,\"#f7f7f7\"],[0.6,\"#e6f5d0\"],[0.7,\"#b8e186\"],[0.8,\"#7fbc41\"],[0.9,\"#4d9221\"],[1,\"#276419\"]]},\"xaxis\":{\"gridcolor\":\"#283442\",\"linecolor\":\"#506784\",\"ticks\":\"\",\"title\":{\"standoff\":15},\"zerolinecolor\":\"#283442\",\"automargin\":true,\"zerolinewidth\":2},\"yaxis\":{\"gridcolor\":\"#283442\",\"linecolor\":\"#506784\",\"ticks\":\"\",\"title\":{\"standoff\":15},\"zerolinecolor\":\"#283442\",\"automargin\":true,\"zerolinewidth\":2},\"scene\":{\"xaxis\":{\"backgroundcolor\":\"rgb(17,17,17)\",\"gridcolor\":\"#506784\",\"linecolor\":\"#506784\",\"showbackground\":true,\"ticks\":\"\",\"zerolinecolor\":\"#C8D4E3\",\"gridwidth\":2},\"yaxis\":{\"backgroundcolor\":\"rgb(17,17,17)\",\"gridcolor\":\"#506784\",\"linecolor\":\"#506784\",\"showbackground\":true,\"ticks\":\"\",\"zerolinecolor\":\"#C8D4E3\",\"gridwidth\":2},\"zaxis\":{\"backgroundcolor\":\"rgb(17,17,17)\",\"gridcolor\":\"#506784\",\"linecolor\":\"#506784\",\"showbackground\":true,\"ticks\":\"\",\"zerolinecolor\":\"#C8D4E3\",\"gridwidth\":2}},\"shapedefaults\":{\"line\":{\"color\":\"#f2f5fa\"}},\"annotationdefaults\":{\"arrowcolor\":\"#f2f5fa\",\"arrowhead\":0,\"arrowwidth\":1},\"geo\":{\"bgcolor\":\"rgb(17,17,17)\",\"landcolor\":\"rgb(17,17,17)\",\"subunitcolor\":\"#506784\",\"showland\":true,\"showlakes\":true,\"lakecolor\":\"rgb(17,17,17)\"},\"title\":{\"x\":0.05},\"updatemenudefaults\":{\"bgcolor\":\"#506784\",\"borderwidth\":0},\"sliderdefaults\":{\"bgcolor\":\"#C8D4E3\",\"borderwidth\":1,\"bordercolor\":\"rgb(17,17,17)\",\"tickwidth\":0},\"mapbox\":{\"style\":\"dark\"}}},\"xaxis\":{\"anchor\":\"y\",\"domain\":[0.0,1.0],\"title\":{\"text\":\"Time\"},\"showgrid\":true,\"gridcolor\":\"lightgray\",\"color\":\"white\"},\"yaxis\":{\"anchor\":\"x\",\"domain\":[0.0,1.0],\"title\":{\"text\":\"Machine\"},\"showgrid\":true,\"gridcolor\":\"lightgray\",\"color\":\"white\",\"categoryorder\":\"category ascending\"},\"legend\":{\"title\":{\"text\":\"Product\"},\"tracegroupgap\":0},\"title\":{\"text\":\"Job Shop Schedule\",\"font\":{\"color\":\"white\"}},\"barmode\":\"relative\",\"font\":{\"color\":\"white\"},\"plot_bgcolor\":\"black\",\"paper_bgcolor\":\"black\",\"height\":750},                        {\"responsive\": true}                    ).then(function(){\n",
       "                            \n",
       "var gd = document.getElementById('4fb0e111-643e-4f31-ad65-fcdfa8c0fee8');\n",
       "var x = new MutationObserver(function (mutations, observer) {{\n",
       "        var display = window.getComputedStyle(gd).display;\n",
       "        if (!display || display === 'none') {{\n",
       "            console.log([gd, 'removed!']);\n",
       "            Plotly.purge(gd);\n",
       "            observer.disconnect();\n",
       "        }}\n",
       "}});\n",
       "\n",
       "// Listen for the removal of the full notebook cells\n",
       "var notebookContainer = gd.closest('#notebook-container');\n",
       "if (notebookContainer) {{\n",
       "    x.observe(notebookContainer, {childList: true});\n",
       "}}\n",
       "\n",
       "// Listen for the clearing of the current output cell\n",
       "var outputEl = gd.closest('.output');\n",
       "if (outputEl) {{\n",
       "    x.observe(outputEl, {childList: true});\n",
       "}}\n",
       "\n",
       "                        })                };                });            </script>        </div>"
      ]
     },
     "metadata": {},
     "output_type": "display_data"
    }
   ],
   "execution_count": 33
  },
  {
   "metadata": {
    "ExecuteTime": {
     "end_time": "2025-04-08T11:26:45.708187Z",
     "start_time": "2025-04-08T11:26:39.421734Z"
    }
   },
   "cell_type": "code",
   "source": [
    "model_ilp.restore_feasiblity(dict_job_start,model_ilp.get_info())\n",
    "for solver in ['ortools']:\n",
    "    start = time.time()\n",
    "    if model_ilp.solve(solver=solver,time_limit=60):\n",
    "        end = time.time()\n",
    "        print(f'Solving for {solver} with ILP formulation: {end-start} seconds and {model_ilp.get_makespan()} of makespan')\n",
    "    else:\n",
    "        print(f'Timeout reached for {solver} with ILP formulation')"
   ],
   "id": "2b081e18eafb540e",
   "outputs": [
    {
     "name": "stdout",
     "output_type": "stream",
     "text": [
      "Solving for ortools with ILP formulation: 6.280385971069336 seconds and 910 of makespan\n"
     ]
    }
   ],
   "execution_count": 36
  },
  {
   "metadata": {
    "ExecuteTime": {
     "end_time": "2025-04-08T11:26:58.572198Z",
     "start_time": "2025-04-08T11:26:58.519903Z"
    }
   },
   "cell_type": "code",
   "source": [
    "jobs = model_ilp.get_jobs()\n",
    "info = model_ilp.get_info()\n",
    "start, duration, job_resource,_ = model_ilp.get_dv()\n",
    "info_resource = model_ilp.get_info_resource()\n",
    "to_show =  []\n",
    "dict_job_start = {}\n",
    "\n",
    "for index in range(len(start)):\n",
    "    dict_job_start[index] = start[index].value()\n",
    "\n",
    "for job,job_info in jobs.items():\n",
    "    subject = info[job_info['__id__']][0]\n",
    "    start_job = start[subject].value()\n",
    "    end_job = start[subject].value() + duration[subject].value()\n",
    "    ris_id = job_resource[subject].value()\n",
    "    resource = next((k for k, v in info_resource.items() if v == ris_id), None)\n",
    "    product = info[job_info['__id__']][2]\n",
    "    job_name = info[job_info['__id__']][4]\n",
    "    to_show.append(dict(Task = f'Task {subject}', Start= start_job,End = end_job, Resource = resource, Product = product, Name=job_name))\n",
    "\n",
    "# Convert the tasks to a DataFrame for easier manipulation\n",
    "df = pd.DataFrame(to_show)\n",
    "\n",
    "# Calculate the duration of each task\n",
    "df['Duration'] = df['End'] - df['Start']\n",
    "\n",
    "# Use px.bar to create the Gantt chart with item-based colors\n",
    "fig = px.bar(df, x='Duration', y='Resource', color='Product', orientation='h',\n",
    "             hover_data=['Start', 'End', 'Task','Name'], base='Start', title=\"Job Shop Schedule\")\n",
    "\n",
    "# Update the layout to set the background to black and adjust text/grid colors for visibility\n",
    "fig.update_layout(\n",
    "    plot_bgcolor='black',  # Set background color of the plot to black\n",
    "    paper_bgcolor='black',  # Set the overall figure background to black\n",
    "    xaxis=dict(showgrid=True, gridcolor='lightgray', title=\"Time\", color='white'),  # Set grid lines and label color to light for visibility\n",
    "    yaxis=dict(showgrid=True, gridcolor='lightgray', title=\"Machine\", color='white', categoryorder='category ascending'),  # Set grid and label color\n",
    "    font=dict(color='white'),  # Set general font color to white for readability\n",
    "    title_font=dict(color='white')  # Ensure the title font is also visible\n",
    ")\n",
    "fig.update_layout(height=750)\n",
    "fig.show()"
   ],
   "id": "f7df0d465444891c",
   "outputs": [
    {
     "data": {
      "application/vnd.plotly.v1+json": {
       "data": [
        {
         "alignmentgroup": "True",
         "base": [
          0,
          10,
          20,
          28,
          0,
          320,
          553,
          586,
          746,
          882,
          890,
          900,
          28,
          28,
          320,
          61,
          553,
          512,
          746,
          705,
          842
         ],
         "customdata": [
          [
           10,
           "Task 0",
           "1_16_0_0"
          ],
          [
           20,
           "Task 1",
           "1_16_0_1"
          ],
          [
           28,
           "Task 2",
           "1_16_0_2"
          ],
          [
           61,
           "Task 3",
           "1_16_0_3"
          ],
          [
           320,
           "Task 4",
           "1_16_0_4"
          ],
          [
           512,
           "Task 5",
           "1_16_0_5"
          ],
          [
           705,
           "Task 6",
           "1_16_0_6"
          ],
          [
           746,
           "Task 7",
           "1_16_0_7"
          ],
          [
           842,
           "Task 8",
           "1_16_0_8"
          ],
          [
           890,
           "Task 9",
           "1_16_0_9"
          ],
          [
           900,
           "Task 10",
           "1_16_0_10"
          ],
          [
           910,
           "Task 11",
           "1_16_0_11"
          ],
          [
           61,
           "Task 12",
           "warehouse_for_1_16_0_3"
          ],
          [
           28,
           "Task 13",
           "filler_between_1_16_0_2_and_warehouse_for_1_16_0_3"
          ],
          [
           512,
           "Task 14",
           "warehouse_for_1_16_0_5"
          ],
          [
           320,
           "Task 15",
           "filler_between_warehouse_for_1_16_0_3_and_warehouse_for_1_16_0_5"
          ],
          [
           705,
           "Task 16",
           "warehouse_for_1_16_0_6"
          ],
          [
           553,
           "Task 17",
           "filler_between_warehouse_for_1_16_0_5_and_warehouse_for_1_16_0_6"
          ],
          [
           842,
           "Task 18",
           "warehouse_for_1_16_0_8"
          ],
          [
           746,
           "Task 19",
           "filler_between_warehouse_for_1_16_0_6_and_warehouse_for_1_16_0_8"
          ],
          [
           882,
           "Task 20",
           "filler_between_warehouse_for_1_16_0_8_and_1_16_0_9"
          ]
         ],
         "hovertemplate": "Product=1_16_0<br>Start=%{base}<br>Duration=%{x}<br>Resource=%{y}<br>End=%{customdata[0]}<br>Task=%{customdata[1]}<br>Name=%{customdata[2]}<extra></extra>",
         "legendgroup": "1_16_0",
         "marker": {
          "color": "#636efa",
          "pattern": {
           "shape": ""
          }
         },
         "name": "1_16_0",
         "offsetgroup": "1_16_0",
         "orientation": "h",
         "showlegend": true,
         "textposition": "auto",
         "x": [
          10,
          10,
          8,
          33,
          320,
          192,
          152,
          160,
          96,
          8,
          10,
          10,
          33,
          0,
          192,
          259,
          152,
          41,
          96,
          41,
          40
         ],
         "xaxis": "x",
         "y": [
          "Source_Source",
          "Cell_4_Transport",
          "Cell_4_Carrousel",
          "Cell_4_Staubli",
          "Cell_4_Binpick",
          "Cell_4_Staubli",
          "Cell_4_Staubli",
          "Cell_4_Binpick",
          "Cell_4_Staubli",
          "Cell_4_Carrousel",
          "Cell_4_Transport",
          "Sink_Sink",
          "Cell_4_Warehouse",
          "Cell_4_Warehouse",
          "Cell_4_Warehouse",
          "Cell_4_Warehouse",
          "Cell_4_Warehouse",
          "Cell_4_Warehouse",
          "Cell_4_Warehouse",
          "Cell_4_Warehouse",
          "Cell_4_Warehouse"
         ],
         "yaxis": "y",
         "type": "bar"
        },
        {
         "alignmentgroup": "True",
         "base": [
          10,
          20,
          30,
          38,
          0,
          320,
          553,
          586,
          746,
          872,
          880,
          890,
          38,
          38,
          320,
          71,
          553,
          512,
          746,
          705,
          842
         ],
         "customdata": [
          [
           20,
           "Task 21",
           "1_16_1_0"
          ],
          [
           30,
           "Task 22",
           "1_16_1_1"
          ],
          [
           38,
           "Task 23",
           "1_16_1_2"
          ],
          [
           71,
           "Task 24",
           "1_16_1_3"
          ],
          [
           320,
           "Task 25",
           "1_16_1_4"
          ],
          [
           512,
           "Task 26",
           "1_16_1_5"
          ],
          [
           705,
           "Task 27",
           "1_16_1_6"
          ],
          [
           746,
           "Task 28",
           "1_16_1_7"
          ],
          [
           842,
           "Task 29",
           "1_16_1_8"
          ],
          [
           880,
           "Task 30",
           "1_16_1_9"
          ],
          [
           890,
           "Task 31",
           "1_16_1_10"
          ],
          [
           900,
           "Task 32",
           "1_16_1_11"
          ],
          [
           71,
           "Task 33",
           "warehouse_for_1_16_1_3"
          ],
          [
           38,
           "Task 34",
           "filler_between_1_16_1_2_and_warehouse_for_1_16_1_3"
          ],
          [
           512,
           "Task 35",
           "warehouse_for_1_16_1_5"
          ],
          [
           320,
           "Task 36",
           "filler_between_warehouse_for_1_16_1_3_and_warehouse_for_1_16_1_5"
          ],
          [
           705,
           "Task 37",
           "warehouse_for_1_16_1_6"
          ],
          [
           553,
           "Task 38",
           "filler_between_warehouse_for_1_16_1_5_and_warehouse_for_1_16_1_6"
          ],
          [
           842,
           "Task 39",
           "warehouse_for_1_16_1_8"
          ],
          [
           746,
           "Task 40",
           "filler_between_warehouse_for_1_16_1_6_and_warehouse_for_1_16_1_8"
          ],
          [
           872,
           "Task 41",
           "filler_between_warehouse_for_1_16_1_8_and_1_16_1_9"
          ]
         ],
         "hovertemplate": "Product=1_16_1<br>Start=%{base}<br>Duration=%{x}<br>Resource=%{y}<br>End=%{customdata[0]}<br>Task=%{customdata[1]}<br>Name=%{customdata[2]}<extra></extra>",
         "legendgroup": "1_16_1",
         "marker": {
          "color": "#EF553B",
          "pattern": {
           "shape": ""
          }
         },
         "name": "1_16_1",
         "offsetgroup": "1_16_1",
         "orientation": "h",
         "showlegend": true,
         "textposition": "auto",
         "x": [
          10,
          10,
          8,
          33,
          320,
          192,
          152,
          160,
          96,
          8,
          10,
          10,
          33,
          0,
          192,
          249,
          152,
          41,
          96,
          41,
          30
         ],
         "xaxis": "x",
         "y": [
          "Source_Source",
          "Cell_1_Transport",
          "Cell_1_Carrousel",
          "Cell_1_Staubli",
          "Cell_1_Binpick",
          "Cell_1_Staubli",
          "Cell_1_Staubli",
          "Cell_1_Binpick",
          "Cell_1_Staubli",
          "Cell_1_Carrousel",
          "Cell_1_Transport",
          "Sink_Sink",
          "Cell_1_Warehouse",
          "Cell_1_Warehouse",
          "Cell_1_Warehouse",
          "Cell_1_Warehouse",
          "Cell_1_Warehouse",
          "Cell_1_Warehouse",
          "Cell_1_Warehouse",
          "Cell_1_Warehouse",
          "Cell_1_Warehouse"
         ],
         "yaxis": "y",
         "type": "bar"
        },
        {
         "alignmentgroup": "True",
         "base": [
          33,
          43,
          53,
          71,
          0,
          320,
          553,
          586,
          746,
          862,
          870,
          880,
          71,
          61,
          320,
          104,
          553,
          512,
          746,
          705,
          842
         ],
         "customdata": [
          [
           43,
           "Task 42",
           "1_16_2_0"
          ],
          [
           53,
           "Task 43",
           "1_16_2_1"
          ],
          [
           61,
           "Task 44",
           "1_16_2_2"
          ],
          [
           104,
           "Task 45",
           "1_16_2_3"
          ],
          [
           320,
           "Task 46",
           "1_16_2_4"
          ],
          [
           512,
           "Task 47",
           "1_16_2_5"
          ],
          [
           705,
           "Task 48",
           "1_16_2_6"
          ],
          [
           746,
           "Task 49",
           "1_16_2_7"
          ],
          [
           842,
           "Task 50",
           "1_16_2_8"
          ],
          [
           870,
           "Task 51",
           "1_16_2_9"
          ],
          [
           880,
           "Task 52",
           "1_16_2_10"
          ],
          [
           890,
           "Task 53",
           "1_16_2_11"
          ],
          [
           104,
           "Task 54",
           "warehouse_for_1_16_2_3"
          ],
          [
           71,
           "Task 55",
           "filler_between_1_16_2_2_and_warehouse_for_1_16_2_3"
          ],
          [
           512,
           "Task 56",
           "warehouse_for_1_16_2_5"
          ],
          [
           320,
           "Task 57",
           "filler_between_warehouse_for_1_16_2_3_and_warehouse_for_1_16_2_5"
          ],
          [
           705,
           "Task 58",
           "warehouse_for_1_16_2_6"
          ],
          [
           553,
           "Task 59",
           "filler_between_warehouse_for_1_16_2_5_and_warehouse_for_1_16_2_6"
          ],
          [
           842,
           "Task 60",
           "warehouse_for_1_16_2_8"
          ],
          [
           746,
           "Task 61",
           "filler_between_warehouse_for_1_16_2_6_and_warehouse_for_1_16_2_8"
          ],
          [
           862,
           "Task 62",
           "filler_between_warehouse_for_1_16_2_8_and_1_16_2_9"
          ]
         ],
         "hovertemplate": "Product=1_16_2<br>Start=%{base}<br>Duration=%{x}<br>Resource=%{y}<br>End=%{customdata[0]}<br>Task=%{customdata[1]}<br>Name=%{customdata[2]}<extra></extra>",
         "legendgroup": "1_16_2",
         "marker": {
          "color": "#00cc96",
          "pattern": {
           "shape": ""
          }
         },
         "name": "1_16_2",
         "offsetgroup": "1_16_2",
         "orientation": "h",
         "showlegend": true,
         "textposition": "auto",
         "x": [
          10,
          10,
          8,
          33,
          320,
          192,
          152,
          160,
          96,
          8,
          10,
          10,
          33,
          10,
          192,
          216,
          152,
          41,
          96,
          41,
          20
         ],
         "xaxis": "x",
         "y": [
          "Source_Source",
          "Cell_0_Transport",
          "Cell_0_Carrousel",
          "Cell_0_Staubli",
          "Cell_0_Binpick",
          "Cell_0_Staubli",
          "Cell_0_Staubli",
          "Cell_0_Binpick",
          "Cell_0_Staubli",
          "Cell_0_Carrousel",
          "Cell_0_Transport",
          "Sink_Sink",
          "Cell_0_Warehouse",
          "Cell_0_Warehouse",
          "Cell_0_Warehouse",
          "Cell_0_Warehouse",
          "Cell_0_Warehouse",
          "Cell_0_Warehouse",
          "Cell_0_Warehouse",
          "Cell_0_Warehouse",
          "Cell_0_Warehouse"
         ],
         "yaxis": "y",
         "type": "bar"
        },
        {
         "alignmentgroup": "True",
         "base": [
          43,
          53,
          63,
          71,
          0,
          320,
          553,
          586,
          746,
          852,
          860,
          870,
          71,
          71,
          320,
          104,
          553,
          512,
          746,
          705,
          842
         ],
         "customdata": [
          [
           53,
           "Task 63",
           "1_16_3_0"
          ],
          [
           63,
           "Task 64",
           "1_16_3_1"
          ],
          [
           71,
           "Task 65",
           "1_16_3_2"
          ],
          [
           104,
           "Task 66",
           "1_16_3_3"
          ],
          [
           320,
           "Task 67",
           "1_16_3_4"
          ],
          [
           512,
           "Task 68",
           "1_16_3_5"
          ],
          [
           705,
           "Task 69",
           "1_16_3_6"
          ],
          [
           746,
           "Task 70",
           "1_16_3_7"
          ],
          [
           842,
           "Task 71",
           "1_16_3_8"
          ],
          [
           860,
           "Task 72",
           "1_16_3_9"
          ],
          [
           870,
           "Task 73",
           "1_16_3_10"
          ],
          [
           880,
           "Task 74",
           "1_16_3_11"
          ],
          [
           104,
           "Task 75",
           "warehouse_for_1_16_3_3"
          ],
          [
           71,
           "Task 76",
           "filler_between_1_16_3_2_and_warehouse_for_1_16_3_3"
          ],
          [
           512,
           "Task 77",
           "warehouse_for_1_16_3_5"
          ],
          [
           320,
           "Task 78",
           "filler_between_warehouse_for_1_16_3_3_and_warehouse_for_1_16_3_5"
          ],
          [
           705,
           "Task 79",
           "warehouse_for_1_16_3_6"
          ],
          [
           553,
           "Task 80",
           "filler_between_warehouse_for_1_16_3_5_and_warehouse_for_1_16_3_6"
          ],
          [
           842,
           "Task 81",
           "warehouse_for_1_16_3_8"
          ],
          [
           746,
           "Task 82",
           "filler_between_warehouse_for_1_16_3_6_and_warehouse_for_1_16_3_8"
          ],
          [
           852,
           "Task 83",
           "filler_between_warehouse_for_1_16_3_8_and_1_16_3_9"
          ]
         ],
         "hovertemplate": "Product=1_16_3<br>Start=%{base}<br>Duration=%{x}<br>Resource=%{y}<br>End=%{customdata[0]}<br>Task=%{customdata[1]}<br>Name=%{customdata[2]}<extra></extra>",
         "legendgroup": "1_16_3",
         "marker": {
          "color": "#ab63fa",
          "pattern": {
           "shape": ""
          }
         },
         "name": "1_16_3",
         "offsetgroup": "1_16_3",
         "orientation": "h",
         "showlegend": true,
         "textposition": "auto",
         "x": [
          10,
          10,
          8,
          33,
          320,
          192,
          152,
          160,
          96,
          8,
          10,
          10,
          33,
          0,
          192,
          216,
          152,
          41,
          96,
          41,
          10
         ],
         "xaxis": "x",
         "y": [
          "Source_Source",
          "Cell_2_Transport",
          "Cell_2_Carrousel",
          "Cell_2_Staubli",
          "Cell_2_Binpick",
          "Cell_2_Staubli",
          "Cell_2_Staubli",
          "Cell_2_Binpick",
          "Cell_2_Staubli",
          "Cell_2_Carrousel",
          "Cell_2_Transport",
          "Sink_Sink",
          "Cell_2_Warehouse",
          "Cell_2_Warehouse",
          "Cell_2_Warehouse",
          "Cell_2_Warehouse",
          "Cell_2_Warehouse",
          "Cell_2_Warehouse",
          "Cell_2_Warehouse",
          "Cell_2_Warehouse",
          "Cell_2_Warehouse"
         ],
         "yaxis": "y",
         "type": "bar"
        },
        {
         "alignmentgroup": "True",
         "base": [
          20,
          30,
          40,
          71,
          0,
          320,
          553,
          586,
          746,
          842,
          850,
          860,
          71,
          48,
          320,
          104,
          553,
          512,
          746,
          705,
          842
         ],
         "customdata": [
          [
           30,
           "Task 84",
           "1_16_4_0"
          ],
          [
           40,
           "Task 85",
           "1_16_4_1"
          ],
          [
           48,
           "Task 86",
           "1_16_4_2"
          ],
          [
           104,
           "Task 87",
           "1_16_4_3"
          ],
          [
           320,
           "Task 88",
           "1_16_4_4"
          ],
          [
           512,
           "Task 89",
           "1_16_4_5"
          ],
          [
           705,
           "Task 90",
           "1_16_4_6"
          ],
          [
           746,
           "Task 91",
           "1_16_4_7"
          ],
          [
           842,
           "Task 92",
           "1_16_4_8"
          ],
          [
           850,
           "Task 93",
           "1_16_4_9"
          ],
          [
           860,
           "Task 94",
           "1_16_4_10"
          ],
          [
           870,
           "Task 95",
           "1_16_4_11"
          ],
          [
           104,
           "Task 96",
           "warehouse_for_1_16_4_3"
          ],
          [
           71,
           "Task 97",
           "filler_between_1_16_4_2_and_warehouse_for_1_16_4_3"
          ],
          [
           512,
           "Task 98",
           "warehouse_for_1_16_4_5"
          ],
          [
           320,
           "Task 99",
           "filler_between_warehouse_for_1_16_4_3_and_warehouse_for_1_16_4_5"
          ],
          [
           705,
           "Task 100",
           "warehouse_for_1_16_4_6"
          ],
          [
           553,
           "Task 101",
           "filler_between_warehouse_for_1_16_4_5_and_warehouse_for_1_16_4_6"
          ],
          [
           842,
           "Task 102",
           "warehouse_for_1_16_4_8"
          ],
          [
           746,
           "Task 103",
           "filler_between_warehouse_for_1_16_4_6_and_warehouse_for_1_16_4_8"
          ],
          [
           842,
           "Task 104",
           "filler_between_warehouse_for_1_16_4_8_and_1_16_4_9"
          ]
         ],
         "hovertemplate": "Product=1_16_4<br>Start=%{base}<br>Duration=%{x}<br>Resource=%{y}<br>End=%{customdata[0]}<br>Task=%{customdata[1]}<br>Name=%{customdata[2]}<extra></extra>",
         "legendgroup": "1_16_4",
         "marker": {
          "color": "#FFA15A",
          "pattern": {
           "shape": ""
          }
         },
         "name": "1_16_4",
         "offsetgroup": "1_16_4",
         "orientation": "h",
         "showlegend": true,
         "textposition": "auto",
         "x": [
          10,
          10,
          8,
          33,
          320,
          192,
          152,
          160,
          96,
          8,
          10,
          10,
          33,
          23,
          192,
          216,
          152,
          41,
          96,
          41,
          0
         ],
         "xaxis": "x",
         "y": [
          "Source_Source",
          "Cell_3_Transport",
          "Cell_3_Carrousel",
          "Cell_3_Staubli",
          "Cell_3_Binpick",
          "Cell_3_Staubli",
          "Cell_3_Staubli",
          "Cell_3_Binpick",
          "Cell_3_Staubli",
          "Cell_3_Carrousel",
          "Cell_3_Transport",
          "Sink_Sink",
          "Cell_3_Warehouse",
          "Cell_3_Warehouse",
          "Cell_3_Warehouse",
          "Cell_3_Warehouse",
          "Cell_3_Warehouse",
          "Cell_3_Warehouse",
          "Cell_3_Warehouse",
          "Cell_3_Warehouse",
          "Cell_3_Warehouse"
         ],
         "yaxis": "y",
         "type": "bar"
        }
       ],
       "layout": {
        "template": {
         "data": {
          "histogram2dcontour": [
           {
            "type": "histogram2dcontour",
            "colorbar": {
             "outlinewidth": 0,
             "ticks": ""
            },
            "colorscale": [
             [
              0.0,
              "#0d0887"
             ],
             [
              0.1111111111111111,
              "#46039f"
             ],
             [
              0.2222222222222222,
              "#7201a8"
             ],
             [
              0.3333333333333333,
              "#9c179e"
             ],
             [
              0.4444444444444444,
              "#bd3786"
             ],
             [
              0.5555555555555556,
              "#d8576b"
             ],
             [
              0.6666666666666666,
              "#ed7953"
             ],
             [
              0.7777777777777778,
              "#fb9f3a"
             ],
             [
              0.8888888888888888,
              "#fdca26"
             ],
             [
              1.0,
              "#f0f921"
             ]
            ]
           }
          ],
          "choropleth": [
           {
            "type": "choropleth",
            "colorbar": {
             "outlinewidth": 0,
             "ticks": ""
            }
           }
          ],
          "histogram2d": [
           {
            "type": "histogram2d",
            "colorbar": {
             "outlinewidth": 0,
             "ticks": ""
            },
            "colorscale": [
             [
              0.0,
              "#0d0887"
             ],
             [
              0.1111111111111111,
              "#46039f"
             ],
             [
              0.2222222222222222,
              "#7201a8"
             ],
             [
              0.3333333333333333,
              "#9c179e"
             ],
             [
              0.4444444444444444,
              "#bd3786"
             ],
             [
              0.5555555555555556,
              "#d8576b"
             ],
             [
              0.6666666666666666,
              "#ed7953"
             ],
             [
              0.7777777777777778,
              "#fb9f3a"
             ],
             [
              0.8888888888888888,
              "#fdca26"
             ],
             [
              1.0,
              "#f0f921"
             ]
            ]
           }
          ],
          "heatmap": [
           {
            "type": "heatmap",
            "colorbar": {
             "outlinewidth": 0,
             "ticks": ""
            },
            "colorscale": [
             [
              0.0,
              "#0d0887"
             ],
             [
              0.1111111111111111,
              "#46039f"
             ],
             [
              0.2222222222222222,
              "#7201a8"
             ],
             [
              0.3333333333333333,
              "#9c179e"
             ],
             [
              0.4444444444444444,
              "#bd3786"
             ],
             [
              0.5555555555555556,
              "#d8576b"
             ],
             [
              0.6666666666666666,
              "#ed7953"
             ],
             [
              0.7777777777777778,
              "#fb9f3a"
             ],
             [
              0.8888888888888888,
              "#fdca26"
             ],
             [
              1.0,
              "#f0f921"
             ]
            ]
           }
          ],
          "heatmapgl": [
           {
            "type": "heatmapgl",
            "colorbar": {
             "outlinewidth": 0,
             "ticks": ""
            },
            "colorscale": [
             [
              0.0,
              "#0d0887"
             ],
             [
              0.1111111111111111,
              "#46039f"
             ],
             [
              0.2222222222222222,
              "#7201a8"
             ],
             [
              0.3333333333333333,
              "#9c179e"
             ],
             [
              0.4444444444444444,
              "#bd3786"
             ],
             [
              0.5555555555555556,
              "#d8576b"
             ],
             [
              0.6666666666666666,
              "#ed7953"
             ],
             [
              0.7777777777777778,
              "#fb9f3a"
             ],
             [
              0.8888888888888888,
              "#fdca26"
             ],
             [
              1.0,
              "#f0f921"
             ]
            ]
           }
          ],
          "contourcarpet": [
           {
            "type": "contourcarpet",
            "colorbar": {
             "outlinewidth": 0,
             "ticks": ""
            }
           }
          ],
          "contour": [
           {
            "type": "contour",
            "colorbar": {
             "outlinewidth": 0,
             "ticks": ""
            },
            "colorscale": [
             [
              0.0,
              "#0d0887"
             ],
             [
              0.1111111111111111,
              "#46039f"
             ],
             [
              0.2222222222222222,
              "#7201a8"
             ],
             [
              0.3333333333333333,
              "#9c179e"
             ],
             [
              0.4444444444444444,
              "#bd3786"
             ],
             [
              0.5555555555555556,
              "#d8576b"
             ],
             [
              0.6666666666666666,
              "#ed7953"
             ],
             [
              0.7777777777777778,
              "#fb9f3a"
             ],
             [
              0.8888888888888888,
              "#fdca26"
             ],
             [
              1.0,
              "#f0f921"
             ]
            ]
           }
          ],
          "surface": [
           {
            "type": "surface",
            "colorbar": {
             "outlinewidth": 0,
             "ticks": ""
            },
            "colorscale": [
             [
              0.0,
              "#0d0887"
             ],
             [
              0.1111111111111111,
              "#46039f"
             ],
             [
              0.2222222222222222,
              "#7201a8"
             ],
             [
              0.3333333333333333,
              "#9c179e"
             ],
             [
              0.4444444444444444,
              "#bd3786"
             ],
             [
              0.5555555555555556,
              "#d8576b"
             ],
             [
              0.6666666666666666,
              "#ed7953"
             ],
             [
              0.7777777777777778,
              "#fb9f3a"
             ],
             [
              0.8888888888888888,
              "#fdca26"
             ],
             [
              1.0,
              "#f0f921"
             ]
            ]
           }
          ],
          "mesh3d": [
           {
            "type": "mesh3d",
            "colorbar": {
             "outlinewidth": 0,
             "ticks": ""
            }
           }
          ],
          "scatter": [
           {
            "marker": {
             "line": {
              "color": "#283442"
             }
            },
            "type": "scatter"
           }
          ],
          "parcoords": [
           {
            "type": "parcoords",
            "line": {
             "colorbar": {
              "outlinewidth": 0,
              "ticks": ""
             }
            }
           }
          ],
          "scatterpolargl": [
           {
            "type": "scatterpolargl",
            "marker": {
             "colorbar": {
              "outlinewidth": 0,
              "ticks": ""
             }
            }
           }
          ],
          "bar": [
           {
            "error_x": {
             "color": "#f2f5fa"
            },
            "error_y": {
             "color": "#f2f5fa"
            },
            "marker": {
             "line": {
              "color": "rgb(17,17,17)",
              "width": 0.5
             },
             "pattern": {
              "fillmode": "overlay",
              "size": 10,
              "solidity": 0.2
             }
            },
            "type": "bar"
           }
          ],
          "scattergeo": [
           {
            "type": "scattergeo",
            "marker": {
             "colorbar": {
              "outlinewidth": 0,
              "ticks": ""
             }
            }
           }
          ],
          "scatterpolar": [
           {
            "type": "scatterpolar",
            "marker": {
             "colorbar": {
              "outlinewidth": 0,
              "ticks": ""
             }
            }
           }
          ],
          "histogram": [
           {
            "marker": {
             "pattern": {
              "fillmode": "overlay",
              "size": 10,
              "solidity": 0.2
             }
            },
            "type": "histogram"
           }
          ],
          "scattergl": [
           {
            "marker": {
             "line": {
              "color": "#283442"
             }
            },
            "type": "scattergl"
           }
          ],
          "scatter3d": [
           {
            "type": "scatter3d",
            "line": {
             "colorbar": {
              "outlinewidth": 0,
              "ticks": ""
             }
            },
            "marker": {
             "colorbar": {
              "outlinewidth": 0,
              "ticks": ""
             }
            }
           }
          ],
          "scattermapbox": [
           {
            "type": "scattermapbox",
            "marker": {
             "colorbar": {
              "outlinewidth": 0,
              "ticks": ""
             }
            }
           }
          ],
          "scatterternary": [
           {
            "type": "scatterternary",
            "marker": {
             "colorbar": {
              "outlinewidth": 0,
              "ticks": ""
             }
            }
           }
          ],
          "scattercarpet": [
           {
            "type": "scattercarpet",
            "marker": {
             "colorbar": {
              "outlinewidth": 0,
              "ticks": ""
             }
            }
           }
          ],
          "carpet": [
           {
            "aaxis": {
             "endlinecolor": "#A2B1C6",
             "gridcolor": "#506784",
             "linecolor": "#506784",
             "minorgridcolor": "#506784",
             "startlinecolor": "#A2B1C6"
            },
            "baxis": {
             "endlinecolor": "#A2B1C6",
             "gridcolor": "#506784",
             "linecolor": "#506784",
             "minorgridcolor": "#506784",
             "startlinecolor": "#A2B1C6"
            },
            "type": "carpet"
           }
          ],
          "table": [
           {
            "cells": {
             "fill": {
              "color": "#506784"
             },
             "line": {
              "color": "rgb(17,17,17)"
             }
            },
            "header": {
             "fill": {
              "color": "#2a3f5f"
             },
             "line": {
              "color": "rgb(17,17,17)"
             }
            },
            "type": "table"
           }
          ],
          "barpolar": [
           {
            "marker": {
             "line": {
              "color": "rgb(17,17,17)",
              "width": 0.5
             },
             "pattern": {
              "fillmode": "overlay",
              "size": 10,
              "solidity": 0.2
             }
            },
            "type": "barpolar"
           }
          ],
          "pie": [
           {
            "automargin": true,
            "type": "pie"
           }
          ]
         },
         "layout": {
          "autotypenumbers": "strict",
          "colorway": [
           "#636efa",
           "#EF553B",
           "#00cc96",
           "#ab63fa",
           "#FFA15A",
           "#19d3f3",
           "#FF6692",
           "#B6E880",
           "#FF97FF",
           "#FECB52"
          ],
          "font": {
           "color": "#f2f5fa"
          },
          "hovermode": "closest",
          "hoverlabel": {
           "align": "left"
          },
          "paper_bgcolor": "rgb(17,17,17)",
          "plot_bgcolor": "rgb(17,17,17)",
          "polar": {
           "bgcolor": "rgb(17,17,17)",
           "angularaxis": {
            "gridcolor": "#506784",
            "linecolor": "#506784",
            "ticks": ""
           },
           "radialaxis": {
            "gridcolor": "#506784",
            "linecolor": "#506784",
            "ticks": ""
           }
          },
          "ternary": {
           "bgcolor": "rgb(17,17,17)",
           "aaxis": {
            "gridcolor": "#506784",
            "linecolor": "#506784",
            "ticks": ""
           },
           "baxis": {
            "gridcolor": "#506784",
            "linecolor": "#506784",
            "ticks": ""
           },
           "caxis": {
            "gridcolor": "#506784",
            "linecolor": "#506784",
            "ticks": ""
           }
          },
          "coloraxis": {
           "colorbar": {
            "outlinewidth": 0,
            "ticks": ""
           }
          },
          "colorscale": {
           "sequential": [
            [
             0.0,
             "#0d0887"
            ],
            [
             0.1111111111111111,
             "#46039f"
            ],
            [
             0.2222222222222222,
             "#7201a8"
            ],
            [
             0.3333333333333333,
             "#9c179e"
            ],
            [
             0.4444444444444444,
             "#bd3786"
            ],
            [
             0.5555555555555556,
             "#d8576b"
            ],
            [
             0.6666666666666666,
             "#ed7953"
            ],
            [
             0.7777777777777778,
             "#fb9f3a"
            ],
            [
             0.8888888888888888,
             "#fdca26"
            ],
            [
             1.0,
             "#f0f921"
            ]
           ],
           "sequentialminus": [
            [
             0.0,
             "#0d0887"
            ],
            [
             0.1111111111111111,
             "#46039f"
            ],
            [
             0.2222222222222222,
             "#7201a8"
            ],
            [
             0.3333333333333333,
             "#9c179e"
            ],
            [
             0.4444444444444444,
             "#bd3786"
            ],
            [
             0.5555555555555556,
             "#d8576b"
            ],
            [
             0.6666666666666666,
             "#ed7953"
            ],
            [
             0.7777777777777778,
             "#fb9f3a"
            ],
            [
             0.8888888888888888,
             "#fdca26"
            ],
            [
             1.0,
             "#f0f921"
            ]
           ],
           "diverging": [
            [
             0,
             "#8e0152"
            ],
            [
             0.1,
             "#c51b7d"
            ],
            [
             0.2,
             "#de77ae"
            ],
            [
             0.3,
             "#f1b6da"
            ],
            [
             0.4,
             "#fde0ef"
            ],
            [
             0.5,
             "#f7f7f7"
            ],
            [
             0.6,
             "#e6f5d0"
            ],
            [
             0.7,
             "#b8e186"
            ],
            [
             0.8,
             "#7fbc41"
            ],
            [
             0.9,
             "#4d9221"
            ],
            [
             1,
             "#276419"
            ]
           ]
          },
          "xaxis": {
           "gridcolor": "#283442",
           "linecolor": "#506784",
           "ticks": "",
           "title": {
            "standoff": 15
           },
           "zerolinecolor": "#283442",
           "automargin": true,
           "zerolinewidth": 2
          },
          "yaxis": {
           "gridcolor": "#283442",
           "linecolor": "#506784",
           "ticks": "",
           "title": {
            "standoff": 15
           },
           "zerolinecolor": "#283442",
           "automargin": true,
           "zerolinewidth": 2
          },
          "scene": {
           "xaxis": {
            "backgroundcolor": "rgb(17,17,17)",
            "gridcolor": "#506784",
            "linecolor": "#506784",
            "showbackground": true,
            "ticks": "",
            "zerolinecolor": "#C8D4E3",
            "gridwidth": 2
           },
           "yaxis": {
            "backgroundcolor": "rgb(17,17,17)",
            "gridcolor": "#506784",
            "linecolor": "#506784",
            "showbackground": true,
            "ticks": "",
            "zerolinecolor": "#C8D4E3",
            "gridwidth": 2
           },
           "zaxis": {
            "backgroundcolor": "rgb(17,17,17)",
            "gridcolor": "#506784",
            "linecolor": "#506784",
            "showbackground": true,
            "ticks": "",
            "zerolinecolor": "#C8D4E3",
            "gridwidth": 2
           }
          },
          "shapedefaults": {
           "line": {
            "color": "#f2f5fa"
           }
          },
          "annotationdefaults": {
           "arrowcolor": "#f2f5fa",
           "arrowhead": 0,
           "arrowwidth": 1
          },
          "geo": {
           "bgcolor": "rgb(17,17,17)",
           "landcolor": "rgb(17,17,17)",
           "subunitcolor": "#506784",
           "showland": true,
           "showlakes": true,
           "lakecolor": "rgb(17,17,17)"
          },
          "title": {
           "x": 0.05
          },
          "updatemenudefaults": {
           "bgcolor": "#506784",
           "borderwidth": 0
          },
          "sliderdefaults": {
           "bgcolor": "#C8D4E3",
           "borderwidth": 1,
           "bordercolor": "rgb(17,17,17)",
           "tickwidth": 0
          },
          "mapbox": {
           "style": "dark"
          }
         }
        },
        "xaxis": {
         "anchor": "y",
         "domain": [
          0.0,
          1.0
         ],
         "title": {
          "text": "Time"
         },
         "showgrid": true,
         "gridcolor": "lightgray",
         "color": "white"
        },
        "yaxis": {
         "anchor": "x",
         "domain": [
          0.0,
          1.0
         ],
         "title": {
          "text": "Machine"
         },
         "showgrid": true,
         "gridcolor": "lightgray",
         "color": "white",
         "categoryorder": "category ascending"
        },
        "legend": {
         "title": {
          "text": "Product"
         },
         "tracegroupgap": 0
        },
        "title": {
         "text": "Job Shop Schedule",
         "font": {
          "color": "white"
         }
        },
        "barmode": "relative",
        "font": {
         "color": "white"
        },
        "plot_bgcolor": "black",
        "paper_bgcolor": "black",
        "height": 750
       },
       "config": {
        "plotlyServerURL": "https://plot.ly"
       }
      },
      "text/html": [
       "<div>                            <div id=\"64961e2c-89fd-42d8-802c-a3806b89ca81\" class=\"plotly-graph-div\" style=\"height:750px; width:100%;\"></div>            <script type=\"text/javascript\">                require([\"plotly\"], function(Plotly) {                    window.PLOTLYENV=window.PLOTLYENV || {};                                    if (document.getElementById(\"64961e2c-89fd-42d8-802c-a3806b89ca81\")) {                    Plotly.newPlot(                        \"64961e2c-89fd-42d8-802c-a3806b89ca81\",                        [{\"alignmentgroup\":\"True\",\"base\":[0,10,20,28,0,320,553,586,746,882,890,900,28,28,320,61,553,512,746,705,842],\"customdata\":[[10,\"Task 0\",\"1_16_0_0\"],[20,\"Task 1\",\"1_16_0_1\"],[28,\"Task 2\",\"1_16_0_2\"],[61,\"Task 3\",\"1_16_0_3\"],[320,\"Task 4\",\"1_16_0_4\"],[512,\"Task 5\",\"1_16_0_5\"],[705,\"Task 6\",\"1_16_0_6\"],[746,\"Task 7\",\"1_16_0_7\"],[842,\"Task 8\",\"1_16_0_8\"],[890,\"Task 9\",\"1_16_0_9\"],[900,\"Task 10\",\"1_16_0_10\"],[910,\"Task 11\",\"1_16_0_11\"],[61,\"Task 12\",\"warehouse_for_1_16_0_3\"],[28,\"Task 13\",\"filler_between_1_16_0_2_and_warehouse_for_1_16_0_3\"],[512,\"Task 14\",\"warehouse_for_1_16_0_5\"],[320,\"Task 15\",\"filler_between_warehouse_for_1_16_0_3_and_warehouse_for_1_16_0_5\"],[705,\"Task 16\",\"warehouse_for_1_16_0_6\"],[553,\"Task 17\",\"filler_between_warehouse_for_1_16_0_5_and_warehouse_for_1_16_0_6\"],[842,\"Task 18\",\"warehouse_for_1_16_0_8\"],[746,\"Task 19\",\"filler_between_warehouse_for_1_16_0_6_and_warehouse_for_1_16_0_8\"],[882,\"Task 20\",\"filler_between_warehouse_for_1_16_0_8_and_1_16_0_9\"]],\"hovertemplate\":\"Product=1_16_0\\u003cbr\\u003eStart=%{base}\\u003cbr\\u003eDuration=%{x}\\u003cbr\\u003eResource=%{y}\\u003cbr\\u003eEnd=%{customdata[0]}\\u003cbr\\u003eTask=%{customdata[1]}\\u003cbr\\u003eName=%{customdata[2]}\\u003cextra\\u003e\\u003c\\u002fextra\\u003e\",\"legendgroup\":\"1_16_0\",\"marker\":{\"color\":\"#636efa\",\"pattern\":{\"shape\":\"\"}},\"name\":\"1_16_0\",\"offsetgroup\":\"1_16_0\",\"orientation\":\"h\",\"showlegend\":true,\"textposition\":\"auto\",\"x\":[10,10,8,33,320,192,152,160,96,8,10,10,33,0,192,259,152,41,96,41,40],\"xaxis\":\"x\",\"y\":[\"Source_Source\",\"Cell_4_Transport\",\"Cell_4_Carrousel\",\"Cell_4_Staubli\",\"Cell_4_Binpick\",\"Cell_4_Staubli\",\"Cell_4_Staubli\",\"Cell_4_Binpick\",\"Cell_4_Staubli\",\"Cell_4_Carrousel\",\"Cell_4_Transport\",\"Sink_Sink\",\"Cell_4_Warehouse\",\"Cell_4_Warehouse\",\"Cell_4_Warehouse\",\"Cell_4_Warehouse\",\"Cell_4_Warehouse\",\"Cell_4_Warehouse\",\"Cell_4_Warehouse\",\"Cell_4_Warehouse\",\"Cell_4_Warehouse\"],\"yaxis\":\"y\",\"type\":\"bar\"},{\"alignmentgroup\":\"True\",\"base\":[10,20,30,38,0,320,553,586,746,872,880,890,38,38,320,71,553,512,746,705,842],\"customdata\":[[20,\"Task 21\",\"1_16_1_0\"],[30,\"Task 22\",\"1_16_1_1\"],[38,\"Task 23\",\"1_16_1_2\"],[71,\"Task 24\",\"1_16_1_3\"],[320,\"Task 25\",\"1_16_1_4\"],[512,\"Task 26\",\"1_16_1_5\"],[705,\"Task 27\",\"1_16_1_6\"],[746,\"Task 28\",\"1_16_1_7\"],[842,\"Task 29\",\"1_16_1_8\"],[880,\"Task 30\",\"1_16_1_9\"],[890,\"Task 31\",\"1_16_1_10\"],[900,\"Task 32\",\"1_16_1_11\"],[71,\"Task 33\",\"warehouse_for_1_16_1_3\"],[38,\"Task 34\",\"filler_between_1_16_1_2_and_warehouse_for_1_16_1_3\"],[512,\"Task 35\",\"warehouse_for_1_16_1_5\"],[320,\"Task 36\",\"filler_between_warehouse_for_1_16_1_3_and_warehouse_for_1_16_1_5\"],[705,\"Task 37\",\"warehouse_for_1_16_1_6\"],[553,\"Task 38\",\"filler_between_warehouse_for_1_16_1_5_and_warehouse_for_1_16_1_6\"],[842,\"Task 39\",\"warehouse_for_1_16_1_8\"],[746,\"Task 40\",\"filler_between_warehouse_for_1_16_1_6_and_warehouse_for_1_16_1_8\"],[872,\"Task 41\",\"filler_between_warehouse_for_1_16_1_8_and_1_16_1_9\"]],\"hovertemplate\":\"Product=1_16_1\\u003cbr\\u003eStart=%{base}\\u003cbr\\u003eDuration=%{x}\\u003cbr\\u003eResource=%{y}\\u003cbr\\u003eEnd=%{customdata[0]}\\u003cbr\\u003eTask=%{customdata[1]}\\u003cbr\\u003eName=%{customdata[2]}\\u003cextra\\u003e\\u003c\\u002fextra\\u003e\",\"legendgroup\":\"1_16_1\",\"marker\":{\"color\":\"#EF553B\",\"pattern\":{\"shape\":\"\"}},\"name\":\"1_16_1\",\"offsetgroup\":\"1_16_1\",\"orientation\":\"h\",\"showlegend\":true,\"textposition\":\"auto\",\"x\":[10,10,8,33,320,192,152,160,96,8,10,10,33,0,192,249,152,41,96,41,30],\"xaxis\":\"x\",\"y\":[\"Source_Source\",\"Cell_1_Transport\",\"Cell_1_Carrousel\",\"Cell_1_Staubli\",\"Cell_1_Binpick\",\"Cell_1_Staubli\",\"Cell_1_Staubli\",\"Cell_1_Binpick\",\"Cell_1_Staubli\",\"Cell_1_Carrousel\",\"Cell_1_Transport\",\"Sink_Sink\",\"Cell_1_Warehouse\",\"Cell_1_Warehouse\",\"Cell_1_Warehouse\",\"Cell_1_Warehouse\",\"Cell_1_Warehouse\",\"Cell_1_Warehouse\",\"Cell_1_Warehouse\",\"Cell_1_Warehouse\",\"Cell_1_Warehouse\"],\"yaxis\":\"y\",\"type\":\"bar\"},{\"alignmentgroup\":\"True\",\"base\":[33,43,53,71,0,320,553,586,746,862,870,880,71,61,320,104,553,512,746,705,842],\"customdata\":[[43,\"Task 42\",\"1_16_2_0\"],[53,\"Task 43\",\"1_16_2_1\"],[61,\"Task 44\",\"1_16_2_2\"],[104,\"Task 45\",\"1_16_2_3\"],[320,\"Task 46\",\"1_16_2_4\"],[512,\"Task 47\",\"1_16_2_5\"],[705,\"Task 48\",\"1_16_2_6\"],[746,\"Task 49\",\"1_16_2_7\"],[842,\"Task 50\",\"1_16_2_8\"],[870,\"Task 51\",\"1_16_2_9\"],[880,\"Task 52\",\"1_16_2_10\"],[890,\"Task 53\",\"1_16_2_11\"],[104,\"Task 54\",\"warehouse_for_1_16_2_3\"],[71,\"Task 55\",\"filler_between_1_16_2_2_and_warehouse_for_1_16_2_3\"],[512,\"Task 56\",\"warehouse_for_1_16_2_5\"],[320,\"Task 57\",\"filler_between_warehouse_for_1_16_2_3_and_warehouse_for_1_16_2_5\"],[705,\"Task 58\",\"warehouse_for_1_16_2_6\"],[553,\"Task 59\",\"filler_between_warehouse_for_1_16_2_5_and_warehouse_for_1_16_2_6\"],[842,\"Task 60\",\"warehouse_for_1_16_2_8\"],[746,\"Task 61\",\"filler_between_warehouse_for_1_16_2_6_and_warehouse_for_1_16_2_8\"],[862,\"Task 62\",\"filler_between_warehouse_for_1_16_2_8_and_1_16_2_9\"]],\"hovertemplate\":\"Product=1_16_2\\u003cbr\\u003eStart=%{base}\\u003cbr\\u003eDuration=%{x}\\u003cbr\\u003eResource=%{y}\\u003cbr\\u003eEnd=%{customdata[0]}\\u003cbr\\u003eTask=%{customdata[1]}\\u003cbr\\u003eName=%{customdata[2]}\\u003cextra\\u003e\\u003c\\u002fextra\\u003e\",\"legendgroup\":\"1_16_2\",\"marker\":{\"color\":\"#00cc96\",\"pattern\":{\"shape\":\"\"}},\"name\":\"1_16_2\",\"offsetgroup\":\"1_16_2\",\"orientation\":\"h\",\"showlegend\":true,\"textposition\":\"auto\",\"x\":[10,10,8,33,320,192,152,160,96,8,10,10,33,10,192,216,152,41,96,41,20],\"xaxis\":\"x\",\"y\":[\"Source_Source\",\"Cell_0_Transport\",\"Cell_0_Carrousel\",\"Cell_0_Staubli\",\"Cell_0_Binpick\",\"Cell_0_Staubli\",\"Cell_0_Staubli\",\"Cell_0_Binpick\",\"Cell_0_Staubli\",\"Cell_0_Carrousel\",\"Cell_0_Transport\",\"Sink_Sink\",\"Cell_0_Warehouse\",\"Cell_0_Warehouse\",\"Cell_0_Warehouse\",\"Cell_0_Warehouse\",\"Cell_0_Warehouse\",\"Cell_0_Warehouse\",\"Cell_0_Warehouse\",\"Cell_0_Warehouse\",\"Cell_0_Warehouse\"],\"yaxis\":\"y\",\"type\":\"bar\"},{\"alignmentgroup\":\"True\",\"base\":[43,53,63,71,0,320,553,586,746,852,860,870,71,71,320,104,553,512,746,705,842],\"customdata\":[[53,\"Task 63\",\"1_16_3_0\"],[63,\"Task 64\",\"1_16_3_1\"],[71,\"Task 65\",\"1_16_3_2\"],[104,\"Task 66\",\"1_16_3_3\"],[320,\"Task 67\",\"1_16_3_4\"],[512,\"Task 68\",\"1_16_3_5\"],[705,\"Task 69\",\"1_16_3_6\"],[746,\"Task 70\",\"1_16_3_7\"],[842,\"Task 71\",\"1_16_3_8\"],[860,\"Task 72\",\"1_16_3_9\"],[870,\"Task 73\",\"1_16_3_10\"],[880,\"Task 74\",\"1_16_3_11\"],[104,\"Task 75\",\"warehouse_for_1_16_3_3\"],[71,\"Task 76\",\"filler_between_1_16_3_2_and_warehouse_for_1_16_3_3\"],[512,\"Task 77\",\"warehouse_for_1_16_3_5\"],[320,\"Task 78\",\"filler_between_warehouse_for_1_16_3_3_and_warehouse_for_1_16_3_5\"],[705,\"Task 79\",\"warehouse_for_1_16_3_6\"],[553,\"Task 80\",\"filler_between_warehouse_for_1_16_3_5_and_warehouse_for_1_16_3_6\"],[842,\"Task 81\",\"warehouse_for_1_16_3_8\"],[746,\"Task 82\",\"filler_between_warehouse_for_1_16_3_6_and_warehouse_for_1_16_3_8\"],[852,\"Task 83\",\"filler_between_warehouse_for_1_16_3_8_and_1_16_3_9\"]],\"hovertemplate\":\"Product=1_16_3\\u003cbr\\u003eStart=%{base}\\u003cbr\\u003eDuration=%{x}\\u003cbr\\u003eResource=%{y}\\u003cbr\\u003eEnd=%{customdata[0]}\\u003cbr\\u003eTask=%{customdata[1]}\\u003cbr\\u003eName=%{customdata[2]}\\u003cextra\\u003e\\u003c\\u002fextra\\u003e\",\"legendgroup\":\"1_16_3\",\"marker\":{\"color\":\"#ab63fa\",\"pattern\":{\"shape\":\"\"}},\"name\":\"1_16_3\",\"offsetgroup\":\"1_16_3\",\"orientation\":\"h\",\"showlegend\":true,\"textposition\":\"auto\",\"x\":[10,10,8,33,320,192,152,160,96,8,10,10,33,0,192,216,152,41,96,41,10],\"xaxis\":\"x\",\"y\":[\"Source_Source\",\"Cell_2_Transport\",\"Cell_2_Carrousel\",\"Cell_2_Staubli\",\"Cell_2_Binpick\",\"Cell_2_Staubli\",\"Cell_2_Staubli\",\"Cell_2_Binpick\",\"Cell_2_Staubli\",\"Cell_2_Carrousel\",\"Cell_2_Transport\",\"Sink_Sink\",\"Cell_2_Warehouse\",\"Cell_2_Warehouse\",\"Cell_2_Warehouse\",\"Cell_2_Warehouse\",\"Cell_2_Warehouse\",\"Cell_2_Warehouse\",\"Cell_2_Warehouse\",\"Cell_2_Warehouse\",\"Cell_2_Warehouse\"],\"yaxis\":\"y\",\"type\":\"bar\"},{\"alignmentgroup\":\"True\",\"base\":[20,30,40,71,0,320,553,586,746,842,850,860,71,48,320,104,553,512,746,705,842],\"customdata\":[[30,\"Task 84\",\"1_16_4_0\"],[40,\"Task 85\",\"1_16_4_1\"],[48,\"Task 86\",\"1_16_4_2\"],[104,\"Task 87\",\"1_16_4_3\"],[320,\"Task 88\",\"1_16_4_4\"],[512,\"Task 89\",\"1_16_4_5\"],[705,\"Task 90\",\"1_16_4_6\"],[746,\"Task 91\",\"1_16_4_7\"],[842,\"Task 92\",\"1_16_4_8\"],[850,\"Task 93\",\"1_16_4_9\"],[860,\"Task 94\",\"1_16_4_10\"],[870,\"Task 95\",\"1_16_4_11\"],[104,\"Task 96\",\"warehouse_for_1_16_4_3\"],[71,\"Task 97\",\"filler_between_1_16_4_2_and_warehouse_for_1_16_4_3\"],[512,\"Task 98\",\"warehouse_for_1_16_4_5\"],[320,\"Task 99\",\"filler_between_warehouse_for_1_16_4_3_and_warehouse_for_1_16_4_5\"],[705,\"Task 100\",\"warehouse_for_1_16_4_6\"],[553,\"Task 101\",\"filler_between_warehouse_for_1_16_4_5_and_warehouse_for_1_16_4_6\"],[842,\"Task 102\",\"warehouse_for_1_16_4_8\"],[746,\"Task 103\",\"filler_between_warehouse_for_1_16_4_6_and_warehouse_for_1_16_4_8\"],[842,\"Task 104\",\"filler_between_warehouse_for_1_16_4_8_and_1_16_4_9\"]],\"hovertemplate\":\"Product=1_16_4\\u003cbr\\u003eStart=%{base}\\u003cbr\\u003eDuration=%{x}\\u003cbr\\u003eResource=%{y}\\u003cbr\\u003eEnd=%{customdata[0]}\\u003cbr\\u003eTask=%{customdata[1]}\\u003cbr\\u003eName=%{customdata[2]}\\u003cextra\\u003e\\u003c\\u002fextra\\u003e\",\"legendgroup\":\"1_16_4\",\"marker\":{\"color\":\"#FFA15A\",\"pattern\":{\"shape\":\"\"}},\"name\":\"1_16_4\",\"offsetgroup\":\"1_16_4\",\"orientation\":\"h\",\"showlegend\":true,\"textposition\":\"auto\",\"x\":[10,10,8,33,320,192,152,160,96,8,10,10,33,23,192,216,152,41,96,41,0],\"xaxis\":\"x\",\"y\":[\"Source_Source\",\"Cell_3_Transport\",\"Cell_3_Carrousel\",\"Cell_3_Staubli\",\"Cell_3_Binpick\",\"Cell_3_Staubli\",\"Cell_3_Staubli\",\"Cell_3_Binpick\",\"Cell_3_Staubli\",\"Cell_3_Carrousel\",\"Cell_3_Transport\",\"Sink_Sink\",\"Cell_3_Warehouse\",\"Cell_3_Warehouse\",\"Cell_3_Warehouse\",\"Cell_3_Warehouse\",\"Cell_3_Warehouse\",\"Cell_3_Warehouse\",\"Cell_3_Warehouse\",\"Cell_3_Warehouse\",\"Cell_3_Warehouse\"],\"yaxis\":\"y\",\"type\":\"bar\"}],                        {\"template\":{\"data\":{\"histogram2dcontour\":[{\"type\":\"histogram2dcontour\",\"colorbar\":{\"outlinewidth\":0,\"ticks\":\"\"},\"colorscale\":[[0.0,\"#0d0887\"],[0.1111111111111111,\"#46039f\"],[0.2222222222222222,\"#7201a8\"],[0.3333333333333333,\"#9c179e\"],[0.4444444444444444,\"#bd3786\"],[0.5555555555555556,\"#d8576b\"],[0.6666666666666666,\"#ed7953\"],[0.7777777777777778,\"#fb9f3a\"],[0.8888888888888888,\"#fdca26\"],[1.0,\"#f0f921\"]]}],\"choropleth\":[{\"type\":\"choropleth\",\"colorbar\":{\"outlinewidth\":0,\"ticks\":\"\"}}],\"histogram2d\":[{\"type\":\"histogram2d\",\"colorbar\":{\"outlinewidth\":0,\"ticks\":\"\"},\"colorscale\":[[0.0,\"#0d0887\"],[0.1111111111111111,\"#46039f\"],[0.2222222222222222,\"#7201a8\"],[0.3333333333333333,\"#9c179e\"],[0.4444444444444444,\"#bd3786\"],[0.5555555555555556,\"#d8576b\"],[0.6666666666666666,\"#ed7953\"],[0.7777777777777778,\"#fb9f3a\"],[0.8888888888888888,\"#fdca26\"],[1.0,\"#f0f921\"]]}],\"heatmap\":[{\"type\":\"heatmap\",\"colorbar\":{\"outlinewidth\":0,\"ticks\":\"\"},\"colorscale\":[[0.0,\"#0d0887\"],[0.1111111111111111,\"#46039f\"],[0.2222222222222222,\"#7201a8\"],[0.3333333333333333,\"#9c179e\"],[0.4444444444444444,\"#bd3786\"],[0.5555555555555556,\"#d8576b\"],[0.6666666666666666,\"#ed7953\"],[0.7777777777777778,\"#fb9f3a\"],[0.8888888888888888,\"#fdca26\"],[1.0,\"#f0f921\"]]}],\"heatmapgl\":[{\"type\":\"heatmapgl\",\"colorbar\":{\"outlinewidth\":0,\"ticks\":\"\"},\"colorscale\":[[0.0,\"#0d0887\"],[0.1111111111111111,\"#46039f\"],[0.2222222222222222,\"#7201a8\"],[0.3333333333333333,\"#9c179e\"],[0.4444444444444444,\"#bd3786\"],[0.5555555555555556,\"#d8576b\"],[0.6666666666666666,\"#ed7953\"],[0.7777777777777778,\"#fb9f3a\"],[0.8888888888888888,\"#fdca26\"],[1.0,\"#f0f921\"]]}],\"contourcarpet\":[{\"type\":\"contourcarpet\",\"colorbar\":{\"outlinewidth\":0,\"ticks\":\"\"}}],\"contour\":[{\"type\":\"contour\",\"colorbar\":{\"outlinewidth\":0,\"ticks\":\"\"},\"colorscale\":[[0.0,\"#0d0887\"],[0.1111111111111111,\"#46039f\"],[0.2222222222222222,\"#7201a8\"],[0.3333333333333333,\"#9c179e\"],[0.4444444444444444,\"#bd3786\"],[0.5555555555555556,\"#d8576b\"],[0.6666666666666666,\"#ed7953\"],[0.7777777777777778,\"#fb9f3a\"],[0.8888888888888888,\"#fdca26\"],[1.0,\"#f0f921\"]]}],\"surface\":[{\"type\":\"surface\",\"colorbar\":{\"outlinewidth\":0,\"ticks\":\"\"},\"colorscale\":[[0.0,\"#0d0887\"],[0.1111111111111111,\"#46039f\"],[0.2222222222222222,\"#7201a8\"],[0.3333333333333333,\"#9c179e\"],[0.4444444444444444,\"#bd3786\"],[0.5555555555555556,\"#d8576b\"],[0.6666666666666666,\"#ed7953\"],[0.7777777777777778,\"#fb9f3a\"],[0.8888888888888888,\"#fdca26\"],[1.0,\"#f0f921\"]]}],\"mesh3d\":[{\"type\":\"mesh3d\",\"colorbar\":{\"outlinewidth\":0,\"ticks\":\"\"}}],\"scatter\":[{\"marker\":{\"line\":{\"color\":\"#283442\"}},\"type\":\"scatter\"}],\"parcoords\":[{\"type\":\"parcoords\",\"line\":{\"colorbar\":{\"outlinewidth\":0,\"ticks\":\"\"}}}],\"scatterpolargl\":[{\"type\":\"scatterpolargl\",\"marker\":{\"colorbar\":{\"outlinewidth\":0,\"ticks\":\"\"}}}],\"bar\":[{\"error_x\":{\"color\":\"#f2f5fa\"},\"error_y\":{\"color\":\"#f2f5fa\"},\"marker\":{\"line\":{\"color\":\"rgb(17,17,17)\",\"width\":0.5},\"pattern\":{\"fillmode\":\"overlay\",\"size\":10,\"solidity\":0.2}},\"type\":\"bar\"}],\"scattergeo\":[{\"type\":\"scattergeo\",\"marker\":{\"colorbar\":{\"outlinewidth\":0,\"ticks\":\"\"}}}],\"scatterpolar\":[{\"type\":\"scatterpolar\",\"marker\":{\"colorbar\":{\"outlinewidth\":0,\"ticks\":\"\"}}}],\"histogram\":[{\"marker\":{\"pattern\":{\"fillmode\":\"overlay\",\"size\":10,\"solidity\":0.2}},\"type\":\"histogram\"}],\"scattergl\":[{\"marker\":{\"line\":{\"color\":\"#283442\"}},\"type\":\"scattergl\"}],\"scatter3d\":[{\"type\":\"scatter3d\",\"line\":{\"colorbar\":{\"outlinewidth\":0,\"ticks\":\"\"}},\"marker\":{\"colorbar\":{\"outlinewidth\":0,\"ticks\":\"\"}}}],\"scattermapbox\":[{\"type\":\"scattermapbox\",\"marker\":{\"colorbar\":{\"outlinewidth\":0,\"ticks\":\"\"}}}],\"scatterternary\":[{\"type\":\"scatterternary\",\"marker\":{\"colorbar\":{\"outlinewidth\":0,\"ticks\":\"\"}}}],\"scattercarpet\":[{\"type\":\"scattercarpet\",\"marker\":{\"colorbar\":{\"outlinewidth\":0,\"ticks\":\"\"}}}],\"carpet\":[{\"aaxis\":{\"endlinecolor\":\"#A2B1C6\",\"gridcolor\":\"#506784\",\"linecolor\":\"#506784\",\"minorgridcolor\":\"#506784\",\"startlinecolor\":\"#A2B1C6\"},\"baxis\":{\"endlinecolor\":\"#A2B1C6\",\"gridcolor\":\"#506784\",\"linecolor\":\"#506784\",\"minorgridcolor\":\"#506784\",\"startlinecolor\":\"#A2B1C6\"},\"type\":\"carpet\"}],\"table\":[{\"cells\":{\"fill\":{\"color\":\"#506784\"},\"line\":{\"color\":\"rgb(17,17,17)\"}},\"header\":{\"fill\":{\"color\":\"#2a3f5f\"},\"line\":{\"color\":\"rgb(17,17,17)\"}},\"type\":\"table\"}],\"barpolar\":[{\"marker\":{\"line\":{\"color\":\"rgb(17,17,17)\",\"width\":0.5},\"pattern\":{\"fillmode\":\"overlay\",\"size\":10,\"solidity\":0.2}},\"type\":\"barpolar\"}],\"pie\":[{\"automargin\":true,\"type\":\"pie\"}]},\"layout\":{\"autotypenumbers\":\"strict\",\"colorway\":[\"#636efa\",\"#EF553B\",\"#00cc96\",\"#ab63fa\",\"#FFA15A\",\"#19d3f3\",\"#FF6692\",\"#B6E880\",\"#FF97FF\",\"#FECB52\"],\"font\":{\"color\":\"#f2f5fa\"},\"hovermode\":\"closest\",\"hoverlabel\":{\"align\":\"left\"},\"paper_bgcolor\":\"rgb(17,17,17)\",\"plot_bgcolor\":\"rgb(17,17,17)\",\"polar\":{\"bgcolor\":\"rgb(17,17,17)\",\"angularaxis\":{\"gridcolor\":\"#506784\",\"linecolor\":\"#506784\",\"ticks\":\"\"},\"radialaxis\":{\"gridcolor\":\"#506784\",\"linecolor\":\"#506784\",\"ticks\":\"\"}},\"ternary\":{\"bgcolor\":\"rgb(17,17,17)\",\"aaxis\":{\"gridcolor\":\"#506784\",\"linecolor\":\"#506784\",\"ticks\":\"\"},\"baxis\":{\"gridcolor\":\"#506784\",\"linecolor\":\"#506784\",\"ticks\":\"\"},\"caxis\":{\"gridcolor\":\"#506784\",\"linecolor\":\"#506784\",\"ticks\":\"\"}},\"coloraxis\":{\"colorbar\":{\"outlinewidth\":0,\"ticks\":\"\"}},\"colorscale\":{\"sequential\":[[0.0,\"#0d0887\"],[0.1111111111111111,\"#46039f\"],[0.2222222222222222,\"#7201a8\"],[0.3333333333333333,\"#9c179e\"],[0.4444444444444444,\"#bd3786\"],[0.5555555555555556,\"#d8576b\"],[0.6666666666666666,\"#ed7953\"],[0.7777777777777778,\"#fb9f3a\"],[0.8888888888888888,\"#fdca26\"],[1.0,\"#f0f921\"]],\"sequentialminus\":[[0.0,\"#0d0887\"],[0.1111111111111111,\"#46039f\"],[0.2222222222222222,\"#7201a8\"],[0.3333333333333333,\"#9c179e\"],[0.4444444444444444,\"#bd3786\"],[0.5555555555555556,\"#d8576b\"],[0.6666666666666666,\"#ed7953\"],[0.7777777777777778,\"#fb9f3a\"],[0.8888888888888888,\"#fdca26\"],[1.0,\"#f0f921\"]],\"diverging\":[[0,\"#8e0152\"],[0.1,\"#c51b7d\"],[0.2,\"#de77ae\"],[0.3,\"#f1b6da\"],[0.4,\"#fde0ef\"],[0.5,\"#f7f7f7\"],[0.6,\"#e6f5d0\"],[0.7,\"#b8e186\"],[0.8,\"#7fbc41\"],[0.9,\"#4d9221\"],[1,\"#276419\"]]},\"xaxis\":{\"gridcolor\":\"#283442\",\"linecolor\":\"#506784\",\"ticks\":\"\",\"title\":{\"standoff\":15},\"zerolinecolor\":\"#283442\",\"automargin\":true,\"zerolinewidth\":2},\"yaxis\":{\"gridcolor\":\"#283442\",\"linecolor\":\"#506784\",\"ticks\":\"\",\"title\":{\"standoff\":15},\"zerolinecolor\":\"#283442\",\"automargin\":true,\"zerolinewidth\":2},\"scene\":{\"xaxis\":{\"backgroundcolor\":\"rgb(17,17,17)\",\"gridcolor\":\"#506784\",\"linecolor\":\"#506784\",\"showbackground\":true,\"ticks\":\"\",\"zerolinecolor\":\"#C8D4E3\",\"gridwidth\":2},\"yaxis\":{\"backgroundcolor\":\"rgb(17,17,17)\",\"gridcolor\":\"#506784\",\"linecolor\":\"#506784\",\"showbackground\":true,\"ticks\":\"\",\"zerolinecolor\":\"#C8D4E3\",\"gridwidth\":2},\"zaxis\":{\"backgroundcolor\":\"rgb(17,17,17)\",\"gridcolor\":\"#506784\",\"linecolor\":\"#506784\",\"showbackground\":true,\"ticks\":\"\",\"zerolinecolor\":\"#C8D4E3\",\"gridwidth\":2}},\"shapedefaults\":{\"line\":{\"color\":\"#f2f5fa\"}},\"annotationdefaults\":{\"arrowcolor\":\"#f2f5fa\",\"arrowhead\":0,\"arrowwidth\":1},\"geo\":{\"bgcolor\":\"rgb(17,17,17)\",\"landcolor\":\"rgb(17,17,17)\",\"subunitcolor\":\"#506784\",\"showland\":true,\"showlakes\":true,\"lakecolor\":\"rgb(17,17,17)\"},\"title\":{\"x\":0.05},\"updatemenudefaults\":{\"bgcolor\":\"#506784\",\"borderwidth\":0},\"sliderdefaults\":{\"bgcolor\":\"#C8D4E3\",\"borderwidth\":1,\"bordercolor\":\"rgb(17,17,17)\",\"tickwidth\":0},\"mapbox\":{\"style\":\"dark\"}}},\"xaxis\":{\"anchor\":\"y\",\"domain\":[0.0,1.0],\"title\":{\"text\":\"Time\"},\"showgrid\":true,\"gridcolor\":\"lightgray\",\"color\":\"white\"},\"yaxis\":{\"anchor\":\"x\",\"domain\":[0.0,1.0],\"title\":{\"text\":\"Machine\"},\"showgrid\":true,\"gridcolor\":\"lightgray\",\"color\":\"white\",\"categoryorder\":\"category ascending\"},\"legend\":{\"title\":{\"text\":\"Product\"},\"tracegroupgap\":0},\"title\":{\"text\":\"Job Shop Schedule\",\"font\":{\"color\":\"white\"}},\"barmode\":\"relative\",\"font\":{\"color\":\"white\"},\"plot_bgcolor\":\"black\",\"paper_bgcolor\":\"black\",\"height\":750},                        {\"responsive\": true}                    ).then(function(){\n",
       "                            \n",
       "var gd = document.getElementById('64961e2c-89fd-42d8-802c-a3806b89ca81');\n",
       "var x = new MutationObserver(function (mutations, observer) {{\n",
       "        var display = window.getComputedStyle(gd).display;\n",
       "        if (!display || display === 'none') {{\n",
       "            console.log([gd, 'removed!']);\n",
       "            Plotly.purge(gd);\n",
       "            observer.disconnect();\n",
       "        }}\n",
       "}});\n",
       "\n",
       "// Listen for the removal of the full notebook cells\n",
       "var notebookContainer = gd.closest('#notebook-container');\n",
       "if (notebookContainer) {{\n",
       "    x.observe(notebookContainer, {childList: true});\n",
       "}}\n",
       "\n",
       "// Listen for the clearing of the current output cell\n",
       "var outputEl = gd.closest('.output');\n",
       "if (outputEl) {{\n",
       "    x.observe(outputEl, {childList: true});\n",
       "}}\n",
       "\n",
       "                        })                };                });            </script>        </div>"
      ]
     },
     "metadata": {},
     "output_type": "display_data"
    }
   ],
   "execution_count": 37
  },
  {
   "metadata": {},
   "cell_type": "markdown",
   "source": "### Disruption scenarios",
   "id": "e8cb8043b3851a1d"
  },
  {
   "metadata": {
    "ExecuteTime": {
     "end_time": "2025-04-08T11:15:29.712258Z",
     "start_time": "2025-04-08T11:15:29.622063Z"
    }
   },
   "cell_type": "code",
   "source": [
    "df['Availability'] = df['Resource'].apply(lambda x: 'Unavailable' if str(x).startswith('Cell_0') else 'Available')\n",
    "fig = px.bar(df, x='Duration', y='Resource', color='Availability', orientation='h',\n",
    "             hover_data=['Start', 'End', 'Task', 'Name', 'Product'], base='Start', title=\"Job Shop Schedule\")\n",
    "fig = px.bar(df, x='Duration', y='Resource', color='Availability', orientation='h',\n",
    "             hover_data=['Start', 'End', 'Task', 'Name', 'Product'], base='Start', title=\"Job Shop Schedule\")\n",
    "color_map = {\n",
    "    'Available': 'green',\n",
    "    'Unavailable': 'red'\n",
    "}\n",
    "\n",
    "fig = px.bar(df, x='Duration', y='Resource', color='Availability', color_discrete_map=color_map,\n",
    "             orientation='h', hover_data=['Start', 'End', 'Task', 'Name', 'Product'], base='Start',\n",
    "             title=\"Job Shop Schedule\")\n",
    "fig.update_layout(title=\"Job Shop Schedule - Disruption scenario for broken cell\")\n",
    "fig.update_layout(height=750)"
   ],
   "id": "8728fb4a98a28ee5",
   "outputs": [
    {
     "data": {
      "application/vnd.plotly.v1+json": {
       "data": [
        {
         "alignmentgroup": "True",
         "base": [
          0,
          10,
          20,
          28,
          0,
          320,
          512,
          504,
          664,
          780,
          788,
          798,
          28,
          28,
          320,
          61,
          512,
          512,
          664,
          664,
          760,
          10,
          20,
          30,
          38,
          0,
          320,
          512,
          504,
          664,
          760,
          768,
          778,
          38,
          38,
          320,
          71,
          512,
          512,
          664,
          664,
          760,
          33,
          818,
          43,
          53,
          63,
          71,
          0,
          320,
          512,
          504,
          664,
          770,
          778,
          788,
          71,
          71,
          320,
          104,
          512,
          512,
          664,
          664,
          760,
          20,
          30,
          40,
          71,
          0,
          320,
          512,
          504,
          664,
          790,
          798,
          808,
          71,
          48,
          320,
          104,
          512,
          512,
          664,
          664,
          760
         ],
         "customdata": [
          [
           10,
           "Task 0",
           "1_16_0_0",
           "1_16_0"
          ],
          [
           20,
           "Task 1",
           "1_16_0_1",
           "1_16_0"
          ],
          [
           28,
           "Task 2",
           "1_16_0_2",
           "1_16_0"
          ],
          [
           61,
           "Task 3",
           "1_16_0_3",
           "1_16_0"
          ],
          [
           320,
           "Task 4",
           "1_16_0_4",
           "1_16_0"
          ],
          [
           512,
           "Task 5",
           "1_16_0_5",
           "1_16_0"
          ],
          [
           664,
           "Task 6",
           "1_16_0_6",
           "1_16_0"
          ],
          [
           664,
           "Task 7",
           "1_16_0_7",
           "1_16_0"
          ],
          [
           760,
           "Task 8",
           "1_16_0_8",
           "1_16_0"
          ],
          [
           788,
           "Task 9",
           "1_16_0_9",
           "1_16_0"
          ],
          [
           798,
           "Task 10",
           "1_16_0_10",
           "1_16_0"
          ],
          [
           808,
           "Task 11",
           "1_16_0_11",
           "1_16_0"
          ],
          [
           61,
           "Task 12",
           "warehouse_for_1_16_0_3",
           "1_16_0"
          ],
          [
           28,
           "Task 13",
           "filler_between_1_16_0_2_and_warehouse_for_1_16_0_3",
           "1_16_0"
          ],
          [
           512,
           "Task 14",
           "warehouse_for_1_16_0_5",
           "1_16_0"
          ],
          [
           320,
           "Task 15",
           "filler_between_warehouse_for_1_16_0_3_and_warehouse_for_1_16_0_5",
           "1_16_0"
          ],
          [
           664,
           "Task 16",
           "warehouse_for_1_16_0_6",
           "1_16_0"
          ],
          [
           512,
           "Task 17",
           "filler_between_warehouse_for_1_16_0_5_and_warehouse_for_1_16_0_6",
           "1_16_0"
          ],
          [
           760,
           "Task 18",
           "warehouse_for_1_16_0_8",
           "1_16_0"
          ],
          [
           664,
           "Task 19",
           "filler_between_warehouse_for_1_16_0_6_and_warehouse_for_1_16_0_8",
           "1_16_0"
          ],
          [
           780,
           "Task 20",
           "filler_between_warehouse_for_1_16_0_8_and_1_16_0_9",
           "1_16_0"
          ],
          [
           20,
           "Task 21",
           "1_16_1_0",
           "1_16_1"
          ],
          [
           30,
           "Task 22",
           "1_16_1_1",
           "1_16_1"
          ],
          [
           38,
           "Task 23",
           "1_16_1_2",
           "1_16_1"
          ],
          [
           71,
           "Task 24",
           "1_16_1_3",
           "1_16_1"
          ],
          [
           320,
           "Task 25",
           "1_16_1_4",
           "1_16_1"
          ],
          [
           512,
           "Task 26",
           "1_16_1_5",
           "1_16_1"
          ],
          [
           664,
           "Task 27",
           "1_16_1_6",
           "1_16_1"
          ],
          [
           664,
           "Task 28",
           "1_16_1_7",
           "1_16_1"
          ],
          [
           760,
           "Task 29",
           "1_16_1_8",
           "1_16_1"
          ],
          [
           768,
           "Task 30",
           "1_16_1_9",
           "1_16_1"
          ],
          [
           778,
           "Task 31",
           "1_16_1_10",
           "1_16_1"
          ],
          [
           788,
           "Task 32",
           "1_16_1_11",
           "1_16_1"
          ],
          [
           71,
           "Task 33",
           "warehouse_for_1_16_1_3",
           "1_16_1"
          ],
          [
           38,
           "Task 34",
           "filler_between_1_16_1_2_and_warehouse_for_1_16_1_3",
           "1_16_1"
          ],
          [
           512,
           "Task 35",
           "warehouse_for_1_16_1_5",
           "1_16_1"
          ],
          [
           320,
           "Task 36",
           "filler_between_warehouse_for_1_16_1_3_and_warehouse_for_1_16_1_5",
           "1_16_1"
          ],
          [
           664,
           "Task 37",
           "warehouse_for_1_16_1_6",
           "1_16_1"
          ],
          [
           512,
           "Task 38",
           "filler_between_warehouse_for_1_16_1_5_and_warehouse_for_1_16_1_6",
           "1_16_1"
          ],
          [
           760,
           "Task 39",
           "warehouse_for_1_16_1_8",
           "1_16_1"
          ],
          [
           664,
           "Task 40",
           "filler_between_warehouse_for_1_16_1_6_and_warehouse_for_1_16_1_8",
           "1_16_1"
          ],
          [
           760,
           "Task 41",
           "filler_between_warehouse_for_1_16_1_8_and_1_16_1_9",
           "1_16_1"
          ],
          [
           43,
           "Task 42",
           "1_16_2_0",
           "1_16_2"
          ],
          [
           828,
           "Task 53",
           "1_16_2_11",
           "1_16_2"
          ],
          [
           53,
           "Task 63",
           "1_16_3_0",
           "1_16_3"
          ],
          [
           63,
           "Task 64",
           "1_16_3_1",
           "1_16_3"
          ],
          [
           71,
           "Task 65",
           "1_16_3_2",
           "1_16_3"
          ],
          [
           104,
           "Task 66",
           "1_16_3_3",
           "1_16_3"
          ],
          [
           320,
           "Task 67",
           "1_16_3_4",
           "1_16_3"
          ],
          [
           512,
           "Task 68",
           "1_16_3_5",
           "1_16_3"
          ],
          [
           664,
           "Task 69",
           "1_16_3_6",
           "1_16_3"
          ],
          [
           664,
           "Task 70",
           "1_16_3_7",
           "1_16_3"
          ],
          [
           760,
           "Task 71",
           "1_16_3_8",
           "1_16_3"
          ],
          [
           778,
           "Task 72",
           "1_16_3_9",
           "1_16_3"
          ],
          [
           788,
           "Task 73",
           "1_16_3_10",
           "1_16_3"
          ],
          [
           798,
           "Task 74",
           "1_16_3_11",
           "1_16_3"
          ],
          [
           104,
           "Task 75",
           "warehouse_for_1_16_3_3",
           "1_16_3"
          ],
          [
           71,
           "Task 76",
           "filler_between_1_16_3_2_and_warehouse_for_1_16_3_3",
           "1_16_3"
          ],
          [
           512,
           "Task 77",
           "warehouse_for_1_16_3_5",
           "1_16_3"
          ],
          [
           320,
           "Task 78",
           "filler_between_warehouse_for_1_16_3_3_and_warehouse_for_1_16_3_5",
           "1_16_3"
          ],
          [
           664,
           "Task 79",
           "warehouse_for_1_16_3_6",
           "1_16_3"
          ],
          [
           512,
           "Task 80",
           "filler_between_warehouse_for_1_16_3_5_and_warehouse_for_1_16_3_6",
           "1_16_3"
          ],
          [
           760,
           "Task 81",
           "warehouse_for_1_16_3_8",
           "1_16_3"
          ],
          [
           664,
           "Task 82",
           "filler_between_warehouse_for_1_16_3_6_and_warehouse_for_1_16_3_8",
           "1_16_3"
          ],
          [
           770,
           "Task 83",
           "filler_between_warehouse_for_1_16_3_8_and_1_16_3_9",
           "1_16_3"
          ],
          [
           30,
           "Task 84",
           "1_16_4_0",
           "1_16_4"
          ],
          [
           40,
           "Task 85",
           "1_16_4_1",
           "1_16_4"
          ],
          [
           48,
           "Task 86",
           "1_16_4_2",
           "1_16_4"
          ],
          [
           104,
           "Task 87",
           "1_16_4_3",
           "1_16_4"
          ],
          [
           320,
           "Task 88",
           "1_16_4_4",
           "1_16_4"
          ],
          [
           512,
           "Task 89",
           "1_16_4_5",
           "1_16_4"
          ],
          [
           664,
           "Task 90",
           "1_16_4_6",
           "1_16_4"
          ],
          [
           664,
           "Task 91",
           "1_16_4_7",
           "1_16_4"
          ],
          [
           760,
           "Task 92",
           "1_16_4_8",
           "1_16_4"
          ],
          [
           798,
           "Task 93",
           "1_16_4_9",
           "1_16_4"
          ],
          [
           808,
           "Task 94",
           "1_16_4_10",
           "1_16_4"
          ],
          [
           818,
           "Task 95",
           "1_16_4_11",
           "1_16_4"
          ],
          [
           104,
           "Task 96",
           "warehouse_for_1_16_4_3",
           "1_16_4"
          ],
          [
           71,
           "Task 97",
           "filler_between_1_16_4_2_and_warehouse_for_1_16_4_3",
           "1_16_4"
          ],
          [
           512,
           "Task 98",
           "warehouse_for_1_16_4_5",
           "1_16_4"
          ],
          [
           320,
           "Task 99",
           "filler_between_warehouse_for_1_16_4_3_and_warehouse_for_1_16_4_5",
           "1_16_4"
          ],
          [
           664,
           "Task 100",
           "warehouse_for_1_16_4_6",
           "1_16_4"
          ],
          [
           512,
           "Task 101",
           "filler_between_warehouse_for_1_16_4_5_and_warehouse_for_1_16_4_6",
           "1_16_4"
          ],
          [
           760,
           "Task 102",
           "warehouse_for_1_16_4_8",
           "1_16_4"
          ],
          [
           664,
           "Task 103",
           "filler_between_warehouse_for_1_16_4_6_and_warehouse_for_1_16_4_8",
           "1_16_4"
          ],
          [
           790,
           "Task 104",
           "filler_between_warehouse_for_1_16_4_8_and_1_16_4_9",
           "1_16_4"
          ]
         ],
         "hovertemplate": "Availability=Available<br>Start=%{base}<br>Duration=%{x}<br>Resource=%{y}<br>End=%{customdata[0]}<br>Task=%{customdata[1]}<br>Name=%{customdata[2]}<br>Product=%{customdata[3]}<extra></extra>",
         "legendgroup": "Available",
         "marker": {
          "color": "green",
          "pattern": {
           "shape": ""
          }
         },
         "name": "Available",
         "offsetgroup": "Available",
         "orientation": "h",
         "showlegend": true,
         "textposition": "auto",
         "x": [
          10,
          10,
          8,
          33,
          320,
          192,
          152,
          160,
          96,
          8,
          10,
          10,
          33,
          0,
          192,
          259,
          152,
          0,
          96,
          0,
          20,
          10,
          10,
          8,
          33,
          320,
          192,
          152,
          160,
          96,
          8,
          10,
          10,
          33,
          0,
          192,
          249,
          152,
          0,
          96,
          0,
          0,
          10,
          10,
          10,
          10,
          8,
          33,
          320,
          192,
          152,
          160,
          96,
          8,
          10,
          10,
          33,
          0,
          192,
          216,
          152,
          0,
          96,
          0,
          10,
          10,
          10,
          8,
          33,
          320,
          192,
          152,
          160,
          96,
          8,
          10,
          10,
          33,
          23,
          192,
          216,
          152,
          0,
          96,
          0,
          30
         ],
         "xaxis": "x",
         "y": [
          "Source_Source",
          "Cell_4_Transport",
          "Cell_4_Carrousel",
          "Cell_4_Staubli",
          "Cell_4_Binpick",
          "Cell_4_Staubli",
          "Cell_4_Staubli",
          "Cell_4_Binpick",
          "Cell_4_Staubli",
          "Cell_4_Carrousel",
          "Cell_4_Transport",
          "Sink_Sink",
          "Cell_4_Warehouse",
          "Cell_4_Warehouse",
          "Cell_4_Warehouse",
          "Cell_4_Warehouse",
          "Cell_4_Warehouse",
          "Cell_4_Warehouse",
          "Cell_4_Warehouse",
          "Cell_4_Warehouse",
          "Cell_4_Warehouse",
          "Source_Source",
          "Cell_1_Transport",
          "Cell_1_Carrousel",
          "Cell_1_Staubli",
          "Cell_1_Binpick",
          "Cell_1_Staubli",
          "Cell_1_Staubli",
          "Cell_1_Binpick",
          "Cell_1_Staubli",
          "Cell_1_Carrousel",
          "Cell_1_Transport",
          "Sink_Sink",
          "Cell_1_Warehouse",
          "Cell_1_Warehouse",
          "Cell_1_Warehouse",
          "Cell_1_Warehouse",
          "Cell_1_Warehouse",
          "Cell_1_Warehouse",
          "Cell_1_Warehouse",
          "Cell_1_Warehouse",
          "Cell_1_Warehouse",
          "Source_Source",
          "Sink_Sink",
          "Source_Source",
          "Cell_2_Transport",
          "Cell_2_Carrousel",
          "Cell_2_Staubli",
          "Cell_2_Binpick",
          "Cell_2_Staubli",
          "Cell_2_Staubli",
          "Cell_2_Binpick",
          "Cell_2_Staubli",
          "Cell_2_Carrousel",
          "Cell_2_Transport",
          "Sink_Sink",
          "Cell_2_Warehouse",
          "Cell_2_Warehouse",
          "Cell_2_Warehouse",
          "Cell_2_Warehouse",
          "Cell_2_Warehouse",
          "Cell_2_Warehouse",
          "Cell_2_Warehouse",
          "Cell_2_Warehouse",
          "Cell_2_Warehouse",
          "Source_Source",
          "Cell_3_Transport",
          "Cell_3_Carrousel",
          "Cell_3_Staubli",
          "Cell_3_Binpick",
          "Cell_3_Staubli",
          "Cell_3_Staubli",
          "Cell_3_Binpick",
          "Cell_3_Staubli",
          "Cell_3_Carrousel",
          "Cell_3_Transport",
          "Sink_Sink",
          "Cell_3_Warehouse",
          "Cell_3_Warehouse",
          "Cell_3_Warehouse",
          "Cell_3_Warehouse",
          "Cell_3_Warehouse",
          "Cell_3_Warehouse",
          "Cell_3_Warehouse",
          "Cell_3_Warehouse",
          "Cell_3_Warehouse"
         ],
         "yaxis": "y",
         "type": "bar"
        },
        {
         "alignmentgroup": "True",
         "base": [
          43,
          53,
          71,
          0,
          320,
          512,
          504,
          664,
          800,
          808,
          71,
          61,
          320,
          104,
          512,
          512,
          664,
          664,
          760
         ],
         "customdata": [
          [
           53,
           "Task 43",
           "1_16_2_1",
           "1_16_2"
          ],
          [
           61,
           "Task 44",
           "1_16_2_2",
           "1_16_2"
          ],
          [
           104,
           "Task 45",
           "1_16_2_3",
           "1_16_2"
          ],
          [
           320,
           "Task 46",
           "1_16_2_4",
           "1_16_2"
          ],
          [
           512,
           "Task 47",
           "1_16_2_5",
           "1_16_2"
          ],
          [
           664,
           "Task 48",
           "1_16_2_6",
           "1_16_2"
          ],
          [
           664,
           "Task 49",
           "1_16_2_7",
           "1_16_2"
          ],
          [
           760,
           "Task 50",
           "1_16_2_8",
           "1_16_2"
          ],
          [
           808,
           "Task 51",
           "1_16_2_9",
           "1_16_2"
          ],
          [
           818,
           "Task 52",
           "1_16_2_10",
           "1_16_2"
          ],
          [
           104,
           "Task 54",
           "warehouse_for_1_16_2_3",
           "1_16_2"
          ],
          [
           71,
           "Task 55",
           "filler_between_1_16_2_2_and_warehouse_for_1_16_2_3",
           "1_16_2"
          ],
          [
           512,
           "Task 56",
           "warehouse_for_1_16_2_5",
           "1_16_2"
          ],
          [
           320,
           "Task 57",
           "filler_between_warehouse_for_1_16_2_3_and_warehouse_for_1_16_2_5",
           "1_16_2"
          ],
          [
           664,
           "Task 58",
           "warehouse_for_1_16_2_6",
           "1_16_2"
          ],
          [
           512,
           "Task 59",
           "filler_between_warehouse_for_1_16_2_5_and_warehouse_for_1_16_2_6",
           "1_16_2"
          ],
          [
           760,
           "Task 60",
           "warehouse_for_1_16_2_8",
           "1_16_2"
          ],
          [
           664,
           "Task 61",
           "filler_between_warehouse_for_1_16_2_6_and_warehouse_for_1_16_2_8",
           "1_16_2"
          ],
          [
           800,
           "Task 62",
           "filler_between_warehouse_for_1_16_2_8_and_1_16_2_9",
           "1_16_2"
          ]
         ],
         "hovertemplate": "Availability=Unavailable<br>Start=%{base}<br>Duration=%{x}<br>Resource=%{y}<br>End=%{customdata[0]}<br>Task=%{customdata[1]}<br>Name=%{customdata[2]}<br>Product=%{customdata[3]}<extra></extra>",
         "legendgroup": "Unavailable",
         "marker": {
          "color": "red",
          "pattern": {
           "shape": ""
          }
         },
         "name": "Unavailable",
         "offsetgroup": "Unavailable",
         "orientation": "h",
         "showlegend": true,
         "textposition": "auto",
         "x": [
          10,
          8,
          33,
          320,
          192,
          152,
          160,
          96,
          8,
          10,
          33,
          10,
          192,
          216,
          152,
          0,
          96,
          0,
          40
         ],
         "xaxis": "x",
         "y": [
          "Cell_0_Transport",
          "Cell_0_Carrousel",
          "Cell_0_Staubli",
          "Cell_0_Binpick",
          "Cell_0_Staubli",
          "Cell_0_Staubli",
          "Cell_0_Binpick",
          "Cell_0_Staubli",
          "Cell_0_Carrousel",
          "Cell_0_Transport",
          "Cell_0_Warehouse",
          "Cell_0_Warehouse",
          "Cell_0_Warehouse",
          "Cell_0_Warehouse",
          "Cell_0_Warehouse",
          "Cell_0_Warehouse",
          "Cell_0_Warehouse",
          "Cell_0_Warehouse",
          "Cell_0_Warehouse"
         ],
         "yaxis": "y",
         "type": "bar"
        }
       ],
       "layout": {
        "template": {
         "data": {
          "histogram2dcontour": [
           {
            "type": "histogram2dcontour",
            "colorbar": {
             "outlinewidth": 0,
             "ticks": ""
            },
            "colorscale": [
             [
              0.0,
              "#0d0887"
             ],
             [
              0.1111111111111111,
              "#46039f"
             ],
             [
              0.2222222222222222,
              "#7201a8"
             ],
             [
              0.3333333333333333,
              "#9c179e"
             ],
             [
              0.4444444444444444,
              "#bd3786"
             ],
             [
              0.5555555555555556,
              "#d8576b"
             ],
             [
              0.6666666666666666,
              "#ed7953"
             ],
             [
              0.7777777777777778,
              "#fb9f3a"
             ],
             [
              0.8888888888888888,
              "#fdca26"
             ],
             [
              1.0,
              "#f0f921"
             ]
            ]
           }
          ],
          "choropleth": [
           {
            "type": "choropleth",
            "colorbar": {
             "outlinewidth": 0,
             "ticks": ""
            }
           }
          ],
          "histogram2d": [
           {
            "type": "histogram2d",
            "colorbar": {
             "outlinewidth": 0,
             "ticks": ""
            },
            "colorscale": [
             [
              0.0,
              "#0d0887"
             ],
             [
              0.1111111111111111,
              "#46039f"
             ],
             [
              0.2222222222222222,
              "#7201a8"
             ],
             [
              0.3333333333333333,
              "#9c179e"
             ],
             [
              0.4444444444444444,
              "#bd3786"
             ],
             [
              0.5555555555555556,
              "#d8576b"
             ],
             [
              0.6666666666666666,
              "#ed7953"
             ],
             [
              0.7777777777777778,
              "#fb9f3a"
             ],
             [
              0.8888888888888888,
              "#fdca26"
             ],
             [
              1.0,
              "#f0f921"
             ]
            ]
           }
          ],
          "heatmap": [
           {
            "type": "heatmap",
            "colorbar": {
             "outlinewidth": 0,
             "ticks": ""
            },
            "colorscale": [
             [
              0.0,
              "#0d0887"
             ],
             [
              0.1111111111111111,
              "#46039f"
             ],
             [
              0.2222222222222222,
              "#7201a8"
             ],
             [
              0.3333333333333333,
              "#9c179e"
             ],
             [
              0.4444444444444444,
              "#bd3786"
             ],
             [
              0.5555555555555556,
              "#d8576b"
             ],
             [
              0.6666666666666666,
              "#ed7953"
             ],
             [
              0.7777777777777778,
              "#fb9f3a"
             ],
             [
              0.8888888888888888,
              "#fdca26"
             ],
             [
              1.0,
              "#f0f921"
             ]
            ]
           }
          ],
          "heatmapgl": [
           {
            "type": "heatmapgl",
            "colorbar": {
             "outlinewidth": 0,
             "ticks": ""
            },
            "colorscale": [
             [
              0.0,
              "#0d0887"
             ],
             [
              0.1111111111111111,
              "#46039f"
             ],
             [
              0.2222222222222222,
              "#7201a8"
             ],
             [
              0.3333333333333333,
              "#9c179e"
             ],
             [
              0.4444444444444444,
              "#bd3786"
             ],
             [
              0.5555555555555556,
              "#d8576b"
             ],
             [
              0.6666666666666666,
              "#ed7953"
             ],
             [
              0.7777777777777778,
              "#fb9f3a"
             ],
             [
              0.8888888888888888,
              "#fdca26"
             ],
             [
              1.0,
              "#f0f921"
             ]
            ]
           }
          ],
          "contourcarpet": [
           {
            "type": "contourcarpet",
            "colorbar": {
             "outlinewidth": 0,
             "ticks": ""
            }
           }
          ],
          "contour": [
           {
            "type": "contour",
            "colorbar": {
             "outlinewidth": 0,
             "ticks": ""
            },
            "colorscale": [
             [
              0.0,
              "#0d0887"
             ],
             [
              0.1111111111111111,
              "#46039f"
             ],
             [
              0.2222222222222222,
              "#7201a8"
             ],
             [
              0.3333333333333333,
              "#9c179e"
             ],
             [
              0.4444444444444444,
              "#bd3786"
             ],
             [
              0.5555555555555556,
              "#d8576b"
             ],
             [
              0.6666666666666666,
              "#ed7953"
             ],
             [
              0.7777777777777778,
              "#fb9f3a"
             ],
             [
              0.8888888888888888,
              "#fdca26"
             ],
             [
              1.0,
              "#f0f921"
             ]
            ]
           }
          ],
          "surface": [
           {
            "type": "surface",
            "colorbar": {
             "outlinewidth": 0,
             "ticks": ""
            },
            "colorscale": [
             [
              0.0,
              "#0d0887"
             ],
             [
              0.1111111111111111,
              "#46039f"
             ],
             [
              0.2222222222222222,
              "#7201a8"
             ],
             [
              0.3333333333333333,
              "#9c179e"
             ],
             [
              0.4444444444444444,
              "#bd3786"
             ],
             [
              0.5555555555555556,
              "#d8576b"
             ],
             [
              0.6666666666666666,
              "#ed7953"
             ],
             [
              0.7777777777777778,
              "#fb9f3a"
             ],
             [
              0.8888888888888888,
              "#fdca26"
             ],
             [
              1.0,
              "#f0f921"
             ]
            ]
           }
          ],
          "mesh3d": [
           {
            "type": "mesh3d",
            "colorbar": {
             "outlinewidth": 0,
             "ticks": ""
            }
           }
          ],
          "scatter": [
           {
            "marker": {
             "line": {
              "color": "#283442"
             }
            },
            "type": "scatter"
           }
          ],
          "parcoords": [
           {
            "type": "parcoords",
            "line": {
             "colorbar": {
              "outlinewidth": 0,
              "ticks": ""
             }
            }
           }
          ],
          "scatterpolargl": [
           {
            "type": "scatterpolargl",
            "marker": {
             "colorbar": {
              "outlinewidth": 0,
              "ticks": ""
             }
            }
           }
          ],
          "bar": [
           {
            "error_x": {
             "color": "#f2f5fa"
            },
            "error_y": {
             "color": "#f2f5fa"
            },
            "marker": {
             "line": {
              "color": "rgb(17,17,17)",
              "width": 0.5
             },
             "pattern": {
              "fillmode": "overlay",
              "size": 10,
              "solidity": 0.2
             }
            },
            "type": "bar"
           }
          ],
          "scattergeo": [
           {
            "type": "scattergeo",
            "marker": {
             "colorbar": {
              "outlinewidth": 0,
              "ticks": ""
             }
            }
           }
          ],
          "scatterpolar": [
           {
            "type": "scatterpolar",
            "marker": {
             "colorbar": {
              "outlinewidth": 0,
              "ticks": ""
             }
            }
           }
          ],
          "histogram": [
           {
            "marker": {
             "pattern": {
              "fillmode": "overlay",
              "size": 10,
              "solidity": 0.2
             }
            },
            "type": "histogram"
           }
          ],
          "scattergl": [
           {
            "marker": {
             "line": {
              "color": "#283442"
             }
            },
            "type": "scattergl"
           }
          ],
          "scatter3d": [
           {
            "type": "scatter3d",
            "line": {
             "colorbar": {
              "outlinewidth": 0,
              "ticks": ""
             }
            },
            "marker": {
             "colorbar": {
              "outlinewidth": 0,
              "ticks": ""
             }
            }
           }
          ],
          "scattermapbox": [
           {
            "type": "scattermapbox",
            "marker": {
             "colorbar": {
              "outlinewidth": 0,
              "ticks": ""
             }
            }
           }
          ],
          "scatterternary": [
           {
            "type": "scatterternary",
            "marker": {
             "colorbar": {
              "outlinewidth": 0,
              "ticks": ""
             }
            }
           }
          ],
          "scattercarpet": [
           {
            "type": "scattercarpet",
            "marker": {
             "colorbar": {
              "outlinewidth": 0,
              "ticks": ""
             }
            }
           }
          ],
          "carpet": [
           {
            "aaxis": {
             "endlinecolor": "#A2B1C6",
             "gridcolor": "#506784",
             "linecolor": "#506784",
             "minorgridcolor": "#506784",
             "startlinecolor": "#A2B1C6"
            },
            "baxis": {
             "endlinecolor": "#A2B1C6",
             "gridcolor": "#506784",
             "linecolor": "#506784",
             "minorgridcolor": "#506784",
             "startlinecolor": "#A2B1C6"
            },
            "type": "carpet"
           }
          ],
          "table": [
           {
            "cells": {
             "fill": {
              "color": "#506784"
             },
             "line": {
              "color": "rgb(17,17,17)"
             }
            },
            "header": {
             "fill": {
              "color": "#2a3f5f"
             },
             "line": {
              "color": "rgb(17,17,17)"
             }
            },
            "type": "table"
           }
          ],
          "barpolar": [
           {
            "marker": {
             "line": {
              "color": "rgb(17,17,17)",
              "width": 0.5
             },
             "pattern": {
              "fillmode": "overlay",
              "size": 10,
              "solidity": 0.2
             }
            },
            "type": "barpolar"
           }
          ],
          "pie": [
           {
            "automargin": true,
            "type": "pie"
           }
          ]
         },
         "layout": {
          "autotypenumbers": "strict",
          "colorway": [
           "#636efa",
           "#EF553B",
           "#00cc96",
           "#ab63fa",
           "#FFA15A",
           "#19d3f3",
           "#FF6692",
           "#B6E880",
           "#FF97FF",
           "#FECB52"
          ],
          "font": {
           "color": "#f2f5fa"
          },
          "hovermode": "closest",
          "hoverlabel": {
           "align": "left"
          },
          "paper_bgcolor": "rgb(17,17,17)",
          "plot_bgcolor": "rgb(17,17,17)",
          "polar": {
           "bgcolor": "rgb(17,17,17)",
           "angularaxis": {
            "gridcolor": "#506784",
            "linecolor": "#506784",
            "ticks": ""
           },
           "radialaxis": {
            "gridcolor": "#506784",
            "linecolor": "#506784",
            "ticks": ""
           }
          },
          "ternary": {
           "bgcolor": "rgb(17,17,17)",
           "aaxis": {
            "gridcolor": "#506784",
            "linecolor": "#506784",
            "ticks": ""
           },
           "baxis": {
            "gridcolor": "#506784",
            "linecolor": "#506784",
            "ticks": ""
           },
           "caxis": {
            "gridcolor": "#506784",
            "linecolor": "#506784",
            "ticks": ""
           }
          },
          "coloraxis": {
           "colorbar": {
            "outlinewidth": 0,
            "ticks": ""
           }
          },
          "colorscale": {
           "sequential": [
            [
             0.0,
             "#0d0887"
            ],
            [
             0.1111111111111111,
             "#46039f"
            ],
            [
             0.2222222222222222,
             "#7201a8"
            ],
            [
             0.3333333333333333,
             "#9c179e"
            ],
            [
             0.4444444444444444,
             "#bd3786"
            ],
            [
             0.5555555555555556,
             "#d8576b"
            ],
            [
             0.6666666666666666,
             "#ed7953"
            ],
            [
             0.7777777777777778,
             "#fb9f3a"
            ],
            [
             0.8888888888888888,
             "#fdca26"
            ],
            [
             1.0,
             "#f0f921"
            ]
           ],
           "sequentialminus": [
            [
             0.0,
             "#0d0887"
            ],
            [
             0.1111111111111111,
             "#46039f"
            ],
            [
             0.2222222222222222,
             "#7201a8"
            ],
            [
             0.3333333333333333,
             "#9c179e"
            ],
            [
             0.4444444444444444,
             "#bd3786"
            ],
            [
             0.5555555555555556,
             "#d8576b"
            ],
            [
             0.6666666666666666,
             "#ed7953"
            ],
            [
             0.7777777777777778,
             "#fb9f3a"
            ],
            [
             0.8888888888888888,
             "#fdca26"
            ],
            [
             1.0,
             "#f0f921"
            ]
           ],
           "diverging": [
            [
             0,
             "#8e0152"
            ],
            [
             0.1,
             "#c51b7d"
            ],
            [
             0.2,
             "#de77ae"
            ],
            [
             0.3,
             "#f1b6da"
            ],
            [
             0.4,
             "#fde0ef"
            ],
            [
             0.5,
             "#f7f7f7"
            ],
            [
             0.6,
             "#e6f5d0"
            ],
            [
             0.7,
             "#b8e186"
            ],
            [
             0.8,
             "#7fbc41"
            ],
            [
             0.9,
             "#4d9221"
            ],
            [
             1,
             "#276419"
            ]
           ]
          },
          "xaxis": {
           "gridcolor": "#283442",
           "linecolor": "#506784",
           "ticks": "",
           "title": {
            "standoff": 15
           },
           "zerolinecolor": "#283442",
           "automargin": true,
           "zerolinewidth": 2
          },
          "yaxis": {
           "gridcolor": "#283442",
           "linecolor": "#506784",
           "ticks": "",
           "title": {
            "standoff": 15
           },
           "zerolinecolor": "#283442",
           "automargin": true,
           "zerolinewidth": 2
          },
          "scene": {
           "xaxis": {
            "backgroundcolor": "rgb(17,17,17)",
            "gridcolor": "#506784",
            "linecolor": "#506784",
            "showbackground": true,
            "ticks": "",
            "zerolinecolor": "#C8D4E3",
            "gridwidth": 2
           },
           "yaxis": {
            "backgroundcolor": "rgb(17,17,17)",
            "gridcolor": "#506784",
            "linecolor": "#506784",
            "showbackground": true,
            "ticks": "",
            "zerolinecolor": "#C8D4E3",
            "gridwidth": 2
           },
           "zaxis": {
            "backgroundcolor": "rgb(17,17,17)",
            "gridcolor": "#506784",
            "linecolor": "#506784",
            "showbackground": true,
            "ticks": "",
            "zerolinecolor": "#C8D4E3",
            "gridwidth": 2
           }
          },
          "shapedefaults": {
           "line": {
            "color": "#f2f5fa"
           }
          },
          "annotationdefaults": {
           "arrowcolor": "#f2f5fa",
           "arrowhead": 0,
           "arrowwidth": 1
          },
          "geo": {
           "bgcolor": "rgb(17,17,17)",
           "landcolor": "rgb(17,17,17)",
           "subunitcolor": "#506784",
           "showland": true,
           "showlakes": true,
           "lakecolor": "rgb(17,17,17)"
          },
          "title": {
           "x": 0.05
          },
          "updatemenudefaults": {
           "bgcolor": "#506784",
           "borderwidth": 0
          },
          "sliderdefaults": {
           "bgcolor": "#C8D4E3",
           "borderwidth": 1,
           "bordercolor": "rgb(17,17,17)",
           "tickwidth": 0
          },
          "mapbox": {
           "style": "dark"
          }
         }
        },
        "xaxis": {
         "anchor": "y",
         "domain": [
          0.0,
          1.0
         ],
         "title": {
          "text": "Duration"
         }
        },
        "yaxis": {
         "anchor": "x",
         "domain": [
          0.0,
          1.0
         ],
         "title": {
          "text": "Resource"
         }
        },
        "legend": {
         "title": {
          "text": "Availability"
         },
         "tracegroupgap": 0
        },
        "title": {
         "text": "Job Shop Schedule - Disruption scenario for broken cell"
        },
        "barmode": "relative",
        "height": 750
       },
       "config": {
        "plotlyServerURL": "https://plot.ly"
       }
      },
      "text/html": [
       "<div>                            <div id=\"f4eb5df2-2782-4a51-a4ba-7dbaacfe6bfa\" class=\"plotly-graph-div\" style=\"height:750px; width:100%;\"></div>            <script type=\"text/javascript\">                require([\"plotly\"], function(Plotly) {                    window.PLOTLYENV=window.PLOTLYENV || {};                                    if (document.getElementById(\"f4eb5df2-2782-4a51-a4ba-7dbaacfe6bfa\")) {                    Plotly.newPlot(                        \"f4eb5df2-2782-4a51-a4ba-7dbaacfe6bfa\",                        [{\"alignmentgroup\":\"True\",\"base\":[0,10,20,28,0,320,512,504,664,780,788,798,28,28,320,61,512,512,664,664,760,10,20,30,38,0,320,512,504,664,760,768,778,38,38,320,71,512,512,664,664,760,33,818,43,53,63,71,0,320,512,504,664,770,778,788,71,71,320,104,512,512,664,664,760,20,30,40,71,0,320,512,504,664,790,798,808,71,48,320,104,512,512,664,664,760],\"customdata\":[[10,\"Task 0\",\"1_16_0_0\",\"1_16_0\"],[20,\"Task 1\",\"1_16_0_1\",\"1_16_0\"],[28,\"Task 2\",\"1_16_0_2\",\"1_16_0\"],[61,\"Task 3\",\"1_16_0_3\",\"1_16_0\"],[320,\"Task 4\",\"1_16_0_4\",\"1_16_0\"],[512,\"Task 5\",\"1_16_0_5\",\"1_16_0\"],[664,\"Task 6\",\"1_16_0_6\",\"1_16_0\"],[664,\"Task 7\",\"1_16_0_7\",\"1_16_0\"],[760,\"Task 8\",\"1_16_0_8\",\"1_16_0\"],[788,\"Task 9\",\"1_16_0_9\",\"1_16_0\"],[798,\"Task 10\",\"1_16_0_10\",\"1_16_0\"],[808,\"Task 11\",\"1_16_0_11\",\"1_16_0\"],[61,\"Task 12\",\"warehouse_for_1_16_0_3\",\"1_16_0\"],[28,\"Task 13\",\"filler_between_1_16_0_2_and_warehouse_for_1_16_0_3\",\"1_16_0\"],[512,\"Task 14\",\"warehouse_for_1_16_0_5\",\"1_16_0\"],[320,\"Task 15\",\"filler_between_warehouse_for_1_16_0_3_and_warehouse_for_1_16_0_5\",\"1_16_0\"],[664,\"Task 16\",\"warehouse_for_1_16_0_6\",\"1_16_0\"],[512,\"Task 17\",\"filler_between_warehouse_for_1_16_0_5_and_warehouse_for_1_16_0_6\",\"1_16_0\"],[760,\"Task 18\",\"warehouse_for_1_16_0_8\",\"1_16_0\"],[664,\"Task 19\",\"filler_between_warehouse_for_1_16_0_6_and_warehouse_for_1_16_0_8\",\"1_16_0\"],[780,\"Task 20\",\"filler_between_warehouse_for_1_16_0_8_and_1_16_0_9\",\"1_16_0\"],[20,\"Task 21\",\"1_16_1_0\",\"1_16_1\"],[30,\"Task 22\",\"1_16_1_1\",\"1_16_1\"],[38,\"Task 23\",\"1_16_1_2\",\"1_16_1\"],[71,\"Task 24\",\"1_16_1_3\",\"1_16_1\"],[320,\"Task 25\",\"1_16_1_4\",\"1_16_1\"],[512,\"Task 26\",\"1_16_1_5\",\"1_16_1\"],[664,\"Task 27\",\"1_16_1_6\",\"1_16_1\"],[664,\"Task 28\",\"1_16_1_7\",\"1_16_1\"],[760,\"Task 29\",\"1_16_1_8\",\"1_16_1\"],[768,\"Task 30\",\"1_16_1_9\",\"1_16_1\"],[778,\"Task 31\",\"1_16_1_10\",\"1_16_1\"],[788,\"Task 32\",\"1_16_1_11\",\"1_16_1\"],[71,\"Task 33\",\"warehouse_for_1_16_1_3\",\"1_16_1\"],[38,\"Task 34\",\"filler_between_1_16_1_2_and_warehouse_for_1_16_1_3\",\"1_16_1\"],[512,\"Task 35\",\"warehouse_for_1_16_1_5\",\"1_16_1\"],[320,\"Task 36\",\"filler_between_warehouse_for_1_16_1_3_and_warehouse_for_1_16_1_5\",\"1_16_1\"],[664,\"Task 37\",\"warehouse_for_1_16_1_6\",\"1_16_1\"],[512,\"Task 38\",\"filler_between_warehouse_for_1_16_1_5_and_warehouse_for_1_16_1_6\",\"1_16_1\"],[760,\"Task 39\",\"warehouse_for_1_16_1_8\",\"1_16_1\"],[664,\"Task 40\",\"filler_between_warehouse_for_1_16_1_6_and_warehouse_for_1_16_1_8\",\"1_16_1\"],[760,\"Task 41\",\"filler_between_warehouse_for_1_16_1_8_and_1_16_1_9\",\"1_16_1\"],[43,\"Task 42\",\"1_16_2_0\",\"1_16_2\"],[828,\"Task 53\",\"1_16_2_11\",\"1_16_2\"],[53,\"Task 63\",\"1_16_3_0\",\"1_16_3\"],[63,\"Task 64\",\"1_16_3_1\",\"1_16_3\"],[71,\"Task 65\",\"1_16_3_2\",\"1_16_3\"],[104,\"Task 66\",\"1_16_3_3\",\"1_16_3\"],[320,\"Task 67\",\"1_16_3_4\",\"1_16_3\"],[512,\"Task 68\",\"1_16_3_5\",\"1_16_3\"],[664,\"Task 69\",\"1_16_3_6\",\"1_16_3\"],[664,\"Task 70\",\"1_16_3_7\",\"1_16_3\"],[760,\"Task 71\",\"1_16_3_8\",\"1_16_3\"],[778,\"Task 72\",\"1_16_3_9\",\"1_16_3\"],[788,\"Task 73\",\"1_16_3_10\",\"1_16_3\"],[798,\"Task 74\",\"1_16_3_11\",\"1_16_3\"],[104,\"Task 75\",\"warehouse_for_1_16_3_3\",\"1_16_3\"],[71,\"Task 76\",\"filler_between_1_16_3_2_and_warehouse_for_1_16_3_3\",\"1_16_3\"],[512,\"Task 77\",\"warehouse_for_1_16_3_5\",\"1_16_3\"],[320,\"Task 78\",\"filler_between_warehouse_for_1_16_3_3_and_warehouse_for_1_16_3_5\",\"1_16_3\"],[664,\"Task 79\",\"warehouse_for_1_16_3_6\",\"1_16_3\"],[512,\"Task 80\",\"filler_between_warehouse_for_1_16_3_5_and_warehouse_for_1_16_3_6\",\"1_16_3\"],[760,\"Task 81\",\"warehouse_for_1_16_3_8\",\"1_16_3\"],[664,\"Task 82\",\"filler_between_warehouse_for_1_16_3_6_and_warehouse_for_1_16_3_8\",\"1_16_3\"],[770,\"Task 83\",\"filler_between_warehouse_for_1_16_3_8_and_1_16_3_9\",\"1_16_3\"],[30,\"Task 84\",\"1_16_4_0\",\"1_16_4\"],[40,\"Task 85\",\"1_16_4_1\",\"1_16_4\"],[48,\"Task 86\",\"1_16_4_2\",\"1_16_4\"],[104,\"Task 87\",\"1_16_4_3\",\"1_16_4\"],[320,\"Task 88\",\"1_16_4_4\",\"1_16_4\"],[512,\"Task 89\",\"1_16_4_5\",\"1_16_4\"],[664,\"Task 90\",\"1_16_4_6\",\"1_16_4\"],[664,\"Task 91\",\"1_16_4_7\",\"1_16_4\"],[760,\"Task 92\",\"1_16_4_8\",\"1_16_4\"],[798,\"Task 93\",\"1_16_4_9\",\"1_16_4\"],[808,\"Task 94\",\"1_16_4_10\",\"1_16_4\"],[818,\"Task 95\",\"1_16_4_11\",\"1_16_4\"],[104,\"Task 96\",\"warehouse_for_1_16_4_3\",\"1_16_4\"],[71,\"Task 97\",\"filler_between_1_16_4_2_and_warehouse_for_1_16_4_3\",\"1_16_4\"],[512,\"Task 98\",\"warehouse_for_1_16_4_5\",\"1_16_4\"],[320,\"Task 99\",\"filler_between_warehouse_for_1_16_4_3_and_warehouse_for_1_16_4_5\",\"1_16_4\"],[664,\"Task 100\",\"warehouse_for_1_16_4_6\",\"1_16_4\"],[512,\"Task 101\",\"filler_between_warehouse_for_1_16_4_5_and_warehouse_for_1_16_4_6\",\"1_16_4\"],[760,\"Task 102\",\"warehouse_for_1_16_4_8\",\"1_16_4\"],[664,\"Task 103\",\"filler_between_warehouse_for_1_16_4_6_and_warehouse_for_1_16_4_8\",\"1_16_4\"],[790,\"Task 104\",\"filler_between_warehouse_for_1_16_4_8_and_1_16_4_9\",\"1_16_4\"]],\"hovertemplate\":\"Availability=Available\\u003cbr\\u003eStart=%{base}\\u003cbr\\u003eDuration=%{x}\\u003cbr\\u003eResource=%{y}\\u003cbr\\u003eEnd=%{customdata[0]}\\u003cbr\\u003eTask=%{customdata[1]}\\u003cbr\\u003eName=%{customdata[2]}\\u003cbr\\u003eProduct=%{customdata[3]}\\u003cextra\\u003e\\u003c\\u002fextra\\u003e\",\"legendgroup\":\"Available\",\"marker\":{\"color\":\"green\",\"pattern\":{\"shape\":\"\"}},\"name\":\"Available\",\"offsetgroup\":\"Available\",\"orientation\":\"h\",\"showlegend\":true,\"textposition\":\"auto\",\"x\":[10,10,8,33,320,192,152,160,96,8,10,10,33,0,192,259,152,0,96,0,20,10,10,8,33,320,192,152,160,96,8,10,10,33,0,192,249,152,0,96,0,0,10,10,10,10,8,33,320,192,152,160,96,8,10,10,33,0,192,216,152,0,96,0,10,10,10,8,33,320,192,152,160,96,8,10,10,33,23,192,216,152,0,96,0,30],\"xaxis\":\"x\",\"y\":[\"Source_Source\",\"Cell_4_Transport\",\"Cell_4_Carrousel\",\"Cell_4_Staubli\",\"Cell_4_Binpick\",\"Cell_4_Staubli\",\"Cell_4_Staubli\",\"Cell_4_Binpick\",\"Cell_4_Staubli\",\"Cell_4_Carrousel\",\"Cell_4_Transport\",\"Sink_Sink\",\"Cell_4_Warehouse\",\"Cell_4_Warehouse\",\"Cell_4_Warehouse\",\"Cell_4_Warehouse\",\"Cell_4_Warehouse\",\"Cell_4_Warehouse\",\"Cell_4_Warehouse\",\"Cell_4_Warehouse\",\"Cell_4_Warehouse\",\"Source_Source\",\"Cell_1_Transport\",\"Cell_1_Carrousel\",\"Cell_1_Staubli\",\"Cell_1_Binpick\",\"Cell_1_Staubli\",\"Cell_1_Staubli\",\"Cell_1_Binpick\",\"Cell_1_Staubli\",\"Cell_1_Carrousel\",\"Cell_1_Transport\",\"Sink_Sink\",\"Cell_1_Warehouse\",\"Cell_1_Warehouse\",\"Cell_1_Warehouse\",\"Cell_1_Warehouse\",\"Cell_1_Warehouse\",\"Cell_1_Warehouse\",\"Cell_1_Warehouse\",\"Cell_1_Warehouse\",\"Cell_1_Warehouse\",\"Source_Source\",\"Sink_Sink\",\"Source_Source\",\"Cell_2_Transport\",\"Cell_2_Carrousel\",\"Cell_2_Staubli\",\"Cell_2_Binpick\",\"Cell_2_Staubli\",\"Cell_2_Staubli\",\"Cell_2_Binpick\",\"Cell_2_Staubli\",\"Cell_2_Carrousel\",\"Cell_2_Transport\",\"Sink_Sink\",\"Cell_2_Warehouse\",\"Cell_2_Warehouse\",\"Cell_2_Warehouse\",\"Cell_2_Warehouse\",\"Cell_2_Warehouse\",\"Cell_2_Warehouse\",\"Cell_2_Warehouse\",\"Cell_2_Warehouse\",\"Cell_2_Warehouse\",\"Source_Source\",\"Cell_3_Transport\",\"Cell_3_Carrousel\",\"Cell_3_Staubli\",\"Cell_3_Binpick\",\"Cell_3_Staubli\",\"Cell_3_Staubli\",\"Cell_3_Binpick\",\"Cell_3_Staubli\",\"Cell_3_Carrousel\",\"Cell_3_Transport\",\"Sink_Sink\",\"Cell_3_Warehouse\",\"Cell_3_Warehouse\",\"Cell_3_Warehouse\",\"Cell_3_Warehouse\",\"Cell_3_Warehouse\",\"Cell_3_Warehouse\",\"Cell_3_Warehouse\",\"Cell_3_Warehouse\",\"Cell_3_Warehouse\"],\"yaxis\":\"y\",\"type\":\"bar\"},{\"alignmentgroup\":\"True\",\"base\":[43,53,71,0,320,512,504,664,800,808,71,61,320,104,512,512,664,664,760],\"customdata\":[[53,\"Task 43\",\"1_16_2_1\",\"1_16_2\"],[61,\"Task 44\",\"1_16_2_2\",\"1_16_2\"],[104,\"Task 45\",\"1_16_2_3\",\"1_16_2\"],[320,\"Task 46\",\"1_16_2_4\",\"1_16_2\"],[512,\"Task 47\",\"1_16_2_5\",\"1_16_2\"],[664,\"Task 48\",\"1_16_2_6\",\"1_16_2\"],[664,\"Task 49\",\"1_16_2_7\",\"1_16_2\"],[760,\"Task 50\",\"1_16_2_8\",\"1_16_2\"],[808,\"Task 51\",\"1_16_2_9\",\"1_16_2\"],[818,\"Task 52\",\"1_16_2_10\",\"1_16_2\"],[104,\"Task 54\",\"warehouse_for_1_16_2_3\",\"1_16_2\"],[71,\"Task 55\",\"filler_between_1_16_2_2_and_warehouse_for_1_16_2_3\",\"1_16_2\"],[512,\"Task 56\",\"warehouse_for_1_16_2_5\",\"1_16_2\"],[320,\"Task 57\",\"filler_between_warehouse_for_1_16_2_3_and_warehouse_for_1_16_2_5\",\"1_16_2\"],[664,\"Task 58\",\"warehouse_for_1_16_2_6\",\"1_16_2\"],[512,\"Task 59\",\"filler_between_warehouse_for_1_16_2_5_and_warehouse_for_1_16_2_6\",\"1_16_2\"],[760,\"Task 60\",\"warehouse_for_1_16_2_8\",\"1_16_2\"],[664,\"Task 61\",\"filler_between_warehouse_for_1_16_2_6_and_warehouse_for_1_16_2_8\",\"1_16_2\"],[800,\"Task 62\",\"filler_between_warehouse_for_1_16_2_8_and_1_16_2_9\",\"1_16_2\"]],\"hovertemplate\":\"Availability=Unavailable\\u003cbr\\u003eStart=%{base}\\u003cbr\\u003eDuration=%{x}\\u003cbr\\u003eResource=%{y}\\u003cbr\\u003eEnd=%{customdata[0]}\\u003cbr\\u003eTask=%{customdata[1]}\\u003cbr\\u003eName=%{customdata[2]}\\u003cbr\\u003eProduct=%{customdata[3]}\\u003cextra\\u003e\\u003c\\u002fextra\\u003e\",\"legendgroup\":\"Unavailable\",\"marker\":{\"color\":\"red\",\"pattern\":{\"shape\":\"\"}},\"name\":\"Unavailable\",\"offsetgroup\":\"Unavailable\",\"orientation\":\"h\",\"showlegend\":true,\"textposition\":\"auto\",\"x\":[10,8,33,320,192,152,160,96,8,10,33,10,192,216,152,0,96,0,40],\"xaxis\":\"x\",\"y\":[\"Cell_0_Transport\",\"Cell_0_Carrousel\",\"Cell_0_Staubli\",\"Cell_0_Binpick\",\"Cell_0_Staubli\",\"Cell_0_Staubli\",\"Cell_0_Binpick\",\"Cell_0_Staubli\",\"Cell_0_Carrousel\",\"Cell_0_Transport\",\"Cell_0_Warehouse\",\"Cell_0_Warehouse\",\"Cell_0_Warehouse\",\"Cell_0_Warehouse\",\"Cell_0_Warehouse\",\"Cell_0_Warehouse\",\"Cell_0_Warehouse\",\"Cell_0_Warehouse\",\"Cell_0_Warehouse\"],\"yaxis\":\"y\",\"type\":\"bar\"}],                        {\"template\":{\"data\":{\"histogram2dcontour\":[{\"type\":\"histogram2dcontour\",\"colorbar\":{\"outlinewidth\":0,\"ticks\":\"\"},\"colorscale\":[[0.0,\"#0d0887\"],[0.1111111111111111,\"#46039f\"],[0.2222222222222222,\"#7201a8\"],[0.3333333333333333,\"#9c179e\"],[0.4444444444444444,\"#bd3786\"],[0.5555555555555556,\"#d8576b\"],[0.6666666666666666,\"#ed7953\"],[0.7777777777777778,\"#fb9f3a\"],[0.8888888888888888,\"#fdca26\"],[1.0,\"#f0f921\"]]}],\"choropleth\":[{\"type\":\"choropleth\",\"colorbar\":{\"outlinewidth\":0,\"ticks\":\"\"}}],\"histogram2d\":[{\"type\":\"histogram2d\",\"colorbar\":{\"outlinewidth\":0,\"ticks\":\"\"},\"colorscale\":[[0.0,\"#0d0887\"],[0.1111111111111111,\"#46039f\"],[0.2222222222222222,\"#7201a8\"],[0.3333333333333333,\"#9c179e\"],[0.4444444444444444,\"#bd3786\"],[0.5555555555555556,\"#d8576b\"],[0.6666666666666666,\"#ed7953\"],[0.7777777777777778,\"#fb9f3a\"],[0.8888888888888888,\"#fdca26\"],[1.0,\"#f0f921\"]]}],\"heatmap\":[{\"type\":\"heatmap\",\"colorbar\":{\"outlinewidth\":0,\"ticks\":\"\"},\"colorscale\":[[0.0,\"#0d0887\"],[0.1111111111111111,\"#46039f\"],[0.2222222222222222,\"#7201a8\"],[0.3333333333333333,\"#9c179e\"],[0.4444444444444444,\"#bd3786\"],[0.5555555555555556,\"#d8576b\"],[0.6666666666666666,\"#ed7953\"],[0.7777777777777778,\"#fb9f3a\"],[0.8888888888888888,\"#fdca26\"],[1.0,\"#f0f921\"]]}],\"heatmapgl\":[{\"type\":\"heatmapgl\",\"colorbar\":{\"outlinewidth\":0,\"ticks\":\"\"},\"colorscale\":[[0.0,\"#0d0887\"],[0.1111111111111111,\"#46039f\"],[0.2222222222222222,\"#7201a8\"],[0.3333333333333333,\"#9c179e\"],[0.4444444444444444,\"#bd3786\"],[0.5555555555555556,\"#d8576b\"],[0.6666666666666666,\"#ed7953\"],[0.7777777777777778,\"#fb9f3a\"],[0.8888888888888888,\"#fdca26\"],[1.0,\"#f0f921\"]]}],\"contourcarpet\":[{\"type\":\"contourcarpet\",\"colorbar\":{\"outlinewidth\":0,\"ticks\":\"\"}}],\"contour\":[{\"type\":\"contour\",\"colorbar\":{\"outlinewidth\":0,\"ticks\":\"\"},\"colorscale\":[[0.0,\"#0d0887\"],[0.1111111111111111,\"#46039f\"],[0.2222222222222222,\"#7201a8\"],[0.3333333333333333,\"#9c179e\"],[0.4444444444444444,\"#bd3786\"],[0.5555555555555556,\"#d8576b\"],[0.6666666666666666,\"#ed7953\"],[0.7777777777777778,\"#fb9f3a\"],[0.8888888888888888,\"#fdca26\"],[1.0,\"#f0f921\"]]}],\"surface\":[{\"type\":\"surface\",\"colorbar\":{\"outlinewidth\":0,\"ticks\":\"\"},\"colorscale\":[[0.0,\"#0d0887\"],[0.1111111111111111,\"#46039f\"],[0.2222222222222222,\"#7201a8\"],[0.3333333333333333,\"#9c179e\"],[0.4444444444444444,\"#bd3786\"],[0.5555555555555556,\"#d8576b\"],[0.6666666666666666,\"#ed7953\"],[0.7777777777777778,\"#fb9f3a\"],[0.8888888888888888,\"#fdca26\"],[1.0,\"#f0f921\"]]}],\"mesh3d\":[{\"type\":\"mesh3d\",\"colorbar\":{\"outlinewidth\":0,\"ticks\":\"\"}}],\"scatter\":[{\"marker\":{\"line\":{\"color\":\"#283442\"}},\"type\":\"scatter\"}],\"parcoords\":[{\"type\":\"parcoords\",\"line\":{\"colorbar\":{\"outlinewidth\":0,\"ticks\":\"\"}}}],\"scatterpolargl\":[{\"type\":\"scatterpolargl\",\"marker\":{\"colorbar\":{\"outlinewidth\":0,\"ticks\":\"\"}}}],\"bar\":[{\"error_x\":{\"color\":\"#f2f5fa\"},\"error_y\":{\"color\":\"#f2f5fa\"},\"marker\":{\"line\":{\"color\":\"rgb(17,17,17)\",\"width\":0.5},\"pattern\":{\"fillmode\":\"overlay\",\"size\":10,\"solidity\":0.2}},\"type\":\"bar\"}],\"scattergeo\":[{\"type\":\"scattergeo\",\"marker\":{\"colorbar\":{\"outlinewidth\":0,\"ticks\":\"\"}}}],\"scatterpolar\":[{\"type\":\"scatterpolar\",\"marker\":{\"colorbar\":{\"outlinewidth\":0,\"ticks\":\"\"}}}],\"histogram\":[{\"marker\":{\"pattern\":{\"fillmode\":\"overlay\",\"size\":10,\"solidity\":0.2}},\"type\":\"histogram\"}],\"scattergl\":[{\"marker\":{\"line\":{\"color\":\"#283442\"}},\"type\":\"scattergl\"}],\"scatter3d\":[{\"type\":\"scatter3d\",\"line\":{\"colorbar\":{\"outlinewidth\":0,\"ticks\":\"\"}},\"marker\":{\"colorbar\":{\"outlinewidth\":0,\"ticks\":\"\"}}}],\"scattermapbox\":[{\"type\":\"scattermapbox\",\"marker\":{\"colorbar\":{\"outlinewidth\":0,\"ticks\":\"\"}}}],\"scatterternary\":[{\"type\":\"scatterternary\",\"marker\":{\"colorbar\":{\"outlinewidth\":0,\"ticks\":\"\"}}}],\"scattercarpet\":[{\"type\":\"scattercarpet\",\"marker\":{\"colorbar\":{\"outlinewidth\":0,\"ticks\":\"\"}}}],\"carpet\":[{\"aaxis\":{\"endlinecolor\":\"#A2B1C6\",\"gridcolor\":\"#506784\",\"linecolor\":\"#506784\",\"minorgridcolor\":\"#506784\",\"startlinecolor\":\"#A2B1C6\"},\"baxis\":{\"endlinecolor\":\"#A2B1C6\",\"gridcolor\":\"#506784\",\"linecolor\":\"#506784\",\"minorgridcolor\":\"#506784\",\"startlinecolor\":\"#A2B1C6\"},\"type\":\"carpet\"}],\"table\":[{\"cells\":{\"fill\":{\"color\":\"#506784\"},\"line\":{\"color\":\"rgb(17,17,17)\"}},\"header\":{\"fill\":{\"color\":\"#2a3f5f\"},\"line\":{\"color\":\"rgb(17,17,17)\"}},\"type\":\"table\"}],\"barpolar\":[{\"marker\":{\"line\":{\"color\":\"rgb(17,17,17)\",\"width\":0.5},\"pattern\":{\"fillmode\":\"overlay\",\"size\":10,\"solidity\":0.2}},\"type\":\"barpolar\"}],\"pie\":[{\"automargin\":true,\"type\":\"pie\"}]},\"layout\":{\"autotypenumbers\":\"strict\",\"colorway\":[\"#636efa\",\"#EF553B\",\"#00cc96\",\"#ab63fa\",\"#FFA15A\",\"#19d3f3\",\"#FF6692\",\"#B6E880\",\"#FF97FF\",\"#FECB52\"],\"font\":{\"color\":\"#f2f5fa\"},\"hovermode\":\"closest\",\"hoverlabel\":{\"align\":\"left\"},\"paper_bgcolor\":\"rgb(17,17,17)\",\"plot_bgcolor\":\"rgb(17,17,17)\",\"polar\":{\"bgcolor\":\"rgb(17,17,17)\",\"angularaxis\":{\"gridcolor\":\"#506784\",\"linecolor\":\"#506784\",\"ticks\":\"\"},\"radialaxis\":{\"gridcolor\":\"#506784\",\"linecolor\":\"#506784\",\"ticks\":\"\"}},\"ternary\":{\"bgcolor\":\"rgb(17,17,17)\",\"aaxis\":{\"gridcolor\":\"#506784\",\"linecolor\":\"#506784\",\"ticks\":\"\"},\"baxis\":{\"gridcolor\":\"#506784\",\"linecolor\":\"#506784\",\"ticks\":\"\"},\"caxis\":{\"gridcolor\":\"#506784\",\"linecolor\":\"#506784\",\"ticks\":\"\"}},\"coloraxis\":{\"colorbar\":{\"outlinewidth\":0,\"ticks\":\"\"}},\"colorscale\":{\"sequential\":[[0.0,\"#0d0887\"],[0.1111111111111111,\"#46039f\"],[0.2222222222222222,\"#7201a8\"],[0.3333333333333333,\"#9c179e\"],[0.4444444444444444,\"#bd3786\"],[0.5555555555555556,\"#d8576b\"],[0.6666666666666666,\"#ed7953\"],[0.7777777777777778,\"#fb9f3a\"],[0.8888888888888888,\"#fdca26\"],[1.0,\"#f0f921\"]],\"sequentialminus\":[[0.0,\"#0d0887\"],[0.1111111111111111,\"#46039f\"],[0.2222222222222222,\"#7201a8\"],[0.3333333333333333,\"#9c179e\"],[0.4444444444444444,\"#bd3786\"],[0.5555555555555556,\"#d8576b\"],[0.6666666666666666,\"#ed7953\"],[0.7777777777777778,\"#fb9f3a\"],[0.8888888888888888,\"#fdca26\"],[1.0,\"#f0f921\"]],\"diverging\":[[0,\"#8e0152\"],[0.1,\"#c51b7d\"],[0.2,\"#de77ae\"],[0.3,\"#f1b6da\"],[0.4,\"#fde0ef\"],[0.5,\"#f7f7f7\"],[0.6,\"#e6f5d0\"],[0.7,\"#b8e186\"],[0.8,\"#7fbc41\"],[0.9,\"#4d9221\"],[1,\"#276419\"]]},\"xaxis\":{\"gridcolor\":\"#283442\",\"linecolor\":\"#506784\",\"ticks\":\"\",\"title\":{\"standoff\":15},\"zerolinecolor\":\"#283442\",\"automargin\":true,\"zerolinewidth\":2},\"yaxis\":{\"gridcolor\":\"#283442\",\"linecolor\":\"#506784\",\"ticks\":\"\",\"title\":{\"standoff\":15},\"zerolinecolor\":\"#283442\",\"automargin\":true,\"zerolinewidth\":2},\"scene\":{\"xaxis\":{\"backgroundcolor\":\"rgb(17,17,17)\",\"gridcolor\":\"#506784\",\"linecolor\":\"#506784\",\"showbackground\":true,\"ticks\":\"\",\"zerolinecolor\":\"#C8D4E3\",\"gridwidth\":2},\"yaxis\":{\"backgroundcolor\":\"rgb(17,17,17)\",\"gridcolor\":\"#506784\",\"linecolor\":\"#506784\",\"showbackground\":true,\"ticks\":\"\",\"zerolinecolor\":\"#C8D4E3\",\"gridwidth\":2},\"zaxis\":{\"backgroundcolor\":\"rgb(17,17,17)\",\"gridcolor\":\"#506784\",\"linecolor\":\"#506784\",\"showbackground\":true,\"ticks\":\"\",\"zerolinecolor\":\"#C8D4E3\",\"gridwidth\":2}},\"shapedefaults\":{\"line\":{\"color\":\"#f2f5fa\"}},\"annotationdefaults\":{\"arrowcolor\":\"#f2f5fa\",\"arrowhead\":0,\"arrowwidth\":1},\"geo\":{\"bgcolor\":\"rgb(17,17,17)\",\"landcolor\":\"rgb(17,17,17)\",\"subunitcolor\":\"#506784\",\"showland\":true,\"showlakes\":true,\"lakecolor\":\"rgb(17,17,17)\"},\"title\":{\"x\":0.05},\"updatemenudefaults\":{\"bgcolor\":\"#506784\",\"borderwidth\":0},\"sliderdefaults\":{\"bgcolor\":\"#C8D4E3\",\"borderwidth\":1,\"bordercolor\":\"rgb(17,17,17)\",\"tickwidth\":0},\"mapbox\":{\"style\":\"dark\"}}},\"xaxis\":{\"anchor\":\"y\",\"domain\":[0.0,1.0],\"title\":{\"text\":\"Duration\"}},\"yaxis\":{\"anchor\":\"x\",\"domain\":[0.0,1.0],\"title\":{\"text\":\"Resource\"}},\"legend\":{\"title\":{\"text\":\"Availability\"},\"tracegroupgap\":0},\"title\":{\"text\":\"Job Shop Schedule - Disruption scenario for broken cell\"},\"barmode\":\"relative\",\"height\":750},                        {\"responsive\": true}                    ).then(function(){\n",
       "                            \n",
       "var gd = document.getElementById('f4eb5df2-2782-4a51-a4ba-7dbaacfe6bfa');\n",
       "var x = new MutationObserver(function (mutations, observer) {{\n",
       "        var display = window.getComputedStyle(gd).display;\n",
       "        if (!display || display === 'none') {{\n",
       "            console.log([gd, 'removed!']);\n",
       "            Plotly.purge(gd);\n",
       "            observer.disconnect();\n",
       "        }}\n",
       "}});\n",
       "\n",
       "// Listen for the removal of the full notebook cells\n",
       "var notebookContainer = gd.closest('#notebook-container');\n",
       "if (notebookContainer) {{\n",
       "    x.observe(notebookContainer, {childList: true});\n",
       "}}\n",
       "\n",
       "// Listen for the clearing of the current output cell\n",
       "var outputEl = gd.closest('.output');\n",
       "if (outputEl) {{\n",
       "    x.observe(outputEl, {childList: true});\n",
       "}}\n",
       "\n",
       "                        })                };                });            </script>        </div>"
      ]
     },
     "metadata": {},
     "output_type": "display_data"
    }
   ],
   "execution_count": 34
  },
  {
   "metadata": {
    "ExecuteTime": {
     "end_time": "2025-04-08T11:15:31.007045Z",
     "start_time": "2025-04-08T11:15:30.948428Z"
    }
   },
   "cell_type": "code",
   "source": [
    "df.loc[df['Task'] == 'Task 63', 'Start'] = 500\n",
    "\n",
    "# Recalculate the end time (using the same duration)\n",
    "df.loc[df['Task'] == 'Task 63', 'End'] = df['Start'] + df['Duration']\n",
    "\n",
    "# Add a highlight column to tag Task 63\n",
    "df['Highlight'] = df['Task'].apply(lambda x: 'Highlighted' if x == 'Task 63' else 'Normal')\n",
    "\n",
    "fig = px.bar(df, x='Duration', y='Resource', color='Highlight', orientation='h',\n",
    "             hover_data=['Start', 'End', 'Task', 'Name', 'Product'], base='Start', title=\"Job Shop Schedule\")\n",
    "\n",
    "color_map = {\n",
    "    'Normal': 'green',  # Regular task color\n",
    "    'Highlighted': 'red'  # Highlighted task color\n",
    "}\n",
    "\n",
    "fig = px.bar(df, x='Duration', y='Resource', color='Highlight', color_discrete_map=color_map,\n",
    "             orientation='h', hover_data=['Start', 'End', 'Task', 'Name', 'Product'], base='Start',\n",
    "             title=\"Job Shop Schedule - Disruption scenario for delayed entrance\")\n",
    "\n",
    "fig.update_layout(\n",
    "    plot_bgcolor='black',  # Set background color of the plot to black\n",
    "    paper_bgcolor='black',  # Set the overall figure background to black\n",
    "    xaxis=dict(showgrid=True, gridcolor='lightgray', title=\"Time\", color='white'),\n",
    "    yaxis=dict(showgrid=True, gridcolor='lightgray', title=\"Machine\", color='white', categoryorder='category ascending'),\n",
    "    font=dict(color='white'),\n",
    "    title_font=dict(color='white')\n",
    ")\n",
    "fig.update_layout(height=750)\n",
    "fig.show()"
   ],
   "id": "93957b46527c542b",
   "outputs": [
    {
     "data": {
      "application/vnd.plotly.v1+json": {
       "data": [
        {
         "alignmentgroup": "True",
         "base": [
          0,
          10,
          20,
          28,
          0,
          320,
          512,
          504,
          664,
          780,
          788,
          798,
          28,
          28,
          320,
          61,
          512,
          512,
          664,
          664,
          760,
          10,
          20,
          30,
          38,
          0,
          320,
          512,
          504,
          664,
          760,
          768,
          778,
          38,
          38,
          320,
          71,
          512,
          512,
          664,
          664,
          760,
          33,
          43,
          53,
          71,
          0,
          320,
          512,
          504,
          664,
          800,
          808,
          818,
          71,
          61,
          320,
          104,
          512,
          512,
          664,
          664,
          760,
          53,
          63,
          71,
          0,
          320,
          512,
          504,
          664,
          770,
          778,
          788,
          71,
          71,
          320,
          104,
          512,
          512,
          664,
          664,
          760,
          20,
          30,
          40,
          71,
          0,
          320,
          512,
          504,
          664,
          790,
          798,
          808,
          71,
          48,
          320,
          104,
          512,
          512,
          664,
          664,
          760
         ],
         "customdata": [
          [
           10,
           "Task 0",
           "1_16_0_0",
           "1_16_0"
          ],
          [
           20,
           "Task 1",
           "1_16_0_1",
           "1_16_0"
          ],
          [
           28,
           "Task 2",
           "1_16_0_2",
           "1_16_0"
          ],
          [
           61,
           "Task 3",
           "1_16_0_3",
           "1_16_0"
          ],
          [
           320,
           "Task 4",
           "1_16_0_4",
           "1_16_0"
          ],
          [
           512,
           "Task 5",
           "1_16_0_5",
           "1_16_0"
          ],
          [
           664,
           "Task 6",
           "1_16_0_6",
           "1_16_0"
          ],
          [
           664,
           "Task 7",
           "1_16_0_7",
           "1_16_0"
          ],
          [
           760,
           "Task 8",
           "1_16_0_8",
           "1_16_0"
          ],
          [
           788,
           "Task 9",
           "1_16_0_9",
           "1_16_0"
          ],
          [
           798,
           "Task 10",
           "1_16_0_10",
           "1_16_0"
          ],
          [
           808,
           "Task 11",
           "1_16_0_11",
           "1_16_0"
          ],
          [
           61,
           "Task 12",
           "warehouse_for_1_16_0_3",
           "1_16_0"
          ],
          [
           28,
           "Task 13",
           "filler_between_1_16_0_2_and_warehouse_for_1_16_0_3",
           "1_16_0"
          ],
          [
           512,
           "Task 14",
           "warehouse_for_1_16_0_5",
           "1_16_0"
          ],
          [
           320,
           "Task 15",
           "filler_between_warehouse_for_1_16_0_3_and_warehouse_for_1_16_0_5",
           "1_16_0"
          ],
          [
           664,
           "Task 16",
           "warehouse_for_1_16_0_6",
           "1_16_0"
          ],
          [
           512,
           "Task 17",
           "filler_between_warehouse_for_1_16_0_5_and_warehouse_for_1_16_0_6",
           "1_16_0"
          ],
          [
           760,
           "Task 18",
           "warehouse_for_1_16_0_8",
           "1_16_0"
          ],
          [
           664,
           "Task 19",
           "filler_between_warehouse_for_1_16_0_6_and_warehouse_for_1_16_0_8",
           "1_16_0"
          ],
          [
           780,
           "Task 20",
           "filler_between_warehouse_for_1_16_0_8_and_1_16_0_9",
           "1_16_0"
          ],
          [
           20,
           "Task 21",
           "1_16_1_0",
           "1_16_1"
          ],
          [
           30,
           "Task 22",
           "1_16_1_1",
           "1_16_1"
          ],
          [
           38,
           "Task 23",
           "1_16_1_2",
           "1_16_1"
          ],
          [
           71,
           "Task 24",
           "1_16_1_3",
           "1_16_1"
          ],
          [
           320,
           "Task 25",
           "1_16_1_4",
           "1_16_1"
          ],
          [
           512,
           "Task 26",
           "1_16_1_5",
           "1_16_1"
          ],
          [
           664,
           "Task 27",
           "1_16_1_6",
           "1_16_1"
          ],
          [
           664,
           "Task 28",
           "1_16_1_7",
           "1_16_1"
          ],
          [
           760,
           "Task 29",
           "1_16_1_8",
           "1_16_1"
          ],
          [
           768,
           "Task 30",
           "1_16_1_9",
           "1_16_1"
          ],
          [
           778,
           "Task 31",
           "1_16_1_10",
           "1_16_1"
          ],
          [
           788,
           "Task 32",
           "1_16_1_11",
           "1_16_1"
          ],
          [
           71,
           "Task 33",
           "warehouse_for_1_16_1_3",
           "1_16_1"
          ],
          [
           38,
           "Task 34",
           "filler_between_1_16_1_2_and_warehouse_for_1_16_1_3",
           "1_16_1"
          ],
          [
           512,
           "Task 35",
           "warehouse_for_1_16_1_5",
           "1_16_1"
          ],
          [
           320,
           "Task 36",
           "filler_between_warehouse_for_1_16_1_3_and_warehouse_for_1_16_1_5",
           "1_16_1"
          ],
          [
           664,
           "Task 37",
           "warehouse_for_1_16_1_6",
           "1_16_1"
          ],
          [
           512,
           "Task 38",
           "filler_between_warehouse_for_1_16_1_5_and_warehouse_for_1_16_1_6",
           "1_16_1"
          ],
          [
           760,
           "Task 39",
           "warehouse_for_1_16_1_8",
           "1_16_1"
          ],
          [
           664,
           "Task 40",
           "filler_between_warehouse_for_1_16_1_6_and_warehouse_for_1_16_1_8",
           "1_16_1"
          ],
          [
           760,
           "Task 41",
           "filler_between_warehouse_for_1_16_1_8_and_1_16_1_9",
           "1_16_1"
          ],
          [
           43,
           "Task 42",
           "1_16_2_0",
           "1_16_2"
          ],
          [
           53,
           "Task 43",
           "1_16_2_1",
           "1_16_2"
          ],
          [
           61,
           "Task 44",
           "1_16_2_2",
           "1_16_2"
          ],
          [
           104,
           "Task 45",
           "1_16_2_3",
           "1_16_2"
          ],
          [
           320,
           "Task 46",
           "1_16_2_4",
           "1_16_2"
          ],
          [
           512,
           "Task 47",
           "1_16_2_5",
           "1_16_2"
          ],
          [
           664,
           "Task 48",
           "1_16_2_6",
           "1_16_2"
          ],
          [
           664,
           "Task 49",
           "1_16_2_7",
           "1_16_2"
          ],
          [
           760,
           "Task 50",
           "1_16_2_8",
           "1_16_2"
          ],
          [
           808,
           "Task 51",
           "1_16_2_9",
           "1_16_2"
          ],
          [
           818,
           "Task 52",
           "1_16_2_10",
           "1_16_2"
          ],
          [
           828,
           "Task 53",
           "1_16_2_11",
           "1_16_2"
          ],
          [
           104,
           "Task 54",
           "warehouse_for_1_16_2_3",
           "1_16_2"
          ],
          [
           71,
           "Task 55",
           "filler_between_1_16_2_2_and_warehouse_for_1_16_2_3",
           "1_16_2"
          ],
          [
           512,
           "Task 56",
           "warehouse_for_1_16_2_5",
           "1_16_2"
          ],
          [
           320,
           "Task 57",
           "filler_between_warehouse_for_1_16_2_3_and_warehouse_for_1_16_2_5",
           "1_16_2"
          ],
          [
           664,
           "Task 58",
           "warehouse_for_1_16_2_6",
           "1_16_2"
          ],
          [
           512,
           "Task 59",
           "filler_between_warehouse_for_1_16_2_5_and_warehouse_for_1_16_2_6",
           "1_16_2"
          ],
          [
           760,
           "Task 60",
           "warehouse_for_1_16_2_8",
           "1_16_2"
          ],
          [
           664,
           "Task 61",
           "filler_between_warehouse_for_1_16_2_6_and_warehouse_for_1_16_2_8",
           "1_16_2"
          ],
          [
           800,
           "Task 62",
           "filler_between_warehouse_for_1_16_2_8_and_1_16_2_9",
           "1_16_2"
          ],
          [
           63,
           "Task 64",
           "1_16_3_1",
           "1_16_3"
          ],
          [
           71,
           "Task 65",
           "1_16_3_2",
           "1_16_3"
          ],
          [
           104,
           "Task 66",
           "1_16_3_3",
           "1_16_3"
          ],
          [
           320,
           "Task 67",
           "1_16_3_4",
           "1_16_3"
          ],
          [
           512,
           "Task 68",
           "1_16_3_5",
           "1_16_3"
          ],
          [
           664,
           "Task 69",
           "1_16_3_6",
           "1_16_3"
          ],
          [
           664,
           "Task 70",
           "1_16_3_7",
           "1_16_3"
          ],
          [
           760,
           "Task 71",
           "1_16_3_8",
           "1_16_3"
          ],
          [
           778,
           "Task 72",
           "1_16_3_9",
           "1_16_3"
          ],
          [
           788,
           "Task 73",
           "1_16_3_10",
           "1_16_3"
          ],
          [
           798,
           "Task 74",
           "1_16_3_11",
           "1_16_3"
          ],
          [
           104,
           "Task 75",
           "warehouse_for_1_16_3_3",
           "1_16_3"
          ],
          [
           71,
           "Task 76",
           "filler_between_1_16_3_2_and_warehouse_for_1_16_3_3",
           "1_16_3"
          ],
          [
           512,
           "Task 77",
           "warehouse_for_1_16_3_5",
           "1_16_3"
          ],
          [
           320,
           "Task 78",
           "filler_between_warehouse_for_1_16_3_3_and_warehouse_for_1_16_3_5",
           "1_16_3"
          ],
          [
           664,
           "Task 79",
           "warehouse_for_1_16_3_6",
           "1_16_3"
          ],
          [
           512,
           "Task 80",
           "filler_between_warehouse_for_1_16_3_5_and_warehouse_for_1_16_3_6",
           "1_16_3"
          ],
          [
           760,
           "Task 81",
           "warehouse_for_1_16_3_8",
           "1_16_3"
          ],
          [
           664,
           "Task 82",
           "filler_between_warehouse_for_1_16_3_6_and_warehouse_for_1_16_3_8",
           "1_16_3"
          ],
          [
           770,
           "Task 83",
           "filler_between_warehouse_for_1_16_3_8_and_1_16_3_9",
           "1_16_3"
          ],
          [
           30,
           "Task 84",
           "1_16_4_0",
           "1_16_4"
          ],
          [
           40,
           "Task 85",
           "1_16_4_1",
           "1_16_4"
          ],
          [
           48,
           "Task 86",
           "1_16_4_2",
           "1_16_4"
          ],
          [
           104,
           "Task 87",
           "1_16_4_3",
           "1_16_4"
          ],
          [
           320,
           "Task 88",
           "1_16_4_4",
           "1_16_4"
          ],
          [
           512,
           "Task 89",
           "1_16_4_5",
           "1_16_4"
          ],
          [
           664,
           "Task 90",
           "1_16_4_6",
           "1_16_4"
          ],
          [
           664,
           "Task 91",
           "1_16_4_7",
           "1_16_4"
          ],
          [
           760,
           "Task 92",
           "1_16_4_8",
           "1_16_4"
          ],
          [
           798,
           "Task 93",
           "1_16_4_9",
           "1_16_4"
          ],
          [
           808,
           "Task 94",
           "1_16_4_10",
           "1_16_4"
          ],
          [
           818,
           "Task 95",
           "1_16_4_11",
           "1_16_4"
          ],
          [
           104,
           "Task 96",
           "warehouse_for_1_16_4_3",
           "1_16_4"
          ],
          [
           71,
           "Task 97",
           "filler_between_1_16_4_2_and_warehouse_for_1_16_4_3",
           "1_16_4"
          ],
          [
           512,
           "Task 98",
           "warehouse_for_1_16_4_5",
           "1_16_4"
          ],
          [
           320,
           "Task 99",
           "filler_between_warehouse_for_1_16_4_3_and_warehouse_for_1_16_4_5",
           "1_16_4"
          ],
          [
           664,
           "Task 100",
           "warehouse_for_1_16_4_6",
           "1_16_4"
          ],
          [
           512,
           "Task 101",
           "filler_between_warehouse_for_1_16_4_5_and_warehouse_for_1_16_4_6",
           "1_16_4"
          ],
          [
           760,
           "Task 102",
           "warehouse_for_1_16_4_8",
           "1_16_4"
          ],
          [
           664,
           "Task 103",
           "filler_between_warehouse_for_1_16_4_6_and_warehouse_for_1_16_4_8",
           "1_16_4"
          ],
          [
           790,
           "Task 104",
           "filler_between_warehouse_for_1_16_4_8_and_1_16_4_9",
           "1_16_4"
          ]
         ],
         "hovertemplate": "Highlight=Normal<br>Start=%{base}<br>Duration=%{x}<br>Resource=%{y}<br>End=%{customdata[0]}<br>Task=%{customdata[1]}<br>Name=%{customdata[2]}<br>Product=%{customdata[3]}<extra></extra>",
         "legendgroup": "Normal",
         "marker": {
          "color": "green",
          "pattern": {
           "shape": ""
          }
         },
         "name": "Normal",
         "offsetgroup": "Normal",
         "orientation": "h",
         "showlegend": true,
         "textposition": "auto",
         "x": [
          10,
          10,
          8,
          33,
          320,
          192,
          152,
          160,
          96,
          8,
          10,
          10,
          33,
          0,
          192,
          259,
          152,
          0,
          96,
          0,
          20,
          10,
          10,
          8,
          33,
          320,
          192,
          152,
          160,
          96,
          8,
          10,
          10,
          33,
          0,
          192,
          249,
          152,
          0,
          96,
          0,
          0,
          10,
          10,
          8,
          33,
          320,
          192,
          152,
          160,
          96,
          8,
          10,
          10,
          33,
          10,
          192,
          216,
          152,
          0,
          96,
          0,
          40,
          10,
          8,
          33,
          320,
          192,
          152,
          160,
          96,
          8,
          10,
          10,
          33,
          0,
          192,
          216,
          152,
          0,
          96,
          0,
          10,
          10,
          10,
          8,
          33,
          320,
          192,
          152,
          160,
          96,
          8,
          10,
          10,
          33,
          23,
          192,
          216,
          152,
          0,
          96,
          0,
          30
         ],
         "xaxis": "x",
         "y": [
          "Source_Source",
          "Cell_4_Transport",
          "Cell_4_Carrousel",
          "Cell_4_Staubli",
          "Cell_4_Binpick",
          "Cell_4_Staubli",
          "Cell_4_Staubli",
          "Cell_4_Binpick",
          "Cell_4_Staubli",
          "Cell_4_Carrousel",
          "Cell_4_Transport",
          "Sink_Sink",
          "Cell_4_Warehouse",
          "Cell_4_Warehouse",
          "Cell_4_Warehouse",
          "Cell_4_Warehouse",
          "Cell_4_Warehouse",
          "Cell_4_Warehouse",
          "Cell_4_Warehouse",
          "Cell_4_Warehouse",
          "Cell_4_Warehouse",
          "Source_Source",
          "Cell_1_Transport",
          "Cell_1_Carrousel",
          "Cell_1_Staubli",
          "Cell_1_Binpick",
          "Cell_1_Staubli",
          "Cell_1_Staubli",
          "Cell_1_Binpick",
          "Cell_1_Staubli",
          "Cell_1_Carrousel",
          "Cell_1_Transport",
          "Sink_Sink",
          "Cell_1_Warehouse",
          "Cell_1_Warehouse",
          "Cell_1_Warehouse",
          "Cell_1_Warehouse",
          "Cell_1_Warehouse",
          "Cell_1_Warehouse",
          "Cell_1_Warehouse",
          "Cell_1_Warehouse",
          "Cell_1_Warehouse",
          "Source_Source",
          "Cell_0_Transport",
          "Cell_0_Carrousel",
          "Cell_0_Staubli",
          "Cell_0_Binpick",
          "Cell_0_Staubli",
          "Cell_0_Staubli",
          "Cell_0_Binpick",
          "Cell_0_Staubli",
          "Cell_0_Carrousel",
          "Cell_0_Transport",
          "Sink_Sink",
          "Cell_0_Warehouse",
          "Cell_0_Warehouse",
          "Cell_0_Warehouse",
          "Cell_0_Warehouse",
          "Cell_0_Warehouse",
          "Cell_0_Warehouse",
          "Cell_0_Warehouse",
          "Cell_0_Warehouse",
          "Cell_0_Warehouse",
          "Cell_2_Transport",
          "Cell_2_Carrousel",
          "Cell_2_Staubli",
          "Cell_2_Binpick",
          "Cell_2_Staubli",
          "Cell_2_Staubli",
          "Cell_2_Binpick",
          "Cell_2_Staubli",
          "Cell_2_Carrousel",
          "Cell_2_Transport",
          "Sink_Sink",
          "Cell_2_Warehouse",
          "Cell_2_Warehouse",
          "Cell_2_Warehouse",
          "Cell_2_Warehouse",
          "Cell_2_Warehouse",
          "Cell_2_Warehouse",
          "Cell_2_Warehouse",
          "Cell_2_Warehouse",
          "Cell_2_Warehouse",
          "Source_Source",
          "Cell_3_Transport",
          "Cell_3_Carrousel",
          "Cell_3_Staubli",
          "Cell_3_Binpick",
          "Cell_3_Staubli",
          "Cell_3_Staubli",
          "Cell_3_Binpick",
          "Cell_3_Staubli",
          "Cell_3_Carrousel",
          "Cell_3_Transport",
          "Sink_Sink",
          "Cell_3_Warehouse",
          "Cell_3_Warehouse",
          "Cell_3_Warehouse",
          "Cell_3_Warehouse",
          "Cell_3_Warehouse",
          "Cell_3_Warehouse",
          "Cell_3_Warehouse",
          "Cell_3_Warehouse",
          "Cell_3_Warehouse"
         ],
         "yaxis": "y",
         "type": "bar"
        },
        {
         "alignmentgroup": "True",
         "base": [
          500
         ],
         "customdata": [
          [
           510,
           "Task 63",
           "1_16_3_0",
           "1_16_3"
          ]
         ],
         "hovertemplate": "Highlight=Highlighted<br>Start=%{base}<br>Duration=%{x}<br>Resource=%{y}<br>End=%{customdata[0]}<br>Task=%{customdata[1]}<br>Name=%{customdata[2]}<br>Product=%{customdata[3]}<extra></extra>",
         "legendgroup": "Highlighted",
         "marker": {
          "color": "red",
          "pattern": {
           "shape": ""
          }
         },
         "name": "Highlighted",
         "offsetgroup": "Highlighted",
         "orientation": "h",
         "showlegend": true,
         "textposition": "auto",
         "x": [
          10
         ],
         "xaxis": "x",
         "y": [
          "Source_Source"
         ],
         "yaxis": "y",
         "type": "bar"
        }
       ],
       "layout": {
        "template": {
         "data": {
          "histogram2dcontour": [
           {
            "type": "histogram2dcontour",
            "colorbar": {
             "outlinewidth": 0,
             "ticks": ""
            },
            "colorscale": [
             [
              0.0,
              "#0d0887"
             ],
             [
              0.1111111111111111,
              "#46039f"
             ],
             [
              0.2222222222222222,
              "#7201a8"
             ],
             [
              0.3333333333333333,
              "#9c179e"
             ],
             [
              0.4444444444444444,
              "#bd3786"
             ],
             [
              0.5555555555555556,
              "#d8576b"
             ],
             [
              0.6666666666666666,
              "#ed7953"
             ],
             [
              0.7777777777777778,
              "#fb9f3a"
             ],
             [
              0.8888888888888888,
              "#fdca26"
             ],
             [
              1.0,
              "#f0f921"
             ]
            ]
           }
          ],
          "choropleth": [
           {
            "type": "choropleth",
            "colorbar": {
             "outlinewidth": 0,
             "ticks": ""
            }
           }
          ],
          "histogram2d": [
           {
            "type": "histogram2d",
            "colorbar": {
             "outlinewidth": 0,
             "ticks": ""
            },
            "colorscale": [
             [
              0.0,
              "#0d0887"
             ],
             [
              0.1111111111111111,
              "#46039f"
             ],
             [
              0.2222222222222222,
              "#7201a8"
             ],
             [
              0.3333333333333333,
              "#9c179e"
             ],
             [
              0.4444444444444444,
              "#bd3786"
             ],
             [
              0.5555555555555556,
              "#d8576b"
             ],
             [
              0.6666666666666666,
              "#ed7953"
             ],
             [
              0.7777777777777778,
              "#fb9f3a"
             ],
             [
              0.8888888888888888,
              "#fdca26"
             ],
             [
              1.0,
              "#f0f921"
             ]
            ]
           }
          ],
          "heatmap": [
           {
            "type": "heatmap",
            "colorbar": {
             "outlinewidth": 0,
             "ticks": ""
            },
            "colorscale": [
             [
              0.0,
              "#0d0887"
             ],
             [
              0.1111111111111111,
              "#46039f"
             ],
             [
              0.2222222222222222,
              "#7201a8"
             ],
             [
              0.3333333333333333,
              "#9c179e"
             ],
             [
              0.4444444444444444,
              "#bd3786"
             ],
             [
              0.5555555555555556,
              "#d8576b"
             ],
             [
              0.6666666666666666,
              "#ed7953"
             ],
             [
              0.7777777777777778,
              "#fb9f3a"
             ],
             [
              0.8888888888888888,
              "#fdca26"
             ],
             [
              1.0,
              "#f0f921"
             ]
            ]
           }
          ],
          "heatmapgl": [
           {
            "type": "heatmapgl",
            "colorbar": {
             "outlinewidth": 0,
             "ticks": ""
            },
            "colorscale": [
             [
              0.0,
              "#0d0887"
             ],
             [
              0.1111111111111111,
              "#46039f"
             ],
             [
              0.2222222222222222,
              "#7201a8"
             ],
             [
              0.3333333333333333,
              "#9c179e"
             ],
             [
              0.4444444444444444,
              "#bd3786"
             ],
             [
              0.5555555555555556,
              "#d8576b"
             ],
             [
              0.6666666666666666,
              "#ed7953"
             ],
             [
              0.7777777777777778,
              "#fb9f3a"
             ],
             [
              0.8888888888888888,
              "#fdca26"
             ],
             [
              1.0,
              "#f0f921"
             ]
            ]
           }
          ],
          "contourcarpet": [
           {
            "type": "contourcarpet",
            "colorbar": {
             "outlinewidth": 0,
             "ticks": ""
            }
           }
          ],
          "contour": [
           {
            "type": "contour",
            "colorbar": {
             "outlinewidth": 0,
             "ticks": ""
            },
            "colorscale": [
             [
              0.0,
              "#0d0887"
             ],
             [
              0.1111111111111111,
              "#46039f"
             ],
             [
              0.2222222222222222,
              "#7201a8"
             ],
             [
              0.3333333333333333,
              "#9c179e"
             ],
             [
              0.4444444444444444,
              "#bd3786"
             ],
             [
              0.5555555555555556,
              "#d8576b"
             ],
             [
              0.6666666666666666,
              "#ed7953"
             ],
             [
              0.7777777777777778,
              "#fb9f3a"
             ],
             [
              0.8888888888888888,
              "#fdca26"
             ],
             [
              1.0,
              "#f0f921"
             ]
            ]
           }
          ],
          "surface": [
           {
            "type": "surface",
            "colorbar": {
             "outlinewidth": 0,
             "ticks": ""
            },
            "colorscale": [
             [
              0.0,
              "#0d0887"
             ],
             [
              0.1111111111111111,
              "#46039f"
             ],
             [
              0.2222222222222222,
              "#7201a8"
             ],
             [
              0.3333333333333333,
              "#9c179e"
             ],
             [
              0.4444444444444444,
              "#bd3786"
             ],
             [
              0.5555555555555556,
              "#d8576b"
             ],
             [
              0.6666666666666666,
              "#ed7953"
             ],
             [
              0.7777777777777778,
              "#fb9f3a"
             ],
             [
              0.8888888888888888,
              "#fdca26"
             ],
             [
              1.0,
              "#f0f921"
             ]
            ]
           }
          ],
          "mesh3d": [
           {
            "type": "mesh3d",
            "colorbar": {
             "outlinewidth": 0,
             "ticks": ""
            }
           }
          ],
          "scatter": [
           {
            "marker": {
             "line": {
              "color": "#283442"
             }
            },
            "type": "scatter"
           }
          ],
          "parcoords": [
           {
            "type": "parcoords",
            "line": {
             "colorbar": {
              "outlinewidth": 0,
              "ticks": ""
             }
            }
           }
          ],
          "scatterpolargl": [
           {
            "type": "scatterpolargl",
            "marker": {
             "colorbar": {
              "outlinewidth": 0,
              "ticks": ""
             }
            }
           }
          ],
          "bar": [
           {
            "error_x": {
             "color": "#f2f5fa"
            },
            "error_y": {
             "color": "#f2f5fa"
            },
            "marker": {
             "line": {
              "color": "rgb(17,17,17)",
              "width": 0.5
             },
             "pattern": {
              "fillmode": "overlay",
              "size": 10,
              "solidity": 0.2
             }
            },
            "type": "bar"
           }
          ],
          "scattergeo": [
           {
            "type": "scattergeo",
            "marker": {
             "colorbar": {
              "outlinewidth": 0,
              "ticks": ""
             }
            }
           }
          ],
          "scatterpolar": [
           {
            "type": "scatterpolar",
            "marker": {
             "colorbar": {
              "outlinewidth": 0,
              "ticks": ""
             }
            }
           }
          ],
          "histogram": [
           {
            "marker": {
             "pattern": {
              "fillmode": "overlay",
              "size": 10,
              "solidity": 0.2
             }
            },
            "type": "histogram"
           }
          ],
          "scattergl": [
           {
            "marker": {
             "line": {
              "color": "#283442"
             }
            },
            "type": "scattergl"
           }
          ],
          "scatter3d": [
           {
            "type": "scatter3d",
            "line": {
             "colorbar": {
              "outlinewidth": 0,
              "ticks": ""
             }
            },
            "marker": {
             "colorbar": {
              "outlinewidth": 0,
              "ticks": ""
             }
            }
           }
          ],
          "scattermapbox": [
           {
            "type": "scattermapbox",
            "marker": {
             "colorbar": {
              "outlinewidth": 0,
              "ticks": ""
             }
            }
           }
          ],
          "scatterternary": [
           {
            "type": "scatterternary",
            "marker": {
             "colorbar": {
              "outlinewidth": 0,
              "ticks": ""
             }
            }
           }
          ],
          "scattercarpet": [
           {
            "type": "scattercarpet",
            "marker": {
             "colorbar": {
              "outlinewidth": 0,
              "ticks": ""
             }
            }
           }
          ],
          "carpet": [
           {
            "aaxis": {
             "endlinecolor": "#A2B1C6",
             "gridcolor": "#506784",
             "linecolor": "#506784",
             "minorgridcolor": "#506784",
             "startlinecolor": "#A2B1C6"
            },
            "baxis": {
             "endlinecolor": "#A2B1C6",
             "gridcolor": "#506784",
             "linecolor": "#506784",
             "minorgridcolor": "#506784",
             "startlinecolor": "#A2B1C6"
            },
            "type": "carpet"
           }
          ],
          "table": [
           {
            "cells": {
             "fill": {
              "color": "#506784"
             },
             "line": {
              "color": "rgb(17,17,17)"
             }
            },
            "header": {
             "fill": {
              "color": "#2a3f5f"
             },
             "line": {
              "color": "rgb(17,17,17)"
             }
            },
            "type": "table"
           }
          ],
          "barpolar": [
           {
            "marker": {
             "line": {
              "color": "rgb(17,17,17)",
              "width": 0.5
             },
             "pattern": {
              "fillmode": "overlay",
              "size": 10,
              "solidity": 0.2
             }
            },
            "type": "barpolar"
           }
          ],
          "pie": [
           {
            "automargin": true,
            "type": "pie"
           }
          ]
         },
         "layout": {
          "autotypenumbers": "strict",
          "colorway": [
           "#636efa",
           "#EF553B",
           "#00cc96",
           "#ab63fa",
           "#FFA15A",
           "#19d3f3",
           "#FF6692",
           "#B6E880",
           "#FF97FF",
           "#FECB52"
          ],
          "font": {
           "color": "#f2f5fa"
          },
          "hovermode": "closest",
          "hoverlabel": {
           "align": "left"
          },
          "paper_bgcolor": "rgb(17,17,17)",
          "plot_bgcolor": "rgb(17,17,17)",
          "polar": {
           "bgcolor": "rgb(17,17,17)",
           "angularaxis": {
            "gridcolor": "#506784",
            "linecolor": "#506784",
            "ticks": ""
           },
           "radialaxis": {
            "gridcolor": "#506784",
            "linecolor": "#506784",
            "ticks": ""
           }
          },
          "ternary": {
           "bgcolor": "rgb(17,17,17)",
           "aaxis": {
            "gridcolor": "#506784",
            "linecolor": "#506784",
            "ticks": ""
           },
           "baxis": {
            "gridcolor": "#506784",
            "linecolor": "#506784",
            "ticks": ""
           },
           "caxis": {
            "gridcolor": "#506784",
            "linecolor": "#506784",
            "ticks": ""
           }
          },
          "coloraxis": {
           "colorbar": {
            "outlinewidth": 0,
            "ticks": ""
           }
          },
          "colorscale": {
           "sequential": [
            [
             0.0,
             "#0d0887"
            ],
            [
             0.1111111111111111,
             "#46039f"
            ],
            [
             0.2222222222222222,
             "#7201a8"
            ],
            [
             0.3333333333333333,
             "#9c179e"
            ],
            [
             0.4444444444444444,
             "#bd3786"
            ],
            [
             0.5555555555555556,
             "#d8576b"
            ],
            [
             0.6666666666666666,
             "#ed7953"
            ],
            [
             0.7777777777777778,
             "#fb9f3a"
            ],
            [
             0.8888888888888888,
             "#fdca26"
            ],
            [
             1.0,
             "#f0f921"
            ]
           ],
           "sequentialminus": [
            [
             0.0,
             "#0d0887"
            ],
            [
             0.1111111111111111,
             "#46039f"
            ],
            [
             0.2222222222222222,
             "#7201a8"
            ],
            [
             0.3333333333333333,
             "#9c179e"
            ],
            [
             0.4444444444444444,
             "#bd3786"
            ],
            [
             0.5555555555555556,
             "#d8576b"
            ],
            [
             0.6666666666666666,
             "#ed7953"
            ],
            [
             0.7777777777777778,
             "#fb9f3a"
            ],
            [
             0.8888888888888888,
             "#fdca26"
            ],
            [
             1.0,
             "#f0f921"
            ]
           ],
           "diverging": [
            [
             0,
             "#8e0152"
            ],
            [
             0.1,
             "#c51b7d"
            ],
            [
             0.2,
             "#de77ae"
            ],
            [
             0.3,
             "#f1b6da"
            ],
            [
             0.4,
             "#fde0ef"
            ],
            [
             0.5,
             "#f7f7f7"
            ],
            [
             0.6,
             "#e6f5d0"
            ],
            [
             0.7,
             "#b8e186"
            ],
            [
             0.8,
             "#7fbc41"
            ],
            [
             0.9,
             "#4d9221"
            ],
            [
             1,
             "#276419"
            ]
           ]
          },
          "xaxis": {
           "gridcolor": "#283442",
           "linecolor": "#506784",
           "ticks": "",
           "title": {
            "standoff": 15
           },
           "zerolinecolor": "#283442",
           "automargin": true,
           "zerolinewidth": 2
          },
          "yaxis": {
           "gridcolor": "#283442",
           "linecolor": "#506784",
           "ticks": "",
           "title": {
            "standoff": 15
           },
           "zerolinecolor": "#283442",
           "automargin": true,
           "zerolinewidth": 2
          },
          "scene": {
           "xaxis": {
            "backgroundcolor": "rgb(17,17,17)",
            "gridcolor": "#506784",
            "linecolor": "#506784",
            "showbackground": true,
            "ticks": "",
            "zerolinecolor": "#C8D4E3",
            "gridwidth": 2
           },
           "yaxis": {
            "backgroundcolor": "rgb(17,17,17)",
            "gridcolor": "#506784",
            "linecolor": "#506784",
            "showbackground": true,
            "ticks": "",
            "zerolinecolor": "#C8D4E3",
            "gridwidth": 2
           },
           "zaxis": {
            "backgroundcolor": "rgb(17,17,17)",
            "gridcolor": "#506784",
            "linecolor": "#506784",
            "showbackground": true,
            "ticks": "",
            "zerolinecolor": "#C8D4E3",
            "gridwidth": 2
           }
          },
          "shapedefaults": {
           "line": {
            "color": "#f2f5fa"
           }
          },
          "annotationdefaults": {
           "arrowcolor": "#f2f5fa",
           "arrowhead": 0,
           "arrowwidth": 1
          },
          "geo": {
           "bgcolor": "rgb(17,17,17)",
           "landcolor": "rgb(17,17,17)",
           "subunitcolor": "#506784",
           "showland": true,
           "showlakes": true,
           "lakecolor": "rgb(17,17,17)"
          },
          "title": {
           "x": 0.05
          },
          "updatemenudefaults": {
           "bgcolor": "#506784",
           "borderwidth": 0
          },
          "sliderdefaults": {
           "bgcolor": "#C8D4E3",
           "borderwidth": 1,
           "bordercolor": "rgb(17,17,17)",
           "tickwidth": 0
          },
          "mapbox": {
           "style": "dark"
          }
         }
        },
        "xaxis": {
         "anchor": "y",
         "domain": [
          0.0,
          1.0
         ],
         "title": {
          "text": "Time"
         },
         "showgrid": true,
         "gridcolor": "lightgray",
         "color": "white"
        },
        "yaxis": {
         "anchor": "x",
         "domain": [
          0.0,
          1.0
         ],
         "title": {
          "text": "Machine"
         },
         "showgrid": true,
         "gridcolor": "lightgray",
         "color": "white",
         "categoryorder": "category ascending"
        },
        "legend": {
         "title": {
          "text": "Highlight"
         },
         "tracegroupgap": 0
        },
        "title": {
         "text": "Job Shop Schedule - Disruption scenario for delayed entrance",
         "font": {
          "color": "white"
         }
        },
        "barmode": "relative",
        "font": {
         "color": "white"
        },
        "plot_bgcolor": "black",
        "paper_bgcolor": "black",
        "height": 750
       },
       "config": {
        "plotlyServerURL": "https://plot.ly"
       }
      },
      "text/html": [
       "<div>                            <div id=\"65a2c0c6-7a6d-49ed-b6c2-ac0d222cb660\" class=\"plotly-graph-div\" style=\"height:750px; width:100%;\"></div>            <script type=\"text/javascript\">                require([\"plotly\"], function(Plotly) {                    window.PLOTLYENV=window.PLOTLYENV || {};                                    if (document.getElementById(\"65a2c0c6-7a6d-49ed-b6c2-ac0d222cb660\")) {                    Plotly.newPlot(                        \"65a2c0c6-7a6d-49ed-b6c2-ac0d222cb660\",                        [{\"alignmentgroup\":\"True\",\"base\":[0,10,20,28,0,320,512,504,664,780,788,798,28,28,320,61,512,512,664,664,760,10,20,30,38,0,320,512,504,664,760,768,778,38,38,320,71,512,512,664,664,760,33,43,53,71,0,320,512,504,664,800,808,818,71,61,320,104,512,512,664,664,760,53,63,71,0,320,512,504,664,770,778,788,71,71,320,104,512,512,664,664,760,20,30,40,71,0,320,512,504,664,790,798,808,71,48,320,104,512,512,664,664,760],\"customdata\":[[10,\"Task 0\",\"1_16_0_0\",\"1_16_0\"],[20,\"Task 1\",\"1_16_0_1\",\"1_16_0\"],[28,\"Task 2\",\"1_16_0_2\",\"1_16_0\"],[61,\"Task 3\",\"1_16_0_3\",\"1_16_0\"],[320,\"Task 4\",\"1_16_0_4\",\"1_16_0\"],[512,\"Task 5\",\"1_16_0_5\",\"1_16_0\"],[664,\"Task 6\",\"1_16_0_6\",\"1_16_0\"],[664,\"Task 7\",\"1_16_0_7\",\"1_16_0\"],[760,\"Task 8\",\"1_16_0_8\",\"1_16_0\"],[788,\"Task 9\",\"1_16_0_9\",\"1_16_0\"],[798,\"Task 10\",\"1_16_0_10\",\"1_16_0\"],[808,\"Task 11\",\"1_16_0_11\",\"1_16_0\"],[61,\"Task 12\",\"warehouse_for_1_16_0_3\",\"1_16_0\"],[28,\"Task 13\",\"filler_between_1_16_0_2_and_warehouse_for_1_16_0_3\",\"1_16_0\"],[512,\"Task 14\",\"warehouse_for_1_16_0_5\",\"1_16_0\"],[320,\"Task 15\",\"filler_between_warehouse_for_1_16_0_3_and_warehouse_for_1_16_0_5\",\"1_16_0\"],[664,\"Task 16\",\"warehouse_for_1_16_0_6\",\"1_16_0\"],[512,\"Task 17\",\"filler_between_warehouse_for_1_16_0_5_and_warehouse_for_1_16_0_6\",\"1_16_0\"],[760,\"Task 18\",\"warehouse_for_1_16_0_8\",\"1_16_0\"],[664,\"Task 19\",\"filler_between_warehouse_for_1_16_0_6_and_warehouse_for_1_16_0_8\",\"1_16_0\"],[780,\"Task 20\",\"filler_between_warehouse_for_1_16_0_8_and_1_16_0_9\",\"1_16_0\"],[20,\"Task 21\",\"1_16_1_0\",\"1_16_1\"],[30,\"Task 22\",\"1_16_1_1\",\"1_16_1\"],[38,\"Task 23\",\"1_16_1_2\",\"1_16_1\"],[71,\"Task 24\",\"1_16_1_3\",\"1_16_1\"],[320,\"Task 25\",\"1_16_1_4\",\"1_16_1\"],[512,\"Task 26\",\"1_16_1_5\",\"1_16_1\"],[664,\"Task 27\",\"1_16_1_6\",\"1_16_1\"],[664,\"Task 28\",\"1_16_1_7\",\"1_16_1\"],[760,\"Task 29\",\"1_16_1_8\",\"1_16_1\"],[768,\"Task 30\",\"1_16_1_9\",\"1_16_1\"],[778,\"Task 31\",\"1_16_1_10\",\"1_16_1\"],[788,\"Task 32\",\"1_16_1_11\",\"1_16_1\"],[71,\"Task 33\",\"warehouse_for_1_16_1_3\",\"1_16_1\"],[38,\"Task 34\",\"filler_between_1_16_1_2_and_warehouse_for_1_16_1_3\",\"1_16_1\"],[512,\"Task 35\",\"warehouse_for_1_16_1_5\",\"1_16_1\"],[320,\"Task 36\",\"filler_between_warehouse_for_1_16_1_3_and_warehouse_for_1_16_1_5\",\"1_16_1\"],[664,\"Task 37\",\"warehouse_for_1_16_1_6\",\"1_16_1\"],[512,\"Task 38\",\"filler_between_warehouse_for_1_16_1_5_and_warehouse_for_1_16_1_6\",\"1_16_1\"],[760,\"Task 39\",\"warehouse_for_1_16_1_8\",\"1_16_1\"],[664,\"Task 40\",\"filler_between_warehouse_for_1_16_1_6_and_warehouse_for_1_16_1_8\",\"1_16_1\"],[760,\"Task 41\",\"filler_between_warehouse_for_1_16_1_8_and_1_16_1_9\",\"1_16_1\"],[43,\"Task 42\",\"1_16_2_0\",\"1_16_2\"],[53,\"Task 43\",\"1_16_2_1\",\"1_16_2\"],[61,\"Task 44\",\"1_16_2_2\",\"1_16_2\"],[104,\"Task 45\",\"1_16_2_3\",\"1_16_2\"],[320,\"Task 46\",\"1_16_2_4\",\"1_16_2\"],[512,\"Task 47\",\"1_16_2_5\",\"1_16_2\"],[664,\"Task 48\",\"1_16_2_6\",\"1_16_2\"],[664,\"Task 49\",\"1_16_2_7\",\"1_16_2\"],[760,\"Task 50\",\"1_16_2_8\",\"1_16_2\"],[808,\"Task 51\",\"1_16_2_9\",\"1_16_2\"],[818,\"Task 52\",\"1_16_2_10\",\"1_16_2\"],[828,\"Task 53\",\"1_16_2_11\",\"1_16_2\"],[104,\"Task 54\",\"warehouse_for_1_16_2_3\",\"1_16_2\"],[71,\"Task 55\",\"filler_between_1_16_2_2_and_warehouse_for_1_16_2_3\",\"1_16_2\"],[512,\"Task 56\",\"warehouse_for_1_16_2_5\",\"1_16_2\"],[320,\"Task 57\",\"filler_between_warehouse_for_1_16_2_3_and_warehouse_for_1_16_2_5\",\"1_16_2\"],[664,\"Task 58\",\"warehouse_for_1_16_2_6\",\"1_16_2\"],[512,\"Task 59\",\"filler_between_warehouse_for_1_16_2_5_and_warehouse_for_1_16_2_6\",\"1_16_2\"],[760,\"Task 60\",\"warehouse_for_1_16_2_8\",\"1_16_2\"],[664,\"Task 61\",\"filler_between_warehouse_for_1_16_2_6_and_warehouse_for_1_16_2_8\",\"1_16_2\"],[800,\"Task 62\",\"filler_between_warehouse_for_1_16_2_8_and_1_16_2_9\",\"1_16_2\"],[63,\"Task 64\",\"1_16_3_1\",\"1_16_3\"],[71,\"Task 65\",\"1_16_3_2\",\"1_16_3\"],[104,\"Task 66\",\"1_16_3_3\",\"1_16_3\"],[320,\"Task 67\",\"1_16_3_4\",\"1_16_3\"],[512,\"Task 68\",\"1_16_3_5\",\"1_16_3\"],[664,\"Task 69\",\"1_16_3_6\",\"1_16_3\"],[664,\"Task 70\",\"1_16_3_7\",\"1_16_3\"],[760,\"Task 71\",\"1_16_3_8\",\"1_16_3\"],[778,\"Task 72\",\"1_16_3_9\",\"1_16_3\"],[788,\"Task 73\",\"1_16_3_10\",\"1_16_3\"],[798,\"Task 74\",\"1_16_3_11\",\"1_16_3\"],[104,\"Task 75\",\"warehouse_for_1_16_3_3\",\"1_16_3\"],[71,\"Task 76\",\"filler_between_1_16_3_2_and_warehouse_for_1_16_3_3\",\"1_16_3\"],[512,\"Task 77\",\"warehouse_for_1_16_3_5\",\"1_16_3\"],[320,\"Task 78\",\"filler_between_warehouse_for_1_16_3_3_and_warehouse_for_1_16_3_5\",\"1_16_3\"],[664,\"Task 79\",\"warehouse_for_1_16_3_6\",\"1_16_3\"],[512,\"Task 80\",\"filler_between_warehouse_for_1_16_3_5_and_warehouse_for_1_16_3_6\",\"1_16_3\"],[760,\"Task 81\",\"warehouse_for_1_16_3_8\",\"1_16_3\"],[664,\"Task 82\",\"filler_between_warehouse_for_1_16_3_6_and_warehouse_for_1_16_3_8\",\"1_16_3\"],[770,\"Task 83\",\"filler_between_warehouse_for_1_16_3_8_and_1_16_3_9\",\"1_16_3\"],[30,\"Task 84\",\"1_16_4_0\",\"1_16_4\"],[40,\"Task 85\",\"1_16_4_1\",\"1_16_4\"],[48,\"Task 86\",\"1_16_4_2\",\"1_16_4\"],[104,\"Task 87\",\"1_16_4_3\",\"1_16_4\"],[320,\"Task 88\",\"1_16_4_4\",\"1_16_4\"],[512,\"Task 89\",\"1_16_4_5\",\"1_16_4\"],[664,\"Task 90\",\"1_16_4_6\",\"1_16_4\"],[664,\"Task 91\",\"1_16_4_7\",\"1_16_4\"],[760,\"Task 92\",\"1_16_4_8\",\"1_16_4\"],[798,\"Task 93\",\"1_16_4_9\",\"1_16_4\"],[808,\"Task 94\",\"1_16_4_10\",\"1_16_4\"],[818,\"Task 95\",\"1_16_4_11\",\"1_16_4\"],[104,\"Task 96\",\"warehouse_for_1_16_4_3\",\"1_16_4\"],[71,\"Task 97\",\"filler_between_1_16_4_2_and_warehouse_for_1_16_4_3\",\"1_16_4\"],[512,\"Task 98\",\"warehouse_for_1_16_4_5\",\"1_16_4\"],[320,\"Task 99\",\"filler_between_warehouse_for_1_16_4_3_and_warehouse_for_1_16_4_5\",\"1_16_4\"],[664,\"Task 100\",\"warehouse_for_1_16_4_6\",\"1_16_4\"],[512,\"Task 101\",\"filler_between_warehouse_for_1_16_4_5_and_warehouse_for_1_16_4_6\",\"1_16_4\"],[760,\"Task 102\",\"warehouse_for_1_16_4_8\",\"1_16_4\"],[664,\"Task 103\",\"filler_between_warehouse_for_1_16_4_6_and_warehouse_for_1_16_4_8\",\"1_16_4\"],[790,\"Task 104\",\"filler_between_warehouse_for_1_16_4_8_and_1_16_4_9\",\"1_16_4\"]],\"hovertemplate\":\"Highlight=Normal\\u003cbr\\u003eStart=%{base}\\u003cbr\\u003eDuration=%{x}\\u003cbr\\u003eResource=%{y}\\u003cbr\\u003eEnd=%{customdata[0]}\\u003cbr\\u003eTask=%{customdata[1]}\\u003cbr\\u003eName=%{customdata[2]}\\u003cbr\\u003eProduct=%{customdata[3]}\\u003cextra\\u003e\\u003c\\u002fextra\\u003e\",\"legendgroup\":\"Normal\",\"marker\":{\"color\":\"green\",\"pattern\":{\"shape\":\"\"}},\"name\":\"Normal\",\"offsetgroup\":\"Normal\",\"orientation\":\"h\",\"showlegend\":true,\"textposition\":\"auto\",\"x\":[10,10,8,33,320,192,152,160,96,8,10,10,33,0,192,259,152,0,96,0,20,10,10,8,33,320,192,152,160,96,8,10,10,33,0,192,249,152,0,96,0,0,10,10,8,33,320,192,152,160,96,8,10,10,33,10,192,216,152,0,96,0,40,10,8,33,320,192,152,160,96,8,10,10,33,0,192,216,152,0,96,0,10,10,10,8,33,320,192,152,160,96,8,10,10,33,23,192,216,152,0,96,0,30],\"xaxis\":\"x\",\"y\":[\"Source_Source\",\"Cell_4_Transport\",\"Cell_4_Carrousel\",\"Cell_4_Staubli\",\"Cell_4_Binpick\",\"Cell_4_Staubli\",\"Cell_4_Staubli\",\"Cell_4_Binpick\",\"Cell_4_Staubli\",\"Cell_4_Carrousel\",\"Cell_4_Transport\",\"Sink_Sink\",\"Cell_4_Warehouse\",\"Cell_4_Warehouse\",\"Cell_4_Warehouse\",\"Cell_4_Warehouse\",\"Cell_4_Warehouse\",\"Cell_4_Warehouse\",\"Cell_4_Warehouse\",\"Cell_4_Warehouse\",\"Cell_4_Warehouse\",\"Source_Source\",\"Cell_1_Transport\",\"Cell_1_Carrousel\",\"Cell_1_Staubli\",\"Cell_1_Binpick\",\"Cell_1_Staubli\",\"Cell_1_Staubli\",\"Cell_1_Binpick\",\"Cell_1_Staubli\",\"Cell_1_Carrousel\",\"Cell_1_Transport\",\"Sink_Sink\",\"Cell_1_Warehouse\",\"Cell_1_Warehouse\",\"Cell_1_Warehouse\",\"Cell_1_Warehouse\",\"Cell_1_Warehouse\",\"Cell_1_Warehouse\",\"Cell_1_Warehouse\",\"Cell_1_Warehouse\",\"Cell_1_Warehouse\",\"Source_Source\",\"Cell_0_Transport\",\"Cell_0_Carrousel\",\"Cell_0_Staubli\",\"Cell_0_Binpick\",\"Cell_0_Staubli\",\"Cell_0_Staubli\",\"Cell_0_Binpick\",\"Cell_0_Staubli\",\"Cell_0_Carrousel\",\"Cell_0_Transport\",\"Sink_Sink\",\"Cell_0_Warehouse\",\"Cell_0_Warehouse\",\"Cell_0_Warehouse\",\"Cell_0_Warehouse\",\"Cell_0_Warehouse\",\"Cell_0_Warehouse\",\"Cell_0_Warehouse\",\"Cell_0_Warehouse\",\"Cell_0_Warehouse\",\"Cell_2_Transport\",\"Cell_2_Carrousel\",\"Cell_2_Staubli\",\"Cell_2_Binpick\",\"Cell_2_Staubli\",\"Cell_2_Staubli\",\"Cell_2_Binpick\",\"Cell_2_Staubli\",\"Cell_2_Carrousel\",\"Cell_2_Transport\",\"Sink_Sink\",\"Cell_2_Warehouse\",\"Cell_2_Warehouse\",\"Cell_2_Warehouse\",\"Cell_2_Warehouse\",\"Cell_2_Warehouse\",\"Cell_2_Warehouse\",\"Cell_2_Warehouse\",\"Cell_2_Warehouse\",\"Cell_2_Warehouse\",\"Source_Source\",\"Cell_3_Transport\",\"Cell_3_Carrousel\",\"Cell_3_Staubli\",\"Cell_3_Binpick\",\"Cell_3_Staubli\",\"Cell_3_Staubli\",\"Cell_3_Binpick\",\"Cell_3_Staubli\",\"Cell_3_Carrousel\",\"Cell_3_Transport\",\"Sink_Sink\",\"Cell_3_Warehouse\",\"Cell_3_Warehouse\",\"Cell_3_Warehouse\",\"Cell_3_Warehouse\",\"Cell_3_Warehouse\",\"Cell_3_Warehouse\",\"Cell_3_Warehouse\",\"Cell_3_Warehouse\",\"Cell_3_Warehouse\"],\"yaxis\":\"y\",\"type\":\"bar\"},{\"alignmentgroup\":\"True\",\"base\":[500],\"customdata\":[[510,\"Task 63\",\"1_16_3_0\",\"1_16_3\"]],\"hovertemplate\":\"Highlight=Highlighted\\u003cbr\\u003eStart=%{base}\\u003cbr\\u003eDuration=%{x}\\u003cbr\\u003eResource=%{y}\\u003cbr\\u003eEnd=%{customdata[0]}\\u003cbr\\u003eTask=%{customdata[1]}\\u003cbr\\u003eName=%{customdata[2]}\\u003cbr\\u003eProduct=%{customdata[3]}\\u003cextra\\u003e\\u003c\\u002fextra\\u003e\",\"legendgroup\":\"Highlighted\",\"marker\":{\"color\":\"red\",\"pattern\":{\"shape\":\"\"}},\"name\":\"Highlighted\",\"offsetgroup\":\"Highlighted\",\"orientation\":\"h\",\"showlegend\":true,\"textposition\":\"auto\",\"x\":[10],\"xaxis\":\"x\",\"y\":[\"Source_Source\"],\"yaxis\":\"y\",\"type\":\"bar\"}],                        {\"template\":{\"data\":{\"histogram2dcontour\":[{\"type\":\"histogram2dcontour\",\"colorbar\":{\"outlinewidth\":0,\"ticks\":\"\"},\"colorscale\":[[0.0,\"#0d0887\"],[0.1111111111111111,\"#46039f\"],[0.2222222222222222,\"#7201a8\"],[0.3333333333333333,\"#9c179e\"],[0.4444444444444444,\"#bd3786\"],[0.5555555555555556,\"#d8576b\"],[0.6666666666666666,\"#ed7953\"],[0.7777777777777778,\"#fb9f3a\"],[0.8888888888888888,\"#fdca26\"],[1.0,\"#f0f921\"]]}],\"choropleth\":[{\"type\":\"choropleth\",\"colorbar\":{\"outlinewidth\":0,\"ticks\":\"\"}}],\"histogram2d\":[{\"type\":\"histogram2d\",\"colorbar\":{\"outlinewidth\":0,\"ticks\":\"\"},\"colorscale\":[[0.0,\"#0d0887\"],[0.1111111111111111,\"#46039f\"],[0.2222222222222222,\"#7201a8\"],[0.3333333333333333,\"#9c179e\"],[0.4444444444444444,\"#bd3786\"],[0.5555555555555556,\"#d8576b\"],[0.6666666666666666,\"#ed7953\"],[0.7777777777777778,\"#fb9f3a\"],[0.8888888888888888,\"#fdca26\"],[1.0,\"#f0f921\"]]}],\"heatmap\":[{\"type\":\"heatmap\",\"colorbar\":{\"outlinewidth\":0,\"ticks\":\"\"},\"colorscale\":[[0.0,\"#0d0887\"],[0.1111111111111111,\"#46039f\"],[0.2222222222222222,\"#7201a8\"],[0.3333333333333333,\"#9c179e\"],[0.4444444444444444,\"#bd3786\"],[0.5555555555555556,\"#d8576b\"],[0.6666666666666666,\"#ed7953\"],[0.7777777777777778,\"#fb9f3a\"],[0.8888888888888888,\"#fdca26\"],[1.0,\"#f0f921\"]]}],\"heatmapgl\":[{\"type\":\"heatmapgl\",\"colorbar\":{\"outlinewidth\":0,\"ticks\":\"\"},\"colorscale\":[[0.0,\"#0d0887\"],[0.1111111111111111,\"#46039f\"],[0.2222222222222222,\"#7201a8\"],[0.3333333333333333,\"#9c179e\"],[0.4444444444444444,\"#bd3786\"],[0.5555555555555556,\"#d8576b\"],[0.6666666666666666,\"#ed7953\"],[0.7777777777777778,\"#fb9f3a\"],[0.8888888888888888,\"#fdca26\"],[1.0,\"#f0f921\"]]}],\"contourcarpet\":[{\"type\":\"contourcarpet\",\"colorbar\":{\"outlinewidth\":0,\"ticks\":\"\"}}],\"contour\":[{\"type\":\"contour\",\"colorbar\":{\"outlinewidth\":0,\"ticks\":\"\"},\"colorscale\":[[0.0,\"#0d0887\"],[0.1111111111111111,\"#46039f\"],[0.2222222222222222,\"#7201a8\"],[0.3333333333333333,\"#9c179e\"],[0.4444444444444444,\"#bd3786\"],[0.5555555555555556,\"#d8576b\"],[0.6666666666666666,\"#ed7953\"],[0.7777777777777778,\"#fb9f3a\"],[0.8888888888888888,\"#fdca26\"],[1.0,\"#f0f921\"]]}],\"surface\":[{\"type\":\"surface\",\"colorbar\":{\"outlinewidth\":0,\"ticks\":\"\"},\"colorscale\":[[0.0,\"#0d0887\"],[0.1111111111111111,\"#46039f\"],[0.2222222222222222,\"#7201a8\"],[0.3333333333333333,\"#9c179e\"],[0.4444444444444444,\"#bd3786\"],[0.5555555555555556,\"#d8576b\"],[0.6666666666666666,\"#ed7953\"],[0.7777777777777778,\"#fb9f3a\"],[0.8888888888888888,\"#fdca26\"],[1.0,\"#f0f921\"]]}],\"mesh3d\":[{\"type\":\"mesh3d\",\"colorbar\":{\"outlinewidth\":0,\"ticks\":\"\"}}],\"scatter\":[{\"marker\":{\"line\":{\"color\":\"#283442\"}},\"type\":\"scatter\"}],\"parcoords\":[{\"type\":\"parcoords\",\"line\":{\"colorbar\":{\"outlinewidth\":0,\"ticks\":\"\"}}}],\"scatterpolargl\":[{\"type\":\"scatterpolargl\",\"marker\":{\"colorbar\":{\"outlinewidth\":0,\"ticks\":\"\"}}}],\"bar\":[{\"error_x\":{\"color\":\"#f2f5fa\"},\"error_y\":{\"color\":\"#f2f5fa\"},\"marker\":{\"line\":{\"color\":\"rgb(17,17,17)\",\"width\":0.5},\"pattern\":{\"fillmode\":\"overlay\",\"size\":10,\"solidity\":0.2}},\"type\":\"bar\"}],\"scattergeo\":[{\"type\":\"scattergeo\",\"marker\":{\"colorbar\":{\"outlinewidth\":0,\"ticks\":\"\"}}}],\"scatterpolar\":[{\"type\":\"scatterpolar\",\"marker\":{\"colorbar\":{\"outlinewidth\":0,\"ticks\":\"\"}}}],\"histogram\":[{\"marker\":{\"pattern\":{\"fillmode\":\"overlay\",\"size\":10,\"solidity\":0.2}},\"type\":\"histogram\"}],\"scattergl\":[{\"marker\":{\"line\":{\"color\":\"#283442\"}},\"type\":\"scattergl\"}],\"scatter3d\":[{\"type\":\"scatter3d\",\"line\":{\"colorbar\":{\"outlinewidth\":0,\"ticks\":\"\"}},\"marker\":{\"colorbar\":{\"outlinewidth\":0,\"ticks\":\"\"}}}],\"scattermapbox\":[{\"type\":\"scattermapbox\",\"marker\":{\"colorbar\":{\"outlinewidth\":0,\"ticks\":\"\"}}}],\"scatterternary\":[{\"type\":\"scatterternary\",\"marker\":{\"colorbar\":{\"outlinewidth\":0,\"ticks\":\"\"}}}],\"scattercarpet\":[{\"type\":\"scattercarpet\",\"marker\":{\"colorbar\":{\"outlinewidth\":0,\"ticks\":\"\"}}}],\"carpet\":[{\"aaxis\":{\"endlinecolor\":\"#A2B1C6\",\"gridcolor\":\"#506784\",\"linecolor\":\"#506784\",\"minorgridcolor\":\"#506784\",\"startlinecolor\":\"#A2B1C6\"},\"baxis\":{\"endlinecolor\":\"#A2B1C6\",\"gridcolor\":\"#506784\",\"linecolor\":\"#506784\",\"minorgridcolor\":\"#506784\",\"startlinecolor\":\"#A2B1C6\"},\"type\":\"carpet\"}],\"table\":[{\"cells\":{\"fill\":{\"color\":\"#506784\"},\"line\":{\"color\":\"rgb(17,17,17)\"}},\"header\":{\"fill\":{\"color\":\"#2a3f5f\"},\"line\":{\"color\":\"rgb(17,17,17)\"}},\"type\":\"table\"}],\"barpolar\":[{\"marker\":{\"line\":{\"color\":\"rgb(17,17,17)\",\"width\":0.5},\"pattern\":{\"fillmode\":\"overlay\",\"size\":10,\"solidity\":0.2}},\"type\":\"barpolar\"}],\"pie\":[{\"automargin\":true,\"type\":\"pie\"}]},\"layout\":{\"autotypenumbers\":\"strict\",\"colorway\":[\"#636efa\",\"#EF553B\",\"#00cc96\",\"#ab63fa\",\"#FFA15A\",\"#19d3f3\",\"#FF6692\",\"#B6E880\",\"#FF97FF\",\"#FECB52\"],\"font\":{\"color\":\"#f2f5fa\"},\"hovermode\":\"closest\",\"hoverlabel\":{\"align\":\"left\"},\"paper_bgcolor\":\"rgb(17,17,17)\",\"plot_bgcolor\":\"rgb(17,17,17)\",\"polar\":{\"bgcolor\":\"rgb(17,17,17)\",\"angularaxis\":{\"gridcolor\":\"#506784\",\"linecolor\":\"#506784\",\"ticks\":\"\"},\"radialaxis\":{\"gridcolor\":\"#506784\",\"linecolor\":\"#506784\",\"ticks\":\"\"}},\"ternary\":{\"bgcolor\":\"rgb(17,17,17)\",\"aaxis\":{\"gridcolor\":\"#506784\",\"linecolor\":\"#506784\",\"ticks\":\"\"},\"baxis\":{\"gridcolor\":\"#506784\",\"linecolor\":\"#506784\",\"ticks\":\"\"},\"caxis\":{\"gridcolor\":\"#506784\",\"linecolor\":\"#506784\",\"ticks\":\"\"}},\"coloraxis\":{\"colorbar\":{\"outlinewidth\":0,\"ticks\":\"\"}},\"colorscale\":{\"sequential\":[[0.0,\"#0d0887\"],[0.1111111111111111,\"#46039f\"],[0.2222222222222222,\"#7201a8\"],[0.3333333333333333,\"#9c179e\"],[0.4444444444444444,\"#bd3786\"],[0.5555555555555556,\"#d8576b\"],[0.6666666666666666,\"#ed7953\"],[0.7777777777777778,\"#fb9f3a\"],[0.8888888888888888,\"#fdca26\"],[1.0,\"#f0f921\"]],\"sequentialminus\":[[0.0,\"#0d0887\"],[0.1111111111111111,\"#46039f\"],[0.2222222222222222,\"#7201a8\"],[0.3333333333333333,\"#9c179e\"],[0.4444444444444444,\"#bd3786\"],[0.5555555555555556,\"#d8576b\"],[0.6666666666666666,\"#ed7953\"],[0.7777777777777778,\"#fb9f3a\"],[0.8888888888888888,\"#fdca26\"],[1.0,\"#f0f921\"]],\"diverging\":[[0,\"#8e0152\"],[0.1,\"#c51b7d\"],[0.2,\"#de77ae\"],[0.3,\"#f1b6da\"],[0.4,\"#fde0ef\"],[0.5,\"#f7f7f7\"],[0.6,\"#e6f5d0\"],[0.7,\"#b8e186\"],[0.8,\"#7fbc41\"],[0.9,\"#4d9221\"],[1,\"#276419\"]]},\"xaxis\":{\"gridcolor\":\"#283442\",\"linecolor\":\"#506784\",\"ticks\":\"\",\"title\":{\"standoff\":15},\"zerolinecolor\":\"#283442\",\"automargin\":true,\"zerolinewidth\":2},\"yaxis\":{\"gridcolor\":\"#283442\",\"linecolor\":\"#506784\",\"ticks\":\"\",\"title\":{\"standoff\":15},\"zerolinecolor\":\"#283442\",\"automargin\":true,\"zerolinewidth\":2},\"scene\":{\"xaxis\":{\"backgroundcolor\":\"rgb(17,17,17)\",\"gridcolor\":\"#506784\",\"linecolor\":\"#506784\",\"showbackground\":true,\"ticks\":\"\",\"zerolinecolor\":\"#C8D4E3\",\"gridwidth\":2},\"yaxis\":{\"backgroundcolor\":\"rgb(17,17,17)\",\"gridcolor\":\"#506784\",\"linecolor\":\"#506784\",\"showbackground\":true,\"ticks\":\"\",\"zerolinecolor\":\"#C8D4E3\",\"gridwidth\":2},\"zaxis\":{\"backgroundcolor\":\"rgb(17,17,17)\",\"gridcolor\":\"#506784\",\"linecolor\":\"#506784\",\"showbackground\":true,\"ticks\":\"\",\"zerolinecolor\":\"#C8D4E3\",\"gridwidth\":2}},\"shapedefaults\":{\"line\":{\"color\":\"#f2f5fa\"}},\"annotationdefaults\":{\"arrowcolor\":\"#f2f5fa\",\"arrowhead\":0,\"arrowwidth\":1},\"geo\":{\"bgcolor\":\"rgb(17,17,17)\",\"landcolor\":\"rgb(17,17,17)\",\"subunitcolor\":\"#506784\",\"showland\":true,\"showlakes\":true,\"lakecolor\":\"rgb(17,17,17)\"},\"title\":{\"x\":0.05},\"updatemenudefaults\":{\"bgcolor\":\"#506784\",\"borderwidth\":0},\"sliderdefaults\":{\"bgcolor\":\"#C8D4E3\",\"borderwidth\":1,\"bordercolor\":\"rgb(17,17,17)\",\"tickwidth\":0},\"mapbox\":{\"style\":\"dark\"}}},\"xaxis\":{\"anchor\":\"y\",\"domain\":[0.0,1.0],\"title\":{\"text\":\"Time\"},\"showgrid\":true,\"gridcolor\":\"lightgray\",\"color\":\"white\"},\"yaxis\":{\"anchor\":\"x\",\"domain\":[0.0,1.0],\"title\":{\"text\":\"Machine\"},\"showgrid\":true,\"gridcolor\":\"lightgray\",\"color\":\"white\",\"categoryorder\":\"category ascending\"},\"legend\":{\"title\":{\"text\":\"Highlight\"},\"tracegroupgap\":0},\"title\":{\"text\":\"Job Shop Schedule - Disruption scenario for delayed entrance\",\"font\":{\"color\":\"white\"}},\"barmode\":\"relative\",\"font\":{\"color\":\"white\"},\"plot_bgcolor\":\"black\",\"paper_bgcolor\":\"black\",\"height\":750},                        {\"responsive\": true}                    ).then(function(){\n",
       "                            \n",
       "var gd = document.getElementById('65a2c0c6-7a6d-49ed-b6c2-ac0d222cb660');\n",
       "var x = new MutationObserver(function (mutations, observer) {{\n",
       "        var display = window.getComputedStyle(gd).display;\n",
       "        if (!display || display === 'none') {{\n",
       "            console.log([gd, 'removed!']);\n",
       "            Plotly.purge(gd);\n",
       "            observer.disconnect();\n",
       "        }}\n",
       "}});\n",
       "\n",
       "// Listen for the removal of the full notebook cells\n",
       "var notebookContainer = gd.closest('#notebook-container');\n",
       "if (notebookContainer) {{\n",
       "    x.observe(notebookContainer, {childList: true});\n",
       "}}\n",
       "\n",
       "// Listen for the clearing of the current output cell\n",
       "var outputEl = gd.closest('.output');\n",
       "if (outputEl) {{\n",
       "    x.observe(outputEl, {childList: true});\n",
       "}}\n",
       "\n",
       "                        })                };                });            </script>        </div>"
      ]
     },
     "metadata": {},
     "output_type": "display_data"
    }
   ],
   "execution_count": 35
  },
  {
   "metadata": {},
   "cell_type": "code",
   "outputs": [],
   "execution_count": null,
   "source": "",
   "id": "4167cb107b58a2f3"
  }
 ],
 "metadata": {
  "kernelspec": {
   "display_name": "Python 3",
   "language": "python",
   "name": "python3"
  },
  "language_info": {
   "codemirror_mode": {
    "name": "ipython",
    "version": 2
   },
   "file_extension": ".py",
   "mimetype": "text/x-python",
   "name": "python",
   "nbconvert_exporter": "python",
   "pygments_lexer": "ipython2",
   "version": "2.7.6"
  }
 },
 "nbformat": 4,
 "nbformat_minor": 5
}
